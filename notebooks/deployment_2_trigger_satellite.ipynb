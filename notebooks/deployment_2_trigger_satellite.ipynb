{
 "cells": [
  {
   "cell_type": "markdown",
   "id": "ce5509f2-30f5-479d-8f27-7d25e52801df",
   "metadata": {},
   "source": [
    "# Trigger Satellite Segmentation\n",
    "\n",
    "Description: Triggers satellite segmentation by going through crop db entries, fetching satellite image, adding arrow and triggering satellite segmentation + field point prediction.\n",
    "\n",
    "Author: Ivan Zvonkov\n",
    "\n",
    "Date: Nov 10, 2023\n"
   ]
  },
  {
   "cell_type": "code",
   "execution_count": 4,
   "id": "10d4ba78-4598-4446-a238-a511d311761f",
   "metadata": {},
   "outputs": [
    {
     "name": "stdout",
     "output_type": "stream",
     "text": [
      "Your browser has been opened to visit:\n",
      "\n",
      "    https://accounts.google.com/o/oauth2/auth?response_type=code&client_id=764086051850-6qr4p6gpi6hn506pt8ejuq83di341hur.apps.googleusercontent.com&redirect_uri=http%3A%2F%2Flocalhost%3A8085%2F&scope=openid+https%3A%2F%2Fwww.googleapis.com%2Fauth%2Fuserinfo.email+https%3A%2F%2Fwww.googleapis.com%2Fauth%2Fcloud-platform+https%3A%2F%2Fwww.googleapis.com%2Fauth%2Fsqlservice.login&state=RLFBNlVcbFdwB96PBh89C2LKDKv4I5&access_type=offline&code_challenge=cifg5cFMqKOkS_cPAFQIBIvYGMw_RIOmJVl-xjRWanE&code_challenge_method=S256\n",
      "\n",
      "\n",
      "Credentials saved to file: [/Users/izvonkov/.config/gcloud/application_default_credentials.json]\n",
      "\n",
      "These credentials will be used by any library that requests Application Default Credentials (ADC).\n",
      "\n",
      "Quota project \"bsos-geog-harvest1\" was added to ADC which can be used by Google client libraries for billing and quota. Note that some services may still bill the project owning the resource.\n"
     ]
    }
   ],
   "source": [
    "!gcloud auth application-default login"
   ]
  },
  {
   "cell_type": "code",
   "execution_count": 114,
   "id": "bedd3ab5-6566-472f-9b03-8a2af5dcb699",
   "metadata": {},
   "outputs": [],
   "source": [
    "import geopandas as gpd\n",
    "import pandas as pd\n",
    "import sys\n",
    "\n",
    "from google.cloud import firestore\n",
    "from tqdm import tqdm\n",
    "from pathlib import Path\n",
    "\n",
    "sys.path.append(\"..\")\n",
    "\n",
    "from gcp.get_satellite_img.main import hello_world"
   ]
  },
  {
   "cell_type": "code",
   "execution_count": 6,
   "id": "913d9071-e9c4-4a66-8da7-85e5fc48ac7b",
   "metadata": {},
   "outputs": [
    {
     "name": "stderr",
     "output_type": "stream",
     "text": [
      "/var/folders/1v/87y9n_d5143c_6cp072v3b1c0000gn/T/ipykernel_5087/2016021947.py:1: DtypeWarning: Columns (9,12,13,14,16,17) have mixed types. Specify dtype option on import or set low_memory=False.\n",
      "  df_all = pd.read_csv(\"../data/street2sat-v2.csv\")\n"
     ]
    }
   ],
   "source": [
    "df_all = pd.read_csv(\"../data/street2sat-v2.csv\")"
   ]
  },
  {
   "cell_type": "code",
   "execution_count": 13,
   "id": "6c5541c4-9247-411e-8660-6b57c51ed80d",
   "metadata": {},
   "outputs": [],
   "source": [
    "df_crops = df_all[df_all[\"is_crop\"] == True].copy()"
   ]
  },
  {
   "cell_type": "code",
   "execution_count": 14,
   "id": "4b9f9852-80fc-44f4-bd18-802032cc6526",
   "metadata": {},
   "outputs": [],
   "source": [
    "input_img_str_split = df_crops[\"input_img\"].str.split(\"/\")\n",
    "df_crops[\"country_folder\"] = input_img_str_split.str[3]\n",
    "df_crops[\"country_subfolder\"] = input_img_str_split.str[4]"
   ]
  },
  {
   "cell_type": "code",
   "execution_count": 15,
   "id": "cd1080af-e647-4ba3-88b3-98a94f33707a",
   "metadata": {},
   "outputs": [],
   "source": [
    "class MockRequest:\n",
    "    def __init__(self, request):\n",
    "        self.request_json = request\n",
    "    \n",
    "    def get_json(self, silent):\n",
    "        return self.request_json"
   ]
  },
  {
   "cell_type": "code",
   "execution_count": 17,
   "id": "b1e4ca83-6a13-46a1-96d0-eeedaae4b0ad",
   "metadata": {},
   "outputs": [
    {
     "data": {
      "text/plain": [
       "country_folder\n",
       "NIGERIA_v2             502615\n",
       "ZAMBIA_v2              254999\n",
       "Uganda_v2              252731\n",
       "KENYA_v2               143288\n",
       "USA_v2                  54253\n",
       "TANZANIA_v2             11130\n",
       "MPONGWE_v2               1021\n",
       "test_set                  695\n",
       "test_set_divided_v3       695\n",
       "test_set_divided_v2       200\n",
       "Name: count, dtype: int64"
      ]
     },
     "execution_count": 17,
     "metadata": {},
     "output_type": "execute_result"
    }
   ],
   "source": [
    "df_crops[\"country_folder\"].value_counts()"
   ]
  },
  {
   "cell_type": "code",
   "execution_count": 131,
   "id": "2667b0a5-134c-438d-a173-fd379e03127a",
   "metadata": {},
   "outputs": [
    {
     "data": {
      "text/plain": [
       "200"
      ]
     },
     "execution_count": 131,
     "metadata": {},
     "output_type": "execute_result"
    }
   ],
   "source": [
    "df_crops[\"input_img\"].str.endswith(\".THM\").sum()"
   ]
  },
  {
   "cell_type": "code",
   "execution_count": 151,
   "id": "309d3dab-137c-402a-a2cc-bc7d53b97e75",
   "metadata": {},
   "outputs": [],
   "source": [
    "country_df = df_crops[df_crops[\"country_folder\"] == \"USA_v2\"]"
   ]
  },
  {
   "cell_type": "code",
   "execution_count": 153,
   "id": "15ae2afb-133c-46ee-8c69-d064787451ac",
   "metadata": {},
   "outputs": [],
   "source": [
    "# Take only rows with no associated satellite image yet\n",
    "country_df = country_df[country_df[\"mapbox_img_source\"].isna() | country_df[\"bing_img_source\"].isna()]"
   ]
  },
  {
   "cell_type": "code",
   "execution_count": null,
   "id": "55efaa4d-329e-4f42-9917-73489c160da5",
   "metadata": {},
   "outputs": [
    {
     "name": "stderr",
     "output_type": "stream",
     "text": [
      "  0%|                                                  | 0/2000 [00:00<?, ?it/s]"
     ]
    },
    {
     "name": "stdout",
     "output_type": "stream",
     "text": [
      "Fetching from: https://api.mapbox.com/styles/v1/mapbox/satellite-v9/tiles/256/18/69646/98082?access_token=pk.eyJ1IjoiaXp2b25rb3YiLCJhIjoiY2t0YXU3MTE3MDJuNjJ1bW9xYzc3bTlrMCJ9.fiGLAZ29dmYv2sqlxuaB-A\n",
      "100% [............................................................] 6926 / 6926No photo found before to establish direction for USA_v2-2021-08-20-croptour-100GOPRO-G0013235\n",
      "Fetching from: http://ecn.t0.tiles.virtualearth.net/tiles/a030223222200201130.jpeg?g=14009\n",
      "100% [..........................................................] 13019 / 13019"
     ]
    },
    {
     "name": "stderr",
     "output_type": "stream",
     "text": [
      "  0%|                                        | 1/2000 [00:05<2:59:40,  5.39s/it]"
     ]
    },
    {
     "name": "stdout",
     "output_type": "stream",
     "text": [
      "No photo found before to establish direction for USA_v2-2021-08-20-croptour-100GOPRO-G0013235\n",
      "{'mapbox_fetched_img': True, 'mapbox_img': 'mapbox/69646/98082/18.jpg', 'mapbox_added_arrow': False, 'bing_fetched_img': True, 'bing_img': 'bing/69646/98082/18.jpg', 'bing_added_arrow': False}\n"
     ]
    },
    {
     "name": "stderr",
     "output_type": "stream",
     "text": [
      "  0%|                                        | 2/2000 [00:07<1:59:18,  3.58s/it]"
     ]
    },
    {
     "name": "stdout",
     "output_type": "stream",
     "text": [
      "{'mapbox_fetched_img': False, 'mapbox_img': 'mapbox/69646/98082/18.jpg', 'mapbox_added_arrow': True, 'bing_fetched_img': False, 'bing_img': 'bing/69646/98082/18.jpg', 'bing_added_arrow': True}\n"
     ]
    },
    {
     "name": "stderr",
     "output_type": "stream",
     "text": [
      "  0%|                                        | 3/2000 [00:09<1:39:08,  2.98s/it]"
     ]
    },
    {
     "name": "stdout",
     "output_type": "stream",
     "text": [
      "{'mapbox_fetched_img': False, 'mapbox_img': 'mapbox/69646/98082/18.jpg', 'mapbox_added_arrow': True, 'bing_fetched_img': False, 'bing_img': 'bing/69646/98082/18.jpg', 'bing_added_arrow': True}\n"
     ]
    },
    {
     "name": "stderr",
     "output_type": "stream",
     "text": [
      "  0%|                                        | 4/2000 [00:11<1:26:01,  2.59s/it]"
     ]
    },
    {
     "name": "stdout",
     "output_type": "stream",
     "text": [
      "{'mapbox_fetched_img': False, 'mapbox_img': 'mapbox/69646/98082/18.jpg', 'mapbox_added_arrow': True, 'bing_fetched_img': False, 'bing_img': 'bing/69646/98082/18.jpg', 'bing_added_arrow': True}\n"
     ]
    },
    {
     "name": "stderr",
     "output_type": "stream",
     "text": [
      "  0%|                                        | 5/2000 [00:13<1:18:35,  2.36s/it]"
     ]
    },
    {
     "name": "stdout",
     "output_type": "stream",
     "text": [
      "{'mapbox_fetched_img': False, 'mapbox_img': 'mapbox/69646/98082/18.jpg', 'mapbox_added_arrow': True, 'bing_fetched_img': False, 'bing_img': 'bing/69646/98082/18.jpg', 'bing_added_arrow': True}\n"
     ]
    },
    {
     "name": "stderr",
     "output_type": "stream",
     "text": [
      "  0%|                                        | 6/2000 [00:15<1:14:18,  2.24s/it]"
     ]
    },
    {
     "name": "stdout",
     "output_type": "stream",
     "text": [
      "{'mapbox_fetched_img': False, 'mapbox_img': 'mapbox/69646/98082/18.jpg', 'mapbox_added_arrow': True, 'bing_fetched_img': False, 'bing_img': 'bing/69646/98082/18.jpg', 'bing_added_arrow': True}\n"
     ]
    },
    {
     "name": "stderr",
     "output_type": "stream",
     "text": [
      "  0%|▏                                       | 7/2000 [00:17<1:11:30,  2.15s/it]"
     ]
    },
    {
     "name": "stdout",
     "output_type": "stream",
     "text": [
      "{'mapbox_fetched_img': False, 'mapbox_img': 'mapbox/69646/98082/18.jpg', 'mapbox_added_arrow': True, 'bing_fetched_img': False, 'bing_img': 'bing/69646/98082/18.jpg', 'bing_added_arrow': True}\n"
     ]
    },
    {
     "name": "stderr",
     "output_type": "stream",
     "text": [
      "  0%|▏                                       | 8/2000 [00:19<1:09:19,  2.09s/it]"
     ]
    },
    {
     "name": "stdout",
     "output_type": "stream",
     "text": [
      "{'mapbox_fetched_img': False, 'mapbox_img': 'mapbox/69646/98082/18.jpg', 'mapbox_added_arrow': True, 'bing_fetched_img': False, 'bing_img': 'bing/69646/98082/18.jpg', 'bing_added_arrow': True}\n"
     ]
    },
    {
     "name": "stderr",
     "output_type": "stream",
     "text": [
      "  0%|▏                                       | 9/2000 [00:21<1:06:50,  2.01s/it]"
     ]
    },
    {
     "name": "stdout",
     "output_type": "stream",
     "text": [
      "{'mapbox_fetched_img': False, 'mapbox_img': 'mapbox/69646/98082/18.jpg', 'mapbox_added_arrow': True, 'bing_fetched_img': False, 'bing_img': 'bing/69646/98082/18.jpg', 'bing_added_arrow': True}\n"
     ]
    },
    {
     "name": "stderr",
     "output_type": "stream",
     "text": [
      "  0%|▏                                      | 10/2000 [00:23<1:06:00,  1.99s/it]"
     ]
    },
    {
     "name": "stdout",
     "output_type": "stream",
     "text": [
      "{'mapbox_fetched_img': False, 'mapbox_img': 'mapbox/69646/98082/18.jpg', 'mapbox_added_arrow': True, 'bing_fetched_img': False, 'bing_img': 'bing/69646/98082/18.jpg', 'bing_added_arrow': True}\n"
     ]
    },
    {
     "name": "stderr",
     "output_type": "stream",
     "text": [
      "  1%|▏                                      | 11/2000 [00:25<1:05:48,  1.99s/it]"
     ]
    },
    {
     "name": "stdout",
     "output_type": "stream",
     "text": [
      "{'mapbox_fetched_img': False, 'mapbox_img': 'mapbox/69646/98082/18.jpg', 'mapbox_added_arrow': True, 'bing_fetched_img': False, 'bing_img': 'bing/69646/98082/18.jpg', 'bing_added_arrow': True}\n"
     ]
    },
    {
     "name": "stderr",
     "output_type": "stream",
     "text": [
      "  1%|▏                                      | 12/2000 [00:27<1:03:58,  1.93s/it]"
     ]
    },
    {
     "name": "stdout",
     "output_type": "stream",
     "text": [
      "{'mapbox_fetched_img': False, 'mapbox_img': 'mapbox/69646/98082/18.jpg', 'mapbox_added_arrow': True, 'bing_fetched_img': False, 'bing_img': 'bing/69646/98082/18.jpg', 'bing_added_arrow': True}\n"
     ]
    },
    {
     "name": "stderr",
     "output_type": "stream",
     "text": [
      "  1%|▎                                      | 13/2000 [00:29<1:04:14,  1.94s/it]"
     ]
    },
    {
     "name": "stdout",
     "output_type": "stream",
     "text": [
      "{'mapbox_fetched_img': False, 'mapbox_img': 'mapbox/69646/98082/18.jpg', 'mapbox_added_arrow': True, 'bing_fetched_img': False, 'bing_img': 'bing/69646/98082/18.jpg', 'bing_added_arrow': True}\n"
     ]
    },
    {
     "name": "stderr",
     "output_type": "stream",
     "text": [
      "  1%|▎                                      | 14/2000 [00:31<1:04:38,  1.95s/it]"
     ]
    },
    {
     "name": "stdout",
     "output_type": "stream",
     "text": [
      "{'mapbox_fetched_img': False, 'mapbox_img': 'mapbox/69646/98082/18.jpg', 'mapbox_added_arrow': True, 'bing_fetched_img': False, 'bing_img': 'bing/69646/98082/18.jpg', 'bing_added_arrow': True}\n"
     ]
    },
    {
     "name": "stderr",
     "output_type": "stream",
     "text": [
      "  1%|▎                                      | 15/2000 [00:33<1:03:34,  1.92s/it]"
     ]
    },
    {
     "name": "stdout",
     "output_type": "stream",
     "text": [
      "{'mapbox_fetched_img': False, 'mapbox_img': 'mapbox/69646/98082/18.jpg', 'mapbox_added_arrow': True, 'bing_fetched_img': False, 'bing_img': 'bing/69646/98082/18.jpg', 'bing_added_arrow': True}\n"
     ]
    },
    {
     "name": "stderr",
     "output_type": "stream",
     "text": [
      "  1%|▎                                      | 16/2000 [00:35<1:06:18,  2.01s/it]"
     ]
    },
    {
     "name": "stdout",
     "output_type": "stream",
     "text": [
      "{'mapbox_fetched_img': False, 'mapbox_img': 'mapbox/69646/98082/18.jpg', 'mapbox_added_arrow': True, 'bing_fetched_img': False, 'bing_img': 'bing/69646/98082/18.jpg', 'bing_added_arrow': True}\n"
     ]
    },
    {
     "name": "stderr",
     "output_type": "stream",
     "text": [
      "  1%|▎                                      | 17/2000 [00:37<1:07:32,  2.04s/it]"
     ]
    },
    {
     "name": "stdout",
     "output_type": "stream",
     "text": [
      "{'mapbox_fetched_img': False, 'mapbox_img': 'mapbox/69646/98082/18.jpg', 'mapbox_added_arrow': True, 'bing_fetched_img': False, 'bing_img': 'bing/69646/98082/18.jpg', 'bing_added_arrow': True}\n"
     ]
    },
    {
     "name": "stderr",
     "output_type": "stream",
     "text": [
      "  1%|▎                                      | 18/2000 [00:39<1:05:48,  1.99s/it]"
     ]
    },
    {
     "name": "stdout",
     "output_type": "stream",
     "text": [
      "{'mapbox_fetched_img': False, 'mapbox_img': 'mapbox/69646/98082/18.jpg', 'mapbox_added_arrow': True, 'bing_fetched_img': False, 'bing_img': 'bing/69646/98082/18.jpg', 'bing_added_arrow': True}\n"
     ]
    },
    {
     "name": "stderr",
     "output_type": "stream",
     "text": [
      "  1%|▎                                      | 19/2000 [00:41<1:04:58,  1.97s/it]"
     ]
    },
    {
     "name": "stdout",
     "output_type": "stream",
     "text": [
      "{'mapbox_fetched_img': False, 'mapbox_img': 'mapbox/69646/98082/18.jpg', 'mapbox_added_arrow': True, 'bing_fetched_img': False, 'bing_img': 'bing/69646/98082/18.jpg', 'bing_added_arrow': True}\n"
     ]
    },
    {
     "name": "stderr",
     "output_type": "stream",
     "text": [
      "  1%|▍                                      | 20/2000 [00:43<1:04:34,  1.96s/it]"
     ]
    },
    {
     "name": "stdout",
     "output_type": "stream",
     "text": [
      "{'mapbox_fetched_img': False, 'mapbox_img': 'mapbox/69646/98082/18.jpg', 'mapbox_added_arrow': True, 'bing_fetched_img': False, 'bing_img': 'bing/69646/98082/18.jpg', 'bing_added_arrow': True}\n"
     ]
    },
    {
     "name": "stderr",
     "output_type": "stream",
     "text": [
      "  1%|▍                                      | 21/2000 [00:45<1:06:08,  2.01s/it]"
     ]
    },
    {
     "name": "stdout",
     "output_type": "stream",
     "text": [
      "{'mapbox_fetched_img': False, 'mapbox_img': 'mapbox/69646/98082/18.jpg', 'mapbox_added_arrow': True, 'bing_fetched_img': False, 'bing_img': 'bing/69646/98082/18.jpg', 'bing_added_arrow': True}\n"
     ]
    },
    {
     "name": "stderr",
     "output_type": "stream",
     "text": [
      "  1%|▍                                      | 22/2000 [00:47<1:05:34,  1.99s/it]"
     ]
    },
    {
     "name": "stdout",
     "output_type": "stream",
     "text": [
      "{'mapbox_fetched_img': False, 'mapbox_img': 'mapbox/69646/98082/18.jpg', 'mapbox_added_arrow': True, 'bing_fetched_img': False, 'bing_img': 'bing/69646/98082/18.jpg', 'bing_added_arrow': True}\n"
     ]
    },
    {
     "name": "stderr",
     "output_type": "stream",
     "text": [
      "  1%|▍                                      | 23/2000 [00:49<1:05:39,  1.99s/it]"
     ]
    },
    {
     "name": "stdout",
     "output_type": "stream",
     "text": [
      "{'mapbox_fetched_img': False, 'mapbox_img': 'mapbox/69646/98082/18.jpg', 'mapbox_added_arrow': True, 'bing_fetched_img': False, 'bing_img': 'bing/69646/98082/18.jpg', 'bing_added_arrow': True}\n"
     ]
    },
    {
     "name": "stderr",
     "output_type": "stream",
     "text": [
      "  1%|▍                                      | 24/2000 [00:51<1:04:56,  1.97s/it]"
     ]
    },
    {
     "name": "stdout",
     "output_type": "stream",
     "text": [
      "{'mapbox_fetched_img': False, 'mapbox_img': 'mapbox/69646/98082/18.jpg', 'mapbox_added_arrow': True, 'bing_fetched_img': False, 'bing_img': 'bing/69646/98082/18.jpg', 'bing_added_arrow': True}\n"
     ]
    },
    {
     "name": "stderr",
     "output_type": "stream",
     "text": [
      "  1%|▍                                      | 25/2000 [00:53<1:03:36,  1.93s/it]"
     ]
    },
    {
     "name": "stdout",
     "output_type": "stream",
     "text": [
      "{'mapbox_fetched_img': False, 'mapbox_img': 'mapbox/69646/98082/18.jpg', 'mapbox_added_arrow': True, 'bing_fetched_img': False, 'bing_img': 'bing/69646/98082/18.jpg', 'bing_added_arrow': True}\n"
     ]
    },
    {
     "name": "stderr",
     "output_type": "stream",
     "text": [
      "  1%|▌                                      | 26/2000 [00:55<1:04:48,  1.97s/it]"
     ]
    },
    {
     "name": "stdout",
     "output_type": "stream",
     "text": [
      "{'mapbox_fetched_img': False, 'mapbox_img': 'mapbox/69646/98082/18.jpg', 'mapbox_added_arrow': True, 'bing_fetched_img': False, 'bing_img': 'bing/69646/98082/18.jpg', 'bing_added_arrow': True}\n"
     ]
    },
    {
     "name": "stderr",
     "output_type": "stream",
     "text": [
      "  1%|▌                                      | 27/2000 [00:57<1:04:41,  1.97s/it]"
     ]
    },
    {
     "name": "stdout",
     "output_type": "stream",
     "text": [
      "{'mapbox_fetched_img': False, 'mapbox_img': 'mapbox/69646/98082/18.jpg', 'mapbox_added_arrow': True, 'bing_fetched_img': False, 'bing_img': 'bing/69646/98082/18.jpg', 'bing_added_arrow': True}\n",
      "Fetching from: https://api.mapbox.com/styles/v1/mapbox/satellite-v9/tiles/256/18/69645/98082?access_token=pk.eyJ1IjoiaXp2b25rb3YiLCJhIjoiY2t0YXU3MTE3MDJuNjJ1bW9xYzc3bTlrMCJ9.fiGLAZ29dmYv2sqlxuaB-A\n",
      "100% [............................................................] 8622 / 8622Fetching from: http://ecn.t0.tiles.virtualearth.net/tiles/a030223222200201121.jpeg?g=14009\n",
      "100% [..........................................................] 13527 / 13527"
     ]
    },
    {
     "name": "stderr",
     "output_type": "stream",
     "text": [
      "  1%|▌                                      | 28/2000 [01:00<1:17:28,  2.36s/it]"
     ]
    },
    {
     "name": "stdout",
     "output_type": "stream",
     "text": [
      "{'mapbox_fetched_img': True, 'mapbox_img': 'mapbox/69645/98082/18.jpg', 'mapbox_added_arrow': True, 'bing_fetched_img': True, 'bing_img': 'bing/69645/98082/18.jpg', 'bing_added_arrow': True}\n"
     ]
    },
    {
     "name": "stderr",
     "output_type": "stream",
     "text": [
      "  1%|▌                                      | 29/2000 [01:02<1:14:18,  2.26s/it]"
     ]
    },
    {
     "name": "stdout",
     "output_type": "stream",
     "text": [
      "{'mapbox_fetched_img': False, 'mapbox_img': 'mapbox/69645/98082/18.jpg', 'mapbox_added_arrow': True, 'bing_fetched_img': False, 'bing_img': 'bing/69645/98082/18.jpg', 'bing_added_arrow': True}\n"
     ]
    },
    {
     "name": "stderr",
     "output_type": "stream",
     "text": [
      "  2%|▌                                      | 30/2000 [01:04<1:10:37,  2.15s/it]"
     ]
    },
    {
     "name": "stdout",
     "output_type": "stream",
     "text": [
      "{'mapbox_fetched_img': False, 'mapbox_img': 'mapbox/69645/98082/18.jpg', 'mapbox_added_arrow': True, 'bing_fetched_img': False, 'bing_img': 'bing/69645/98082/18.jpg', 'bing_added_arrow': True}\n"
     ]
    },
    {
     "name": "stderr",
     "output_type": "stream",
     "text": [
      "  2%|▌                                      | 31/2000 [01:06<1:09:04,  2.10s/it]"
     ]
    },
    {
     "name": "stdout",
     "output_type": "stream",
     "text": [
      "{'mapbox_fetched_img': False, 'mapbox_img': 'mapbox/69645/98082/18.jpg', 'mapbox_added_arrow': True, 'bing_fetched_img': False, 'bing_img': 'bing/69645/98082/18.jpg', 'bing_added_arrow': True}\n"
     ]
    },
    {
     "name": "stderr",
     "output_type": "stream",
     "text": [
      "  2%|▌                                      | 32/2000 [01:08<1:07:15,  2.05s/it]"
     ]
    },
    {
     "name": "stdout",
     "output_type": "stream",
     "text": [
      "{'mapbox_fetched_img': False, 'mapbox_img': 'mapbox/69645/98082/18.jpg', 'mapbox_added_arrow': True, 'bing_fetched_img': False, 'bing_img': 'bing/69645/98082/18.jpg', 'bing_added_arrow': True}\n"
     ]
    },
    {
     "name": "stderr",
     "output_type": "stream",
     "text": [
      "  2%|▋                                      | 33/2000 [01:10<1:04:54,  1.98s/it]"
     ]
    },
    {
     "name": "stdout",
     "output_type": "stream",
     "text": [
      "{'mapbox_fetched_img': False, 'mapbox_img': 'mapbox/69645/98082/18.jpg', 'mapbox_added_arrow': True, 'bing_fetched_img': False, 'bing_img': 'bing/69645/98082/18.jpg', 'bing_added_arrow': True}\n"
     ]
    },
    {
     "name": "stderr",
     "output_type": "stream",
     "text": [
      "  2%|▋                                      | 34/2000 [01:11<1:03:29,  1.94s/it]"
     ]
    },
    {
     "name": "stdout",
     "output_type": "stream",
     "text": [
      "{'mapbox_fetched_img': False, 'mapbox_img': 'mapbox/69645/98082/18.jpg', 'mapbox_added_arrow': True, 'bing_fetched_img': False, 'bing_img': 'bing/69645/98082/18.jpg', 'bing_added_arrow': True}\n"
     ]
    },
    {
     "name": "stderr",
     "output_type": "stream",
     "text": [
      "  2%|▋                                      | 35/2000 [01:13<1:02:58,  1.92s/it]"
     ]
    },
    {
     "name": "stdout",
     "output_type": "stream",
     "text": [
      "{'mapbox_fetched_img': False, 'mapbox_img': 'mapbox/69645/98082/18.jpg', 'mapbox_added_arrow': True, 'bing_fetched_img': False, 'bing_img': 'bing/69645/98082/18.jpg', 'bing_added_arrow': True}\n"
     ]
    },
    {
     "name": "stderr",
     "output_type": "stream",
     "text": [
      "  2%|▋                                      | 36/2000 [01:15<1:03:10,  1.93s/it]"
     ]
    },
    {
     "name": "stdout",
     "output_type": "stream",
     "text": [
      "{'mapbox_fetched_img': False, 'mapbox_img': 'mapbox/69645/98082/18.jpg', 'mapbox_added_arrow': True, 'bing_fetched_img': False, 'bing_img': 'bing/69645/98082/18.jpg', 'bing_added_arrow': True}\n"
     ]
    },
    {
     "name": "stderr",
     "output_type": "stream",
     "text": [
      "  2%|▋                                      | 37/2000 [01:17<1:02:33,  1.91s/it]"
     ]
    },
    {
     "name": "stdout",
     "output_type": "stream",
     "text": [
      "{'mapbox_fetched_img': False, 'mapbox_img': 'mapbox/69645/98082/18.jpg', 'mapbox_added_arrow': True, 'bing_fetched_img': False, 'bing_img': 'bing/69645/98082/18.jpg', 'bing_added_arrow': True}\n"
     ]
    },
    {
     "name": "stderr",
     "output_type": "stream",
     "text": [
      "  2%|▋                                      | 38/2000 [01:19<1:03:40,  1.95s/it]"
     ]
    },
    {
     "name": "stdout",
     "output_type": "stream",
     "text": [
      "{'mapbox_fetched_img': False, 'mapbox_img': 'mapbox/69645/98082/18.jpg', 'mapbox_added_arrow': True, 'bing_fetched_img': False, 'bing_img': 'bing/69645/98082/18.jpg', 'bing_added_arrow': True}\n"
     ]
    },
    {
     "name": "stderr",
     "output_type": "stream",
     "text": [
      "  2%|▊                                      | 39/2000 [01:21<1:03:44,  1.95s/it]"
     ]
    },
    {
     "name": "stdout",
     "output_type": "stream",
     "text": [
      "{'mapbox_fetched_img': False, 'mapbox_img': 'mapbox/69645/98082/18.jpg', 'mapbox_added_arrow': True, 'bing_fetched_img': False, 'bing_img': 'bing/69645/98082/18.jpg', 'bing_added_arrow': True}\n"
     ]
    },
    {
     "name": "stderr",
     "output_type": "stream",
     "text": [
      "  2%|▊                                      | 40/2000 [01:23<1:02:16,  1.91s/it]"
     ]
    },
    {
     "name": "stdout",
     "output_type": "stream",
     "text": [
      "{'mapbox_fetched_img': False, 'mapbox_img': 'mapbox/69645/98082/18.jpg', 'mapbox_added_arrow': True, 'bing_fetched_img': False, 'bing_img': 'bing/69645/98082/18.jpg', 'bing_added_arrow': True}\n",
      "Fetching from: https://api.mapbox.com/styles/v1/mapbox/satellite-v9/tiles/256/18/69644/98082?access_token=pk.eyJ1IjoiaXp2b25rb3YiLCJhIjoiY2t0YXU3MTE3MDJuNjJ1bW9xYzc3bTlrMCJ9.fiGLAZ29dmYv2sqlxuaB-A\n",
      "100% [............................................................] 9369 / 9369Fetching from: http://ecn.t0.tiles.virtualearth.net/tiles/a030223222200201120.jpeg?g=14009\n",
      "100% [..........................................................] 11324 / 11324"
     ]
    },
    {
     "name": "stderr",
     "output_type": "stream",
     "text": [
      "  2%|▊                                      | 41/2000 [01:26<1:13:38,  2.26s/it]"
     ]
    },
    {
     "name": "stdout",
     "output_type": "stream",
     "text": [
      "{'mapbox_fetched_img': True, 'mapbox_img': 'mapbox/69644/98082/18.jpg', 'mapbox_added_arrow': True, 'bing_fetched_img': True, 'bing_img': 'bing/69644/98082/18.jpg', 'bing_added_arrow': True}\n"
     ]
    },
    {
     "name": "stderr",
     "output_type": "stream",
     "text": [
      "  2%|▊                                      | 42/2000 [01:28<1:10:23,  2.16s/it]"
     ]
    },
    {
     "name": "stdout",
     "output_type": "stream",
     "text": [
      "{'mapbox_fetched_img': False, 'mapbox_img': 'mapbox/69644/98082/18.jpg', 'mapbox_added_arrow': True, 'bing_fetched_img': False, 'bing_img': 'bing/69644/98082/18.jpg', 'bing_added_arrow': True}\n"
     ]
    },
    {
     "name": "stderr",
     "output_type": "stream",
     "text": [
      "  2%|▊                                      | 43/2000 [01:30<1:07:19,  2.06s/it]"
     ]
    },
    {
     "name": "stdout",
     "output_type": "stream",
     "text": [
      "{'mapbox_fetched_img': False, 'mapbox_img': 'mapbox/69644/98082/18.jpg', 'mapbox_added_arrow': True, 'bing_fetched_img': False, 'bing_img': 'bing/69644/98082/18.jpg', 'bing_added_arrow': True}\n"
     ]
    },
    {
     "name": "stderr",
     "output_type": "stream",
     "text": [
      "  2%|▊                                      | 44/2000 [01:32<1:05:44,  2.02s/it]"
     ]
    },
    {
     "name": "stdout",
     "output_type": "stream",
     "text": [
      "{'mapbox_fetched_img': False, 'mapbox_img': 'mapbox/69644/98082/18.jpg', 'mapbox_added_arrow': True, 'bing_fetched_img': False, 'bing_img': 'bing/69644/98082/18.jpg', 'bing_added_arrow': True}\n"
     ]
    },
    {
     "name": "stderr",
     "output_type": "stream",
     "text": [
      "  2%|▉                                      | 45/2000 [01:33<1:03:47,  1.96s/it]"
     ]
    },
    {
     "name": "stdout",
     "output_type": "stream",
     "text": [
      "{'mapbox_fetched_img': False, 'mapbox_img': 'mapbox/69644/98082/18.jpg', 'mapbox_added_arrow': True, 'bing_fetched_img': False, 'bing_img': 'bing/69644/98082/18.jpg', 'bing_added_arrow': True}\n"
     ]
    },
    {
     "name": "stderr",
     "output_type": "stream",
     "text": [
      "  2%|▉                                      | 46/2000 [01:35<1:01:45,  1.90s/it]"
     ]
    },
    {
     "name": "stdout",
     "output_type": "stream",
     "text": [
      "{'mapbox_fetched_img': False, 'mapbox_img': 'mapbox/69644/98082/18.jpg', 'mapbox_added_arrow': True, 'bing_fetched_img': False, 'bing_img': 'bing/69644/98082/18.jpg', 'bing_added_arrow': True}\n"
     ]
    },
    {
     "name": "stderr",
     "output_type": "stream",
     "text": [
      "  2%|▉                                      | 47/2000 [01:37<1:00:46,  1.87s/it]"
     ]
    },
    {
     "name": "stdout",
     "output_type": "stream",
     "text": [
      "{'mapbox_fetched_img': False, 'mapbox_img': 'mapbox/69644/98082/18.jpg', 'mapbox_added_arrow': True, 'bing_fetched_img': False, 'bing_img': 'bing/69644/98082/18.jpg', 'bing_added_arrow': True}\n"
     ]
    },
    {
     "name": "stderr",
     "output_type": "stream",
     "text": [
      "  2%|▉                                      | 48/2000 [01:39<1:02:20,  1.92s/it]"
     ]
    },
    {
     "name": "stdout",
     "output_type": "stream",
     "text": [
      "{'mapbox_fetched_img': False, 'mapbox_img': 'mapbox/69644/98082/18.jpg', 'mapbox_added_arrow': True, 'bing_fetched_img': False, 'bing_img': 'bing/69644/98082/18.jpg', 'bing_added_arrow': True}\n"
     ]
    },
    {
     "name": "stderr",
     "output_type": "stream",
     "text": [
      "  2%|▉                                      | 49/2000 [01:41<1:01:48,  1.90s/it]"
     ]
    },
    {
     "name": "stdout",
     "output_type": "stream",
     "text": [
      "{'mapbox_fetched_img': False, 'mapbox_img': 'mapbox/69644/98082/18.jpg', 'mapbox_added_arrow': True, 'bing_fetched_img': False, 'bing_img': 'bing/69644/98082/18.jpg', 'bing_added_arrow': True}\n"
     ]
    },
    {
     "name": "stderr",
     "output_type": "stream",
     "text": [
      "  2%|▉                                      | 50/2000 [01:43<1:01:51,  1.90s/it]"
     ]
    },
    {
     "name": "stdout",
     "output_type": "stream",
     "text": [
      "{'mapbox_fetched_img': False, 'mapbox_img': 'mapbox/69644/98082/18.jpg', 'mapbox_added_arrow': True, 'bing_fetched_img': False, 'bing_img': 'bing/69644/98082/18.jpg', 'bing_added_arrow': True}\n"
     ]
    },
    {
     "name": "stderr",
     "output_type": "stream",
     "text": [
      "  3%|▉                                      | 51/2000 [01:45<1:00:57,  1.88s/it]"
     ]
    },
    {
     "name": "stdout",
     "output_type": "stream",
     "text": [
      "{'mapbox_fetched_img': False, 'mapbox_img': 'mapbox/69644/98082/18.jpg', 'mapbox_added_arrow': True, 'bing_fetched_img': False, 'bing_img': 'bing/69644/98082/18.jpg', 'bing_added_arrow': True}\n"
     ]
    },
    {
     "name": "stderr",
     "output_type": "stream",
     "text": [
      "  3%|█                                      | 52/2000 [01:47<1:02:16,  1.92s/it]"
     ]
    },
    {
     "name": "stdout",
     "output_type": "stream",
     "text": [
      "{'mapbox_fetched_img': False, 'mapbox_img': 'mapbox/69644/98082/18.jpg', 'mapbox_added_arrow': True, 'bing_fetched_img': False, 'bing_img': 'bing/69644/98082/18.jpg', 'bing_added_arrow': True}\n"
     ]
    },
    {
     "name": "stderr",
     "output_type": "stream",
     "text": [
      "  3%|█                                      | 53/2000 [01:49<1:04:23,  1.98s/it]"
     ]
    },
    {
     "name": "stdout",
     "output_type": "stream",
     "text": [
      "{'mapbox_fetched_img': False, 'mapbox_img': 'mapbox/69644/98082/18.jpg', 'mapbox_added_arrow': True, 'bing_fetched_img': False, 'bing_img': 'bing/69644/98082/18.jpg', 'bing_added_arrow': True}\n",
      "Fetching from: https://api.mapbox.com/styles/v1/mapbox/satellite-v9/tiles/256/18/69643/98082?access_token=pk.eyJ1IjoiaXp2b25rb3YiLCJhIjoiY2t0YXU3MTE3MDJuNjJ1bW9xYzc3bTlrMCJ9.fiGLAZ29dmYv2sqlxuaB-A\n",
      "100% [............................................................] 6789 / 6789No photo found before to establish direction for USA_v2-2021-08-20-croptour-100GOPRO-G0013301\n",
      "Fetching from: http://ecn.t0.tiles.virtualearth.net/tiles/a030223222200201031.jpeg?g=14009\n",
      "100% [............................................................] 9907 / 9907"
     ]
    },
    {
     "name": "stderr",
     "output_type": "stream",
     "text": [
      "  3%|█                                      | 54/2000 [01:52<1:12:14,  2.23s/it]"
     ]
    },
    {
     "name": "stdout",
     "output_type": "stream",
     "text": [
      "No photo found before to establish direction for USA_v2-2021-08-20-croptour-100GOPRO-G0013301\n",
      "{'mapbox_fetched_img': True, 'mapbox_img': 'mapbox/69643/98082/18.jpg', 'mapbox_added_arrow': False, 'bing_fetched_img': True, 'bing_img': 'bing/69643/98082/18.jpg', 'bing_added_arrow': False}\n"
     ]
    },
    {
     "name": "stderr",
     "output_type": "stream",
     "text": [
      "  3%|█                                      | 55/2000 [01:53<1:07:48,  2.09s/it]"
     ]
    },
    {
     "name": "stdout",
     "output_type": "stream",
     "text": [
      "{'mapbox_fetched_img': False, 'mapbox_img': 'mapbox/69643/98082/18.jpg', 'mapbox_added_arrow': True, 'bing_fetched_img': False, 'bing_img': 'bing/69643/98082/18.jpg', 'bing_added_arrow': True}\n"
     ]
    },
    {
     "name": "stderr",
     "output_type": "stream",
     "text": [
      "  3%|█                                      | 56/2000 [01:55<1:05:47,  2.03s/it]"
     ]
    },
    {
     "name": "stdout",
     "output_type": "stream",
     "text": [
      "{'mapbox_fetched_img': False, 'mapbox_img': 'mapbox/69643/98082/18.jpg', 'mapbox_added_arrow': True, 'bing_fetched_img': False, 'bing_img': 'bing/69643/98082/18.jpg', 'bing_added_arrow': True}\n"
     ]
    },
    {
     "name": "stderr",
     "output_type": "stream",
     "text": [
      "  3%|█                                      | 57/2000 [01:59<1:22:21,  2.54s/it]"
     ]
    },
    {
     "name": "stdout",
     "output_type": "stream",
     "text": [
      "{'mapbox_fetched_img': False, 'mapbox_img': 'mapbox/69643/98082/18.jpg', 'mapbox_added_arrow': True, 'bing_fetched_img': False, 'bing_img': 'bing/69643/98082/18.jpg', 'bing_added_arrow': True}\n"
     ]
    },
    {
     "name": "stderr",
     "output_type": "stream",
     "text": [
      "  3%|█▏                                     | 58/2000 [02:01<1:15:52,  2.34s/it]"
     ]
    },
    {
     "name": "stdout",
     "output_type": "stream",
     "text": [
      "{'mapbox_fetched_img': False, 'mapbox_img': 'mapbox/69643/98082/18.jpg', 'mapbox_added_arrow': True, 'bing_fetched_img': False, 'bing_img': 'bing/69643/98082/18.jpg', 'bing_added_arrow': True}\n"
     ]
    },
    {
     "name": "stderr",
     "output_type": "stream",
     "text": [
      "  3%|█▏                                     | 59/2000 [02:03<1:11:16,  2.20s/it]"
     ]
    },
    {
     "name": "stdout",
     "output_type": "stream",
     "text": [
      "{'mapbox_fetched_img': False, 'mapbox_img': 'mapbox/69643/98082/18.jpg', 'mapbox_added_arrow': True, 'bing_fetched_img': False, 'bing_img': 'bing/69643/98082/18.jpg', 'bing_added_arrow': True}\n"
     ]
    },
    {
     "name": "stderr",
     "output_type": "stream",
     "text": [
      "  3%|█▏                                     | 60/2000 [02:05<1:08:05,  2.11s/it]"
     ]
    },
    {
     "name": "stdout",
     "output_type": "stream",
     "text": [
      "{'mapbox_fetched_img': False, 'mapbox_img': 'mapbox/69643/98082/18.jpg', 'mapbox_added_arrow': True, 'bing_fetched_img': False, 'bing_img': 'bing/69643/98082/18.jpg', 'bing_added_arrow': True}\n"
     ]
    },
    {
     "name": "stderr",
     "output_type": "stream",
     "text": [
      "  3%|█▏                                     | 61/2000 [02:06<1:05:49,  2.04s/it]"
     ]
    },
    {
     "name": "stdout",
     "output_type": "stream",
     "text": [
      "{'mapbox_fetched_img': False, 'mapbox_img': 'mapbox/69643/98082/18.jpg', 'mapbox_added_arrow': True, 'bing_fetched_img': False, 'bing_img': 'bing/69643/98082/18.jpg', 'bing_added_arrow': True}\n"
     ]
    },
    {
     "name": "stderr",
     "output_type": "stream",
     "text": [
      "  3%|█▏                                     | 62/2000 [02:08<1:04:01,  1.98s/it]"
     ]
    },
    {
     "name": "stdout",
     "output_type": "stream",
     "text": [
      "{'mapbox_fetched_img': False, 'mapbox_img': 'mapbox/69643/98082/18.jpg', 'mapbox_added_arrow': True, 'bing_fetched_img': False, 'bing_img': 'bing/69643/98082/18.jpg', 'bing_added_arrow': True}\n"
     ]
    },
    {
     "name": "stderr",
     "output_type": "stream",
     "text": [
      "  3%|█▏                                     | 63/2000 [02:10<1:02:42,  1.94s/it]"
     ]
    },
    {
     "name": "stdout",
     "output_type": "stream",
     "text": [
      "{'mapbox_fetched_img': False, 'mapbox_img': 'mapbox/69643/98082/18.jpg', 'mapbox_added_arrow': True, 'bing_fetched_img': False, 'bing_img': 'bing/69643/98082/18.jpg', 'bing_added_arrow': True}\n"
     ]
    },
    {
     "name": "stderr",
     "output_type": "stream",
     "text": [
      "  3%|█▏                                     | 64/2000 [02:12<1:03:30,  1.97s/it]"
     ]
    },
    {
     "name": "stdout",
     "output_type": "stream",
     "text": [
      "{'mapbox_fetched_img': False, 'mapbox_img': 'mapbox/69643/98082/18.jpg', 'mapbox_added_arrow': True, 'bing_fetched_img': False, 'bing_img': 'bing/69643/98082/18.jpg', 'bing_added_arrow': True}\n"
     ]
    },
    {
     "name": "stderr",
     "output_type": "stream",
     "text": [
      "  3%|█▎                                     | 65/2000 [02:14<1:02:43,  1.94s/it]"
     ]
    },
    {
     "name": "stdout",
     "output_type": "stream",
     "text": [
      "{'mapbox_fetched_img': False, 'mapbox_img': 'mapbox/69643/98082/18.jpg', 'mapbox_added_arrow': True, 'bing_fetched_img': False, 'bing_img': 'bing/69643/98082/18.jpg', 'bing_added_arrow': True}\n"
     ]
    },
    {
     "name": "stderr",
     "output_type": "stream",
     "text": [
      "  3%|█▎                                     | 66/2000 [02:16<1:02:39,  1.94s/it]"
     ]
    },
    {
     "name": "stdout",
     "output_type": "stream",
     "text": [
      "{'mapbox_fetched_img': False, 'mapbox_img': 'mapbox/69643/98082/18.jpg', 'mapbox_added_arrow': True, 'bing_fetched_img': False, 'bing_img': 'bing/69643/98082/18.jpg', 'bing_added_arrow': True}\n"
     ]
    },
    {
     "name": "stderr",
     "output_type": "stream",
     "text": [
      "  3%|█▎                                     | 67/2000 [02:18<1:00:46,  1.89s/it]"
     ]
    },
    {
     "name": "stdout",
     "output_type": "stream",
     "text": [
      "{'mapbox_fetched_img': False, 'mapbox_img': 'mapbox/69643/98082/18.jpg', 'mapbox_added_arrow': True, 'bing_fetched_img': False, 'bing_img': 'bing/69643/98082/18.jpg', 'bing_added_arrow': True}\n"
     ]
    },
    {
     "name": "stderr",
     "output_type": "stream",
     "text": [
      "  3%|█▎                                     | 68/2000 [02:20<1:00:33,  1.88s/it]"
     ]
    },
    {
     "name": "stdout",
     "output_type": "stream",
     "text": [
      "{'mapbox_fetched_img': False, 'mapbox_img': 'mapbox/69643/98082/18.jpg', 'mapbox_added_arrow': True, 'bing_fetched_img': False, 'bing_img': 'bing/69643/98082/18.jpg', 'bing_added_arrow': True}\n",
      "Fetching from: https://api.mapbox.com/styles/v1/mapbox/satellite-v9/tiles/256/18/69642/98082?access_token=pk.eyJ1IjoiaXp2b25rb3YiLCJhIjoiY2t0YXU3MTE3MDJuNjJ1bW9xYzc3bTlrMCJ9.fiGLAZ29dmYv2sqlxuaB-A\n",
      "100% [............................................................] 7888 / 7888Fetching from: http://ecn.t0.tiles.virtualearth.net/tiles/a030223222200201030.jpeg?g=14009\n",
      "100% [..........................................................] 11143 / 11143"
     ]
    },
    {
     "name": "stderr",
     "output_type": "stream",
     "text": [
      "  3%|█▎                                     | 69/2000 [02:23<1:18:26,  2.44s/it]"
     ]
    },
    {
     "name": "stdout",
     "output_type": "stream",
     "text": [
      "{'mapbox_fetched_img': True, 'mapbox_img': 'mapbox/69642/98082/18.jpg', 'mapbox_added_arrow': True, 'bing_fetched_img': True, 'bing_img': 'bing/69642/98082/18.jpg', 'bing_added_arrow': True}\n"
     ]
    },
    {
     "name": "stderr",
     "output_type": "stream",
     "text": [
      "  4%|█▎                                     | 70/2000 [02:25<1:15:08,  2.34s/it]"
     ]
    },
    {
     "name": "stdout",
     "output_type": "stream",
     "text": [
      "{'mapbox_fetched_img': False, 'mapbox_img': 'mapbox/69642/98082/18.jpg', 'mapbox_added_arrow': True, 'bing_fetched_img': False, 'bing_img': 'bing/69642/98082/18.jpg', 'bing_added_arrow': True}\n"
     ]
    },
    {
     "name": "stderr",
     "output_type": "stream",
     "text": [
      "  4%|█▍                                     | 71/2000 [02:28<1:17:14,  2.40s/it]"
     ]
    },
    {
     "name": "stdout",
     "output_type": "stream",
     "text": [
      "{'mapbox_fetched_img': False, 'mapbox_img': 'mapbox/69642/98082/18.jpg', 'mapbox_added_arrow': True, 'bing_fetched_img': False, 'bing_img': 'bing/69642/98082/18.jpg', 'bing_added_arrow': True}\n"
     ]
    },
    {
     "name": "stderr",
     "output_type": "stream",
     "text": [
      "  4%|█▍                                     | 72/2000 [02:30<1:13:49,  2.30s/it]"
     ]
    },
    {
     "name": "stdout",
     "output_type": "stream",
     "text": [
      "{'mapbox_fetched_img': False, 'mapbox_img': 'mapbox/69642/98082/18.jpg', 'mapbox_added_arrow': True, 'bing_fetched_img': False, 'bing_img': 'bing/69642/98082/18.jpg', 'bing_added_arrow': True}\n"
     ]
    },
    {
     "name": "stderr",
     "output_type": "stream",
     "text": [
      "  4%|█▍                                     | 73/2000 [02:32<1:10:29,  2.19s/it]"
     ]
    },
    {
     "name": "stdout",
     "output_type": "stream",
     "text": [
      "{'mapbox_fetched_img': False, 'mapbox_img': 'mapbox/69642/98082/18.jpg', 'mapbox_added_arrow': True, 'bing_fetched_img': False, 'bing_img': 'bing/69642/98082/18.jpg', 'bing_added_arrow': True}\n"
     ]
    },
    {
     "name": "stderr",
     "output_type": "stream",
     "text": [
      "  4%|█▍                                     | 74/2000 [02:34<1:10:01,  2.18s/it]"
     ]
    },
    {
     "name": "stdout",
     "output_type": "stream",
     "text": [
      "{'mapbox_fetched_img': False, 'mapbox_img': 'mapbox/69642/98082/18.jpg', 'mapbox_added_arrow': True, 'bing_fetched_img': False, 'bing_img': 'bing/69642/98082/18.jpg', 'bing_added_arrow': True}\n"
     ]
    },
    {
     "name": "stderr",
     "output_type": "stream",
     "text": [
      "  4%|█▍                                     | 75/2000 [02:36<1:09:30,  2.17s/it]"
     ]
    },
    {
     "name": "stdout",
     "output_type": "stream",
     "text": [
      "{'mapbox_fetched_img': False, 'mapbox_img': 'mapbox/69642/98082/18.jpg', 'mapbox_added_arrow': True, 'bing_fetched_img': False, 'bing_img': 'bing/69642/98082/18.jpg', 'bing_added_arrow': True}\n"
     ]
    },
    {
     "name": "stderr",
     "output_type": "stream",
     "text": [
      "  4%|█▍                                     | 76/2000 [02:38<1:06:24,  2.07s/it]"
     ]
    },
    {
     "name": "stdout",
     "output_type": "stream",
     "text": [
      "{'mapbox_fetched_img': False, 'mapbox_img': 'mapbox/69642/98082/18.jpg', 'mapbox_added_arrow': True, 'bing_fetched_img': False, 'bing_img': 'bing/69642/98082/18.jpg', 'bing_added_arrow': True}\n"
     ]
    },
    {
     "name": "stderr",
     "output_type": "stream",
     "text": [
      "  4%|█▌                                     | 77/2000 [02:40<1:04:06,  2.00s/it]"
     ]
    },
    {
     "name": "stdout",
     "output_type": "stream",
     "text": [
      "{'mapbox_fetched_img': False, 'mapbox_img': 'mapbox/69642/98082/18.jpg', 'mapbox_added_arrow': True, 'bing_fetched_img': False, 'bing_img': 'bing/69642/98082/18.jpg', 'bing_added_arrow': True}\n"
     ]
    },
    {
     "name": "stderr",
     "output_type": "stream",
     "text": [
      "  4%|█▌                                     | 78/2000 [02:42<1:02:53,  1.96s/it]"
     ]
    },
    {
     "name": "stdout",
     "output_type": "stream",
     "text": [
      "{'mapbox_fetched_img': False, 'mapbox_img': 'mapbox/69642/98082/18.jpg', 'mapbox_added_arrow': True, 'bing_fetched_img': False, 'bing_img': 'bing/69642/98082/18.jpg', 'bing_added_arrow': True}\n"
     ]
    },
    {
     "name": "stderr",
     "output_type": "stream",
     "text": [
      "  4%|█▌                                     | 79/2000 [02:44<1:07:56,  2.12s/it]"
     ]
    },
    {
     "name": "stdout",
     "output_type": "stream",
     "text": [
      "{'mapbox_fetched_img': False, 'mapbox_img': 'mapbox/69642/98082/18.jpg', 'mapbox_added_arrow': True, 'bing_fetched_img': False, 'bing_img': 'bing/69642/98082/18.jpg', 'bing_added_arrow': True}\n"
     ]
    },
    {
     "name": "stderr",
     "output_type": "stream",
     "text": [
      "  4%|█▌                                     | 80/2000 [02:46<1:06:05,  2.07s/it]"
     ]
    },
    {
     "name": "stdout",
     "output_type": "stream",
     "text": [
      "{'mapbox_fetched_img': False, 'mapbox_img': 'mapbox/69642/98082/18.jpg', 'mapbox_added_arrow': True, 'bing_fetched_img': False, 'bing_img': 'bing/69642/98082/18.jpg', 'bing_added_arrow': True}\n"
     ]
    },
    {
     "name": "stderr",
     "output_type": "stream",
     "text": [
      "  4%|█▌                                     | 81/2000 [02:49<1:08:45,  2.15s/it]"
     ]
    },
    {
     "name": "stdout",
     "output_type": "stream",
     "text": [
      "{'mapbox_fetched_img': False, 'mapbox_img': 'mapbox/69642/98082/18.jpg', 'mapbox_added_arrow': True, 'bing_fetched_img': False, 'bing_img': 'bing/69642/98082/18.jpg', 'bing_added_arrow': True}\n"
     ]
    },
    {
     "name": "stderr",
     "output_type": "stream",
     "text": [
      "  4%|█▌                                     | 82/2000 [02:51<1:06:32,  2.08s/it]"
     ]
    },
    {
     "name": "stdout",
     "output_type": "stream",
     "text": [
      "{'mapbox_fetched_img': False, 'mapbox_img': 'mapbox/69642/98082/18.jpg', 'mapbox_added_arrow': True, 'bing_fetched_img': False, 'bing_img': 'bing/69642/98082/18.jpg', 'bing_added_arrow': True}\n"
     ]
    },
    {
     "name": "stderr",
     "output_type": "stream",
     "text": [
      "  4%|█▌                                     | 83/2000 [02:53<1:08:05,  2.13s/it]"
     ]
    },
    {
     "name": "stdout",
     "output_type": "stream",
     "text": [
      "{'mapbox_fetched_img': False, 'mapbox_img': 'mapbox/69642/98082/18.jpg', 'mapbox_added_arrow': True, 'bing_fetched_img': False, 'bing_img': 'bing/69642/98082/18.jpg', 'bing_added_arrow': True}\n"
     ]
    },
    {
     "name": "stderr",
     "output_type": "stream",
     "text": [
      "  4%|█▋                                     | 84/2000 [02:55<1:06:22,  2.08s/it]"
     ]
    },
    {
     "name": "stdout",
     "output_type": "stream",
     "text": [
      "{'mapbox_fetched_img': False, 'mapbox_img': 'mapbox/69642/98082/18.jpg', 'mapbox_added_arrow': True, 'bing_fetched_img': False, 'bing_img': 'bing/69642/98082/18.jpg', 'bing_added_arrow': True}\n"
     ]
    },
    {
     "name": "stderr",
     "output_type": "stream",
     "text": [
      "  4%|█▋                                     | 85/2000 [02:57<1:05:09,  2.04s/it]"
     ]
    },
    {
     "name": "stdout",
     "output_type": "stream",
     "text": [
      "{'mapbox_fetched_img': False, 'mapbox_img': 'mapbox/69642/98082/18.jpg', 'mapbox_added_arrow': True, 'bing_fetched_img': False, 'bing_img': 'bing/69642/98082/18.jpg', 'bing_added_arrow': True}\n"
     ]
    },
    {
     "name": "stderr",
     "output_type": "stream",
     "text": [
      "  4%|█▋                                     | 86/2000 [02:59<1:04:17,  2.02s/it]"
     ]
    },
    {
     "name": "stdout",
     "output_type": "stream",
     "text": [
      "{'mapbox_fetched_img': False, 'mapbox_img': 'mapbox/69642/98082/18.jpg', 'mapbox_added_arrow': True, 'bing_fetched_img': False, 'bing_img': 'bing/69642/98082/18.jpg', 'bing_added_arrow': True}\n"
     ]
    },
    {
     "name": "stderr",
     "output_type": "stream",
     "text": [
      "  4%|█▋                                     | 87/2000 [03:00<1:01:31,  1.93s/it]"
     ]
    },
    {
     "name": "stdout",
     "output_type": "stream",
     "text": [
      "{'mapbox_fetched_img': False, 'mapbox_img': 'mapbox/69642/98082/18.jpg', 'mapbox_added_arrow': True, 'bing_fetched_img': False, 'bing_img': 'bing/69642/98082/18.jpg', 'bing_added_arrow': True}\n"
     ]
    },
    {
     "name": "stderr",
     "output_type": "stream",
     "text": [
      "  4%|█▋                                     | 88/2000 [03:02<1:00:20,  1.89s/it]"
     ]
    },
    {
     "name": "stdout",
     "output_type": "stream",
     "text": [
      "{'mapbox_fetched_img': False, 'mapbox_img': 'mapbox/69642/98082/18.jpg', 'mapbox_added_arrow': True, 'bing_fetched_img': False, 'bing_img': 'bing/69642/98082/18.jpg', 'bing_added_arrow': True}\n"
     ]
    },
    {
     "name": "stderr",
     "output_type": "stream",
     "text": [
      "  4%|█▊                                       | 89/2000 [03:04<59:08,  1.86s/it]"
     ]
    },
    {
     "name": "stdout",
     "output_type": "stream",
     "text": [
      "{'mapbox_fetched_img': False, 'mapbox_img': 'mapbox/69642/98082/18.jpg', 'mapbox_added_arrow': True, 'bing_fetched_img': False, 'bing_img': 'bing/69642/98082/18.jpg', 'bing_added_arrow': True}\n"
     ]
    },
    {
     "name": "stderr",
     "output_type": "stream",
     "text": [
      "  4%|█▊                                       | 90/2000 [03:06<58:35,  1.84s/it]"
     ]
    },
    {
     "name": "stdout",
     "output_type": "stream",
     "text": [
      "{'mapbox_fetched_img': False, 'mapbox_img': 'mapbox/69642/98082/18.jpg', 'mapbox_added_arrow': True, 'bing_fetched_img': False, 'bing_img': 'bing/69642/98082/18.jpg', 'bing_added_arrow': True}\n"
     ]
    },
    {
     "name": "stderr",
     "output_type": "stream",
     "text": [
      "  5%|█▊                                       | 91/2000 [03:08<58:11,  1.83s/it]"
     ]
    },
    {
     "name": "stdout",
     "output_type": "stream",
     "text": [
      "{'mapbox_fetched_img': False, 'mapbox_img': 'mapbox/69642/98082/18.jpg', 'mapbox_added_arrow': True, 'bing_fetched_img': False, 'bing_img': 'bing/69642/98082/18.jpg', 'bing_added_arrow': True}\n"
     ]
    },
    {
     "name": "stderr",
     "output_type": "stream",
     "text": [
      "  5%|█▉                                       | 92/2000 [03:09<57:52,  1.82s/it]"
     ]
    },
    {
     "name": "stdout",
     "output_type": "stream",
     "text": [
      "{'mapbox_fetched_img': False, 'mapbox_img': 'mapbox/69642/98082/18.jpg', 'mapbox_added_arrow': True, 'bing_fetched_img': False, 'bing_img': 'bing/69642/98082/18.jpg', 'bing_added_arrow': True}\n"
     ]
    },
    {
     "name": "stderr",
     "output_type": "stream",
     "text": [
      "  5%|█▉                                       | 93/2000 [03:11<56:49,  1.79s/it]"
     ]
    },
    {
     "name": "stdout",
     "output_type": "stream",
     "text": [
      "{'mapbox_fetched_img': False, 'mapbox_img': 'mapbox/69642/98082/18.jpg', 'mapbox_added_arrow': True, 'bing_fetched_img': False, 'bing_img': 'bing/69642/98082/18.jpg', 'bing_added_arrow': True}\n"
     ]
    },
    {
     "name": "stderr",
     "output_type": "stream",
     "text": [
      "  5%|█▉                                       | 94/2000 [03:13<56:40,  1.78s/it]"
     ]
    },
    {
     "name": "stdout",
     "output_type": "stream",
     "text": [
      "{'mapbox_fetched_img': False, 'mapbox_img': 'mapbox/69642/98082/18.jpg', 'mapbox_added_arrow': True, 'bing_fetched_img': False, 'bing_img': 'bing/69642/98082/18.jpg', 'bing_added_arrow': True}\n"
     ]
    },
    {
     "name": "stderr",
     "output_type": "stream",
     "text": [
      "  5%|█▉                                       | 95/2000 [03:15<56:48,  1.79s/it]"
     ]
    },
    {
     "name": "stdout",
     "output_type": "stream",
     "text": [
      "{'mapbox_fetched_img': False, 'mapbox_img': 'mapbox/69642/98082/18.jpg', 'mapbox_added_arrow': True, 'bing_fetched_img': False, 'bing_img': 'bing/69642/98082/18.jpg', 'bing_added_arrow': True}\n"
     ]
    },
    {
     "name": "stderr",
     "output_type": "stream",
     "text": [
      "  5%|█▊                                     | 96/2000 [03:17<1:00:17,  1.90s/it]"
     ]
    },
    {
     "name": "stdout",
     "output_type": "stream",
     "text": [
      "{'mapbox_fetched_img': False, 'mapbox_img': 'mapbox/69642/98082/18.jpg', 'mapbox_added_arrow': True, 'bing_fetched_img': False, 'bing_img': 'bing/69642/98082/18.jpg', 'bing_added_arrow': True}\n"
     ]
    },
    {
     "name": "stderr",
     "output_type": "stream",
     "text": [
      "  5%|█▉                                     | 97/2000 [03:19<1:00:12,  1.90s/it]"
     ]
    },
    {
     "name": "stdout",
     "output_type": "stream",
     "text": [
      "{'mapbox_fetched_img': False, 'mapbox_img': 'mapbox/69642/98082/18.jpg', 'mapbox_added_arrow': True, 'bing_fetched_img': False, 'bing_img': 'bing/69642/98082/18.jpg', 'bing_added_arrow': True}\n"
     ]
    },
    {
     "name": "stderr",
     "output_type": "stream",
     "text": [
      "  5%|██                                       | 98/2000 [03:21<59:40,  1.88s/it]"
     ]
    },
    {
     "name": "stdout",
     "output_type": "stream",
     "text": [
      "{'mapbox_fetched_img': False, 'mapbox_img': 'mapbox/69642/98082/18.jpg', 'mapbox_added_arrow': True, 'bing_fetched_img': False, 'bing_img': 'bing/69642/98082/18.jpg', 'bing_added_arrow': True}\n",
      "Fetching from: https://api.mapbox.com/styles/v1/mapbox/satellite-v9/tiles/256/18/69642/98083?access_token=pk.eyJ1IjoiaXp2b25rb3YiLCJhIjoiY2t0YXU3MTE3MDJuNjJ1bW9xYzc3bTlrMCJ9.fiGLAZ29dmYv2sqlxuaB-A\n",
      "100% [............................................................] 6275 / 6275Fetching from: http://ecn.t0.tiles.virtualearth.net/tiles/a030223222200201032.jpeg?g=14009\n",
      "100% [..........................................................] 10544 / 10544"
     ]
    },
    {
     "name": "stderr",
     "output_type": "stream",
     "text": [
      "  5%|█▉                                     | 99/2000 [03:24<1:10:48,  2.23s/it]"
     ]
    },
    {
     "name": "stdout",
     "output_type": "stream",
     "text": [
      "{'mapbox_fetched_img': True, 'mapbox_img': 'mapbox/69642/98083/18.jpg', 'mapbox_added_arrow': True, 'bing_fetched_img': True, 'bing_img': 'bing/69642/98083/18.jpg', 'bing_added_arrow': True}\n"
     ]
    },
    {
     "name": "stderr",
     "output_type": "stream",
     "text": [
      "  5%|█▉                                    | 100/2000 [03:25<1:06:54,  2.11s/it]"
     ]
    },
    {
     "name": "stdout",
     "output_type": "stream",
     "text": [
      "{'mapbox_fetched_img': False, 'mapbox_img': 'mapbox/69642/98083/18.jpg', 'mapbox_added_arrow': True, 'bing_fetched_img': False, 'bing_img': 'bing/69642/98083/18.jpg', 'bing_added_arrow': True}\n"
     ]
    },
    {
     "name": "stderr",
     "output_type": "stream",
     "text": [
      "  5%|█▉                                    | 101/2000 [03:28<1:06:47,  2.11s/it]"
     ]
    },
    {
     "name": "stdout",
     "output_type": "stream",
     "text": [
      "{'mapbox_fetched_img': False, 'mapbox_img': 'mapbox/69642/98083/18.jpg', 'mapbox_added_arrow': True, 'bing_fetched_img': False, 'bing_img': 'bing/69642/98083/18.jpg', 'bing_added_arrow': True}\n"
     ]
    },
    {
     "name": "stderr",
     "output_type": "stream",
     "text": [
      "  5%|█▉                                    | 102/2000 [03:30<1:09:20,  2.19s/it]"
     ]
    },
    {
     "name": "stdout",
     "output_type": "stream",
     "text": [
      "{'mapbox_fetched_img': False, 'mapbox_img': 'mapbox/69642/98083/18.jpg', 'mapbox_added_arrow': True, 'bing_fetched_img': False, 'bing_img': 'bing/69642/98083/18.jpg', 'bing_added_arrow': True}\n"
     ]
    },
    {
     "name": "stderr",
     "output_type": "stream",
     "text": [
      "  5%|█▉                                    | 103/2000 [03:32<1:10:09,  2.22s/it]"
     ]
    },
    {
     "name": "stdout",
     "output_type": "stream",
     "text": [
      "{'mapbox_fetched_img': False, 'mapbox_img': 'mapbox/69642/98083/18.jpg', 'mapbox_added_arrow': True, 'bing_fetched_img': False, 'bing_img': 'bing/69642/98083/18.jpg', 'bing_added_arrow': True}\n"
     ]
    },
    {
     "name": "stderr",
     "output_type": "stream",
     "text": [
      "  5%|█▉                                    | 104/2000 [03:34<1:08:54,  2.18s/it]"
     ]
    },
    {
     "name": "stdout",
     "output_type": "stream",
     "text": [
      "{'mapbox_fetched_img': False, 'mapbox_img': 'mapbox/69642/98083/18.jpg', 'mapbox_added_arrow': True, 'bing_fetched_img': False, 'bing_img': 'bing/69642/98083/18.jpg', 'bing_added_arrow': True}\n"
     ]
    },
    {
     "name": "stderr",
     "output_type": "stream",
     "text": [
      "  5%|█▉                                    | 105/2000 [03:36<1:05:06,  2.06s/it]"
     ]
    },
    {
     "name": "stdout",
     "output_type": "stream",
     "text": [
      "{'mapbox_fetched_img': False, 'mapbox_img': 'mapbox/69642/98083/18.jpg', 'mapbox_added_arrow': True, 'bing_fetched_img': False, 'bing_img': 'bing/69642/98083/18.jpg', 'bing_added_arrow': True}\n"
     ]
    },
    {
     "name": "stderr",
     "output_type": "stream",
     "text": [
      "  5%|██                                    | 106/2000 [03:38<1:03:32,  2.01s/it]"
     ]
    },
    {
     "name": "stdout",
     "output_type": "stream",
     "text": [
      "{'mapbox_fetched_img': False, 'mapbox_img': 'mapbox/69642/98083/18.jpg', 'mapbox_added_arrow': True, 'bing_fetched_img': False, 'bing_img': 'bing/69642/98083/18.jpg', 'bing_added_arrow': True}\n"
     ]
    },
    {
     "name": "stderr",
     "output_type": "stream",
     "text": [
      "  5%|██                                    | 107/2000 [03:40<1:03:31,  2.01s/it]"
     ]
    },
    {
     "name": "stdout",
     "output_type": "stream",
     "text": [
      "{'mapbox_fetched_img': False, 'mapbox_img': 'mapbox/69642/98083/18.jpg', 'mapbox_added_arrow': True, 'bing_fetched_img': False, 'bing_img': 'bing/69642/98083/18.jpg', 'bing_added_arrow': True}\n"
     ]
    },
    {
     "name": "stderr",
     "output_type": "stream",
     "text": [
      "  5%|██                                    | 108/2000 [03:42<1:02:33,  1.98s/it]"
     ]
    },
    {
     "name": "stdout",
     "output_type": "stream",
     "text": [
      "{'mapbox_fetched_img': False, 'mapbox_img': 'mapbox/69642/98083/18.jpg', 'mapbox_added_arrow': True, 'bing_fetched_img': False, 'bing_img': 'bing/69642/98083/18.jpg', 'bing_added_arrow': True}\n",
      "Fetching from: https://api.mapbox.com/styles/v1/mapbox/satellite-v9/tiles/256/18/69642/98084?access_token=pk.eyJ1IjoiaXp2b25rb3YiLCJhIjoiY2t0YXU3MTE3MDJuNjJ1bW9xYzc3bTlrMCJ9.fiGLAZ29dmYv2sqlxuaB-A\n",
      "100% [............................................................] 5705 / 5705No photo found before to establish direction for USA_v2-2021-08-20-croptour-100GOPRO-G0013367\n",
      "Fetching from: http://ecn.t0.tiles.virtualearth.net/tiles/a030223222200201210.jpeg?g=14009\n",
      "100% [............................................................] 9827 / 9827"
     ]
    },
    {
     "name": "stderr",
     "output_type": "stream",
     "text": [
      "  5%|██                                    | 109/2000 [03:44<1:07:07,  2.13s/it]"
     ]
    },
    {
     "name": "stdout",
     "output_type": "stream",
     "text": [
      "No photo found before to establish direction for USA_v2-2021-08-20-croptour-100GOPRO-G0013367\n",
      "{'mapbox_fetched_img': True, 'mapbox_img': 'mapbox/69642/98084/18.jpg', 'mapbox_added_arrow': False, 'bing_fetched_img': True, 'bing_img': 'bing/69642/98084/18.jpg', 'bing_added_arrow': False}\n"
     ]
    },
    {
     "name": "stderr",
     "output_type": "stream",
     "text": [
      "  6%|██                                    | 110/2000 [03:46<1:05:59,  2.10s/it]"
     ]
    },
    {
     "name": "stdout",
     "output_type": "stream",
     "text": [
      "{'mapbox_fetched_img': False, 'mapbox_img': 'mapbox/69642/98084/18.jpg', 'mapbox_added_arrow': True, 'bing_fetched_img': False, 'bing_img': 'bing/69642/98084/18.jpg', 'bing_added_arrow': True}\n"
     ]
    },
    {
     "name": "stderr",
     "output_type": "stream",
     "text": [
      "  6%|██                                    | 111/2000 [03:49<1:06:45,  2.12s/it]"
     ]
    },
    {
     "name": "stdout",
     "output_type": "stream",
     "text": [
      "{'mapbox_fetched_img': False, 'mapbox_img': 'mapbox/69642/98084/18.jpg', 'mapbox_added_arrow': True, 'bing_fetched_img': False, 'bing_img': 'bing/69642/98084/18.jpg', 'bing_added_arrow': True}\n"
     ]
    },
    {
     "name": "stderr",
     "output_type": "stream",
     "text": [
      "  6%|██▏                                   | 112/2000 [03:51<1:04:58,  2.06s/it]"
     ]
    },
    {
     "name": "stdout",
     "output_type": "stream",
     "text": [
      "{'mapbox_fetched_img': False, 'mapbox_img': 'mapbox/69642/98084/18.jpg', 'mapbox_added_arrow': True, 'bing_fetched_img': False, 'bing_img': 'bing/69642/98084/18.jpg', 'bing_added_arrow': True}\n"
     ]
    },
    {
     "name": "stderr",
     "output_type": "stream",
     "text": [
      "  6%|██▏                                   | 113/2000 [03:52<1:03:34,  2.02s/it]"
     ]
    },
    {
     "name": "stdout",
     "output_type": "stream",
     "text": [
      "{'mapbox_fetched_img': False, 'mapbox_img': 'mapbox/69642/98084/18.jpg', 'mapbox_added_arrow': True, 'bing_fetched_img': False, 'bing_img': 'bing/69642/98084/18.jpg', 'bing_added_arrow': True}\n"
     ]
    },
    {
     "name": "stderr",
     "output_type": "stream",
     "text": [
      "  6%|██▏                                   | 114/2000 [03:54<1:01:24,  1.95s/it]"
     ]
    },
    {
     "name": "stdout",
     "output_type": "stream",
     "text": [
      "{'mapbox_fetched_img': False, 'mapbox_img': 'mapbox/69642/98084/18.jpg', 'mapbox_added_arrow': True, 'bing_fetched_img': False, 'bing_img': 'bing/69642/98084/18.jpg', 'bing_added_arrow': True}\n"
     ]
    },
    {
     "name": "stderr",
     "output_type": "stream",
     "text": [
      "  6%|██▎                                     | 115/2000 [03:56<59:28,  1.89s/it]"
     ]
    },
    {
     "name": "stdout",
     "output_type": "stream",
     "text": [
      "{'mapbox_fetched_img': False, 'mapbox_img': 'mapbox/69642/98084/18.jpg', 'mapbox_added_arrow': True, 'bing_fetched_img': False, 'bing_img': 'bing/69642/98084/18.jpg', 'bing_added_arrow': True}\n"
     ]
    },
    {
     "name": "stderr",
     "output_type": "stream",
     "text": [
      "  6%|██▎                                     | 116/2000 [03:58<58:13,  1.85s/it]"
     ]
    },
    {
     "name": "stdout",
     "output_type": "stream",
     "text": [
      "{'mapbox_fetched_img': False, 'mapbox_img': 'mapbox/69642/98084/18.jpg', 'mapbox_added_arrow': True, 'bing_fetched_img': False, 'bing_img': 'bing/69642/98084/18.jpg', 'bing_added_arrow': True}\n",
      "Fetching from: https://api.mapbox.com/styles/v1/mapbox/satellite-v9/tiles/256/18/69642/98085?access_token=pk.eyJ1IjoiaXp2b25rb3YiLCJhIjoiY2t0YXU3MTE3MDJuNjJ1bW9xYzc3bTlrMCJ9.fiGLAZ29dmYv2sqlxuaB-A\n",
      "100% [............................................................] 6662 / 6662No photo found before to establish direction for USA_v2-2021-08-20-croptour-100GOPRO-G0013377\n",
      "Fetching from: http://ecn.t0.tiles.virtualearth.net/tiles/a030223222200201212.jpeg?g=14009\n",
      "100% [..........................................................] 10531 / 10531"
     ]
    },
    {
     "name": "stderr",
     "output_type": "stream",
     "text": [
      "  6%|██▏                                   | 117/2000 [04:00<1:01:22,  1.96s/it]"
     ]
    },
    {
     "name": "stdout",
     "output_type": "stream",
     "text": [
      "No photo found before to establish direction for USA_v2-2021-08-20-croptour-100GOPRO-G0013377\n",
      "{'mapbox_fetched_img': True, 'mapbox_img': 'mapbox/69642/98085/18.jpg', 'mapbox_added_arrow': False, 'bing_fetched_img': True, 'bing_img': 'bing/69642/98085/18.jpg', 'bing_added_arrow': False}\n"
     ]
    },
    {
     "name": "stderr",
     "output_type": "stream",
     "text": [
      "  6%|██▎                                     | 118/2000 [04:02<59:46,  1.91s/it]"
     ]
    },
    {
     "name": "stdout",
     "output_type": "stream",
     "text": [
      "{'mapbox_fetched_img': False, 'mapbox_img': 'mapbox/69642/98085/18.jpg', 'mapbox_added_arrow': True, 'bing_fetched_img': False, 'bing_img': 'bing/69642/98085/18.jpg', 'bing_added_arrow': True}\n"
     ]
    },
    {
     "name": "stderr",
     "output_type": "stream",
     "text": [
      "  6%|██▍                                     | 119/2000 [04:04<58:06,  1.85s/it]"
     ]
    },
    {
     "name": "stdout",
     "output_type": "stream",
     "text": [
      "{'mapbox_fetched_img': False, 'mapbox_img': 'mapbox/69642/98085/18.jpg', 'mapbox_added_arrow': True, 'bing_fetched_img': False, 'bing_img': 'bing/69642/98085/18.jpg', 'bing_added_arrow': True}\n"
     ]
    },
    {
     "name": "stderr",
     "output_type": "stream",
     "text": [
      "  6%|██▍                                     | 120/2000 [04:05<57:46,  1.84s/it]"
     ]
    },
    {
     "name": "stdout",
     "output_type": "stream",
     "text": [
      "{'mapbox_fetched_img': False, 'mapbox_img': 'mapbox/69642/98085/18.jpg', 'mapbox_added_arrow': True, 'bing_fetched_img': False, 'bing_img': 'bing/69642/98085/18.jpg', 'bing_added_arrow': True}\n"
     ]
    },
    {
     "name": "stderr",
     "output_type": "stream",
     "text": [
      "  6%|██▍                                     | 121/2000 [04:07<57:11,  1.83s/it]"
     ]
    },
    {
     "name": "stdout",
     "output_type": "stream",
     "text": [
      "{'mapbox_fetched_img': False, 'mapbox_img': 'mapbox/69642/98085/18.jpg', 'mapbox_added_arrow': True, 'bing_fetched_img': False, 'bing_img': 'bing/69642/98085/18.jpg', 'bing_added_arrow': True}\n"
     ]
    },
    {
     "name": "stderr",
     "output_type": "stream",
     "text": [
      "  6%|██▍                                     | 122/2000 [04:09<56:56,  1.82s/it]"
     ]
    },
    {
     "name": "stdout",
     "output_type": "stream",
     "text": [
      "{'mapbox_fetched_img': False, 'mapbox_img': 'mapbox/69642/98085/18.jpg', 'mapbox_added_arrow': True, 'bing_fetched_img': False, 'bing_img': 'bing/69642/98085/18.jpg', 'bing_added_arrow': True}\n"
     ]
    },
    {
     "name": "stderr",
     "output_type": "stream",
     "text": [
      "  6%|██▍                                     | 123/2000 [04:11<56:37,  1.81s/it]"
     ]
    },
    {
     "name": "stdout",
     "output_type": "stream",
     "text": [
      "{'mapbox_fetched_img': False, 'mapbox_img': 'mapbox/69642/98085/18.jpg', 'mapbox_added_arrow': True, 'bing_fetched_img': False, 'bing_img': 'bing/69642/98085/18.jpg', 'bing_added_arrow': True}\n"
     ]
    },
    {
     "name": "stderr",
     "output_type": "stream",
     "text": [
      "  6%|██▍                                     | 124/2000 [04:12<56:22,  1.80s/it]"
     ]
    },
    {
     "name": "stdout",
     "output_type": "stream",
     "text": [
      "{'mapbox_fetched_img': False, 'mapbox_img': 'mapbox/69642/98085/18.jpg', 'mapbox_added_arrow': True, 'bing_fetched_img': False, 'bing_img': 'bing/69642/98085/18.jpg', 'bing_added_arrow': True}\n"
     ]
    },
    {
     "name": "stderr",
     "output_type": "stream",
     "text": [
      "  6%|██▌                                     | 125/2000 [04:14<56:10,  1.80s/it]"
     ]
    },
    {
     "name": "stdout",
     "output_type": "stream",
     "text": [
      "{'mapbox_fetched_img': False, 'mapbox_img': 'mapbox/69642/98085/18.jpg', 'mapbox_added_arrow': True, 'bing_fetched_img': False, 'bing_img': 'bing/69642/98085/18.jpg', 'bing_added_arrow': True}\n",
      "Fetching from: https://api.mapbox.com/styles/v1/mapbox/satellite-v9/tiles/256/18/69642/98086?access_token=pk.eyJ1IjoiaXp2b25rb3YiLCJhIjoiY2t0YXU3MTE3MDJuNjJ1bW9xYzc3bTlrMCJ9.fiGLAZ29dmYv2sqlxuaB-A\n",
      "100% [............................................................] 6573 / 6573Fetching from: http://ecn.t0.tiles.virtualearth.net/tiles/a030223222200201230.jpeg?g=14009\n",
      "100% [............................................................] 9493 / 9493"
     ]
    },
    {
     "name": "stderr",
     "output_type": "stream",
     "text": [
      "  6%|██▍                                   | 126/2000 [04:17<1:05:48,  2.11s/it]"
     ]
    },
    {
     "name": "stdout",
     "output_type": "stream",
     "text": [
      "{'mapbox_fetched_img': True, 'mapbox_img': 'mapbox/69642/98086/18.jpg', 'mapbox_added_arrow': True, 'bing_fetched_img': True, 'bing_img': 'bing/69642/98086/18.jpg', 'bing_added_arrow': True}\n"
     ]
    },
    {
     "name": "stderr",
     "output_type": "stream",
     "text": [
      "  6%|██▍                                   | 127/2000 [04:19<1:02:44,  2.01s/it]"
     ]
    },
    {
     "name": "stdout",
     "output_type": "stream",
     "text": [
      "{'mapbox_fetched_img': False, 'mapbox_img': 'mapbox/69642/98086/18.jpg', 'mapbox_added_arrow': True, 'bing_fetched_img': False, 'bing_img': 'bing/69642/98086/18.jpg', 'bing_added_arrow': True}\n"
     ]
    },
    {
     "name": "stderr",
     "output_type": "stream",
     "text": [
      "  6%|██▍                                   | 128/2000 [04:21<1:01:51,  1.98s/it]"
     ]
    },
    {
     "name": "stdout",
     "output_type": "stream",
     "text": [
      "{'mapbox_fetched_img': False, 'mapbox_img': 'mapbox/69642/98086/18.jpg', 'mapbox_added_arrow': True, 'bing_fetched_img': False, 'bing_img': 'bing/69642/98086/18.jpg', 'bing_added_arrow': True}\n"
     ]
    },
    {
     "name": "stderr",
     "output_type": "stream",
     "text": [
      "  6%|██▍                                   | 129/2000 [04:23<1:01:40,  1.98s/it]"
     ]
    },
    {
     "name": "stdout",
     "output_type": "stream",
     "text": [
      "{'mapbox_fetched_img': False, 'mapbox_img': 'mapbox/69642/98086/18.jpg', 'mapbox_added_arrow': True, 'bing_fetched_img': False, 'bing_img': 'bing/69642/98086/18.jpg', 'bing_added_arrow': True}\n"
     ]
    },
    {
     "name": "stderr",
     "output_type": "stream",
     "text": [
      "  6%|██▍                                   | 130/2000 [04:25<1:00:54,  1.95s/it]"
     ]
    },
    {
     "name": "stdout",
     "output_type": "stream",
     "text": [
      "{'mapbox_fetched_img': False, 'mapbox_img': 'mapbox/69642/98086/18.jpg', 'mapbox_added_arrow': True, 'bing_fetched_img': False, 'bing_img': 'bing/69642/98086/18.jpg', 'bing_added_arrow': True}\n"
     ]
    },
    {
     "name": "stderr",
     "output_type": "stream",
     "text": [
      "  7%|██▍                                   | 131/2000 [04:27<1:00:54,  1.96s/it]"
     ]
    },
    {
     "name": "stdout",
     "output_type": "stream",
     "text": [
      "{'mapbox_fetched_img': False, 'mapbox_img': 'mapbox/69642/98086/18.jpg', 'mapbox_added_arrow': True, 'bing_fetched_img': False, 'bing_img': 'bing/69642/98086/18.jpg', 'bing_added_arrow': True}\n"
     ]
    },
    {
     "name": "stderr",
     "output_type": "stream",
     "text": [
      "  7%|██▌                                   | 132/2000 [04:29<1:01:00,  1.96s/it]"
     ]
    },
    {
     "name": "stdout",
     "output_type": "stream",
     "text": [
      "{'mapbox_fetched_img': False, 'mapbox_img': 'mapbox/69642/98086/18.jpg', 'mapbox_added_arrow': True, 'bing_fetched_img': False, 'bing_img': 'bing/69642/98086/18.jpg', 'bing_added_arrow': True}\n"
     ]
    },
    {
     "name": "stderr",
     "output_type": "stream",
     "text": [
      "  7%|██▌                                   | 133/2000 [04:30<1:00:09,  1.93s/it]"
     ]
    },
    {
     "name": "stdout",
     "output_type": "stream",
     "text": [
      "{'mapbox_fetched_img': False, 'mapbox_img': 'mapbox/69642/98086/18.jpg', 'mapbox_added_arrow': True, 'bing_fetched_img': False, 'bing_img': 'bing/69642/98086/18.jpg', 'bing_added_arrow': True}\n"
     ]
    },
    {
     "name": "stderr",
     "output_type": "stream",
     "text": [
      "  7%|██▌                                   | 134/2000 [04:32<1:00:36,  1.95s/it]"
     ]
    },
    {
     "name": "stdout",
     "output_type": "stream",
     "text": [
      "{'mapbox_fetched_img': False, 'mapbox_img': 'mapbox/69642/98086/18.jpg', 'mapbox_added_arrow': True, 'bing_fetched_img': False, 'bing_img': 'bing/69642/98086/18.jpg', 'bing_added_arrow': True}\n",
      "Fetching from: https://api.mapbox.com/styles/v1/mapbox/satellite-v9/tiles/256/18/69642/98087?access_token=pk.eyJ1IjoiaXp2b25rb3YiLCJhIjoiY2t0YXU3MTE3MDJuNjJ1bW9xYzc3bTlrMCJ9.fiGLAZ29dmYv2sqlxuaB-A\n",
      "100% [............................................................] 8083 / 8083No photo found before to establish direction for USA_v2-2021-08-20-croptour-100GOPRO-G0013395\n",
      "Fetching from: http://ecn.t0.tiles.virtualearth.net/tiles/a030223222200201232.jpeg?g=14009\n",
      "100% [..........................................................] 10413 / 10413"
     ]
    },
    {
     "name": "stderr",
     "output_type": "stream",
     "text": [
      "  7%|██▌                                   | 135/2000 [04:35<1:04:45,  2.08s/it]"
     ]
    },
    {
     "name": "stdout",
     "output_type": "stream",
     "text": [
      "No photo found before to establish direction for USA_v2-2021-08-20-croptour-100GOPRO-G0013395\n",
      "{'mapbox_fetched_img': True, 'mapbox_img': 'mapbox/69642/98087/18.jpg', 'mapbox_added_arrow': False, 'bing_fetched_img': True, 'bing_img': 'bing/69642/98087/18.jpg', 'bing_added_arrow': False}\n"
     ]
    },
    {
     "name": "stderr",
     "output_type": "stream",
     "text": [
      "  7%|██▌                                   | 136/2000 [04:37<1:02:21,  2.01s/it]"
     ]
    },
    {
     "name": "stdout",
     "output_type": "stream",
     "text": [
      "{'mapbox_fetched_img': False, 'mapbox_img': 'mapbox/69642/98087/18.jpg', 'mapbox_added_arrow': True, 'bing_fetched_img': False, 'bing_img': 'bing/69642/98087/18.jpg', 'bing_added_arrow': True}\n"
     ]
    },
    {
     "name": "stderr",
     "output_type": "stream",
     "text": [
      "  7%|██▌                                   | 137/2000 [04:39<1:01:14,  1.97s/it]"
     ]
    },
    {
     "name": "stdout",
     "output_type": "stream",
     "text": [
      "{'mapbox_fetched_img': False, 'mapbox_img': 'mapbox/69642/98087/18.jpg', 'mapbox_added_arrow': True, 'bing_fetched_img': False, 'bing_img': 'bing/69642/98087/18.jpg', 'bing_added_arrow': True}\n"
     ]
    },
    {
     "name": "stderr",
     "output_type": "stream",
     "text": [
      "  7%|██▊                                     | 138/2000 [04:40<59:21,  1.91s/it]"
     ]
    },
    {
     "name": "stdout",
     "output_type": "stream",
     "text": [
      "{'mapbox_fetched_img': False, 'mapbox_img': 'mapbox/69642/98087/18.jpg', 'mapbox_added_arrow': True, 'bing_fetched_img': False, 'bing_img': 'bing/69642/98087/18.jpg', 'bing_added_arrow': True}\n"
     ]
    },
    {
     "name": "stderr",
     "output_type": "stream",
     "text": [
      "  7%|██▊                                     | 139/2000 [04:42<58:33,  1.89s/it]"
     ]
    },
    {
     "name": "stdout",
     "output_type": "stream",
     "text": [
      "{'mapbox_fetched_img': False, 'mapbox_img': 'mapbox/69642/98087/18.jpg', 'mapbox_added_arrow': True, 'bing_fetched_img': False, 'bing_img': 'bing/69642/98087/18.jpg', 'bing_added_arrow': True}\n"
     ]
    },
    {
     "name": "stderr",
     "output_type": "stream",
     "text": [
      "  7%|██▊                                     | 140/2000 [04:44<59:58,  1.93s/it]"
     ]
    },
    {
     "name": "stdout",
     "output_type": "stream",
     "text": [
      "{'mapbox_fetched_img': False, 'mapbox_img': 'mapbox/69642/98087/18.jpg', 'mapbox_added_arrow': True, 'bing_fetched_img': False, 'bing_img': 'bing/69642/98087/18.jpg', 'bing_added_arrow': True}\n"
     ]
    },
    {
     "name": "stderr",
     "output_type": "stream",
     "text": [
      "  7%|██▊                                     | 141/2000 [04:46<58:30,  1.89s/it]"
     ]
    },
    {
     "name": "stdout",
     "output_type": "stream",
     "text": [
      "{'mapbox_fetched_img': False, 'mapbox_img': 'mapbox/69642/98087/18.jpg', 'mapbox_added_arrow': True, 'bing_fetched_img': False, 'bing_img': 'bing/69642/98087/18.jpg', 'bing_added_arrow': True}\n"
     ]
    },
    {
     "name": "stderr",
     "output_type": "stream",
     "text": [
      "  7%|██▊                                     | 142/2000 [04:48<58:04,  1.88s/it]"
     ]
    },
    {
     "name": "stdout",
     "output_type": "stream",
     "text": [
      "{'mapbox_fetched_img': False, 'mapbox_img': 'mapbox/69642/98087/18.jpg', 'mapbox_added_arrow': True, 'bing_fetched_img': False, 'bing_img': 'bing/69642/98087/18.jpg', 'bing_added_arrow': True}\n"
     ]
    },
    {
     "name": "stderr",
     "output_type": "stream",
     "text": [
      "  7%|██▊                                     | 143/2000 [04:50<58:50,  1.90s/it]"
     ]
    },
    {
     "name": "stdout",
     "output_type": "stream",
     "text": [
      "{'mapbox_fetched_img': False, 'mapbox_img': 'mapbox/69642/98087/18.jpg', 'mapbox_added_arrow': True, 'bing_fetched_img': False, 'bing_img': 'bing/69642/98087/18.jpg', 'bing_added_arrow': True}\n",
      "Fetching from: https://api.mapbox.com/styles/v1/mapbox/satellite-v9/tiles/256/18/69642/98088?access_token=pk.eyJ1IjoiaXp2b25rb3YiLCJhIjoiY2t0YXU3MTE3MDJuNjJ1bW9xYzc3bTlrMCJ9.fiGLAZ29dmYv2sqlxuaB-A\n",
      "100% [............................................................] 7936 / 7936Fetching from: http://ecn.t0.tiles.virtualearth.net/tiles/a030223222200203010.jpeg?g=14009\n",
      "100% [............................................................] 9809 / 9809"
     ]
    },
    {
     "name": "stderr",
     "output_type": "stream",
     "text": [
      "  7%|██▋                                   | 144/2000 [04:53<1:14:10,  2.40s/it]"
     ]
    },
    {
     "name": "stdout",
     "output_type": "stream",
     "text": [
      "{'mapbox_fetched_img': True, 'mapbox_img': 'mapbox/69642/98088/18.jpg', 'mapbox_added_arrow': True, 'bing_fetched_img': True, 'bing_img': 'bing/69642/98088/18.jpg', 'bing_added_arrow': True}\n"
     ]
    },
    {
     "name": "stderr",
     "output_type": "stream",
     "text": [
      "  7%|██▊                                   | 145/2000 [04:55<1:08:17,  2.21s/it]"
     ]
    },
    {
     "name": "stdout",
     "output_type": "stream",
     "text": [
      "{'mapbox_fetched_img': False, 'mapbox_img': 'mapbox/69642/98088/18.jpg', 'mapbox_added_arrow': True, 'bing_fetched_img': False, 'bing_img': 'bing/69642/98088/18.jpg', 'bing_added_arrow': True}\n"
     ]
    },
    {
     "name": "stderr",
     "output_type": "stream",
     "text": [
      "  7%|██▊                                   | 146/2000 [04:57<1:08:32,  2.22s/it]"
     ]
    },
    {
     "name": "stdout",
     "output_type": "stream",
     "text": [
      "{'mapbox_fetched_img': False, 'mapbox_img': 'mapbox/69642/98088/18.jpg', 'mapbox_added_arrow': True, 'bing_fetched_img': False, 'bing_img': 'bing/69642/98088/18.jpg', 'bing_added_arrow': True}\n"
     ]
    },
    {
     "name": "stderr",
     "output_type": "stream",
     "text": [
      "  7%|██▊                                   | 147/2000 [05:00<1:08:59,  2.23s/it]"
     ]
    },
    {
     "name": "stdout",
     "output_type": "stream",
     "text": [
      "{'mapbox_fetched_img': False, 'mapbox_img': 'mapbox/69642/98088/18.jpg', 'mapbox_added_arrow': True, 'bing_fetched_img': False, 'bing_img': 'bing/69642/98088/18.jpg', 'bing_added_arrow': True}\n"
     ]
    },
    {
     "name": "stderr",
     "output_type": "stream",
     "text": [
      "  7%|██▊                                   | 148/2000 [05:01<1:05:02,  2.11s/it]"
     ]
    },
    {
     "name": "stdout",
     "output_type": "stream",
     "text": [
      "{'mapbox_fetched_img': False, 'mapbox_img': 'mapbox/69642/98088/18.jpg', 'mapbox_added_arrow': True, 'bing_fetched_img': False, 'bing_img': 'bing/69642/98088/18.jpg', 'bing_added_arrow': True}\n"
     ]
    },
    {
     "name": "stderr",
     "output_type": "stream",
     "text": [
      "  7%|██▊                                   | 149/2000 [05:03<1:03:55,  2.07s/it]"
     ]
    },
    {
     "name": "stdout",
     "output_type": "stream",
     "text": [
      "{'mapbox_fetched_img': False, 'mapbox_img': 'mapbox/69642/98088/18.jpg', 'mapbox_added_arrow': True, 'bing_fetched_img': False, 'bing_img': 'bing/69642/98088/18.jpg', 'bing_added_arrow': True}\n"
     ]
    },
    {
     "name": "stderr",
     "output_type": "stream",
     "text": [
      "  8%|██▊                                   | 150/2000 [05:05<1:02:32,  2.03s/it]"
     ]
    },
    {
     "name": "stdout",
     "output_type": "stream",
     "text": [
      "{'mapbox_fetched_img': False, 'mapbox_img': 'mapbox/69642/98088/18.jpg', 'mapbox_added_arrow': True, 'bing_fetched_img': False, 'bing_img': 'bing/69642/98088/18.jpg', 'bing_added_arrow': True}\n"
     ]
    },
    {
     "name": "stderr",
     "output_type": "stream",
     "text": [
      "  8%|██▊                                   | 151/2000 [05:07<1:02:24,  2.02s/it]"
     ]
    },
    {
     "name": "stdout",
     "output_type": "stream",
     "text": [
      "{'mapbox_fetched_img': False, 'mapbox_img': 'mapbox/69642/98088/18.jpg', 'mapbox_added_arrow': True, 'bing_fetched_img': False, 'bing_img': 'bing/69642/98088/18.jpg', 'bing_added_arrow': True}\n",
      "Fetching from: https://api.mapbox.com/styles/v1/mapbox/satellite-v9/tiles/256/18/69642/98089?access_token=pk.eyJ1IjoiaXp2b25rb3YiLCJhIjoiY2t0YXU3MTE3MDJuNjJ1bW9xYzc3bTlrMCJ9.fiGLAZ29dmYv2sqlxuaB-A\n",
      "100% [..........................................................] 10750 / 10750No photo found before to establish direction for USA_v2-2021-08-20-croptour-100GOPRO-G0013413\n",
      "Fetching from: http://ecn.t0.tiles.virtualearth.net/tiles/a030223222200203012.jpeg?g=14009\n",
      "100% [..........................................................] 10448 / 10448"
     ]
    },
    {
     "name": "stderr",
     "output_type": "stream",
     "text": [
      "  8%|██▉                                   | 152/2000 [05:10<1:03:30,  2.06s/it]"
     ]
    },
    {
     "name": "stdout",
     "output_type": "stream",
     "text": [
      "No photo found before to establish direction for USA_v2-2021-08-20-croptour-100GOPRO-G0013413\n",
      "{'mapbox_fetched_img': True, 'mapbox_img': 'mapbox/69642/98089/18.jpg', 'mapbox_added_arrow': False, 'bing_fetched_img': True, 'bing_img': 'bing/69642/98089/18.jpg', 'bing_added_arrow': False}\n"
     ]
    },
    {
     "name": "stderr",
     "output_type": "stream",
     "text": [
      "  8%|██▉                                   | 153/2000 [05:11<1:01:55,  2.01s/it]"
     ]
    },
    {
     "name": "stdout",
     "output_type": "stream",
     "text": [
      "{'mapbox_fetched_img': False, 'mapbox_img': 'mapbox/69642/98089/18.jpg', 'mapbox_added_arrow': True, 'bing_fetched_img': False, 'bing_img': 'bing/69642/98089/18.jpg', 'bing_added_arrow': True}\n"
     ]
    },
    {
     "name": "stderr",
     "output_type": "stream",
     "text": [
      "  8%|██▉                                   | 154/2000 [05:13<1:01:23,  2.00s/it]"
     ]
    },
    {
     "name": "stdout",
     "output_type": "stream",
     "text": [
      "{'mapbox_fetched_img': False, 'mapbox_img': 'mapbox/69642/98089/18.jpg', 'mapbox_added_arrow': True, 'bing_fetched_img': False, 'bing_img': 'bing/69642/98089/18.jpg', 'bing_added_arrow': True}\n"
     ]
    },
    {
     "name": "stderr",
     "output_type": "stream",
     "text": [
      "  8%|███                                     | 155/2000 [05:15<59:45,  1.94s/it]"
     ]
    },
    {
     "name": "stdout",
     "output_type": "stream",
     "text": [
      "{'mapbox_fetched_img': False, 'mapbox_img': 'mapbox/69642/98089/18.jpg', 'mapbox_added_arrow': True, 'bing_fetched_img': False, 'bing_img': 'bing/69642/98089/18.jpg', 'bing_added_arrow': True}\n"
     ]
    },
    {
     "name": "stderr",
     "output_type": "stream",
     "text": [
      "  8%|███                                     | 156/2000 [05:17<58:35,  1.91s/it]"
     ]
    },
    {
     "name": "stdout",
     "output_type": "stream",
     "text": [
      "{'mapbox_fetched_img': False, 'mapbox_img': 'mapbox/69642/98089/18.jpg', 'mapbox_added_arrow': True, 'bing_fetched_img': False, 'bing_img': 'bing/69642/98089/18.jpg', 'bing_added_arrow': True}\n"
     ]
    },
    {
     "name": "stderr",
     "output_type": "stream",
     "text": [
      "  8%|███▏                                    | 157/2000 [05:19<57:37,  1.88s/it]"
     ]
    },
    {
     "name": "stdout",
     "output_type": "stream",
     "text": [
      "{'mapbox_fetched_img': False, 'mapbox_img': 'mapbox/69642/98089/18.jpg', 'mapbox_added_arrow': True, 'bing_fetched_img': False, 'bing_img': 'bing/69642/98089/18.jpg', 'bing_added_arrow': True}\n",
      "Fetching from: https://api.mapbox.com/styles/v1/mapbox/satellite-v9/tiles/256/18/69642/98090?access_token=pk.eyJ1IjoiaXp2b25rb3YiLCJhIjoiY2t0YXU3MTE3MDJuNjJ1bW9xYzc3bTlrMCJ9.fiGLAZ29dmYv2sqlxuaB-A\n",
      "100% [..........................................................] 11834 / 11834Fetching from: http://ecn.t0.tiles.virtualearth.net/tiles/a030223222200203030.jpeg?g=14009\n",
      "100% [..........................................................] 10660 / 10660"
     ]
    },
    {
     "name": "stderr",
     "output_type": "stream",
     "text": [
      "  8%|███                                   | 158/2000 [05:22<1:06:34,  2.17s/it]"
     ]
    },
    {
     "name": "stdout",
     "output_type": "stream",
     "text": [
      "{'mapbox_fetched_img': True, 'mapbox_img': 'mapbox/69642/98090/18.jpg', 'mapbox_added_arrow': True, 'bing_fetched_img': True, 'bing_img': 'bing/69642/98090/18.jpg', 'bing_added_arrow': True}\n"
     ]
    },
    {
     "name": "stderr",
     "output_type": "stream",
     "text": [
      "  8%|███                                   | 159/2000 [05:23<1:02:26,  2.03s/it]"
     ]
    },
    {
     "name": "stdout",
     "output_type": "stream",
     "text": [
      "{'mapbox_fetched_img': False, 'mapbox_img': 'mapbox/69642/98090/18.jpg', 'mapbox_added_arrow': True, 'bing_fetched_img': False, 'bing_img': 'bing/69642/98090/18.jpg', 'bing_added_arrow': True}\n",
      "Fetching from: https://api.mapbox.com/styles/v1/mapbox/satellite-v9/tiles/256/18/69642/98091?access_token=pk.eyJ1IjoiaXp2b25rb3YiLCJhIjoiY2t0YXU3MTE3MDJuNjJ1bW9xYzc3bTlrMCJ9.fiGLAZ29dmYv2sqlxuaB-A\n",
      "100% [............................................................] 9152 / 9152No photo found before to establish direction for USA_v2-2021-08-20-croptour-100GOPRO-G0013430\n",
      "Fetching from: http://ecn.t0.tiles.virtualearth.net/tiles/a030223222200203032.jpeg?g=14009\n",
      "100% [..........................................................] 10402 / 10402"
     ]
    },
    {
     "name": "stderr",
     "output_type": "stream",
     "text": [
      "  8%|███                                   | 160/2000 [05:26<1:04:13,  2.09s/it]"
     ]
    },
    {
     "name": "stdout",
     "output_type": "stream",
     "text": [
      "No photo found before to establish direction for USA_v2-2021-08-20-croptour-100GOPRO-G0013430\n",
      "{'mapbox_fetched_img': True, 'mapbox_img': 'mapbox/69642/98091/18.jpg', 'mapbox_added_arrow': False, 'bing_fetched_img': True, 'bing_img': 'bing/69642/98091/18.jpg', 'bing_added_arrow': False}\n"
     ]
    },
    {
     "name": "stderr",
     "output_type": "stream",
     "text": [
      "  8%|███                                   | 161/2000 [05:27<1:01:01,  1.99s/it]"
     ]
    },
    {
     "name": "stdout",
     "output_type": "stream",
     "text": [
      "{'mapbox_fetched_img': False, 'mapbox_img': 'mapbox/69642/98091/18.jpg', 'mapbox_added_arrow': True, 'bing_fetched_img': False, 'bing_img': 'bing/69642/98091/18.jpg', 'bing_added_arrow': True}\n"
     ]
    },
    {
     "name": "stderr",
     "output_type": "stream",
     "text": [
      "  8%|███▏                                    | 162/2000 [05:29<59:27,  1.94s/it]"
     ]
    },
    {
     "name": "stdout",
     "output_type": "stream",
     "text": [
      "{'mapbox_fetched_img': False, 'mapbox_img': 'mapbox/69642/98091/18.jpg', 'mapbox_added_arrow': True, 'bing_fetched_img': False, 'bing_img': 'bing/69642/98091/18.jpg', 'bing_added_arrow': True}\n"
     ]
    },
    {
     "name": "stderr",
     "output_type": "stream",
     "text": [
      "  8%|███▎                                    | 163/2000 [05:31<59:02,  1.93s/it]"
     ]
    },
    {
     "name": "stdout",
     "output_type": "stream",
     "text": [
      "{'mapbox_fetched_img': False, 'mapbox_img': 'mapbox/69642/98091/18.jpg', 'mapbox_added_arrow': True, 'bing_fetched_img': False, 'bing_img': 'bing/69642/98091/18.jpg', 'bing_added_arrow': True}\n"
     ]
    },
    {
     "name": "stderr",
     "output_type": "stream",
     "text": [
      "  8%|███▎                                    | 164/2000 [05:33<58:24,  1.91s/it]"
     ]
    },
    {
     "name": "stdout",
     "output_type": "stream",
     "text": [
      "{'mapbox_fetched_img': False, 'mapbox_img': 'mapbox/69642/98091/18.jpg', 'mapbox_added_arrow': True, 'bing_fetched_img': False, 'bing_img': 'bing/69642/98091/18.jpg', 'bing_added_arrow': True}\n"
     ]
    },
    {
     "name": "stderr",
     "output_type": "stream",
     "text": [
      "  8%|███▎                                    | 165/2000 [05:35<58:12,  1.90s/it]"
     ]
    },
    {
     "name": "stdout",
     "output_type": "stream",
     "text": [
      "{'mapbox_fetched_img': False, 'mapbox_img': 'mapbox/69642/98091/18.jpg', 'mapbox_added_arrow': True, 'bing_fetched_img': False, 'bing_img': 'bing/69642/98091/18.jpg', 'bing_added_arrow': True}\n"
     ]
    },
    {
     "name": "stderr",
     "output_type": "stream",
     "text": [
      "  8%|███▎                                    | 166/2000 [05:37<58:45,  1.92s/it]"
     ]
    },
    {
     "name": "stdout",
     "output_type": "stream",
     "text": [
      "{'mapbox_fetched_img': False, 'mapbox_img': 'mapbox/69642/98091/18.jpg', 'mapbox_added_arrow': True, 'bing_fetched_img': False, 'bing_img': 'bing/69642/98091/18.jpg', 'bing_added_arrow': True}\n"
     ]
    },
    {
     "name": "stderr",
     "output_type": "stream",
     "text": [
      "  8%|███▎                                    | 167/2000 [05:39<59:01,  1.93s/it]"
     ]
    },
    {
     "name": "stdout",
     "output_type": "stream",
     "text": [
      "{'mapbox_fetched_img': False, 'mapbox_img': 'mapbox/69642/98091/18.jpg', 'mapbox_added_arrow': True, 'bing_fetched_img': False, 'bing_img': 'bing/69642/98091/18.jpg', 'bing_added_arrow': True}\n"
     ]
    },
    {
     "name": "stderr",
     "output_type": "stream",
     "text": [
      "  8%|███▎                                    | 168/2000 [05:41<59:34,  1.95s/it]"
     ]
    },
    {
     "name": "stdout",
     "output_type": "stream",
     "text": [
      "{'mapbox_fetched_img': False, 'mapbox_img': 'mapbox/69642/98091/18.jpg', 'mapbox_added_arrow': True, 'bing_fetched_img': False, 'bing_img': 'bing/69642/98091/18.jpg', 'bing_added_arrow': True}\n",
      "Fetching from: https://api.mapbox.com/styles/v1/mapbox/satellite-v9/tiles/256/18/69642/98092?access_token=pk.eyJ1IjoiaXp2b25rb3YiLCJhIjoiY2t0YXU3MTE3MDJuNjJ1bW9xYzc3bTlrMCJ9.fiGLAZ29dmYv2sqlxuaB-A\n",
      "100% [............................................................] 7427 / 7427No photo found before to establish direction for USA_v2-2021-08-20-croptour-100GOPRO-G0013439\n",
      "Fetching from: http://ecn.t0.tiles.virtualearth.net/tiles/a030223222200203210.jpeg?g=14009\n",
      "100% [............................................................] 9597 / 9597"
     ]
    },
    {
     "name": "stderr",
     "output_type": "stream",
     "text": [
      "  8%|███▏                                  | 169/2000 [05:43<1:02:51,  2.06s/it]"
     ]
    },
    {
     "name": "stdout",
     "output_type": "stream",
     "text": [
      "No photo found before to establish direction for USA_v2-2021-08-20-croptour-100GOPRO-G0013439\n",
      "{'mapbox_fetched_img': True, 'mapbox_img': 'mapbox/69642/98092/18.jpg', 'mapbox_added_arrow': False, 'bing_fetched_img': True, 'bing_img': 'bing/69642/98092/18.jpg', 'bing_added_arrow': False}\n"
     ]
    },
    {
     "name": "stderr",
     "output_type": "stream",
     "text": [
      "  8%|███▏                                  | 170/2000 [05:45<1:00:48,  1.99s/it]"
     ]
    },
    {
     "name": "stdout",
     "output_type": "stream",
     "text": [
      "{'mapbox_fetched_img': False, 'mapbox_img': 'mapbox/69642/98092/18.jpg', 'mapbox_added_arrow': True, 'bing_fetched_img': False, 'bing_img': 'bing/69642/98092/18.jpg', 'bing_added_arrow': True}\n"
     ]
    },
    {
     "name": "stderr",
     "output_type": "stream",
     "text": [
      "  9%|███▍                                    | 171/2000 [05:47<58:32,  1.92s/it]"
     ]
    },
    {
     "name": "stdout",
     "output_type": "stream",
     "text": [
      "{'mapbox_fetched_img': False, 'mapbox_img': 'mapbox/69642/98092/18.jpg', 'mapbox_added_arrow': True, 'bing_fetched_img': False, 'bing_img': 'bing/69642/98092/18.jpg', 'bing_added_arrow': True}\n"
     ]
    },
    {
     "name": "stderr",
     "output_type": "stream",
     "text": [
      "  9%|███▍                                    | 172/2000 [05:49<57:42,  1.89s/it]"
     ]
    },
    {
     "name": "stdout",
     "output_type": "stream",
     "text": [
      "{'mapbox_fetched_img': False, 'mapbox_img': 'mapbox/69642/98092/18.jpg', 'mapbox_added_arrow': True, 'bing_fetched_img': False, 'bing_img': 'bing/69642/98092/18.jpg', 'bing_added_arrow': True}\n",
      "Fetching from: https://api.mapbox.com/styles/v1/mapbox/satellite-v9/tiles/256/18/69642/98093?access_token=pk.eyJ1IjoiaXp2b25rb3YiLCJhIjoiY2t0YXU3MTE3MDJuNjJ1bW9xYzc3bTlrMCJ9.fiGLAZ29dmYv2sqlxuaB-A\n",
      "100% [............................................................] 7375 / 7375Fetching from: http://ecn.t0.tiles.virtualearth.net/tiles/a030223222200203212.jpeg?g=14009\n",
      "100% [............................................................] 9926 / 9926"
     ]
    },
    {
     "name": "stderr",
     "output_type": "stream",
     "text": [
      "  9%|███▎                                  | 173/2000 [05:52<1:08:18,  2.24s/it]"
     ]
    },
    {
     "name": "stdout",
     "output_type": "stream",
     "text": [
      "{'mapbox_fetched_img': True, 'mapbox_img': 'mapbox/69642/98093/18.jpg', 'mapbox_added_arrow': True, 'bing_fetched_img': True, 'bing_img': 'bing/69642/98093/18.jpg', 'bing_added_arrow': True}\n"
     ]
    },
    {
     "name": "stderr",
     "output_type": "stream",
     "text": [
      "  9%|███▎                                  | 174/2000 [05:53<1:04:42,  2.13s/it]"
     ]
    },
    {
     "name": "stdout",
     "output_type": "stream",
     "text": [
      "{'mapbox_fetched_img': False, 'mapbox_img': 'mapbox/69642/98093/18.jpg', 'mapbox_added_arrow': True, 'bing_fetched_img': False, 'bing_img': 'bing/69642/98093/18.jpg', 'bing_added_arrow': True}\n"
     ]
    },
    {
     "name": "stderr",
     "output_type": "stream",
     "text": [
      "  9%|███▎                                  | 175/2000 [05:55<1:01:28,  2.02s/it]"
     ]
    },
    {
     "name": "stdout",
     "output_type": "stream",
     "text": [
      "{'mapbox_fetched_img': False, 'mapbox_img': 'mapbox/69642/98093/18.jpg', 'mapbox_added_arrow': True, 'bing_fetched_img': False, 'bing_img': 'bing/69642/98093/18.jpg', 'bing_added_arrow': True}\n"
     ]
    },
    {
     "name": "stderr",
     "output_type": "stream",
     "text": [
      "  9%|███▎                                  | 176/2000 [05:57<1:00:15,  1.98s/it]"
     ]
    },
    {
     "name": "stdout",
     "output_type": "stream",
     "text": [
      "{'mapbox_fetched_img': False, 'mapbox_img': 'mapbox/69642/98093/18.jpg', 'mapbox_added_arrow': True, 'bing_fetched_img': False, 'bing_img': 'bing/69642/98093/18.jpg', 'bing_added_arrow': True}\n"
     ]
    },
    {
     "name": "stderr",
     "output_type": "stream",
     "text": [
      "  9%|███▌                                    | 177/2000 [05:59<59:09,  1.95s/it]"
     ]
    },
    {
     "name": "stdout",
     "output_type": "stream",
     "text": [
      "{'mapbox_fetched_img': False, 'mapbox_img': 'mapbox/69642/98093/18.jpg', 'mapbox_added_arrow': True, 'bing_fetched_img': False, 'bing_img': 'bing/69642/98093/18.jpg', 'bing_added_arrow': True}\n"
     ]
    },
    {
     "name": "stderr",
     "output_type": "stream",
     "text": [
      "  9%|███▌                                    | 178/2000 [06:01<58:07,  1.91s/it]"
     ]
    },
    {
     "name": "stdout",
     "output_type": "stream",
     "text": [
      "{'mapbox_fetched_img': False, 'mapbox_img': 'mapbox/69642/98093/18.jpg', 'mapbox_added_arrow': True, 'bing_fetched_img': False, 'bing_img': 'bing/69642/98093/18.jpg', 'bing_added_arrow': True}\n"
     ]
    },
    {
     "name": "stderr",
     "output_type": "stream",
     "text": [
      "  9%|███▌                                    | 179/2000 [06:03<57:53,  1.91s/it]"
     ]
    },
    {
     "name": "stdout",
     "output_type": "stream",
     "text": [
      "{'mapbox_fetched_img': False, 'mapbox_img': 'mapbox/69642/98093/18.jpg', 'mapbox_added_arrow': True, 'bing_fetched_img': False, 'bing_img': 'bing/69642/98093/18.jpg', 'bing_added_arrow': True}\n"
     ]
    },
    {
     "name": "stderr",
     "output_type": "stream",
     "text": [
      "  9%|███▌                                    | 180/2000 [06:05<57:02,  1.88s/it]"
     ]
    },
    {
     "name": "stdout",
     "output_type": "stream",
     "text": [
      "{'mapbox_fetched_img': False, 'mapbox_img': 'mapbox/69642/98093/18.jpg', 'mapbox_added_arrow': True, 'bing_fetched_img': False, 'bing_img': 'bing/69642/98093/18.jpg', 'bing_added_arrow': True}\n",
      "Fetching from: https://api.mapbox.com/styles/v1/mapbox/satellite-v9/tiles/256/18/69642/98094?access_token=pk.eyJ1IjoiaXp2b25rb3YiLCJhIjoiY2t0YXU3MTE3MDJuNjJ1bW9xYzc3bTlrMCJ9.fiGLAZ29dmYv2sqlxuaB-A\n",
      "100% [............................................................] 7664 / 7664Fetching from: http://ecn.t0.tiles.virtualearth.net/tiles/a030223222200203230.jpeg?g=14009\n",
      "100% [............................................................] 9894 / 9894"
     ]
    },
    {
     "name": "stderr",
     "output_type": "stream",
     "text": [
      "  9%|███▍                                  | 181/2000 [06:09<1:17:37,  2.56s/it]"
     ]
    },
    {
     "name": "stdout",
     "output_type": "stream",
     "text": [
      "{'mapbox_fetched_img': True, 'mapbox_img': 'mapbox/69642/98094/18.jpg', 'mapbox_added_arrow': True, 'bing_fetched_img': True, 'bing_img': 'bing/69642/98094/18.jpg', 'bing_added_arrow': True}\n"
     ]
    },
    {
     "name": "stderr",
     "output_type": "stream",
     "text": [
      "  9%|███▍                                  | 182/2000 [06:11<1:11:42,  2.37s/it]"
     ]
    },
    {
     "name": "stdout",
     "output_type": "stream",
     "text": [
      "{'mapbox_fetched_img': False, 'mapbox_img': 'mapbox/69642/98094/18.jpg', 'mapbox_added_arrow': True, 'bing_fetched_img': False, 'bing_img': 'bing/69642/98094/18.jpg', 'bing_added_arrow': True}\n"
     ]
    },
    {
     "name": "stderr",
     "output_type": "stream",
     "text": [
      "  9%|███▍                                  | 183/2000 [06:12<1:06:56,  2.21s/it]"
     ]
    },
    {
     "name": "stdout",
     "output_type": "stream",
     "text": [
      "{'mapbox_fetched_img': False, 'mapbox_img': 'mapbox/69642/98094/18.jpg', 'mapbox_added_arrow': True, 'bing_fetched_img': False, 'bing_img': 'bing/69642/98094/18.jpg', 'bing_added_arrow': True}\n"
     ]
    },
    {
     "name": "stderr",
     "output_type": "stream",
     "text": [
      "  9%|███▍                                  | 184/2000 [06:15<1:06:28,  2.20s/it]"
     ]
    },
    {
     "name": "stdout",
     "output_type": "stream",
     "text": [
      "{'mapbox_fetched_img': False, 'mapbox_img': 'mapbox/69642/98094/18.jpg', 'mapbox_added_arrow': True, 'bing_fetched_img': False, 'bing_img': 'bing/69642/98094/18.jpg', 'bing_added_arrow': True}\n"
     ]
    },
    {
     "name": "stderr",
     "output_type": "stream",
     "text": [
      "  9%|███▌                                  | 185/2000 [06:17<1:03:57,  2.11s/it]"
     ]
    },
    {
     "name": "stdout",
     "output_type": "stream",
     "text": [
      "{'mapbox_fetched_img': False, 'mapbox_img': 'mapbox/69642/98094/18.jpg', 'mapbox_added_arrow': True, 'bing_fetched_img': False, 'bing_img': 'bing/69642/98094/18.jpg', 'bing_added_arrow': True}\n"
     ]
    },
    {
     "name": "stderr",
     "output_type": "stream",
     "text": [
      "  9%|███▌                                  | 186/2000 [06:19<1:03:09,  2.09s/it]"
     ]
    },
    {
     "name": "stdout",
     "output_type": "stream",
     "text": [
      "{'mapbox_fetched_img': False, 'mapbox_img': 'mapbox/69642/98094/18.jpg', 'mapbox_added_arrow': True, 'bing_fetched_img': False, 'bing_img': 'bing/69642/98094/18.jpg', 'bing_added_arrow': True}\n"
     ]
    },
    {
     "name": "stderr",
     "output_type": "stream",
     "text": [
      "  9%|███▌                                  | 187/2000 [06:21<1:02:12,  2.06s/it]"
     ]
    },
    {
     "name": "stdout",
     "output_type": "stream",
     "text": [
      "{'mapbox_fetched_img': False, 'mapbox_img': 'mapbox/69642/98094/18.jpg', 'mapbox_added_arrow': True, 'bing_fetched_img': False, 'bing_img': 'bing/69642/98094/18.jpg', 'bing_added_arrow': True}\n"
     ]
    },
    {
     "name": "stderr",
     "output_type": "stream",
     "text": [
      "  9%|███▌                                  | 188/2000 [06:23<1:03:13,  2.09s/it]"
     ]
    },
    {
     "name": "stdout",
     "output_type": "stream",
     "text": [
      "{'mapbox_fetched_img': False, 'mapbox_img': 'mapbox/69642/98094/18.jpg', 'mapbox_added_arrow': True, 'bing_fetched_img': False, 'bing_img': 'bing/69642/98094/18.jpg', 'bing_added_arrow': True}\n",
      "Fetching from: https://api.mapbox.com/styles/v1/mapbox/satellite-v9/tiles/256/18/69642/98095?access_token=pk.eyJ1IjoiaXp2b25rb3YiLCJhIjoiY2t0YXU3MTE3MDJuNjJ1bW9xYzc3bTlrMCJ9.fiGLAZ29dmYv2sqlxuaB-A\n",
      "100% [............................................................] 9853 / 9853Fetching from: http://ecn.t0.tiles.virtualearth.net/tiles/a030223222200203232.jpeg?g=14009\n",
      "100% [..........................................................] 10339 / 10339"
     ]
    },
    {
     "name": "stderr",
     "output_type": "stream",
     "text": [
      "  9%|███▌                                  | 189/2000 [06:26<1:12:40,  2.41s/it]"
     ]
    },
    {
     "name": "stdout",
     "output_type": "stream",
     "text": [
      "{'mapbox_fetched_img': True, 'mapbox_img': 'mapbox/69642/98095/18.jpg', 'mapbox_added_arrow': True, 'bing_fetched_img': True, 'bing_img': 'bing/69642/98095/18.jpg', 'bing_added_arrow': True}\n",
      "Fetching from: https://api.mapbox.com/styles/v1/mapbox/satellite-v9/tiles/256/18/69641/98096?access_token=pk.eyJ1IjoiaXp2b25rb3YiLCJhIjoiY2t0YXU3MTE3MDJuNjJ1bW9xYzc3bTlrMCJ9.fiGLAZ29dmYv2sqlxuaB-A\n",
      "100% [............................................................] 8086 / 8086Fetching from: http://ecn.t0.tiles.virtualearth.net/tiles/a030223222200221001.jpeg?g=14009\n",
      "100% [............................................................] 9126 / 9126"
     ]
    },
    {
     "name": "stderr",
     "output_type": "stream",
     "text": [
      " 10%|███▌                                  | 190/2000 [06:29<1:18:31,  2.60s/it]"
     ]
    },
    {
     "name": "stdout",
     "output_type": "stream",
     "text": [
      "{'mapbox_fetched_img': True, 'mapbox_img': 'mapbox/69641/98096/18.jpg', 'mapbox_added_arrow': True, 'bing_fetched_img': True, 'bing_img': 'bing/69641/98096/18.jpg', 'bing_added_arrow': True}\n"
     ]
    },
    {
     "name": "stderr",
     "output_type": "stream",
     "text": [
      " 10%|███▋                                  | 191/2000 [06:31<1:12:15,  2.40s/it]"
     ]
    },
    {
     "name": "stdout",
     "output_type": "stream",
     "text": [
      "{'mapbox_fetched_img': False, 'mapbox_img': 'mapbox/69641/98096/18.jpg', 'mapbox_added_arrow': True, 'bing_fetched_img': False, 'bing_img': 'bing/69641/98096/18.jpg', 'bing_added_arrow': True}\n"
     ]
    },
    {
     "name": "stderr",
     "output_type": "stream",
     "text": [
      " 10%|███▋                                  | 192/2000 [06:33<1:06:45,  2.22s/it]"
     ]
    },
    {
     "name": "stdout",
     "output_type": "stream",
     "text": [
      "{'mapbox_fetched_img': False, 'mapbox_img': 'mapbox/69641/98096/18.jpg', 'mapbox_added_arrow': True, 'bing_fetched_img': False, 'bing_img': 'bing/69641/98096/18.jpg', 'bing_added_arrow': True}\n"
     ]
    },
    {
     "name": "stderr",
     "output_type": "stream",
     "text": [
      " 10%|███▋                                  | 193/2000 [06:34<1:03:05,  2.09s/it]"
     ]
    },
    {
     "name": "stdout",
     "output_type": "stream",
     "text": [
      "{'mapbox_fetched_img': False, 'mapbox_img': 'mapbox/69641/98096/18.jpg', 'mapbox_added_arrow': True, 'bing_fetched_img': False, 'bing_img': 'bing/69641/98096/18.jpg', 'bing_added_arrow': True}\n"
     ]
    },
    {
     "name": "stderr",
     "output_type": "stream",
     "text": [
      " 10%|███▋                                  | 194/2000 [06:36<1:01:02,  2.03s/it]"
     ]
    },
    {
     "name": "stdout",
     "output_type": "stream",
     "text": [
      "{'mapbox_fetched_img': False, 'mapbox_img': 'mapbox/69641/98096/18.jpg', 'mapbox_added_arrow': True, 'bing_fetched_img': False, 'bing_img': 'bing/69641/98096/18.jpg', 'bing_added_arrow': True}\n"
     ]
    },
    {
     "name": "stderr",
     "output_type": "stream",
     "text": [
      " 10%|███▋                                  | 195/2000 [06:38<1:00:36,  2.01s/it]"
     ]
    },
    {
     "name": "stdout",
     "output_type": "stream",
     "text": [
      "{'mapbox_fetched_img': False, 'mapbox_img': 'mapbox/69641/98096/18.jpg', 'mapbox_added_arrow': True, 'bing_fetched_img': False, 'bing_img': 'bing/69641/98096/18.jpg', 'bing_added_arrow': True}\n",
      "Fetching from: https://api.mapbox.com/styles/v1/mapbox/satellite-v9/tiles/256/18/69640/98096?access_token=pk.eyJ1IjoiaXp2b25rb3YiLCJhIjoiY2t0YXU3MTE3MDJuNjJ1bW9xYzc3bTlrMCJ9.fiGLAZ29dmYv2sqlxuaB-A\n",
      "100% [............................................................] 7037 / 7037No photo found before to establish direction for USA_v2-2021-08-20-croptour-100GOPRO-G0013509\n",
      "Fetching from: http://ecn.t0.tiles.virtualearth.net/tiles/a030223222200221000.jpeg?g=14009\n",
      "100% [............................................................] 8127 / 8127"
     ]
    },
    {
     "name": "stderr",
     "output_type": "stream",
     "text": [
      " 10%|███▋                                  | 196/2000 [06:41<1:03:40,  2.12s/it]"
     ]
    },
    {
     "name": "stdout",
     "output_type": "stream",
     "text": [
      "No photo found before to establish direction for USA_v2-2021-08-20-croptour-100GOPRO-G0013509\n",
      "{'mapbox_fetched_img': True, 'mapbox_img': 'mapbox/69640/98096/18.jpg', 'mapbox_added_arrow': False, 'bing_fetched_img': True, 'bing_img': 'bing/69640/98096/18.jpg', 'bing_added_arrow': False}\n"
     ]
    },
    {
     "name": "stderr",
     "output_type": "stream",
     "text": [
      " 10%|███▋                                  | 197/2000 [06:42<1:00:58,  2.03s/it]"
     ]
    },
    {
     "name": "stdout",
     "output_type": "stream",
     "text": [
      "{'mapbox_fetched_img': False, 'mapbox_img': 'mapbox/69640/98096/18.jpg', 'mapbox_added_arrow': True, 'bing_fetched_img': False, 'bing_img': 'bing/69640/98096/18.jpg', 'bing_added_arrow': True}\n"
     ]
    },
    {
     "name": "stderr",
     "output_type": "stream",
     "text": [
      " 10%|███▉                                    | 198/2000 [06:44<59:02,  1.97s/it]"
     ]
    },
    {
     "name": "stdout",
     "output_type": "stream",
     "text": [
      "{'mapbox_fetched_img': False, 'mapbox_img': 'mapbox/69640/98096/18.jpg', 'mapbox_added_arrow': True, 'bing_fetched_img': False, 'bing_img': 'bing/69640/98096/18.jpg', 'bing_added_arrow': True}\n"
     ]
    },
    {
     "name": "stderr",
     "output_type": "stream",
     "text": [
      " 10%|███▉                                    | 199/2000 [06:46<57:59,  1.93s/it]"
     ]
    },
    {
     "name": "stdout",
     "output_type": "stream",
     "text": [
      "{'mapbox_fetched_img': False, 'mapbox_img': 'mapbox/69640/98096/18.jpg', 'mapbox_added_arrow': True, 'bing_fetched_img': False, 'bing_img': 'bing/69640/98096/18.jpg', 'bing_added_arrow': True}\n"
     ]
    },
    {
     "name": "stderr",
     "output_type": "stream",
     "text": [
      " 10%|████                                    | 200/2000 [06:48<57:51,  1.93s/it]"
     ]
    },
    {
     "name": "stdout",
     "output_type": "stream",
     "text": [
      "{'mapbox_fetched_img': False, 'mapbox_img': 'mapbox/69640/98096/18.jpg', 'mapbox_added_arrow': True, 'bing_fetched_img': False, 'bing_img': 'bing/69640/98096/18.jpg', 'bing_added_arrow': True}\n"
     ]
    },
    {
     "name": "stderr",
     "output_type": "stream",
     "text": [
      " 10%|████                                    | 201/2000 [06:50<57:37,  1.92s/it]"
     ]
    },
    {
     "name": "stdout",
     "output_type": "stream",
     "text": [
      "{'mapbox_fetched_img': False, 'mapbox_img': 'mapbox/69640/98096/18.jpg', 'mapbox_added_arrow': True, 'bing_fetched_img': False, 'bing_img': 'bing/69640/98096/18.jpg', 'bing_added_arrow': True}\n"
     ]
    },
    {
     "name": "stderr",
     "output_type": "stream",
     "text": [
      " 10%|████                                    | 202/2000 [06:52<57:16,  1.91s/it]"
     ]
    },
    {
     "name": "stdout",
     "output_type": "stream",
     "text": [
      "{'mapbox_fetched_img': False, 'mapbox_img': 'mapbox/69640/98096/18.jpg', 'mapbox_added_arrow': True, 'bing_fetched_img': False, 'bing_img': 'bing/69640/98096/18.jpg', 'bing_added_arrow': True}\n"
     ]
    },
    {
     "name": "stderr",
     "output_type": "stream",
     "text": [
      " 10%|███▊                                  | 203/2000 [06:54<1:00:09,  2.01s/it]"
     ]
    },
    {
     "name": "stdout",
     "output_type": "stream",
     "text": [
      "{'mapbox_fetched_img': False, 'mapbox_img': 'mapbox/69640/98096/18.jpg', 'mapbox_added_arrow': True, 'bing_fetched_img': False, 'bing_img': 'bing/69640/98096/18.jpg', 'bing_added_arrow': True}\n"
     ]
    },
    {
     "name": "stderr",
     "output_type": "stream",
     "text": [
      " 10%|████                                    | 204/2000 [06:56<59:24,  1.98s/it]"
     ]
    },
    {
     "name": "stdout",
     "output_type": "stream",
     "text": [
      "{'mapbox_fetched_img': False, 'mapbox_img': 'mapbox/69640/98096/18.jpg', 'mapbox_added_arrow': True, 'bing_fetched_img': False, 'bing_img': 'bing/69640/98096/18.jpg', 'bing_added_arrow': True}\n",
      "Fetching from: https://api.mapbox.com/styles/v1/mapbox/satellite-v9/tiles/256/18/69639/98096?access_token=pk.eyJ1IjoiaXp2b25rb3YiLCJhIjoiY2t0YXU3MTE3MDJuNjJ1bW9xYzc3bTlrMCJ9.fiGLAZ29dmYv2sqlxuaB-A\n",
      "100% [............................................................] 6492 / 6492No photo found before to establish direction for USA_v2-2021-08-20-croptour-100GOPRO-G0013519\n",
      "Fetching from: http://ecn.t0.tiles.virtualearth.net/tiles/a030223222200220111.jpeg?g=14009\n",
      "100% [............................................................] 7826 / 7826"
     ]
    },
    {
     "name": "stderr",
     "output_type": "stream",
     "text": [
      " 10%|███▉                                  | 205/2000 [06:59<1:04:35,  2.16s/it]"
     ]
    },
    {
     "name": "stdout",
     "output_type": "stream",
     "text": [
      "No photo found before to establish direction for USA_v2-2021-08-20-croptour-100GOPRO-G0013519\n",
      "{'mapbox_fetched_img': True, 'mapbox_img': 'mapbox/69639/98096/18.jpg', 'mapbox_added_arrow': False, 'bing_fetched_img': True, 'bing_img': 'bing/69639/98096/18.jpg', 'bing_added_arrow': False}\n"
     ]
    },
    {
     "name": "stderr",
     "output_type": "stream",
     "text": [
      " 10%|███▉                                  | 206/2000 [07:01<1:03:25,  2.12s/it]"
     ]
    },
    {
     "name": "stdout",
     "output_type": "stream",
     "text": [
      "{'mapbox_fetched_img': False, 'mapbox_img': 'mapbox/69639/98096/18.jpg', 'mapbox_added_arrow': True, 'bing_fetched_img': False, 'bing_img': 'bing/69639/98096/18.jpg', 'bing_added_arrow': True}\n"
     ]
    },
    {
     "name": "stderr",
     "output_type": "stream",
     "text": [
      " 10%|███▉                                  | 207/2000 [07:03<1:01:52,  2.07s/it]"
     ]
    },
    {
     "name": "stdout",
     "output_type": "stream",
     "text": [
      "{'mapbox_fetched_img': False, 'mapbox_img': 'mapbox/69639/98096/18.jpg', 'mapbox_added_arrow': True, 'bing_fetched_img': False, 'bing_img': 'bing/69639/98096/18.jpg', 'bing_added_arrow': True}\n"
     ]
    },
    {
     "name": "stderr",
     "output_type": "stream",
     "text": [
      " 10%|███▉                                  | 208/2000 [07:04<1:00:27,  2.02s/it]"
     ]
    },
    {
     "name": "stdout",
     "output_type": "stream",
     "text": [
      "{'mapbox_fetched_img': False, 'mapbox_img': 'mapbox/69639/98096/18.jpg', 'mapbox_added_arrow': True, 'bing_fetched_img': False, 'bing_img': 'bing/69639/98096/18.jpg', 'bing_added_arrow': True}\n"
     ]
    },
    {
     "name": "stderr",
     "output_type": "stream",
     "text": [
      " 10%|███▉                                  | 209/2000 [07:06<1:00:18,  2.02s/it]"
     ]
    },
    {
     "name": "stdout",
     "output_type": "stream",
     "text": [
      "{'mapbox_fetched_img': False, 'mapbox_img': 'mapbox/69639/98096/18.jpg', 'mapbox_added_arrow': True, 'bing_fetched_img': False, 'bing_img': 'bing/69639/98096/18.jpg', 'bing_added_arrow': True}\n"
     ]
    },
    {
     "name": "stderr",
     "output_type": "stream",
     "text": [
      " 10%|████▏                                   | 210/2000 [07:08<59:48,  2.00s/it]"
     ]
    },
    {
     "name": "stdout",
     "output_type": "stream",
     "text": [
      "{'mapbox_fetched_img': False, 'mapbox_img': 'mapbox/69639/98096/18.jpg', 'mapbox_added_arrow': True, 'bing_fetched_img': False, 'bing_img': 'bing/69639/98096/18.jpg', 'bing_added_arrow': True}\n"
     ]
    },
    {
     "name": "stderr",
     "output_type": "stream",
     "text": [
      " 11%|████▏                                   | 211/2000 [07:10<58:34,  1.96s/it]"
     ]
    },
    {
     "name": "stdout",
     "output_type": "stream",
     "text": [
      "{'mapbox_fetched_img': False, 'mapbox_img': 'mapbox/69639/98096/18.jpg', 'mapbox_added_arrow': True, 'bing_fetched_img': False, 'bing_img': 'bing/69639/98096/18.jpg', 'bing_added_arrow': True}\n"
     ]
    },
    {
     "name": "stderr",
     "output_type": "stream",
     "text": [
      " 11%|████▏                                   | 212/2000 [07:12<56:29,  1.90s/it]"
     ]
    },
    {
     "name": "stdout",
     "output_type": "stream",
     "text": [
      "{'mapbox_fetched_img': False, 'mapbox_img': 'mapbox/69639/98096/18.jpg', 'mapbox_added_arrow': True, 'bing_fetched_img': False, 'bing_img': 'bing/69639/98096/18.jpg', 'bing_added_arrow': True}\n"
     ]
    },
    {
     "name": "stderr",
     "output_type": "stream",
     "text": [
      " 11%|████▎                                   | 213/2000 [07:14<55:29,  1.86s/it]"
     ]
    },
    {
     "name": "stdout",
     "output_type": "stream",
     "text": [
      "{'mapbox_fetched_img': False, 'mapbox_img': 'mapbox/69639/98096/18.jpg', 'mapbox_added_arrow': True, 'bing_fetched_img': False, 'bing_img': 'bing/69639/98096/18.jpg', 'bing_added_arrow': True}\n"
     ]
    },
    {
     "name": "stderr",
     "output_type": "stream",
     "text": [
      " 11%|████▎                                   | 214/2000 [07:16<55:31,  1.87s/it]"
     ]
    },
    {
     "name": "stdout",
     "output_type": "stream",
     "text": [
      "{'mapbox_fetched_img': False, 'mapbox_img': 'mapbox/69639/98096/18.jpg', 'mapbox_added_arrow': True, 'bing_fetched_img': False, 'bing_img': 'bing/69639/98096/18.jpg', 'bing_added_arrow': True}\n",
      "Fetching from: https://api.mapbox.com/styles/v1/mapbox/satellite-v9/tiles/256/18/69638/98096?access_token=pk.eyJ1IjoiaXp2b25rb3YiLCJhIjoiY2t0YXU3MTE3MDJuNjJ1bW9xYzc3bTlrMCJ9.fiGLAZ29dmYv2sqlxuaB-A\n",
      "100% [............................................................] 9037 / 9037No photo found before to establish direction for USA_v2-2021-08-20-croptour-100GOPRO-G0013529\n",
      "Fetching from: http://ecn.t0.tiles.virtualearth.net/tiles/a030223222200220110.jpeg?g=14009\n",
      "100% [..........................................................] 10979 / 10979"
     ]
    },
    {
     "name": "stderr",
     "output_type": "stream",
     "text": [
      " 11%|████                                  | 215/2000 [07:18<1:01:24,  2.06s/it]"
     ]
    },
    {
     "name": "stdout",
     "output_type": "stream",
     "text": [
      "No photo found before to establish direction for USA_v2-2021-08-20-croptour-100GOPRO-G0013529\n",
      "{'mapbox_fetched_img': True, 'mapbox_img': 'mapbox/69638/98096/18.jpg', 'mapbox_added_arrow': False, 'bing_fetched_img': True, 'bing_img': 'bing/69638/98096/18.jpg', 'bing_added_arrow': False}\n"
     ]
    },
    {
     "name": "stderr",
     "output_type": "stream",
     "text": [
      " 11%|████                                  | 216/2000 [07:20<1:00:30,  2.03s/it]"
     ]
    },
    {
     "name": "stdout",
     "output_type": "stream",
     "text": [
      "{'mapbox_fetched_img': False, 'mapbox_img': 'mapbox/69638/98096/18.jpg', 'mapbox_added_arrow': True, 'bing_fetched_img': False, 'bing_img': 'bing/69638/98096/18.jpg', 'bing_added_arrow': True}\n"
     ]
    },
    {
     "name": "stderr",
     "output_type": "stream",
     "text": [
      " 11%|████▎                                   | 217/2000 [07:22<59:23,  2.00s/it]"
     ]
    },
    {
     "name": "stdout",
     "output_type": "stream",
     "text": [
      "{'mapbox_fetched_img': False, 'mapbox_img': 'mapbox/69638/98096/18.jpg', 'mapbox_added_arrow': True, 'bing_fetched_img': False, 'bing_img': 'bing/69638/98096/18.jpg', 'bing_added_arrow': True}\n"
     ]
    },
    {
     "name": "stderr",
     "output_type": "stream",
     "text": [
      " 11%|████▎                                   | 218/2000 [07:24<57:24,  1.93s/it]"
     ]
    },
    {
     "name": "stdout",
     "output_type": "stream",
     "text": [
      "{'mapbox_fetched_img': False, 'mapbox_img': 'mapbox/69638/98096/18.jpg', 'mapbox_added_arrow': True, 'bing_fetched_img': False, 'bing_img': 'bing/69638/98096/18.jpg', 'bing_added_arrow': True}\n"
     ]
    },
    {
     "name": "stderr",
     "output_type": "stream",
     "text": [
      " 11%|████▍                                   | 219/2000 [07:26<55:25,  1.87s/it]"
     ]
    },
    {
     "name": "stdout",
     "output_type": "stream",
     "text": [
      "{'mapbox_fetched_img': False, 'mapbox_img': 'mapbox/69638/98096/18.jpg', 'mapbox_added_arrow': True, 'bing_fetched_img': False, 'bing_img': 'bing/69638/98096/18.jpg', 'bing_added_arrow': True}\n"
     ]
    },
    {
     "name": "stderr",
     "output_type": "stream",
     "text": [
      " 11%|████▍                                   | 220/2000 [07:27<55:12,  1.86s/it]"
     ]
    },
    {
     "name": "stdout",
     "output_type": "stream",
     "text": [
      "{'mapbox_fetched_img': False, 'mapbox_img': 'mapbox/69638/98096/18.jpg', 'mapbox_added_arrow': True, 'bing_fetched_img': False, 'bing_img': 'bing/69638/98096/18.jpg', 'bing_added_arrow': True}\n"
     ]
    },
    {
     "name": "stderr",
     "output_type": "stream",
     "text": [
      " 11%|████▍                                   | 221/2000 [07:29<56:29,  1.91s/it]"
     ]
    },
    {
     "name": "stdout",
     "output_type": "stream",
     "text": [
      "{'mapbox_fetched_img': False, 'mapbox_img': 'mapbox/69638/98096/18.jpg', 'mapbox_added_arrow': True, 'bing_fetched_img': False, 'bing_img': 'bing/69638/98096/18.jpg', 'bing_added_arrow': True}\n"
     ]
    },
    {
     "name": "stderr",
     "output_type": "stream",
     "text": [
      " 11%|████▍                                   | 222/2000 [07:31<55:15,  1.86s/it]"
     ]
    },
    {
     "name": "stdout",
     "output_type": "stream",
     "text": [
      "{'mapbox_fetched_img': False, 'mapbox_img': 'mapbox/69638/98096/18.jpg', 'mapbox_added_arrow': True, 'bing_fetched_img': False, 'bing_img': 'bing/69638/98096/18.jpg', 'bing_added_arrow': True}\n",
      "Fetching from: https://api.mapbox.com/styles/v1/mapbox/satellite-v9/tiles/256/18/69637/98096?access_token=pk.eyJ1IjoiaXp2b25rb3YiLCJhIjoiY2t0YXU3MTE3MDJuNjJ1bW9xYzc3bTlrMCJ9.fiGLAZ29dmYv2sqlxuaB-A\n",
      "100% [............................................................] 7691 / 7691No photo found before to establish direction for USA_v2-2021-08-20-croptour-100GOPRO-G0013537\n",
      "Fetching from: http://ecn.t0.tiles.virtualearth.net/tiles/a030223222200220101.jpeg?g=14009\n",
      "100% [..........................................................] 10235 / 10235"
     ]
    },
    {
     "name": "stderr",
     "output_type": "stream",
     "text": [
      " 11%|████▍                                   | 223/2000 [07:33<58:07,  1.96s/it]"
     ]
    },
    {
     "name": "stdout",
     "output_type": "stream",
     "text": [
      "No photo found before to establish direction for USA_v2-2021-08-20-croptour-100GOPRO-G0013537\n",
      "{'mapbox_fetched_img': True, 'mapbox_img': 'mapbox/69637/98096/18.jpg', 'mapbox_added_arrow': False, 'bing_fetched_img': True, 'bing_img': 'bing/69637/98096/18.jpg', 'bing_added_arrow': False}\n"
     ]
    },
    {
     "name": "stderr",
     "output_type": "stream",
     "text": [
      " 11%|████▍                                   | 224/2000 [07:35<56:06,  1.90s/it]"
     ]
    },
    {
     "name": "stdout",
     "output_type": "stream",
     "text": [
      "{'mapbox_fetched_img': False, 'mapbox_img': 'mapbox/69637/98096/18.jpg', 'mapbox_added_arrow': True, 'bing_fetched_img': False, 'bing_img': 'bing/69637/98096/18.jpg', 'bing_added_arrow': True}\n"
     ]
    },
    {
     "name": "stderr",
     "output_type": "stream",
     "text": [
      " 11%|████▌                                   | 225/2000 [07:37<54:53,  1.86s/it]"
     ]
    },
    {
     "name": "stdout",
     "output_type": "stream",
     "text": [
      "{'mapbox_fetched_img': False, 'mapbox_img': 'mapbox/69637/98096/18.jpg', 'mapbox_added_arrow': True, 'bing_fetched_img': False, 'bing_img': 'bing/69637/98096/18.jpg', 'bing_added_arrow': True}\n"
     ]
    },
    {
     "name": "stderr",
     "output_type": "stream",
     "text": [
      " 11%|████▌                                   | 226/2000 [07:39<54:32,  1.84s/it]"
     ]
    },
    {
     "name": "stdout",
     "output_type": "stream",
     "text": [
      "{'mapbox_fetched_img': False, 'mapbox_img': 'mapbox/69637/98096/18.jpg', 'mapbox_added_arrow': True, 'bing_fetched_img': False, 'bing_img': 'bing/69637/98096/18.jpg', 'bing_added_arrow': True}\n"
     ]
    },
    {
     "name": "stderr",
     "output_type": "stream",
     "text": [
      " 11%|████▌                                   | 227/2000 [07:41<55:39,  1.88s/it]"
     ]
    },
    {
     "name": "stdout",
     "output_type": "stream",
     "text": [
      "{'mapbox_fetched_img': False, 'mapbox_img': 'mapbox/69637/98096/18.jpg', 'mapbox_added_arrow': True, 'bing_fetched_img': False, 'bing_img': 'bing/69637/98096/18.jpg', 'bing_added_arrow': True}\n"
     ]
    },
    {
     "name": "stderr",
     "output_type": "stream",
     "text": [
      " 11%|████▌                                   | 228/2000 [07:43<55:21,  1.87s/it]"
     ]
    },
    {
     "name": "stdout",
     "output_type": "stream",
     "text": [
      "{'mapbox_fetched_img': False, 'mapbox_img': 'mapbox/69637/98096/18.jpg', 'mapbox_added_arrow': True, 'bing_fetched_img': False, 'bing_img': 'bing/69637/98096/18.jpg', 'bing_added_arrow': True}\n"
     ]
    },
    {
     "name": "stderr",
     "output_type": "stream",
     "text": [
      " 11%|████▌                                   | 229/2000 [07:44<53:49,  1.82s/it]"
     ]
    },
    {
     "name": "stdout",
     "output_type": "stream",
     "text": [
      "{'mapbox_fetched_img': False, 'mapbox_img': 'mapbox/69637/98096/18.jpg', 'mapbox_added_arrow': True, 'bing_fetched_img': False, 'bing_img': 'bing/69637/98096/18.jpg', 'bing_added_arrow': True}\n",
      "Fetching from: https://api.mapbox.com/styles/v1/mapbox/satellite-v9/tiles/256/18/69636/98096?access_token=pk.eyJ1IjoiaXp2b25rb3YiLCJhIjoiY2t0YXU3MTE3MDJuNjJ1bW9xYzc3bTlrMCJ9.fiGLAZ29dmYv2sqlxuaB-A\n",
      "100% [............................................................] 8452 / 8452Fetching from: http://ecn.t0.tiles.virtualearth.net/tiles/a030223222200220100.jpeg?g=14009\n",
      "100% [..........................................................] 10781 / 10781"
     ]
    },
    {
     "name": "stderr",
     "output_type": "stream",
     "text": [
      " 12%|████▎                                 | 230/2000 [07:47<1:04:03,  2.17s/it]"
     ]
    },
    {
     "name": "stdout",
     "output_type": "stream",
     "text": [
      "{'mapbox_fetched_img': True, 'mapbox_img': 'mapbox/69636/98096/18.jpg', 'mapbox_added_arrow': True, 'bing_fetched_img': True, 'bing_img': 'bing/69636/98096/18.jpg', 'bing_added_arrow': True}\n"
     ]
    },
    {
     "name": "stderr",
     "output_type": "stream",
     "text": [
      " 12%|████▍                                 | 231/2000 [07:49<1:00:19,  2.05s/it]"
     ]
    },
    {
     "name": "stdout",
     "output_type": "stream",
     "text": [
      "{'mapbox_fetched_img': False, 'mapbox_img': 'mapbox/69636/98096/18.jpg', 'mapbox_added_arrow': True, 'bing_fetched_img': False, 'bing_img': 'bing/69636/98096/18.jpg', 'bing_added_arrow': True}\n"
     ]
    },
    {
     "name": "stderr",
     "output_type": "stream",
     "text": [
      " 12%|████▋                                   | 232/2000 [07:51<57:58,  1.97s/it]"
     ]
    },
    {
     "name": "stdout",
     "output_type": "stream",
     "text": [
      "{'mapbox_fetched_img': False, 'mapbox_img': 'mapbox/69636/98096/18.jpg', 'mapbox_added_arrow': True, 'bing_fetched_img': False, 'bing_img': 'bing/69636/98096/18.jpg', 'bing_added_arrow': True}\n",
      "Fetching from: https://api.mapbox.com/styles/v1/mapbox/satellite-v9/tiles/256/18/69635/98096?access_token=pk.eyJ1IjoiaXp2b25rb3YiLCJhIjoiY2t0YXU3MTE3MDJuNjJ1bW9xYzc3bTlrMCJ9.fiGLAZ29dmYv2sqlxuaB-A\n",
      "100% [............................................................] 7732 / 7732Fetching from: http://ecn.t0.tiles.virtualearth.net/tiles/a030223222200220011.jpeg?g=14009\n",
      "100% [..........................................................] 10069 / 10069"
     ]
    },
    {
     "name": "stderr",
     "output_type": "stream",
     "text": [
      " 12%|████▍                                 | 233/2000 [07:54<1:06:22,  2.25s/it]"
     ]
    },
    {
     "name": "stdout",
     "output_type": "stream",
     "text": [
      "{'mapbox_fetched_img': True, 'mapbox_img': 'mapbox/69635/98096/18.jpg', 'mapbox_added_arrow': True, 'bing_fetched_img': True, 'bing_img': 'bing/69635/98096/18.jpg', 'bing_added_arrow': True}\n"
     ]
    },
    {
     "name": "stderr",
     "output_type": "stream",
     "text": [
      " 12%|████▍                                 | 234/2000 [07:55<1:01:20,  2.08s/it]"
     ]
    },
    {
     "name": "stdout",
     "output_type": "stream",
     "text": [
      "{'mapbox_fetched_img': False, 'mapbox_img': 'mapbox/69635/98096/18.jpg', 'mapbox_added_arrow': True, 'bing_fetched_img': False, 'bing_img': 'bing/69635/98096/18.jpg', 'bing_added_arrow': True}\n"
     ]
    },
    {
     "name": "stderr",
     "output_type": "stream",
     "text": [
      " 12%|████▋                                   | 235/2000 [07:57<58:19,  1.98s/it]"
     ]
    },
    {
     "name": "stdout",
     "output_type": "stream",
     "text": [
      "{'mapbox_fetched_img': False, 'mapbox_img': 'mapbox/69635/98096/18.jpg', 'mapbox_added_arrow': True, 'bing_fetched_img': False, 'bing_img': 'bing/69635/98096/18.jpg', 'bing_added_arrow': True}\n"
     ]
    },
    {
     "name": "stderr",
     "output_type": "stream",
     "text": [
      " 12%|████▋                                   | 236/2000 [07:59<58:57,  2.01s/it]"
     ]
    },
    {
     "name": "stdout",
     "output_type": "stream",
     "text": [
      "{'mapbox_fetched_img': False, 'mapbox_img': 'mapbox/69635/98096/18.jpg', 'mapbox_added_arrow': True, 'bing_fetched_img': False, 'bing_img': 'bing/69635/98096/18.jpg', 'bing_added_arrow': True}\n",
      "Fetching from: https://api.mapbox.com/styles/v1/mapbox/satellite-v9/tiles/256/18/69634/98096?access_token=pk.eyJ1IjoiaXp2b25rb3YiLCJhIjoiY2t0YXU3MTE3MDJuNjJ1bW9xYzc3bTlrMCJ9.fiGLAZ29dmYv2sqlxuaB-A\n",
      "100% [............................................................] 8113 / 8113Fetching from: http://ecn.t0.tiles.virtualearth.net/tiles/a030223222200220010.jpeg?g=14009\n",
      "100% [............................................................] 9331 / 9331"
     ]
    },
    {
     "name": "stderr",
     "output_type": "stream",
     "text": [
      " 12%|████▌                                 | 237/2000 [08:02<1:07:06,  2.28s/it]"
     ]
    },
    {
     "name": "stdout",
     "output_type": "stream",
     "text": [
      "{'mapbox_fetched_img': True, 'mapbox_img': 'mapbox/69634/98096/18.jpg', 'mapbox_added_arrow': True, 'bing_fetched_img': True, 'bing_img': 'bing/69634/98096/18.jpg', 'bing_added_arrow': True}\n"
     ]
    },
    {
     "name": "stderr",
     "output_type": "stream",
     "text": [
      " 12%|████▌                                 | 238/2000 [08:04<1:02:29,  2.13s/it]"
     ]
    },
    {
     "name": "stdout",
     "output_type": "stream",
     "text": [
      "{'mapbox_fetched_img': False, 'mapbox_img': 'mapbox/69634/98096/18.jpg', 'mapbox_added_arrow': True, 'bing_fetched_img': False, 'bing_img': 'bing/69634/98096/18.jpg', 'bing_added_arrow': True}\n"
     ]
    },
    {
     "name": "stderr",
     "output_type": "stream",
     "text": [
      " 12%|████▊                                   | 239/2000 [08:06<59:54,  2.04s/it]"
     ]
    },
    {
     "name": "stdout",
     "output_type": "stream",
     "text": [
      "{'mapbox_fetched_img': False, 'mapbox_img': 'mapbox/69634/98096/18.jpg', 'mapbox_added_arrow': True, 'bing_fetched_img': False, 'bing_img': 'bing/69634/98096/18.jpg', 'bing_added_arrow': True}\n",
      "Fetching from: https://api.mapbox.com/styles/v1/mapbox/satellite-v9/tiles/256/18/69633/98096?access_token=pk.eyJ1IjoiaXp2b25rb3YiLCJhIjoiY2t0YXU3MTE3MDJuNjJ1bW9xYzc3bTlrMCJ9.fiGLAZ29dmYv2sqlxuaB-A\n",
      "100% [............................................................] 7011 / 7011No photo found before to establish direction for USA_v2-2021-08-20-croptour-100GOPRO-G0013571\n",
      "Fetching from: http://ecn.t0.tiles.virtualearth.net/tiles/a030223222200220001.jpeg?g=14009\n",
      "100% [............................................................] 9039 / 9039"
     ]
    },
    {
     "name": "stderr",
     "output_type": "stream",
     "text": [
      " 12%|████▌                                 | 240/2000 [08:08<1:02:18,  2.12s/it]"
     ]
    },
    {
     "name": "stdout",
     "output_type": "stream",
     "text": [
      "No photo found before to establish direction for USA_v2-2021-08-20-croptour-100GOPRO-G0013571\n",
      "{'mapbox_fetched_img': True, 'mapbox_img': 'mapbox/69633/98096/18.jpg', 'mapbox_added_arrow': False, 'bing_fetched_img': True, 'bing_img': 'bing/69633/98096/18.jpg', 'bing_added_arrow': False}\n"
     ]
    },
    {
     "name": "stderr",
     "output_type": "stream",
     "text": [
      " 12%|████▊                                   | 241/2000 [08:10<59:27,  2.03s/it]"
     ]
    },
    {
     "name": "stdout",
     "output_type": "stream",
     "text": [
      "{'mapbox_fetched_img': False, 'mapbox_img': 'mapbox/69633/98096/18.jpg', 'mapbox_added_arrow': True, 'bing_fetched_img': False, 'bing_img': 'bing/69633/98096/18.jpg', 'bing_added_arrow': True}\n"
     ]
    },
    {
     "name": "stderr",
     "output_type": "stream",
     "text": [
      " 12%|████▊                                   | 242/2000 [08:12<57:21,  1.96s/it]"
     ]
    },
    {
     "name": "stdout",
     "output_type": "stream",
     "text": [
      "{'mapbox_fetched_img': False, 'mapbox_img': 'mapbox/69633/98096/18.jpg', 'mapbox_added_arrow': True, 'bing_fetched_img': False, 'bing_img': 'bing/69633/98096/18.jpg', 'bing_added_arrow': True}\n"
     ]
    },
    {
     "name": "stderr",
     "output_type": "stream",
     "text": [
      " 12%|████▊                                   | 243/2000 [08:13<55:06,  1.88s/it]"
     ]
    },
    {
     "name": "stdout",
     "output_type": "stream",
     "text": [
      "{'mapbox_fetched_img': False, 'mapbox_img': 'mapbox/69633/98096/18.jpg', 'mapbox_added_arrow': True, 'bing_fetched_img': False, 'bing_img': 'bing/69633/98096/18.jpg', 'bing_added_arrow': True}\n"
     ]
    },
    {
     "name": "stderr",
     "output_type": "stream",
     "text": [
      " 12%|████▉                                   | 244/2000 [08:15<53:47,  1.84s/it]"
     ]
    },
    {
     "name": "stdout",
     "output_type": "stream",
     "text": [
      "{'mapbox_fetched_img': False, 'mapbox_img': 'mapbox/69633/98096/18.jpg', 'mapbox_added_arrow': True, 'bing_fetched_img': False, 'bing_img': 'bing/69633/98096/18.jpg', 'bing_added_arrow': True}\n"
     ]
    },
    {
     "name": "stderr",
     "output_type": "stream",
     "text": [
      " 12%|████▉                                   | 245/2000 [08:17<53:31,  1.83s/it]"
     ]
    },
    {
     "name": "stdout",
     "output_type": "stream",
     "text": [
      "{'mapbox_fetched_img': False, 'mapbox_img': 'mapbox/69633/98096/18.jpg', 'mapbox_added_arrow': True, 'bing_fetched_img': False, 'bing_img': 'bing/69633/98096/18.jpg', 'bing_added_arrow': True}\n"
     ]
    },
    {
     "name": "stderr",
     "output_type": "stream",
     "text": [
      " 12%|████▉                                   | 246/2000 [08:19<52:50,  1.81s/it]"
     ]
    },
    {
     "name": "stdout",
     "output_type": "stream",
     "text": [
      "{'mapbox_fetched_img': False, 'mapbox_img': 'mapbox/69633/98096/18.jpg', 'mapbox_added_arrow': True, 'bing_fetched_img': False, 'bing_img': 'bing/69633/98096/18.jpg', 'bing_added_arrow': True}\n"
     ]
    },
    {
     "name": "stderr",
     "output_type": "stream",
     "text": [
      " 12%|████▉                                   | 247/2000 [08:20<52:10,  1.79s/it]"
     ]
    },
    {
     "name": "stdout",
     "output_type": "stream",
     "text": [
      "{'mapbox_fetched_img': False, 'mapbox_img': 'mapbox/69633/98096/18.jpg', 'mapbox_added_arrow': True, 'bing_fetched_img': False, 'bing_img': 'bing/69633/98096/18.jpg', 'bing_added_arrow': True}\n",
      "Fetching from: https://api.mapbox.com/styles/v1/mapbox/satellite-v9/tiles/256/18/69632/98096?access_token=pk.eyJ1IjoiaXp2b25rb3YiLCJhIjoiY2t0YXU3MTE3MDJuNjJ1bW9xYzc3bTlrMCJ9.fiGLAZ29dmYv2sqlxuaB-A\n",
      "100% [............................................................] 6004 / 6004No photo found before to establish direction for USA_v2-2021-08-20-croptour-100GOPRO-G0013579\n",
      "Fetching from: http://ecn.t0.tiles.virtualearth.net/tiles/a030223222200220000.jpeg?g=14009\n",
      "100% [............................................................] 8688 / 8688"
     ]
    },
    {
     "name": "stderr",
     "output_type": "stream",
     "text": [
      " 12%|████▉                                   | 248/2000 [08:23<54:43,  1.87s/it]"
     ]
    },
    {
     "name": "stdout",
     "output_type": "stream",
     "text": [
      "No photo found before to establish direction for USA_v2-2021-08-20-croptour-100GOPRO-G0013579\n",
      "{'mapbox_fetched_img': True, 'mapbox_img': 'mapbox/69632/98096/18.jpg', 'mapbox_added_arrow': False, 'bing_fetched_img': True, 'bing_img': 'bing/69632/98096/18.jpg', 'bing_added_arrow': False}\n"
     ]
    },
    {
     "name": "stderr",
     "output_type": "stream",
     "text": [
      " 12%|████▉                                   | 249/2000 [08:24<55:42,  1.91s/it]"
     ]
    },
    {
     "name": "stdout",
     "output_type": "stream",
     "text": [
      "{'mapbox_fetched_img': False, 'mapbox_img': 'mapbox/69632/98096/18.jpg', 'mapbox_added_arrow': True, 'bing_fetched_img': False, 'bing_img': 'bing/69632/98096/18.jpg', 'bing_added_arrow': True}\n"
     ]
    },
    {
     "name": "stderr",
     "output_type": "stream",
     "text": [
      " 12%|████▊                                 | 250/2000 [08:27<1:00:55,  2.09s/it]"
     ]
    },
    {
     "name": "stdout",
     "output_type": "stream",
     "text": [
      "{'mapbox_fetched_img': False, 'mapbox_img': 'mapbox/69632/98096/18.jpg', 'mapbox_added_arrow': True, 'bing_fetched_img': False, 'bing_img': 'bing/69632/98096/18.jpg', 'bing_added_arrow': True}\n"
     ]
    },
    {
     "name": "stderr",
     "output_type": "stream",
     "text": [
      " 13%|████▊                                 | 251/2000 [08:29<1:00:40,  2.08s/it]"
     ]
    },
    {
     "name": "stdout",
     "output_type": "stream",
     "text": [
      "{'mapbox_fetched_img': False, 'mapbox_img': 'mapbox/69632/98096/18.jpg', 'mapbox_added_arrow': True, 'bing_fetched_img': False, 'bing_img': 'bing/69632/98096/18.jpg', 'bing_added_arrow': True}\n"
     ]
    },
    {
     "name": "stderr",
     "output_type": "stream",
     "text": [
      " 13%|████▊                                 | 252/2000 [08:31<1:00:37,  2.08s/it]"
     ]
    },
    {
     "name": "stdout",
     "output_type": "stream",
     "text": [
      "{'mapbox_fetched_img': False, 'mapbox_img': 'mapbox/69632/98096/18.jpg', 'mapbox_added_arrow': True, 'bing_fetched_img': False, 'bing_img': 'bing/69632/98096/18.jpg', 'bing_added_arrow': True}\n"
     ]
    },
    {
     "name": "stderr",
     "output_type": "stream",
     "text": [
      " 13%|████▊                                 | 253/2000 [08:33<1:01:25,  2.11s/it]"
     ]
    },
    {
     "name": "stdout",
     "output_type": "stream",
     "text": [
      "{'mapbox_fetched_img': False, 'mapbox_img': 'mapbox/69632/98096/18.jpg', 'mapbox_added_arrow': True, 'bing_fetched_img': False, 'bing_img': 'bing/69632/98096/18.jpg', 'bing_added_arrow': True}\n"
     ]
    },
    {
     "name": "stderr",
     "output_type": "stream",
     "text": [
      " 13%|████▊                                 | 254/2000 [08:36<1:02:44,  2.16s/it]"
     ]
    },
    {
     "name": "stdout",
     "output_type": "stream",
     "text": [
      "{'mapbox_fetched_img': False, 'mapbox_img': 'mapbox/69632/98096/18.jpg', 'mapbox_added_arrow': True, 'bing_fetched_img': False, 'bing_img': 'bing/69632/98096/18.jpg', 'bing_added_arrow': True}\n"
     ]
    },
    {
     "name": "stderr",
     "output_type": "stream",
     "text": [
      " 13%|████▊                                 | 255/2000 [08:38<1:00:38,  2.09s/it]"
     ]
    },
    {
     "name": "stdout",
     "output_type": "stream",
     "text": [
      "{'mapbox_fetched_img': False, 'mapbox_img': 'mapbox/69632/98096/18.jpg', 'mapbox_added_arrow': True, 'bing_fetched_img': False, 'bing_img': 'bing/69632/98096/18.jpg', 'bing_added_arrow': True}\n"
     ]
    },
    {
     "name": "stderr",
     "output_type": "stream",
     "text": [
      " 13%|█████                                   | 256/2000 [08:39<58:57,  2.03s/it]"
     ]
    },
    {
     "name": "stdout",
     "output_type": "stream",
     "text": [
      "{'mapbox_fetched_img': False, 'mapbox_img': 'mapbox/69632/98096/18.jpg', 'mapbox_added_arrow': True, 'bing_fetched_img': False, 'bing_img': 'bing/69632/98096/18.jpg', 'bing_added_arrow': True}\n",
      "Fetching from: https://api.mapbox.com/styles/v1/mapbox/satellite-v9/tiles/256/18/69631/98096?access_token=pk.eyJ1IjoiaXp2b25rb3YiLCJhIjoiY2t0YXU3MTE3MDJuNjJ1bW9xYzc3bTlrMCJ9.fiGLAZ29dmYv2sqlxuaB-A\n",
      "100% [............................................................] 7500 / 7500Fetching from: http://ecn.t0.tiles.virtualearth.net/tiles/a030222333311331111.jpeg?g=14009\n",
      "100% [............................................................] 8821 / 8821"
     ]
    },
    {
     "name": "stderr",
     "output_type": "stream",
     "text": [
      " 13%|████▉                                 | 257/2000 [08:43<1:09:10,  2.38s/it]"
     ]
    },
    {
     "name": "stdout",
     "output_type": "stream",
     "text": [
      "{'mapbox_fetched_img': True, 'mapbox_img': 'mapbox/69631/98096/18.jpg', 'mapbox_added_arrow': True, 'bing_fetched_img': True, 'bing_img': 'bing/69631/98096/18.jpg', 'bing_added_arrow': True}\n"
     ]
    },
    {
     "name": "stderr",
     "output_type": "stream",
     "text": [
      " 13%|████▉                                 | 258/2000 [08:45<1:05:07,  2.24s/it]"
     ]
    },
    {
     "name": "stdout",
     "output_type": "stream",
     "text": [
      "{'mapbox_fetched_img': False, 'mapbox_img': 'mapbox/69631/98096/18.jpg', 'mapbox_added_arrow': True, 'bing_fetched_img': False, 'bing_img': 'bing/69631/98096/18.jpg', 'bing_added_arrow': True}\n"
     ]
    },
    {
     "name": "stderr",
     "output_type": "stream",
     "text": [
      " 13%|████▉                                 | 259/2000 [08:46<1:02:31,  2.15s/it]"
     ]
    },
    {
     "name": "stdout",
     "output_type": "stream",
     "text": [
      "{'mapbox_fetched_img': False, 'mapbox_img': 'mapbox/69631/98096/18.jpg', 'mapbox_added_arrow': True, 'bing_fetched_img': False, 'bing_img': 'bing/69631/98096/18.jpg', 'bing_added_arrow': True}\n"
     ]
    },
    {
     "name": "stderr",
     "output_type": "stream",
     "text": [
      " 13%|████▉                                 | 260/2000 [08:48<1:00:27,  2.08s/it]"
     ]
    },
    {
     "name": "stdout",
     "output_type": "stream",
     "text": [
      "{'mapbox_fetched_img': False, 'mapbox_img': 'mapbox/69631/98096/18.jpg', 'mapbox_added_arrow': True, 'bing_fetched_img': False, 'bing_img': 'bing/69631/98096/18.jpg', 'bing_added_arrow': True}\n"
     ]
    },
    {
     "name": "stderr",
     "output_type": "stream",
     "text": [
      " 13%|████▉                                 | 261/2000 [08:50<1:00:18,  2.08s/it]"
     ]
    },
    {
     "name": "stdout",
     "output_type": "stream",
     "text": [
      "{'mapbox_fetched_img': False, 'mapbox_img': 'mapbox/69631/98096/18.jpg', 'mapbox_added_arrow': True, 'bing_fetched_img': False, 'bing_img': 'bing/69631/98096/18.jpg', 'bing_added_arrow': True}\n"
     ]
    },
    {
     "name": "stderr",
     "output_type": "stream",
     "text": [
      " 13%|█████▏                                  | 262/2000 [08:52<59:34,  2.06s/it]"
     ]
    },
    {
     "name": "stdout",
     "output_type": "stream",
     "text": [
      "{'mapbox_fetched_img': False, 'mapbox_img': 'mapbox/69631/98096/18.jpg', 'mapbox_added_arrow': True, 'bing_fetched_img': False, 'bing_img': 'bing/69631/98096/18.jpg', 'bing_added_arrow': True}\n"
     ]
    },
    {
     "name": "stderr",
     "output_type": "stream",
     "text": [
      " 13%|█████▎                                  | 263/2000 [08:54<57:51,  2.00s/it]"
     ]
    },
    {
     "name": "stdout",
     "output_type": "stream",
     "text": [
      "{'mapbox_fetched_img': False, 'mapbox_img': 'mapbox/69631/98096/18.jpg', 'mapbox_added_arrow': True, 'bing_fetched_img': False, 'bing_img': 'bing/69631/98096/18.jpg', 'bing_added_arrow': True}\n"
     ]
    },
    {
     "name": "stderr",
     "output_type": "stream",
     "text": [
      " 13%|█████▎                                  | 264/2000 [08:56<55:57,  1.93s/it]"
     ]
    },
    {
     "name": "stdout",
     "output_type": "stream",
     "text": [
      "{'mapbox_fetched_img': False, 'mapbox_img': 'mapbox/69631/98096/18.jpg', 'mapbox_added_arrow': True, 'bing_fetched_img': False, 'bing_img': 'bing/69631/98096/18.jpg', 'bing_added_arrow': True}\n",
      "Fetching from: https://api.mapbox.com/styles/v1/mapbox/satellite-v9/tiles/256/18/69630/98096?access_token=pk.eyJ1IjoiaXp2b25rb3YiLCJhIjoiY2t0YXU3MTE3MDJuNjJ1bW9xYzc3bTlrMCJ9.fiGLAZ29dmYv2sqlxuaB-A\n",
      "100% [............................................................] 7726 / 7726Fetching from: http://ecn.t0.tiles.virtualearth.net/tiles/a030222333311331110.jpeg?g=14009\n",
      "100% [............................................................] 8285 / 8285"
     ]
    },
    {
     "name": "stderr",
     "output_type": "stream",
     "text": [
      " 13%|█████                                 | 265/2000 [09:00<1:16:05,  2.63s/it]"
     ]
    },
    {
     "name": "stdout",
     "output_type": "stream",
     "text": [
      "{'mapbox_fetched_img': True, 'mapbox_img': 'mapbox/69630/98096/18.jpg', 'mapbox_added_arrow': True, 'bing_fetched_img': True, 'bing_img': 'bing/69630/98096/18.jpg', 'bing_added_arrow': True}\n"
     ]
    },
    {
     "name": "stderr",
     "output_type": "stream",
     "text": [
      " 13%|█████                                 | 266/2000 [09:02<1:09:54,  2.42s/it]"
     ]
    },
    {
     "name": "stdout",
     "output_type": "stream",
     "text": [
      "{'mapbox_fetched_img': False, 'mapbox_img': 'mapbox/69630/98096/18.jpg', 'mapbox_added_arrow': True, 'bing_fetched_img': False, 'bing_img': 'bing/69630/98096/18.jpg', 'bing_added_arrow': True}\n"
     ]
    },
    {
     "name": "stderr",
     "output_type": "stream",
     "text": [
      " 13%|█████                                 | 267/2000 [09:04<1:04:29,  2.23s/it]"
     ]
    },
    {
     "name": "stdout",
     "output_type": "stream",
     "text": [
      "{'mapbox_fetched_img': False, 'mapbox_img': 'mapbox/69630/98096/18.jpg', 'mapbox_added_arrow': True, 'bing_fetched_img': False, 'bing_img': 'bing/69630/98096/18.jpg', 'bing_added_arrow': True}\n"
     ]
    },
    {
     "name": "stderr",
     "output_type": "stream",
     "text": [
      " 13%|█████                                 | 268/2000 [09:06<1:02:42,  2.17s/it]"
     ]
    },
    {
     "name": "stdout",
     "output_type": "stream",
     "text": [
      "{'mapbox_fetched_img': False, 'mapbox_img': 'mapbox/69630/98096/18.jpg', 'mapbox_added_arrow': True, 'bing_fetched_img': False, 'bing_img': 'bing/69630/98096/18.jpg', 'bing_added_arrow': True}\n"
     ]
    },
    {
     "name": "stderr",
     "output_type": "stream",
     "text": [
      " 13%|█████                                 | 269/2000 [09:08<1:03:38,  2.21s/it]"
     ]
    },
    {
     "name": "stdout",
     "output_type": "stream",
     "text": [
      "{'mapbox_fetched_img': False, 'mapbox_img': 'mapbox/69630/98096/18.jpg', 'mapbox_added_arrow': True, 'bing_fetched_img': False, 'bing_img': 'bing/69630/98096/18.jpg', 'bing_added_arrow': True}\n"
     ]
    },
    {
     "name": "stderr",
     "output_type": "stream",
     "text": [
      " 14%|█████▏                                | 270/2000 [09:10<1:00:23,  2.09s/it]"
     ]
    },
    {
     "name": "stdout",
     "output_type": "stream",
     "text": [
      "{'mapbox_fetched_img': False, 'mapbox_img': 'mapbox/69630/98096/18.jpg', 'mapbox_added_arrow': True, 'bing_fetched_img': False, 'bing_img': 'bing/69630/98096/18.jpg', 'bing_added_arrow': True}\n"
     ]
    },
    {
     "name": "stderr",
     "output_type": "stream",
     "text": [
      " 14%|█████▍                                  | 271/2000 [09:12<58:40,  2.04s/it]"
     ]
    },
    {
     "name": "stdout",
     "output_type": "stream",
     "text": [
      "{'mapbox_fetched_img': False, 'mapbox_img': 'mapbox/69630/98096/18.jpg', 'mapbox_added_arrow': True, 'bing_fetched_img': False, 'bing_img': 'bing/69630/98096/18.jpg', 'bing_added_arrow': True}\n"
     ]
    },
    {
     "name": "stderr",
     "output_type": "stream",
     "text": [
      " 14%|█████▍                                  | 272/2000 [09:14<57:36,  2.00s/it]"
     ]
    },
    {
     "name": "stdout",
     "output_type": "stream",
     "text": [
      "{'mapbox_fetched_img': False, 'mapbox_img': 'mapbox/69630/98096/18.jpg', 'mapbox_added_arrow': True, 'bing_fetched_img': False, 'bing_img': 'bing/69630/98096/18.jpg', 'bing_added_arrow': True}\n"
     ]
    },
    {
     "name": "stderr",
     "output_type": "stream",
     "text": [
      " 14%|█████▍                                  | 273/2000 [09:16<57:36,  2.00s/it]"
     ]
    },
    {
     "name": "stdout",
     "output_type": "stream",
     "text": [
      "{'mapbox_fetched_img': False, 'mapbox_img': 'mapbox/69630/98096/18.jpg', 'mapbox_added_arrow': True, 'bing_fetched_img': False, 'bing_img': 'bing/69630/98096/18.jpg', 'bing_added_arrow': True}\n",
      "Fetching from: https://api.mapbox.com/styles/v1/mapbox/satellite-v9/tiles/256/18/69629/98096?access_token=pk.eyJ1IjoiaXp2b25rb3YiLCJhIjoiY2t0YXU3MTE3MDJuNjJ1bW9xYzc3bTlrMCJ9.fiGLAZ29dmYv2sqlxuaB-A\n",
      "100% [..........................................................] 10433 / 10433Fetching from: http://ecn.t0.tiles.virtualearth.net/tiles/a030222333311331101.jpeg?g=14009\n",
      "100% [..........................................................] 11215 / 11215"
     ]
    },
    {
     "name": "stderr",
     "output_type": "stream",
     "text": [
      " 14%|█████▏                                | 274/2000 [09:20<1:13:14,  2.55s/it]"
     ]
    },
    {
     "name": "stdout",
     "output_type": "stream",
     "text": [
      "{'mapbox_fetched_img': True, 'mapbox_img': 'mapbox/69629/98096/18.jpg', 'mapbox_added_arrow': True, 'bing_fetched_img': True, 'bing_img': 'bing/69629/98096/18.jpg', 'bing_added_arrow': True}\n"
     ]
    },
    {
     "name": "stderr",
     "output_type": "stream",
     "text": [
      " 14%|█████▏                                | 275/2000 [09:23<1:16:15,  2.65s/it]"
     ]
    },
    {
     "name": "stdout",
     "output_type": "stream",
     "text": [
      "{'mapbox_fetched_img': False, 'mapbox_img': 'mapbox/69629/98096/18.jpg', 'mapbox_added_arrow': True, 'bing_fetched_img': False, 'bing_img': 'bing/69629/98096/18.jpg', 'bing_added_arrow': True}\n"
     ]
    },
    {
     "name": "stderr",
     "output_type": "stream",
     "text": [
      " 14%|█████▏                                | 276/2000 [09:25<1:13:36,  2.56s/it]"
     ]
    },
    {
     "name": "stdout",
     "output_type": "stream",
     "text": [
      "{'mapbox_fetched_img': False, 'mapbox_img': 'mapbox/69629/98096/18.jpg', 'mapbox_added_arrow': True, 'bing_fetched_img': False, 'bing_img': 'bing/69629/98096/18.jpg', 'bing_added_arrow': True}\n"
     ]
    },
    {
     "name": "stderr",
     "output_type": "stream",
     "text": [
      " 14%|█████▎                                | 277/2000 [09:27<1:11:50,  2.50s/it]"
     ]
    },
    {
     "name": "stdout",
     "output_type": "stream",
     "text": [
      "{'mapbox_fetched_img': False, 'mapbox_img': 'mapbox/69629/98096/18.jpg', 'mapbox_added_arrow': True, 'bing_fetched_img': False, 'bing_img': 'bing/69629/98096/18.jpg', 'bing_added_arrow': True}\n"
     ]
    },
    {
     "name": "stderr",
     "output_type": "stream",
     "text": [
      " 14%|█████▎                                | 278/2000 [09:30<1:09:02,  2.41s/it]"
     ]
    },
    {
     "name": "stdout",
     "output_type": "stream",
     "text": [
      "{'mapbox_fetched_img': False, 'mapbox_img': 'mapbox/69629/98096/18.jpg', 'mapbox_added_arrow': True, 'bing_fetched_img': False, 'bing_img': 'bing/69629/98096/18.jpg', 'bing_added_arrow': True}\n"
     ]
    },
    {
     "name": "stderr",
     "output_type": "stream",
     "text": [
      " 14%|█████▎                                | 279/2000 [09:32<1:05:42,  2.29s/it]"
     ]
    },
    {
     "name": "stdout",
     "output_type": "stream",
     "text": [
      "{'mapbox_fetched_img': False, 'mapbox_img': 'mapbox/69629/98096/18.jpg', 'mapbox_added_arrow': True, 'bing_fetched_img': False, 'bing_img': 'bing/69629/98096/18.jpg', 'bing_added_arrow': True}\n"
     ]
    },
    {
     "name": "stderr",
     "output_type": "stream",
     "text": [
      " 14%|█████▎                                | 280/2000 [09:34<1:02:44,  2.19s/it]"
     ]
    },
    {
     "name": "stdout",
     "output_type": "stream",
     "text": [
      "{'mapbox_fetched_img': False, 'mapbox_img': 'mapbox/69629/98096/18.jpg', 'mapbox_added_arrow': True, 'bing_fetched_img': False, 'bing_img': 'bing/69629/98096/18.jpg', 'bing_added_arrow': True}\n",
      "Fetching from: https://api.mapbox.com/styles/v1/mapbox/satellite-v9/tiles/256/18/69628/98096?access_token=pk.eyJ1IjoiaXp2b25rb3YiLCJhIjoiY2t0YXU3MTE3MDJuNjJ1bW9xYzc3bTlrMCJ9.fiGLAZ29dmYv2sqlxuaB-A\n",
      "100% [............................................................] 8167 / 8167No photo found before to establish direction for USA_v2-2021-08-20-croptour-100GOPRO-G0013613\n",
      "Fetching from: http://ecn.t0.tiles.virtualearth.net/tiles/a030222333311331100.jpeg?g=14009\n",
      "100% [..........................................................] 11207 / 11207"
     ]
    },
    {
     "name": "stderr",
     "output_type": "stream",
     "text": [
      " 14%|█████▎                                | 281/2000 [09:37<1:14:13,  2.59s/it]"
     ]
    },
    {
     "name": "stdout",
     "output_type": "stream",
     "text": [
      "No photo found before to establish direction for USA_v2-2021-08-20-croptour-100GOPRO-G0013613\n",
      "{'mapbox_fetched_img': True, 'mapbox_img': 'mapbox/69628/98096/18.jpg', 'mapbox_added_arrow': False, 'bing_fetched_img': True, 'bing_img': 'bing/69628/98096/18.jpg', 'bing_added_arrow': False}\n"
     ]
    },
    {
     "name": "stderr",
     "output_type": "stream",
     "text": [
      " 14%|█████▎                                | 282/2000 [09:40<1:13:30,  2.57s/it]"
     ]
    },
    {
     "name": "stdout",
     "output_type": "stream",
     "text": [
      "{'mapbox_fetched_img': False, 'mapbox_img': 'mapbox/69628/98096/18.jpg', 'mapbox_added_arrow': True, 'bing_fetched_img': False, 'bing_img': 'bing/69628/98096/18.jpg', 'bing_added_arrow': True}\n"
     ]
    },
    {
     "name": "stderr",
     "output_type": "stream",
     "text": [
      " 14%|█████▍                                | 283/2000 [09:43<1:17:09,  2.70s/it]"
     ]
    },
    {
     "name": "stdout",
     "output_type": "stream",
     "text": [
      "{'mapbox_fetched_img': False, 'mapbox_img': 'mapbox/69628/98096/18.jpg', 'mapbox_added_arrow': True, 'bing_fetched_img': False, 'bing_img': 'bing/69628/98096/18.jpg', 'bing_added_arrow': True}\n"
     ]
    },
    {
     "name": "stderr",
     "output_type": "stream",
     "text": [
      " 14%|█████▍                                | 284/2000 [09:45<1:12:58,  2.55s/it]"
     ]
    },
    {
     "name": "stdout",
     "output_type": "stream",
     "text": [
      "{'mapbox_fetched_img': False, 'mapbox_img': 'mapbox/69628/98096/18.jpg', 'mapbox_added_arrow': True, 'bing_fetched_img': False, 'bing_img': 'bing/69628/98096/18.jpg', 'bing_added_arrow': True}\n"
     ]
    },
    {
     "name": "stderr",
     "output_type": "stream",
     "text": [
      " 14%|█████▍                                | 285/2000 [09:48<1:17:37,  2.72s/it]"
     ]
    },
    {
     "name": "stdout",
     "output_type": "stream",
     "text": [
      "{'mapbox_fetched_img': False, 'mapbox_img': 'mapbox/69628/98096/18.jpg', 'mapbox_added_arrow': True, 'bing_fetched_img': False, 'bing_img': 'bing/69628/98096/18.jpg', 'bing_added_arrow': True}\n"
     ]
    },
    {
     "name": "stderr",
     "output_type": "stream",
     "text": [
      " 14%|█████▍                                | 286/2000 [09:50<1:15:35,  2.65s/it]"
     ]
    },
    {
     "name": "stdout",
     "output_type": "stream",
     "text": [
      "{'mapbox_fetched_img': False, 'mapbox_img': 'mapbox/69628/98096/18.jpg', 'mapbox_added_arrow': True, 'bing_fetched_img': False, 'bing_img': 'bing/69628/98096/18.jpg', 'bing_added_arrow': True}\n"
     ]
    },
    {
     "name": "stderr",
     "output_type": "stream",
     "text": [
      " 14%|█████▍                                | 287/2000 [09:53<1:10:49,  2.48s/it]"
     ]
    },
    {
     "name": "stdout",
     "output_type": "stream",
     "text": [
      "{'mapbox_fetched_img': False, 'mapbox_img': 'mapbox/69628/98096/18.jpg', 'mapbox_added_arrow': True, 'bing_fetched_img': False, 'bing_img': 'bing/69628/98096/18.jpg', 'bing_added_arrow': True}\n"
     ]
    },
    {
     "name": "stderr",
     "output_type": "stream",
     "text": [
      " 14%|█████▍                                | 288/2000 [09:55<1:06:36,  2.33s/it]"
     ]
    },
    {
     "name": "stdout",
     "output_type": "stream",
     "text": [
      "{'mapbox_fetched_img': False, 'mapbox_img': 'mapbox/69628/98096/18.jpg', 'mapbox_added_arrow': True, 'bing_fetched_img': False, 'bing_img': 'bing/69628/98096/18.jpg', 'bing_added_arrow': True}\n",
      "Fetching from: https://api.mapbox.com/styles/v1/mapbox/satellite-v9/tiles/256/18/69627/98096?access_token=pk.eyJ1IjoiaXp2b25rb3YiLCJhIjoiY2t0YXU3MTE3MDJuNjJ1bW9xYzc3bTlrMCJ9.fiGLAZ29dmYv2sqlxuaB-A\n",
      "100% [............................................................] 7133 / 7133No photo found before to establish direction for USA_v2-2021-08-20-croptour-100GOPRO-G0013621\n",
      "Fetching from: http://ecn.t0.tiles.virtualearth.net/tiles/a030222333311331011.jpeg?g=14009\n",
      "100% [..........................................................] 10629 / 10629"
     ]
    },
    {
     "name": "stderr",
     "output_type": "stream",
     "text": [
      " 14%|█████▍                                | 289/2000 [09:57<1:06:20,  2.33s/it]"
     ]
    },
    {
     "name": "stdout",
     "output_type": "stream",
     "text": [
      "No photo found before to establish direction for USA_v2-2021-08-20-croptour-100GOPRO-G0013621\n",
      "{'mapbox_fetched_img': True, 'mapbox_img': 'mapbox/69627/98096/18.jpg', 'mapbox_added_arrow': False, 'bing_fetched_img': True, 'bing_img': 'bing/69627/98096/18.jpg', 'bing_added_arrow': False}\n"
     ]
    },
    {
     "name": "stderr",
     "output_type": "stream",
     "text": [
      " 14%|█████▌                                | 290/2000 [09:59<1:02:06,  2.18s/it]"
     ]
    },
    {
     "name": "stdout",
     "output_type": "stream",
     "text": [
      "{'mapbox_fetched_img': False, 'mapbox_img': 'mapbox/69627/98096/18.jpg', 'mapbox_added_arrow': True, 'bing_fetched_img': False, 'bing_img': 'bing/69627/98096/18.jpg', 'bing_added_arrow': True}\n"
     ]
    },
    {
     "name": "stderr",
     "output_type": "stream",
     "text": [
      " 15%|█████▊                                  | 291/2000 [10:01<59:05,  2.07s/it]"
     ]
    },
    {
     "name": "stdout",
     "output_type": "stream",
     "text": [
      "{'mapbox_fetched_img': False, 'mapbox_img': 'mapbox/69627/98096/18.jpg', 'mapbox_added_arrow': True, 'bing_fetched_img': False, 'bing_img': 'bing/69627/98096/18.jpg', 'bing_added_arrow': True}\n"
     ]
    },
    {
     "name": "stderr",
     "output_type": "stream",
     "text": [
      " 15%|█████▊                                  | 292/2000 [10:02<57:03,  2.00s/it]"
     ]
    },
    {
     "name": "stdout",
     "output_type": "stream",
     "text": [
      "{'mapbox_fetched_img': False, 'mapbox_img': 'mapbox/69627/98096/18.jpg', 'mapbox_added_arrow': True, 'bing_fetched_img': False, 'bing_img': 'bing/69627/98096/18.jpg', 'bing_added_arrow': True}\n"
     ]
    },
    {
     "name": "stderr",
     "output_type": "stream",
     "text": [
      " 15%|█████▊                                  | 293/2000 [10:04<56:40,  1.99s/it]"
     ]
    },
    {
     "name": "stdout",
     "output_type": "stream",
     "text": [
      "{'mapbox_fetched_img': False, 'mapbox_img': 'mapbox/69627/98096/18.jpg', 'mapbox_added_arrow': True, 'bing_fetched_img': False, 'bing_img': 'bing/69627/98096/18.jpg', 'bing_added_arrow': True}\n"
     ]
    },
    {
     "name": "stderr",
     "output_type": "stream",
     "text": [
      " 15%|█████▉                                  | 294/2000 [10:06<55:19,  1.95s/it]"
     ]
    },
    {
     "name": "stdout",
     "output_type": "stream",
     "text": [
      "{'mapbox_fetched_img': False, 'mapbox_img': 'mapbox/69627/98096/18.jpg', 'mapbox_added_arrow': True, 'bing_fetched_img': False, 'bing_img': 'bing/69627/98096/18.jpg', 'bing_added_arrow': True}\n"
     ]
    },
    {
     "name": "stderr",
     "output_type": "stream",
     "text": [
      " 15%|█████▉                                  | 295/2000 [10:08<54:32,  1.92s/it]"
     ]
    },
    {
     "name": "stdout",
     "output_type": "stream",
     "text": [
      "{'mapbox_fetched_img': False, 'mapbox_img': 'mapbox/69627/98096/18.jpg', 'mapbox_added_arrow': True, 'bing_fetched_img': False, 'bing_img': 'bing/69627/98096/18.jpg', 'bing_added_arrow': True}\n"
     ]
    },
    {
     "name": "stderr",
     "output_type": "stream",
     "text": [
      " 15%|█████▉                                  | 296/2000 [10:10<53:18,  1.88s/it]"
     ]
    },
    {
     "name": "stdout",
     "output_type": "stream",
     "text": [
      "{'mapbox_fetched_img': False, 'mapbox_img': 'mapbox/69627/98096/18.jpg', 'mapbox_added_arrow': True, 'bing_fetched_img': False, 'bing_img': 'bing/69627/98096/18.jpg', 'bing_added_arrow': True}\n"
     ]
    },
    {
     "name": "stderr",
     "output_type": "stream",
     "text": [
      " 15%|█████▉                                  | 297/2000 [10:12<52:23,  1.85s/it]"
     ]
    },
    {
     "name": "stdout",
     "output_type": "stream",
     "text": [
      "{'mapbox_fetched_img': False, 'mapbox_img': 'mapbox/69627/98096/18.jpg', 'mapbox_added_arrow': True, 'bing_fetched_img': False, 'bing_img': 'bing/69627/98096/18.jpg', 'bing_added_arrow': True}\n",
      "Fetching from: https://api.mapbox.com/styles/v1/mapbox/satellite-v9/tiles/256/18/69626/98096?access_token=pk.eyJ1IjoiaXp2b25rb3YiLCJhIjoiY2t0YXU3MTE3MDJuNjJ1bW9xYzc3bTlrMCJ9.fiGLAZ29dmYv2sqlxuaB-A\n",
      "100% [............................................................] 6773 / 6773Fetching from: http://ecn.t0.tiles.virtualearth.net/tiles/a030222333311331010.jpeg?g=14009\n",
      "100% [............................................................] 9231 / 9231"
     ]
    },
    {
     "name": "stderr",
     "output_type": "stream",
     "text": [
      " 15%|█████▋                                | 298/2000 [10:15<1:08:38,  2.42s/it]"
     ]
    },
    {
     "name": "stdout",
     "output_type": "stream",
     "text": [
      "{'mapbox_fetched_img': True, 'mapbox_img': 'mapbox/69626/98096/18.jpg', 'mapbox_added_arrow': True, 'bing_fetched_img': True, 'bing_img': 'bing/69626/98096/18.jpg', 'bing_added_arrow': True}\n"
     ]
    },
    {
     "name": "stderr",
     "output_type": "stream",
     "text": [
      " 15%|█████▋                                | 299/2000 [10:19<1:16:00,  2.68s/it]"
     ]
    },
    {
     "name": "stdout",
     "output_type": "stream",
     "text": [
      "{'mapbox_fetched_img': False, 'mapbox_img': 'mapbox/69626/98096/18.jpg', 'mapbox_added_arrow': True, 'bing_fetched_img': False, 'bing_img': 'bing/69626/98096/18.jpg', 'bing_added_arrow': True}\n"
     ]
    },
    {
     "name": "stderr",
     "output_type": "stream",
     "text": [
      " 15%|█████▋                                | 300/2000 [10:21<1:11:39,  2.53s/it]"
     ]
    },
    {
     "name": "stdout",
     "output_type": "stream",
     "text": [
      "{'mapbox_fetched_img': False, 'mapbox_img': 'mapbox/69626/98096/18.jpg', 'mapbox_added_arrow': True, 'bing_fetched_img': False, 'bing_img': 'bing/69626/98096/18.jpg', 'bing_added_arrow': True}\n"
     ]
    },
    {
     "name": "stderr",
     "output_type": "stream",
     "text": [
      " 15%|█████▋                                | 301/2000 [10:23<1:08:42,  2.43s/it]"
     ]
    },
    {
     "name": "stdout",
     "output_type": "stream",
     "text": [
      "{'mapbox_fetched_img': False, 'mapbox_img': 'mapbox/69626/98096/18.jpg', 'mapbox_added_arrow': True, 'bing_fetched_img': False, 'bing_img': 'bing/69626/98096/18.jpg', 'bing_added_arrow': True}\n"
     ]
    },
    {
     "name": "stderr",
     "output_type": "stream",
     "text": [
      " 15%|█████▋                                | 302/2000 [10:25<1:07:50,  2.40s/it]"
     ]
    },
    {
     "name": "stdout",
     "output_type": "stream",
     "text": [
      "{'mapbox_fetched_img': False, 'mapbox_img': 'mapbox/69626/98096/18.jpg', 'mapbox_added_arrow': True, 'bing_fetched_img': False, 'bing_img': 'bing/69626/98096/18.jpg', 'bing_added_arrow': True}\n"
     ]
    },
    {
     "name": "stderr",
     "output_type": "stream",
     "text": [
      " 15%|█████▊                                | 303/2000 [10:28<1:07:18,  2.38s/it]"
     ]
    },
    {
     "name": "stdout",
     "output_type": "stream",
     "text": [
      "{'mapbox_fetched_img': False, 'mapbox_img': 'mapbox/69626/98096/18.jpg', 'mapbox_added_arrow': True, 'bing_fetched_img': False, 'bing_img': 'bing/69626/98096/18.jpg', 'bing_added_arrow': True}\n"
     ]
    },
    {
     "name": "stderr",
     "output_type": "stream",
     "text": [
      " 15%|█████▊                                | 304/2000 [10:30<1:04:58,  2.30s/it]"
     ]
    },
    {
     "name": "stdout",
     "output_type": "stream",
     "text": [
      "{'mapbox_fetched_img': False, 'mapbox_img': 'mapbox/69626/98096/18.jpg', 'mapbox_added_arrow': True, 'bing_fetched_img': False, 'bing_img': 'bing/69626/98096/18.jpg', 'bing_added_arrow': True}\n"
     ]
    },
    {
     "name": "stderr",
     "output_type": "stream",
     "text": [
      " 15%|█████▊                                | 305/2000 [10:32<1:02:47,  2.22s/it]"
     ]
    },
    {
     "name": "stdout",
     "output_type": "stream",
     "text": [
      "{'mapbox_fetched_img': False, 'mapbox_img': 'mapbox/69626/98096/18.jpg', 'mapbox_added_arrow': True, 'bing_fetched_img': False, 'bing_img': 'bing/69626/98096/18.jpg', 'bing_added_arrow': True}\n",
      "Fetching from: https://api.mapbox.com/styles/v1/mapbox/satellite-v9/tiles/256/18/69625/98096?access_token=pk.eyJ1IjoiaXp2b25rb3YiLCJhIjoiY2t0YXU3MTE3MDJuNjJ1bW9xYzc3bTlrMCJ9.fiGLAZ29dmYv2sqlxuaB-A\n",
      "100% [............................................................] 8329 / 8329Fetching from: http://ecn.t0.tiles.virtualearth.net/tiles/a030222333311331001.jpeg?g=14009\n",
      "100% [..........................................................] 10838 / 10838"
     ]
    },
    {
     "name": "stderr",
     "output_type": "stream",
     "text": [
      " 15%|█████▊                                | 306/2000 [10:35<1:13:49,  2.61s/it]"
     ]
    },
    {
     "name": "stdout",
     "output_type": "stream",
     "text": [
      "{'mapbox_fetched_img': True, 'mapbox_img': 'mapbox/69625/98096/18.jpg', 'mapbox_added_arrow': True, 'bing_fetched_img': True, 'bing_img': 'bing/69625/98096/18.jpg', 'bing_added_arrow': True}\n"
     ]
    },
    {
     "name": "stderr",
     "output_type": "stream",
     "text": [
      " 15%|█████▊                                | 307/2000 [10:37<1:08:57,  2.44s/it]"
     ]
    },
    {
     "name": "stdout",
     "output_type": "stream",
     "text": [
      "{'mapbox_fetched_img': False, 'mapbox_img': 'mapbox/69625/98096/18.jpg', 'mapbox_added_arrow': True, 'bing_fetched_img': False, 'bing_img': 'bing/69625/98096/18.jpg', 'bing_added_arrow': True}\n"
     ]
    },
    {
     "name": "stderr",
     "output_type": "stream",
     "text": [
      " 15%|█████▊                                | 308/2000 [10:39<1:04:16,  2.28s/it]"
     ]
    },
    {
     "name": "stdout",
     "output_type": "stream",
     "text": [
      "{'mapbox_fetched_img': False, 'mapbox_img': 'mapbox/69625/98096/18.jpg', 'mapbox_added_arrow': True, 'bing_fetched_img': False, 'bing_img': 'bing/69625/98096/18.jpg', 'bing_added_arrow': True}\n"
     ]
    },
    {
     "name": "stderr",
     "output_type": "stream",
     "text": [
      " 15%|█████▊                                | 309/2000 [10:41<1:02:32,  2.22s/it]"
     ]
    },
    {
     "name": "stdout",
     "output_type": "stream",
     "text": [
      "{'mapbox_fetched_img': False, 'mapbox_img': 'mapbox/69625/98096/18.jpg', 'mapbox_added_arrow': True, 'bing_fetched_img': False, 'bing_img': 'bing/69625/98096/18.jpg', 'bing_added_arrow': True}\n"
     ]
    },
    {
     "name": "stderr",
     "output_type": "stream",
     "text": [
      " 16%|█████▉                                | 310/2000 [10:43<1:01:34,  2.19s/it]"
     ]
    },
    {
     "name": "stdout",
     "output_type": "stream",
     "text": [
      "{'mapbox_fetched_img': False, 'mapbox_img': 'mapbox/69625/98096/18.jpg', 'mapbox_added_arrow': True, 'bing_fetched_img': False, 'bing_img': 'bing/69625/98096/18.jpg', 'bing_added_arrow': True}\n"
     ]
    },
    {
     "name": "stderr",
     "output_type": "stream",
     "text": [
      " 16%|█████▉                                | 311/2000 [10:46<1:04:53,  2.31s/it]"
     ]
    },
    {
     "name": "stdout",
     "output_type": "stream",
     "text": [
      "{'mapbox_fetched_img': False, 'mapbox_img': 'mapbox/69625/98096/18.jpg', 'mapbox_added_arrow': True, 'bing_fetched_img': False, 'bing_img': 'bing/69625/98096/18.jpg', 'bing_added_arrow': True}\n"
     ]
    },
    {
     "name": "stderr",
     "output_type": "stream",
     "text": [
      " 16%|█████▉                                | 312/2000 [10:48<1:03:43,  2.27s/it]"
     ]
    },
    {
     "name": "stdout",
     "output_type": "stream",
     "text": [
      "{'mapbox_fetched_img': False, 'mapbox_img': 'mapbox/69625/98096/18.jpg', 'mapbox_added_arrow': True, 'bing_fetched_img': False, 'bing_img': 'bing/69625/98096/18.jpg', 'bing_added_arrow': True}\n"
     ]
    },
    {
     "name": "stderr",
     "output_type": "stream",
     "text": [
      " 16%|█████▉                                | 313/2000 [10:51<1:04:20,  2.29s/it]"
     ]
    },
    {
     "name": "stdout",
     "output_type": "stream",
     "text": [
      "{'mapbox_fetched_img': False, 'mapbox_img': 'mapbox/69625/98096/18.jpg', 'mapbox_added_arrow': True, 'bing_fetched_img': False, 'bing_img': 'bing/69625/98096/18.jpg', 'bing_added_arrow': True}\n",
      "Fetching from: https://api.mapbox.com/styles/v1/mapbox/satellite-v9/tiles/256/18/69624/98096?access_token=pk.eyJ1IjoiaXp2b25rb3YiLCJhIjoiY2t0YXU3MTE3MDJuNjJ1bW9xYzc3bTlrMCJ9.fiGLAZ29dmYv2sqlxuaB-A\n",
      "100% [............................................................] 5780 / 5780Fetching from: http://ecn.t0.tiles.virtualearth.net/tiles/a030222333311331000.jpeg?g=14009\n",
      "100% [..........................................................] 11571 / 11571"
     ]
    },
    {
     "name": "stderr",
     "output_type": "stream",
     "text": [
      " 16%|█████▉                                | 314/2000 [10:54<1:11:46,  2.55s/it]"
     ]
    },
    {
     "name": "stdout",
     "output_type": "stream",
     "text": [
      "{'mapbox_fetched_img': True, 'mapbox_img': 'mapbox/69624/98096/18.jpg', 'mapbox_added_arrow': True, 'bing_fetched_img': True, 'bing_img': 'bing/69624/98096/18.jpg', 'bing_added_arrow': True}\n"
     ]
    },
    {
     "name": "stderr",
     "output_type": "stream",
     "text": [
      " 16%|█████▉                                | 315/2000 [10:56<1:07:33,  2.41s/it]"
     ]
    },
    {
     "name": "stdout",
     "output_type": "stream",
     "text": [
      "{'mapbox_fetched_img': False, 'mapbox_img': 'mapbox/69624/98096/18.jpg', 'mapbox_added_arrow': True, 'bing_fetched_img': False, 'bing_img': 'bing/69624/98096/18.jpg', 'bing_added_arrow': True}\n"
     ]
    },
    {
     "name": "stderr",
     "output_type": "stream",
     "text": [
      " 16%|██████                                | 316/2000 [10:58<1:07:09,  2.39s/it]"
     ]
    },
    {
     "name": "stdout",
     "output_type": "stream",
     "text": [
      "{'mapbox_fetched_img': False, 'mapbox_img': 'mapbox/69624/98096/18.jpg', 'mapbox_added_arrow': True, 'bing_fetched_img': False, 'bing_img': 'bing/69624/98096/18.jpg', 'bing_added_arrow': True}\n"
     ]
    },
    {
     "name": "stderr",
     "output_type": "stream",
     "text": [
      " 16%|██████                                | 317/2000 [11:00<1:04:08,  2.29s/it]"
     ]
    },
    {
     "name": "stdout",
     "output_type": "stream",
     "text": [
      "{'mapbox_fetched_img': False, 'mapbox_img': 'mapbox/69624/98096/18.jpg', 'mapbox_added_arrow': True, 'bing_fetched_img': False, 'bing_img': 'bing/69624/98096/18.jpg', 'bing_added_arrow': True}\n"
     ]
    },
    {
     "name": "stderr",
     "output_type": "stream",
     "text": [
      " 16%|██████                                | 318/2000 [11:02<1:03:30,  2.27s/it]"
     ]
    },
    {
     "name": "stdout",
     "output_type": "stream",
     "text": [
      "{'mapbox_fetched_img': False, 'mapbox_img': 'mapbox/69624/98096/18.jpg', 'mapbox_added_arrow': True, 'bing_fetched_img': False, 'bing_img': 'bing/69624/98096/18.jpg', 'bing_added_arrow': True}\n"
     ]
    },
    {
     "name": "stderr",
     "output_type": "stream",
     "text": [
      " 16%|██████                                | 319/2000 [11:05<1:06:17,  2.37s/it]"
     ]
    },
    {
     "name": "stdout",
     "output_type": "stream",
     "text": [
      "{'mapbox_fetched_img': False, 'mapbox_img': 'mapbox/69624/98096/18.jpg', 'mapbox_added_arrow': True, 'bing_fetched_img': False, 'bing_img': 'bing/69624/98096/18.jpg', 'bing_added_arrow': True}\n"
     ]
    },
    {
     "name": "stderr",
     "output_type": "stream",
     "text": [
      " 16%|██████                                | 320/2000 [11:08<1:07:12,  2.40s/it]"
     ]
    },
    {
     "name": "stdout",
     "output_type": "stream",
     "text": [
      "{'mapbox_fetched_img': False, 'mapbox_img': 'mapbox/69624/98096/18.jpg', 'mapbox_added_arrow': True, 'bing_fetched_img': False, 'bing_img': 'bing/69624/98096/18.jpg', 'bing_added_arrow': True}\n"
     ]
    },
    {
     "name": "stderr",
     "output_type": "stream",
     "text": [
      " 16%|██████                                | 321/2000 [11:10<1:04:36,  2.31s/it]"
     ]
    },
    {
     "name": "stdout",
     "output_type": "stream",
     "text": [
      "{'mapbox_fetched_img': False, 'mapbox_img': 'mapbox/69624/98096/18.jpg', 'mapbox_added_arrow': True, 'bing_fetched_img': False, 'bing_img': 'bing/69624/98096/18.jpg', 'bing_added_arrow': True}\n",
      "Fetching from: https://api.mapbox.com/styles/v1/mapbox/satellite-v9/tiles/256/18/69623/98096?access_token=pk.eyJ1IjoiaXp2b25rb3YiLCJhIjoiY2t0YXU3MTE3MDJuNjJ1bW9xYzc3bTlrMCJ9.fiGLAZ29dmYv2sqlxuaB-A\n",
      "100% [............................................................] 3658 / 3658Fetching from: http://ecn.t0.tiles.virtualearth.net/tiles/a030222333311330111.jpeg?g=14009\n",
      "100% [..........................................................] 11015 / 11015"
     ]
    },
    {
     "name": "stderr",
     "output_type": "stream",
     "text": [
      " 16%|██████                                | 322/2000 [11:13<1:16:20,  2.73s/it]"
     ]
    },
    {
     "name": "stdout",
     "output_type": "stream",
     "text": [
      "{'mapbox_fetched_img': True, 'mapbox_img': 'mapbox/69623/98096/18.jpg', 'mapbox_added_arrow': True, 'bing_fetched_img': True, 'bing_img': 'bing/69623/98096/18.jpg', 'bing_added_arrow': True}\n"
     ]
    },
    {
     "name": "stderr",
     "output_type": "stream",
     "text": [
      " 16%|██████▏                               | 323/2000 [11:16<1:13:12,  2.62s/it]"
     ]
    },
    {
     "name": "stdout",
     "output_type": "stream",
     "text": [
      "{'mapbox_fetched_img': False, 'mapbox_img': 'mapbox/69623/98096/18.jpg', 'mapbox_added_arrow': True, 'bing_fetched_img': False, 'bing_img': 'bing/69623/98096/18.jpg', 'bing_added_arrow': True}\n"
     ]
    },
    {
     "name": "stderr",
     "output_type": "stream",
     "text": [
      " 16%|██████▏                               | 324/2000 [11:18<1:08:47,  2.46s/it]"
     ]
    },
    {
     "name": "stdout",
     "output_type": "stream",
     "text": [
      "{'mapbox_fetched_img': False, 'mapbox_img': 'mapbox/69623/98096/18.jpg', 'mapbox_added_arrow': True, 'bing_fetched_img': False, 'bing_img': 'bing/69623/98096/18.jpg', 'bing_added_arrow': True}\n"
     ]
    },
    {
     "name": "stderr",
     "output_type": "stream",
     "text": [
      " 16%|██████▏                               | 325/2000 [11:20<1:04:32,  2.31s/it]"
     ]
    },
    {
     "name": "stdout",
     "output_type": "stream",
     "text": [
      "{'mapbox_fetched_img': False, 'mapbox_img': 'mapbox/69623/98096/18.jpg', 'mapbox_added_arrow': True, 'bing_fetched_img': False, 'bing_img': 'bing/69623/98096/18.jpg', 'bing_added_arrow': True}\n"
     ]
    },
    {
     "name": "stderr",
     "output_type": "stream",
     "text": [
      " 16%|██████▏                               | 326/2000 [11:22<1:01:37,  2.21s/it]"
     ]
    },
    {
     "name": "stdout",
     "output_type": "stream",
     "text": [
      "{'mapbox_fetched_img': False, 'mapbox_img': 'mapbox/69623/98096/18.jpg', 'mapbox_added_arrow': True, 'bing_fetched_img': False, 'bing_img': 'bing/69623/98096/18.jpg', 'bing_added_arrow': True}\n"
     ]
    },
    {
     "name": "stderr",
     "output_type": "stream",
     "text": [
      " 16%|██████▏                               | 327/2000 [11:24<1:01:34,  2.21s/it]"
     ]
    },
    {
     "name": "stdout",
     "output_type": "stream",
     "text": [
      "{'mapbox_fetched_img': False, 'mapbox_img': 'mapbox/69623/98096/18.jpg', 'mapbox_added_arrow': True, 'bing_fetched_img': False, 'bing_img': 'bing/69623/98096/18.jpg', 'bing_added_arrow': True}\n"
     ]
    },
    {
     "name": "stderr",
     "output_type": "stream",
     "text": [
      " 16%|██████▏                               | 328/2000 [11:26<1:01:51,  2.22s/it]"
     ]
    },
    {
     "name": "stdout",
     "output_type": "stream",
     "text": [
      "{'mapbox_fetched_img': False, 'mapbox_img': 'mapbox/69623/98096/18.jpg', 'mapbox_added_arrow': True, 'bing_fetched_img': False, 'bing_img': 'bing/69623/98096/18.jpg', 'bing_added_arrow': True}\n"
     ]
    },
    {
     "name": "stderr",
     "output_type": "stream",
     "text": [
      " 16%|██████▌                                 | 329/2000 [11:28<59:14,  2.13s/it]"
     ]
    },
    {
     "name": "stdout",
     "output_type": "stream",
     "text": [
      "{'mapbox_fetched_img': False, 'mapbox_img': 'mapbox/69623/98096/18.jpg', 'mapbox_added_arrow': True, 'bing_fetched_img': False, 'bing_img': 'bing/69623/98096/18.jpg', 'bing_added_arrow': True}\n",
      "Fetching from: https://api.mapbox.com/styles/v1/mapbox/satellite-v9/tiles/256/18/69622/98096?access_token=pk.eyJ1IjoiaXp2b25rb3YiLCJhIjoiY2t0YXU3MTE3MDJuNjJ1bW9xYzc3bTlrMCJ9.fiGLAZ29dmYv2sqlxuaB-A\n",
      "100% [............................................................] 4430 / 4430Fetching from: http://ecn.t0.tiles.virtualearth.net/tiles/a030222333311330110.jpeg?g=14009\n",
      "100% [..........................................................] 11255 / 11255"
     ]
    },
    {
     "name": "stderr",
     "output_type": "stream",
     "text": [
      " 16%|██████▎                               | 330/2000 [11:31<1:06:19,  2.38s/it]"
     ]
    },
    {
     "name": "stdout",
     "output_type": "stream",
     "text": [
      "{'mapbox_fetched_img': True, 'mapbox_img': 'mapbox/69622/98096/18.jpg', 'mapbox_added_arrow': True, 'bing_fetched_img': True, 'bing_img': 'bing/69622/98096/18.jpg', 'bing_added_arrow': True}\n"
     ]
    },
    {
     "name": "stderr",
     "output_type": "stream",
     "text": [
      " 17%|██████▎                               | 331/2000 [11:33<1:03:21,  2.28s/it]"
     ]
    },
    {
     "name": "stdout",
     "output_type": "stream",
     "text": [
      "{'mapbox_fetched_img': False, 'mapbox_img': 'mapbox/69622/98096/18.jpg', 'mapbox_added_arrow': True, 'bing_fetched_img': False, 'bing_img': 'bing/69622/98096/18.jpg', 'bing_added_arrow': True}\n"
     ]
    },
    {
     "name": "stderr",
     "output_type": "stream",
     "text": [
      " 17%|██████▎                               | 332/2000 [11:35<1:01:08,  2.20s/it]"
     ]
    },
    {
     "name": "stdout",
     "output_type": "stream",
     "text": [
      "{'mapbox_fetched_img': False, 'mapbox_img': 'mapbox/69622/98096/18.jpg', 'mapbox_added_arrow': True, 'bing_fetched_img': False, 'bing_img': 'bing/69622/98096/18.jpg', 'bing_added_arrow': True}\n"
     ]
    },
    {
     "name": "stderr",
     "output_type": "stream",
     "text": [
      " 17%|██████▋                                 | 333/2000 [11:37<58:56,  2.12s/it]"
     ]
    },
    {
     "name": "stdout",
     "output_type": "stream",
     "text": [
      "{'mapbox_fetched_img': False, 'mapbox_img': 'mapbox/69622/98096/18.jpg', 'mapbox_added_arrow': True, 'bing_fetched_img': False, 'bing_img': 'bing/69622/98096/18.jpg', 'bing_added_arrow': True}\n"
     ]
    },
    {
     "name": "stderr",
     "output_type": "stream",
     "text": [
      " 17%|██████▋                                 | 334/2000 [11:39<57:53,  2.08s/it]"
     ]
    },
    {
     "name": "stdout",
     "output_type": "stream",
     "text": [
      "{'mapbox_fetched_img': False, 'mapbox_img': 'mapbox/69622/98096/18.jpg', 'mapbox_added_arrow': True, 'bing_fetched_img': False, 'bing_img': 'bing/69622/98096/18.jpg', 'bing_added_arrow': True}\n"
     ]
    },
    {
     "name": "stderr",
     "output_type": "stream",
     "text": [
      " 17%|██████▋                                 | 335/2000 [11:41<57:33,  2.07s/it]"
     ]
    },
    {
     "name": "stdout",
     "output_type": "stream",
     "text": [
      "{'mapbox_fetched_img': False, 'mapbox_img': 'mapbox/69622/98096/18.jpg', 'mapbox_added_arrow': True, 'bing_fetched_img': False, 'bing_img': 'bing/69622/98096/18.jpg', 'bing_added_arrow': True}\n"
     ]
    },
    {
     "name": "stderr",
     "output_type": "stream",
     "text": [
      " 17%|██████▋                                 | 336/2000 [11:43<56:15,  2.03s/it]"
     ]
    },
    {
     "name": "stdout",
     "output_type": "stream",
     "text": [
      "{'mapbox_fetched_img': False, 'mapbox_img': 'mapbox/69622/98096/18.jpg', 'mapbox_added_arrow': True, 'bing_fetched_img': False, 'bing_img': 'bing/69622/98096/18.jpg', 'bing_added_arrow': True}\n"
     ]
    },
    {
     "name": "stderr",
     "output_type": "stream",
     "text": [
      " 17%|██████▋                                 | 337/2000 [11:45<57:46,  2.08s/it]"
     ]
    },
    {
     "name": "stdout",
     "output_type": "stream",
     "text": [
      "{'mapbox_fetched_img': False, 'mapbox_img': 'mapbox/69622/98096/18.jpg', 'mapbox_added_arrow': True, 'bing_fetched_img': False, 'bing_img': 'bing/69622/98096/18.jpg', 'bing_added_arrow': True}\n",
      "Fetching from: https://api.mapbox.com/styles/v1/mapbox/satellite-v9/tiles/256/18/69621/98096?access_token=pk.eyJ1IjoiaXp2b25rb3YiLCJhIjoiY2t0YXU3MTE3MDJuNjJ1bW9xYzc3bTlrMCJ9.fiGLAZ29dmYv2sqlxuaB-A\n",
      "100% [............................................................] 6687 / 6687Fetching from: http://ecn.t0.tiles.virtualearth.net/tiles/a030222333311330101.jpeg?g=14009\n",
      "100% [............................................................] 8618 / 8618"
     ]
    },
    {
     "name": "stderr",
     "output_type": "stream",
     "text": [
      " 17%|██████▍                               | 338/2000 [11:49<1:10:16,  2.54s/it]"
     ]
    },
    {
     "name": "stdout",
     "output_type": "stream",
     "text": [
      "{'mapbox_fetched_img': True, 'mapbox_img': 'mapbox/69621/98096/18.jpg', 'mapbox_added_arrow': True, 'bing_fetched_img': True, 'bing_img': 'bing/69621/98096/18.jpg', 'bing_added_arrow': True}\n"
     ]
    },
    {
     "name": "stderr",
     "output_type": "stream",
     "text": [
      " 17%|██████▍                               | 339/2000 [11:51<1:11:04,  2.57s/it]"
     ]
    },
    {
     "name": "stdout",
     "output_type": "stream",
     "text": [
      "{'mapbox_fetched_img': False, 'mapbox_img': 'mapbox/69621/98096/18.jpg', 'mapbox_added_arrow': True, 'bing_fetched_img': False, 'bing_img': 'bing/69621/98096/18.jpg', 'bing_added_arrow': True}\n"
     ]
    },
    {
     "name": "stderr",
     "output_type": "stream",
     "text": [
      " 17%|██████▍                               | 340/2000 [11:57<1:33:08,  3.37s/it]"
     ]
    },
    {
     "name": "stdout",
     "output_type": "stream",
     "text": [
      "{'mapbox_fetched_img': False, 'mapbox_img': 'mapbox/69621/98096/18.jpg', 'mapbox_added_arrow': True, 'bing_fetched_img': False, 'bing_img': 'bing/69621/98096/18.jpg', 'bing_added_arrow': True}\n"
     ]
    },
    {
     "name": "stderr",
     "output_type": "stream",
     "text": [
      " 17%|██████▍                               | 341/2000 [11:59<1:23:47,  3.03s/it]"
     ]
    },
    {
     "name": "stdout",
     "output_type": "stream",
     "text": [
      "{'mapbox_fetched_img': False, 'mapbox_img': 'mapbox/69621/98096/18.jpg', 'mapbox_added_arrow': True, 'bing_fetched_img': False, 'bing_img': 'bing/69621/98096/18.jpg', 'bing_added_arrow': True}\n"
     ]
    },
    {
     "name": "stderr",
     "output_type": "stream",
     "text": [
      " 17%|██████▍                               | 342/2000 [12:02<1:26:55,  3.15s/it]"
     ]
    },
    {
     "name": "stdout",
     "output_type": "stream",
     "text": [
      "{'mapbox_fetched_img': False, 'mapbox_img': 'mapbox/69621/98096/18.jpg', 'mapbox_added_arrow': True, 'bing_fetched_img': False, 'bing_img': 'bing/69621/98096/18.jpg', 'bing_added_arrow': True}\n"
     ]
    },
    {
     "name": "stderr",
     "output_type": "stream",
     "text": [
      " 17%|██████▌                               | 343/2000 [12:07<1:36:01,  3.48s/it]"
     ]
    },
    {
     "name": "stdout",
     "output_type": "stream",
     "text": [
      "{'mapbox_fetched_img': False, 'mapbox_img': 'mapbox/69621/98096/18.jpg', 'mapbox_added_arrow': True, 'bing_fetched_img': False, 'bing_img': 'bing/69621/98096/18.jpg', 'bing_added_arrow': True}\n"
     ]
    },
    {
     "name": "stderr",
     "output_type": "stream",
     "text": [
      " 17%|██████▌                               | 344/2000 [12:11<1:45:53,  3.84s/it]"
     ]
    },
    {
     "name": "stdout",
     "output_type": "stream",
     "text": [
      "{'mapbox_fetched_img': False, 'mapbox_img': 'mapbox/69621/98096/18.jpg', 'mapbox_added_arrow': True, 'bing_fetched_img': False, 'bing_img': 'bing/69621/98096/18.jpg', 'bing_added_arrow': True}\n"
     ]
    },
    {
     "name": "stderr",
     "output_type": "stream",
     "text": [
      " 17%|██████▌                               | 345/2000 [12:14<1:38:25,  3.57s/it]"
     ]
    },
    {
     "name": "stdout",
     "output_type": "stream",
     "text": [
      "{'mapbox_fetched_img': False, 'mapbox_img': 'mapbox/69621/98096/18.jpg', 'mapbox_added_arrow': True, 'bing_fetched_img': False, 'bing_img': 'bing/69621/98096/18.jpg', 'bing_added_arrow': True}\n",
      "Fetching from: https://api.mapbox.com/styles/v1/mapbox/satellite-v9/tiles/256/18/69620/98096?access_token=pk.eyJ1IjoiaXp2b25rb3YiLCJhIjoiY2t0YXU3MTE3MDJuNjJ1bW9xYzc3bTlrMCJ9.fiGLAZ29dmYv2sqlxuaB-A\n",
      "100% [............................................................] 8103 / 8103No photo found before to establish direction for USA_v2-2021-08-20-croptour-100GOPRO-G0013678\n",
      "Fetching from: http://ecn.t0.tiles.virtualearth.net/tiles/a030222333311330100.jpeg?g=14009\n",
      "100% [............................................................] 9715 / 9715"
     ]
    },
    {
     "name": "stderr",
     "output_type": "stream",
     "text": [
      " 17%|██████▌                               | 346/2000 [12:18<1:44:02,  3.77s/it]"
     ]
    },
    {
     "name": "stdout",
     "output_type": "stream",
     "text": [
      "No photo found before to establish direction for USA_v2-2021-08-20-croptour-100GOPRO-G0013678\n",
      "{'mapbox_fetched_img': True, 'mapbox_img': 'mapbox/69620/98096/18.jpg', 'mapbox_added_arrow': False, 'bing_fetched_img': True, 'bing_img': 'bing/69620/98096/18.jpg', 'bing_added_arrow': False}\n"
     ]
    },
    {
     "name": "stderr",
     "output_type": "stream",
     "text": [
      " 17%|██████▌                               | 347/2000 [12:21<1:32:55,  3.37s/it]"
     ]
    },
    {
     "name": "stdout",
     "output_type": "stream",
     "text": [
      "{'mapbox_fetched_img': False, 'mapbox_img': 'mapbox/69620/98096/18.jpg', 'mapbox_added_arrow': True, 'bing_fetched_img': False, 'bing_img': 'bing/69620/98096/18.jpg', 'bing_added_arrow': True}\n"
     ]
    },
    {
     "name": "stderr",
     "output_type": "stream",
     "text": [
      " 17%|██████▌                               | 348/2000 [12:23<1:22:48,  3.01s/it]"
     ]
    },
    {
     "name": "stdout",
     "output_type": "stream",
     "text": [
      "{'mapbox_fetched_img': False, 'mapbox_img': 'mapbox/69620/98096/18.jpg', 'mapbox_added_arrow': True, 'bing_fetched_img': False, 'bing_img': 'bing/69620/98096/18.jpg', 'bing_added_arrow': True}\n"
     ]
    },
    {
     "name": "stderr",
     "output_type": "stream",
     "text": [
      " 17%|██████▋                               | 349/2000 [12:26<1:21:02,  2.95s/it]"
     ]
    },
    {
     "name": "stdout",
     "output_type": "stream",
     "text": [
      "{'mapbox_fetched_img': False, 'mapbox_img': 'mapbox/69620/98096/18.jpg', 'mapbox_added_arrow': True, 'bing_fetched_img': False, 'bing_img': 'bing/69620/98096/18.jpg', 'bing_added_arrow': True}\n"
     ]
    },
    {
     "name": "stderr",
     "output_type": "stream",
     "text": [
      " 18%|██████▋                               | 350/2000 [12:28<1:15:59,  2.76s/it]"
     ]
    },
    {
     "name": "stdout",
     "output_type": "stream",
     "text": [
      "{'mapbox_fetched_img': False, 'mapbox_img': 'mapbox/69620/98096/18.jpg', 'mapbox_added_arrow': True, 'bing_fetched_img': False, 'bing_img': 'bing/69620/98096/18.jpg', 'bing_added_arrow': True}\n"
     ]
    },
    {
     "name": "stderr",
     "output_type": "stream",
     "text": [
      " 18%|██████▋                               | 351/2000 [12:30<1:08:41,  2.50s/it]"
     ]
    },
    {
     "name": "stdout",
     "output_type": "stream",
     "text": [
      "{'mapbox_fetched_img': False, 'mapbox_img': 'mapbox/69620/98096/18.jpg', 'mapbox_added_arrow': True, 'bing_fetched_img': False, 'bing_img': 'bing/69620/98096/18.jpg', 'bing_added_arrow': True}\n"
     ]
    },
    {
     "name": "stderr",
     "output_type": "stream",
     "text": [
      " 18%|██████▋                               | 352/2000 [12:32<1:05:41,  2.39s/it]"
     ]
    },
    {
     "name": "stdout",
     "output_type": "stream",
     "text": [
      "{'mapbox_fetched_img': False, 'mapbox_img': 'mapbox/69620/98096/18.jpg', 'mapbox_added_arrow': True, 'bing_fetched_img': False, 'bing_img': 'bing/69620/98096/18.jpg', 'bing_added_arrow': True}\n",
      "Fetching from: https://api.mapbox.com/styles/v1/mapbox/satellite-v9/tiles/256/18/69619/98096?access_token=pk.eyJ1IjoiaXp2b25rb3YiLCJhIjoiY2t0YXU3MTE3MDJuNjJ1bW9xYzc3bTlrMCJ9.fiGLAZ29dmYv2sqlxuaB-A\n",
      "100% [............................................................] 7864 / 7864Fetching from: http://ecn.t0.tiles.virtualearth.net/tiles/a030222333311330011.jpeg?g=14009\n",
      "100% [..........................................................] 10682 / 10682"
     ]
    },
    {
     "name": "stderr",
     "output_type": "stream",
     "text": [
      " 18%|██████▋                               | 353/2000 [12:36<1:20:36,  2.94s/it]"
     ]
    },
    {
     "name": "stdout",
     "output_type": "stream",
     "text": [
      "{'mapbox_fetched_img': True, 'mapbox_img': 'mapbox/69619/98096/18.jpg', 'mapbox_added_arrow': True, 'bing_fetched_img': True, 'bing_img': 'bing/69619/98096/18.jpg', 'bing_added_arrow': True}\n"
     ]
    },
    {
     "name": "stderr",
     "output_type": "stream",
     "text": [
      " 18%|██████▋                               | 354/2000 [12:39<1:14:06,  2.70s/it]"
     ]
    },
    {
     "name": "stdout",
     "output_type": "stream",
     "text": [
      "{'mapbox_fetched_img': False, 'mapbox_img': 'mapbox/69619/98096/18.jpg', 'mapbox_added_arrow': True, 'bing_fetched_img': False, 'bing_img': 'bing/69619/98096/18.jpg', 'bing_added_arrow': True}\n"
     ]
    },
    {
     "name": "stderr",
     "output_type": "stream",
     "text": [
      " 18%|██████▋                               | 355/2000 [12:41<1:07:35,  2.47s/it]"
     ]
    },
    {
     "name": "stdout",
     "output_type": "stream",
     "text": [
      "{'mapbox_fetched_img': False, 'mapbox_img': 'mapbox/69619/98096/18.jpg', 'mapbox_added_arrow': True, 'bing_fetched_img': False, 'bing_img': 'bing/69619/98096/18.jpg', 'bing_added_arrow': True}\n"
     ]
    },
    {
     "name": "stderr",
     "output_type": "stream",
     "text": [
      " 18%|██████▊                               | 356/2000 [12:43<1:03:58,  2.33s/it]"
     ]
    },
    {
     "name": "stdout",
     "output_type": "stream",
     "text": [
      "{'mapbox_fetched_img': False, 'mapbox_img': 'mapbox/69619/98096/18.jpg', 'mapbox_added_arrow': True, 'bing_fetched_img': False, 'bing_img': 'bing/69619/98096/18.jpg', 'bing_added_arrow': True}\n"
     ]
    },
    {
     "name": "stderr",
     "output_type": "stream",
     "text": [
      " 18%|██████▊                               | 357/2000 [12:45<1:01:07,  2.23s/it]"
     ]
    },
    {
     "name": "stdout",
     "output_type": "stream",
     "text": [
      "{'mapbox_fetched_img': False, 'mapbox_img': 'mapbox/69619/98096/18.jpg', 'mapbox_added_arrow': True, 'bing_fetched_img': False, 'bing_img': 'bing/69619/98096/18.jpg', 'bing_added_arrow': True}\n"
     ]
    },
    {
     "name": "stderr",
     "output_type": "stream",
     "text": [
      " 18%|██████▊                               | 358/2000 [12:47<1:01:53,  2.26s/it]"
     ]
    },
    {
     "name": "stdout",
     "output_type": "stream",
     "text": [
      "{'mapbox_fetched_img': False, 'mapbox_img': 'mapbox/69619/98096/18.jpg', 'mapbox_added_arrow': True, 'bing_fetched_img': False, 'bing_img': 'bing/69619/98096/18.jpg', 'bing_added_arrow': True}\n"
     ]
    },
    {
     "name": "stderr",
     "output_type": "stream",
     "text": [
      " 18%|███████▏                                | 359/2000 [12:49<59:45,  2.19s/it]"
     ]
    },
    {
     "name": "stdout",
     "output_type": "stream",
     "text": [
      "{'mapbox_fetched_img': False, 'mapbox_img': 'mapbox/69619/98096/18.jpg', 'mapbox_added_arrow': True, 'bing_fetched_img': False, 'bing_img': 'bing/69619/98096/18.jpg', 'bing_added_arrow': True}\n"
     ]
    },
    {
     "name": "stderr",
     "output_type": "stream",
     "text": [
      " 18%|███████▏                                | 360/2000 [12:51<59:24,  2.17s/it]"
     ]
    },
    {
     "name": "stdout",
     "output_type": "stream",
     "text": [
      "{'mapbox_fetched_img': False, 'mapbox_img': 'mapbox/69619/98096/18.jpg', 'mapbox_added_arrow': True, 'bing_fetched_img': False, 'bing_img': 'bing/69619/98096/18.jpg', 'bing_added_arrow': True}\n"
     ]
    },
    {
     "name": "stderr",
     "output_type": "stream",
     "text": [
      " 18%|██████▊                               | 361/2000 [12:53<1:00:12,  2.20s/it]"
     ]
    },
    {
     "name": "stdout",
     "output_type": "stream",
     "text": [
      "{'mapbox_fetched_img': False, 'mapbox_img': 'mapbox/69619/98096/18.jpg', 'mapbox_added_arrow': True, 'bing_fetched_img': False, 'bing_img': 'bing/69619/98096/18.jpg', 'bing_added_arrow': True}\n",
      "Fetching from: https://api.mapbox.com/styles/v1/mapbox/satellite-v9/tiles/256/18/69618/98096?access_token=pk.eyJ1IjoiaXp2b25rb3YiLCJhIjoiY2t0YXU3MTE3MDJuNjJ1bW9xYzc3bTlrMCJ9.fiGLAZ29dmYv2sqlxuaB-A\n",
      "100% [............................................................] 8123 / 8123No photo found before to establish direction for USA_v2-2021-08-20-croptour-100GOPRO-G0013695\n",
      "Fetching from: http://ecn.t0.tiles.virtualearth.net/tiles/a030222333311330010.jpeg?g=14009\n",
      "100% [..........................................................] 11274 / 11274"
     ]
    },
    {
     "name": "stderr",
     "output_type": "stream",
     "text": [
      " 18%|██████▉                               | 362/2000 [12:56<1:04:02,  2.35s/it]"
     ]
    },
    {
     "name": "stdout",
     "output_type": "stream",
     "text": [
      "No photo found before to establish direction for USA_v2-2021-08-20-croptour-100GOPRO-G0013695\n",
      "{'mapbox_fetched_img': True, 'mapbox_img': 'mapbox/69618/98096/18.jpg', 'mapbox_added_arrow': False, 'bing_fetched_img': True, 'bing_img': 'bing/69618/98096/18.jpg', 'bing_added_arrow': False}\n"
     ]
    },
    {
     "name": "stderr",
     "output_type": "stream",
     "text": [
      " 18%|██████▉                               | 363/2000 [12:58<1:02:07,  2.28s/it]"
     ]
    },
    {
     "name": "stdout",
     "output_type": "stream",
     "text": [
      "{'mapbox_fetched_img': False, 'mapbox_img': 'mapbox/69618/98096/18.jpg', 'mapbox_added_arrow': True, 'bing_fetched_img': False, 'bing_img': 'bing/69618/98096/18.jpg', 'bing_added_arrow': True}\n"
     ]
    },
    {
     "name": "stderr",
     "output_type": "stream",
     "text": [
      " 18%|███████▎                                | 364/2000 [13:00<59:42,  2.19s/it]"
     ]
    },
    {
     "name": "stdout",
     "output_type": "stream",
     "text": [
      "{'mapbox_fetched_img': False, 'mapbox_img': 'mapbox/69618/98096/18.jpg', 'mapbox_added_arrow': True, 'bing_fetched_img': False, 'bing_img': 'bing/69618/98096/18.jpg', 'bing_added_arrow': True}\n"
     ]
    },
    {
     "name": "stderr",
     "output_type": "stream",
     "text": [
      " 18%|███████▎                                | 365/2000 [13:02<59:06,  2.17s/it]"
     ]
    },
    {
     "name": "stdout",
     "output_type": "stream",
     "text": [
      "{'mapbox_fetched_img': False, 'mapbox_img': 'mapbox/69618/98096/18.jpg', 'mapbox_added_arrow': True, 'bing_fetched_img': False, 'bing_img': 'bing/69618/98096/18.jpg', 'bing_added_arrow': True}\n"
     ]
    },
    {
     "name": "stderr",
     "output_type": "stream",
     "text": [
      " 18%|██████▉                               | 366/2000 [13:05<1:00:44,  2.23s/it]"
     ]
    },
    {
     "name": "stdout",
     "output_type": "stream",
     "text": [
      "{'mapbox_fetched_img': False, 'mapbox_img': 'mapbox/69618/98096/18.jpg', 'mapbox_added_arrow': True, 'bing_fetched_img': False, 'bing_img': 'bing/69618/98096/18.jpg', 'bing_added_arrow': True}\n"
     ]
    },
    {
     "name": "stderr",
     "output_type": "stream",
     "text": [
      " 18%|██████▉                               | 367/2000 [13:07<1:01:05,  2.24s/it]"
     ]
    },
    {
     "name": "stdout",
     "output_type": "stream",
     "text": [
      "{'mapbox_fetched_img': False, 'mapbox_img': 'mapbox/69618/98096/18.jpg', 'mapbox_added_arrow': True, 'bing_fetched_img': False, 'bing_img': 'bing/69618/98096/18.jpg', 'bing_added_arrow': True}\n"
     ]
    },
    {
     "name": "stderr",
     "output_type": "stream",
     "text": [
      " 18%|██████▉                               | 368/2000 [13:09<1:01:50,  2.27s/it]"
     ]
    },
    {
     "name": "stdout",
     "output_type": "stream",
     "text": [
      "{'mapbox_fetched_img': False, 'mapbox_img': 'mapbox/69618/98096/18.jpg', 'mapbox_added_arrow': True, 'bing_fetched_img': False, 'bing_img': 'bing/69618/98096/18.jpg', 'bing_added_arrow': True}\n"
     ]
    },
    {
     "name": "stderr",
     "output_type": "stream",
     "text": [
      " 18%|███████                               | 369/2000 [13:12<1:05:34,  2.41s/it]"
     ]
    },
    {
     "name": "stdout",
     "output_type": "stream",
     "text": [
      "{'mapbox_fetched_img': False, 'mapbox_img': 'mapbox/69618/98096/18.jpg', 'mapbox_added_arrow': True, 'bing_fetched_img': False, 'bing_img': 'bing/69618/98096/18.jpg', 'bing_added_arrow': True}\n",
      "Fetching from: https://api.mapbox.com/styles/v1/mapbox/satellite-v9/tiles/256/18/69617/98096?access_token=pk.eyJ1IjoiaXp2b25rb3YiLCJhIjoiY2t0YXU3MTE3MDJuNjJ1bW9xYzc3bTlrMCJ9.fiGLAZ29dmYv2sqlxuaB-A\n",
      "100% [............................................................] 6536 / 6536No photo found before to establish direction for USA_v2-2021-08-20-croptour-100GOPRO-G0013703\n",
      "Fetching from: http://ecn.t0.tiles.virtualearth.net/tiles/a030222333311330001.jpeg?g=14009\n",
      "100% [............................................................] 9190 / 9190"
     ]
    },
    {
     "name": "stderr",
     "output_type": "stream",
     "text": [
      " 18%|███████                               | 370/2000 [13:15<1:10:44,  2.60s/it]"
     ]
    },
    {
     "name": "stdout",
     "output_type": "stream",
     "text": [
      "No photo found before to establish direction for USA_v2-2021-08-20-croptour-100GOPRO-G0013703\n",
      "{'mapbox_fetched_img': True, 'mapbox_img': 'mapbox/69617/98096/18.jpg', 'mapbox_added_arrow': False, 'bing_fetched_img': True, 'bing_img': 'bing/69617/98096/18.jpg', 'bing_added_arrow': False}\n"
     ]
    },
    {
     "name": "stderr",
     "output_type": "stream",
     "text": [
      " 19%|███████                               | 371/2000 [13:17<1:07:11,  2.47s/it]"
     ]
    },
    {
     "name": "stdout",
     "output_type": "stream",
     "text": [
      "{'mapbox_fetched_img': False, 'mapbox_img': 'mapbox/69617/98096/18.jpg', 'mapbox_added_arrow': True, 'bing_fetched_img': False, 'bing_img': 'bing/69617/98096/18.jpg', 'bing_added_arrow': True}\n"
     ]
    },
    {
     "name": "stderr",
     "output_type": "stream",
     "text": [
      " 19%|███████                               | 372/2000 [13:19<1:03:28,  2.34s/it]"
     ]
    },
    {
     "name": "stdout",
     "output_type": "stream",
     "text": [
      "{'mapbox_fetched_img': False, 'mapbox_img': 'mapbox/69617/98096/18.jpg', 'mapbox_added_arrow': True, 'bing_fetched_img': False, 'bing_img': 'bing/69617/98096/18.jpg', 'bing_added_arrow': True}\n"
     ]
    },
    {
     "name": "stderr",
     "output_type": "stream",
     "text": [
      " 19%|███████                               | 373/2000 [13:23<1:12:29,  2.67s/it]"
     ]
    },
    {
     "name": "stdout",
     "output_type": "stream",
     "text": [
      "{'mapbox_fetched_img': False, 'mapbox_img': 'mapbox/69617/98096/18.jpg', 'mapbox_added_arrow': True, 'bing_fetched_img': False, 'bing_img': 'bing/69617/98096/18.jpg', 'bing_added_arrow': True}\n"
     ]
    },
    {
     "name": "stderr",
     "output_type": "stream",
     "text": [
      " 19%|███████                               | 374/2000 [13:25<1:12:11,  2.66s/it]"
     ]
    },
    {
     "name": "stdout",
     "output_type": "stream",
     "text": [
      "{'mapbox_fetched_img': False, 'mapbox_img': 'mapbox/69617/98096/18.jpg', 'mapbox_added_arrow': True, 'bing_fetched_img': False, 'bing_img': 'bing/69617/98096/18.jpg', 'bing_added_arrow': True}\n",
      "Fetching from: https://api.mapbox.com/styles/v1/mapbox/satellite-v9/tiles/256/18/69616/98096?access_token=pk.eyJ1IjoiaXp2b25rb3YiLCJhIjoiY2t0YXU3MTE3MDJuNjJ1bW9xYzc3bTlrMCJ9.fiGLAZ29dmYv2sqlxuaB-A\n",
      "100% [............................................................] 6793 / 6793No photo found before to establish direction for USA_v2-2021-08-20-croptour-100GOPRO-G0013711\n",
      "Fetching from: http://ecn.t0.tiles.virtualearth.net/tiles/a030222333311330000.jpeg?g=14009\n",
      "100% [............................................................] 7755 / 7755"
     ]
    },
    {
     "name": "stderr",
     "output_type": "stream",
     "text": [
      " 19%|███████▏                              | 375/2000 [13:28<1:10:19,  2.60s/it]"
     ]
    },
    {
     "name": "stdout",
     "output_type": "stream",
     "text": [
      "No photo found before to establish direction for USA_v2-2021-08-20-croptour-100GOPRO-G0013711\n",
      "{'mapbox_fetched_img': True, 'mapbox_img': 'mapbox/69616/98096/18.jpg', 'mapbox_added_arrow': False, 'bing_fetched_img': True, 'bing_img': 'bing/69616/98096/18.jpg', 'bing_added_arrow': False}\n"
     ]
    },
    {
     "name": "stderr",
     "output_type": "stream",
     "text": [
      " 19%|███████▏                              | 376/2000 [13:30<1:06:19,  2.45s/it]"
     ]
    },
    {
     "name": "stdout",
     "output_type": "stream",
     "text": [
      "{'mapbox_fetched_img': False, 'mapbox_img': 'mapbox/69616/98096/18.jpg', 'mapbox_added_arrow': True, 'bing_fetched_img': False, 'bing_img': 'bing/69616/98096/18.jpg', 'bing_added_arrow': True}\n"
     ]
    },
    {
     "name": "stderr",
     "output_type": "stream",
     "text": [
      " 19%|███████▏                              | 377/2000 [13:33<1:15:11,  2.78s/it]"
     ]
    },
    {
     "name": "stdout",
     "output_type": "stream",
     "text": [
      "{'mapbox_fetched_img': False, 'mapbox_img': 'mapbox/69616/98096/18.jpg', 'mapbox_added_arrow': True, 'bing_fetched_img': False, 'bing_img': 'bing/69616/98096/18.jpg', 'bing_added_arrow': True}\n"
     ]
    },
    {
     "name": "stderr",
     "output_type": "stream",
     "text": [
      " 19%|███████▏                              | 378/2000 [13:36<1:12:13,  2.67s/it]"
     ]
    },
    {
     "name": "stdout",
     "output_type": "stream",
     "text": [
      "{'mapbox_fetched_img': False, 'mapbox_img': 'mapbox/69616/98096/18.jpg', 'mapbox_added_arrow': True, 'bing_fetched_img': False, 'bing_img': 'bing/69616/98096/18.jpg', 'bing_added_arrow': True}\n"
     ]
    },
    {
     "name": "stderr",
     "output_type": "stream",
     "text": [
      " 19%|███████▏                              | 379/2000 [13:38<1:10:08,  2.60s/it]"
     ]
    },
    {
     "name": "stdout",
     "output_type": "stream",
     "text": [
      "{'mapbox_fetched_img': False, 'mapbox_img': 'mapbox/69616/98096/18.jpg', 'mapbox_added_arrow': True, 'bing_fetched_img': False, 'bing_img': 'bing/69616/98096/18.jpg', 'bing_added_arrow': True}\n"
     ]
    },
    {
     "name": "stderr",
     "output_type": "stream",
     "text": [
      " 19%|███████▏                              | 380/2000 [13:41<1:08:40,  2.54s/it]"
     ]
    },
    {
     "name": "stdout",
     "output_type": "stream",
     "text": [
      "{'mapbox_fetched_img': False, 'mapbox_img': 'mapbox/69616/98096/18.jpg', 'mapbox_added_arrow': True, 'bing_fetched_img': False, 'bing_img': 'bing/69616/98096/18.jpg', 'bing_added_arrow': True}\n"
     ]
    },
    {
     "name": "stderr",
     "output_type": "stream",
     "text": [
      " 19%|███████▏                              | 381/2000 [13:43<1:03:59,  2.37s/it]"
     ]
    },
    {
     "name": "stdout",
     "output_type": "stream",
     "text": [
      "{'mapbox_fetched_img': False, 'mapbox_img': 'mapbox/69616/98096/18.jpg', 'mapbox_added_arrow': True, 'bing_fetched_img': False, 'bing_img': 'bing/69616/98096/18.jpg', 'bing_added_arrow': True}\n"
     ]
    },
    {
     "name": "stderr",
     "output_type": "stream",
     "text": [
      " 19%|███████▎                              | 382/2000 [13:46<1:09:28,  2.58s/it]"
     ]
    },
    {
     "name": "stdout",
     "output_type": "stream",
     "text": [
      "{'mapbox_fetched_img': False, 'mapbox_img': 'mapbox/69616/98096/18.jpg', 'mapbox_added_arrow': True, 'bing_fetched_img': False, 'bing_img': 'bing/69616/98096/18.jpg', 'bing_added_arrow': True}\n",
      "Fetching from: https://api.mapbox.com/styles/v1/mapbox/satellite-v9/tiles/256/18/69615/98096?access_token=pk.eyJ1IjoiaXp2b25rb3YiLCJhIjoiY2t0YXU3MTE3MDJuNjJ1bW9xYzc3bTlrMCJ9.fiGLAZ29dmYv2sqlxuaB-A\n",
      "100% [............................................................] 7069 / 7069Fetching from: http://ecn.t0.tiles.virtualearth.net/tiles/a030222333311321111.jpeg?g=14009\n",
      "100% [............................................................] 9073 / 9073"
     ]
    },
    {
     "name": "stderr",
     "output_type": "stream",
     "text": [
      " 19%|███████▎                              | 383/2000 [13:49<1:13:51,  2.74s/it]"
     ]
    },
    {
     "name": "stdout",
     "output_type": "stream",
     "text": [
      "{'mapbox_fetched_img': True, 'mapbox_img': 'mapbox/69615/98096/18.jpg', 'mapbox_added_arrow': True, 'bing_fetched_img': True, 'bing_img': 'bing/69615/98096/18.jpg', 'bing_added_arrow': True}\n"
     ]
    },
    {
     "name": "stderr",
     "output_type": "stream",
     "text": [
      " 19%|███████▎                              | 384/2000 [13:51<1:11:24,  2.65s/it]"
     ]
    },
    {
     "name": "stdout",
     "output_type": "stream",
     "text": [
      "{'mapbox_fetched_img': False, 'mapbox_img': 'mapbox/69615/98096/18.jpg', 'mapbox_added_arrow': True, 'bing_fetched_img': False, 'bing_img': 'bing/69615/98096/18.jpg', 'bing_added_arrow': True}\n"
     ]
    },
    {
     "name": "stderr",
     "output_type": "stream",
     "text": [
      " 19%|███████▎                              | 385/2000 [13:54<1:09:01,  2.56s/it]"
     ]
    },
    {
     "name": "stdout",
     "output_type": "stream",
     "text": [
      "{'mapbox_fetched_img': False, 'mapbox_img': 'mapbox/69615/98096/18.jpg', 'mapbox_added_arrow': True, 'bing_fetched_img': False, 'bing_img': 'bing/69615/98096/18.jpg', 'bing_added_arrow': True}\n"
     ]
    },
    {
     "name": "stderr",
     "output_type": "stream",
     "text": [
      " 19%|███████▎                              | 386/2000 [13:56<1:05:38,  2.44s/it]"
     ]
    },
    {
     "name": "stdout",
     "output_type": "stream",
     "text": [
      "{'mapbox_fetched_img': False, 'mapbox_img': 'mapbox/69615/98096/18.jpg', 'mapbox_added_arrow': True, 'bing_fetched_img': False, 'bing_img': 'bing/69615/98096/18.jpg', 'bing_added_arrow': True}\n"
     ]
    },
    {
     "name": "stderr",
     "output_type": "stream",
     "text": [
      " 19%|███████▎                              | 387/2000 [13:58<1:06:59,  2.49s/it]"
     ]
    },
    {
     "name": "stdout",
     "output_type": "stream",
     "text": [
      "{'mapbox_fetched_img': False, 'mapbox_img': 'mapbox/69615/98096/18.jpg', 'mapbox_added_arrow': True, 'bing_fetched_img': False, 'bing_img': 'bing/69615/98096/18.jpg', 'bing_added_arrow': True}\n"
     ]
    },
    {
     "name": "stderr",
     "output_type": "stream",
     "text": [
      " 19%|███████▎                              | 388/2000 [14:02<1:19:54,  2.97s/it]"
     ]
    },
    {
     "name": "stdout",
     "output_type": "stream",
     "text": [
      "{'mapbox_fetched_img': False, 'mapbox_img': 'mapbox/69615/98096/18.jpg', 'mapbox_added_arrow': True, 'bing_fetched_img': False, 'bing_img': 'bing/69615/98096/18.jpg', 'bing_added_arrow': True}\n"
     ]
    },
    {
     "name": "stderr",
     "output_type": "stream",
     "text": [
      " 19%|███████▍                              | 389/2000 [14:05<1:13:28,  2.74s/it]"
     ]
    },
    {
     "name": "stdout",
     "output_type": "stream",
     "text": [
      "{'mapbox_fetched_img': False, 'mapbox_img': 'mapbox/69615/98096/18.jpg', 'mapbox_added_arrow': True, 'bing_fetched_img': False, 'bing_img': 'bing/69615/98096/18.jpg', 'bing_added_arrow': True}\n",
      "Fetching from: https://api.mapbox.com/styles/v1/mapbox/satellite-v9/tiles/256/18/69614/98096?access_token=pk.eyJ1IjoiaXp2b25rb3YiLCJhIjoiY2t0YXU3MTE3MDJuNjJ1bW9xYzc3bTlrMCJ9.fiGLAZ29dmYv2sqlxuaB-A\n",
      "100% [............................................................] 6979 / 6979Fetching from: http://ecn.t0.tiles.virtualearth.net/tiles/a030222333311321110.jpeg?g=14009\n",
      "100% [............................................................] 9729 / 9729"
     ]
    },
    {
     "name": "stderr",
     "output_type": "stream",
     "text": [
      " 20%|███████▍                              | 390/2000 [14:08<1:19:18,  2.96s/it]"
     ]
    },
    {
     "name": "stdout",
     "output_type": "stream",
     "text": [
      "{'mapbox_fetched_img': True, 'mapbox_img': 'mapbox/69614/98096/18.jpg', 'mapbox_added_arrow': True, 'bing_fetched_img': True, 'bing_img': 'bing/69614/98096/18.jpg', 'bing_added_arrow': True}\n"
     ]
    },
    {
     "name": "stderr",
     "output_type": "stream",
     "text": [
      " 20%|███████▍                              | 391/2000 [14:11<1:16:26,  2.85s/it]"
     ]
    },
    {
     "name": "stdout",
     "output_type": "stream",
     "text": [
      "{'mapbox_fetched_img': False, 'mapbox_img': 'mapbox/69614/98096/18.jpg', 'mapbox_added_arrow': True, 'bing_fetched_img': False, 'bing_img': 'bing/69614/98096/18.jpg', 'bing_added_arrow': True}\n"
     ]
    },
    {
     "name": "stderr",
     "output_type": "stream",
     "text": [
      " 20%|███████▍                              | 392/2000 [14:13<1:15:09,  2.80s/it]"
     ]
    },
    {
     "name": "stdout",
     "output_type": "stream",
     "text": [
      "{'mapbox_fetched_img': False, 'mapbox_img': 'mapbox/69614/98096/18.jpg', 'mapbox_added_arrow': True, 'bing_fetched_img': False, 'bing_img': 'bing/69614/98096/18.jpg', 'bing_added_arrow': True}\n"
     ]
    },
    {
     "name": "stderr",
     "output_type": "stream",
     "text": [
      " 20%|███████▍                              | 393/2000 [14:17<1:18:08,  2.92s/it]"
     ]
    },
    {
     "name": "stdout",
     "output_type": "stream",
     "text": [
      "{'mapbox_fetched_img': False, 'mapbox_img': 'mapbox/69614/98096/18.jpg', 'mapbox_added_arrow': True, 'bing_fetched_img': False, 'bing_img': 'bing/69614/98096/18.jpg', 'bing_added_arrow': True}\n"
     ]
    },
    {
     "name": "stderr",
     "output_type": "stream",
     "text": [
      " 20%|███████▍                              | 394/2000 [14:20<1:22:19,  3.08s/it]"
     ]
    },
    {
     "name": "stdout",
     "output_type": "stream",
     "text": [
      "{'mapbox_fetched_img': False, 'mapbox_img': 'mapbox/69614/98096/18.jpg', 'mapbox_added_arrow': True, 'bing_fetched_img': False, 'bing_img': 'bing/69614/98096/18.jpg', 'bing_added_arrow': True}\n"
     ]
    },
    {
     "name": "stderr",
     "output_type": "stream",
     "text": [
      " 20%|███████▌                              | 395/2000 [14:25<1:37:31,  3.65s/it]"
     ]
    },
    {
     "name": "stdout",
     "output_type": "stream",
     "text": [
      "{'mapbox_fetched_img': False, 'mapbox_img': 'mapbox/69614/98096/18.jpg', 'mapbox_added_arrow': True, 'bing_fetched_img': False, 'bing_img': 'bing/69614/98096/18.jpg', 'bing_added_arrow': True}\n"
     ]
    },
    {
     "name": "stderr",
     "output_type": "stream",
     "text": [
      " 20%|███████▌                              | 396/2000 [14:29<1:37:02,  3.63s/it]"
     ]
    },
    {
     "name": "stdout",
     "output_type": "stream",
     "text": [
      "{'mapbox_fetched_img': False, 'mapbox_img': 'mapbox/69614/98096/18.jpg', 'mapbox_added_arrow': True, 'bing_fetched_img': False, 'bing_img': 'bing/69614/98096/18.jpg', 'bing_added_arrow': True}\n"
     ]
    },
    {
     "name": "stderr",
     "output_type": "stream",
     "text": [
      " 20%|███████▌                              | 397/2000 [14:31<1:27:33,  3.28s/it]"
     ]
    },
    {
     "name": "stdout",
     "output_type": "stream",
     "text": [
      "{'mapbox_fetched_img': False, 'mapbox_img': 'mapbox/69614/98096/18.jpg', 'mapbox_added_arrow': True, 'bing_fetched_img': False, 'bing_img': 'bing/69614/98096/18.jpg', 'bing_added_arrow': True}\n",
      "Fetching from: https://api.mapbox.com/styles/v1/mapbox/satellite-v9/tiles/256/18/69613/98096?access_token=pk.eyJ1IjoiaXp2b25rb3YiLCJhIjoiY2t0YXU3MTE3MDJuNjJ1bW9xYzc3bTlrMCJ9.fiGLAZ29dmYv2sqlxuaB-A\n",
      "100% [............................................................] 7284 / 7284Fetching from: http://ecn.t0.tiles.virtualearth.net/tiles/a030222333311321101.jpeg?g=14009\n",
      "100% [..........................................................] 10071 / 10071"
     ]
    },
    {
     "name": "stderr",
     "output_type": "stream",
     "text": [
      " 20%|███████▌                              | 398/2000 [14:36<1:37:45,  3.66s/it]"
     ]
    },
    {
     "name": "stdout",
     "output_type": "stream",
     "text": [
      "{'mapbox_fetched_img': True, 'mapbox_img': 'mapbox/69613/98096/18.jpg', 'mapbox_added_arrow': True, 'bing_fetched_img': True, 'bing_img': 'bing/69613/98096/18.jpg', 'bing_added_arrow': True}\n"
     ]
    },
    {
     "name": "stderr",
     "output_type": "stream",
     "text": [
      " 20%|███████▌                              | 399/2000 [14:38<1:26:00,  3.22s/it]"
     ]
    },
    {
     "name": "stdout",
     "output_type": "stream",
     "text": [
      "{'mapbox_fetched_img': False, 'mapbox_img': 'mapbox/69613/98096/18.jpg', 'mapbox_added_arrow': True, 'bing_fetched_img': False, 'bing_img': 'bing/69613/98096/18.jpg', 'bing_added_arrow': True}\n"
     ]
    },
    {
     "name": "stderr",
     "output_type": "stream",
     "text": [
      " 20%|███████▌                              | 400/2000 [14:42<1:33:55,  3.52s/it]"
     ]
    },
    {
     "name": "stdout",
     "output_type": "stream",
     "text": [
      "{'mapbox_fetched_img': False, 'mapbox_img': 'mapbox/69613/98096/18.jpg', 'mapbox_added_arrow': True, 'bing_fetched_img': False, 'bing_img': 'bing/69613/98096/18.jpg', 'bing_added_arrow': True}\n"
     ]
    },
    {
     "name": "stderr",
     "output_type": "stream",
     "text": [
      " 20%|███████▌                              | 401/2000 [14:44<1:25:28,  3.21s/it]"
     ]
    },
    {
     "name": "stdout",
     "output_type": "stream",
     "text": [
      "{'mapbox_fetched_img': False, 'mapbox_img': 'mapbox/69613/98096/18.jpg', 'mapbox_added_arrow': True, 'bing_fetched_img': False, 'bing_img': 'bing/69613/98096/18.jpg', 'bing_added_arrow': True}\n"
     ]
    },
    {
     "name": "stderr",
     "output_type": "stream",
     "text": [
      " 20%|███████▋                              | 402/2000 [14:47<1:17:09,  2.90s/it]"
     ]
    },
    {
     "name": "stdout",
     "output_type": "stream",
     "text": [
      "{'mapbox_fetched_img': False, 'mapbox_img': 'mapbox/69613/98096/18.jpg', 'mapbox_added_arrow': True, 'bing_fetched_img': False, 'bing_img': 'bing/69613/98096/18.jpg', 'bing_added_arrow': True}\n"
     ]
    },
    {
     "name": "stderr",
     "output_type": "stream",
     "text": [
      " 20%|███████▋                              | 403/2000 [14:49<1:10:05,  2.63s/it]"
     ]
    },
    {
     "name": "stdout",
     "output_type": "stream",
     "text": [
      "{'mapbox_fetched_img': False, 'mapbox_img': 'mapbox/69613/98096/18.jpg', 'mapbox_added_arrow': True, 'bing_fetched_img': False, 'bing_img': 'bing/69613/98096/18.jpg', 'bing_added_arrow': True}\n",
      "Fetching from: https://api.mapbox.com/styles/v1/mapbox/satellite-v9/tiles/256/18/69612/98096?access_token=pk.eyJ1IjoiaXp2b25rb3YiLCJhIjoiY2t0YXU3MTE3MDJuNjJ1bW9xYzc3bTlrMCJ9.fiGLAZ29dmYv2sqlxuaB-A\n",
      "100% [............................................................] 7078 / 7078No photo found before to establish direction for USA_v2-2021-08-20-croptour-100GOPRO-G0013744\n",
      "Fetching from: http://ecn.t0.tiles.virtualearth.net/tiles/a030222333311321100.jpeg?g=14009\n",
      "100% [............................................................] 9943 / 9943"
     ]
    },
    {
     "name": "stderr",
     "output_type": "stream",
     "text": [
      " 20%|███████▋                              | 404/2000 [14:51<1:10:36,  2.65s/it]"
     ]
    },
    {
     "name": "stdout",
     "output_type": "stream",
     "text": [
      "No photo found before to establish direction for USA_v2-2021-08-20-croptour-100GOPRO-G0013744\n",
      "{'mapbox_fetched_img': True, 'mapbox_img': 'mapbox/69612/98096/18.jpg', 'mapbox_added_arrow': False, 'bing_fetched_img': True, 'bing_img': 'bing/69612/98096/18.jpg', 'bing_added_arrow': False}\n"
     ]
    },
    {
     "name": "stderr",
     "output_type": "stream",
     "text": [
      " 20%|███████▋                              | 405/2000 [14:53<1:06:08,  2.49s/it]"
     ]
    },
    {
     "name": "stdout",
     "output_type": "stream",
     "text": [
      "{'mapbox_fetched_img': False, 'mapbox_img': 'mapbox/69612/98096/18.jpg', 'mapbox_added_arrow': True, 'bing_fetched_img': False, 'bing_img': 'bing/69612/98096/18.jpg', 'bing_added_arrow': True}\n"
     ]
    },
    {
     "name": "stderr",
     "output_type": "stream",
     "text": [
      " 20%|███████▋                              | 406/2000 [14:56<1:02:27,  2.35s/it]"
     ]
    },
    {
     "name": "stdout",
     "output_type": "stream",
     "text": [
      "{'mapbox_fetched_img': False, 'mapbox_img': 'mapbox/69612/98096/18.jpg', 'mapbox_added_arrow': True, 'bing_fetched_img': False, 'bing_img': 'bing/69612/98096/18.jpg', 'bing_added_arrow': True}\n"
     ]
    },
    {
     "name": "stderr",
     "output_type": "stream",
     "text": [
      " 20%|███████▋                              | 407/2000 [14:58<1:00:00,  2.26s/it]"
     ]
    },
    {
     "name": "stdout",
     "output_type": "stream",
     "text": [
      "{'mapbox_fetched_img': False, 'mapbox_img': 'mapbox/69612/98096/18.jpg', 'mapbox_added_arrow': True, 'bing_fetched_img': False, 'bing_img': 'bing/69612/98096/18.jpg', 'bing_added_arrow': True}\n"
     ]
    },
    {
     "name": "stderr",
     "output_type": "stream",
     "text": [
      " 20%|████████▏                               | 408/2000 [15:00<58:56,  2.22s/it]"
     ]
    },
    {
     "name": "stdout",
     "output_type": "stream",
     "text": [
      "{'mapbox_fetched_img': False, 'mapbox_img': 'mapbox/69612/98096/18.jpg', 'mapbox_added_arrow': True, 'bing_fetched_img': False, 'bing_img': 'bing/69612/98096/18.jpg', 'bing_added_arrow': True}\n"
     ]
    },
    {
     "name": "stderr",
     "output_type": "stream",
     "text": [
      " 20%|████████▏                               | 409/2000 [15:02<56:09,  2.12s/it]"
     ]
    },
    {
     "name": "stdout",
     "output_type": "stream",
     "text": [
      "{'mapbox_fetched_img': False, 'mapbox_img': 'mapbox/69612/98096/18.jpg', 'mapbox_added_arrow': True, 'bing_fetched_img': False, 'bing_img': 'bing/69612/98096/18.jpg', 'bing_added_arrow': True}\n"
     ]
    },
    {
     "name": "stderr",
     "output_type": "stream",
     "text": [
      " 20%|████████▏                               | 410/2000 [15:04<55:43,  2.10s/it]"
     ]
    },
    {
     "name": "stdout",
     "output_type": "stream",
     "text": [
      "{'mapbox_fetched_img': False, 'mapbox_img': 'mapbox/69612/98096/18.jpg', 'mapbox_added_arrow': True, 'bing_fetched_img': False, 'bing_img': 'bing/69612/98096/18.jpg', 'bing_added_arrow': True}\n"
     ]
    },
    {
     "name": "stderr",
     "output_type": "stream",
     "text": [
      " 21%|████████▏                               | 411/2000 [15:06<57:31,  2.17s/it]"
     ]
    },
    {
     "name": "stdout",
     "output_type": "stream",
     "text": [
      "{'mapbox_fetched_img': False, 'mapbox_img': 'mapbox/69612/98096/18.jpg', 'mapbox_added_arrow': True, 'bing_fetched_img': False, 'bing_img': 'bing/69612/98096/18.jpg', 'bing_added_arrow': True}\n",
      "Fetching from: https://api.mapbox.com/styles/v1/mapbox/satellite-v9/tiles/256/18/69611/98096?access_token=pk.eyJ1IjoiaXp2b25rb3YiLCJhIjoiY2t0YXU3MTE3MDJuNjJ1bW9xYzc3bTlrMCJ9.fiGLAZ29dmYv2sqlxuaB-A\n",
      "100% [............................................................] 7420 / 7420Fetching from: http://ecn.t0.tiles.virtualearth.net/tiles/a030222333311321011.jpeg?g=14009\n",
      "100% [..........................................................] 10257 / 10257"
     ]
    },
    {
     "name": "stderr",
     "output_type": "stream",
     "text": [
      " 21%|███████▊                              | 412/2000 [15:09<1:08:11,  2.58s/it]"
     ]
    },
    {
     "name": "stdout",
     "output_type": "stream",
     "text": [
      "{'mapbox_fetched_img': True, 'mapbox_img': 'mapbox/69611/98096/18.jpg', 'mapbox_added_arrow': True, 'bing_fetched_img': True, 'bing_img': 'bing/69611/98096/18.jpg', 'bing_added_arrow': True}\n"
     ]
    },
    {
     "name": "stderr",
     "output_type": "stream",
     "text": [
      " 21%|███████▊                              | 413/2000 [15:11<1:02:52,  2.38s/it]"
     ]
    },
    {
     "name": "stdout",
     "output_type": "stream",
     "text": [
      "{'mapbox_fetched_img': False, 'mapbox_img': 'mapbox/69611/98096/18.jpg', 'mapbox_added_arrow': True, 'bing_fetched_img': False, 'bing_img': 'bing/69611/98096/18.jpg', 'bing_added_arrow': True}\n"
     ]
    },
    {
     "name": "stderr",
     "output_type": "stream",
     "text": [
      " 21%|████████▎                               | 414/2000 [15:13<58:49,  2.23s/it]"
     ]
    },
    {
     "name": "stdout",
     "output_type": "stream",
     "text": [
      "{'mapbox_fetched_img': False, 'mapbox_img': 'mapbox/69611/98096/18.jpg', 'mapbox_added_arrow': True, 'bing_fetched_img': False, 'bing_img': 'bing/69611/98096/18.jpg', 'bing_added_arrow': True}\n"
     ]
    },
    {
     "name": "stderr",
     "output_type": "stream",
     "text": [
      " 21%|████████▎                               | 415/2000 [15:15<56:14,  2.13s/it]"
     ]
    },
    {
     "name": "stdout",
     "output_type": "stream",
     "text": [
      "{'mapbox_fetched_img': False, 'mapbox_img': 'mapbox/69611/98096/18.jpg', 'mapbox_added_arrow': True, 'bing_fetched_img': False, 'bing_img': 'bing/69611/98096/18.jpg', 'bing_added_arrow': True}\n"
     ]
    }
   ],
   "source": [
    "# First 1000 done, next 1000 in progress\n",
    "# 1000 takes 30 mins\n",
    "for i in tqdm(range(0, 2000)):\n",
    "    if country_df.iloc[i][\"input_img\"].endswith(\".THM\"):\n",
    "        continue\n",
    "    resp = hello_world(MockRequest({\"name\": country_df.iloc[i][\"name\"]}))\n",
    "    print(resp)"
   ]
  },
  {
   "cell_type": "code",
   "execution_count": 135,
   "id": "7176ca59-a0d8-40eb-82db-df47cd3b10ef",
   "metadata": {},
   "outputs": [
    {
     "name": "stderr",
     "output_type": "stream",
     "text": [
      "/Users/izvonkov/nasaharvest/street2sat/venv/lib/python3.9/site-packages/google/cloud/firestore_v1/base_collection.py:290: UserWarning: Detected filter using positional arguments. Prefer using the 'filter' keyword argument instead.\n",
      "  return query.where(field_path, op_string, value)\n"
     ]
    },
    {
     "name": "stdout",
     "output_type": "stream",
     "text": [
      "As of 2023-11-21 04:09:08.965359+00:00 number of entries: 1221627\n"
     ]
    }
   ],
   "source": [
    "# TODO regenerate data/street2sat-v2.csv\n",
    "db = firestore.Client()\n",
    "coll = db.collection(\"street2sat-v2\").where(\"is_crop\", \"==\", True)\n",
    "\n",
    "result = coll.count().get()\n",
    "entry_count = result[0][0].value\n",
    "print(f\"As of {result[0][0].read_time} number of entries: {entry_count}\")"
   ]
  },
  {
   "cell_type": "code",
   "execution_count": 137,
   "id": "5bb1f691-bc13-476e-b06c-488bfd2d516b",
   "metadata": {},
   "outputs": [
    {
     "name": "stderr",
     "output_type": "stream",
     "text": [
      "Queries: 100%|██████████████████████████████| 1222/1222 [15:10<00:00,  1.34it/s]\n"
     ]
    }
   ],
   "source": [
    "total_runs = (entry_count // 1000) + 1\n",
    "all_docs = []\n",
    "docs = coll.order_by(\"input_img\")\n",
    "for i in tqdm(range(total_runs), desc=\"Queries\"):\n",
    "    for doc in docs.limit(1000).stream():\n",
    "        all_docs.append(doc.to_dict())\n",
    "    last_input_img = all_docs[-1][\"input_img\"]\n",
    "    docs = coll.order_by(\"input_img\").start_after({\"input_img\": last_input_img})"
   ]
  },
  {
   "cell_type": "code",
   "execution_count": 138,
   "id": "98f66774-3736-4c34-bd07-1da058ac0476",
   "metadata": {},
   "outputs": [],
   "source": [
    "df = pd.DataFrame(all_docs)"
   ]
  },
  {
   "cell_type": "code",
   "execution_count": 139,
   "id": "ee8e89fc-9830-4518-bccd-430caa3d0c0a",
   "metadata": {},
   "outputs": [],
   "source": [
    "df = df[~df[\"bing_field_coord\"].isna() | ~df[\"mapbox_field_coord\"].isna()]"
   ]
  },
  {
   "cell_type": "code",
   "execution_count": 140,
   "id": "62022fe4-5568-46b6-b702-fabbd73d2a98",
   "metadata": {},
   "outputs": [],
   "source": [
    "df = df[~df[\"results\"].isna()]\n",
    "df = df[~df[\"coord\"].isna()].copy().reset_index()"
   ]
  },
  {
   "cell_type": "code",
   "execution_count": 141,
   "id": "aa76df24-e81f-4a8b-b136-897ded11bbf2",
   "metadata": {},
   "outputs": [
    {
     "data": {
      "text/plain": [
       "7804"
      ]
     },
     "execution_count": 141,
     "metadata": {},
     "output_type": "execute_result"
    }
   ],
   "source": [
    "len(df)"
   ]
  },
  {
   "cell_type": "code",
   "execution_count": 143,
   "id": "0646826a-85c6-4f5c-bc4a-ce22f2d3e832",
   "metadata": {},
   "outputs": [],
   "source": [
    "predictions = pd.json_normalize(df[\"results\"])\n",
    "crops = list(predictions.columns[1:])\n",
    "df = pd.concat([df, predictions], axis=1)\n",
    "df[\"dominant_crop\"] = df[crops].apply(lambda x: max(dict(x), key=dict(x).get), axis=1)"
   ]
  },
  {
   "cell_type": "code",
   "execution_count": 144,
   "id": "6df8bbd7-9bc8-4685-8df4-e7a20ad5bb76",
   "metadata": {},
   "outputs": [],
   "source": [
    "input_img_str_split = df[\"input_img\"].str.split(\"/\")\n",
    "df[\"country_folder\"] = input_img_str_split.str[3]\n",
    "df[\"country_subfolder\"] = input_img_str_split.str[4]"
   ]
  },
  {
   "cell_type": "code",
   "execution_count": 145,
   "id": "08ecd17b-7f52-48dc-aaae-f74944c3cc6c",
   "metadata": {},
   "outputs": [],
   "source": [
    "df[\"road_lat\"] = df[\"coord\"].map(lambda coord: coord[0])\n",
    "df[\"road_lon\"] = df[\"coord\"].map(lambda coord: coord[1])"
   ]
  },
  {
   "cell_type": "code",
   "execution_count": 146,
   "id": "933a2283-e119-40ad-a992-8b490bb74428",
   "metadata": {},
   "outputs": [
    {
     "data": {
      "text/plain": [
       "country_folder\n",
       "NIGERIA_v2    1983\n",
       "Uganda_v2     1972\n",
       "KENYA_v2      1968\n",
       "ZAMBIA_v2     1881\n",
       "Name: count, dtype: int64"
      ]
     },
     "execution_count": 146,
     "metadata": {},
     "output_type": "execute_result"
    }
   ],
   "source": [
    "df[\"country_folder\"].value_counts()"
   ]
  },
  {
   "cell_type": "code",
   "execution_count": 147,
   "id": "2fe706b2-2f5e-4179-b1c7-479c92e134fa",
   "metadata": {},
   "outputs": [],
   "source": [
    "df.to_csv(\"../data/street2sat-v2-points-in-field.csv\", index=False)"
   ]
  },
  {
   "cell_type": "code",
   "execution_count": 148,
   "id": "8ec53e2a-3cd5-4ba1-8611-ca5921de7a9b",
   "metadata": {},
   "outputs": [],
   "source": [
    "def generate_gdf(cols, lon, lat):\n",
    "    points = gpd.points_from_xy(df[lon], df[lat], crs=\"EPSG:4326\")\n",
    "    gdf = gpd.GeoDataFrame(df[cols], geometry=points)\n",
    "    return gdf\n",
    "\n",
    "road_cols = [\"input_img\", \"name\", \"dominant_crop\"] + crops\n",
    "bing_cols = [\"input_img\", \"name\", \"dominant_crop\", \"bing_img_source\", \"bing_img_segmentation\"] + crops\n",
    "mapbox_cols = [\"input_img\", \"name\", \"dominant_crop\", \"mapbox_img_source\", \"mapbox_img_segmentation\"] + crops\n",
    "\n",
    "gdf_road = generate_gdf(cols=road_cols, lat=\"road_lat\", lon=\"road_lon\")\n",
    "gdf_bing = generate_gdf(cols=bing_cols, lat=\"bing_field_coord_lat\", lon=\"bing_field_coord_lon\")\n",
    "gdf_mapbox = generate_gdf(cols=mapbox_cols, lat=\"mapbox_field_coord_lat\", lon=\"mapbox_field_coord_lon\")"
   ]
  },
  {
   "cell_type": "code",
   "execution_count": 149,
   "id": "7dabd5bf-9f2f-4e58-a0d5-4b8c7056a198",
   "metadata": {},
   "outputs": [],
   "source": [
    "Path(\"../data/points\").mkdir(exist_ok=True)"
   ]
  },
  {
   "cell_type": "code",
   "execution_count": 150,
   "id": "2672ffe8-e485-453a-98cf-67ed75e234fa",
   "metadata": {},
   "outputs": [],
   "source": [
    "gdf_road.to_file(\"../data/points/road.geojson\", driver=\"GeoJSON\")\n",
    "gdf_bing.to_file(\"../data/points/field_bing.geojson\", driver=\"GeoJSON\")\n",
    "gdf_mapbox.to_file(\"../data/points/field_mapbox.geojson\", driver=\"GeoJSON\")"
   ]
  },
  {
   "cell_type": "code",
   "execution_count": null,
   "id": "bc213ff1-a100-40d1-9483-b8240f44c944",
   "metadata": {},
   "outputs": [],
   "source": []
  }
 ],
 "metadata": {
  "kernelspec": {
   "display_name": "Python 3 (ipykernel)",
   "language": "python",
   "name": "python3"
  },
  "language_info": {
   "codemirror_mode": {
    "name": "ipython",
    "version": 3
   },
   "file_extension": ".py",
   "mimetype": "text/x-python",
   "name": "python",
   "nbconvert_exporter": "python",
   "pygments_lexer": "ipython3",
   "version": "3.9.12"
  }
 },
 "nbformat": 4,
 "nbformat_minor": 5
}
