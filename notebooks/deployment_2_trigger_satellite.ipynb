{
 "cells": [
  {
   "cell_type": "markdown",
   "id": "ce5509f2-30f5-479d-8f27-7d25e52801df",
   "metadata": {},
   "source": [
    "# Trigger Satellite Segmentation\n",
    "\n",
    "Description: Triggers satellite segmentation by going through crop db entries, fetching satellite image, adding arrow and triggering satellite segmentation + field point prediction.\n",
    "\n",
    "Author: Ivan Zvonkov\n",
    "\n",
    "Date: Nov 10, 2023\n"
   ]
  },
  {
   "cell_type": "code",
   "execution_count": 4,
   "id": "10d4ba78-4598-4446-a238-a511d311761f",
   "metadata": {},
   "outputs": [
    {
     "name": "stdout",
     "output_type": "stream",
     "text": [
      "Your browser has been opened to visit:\n",
      "\n",
      "    https://accounts.google.com/o/oauth2/auth?response_type=code&client_id=764086051850-6qr4p6gpi6hn506pt8ejuq83di341hur.apps.googleusercontent.com&redirect_uri=http%3A%2F%2Flocalhost%3A8085%2F&scope=openid+https%3A%2F%2Fwww.googleapis.com%2Fauth%2Fuserinfo.email+https%3A%2F%2Fwww.googleapis.com%2Fauth%2Fcloud-platform+https%3A%2F%2Fwww.googleapis.com%2Fauth%2Fsqlservice.login&state=RLFBNlVcbFdwB96PBh89C2LKDKv4I5&access_type=offline&code_challenge=cifg5cFMqKOkS_cPAFQIBIvYGMw_RIOmJVl-xjRWanE&code_challenge_method=S256\n",
      "\n",
      "\n",
      "Credentials saved to file: [/Users/izvonkov/.config/gcloud/application_default_credentials.json]\n",
      "\n",
      "These credentials will be used by any library that requests Application Default Credentials (ADC).\n",
      "\n",
      "Quota project \"bsos-geog-harvest1\" was added to ADC which can be used by Google client libraries for billing and quota. Note that some services may still bill the project owning the resource.\n"
     ]
    }
   ],
   "source": [
    "!gcloud auth application-default login"
   ]
  },
  {
   "cell_type": "code",
   "execution_count": 114,
   "id": "bedd3ab5-6566-472f-9b03-8a2af5dcb699",
   "metadata": {},
   "outputs": [],
   "source": [
    "import geopandas as gpd\n",
    "import pandas as pd\n",
    "import sys\n",
    "\n",
    "from google.cloud import firestore\n",
    "from tqdm import tqdm\n",
    "from pathlib import Path\n",
    "\n",
    "sys.path.append(\"..\")\n",
    "\n",
    "from gcp.get_satellite_img.main import hello_world"
   ]
  },
  {
   "cell_type": "code",
   "execution_count": 6,
   "id": "913d9071-e9c4-4a66-8da7-85e5fc48ac7b",
   "metadata": {},
   "outputs": [
    {
     "name": "stderr",
     "output_type": "stream",
     "text": [
      "/var/folders/1v/87y9n_d5143c_6cp072v3b1c0000gn/T/ipykernel_5087/2016021947.py:1: DtypeWarning: Columns (9,12,13,14,16,17) have mixed types. Specify dtype option on import or set low_memory=False.\n",
      "  df_all = pd.read_csv(\"../data/street2sat-v2.csv\")\n"
     ]
    }
   ],
   "source": [
    "df_all = pd.read_csv(\"../data/street2sat-v2.csv\")"
   ]
  },
  {
   "cell_type": "code",
   "execution_count": 13,
   "id": "6c5541c4-9247-411e-8660-6b57c51ed80d",
   "metadata": {},
   "outputs": [],
   "source": [
    "df_crops = df_all[df_all[\"is_crop\"] == True].copy()"
   ]
  },
  {
   "cell_type": "code",
   "execution_count": 14,
   "id": "4b9f9852-80fc-44f4-bd18-802032cc6526",
   "metadata": {},
   "outputs": [],
   "source": [
    "input_img_str_split = df_crops[\"input_img\"].str.split(\"/\")\n",
    "df_crops[\"country_folder\"] = input_img_str_split.str[3]\n",
    "df_crops[\"country_subfolder\"] = input_img_str_split.str[4]"
   ]
  },
  {
   "cell_type": "code",
   "execution_count": 15,
   "id": "cd1080af-e647-4ba3-88b3-98a94f33707a",
   "metadata": {},
   "outputs": [],
   "source": [
    "class MockRequest:\n",
    "    def __init__(self, request):\n",
    "        self.request_json = request\n",
    "    \n",
    "    def get_json(self, silent):\n",
    "        return self.request_json"
   ]
  },
  {
   "cell_type": "code",
   "execution_count": 17,
   "id": "b1e4ca83-6a13-46a1-96d0-eeedaae4b0ad",
   "metadata": {},
   "outputs": [
    {
     "data": {
      "text/plain": [
       "country_folder\n",
       "NIGERIA_v2             502615\n",
       "ZAMBIA_v2              254999\n",
       "Uganda_v2              252731\n",
       "KENYA_v2               143288\n",
       "USA_v2                  54253\n",
       "TANZANIA_v2             11130\n",
       "MPONGWE_v2               1021\n",
       "test_set                  695\n",
       "test_set_divided_v3       695\n",
       "test_set_divided_v2       200\n",
       "Name: count, dtype: int64"
      ]
     },
     "execution_count": 17,
     "metadata": {},
     "output_type": "execute_result"
    }
   ],
   "source": [
    "df_crops[\"country_folder\"].value_counts()"
   ]
  },
  {
   "cell_type": "code",
   "execution_count": 131,
   "id": "2667b0a5-134c-438d-a173-fd379e03127a",
   "metadata": {},
   "outputs": [
    {
     "data": {
      "text/plain": [
       "200"
      ]
     },
     "execution_count": 131,
     "metadata": {},
     "output_type": "execute_result"
    }
   ],
   "source": [
    "df_crops[\"input_img\"].str.endswith(\".THM\").sum()"
   ]
  },
  {
   "cell_type": "code",
   "execution_count": 173,
   "id": "309d3dab-137c-402a-a2cc-bc7d53b97e75",
   "metadata": {},
   "outputs": [],
   "source": [
    "country_df = df_crops[df_crops[\"country_folder\"] == \"TANZANIA_v2\"]"
   ]
  },
  {
   "cell_type": "code",
   "execution_count": 174,
   "id": "15ae2afb-133c-46ee-8c69-d064787451ac",
   "metadata": {},
   "outputs": [],
   "source": [
    "# Take only rows with no associated satellite image yet\n",
    "country_df = country_df[country_df[\"mapbox_img_source\"].isna() | country_df[\"bing_img_source\"].isna()]"
   ]
  },
  {
   "cell_type": "code",
   "execution_count": 175,
   "id": "55efaa4d-329e-4f42-9917-73489c160da5",
   "metadata": {},
   "outputs": [
    {
     "name": "stderr",
     "output_type": "stream",
     "text": [
      "  0%|                                                  | 0/2000 [00:00<?, ?it/s]"
     ]
    },
    {
     "name": "stdout",
     "output_type": "stream",
     "text": [
      "Fetching from: https://api.mapbox.com/styles/v1/mapbox/satellite-v9/tiles/256/18/155274/133814?access_token=pk.eyJ1IjoiaXp2b25rb3YiLCJhIjoiY2t0YXU3MTE3MDJuNjJ1bW9xYzc3bTlrMCJ9.fiGLAZ29dmYv2sqlxuaB-A\n",
      "100% [............................................................] 7916 / 7916Fetching from: http://ecn.t0.tiles.virtualearth.net/tiles/a300101313030221230.jpeg?g=14009\n",
      "100% [..........................................................] 12356 / 12356"
     ]
    },
    {
     "name": "stderr",
     "output_type": "stream",
     "text": [
      "  0%|                                        | 2/2000 [00:06<1:40:15,  3.01s/it]"
     ]
    },
    {
     "name": "stdout",
     "output_type": "stream",
     "text": [
      "{'mapbox_fetched_img': True, 'mapbox_img': 'mapbox/155274/133814/18.jpg', 'mapbox_added_arrow': True, 'bing_fetched_img': True, 'bing_img': 'bing/155274/133814/18.jpg', 'bing_added_arrow': True}\n"
     ]
    },
    {
     "name": "stderr",
     "output_type": "stream",
     "text": [
      "  0%|                                        | 3/2000 [00:08<1:34:00,  2.82s/it]"
     ]
    },
    {
     "name": "stdout",
     "output_type": "stream",
     "text": [
      "{'mapbox_fetched_img': False, 'mapbox_img': 'mapbox/155274/133814/18.jpg', 'mapbox_added_arrow': True, 'bing_fetched_img': False, 'bing_img': 'bing/155274/133814/18.jpg', 'bing_added_arrow': True}\n"
     ]
    },
    {
     "name": "stderr",
     "output_type": "stream",
     "text": [
      "  0%|                                        | 4/2000 [00:10<1:24:34,  2.54s/it]"
     ]
    },
    {
     "name": "stdout",
     "output_type": "stream",
     "text": [
      "{'mapbox_fetched_img': False, 'mapbox_img': 'mapbox/155274/133814/18.jpg', 'mapbox_added_arrow': True, 'bing_fetched_img': False, 'bing_img': 'bing/155274/133814/18.jpg', 'bing_added_arrow': True}\n"
     ]
    },
    {
     "name": "stderr",
     "output_type": "stream",
     "text": [
      "  0%|                                        | 5/2000 [00:13<1:28:25,  2.66s/it]"
     ]
    },
    {
     "name": "stdout",
     "output_type": "stream",
     "text": [
      "{'mapbox_fetched_img': False, 'mapbox_img': 'mapbox/155274/133814/18.jpg', 'mapbox_added_arrow': True, 'bing_fetched_img': False, 'bing_img': 'bing/155274/133814/18.jpg', 'bing_added_arrow': True}\n"
     ]
    },
    {
     "name": "stderr",
     "output_type": "stream",
     "text": [
      "  0%|                                        | 6/2000 [00:16<1:31:11,  2.74s/it]"
     ]
    },
    {
     "name": "stdout",
     "output_type": "stream",
     "text": [
      "{'mapbox_fetched_img': False, 'mapbox_img': 'mapbox/155274/133814/18.jpg', 'mapbox_added_arrow': True, 'bing_fetched_img': False, 'bing_img': 'bing/155274/133814/18.jpg', 'bing_added_arrow': True}\n"
     ]
    },
    {
     "name": "stderr",
     "output_type": "stream",
     "text": [
      "  0%|▏                                       | 7/2000 [00:18<1:23:17,  2.51s/it]"
     ]
    },
    {
     "name": "stdout",
     "output_type": "stream",
     "text": [
      "{'mapbox_fetched_img': False, 'mapbox_img': 'mapbox/155274/133814/18.jpg', 'mapbox_added_arrow': True, 'bing_fetched_img': False, 'bing_img': 'bing/155274/133814/18.jpg', 'bing_added_arrow': True}\n"
     ]
    },
    {
     "name": "stderr",
     "output_type": "stream",
     "text": [
      "  0%|▏                                       | 8/2000 [00:20<1:20:33,  2.43s/it]"
     ]
    },
    {
     "name": "stdout",
     "output_type": "stream",
     "text": [
      "{'mapbox_fetched_img': False, 'mapbox_img': 'mapbox/155274/133814/18.jpg', 'mapbox_added_arrow': True, 'bing_fetched_img': False, 'bing_img': 'bing/155274/133814/18.jpg', 'bing_added_arrow': True}\n"
     ]
    },
    {
     "name": "stderr",
     "output_type": "stream",
     "text": [
      "  0%|▏                                       | 9/2000 [00:23<1:22:33,  2.49s/it]"
     ]
    },
    {
     "name": "stdout",
     "output_type": "stream",
     "text": [
      "{'mapbox_fetched_img': False, 'mapbox_img': 'mapbox/155274/133814/18.jpg', 'mapbox_added_arrow': True, 'bing_fetched_img': False, 'bing_img': 'bing/155274/133814/18.jpg', 'bing_added_arrow': True}\n"
     ]
    },
    {
     "name": "stderr",
     "output_type": "stream",
     "text": [
      "  0%|▏                                      | 10/2000 [00:25<1:16:35,  2.31s/it]"
     ]
    },
    {
     "name": "stdout",
     "output_type": "stream",
     "text": [
      "{'mapbox_fetched_img': False, 'mapbox_img': 'mapbox/155274/133814/18.jpg', 'mapbox_added_arrow': True, 'bing_fetched_img': False, 'bing_img': 'bing/155274/133814/18.jpg', 'bing_added_arrow': True}\n"
     ]
    },
    {
     "name": "stderr",
     "output_type": "stream",
     "text": [
      "  1%|▏                                      | 11/2000 [00:27<1:11:59,  2.17s/it]"
     ]
    },
    {
     "name": "stdout",
     "output_type": "stream",
     "text": [
      "{'mapbox_fetched_img': False, 'mapbox_img': 'mapbox/155274/133814/18.jpg', 'mapbox_added_arrow': True, 'bing_fetched_img': False, 'bing_img': 'bing/155274/133814/18.jpg', 'bing_added_arrow': True}\n"
     ]
    },
    {
     "name": "stderr",
     "output_type": "stream",
     "text": [
      "  1%|▏                                      | 12/2000 [00:29<1:10:36,  2.13s/it]"
     ]
    },
    {
     "name": "stdout",
     "output_type": "stream",
     "text": [
      "{'mapbox_fetched_img': False, 'mapbox_img': 'mapbox/155274/133814/18.jpg', 'mapbox_added_arrow': True, 'bing_fetched_img': False, 'bing_img': 'bing/155274/133814/18.jpg', 'bing_added_arrow': True}\n"
     ]
    },
    {
     "name": "stderr",
     "output_type": "stream",
     "text": [
      "  1%|▎                                      | 13/2000 [00:31<1:12:02,  2.18s/it]"
     ]
    },
    {
     "name": "stdout",
     "output_type": "stream",
     "text": [
      "{'mapbox_fetched_img': False, 'mapbox_img': 'mapbox/155274/133814/18.jpg', 'mapbox_added_arrow': True, 'bing_fetched_img': False, 'bing_img': 'bing/155274/133814/18.jpg', 'bing_added_arrow': True}\n"
     ]
    },
    {
     "name": "stderr",
     "output_type": "stream",
     "text": [
      "  1%|▎                                      | 14/2000 [00:34<1:18:34,  2.37s/it]"
     ]
    },
    {
     "name": "stdout",
     "output_type": "stream",
     "text": [
      "{'mapbox_fetched_img': False, 'mapbox_img': 'mapbox/155274/133814/18.jpg', 'mapbox_added_arrow': True, 'bing_fetched_img': False, 'bing_img': 'bing/155274/133814/18.jpg', 'bing_added_arrow': True}\n"
     ]
    },
    {
     "name": "stderr",
     "output_type": "stream",
     "text": [
      "  1%|▎                                      | 15/2000 [00:37<1:25:31,  2.58s/it]"
     ]
    },
    {
     "name": "stdout",
     "output_type": "stream",
     "text": [
      "{'mapbox_fetched_img': False, 'mapbox_img': 'mapbox/155274/133814/18.jpg', 'mapbox_added_arrow': True, 'bing_fetched_img': False, 'bing_img': 'bing/155274/133814/18.jpg', 'bing_added_arrow': True}\n"
     ]
    },
    {
     "name": "stderr",
     "output_type": "stream",
     "text": [
      "  1%|▎                                      | 16/2000 [00:39<1:23:35,  2.53s/it]"
     ]
    },
    {
     "name": "stdout",
     "output_type": "stream",
     "text": [
      "{'mapbox_fetched_img': False, 'mapbox_img': 'mapbox/155274/133814/18.jpg', 'mapbox_added_arrow': True, 'bing_fetched_img': False, 'bing_img': 'bing/155274/133814/18.jpg', 'bing_added_arrow': True}\n"
     ]
    },
    {
     "name": "stderr",
     "output_type": "stream",
     "text": [
      "  1%|▎                                      | 17/2000 [00:42<1:22:21,  2.49s/it]"
     ]
    },
    {
     "name": "stdout",
     "output_type": "stream",
     "text": [
      "{'mapbox_fetched_img': False, 'mapbox_img': 'mapbox/155274/133814/18.jpg', 'mapbox_added_arrow': True, 'bing_fetched_img': False, 'bing_img': 'bing/155274/133814/18.jpg', 'bing_added_arrow': True}\n"
     ]
    },
    {
     "name": "stderr",
     "output_type": "stream",
     "text": [
      "  1%|▎                                      | 18/2000 [00:44<1:21:08,  2.46s/it]"
     ]
    },
    {
     "name": "stdout",
     "output_type": "stream",
     "text": [
      "{'mapbox_fetched_img': False, 'mapbox_img': 'mapbox/155274/133814/18.jpg', 'mapbox_added_arrow': True, 'bing_fetched_img': False, 'bing_img': 'bing/155274/133814/18.jpg', 'bing_added_arrow': True}\n"
     ]
    },
    {
     "name": "stderr",
     "output_type": "stream",
     "text": [
      "  1%|▎                                      | 19/2000 [00:46<1:16:05,  2.30s/it]"
     ]
    },
    {
     "name": "stdout",
     "output_type": "stream",
     "text": [
      "{'mapbox_fetched_img': False, 'mapbox_img': 'mapbox/155274/133814/18.jpg', 'mapbox_added_arrow': True, 'bing_fetched_img': False, 'bing_img': 'bing/155274/133814/18.jpg', 'bing_added_arrow': True}\n"
     ]
    },
    {
     "name": "stderr",
     "output_type": "stream",
     "text": [
      "  1%|▍                                      | 20/2000 [00:48<1:17:32,  2.35s/it]"
     ]
    },
    {
     "name": "stdout",
     "output_type": "stream",
     "text": [
      "{'mapbox_fetched_img': False, 'mapbox_img': 'mapbox/155274/133814/18.jpg', 'mapbox_added_arrow': True, 'bing_fetched_img': False, 'bing_img': 'bing/155274/133814/18.jpg', 'bing_added_arrow': True}\n"
     ]
    },
    {
     "name": "stderr",
     "output_type": "stream",
     "text": [
      "  1%|▍                                      | 21/2000 [00:50<1:14:27,  2.26s/it]"
     ]
    },
    {
     "name": "stdout",
     "output_type": "stream",
     "text": [
      "{'mapbox_fetched_img': False, 'mapbox_img': 'mapbox/155274/133814/18.jpg', 'mapbox_added_arrow': True, 'bing_fetched_img': False, 'bing_img': 'bing/155274/133814/18.jpg', 'bing_added_arrow': True}\n"
     ]
    },
    {
     "name": "stderr",
     "output_type": "stream",
     "text": [
      "  1%|▍                                      | 22/2000 [00:52<1:11:51,  2.18s/it]"
     ]
    },
    {
     "name": "stdout",
     "output_type": "stream",
     "text": [
      "{'mapbox_fetched_img': False, 'mapbox_img': 'mapbox/155274/133814/18.jpg', 'mapbox_added_arrow': True, 'bing_fetched_img': False, 'bing_img': 'bing/155274/133814/18.jpg', 'bing_added_arrow': True}\n"
     ]
    },
    {
     "name": "stderr",
     "output_type": "stream",
     "text": [
      "  1%|▍                                      | 23/2000 [00:55<1:19:20,  2.41s/it]"
     ]
    },
    {
     "name": "stdout",
     "output_type": "stream",
     "text": [
      "{'mapbox_fetched_img': False, 'mapbox_img': 'mapbox/155274/133814/18.jpg', 'mapbox_added_arrow': True, 'bing_fetched_img': False, 'bing_img': 'bing/155274/133814/18.jpg', 'bing_added_arrow': True}\n"
     ]
    },
    {
     "name": "stderr",
     "output_type": "stream",
     "text": [
      "  1%|▍                                      | 24/2000 [00:57<1:13:03,  2.22s/it]"
     ]
    },
    {
     "name": "stdout",
     "output_type": "stream",
     "text": [
      "{'mapbox_fetched_img': False, 'mapbox_img': 'mapbox/155274/133814/18.jpg', 'mapbox_added_arrow': True, 'bing_fetched_img': False, 'bing_img': 'bing/155274/133814/18.jpg', 'bing_added_arrow': True}\n"
     ]
    },
    {
     "name": "stderr",
     "output_type": "stream",
     "text": [
      "  1%|▍                                      | 25/2000 [00:59<1:08:38,  2.09s/it]"
     ]
    },
    {
     "name": "stdout",
     "output_type": "stream",
     "text": [
      "{'mapbox_fetched_img': False, 'mapbox_img': 'mapbox/155274/133814/18.jpg', 'mapbox_added_arrow': True, 'bing_fetched_img': False, 'bing_img': 'bing/155274/133814/18.jpg', 'bing_added_arrow': True}\n"
     ]
    },
    {
     "name": "stderr",
     "output_type": "stream",
     "text": [
      "  1%|▌                                      | 26/2000 [01:01<1:06:59,  2.04s/it]"
     ]
    },
    {
     "name": "stdout",
     "output_type": "stream",
     "text": [
      "{'mapbox_fetched_img': False, 'mapbox_img': 'mapbox/155274/133814/18.jpg', 'mapbox_added_arrow': True, 'bing_fetched_img': False, 'bing_img': 'bing/155274/133814/18.jpg', 'bing_added_arrow': True}\n"
     ]
    },
    {
     "name": "stderr",
     "output_type": "stream",
     "text": [
      "  1%|▌                                      | 27/2000 [01:03<1:04:10,  1.95s/it]"
     ]
    },
    {
     "name": "stdout",
     "output_type": "stream",
     "text": [
      "{'mapbox_fetched_img': False, 'mapbox_img': 'mapbox/155274/133814/18.jpg', 'mapbox_added_arrow': True, 'bing_fetched_img': False, 'bing_img': 'bing/155274/133814/18.jpg', 'bing_added_arrow': True}\n"
     ]
    },
    {
     "name": "stderr",
     "output_type": "stream",
     "text": [
      "  1%|▌                                      | 28/2000 [01:04<1:01:40,  1.88s/it]"
     ]
    },
    {
     "name": "stdout",
     "output_type": "stream",
     "text": [
      "{'mapbox_fetched_img': False, 'mapbox_img': 'mapbox/155274/133814/18.jpg', 'mapbox_added_arrow': True, 'bing_fetched_img': False, 'bing_img': 'bing/155274/133814/18.jpg', 'bing_added_arrow': True}\n"
     ]
    },
    {
     "name": "stderr",
     "output_type": "stream",
     "text": [
      "  1%|▌                                      | 29/2000 [01:06<1:03:04,  1.92s/it]"
     ]
    },
    {
     "name": "stdout",
     "output_type": "stream",
     "text": [
      "{'mapbox_fetched_img': False, 'mapbox_img': 'mapbox/155274/133814/18.jpg', 'mapbox_added_arrow': True, 'bing_fetched_img': False, 'bing_img': 'bing/155274/133814/18.jpg', 'bing_added_arrow': True}\n"
     ]
    },
    {
     "name": "stderr",
     "output_type": "stream",
     "text": [
      "  2%|▌                                      | 30/2000 [01:08<1:03:15,  1.93s/it]"
     ]
    },
    {
     "name": "stdout",
     "output_type": "stream",
     "text": [
      "{'mapbox_fetched_img': False, 'mapbox_img': 'mapbox/155274/133814/18.jpg', 'mapbox_added_arrow': True, 'bing_fetched_img': False, 'bing_img': 'bing/155274/133814/18.jpg', 'bing_added_arrow': True}\n"
     ]
    },
    {
     "name": "stderr",
     "output_type": "stream",
     "text": [
      "  2%|▌                                      | 31/2000 [01:11<1:07:47,  2.07s/it]"
     ]
    },
    {
     "name": "stdout",
     "output_type": "stream",
     "text": [
      "{'mapbox_fetched_img': False, 'mapbox_img': 'mapbox/155274/133814/18.jpg', 'mapbox_added_arrow': True, 'bing_fetched_img': False, 'bing_img': 'bing/155274/133814/18.jpg', 'bing_added_arrow': True}\n"
     ]
    },
    {
     "name": "stderr",
     "output_type": "stream",
     "text": [
      "  2%|▌                                      | 32/2000 [01:12<1:05:09,  1.99s/it]"
     ]
    },
    {
     "name": "stdout",
     "output_type": "stream",
     "text": [
      "{'mapbox_fetched_img': False, 'mapbox_img': 'mapbox/155274/133814/18.jpg', 'mapbox_added_arrow': True, 'bing_fetched_img': False, 'bing_img': 'bing/155274/133814/18.jpg', 'bing_added_arrow': True}\n"
     ]
    },
    {
     "name": "stderr",
     "output_type": "stream",
     "text": [
      "  2%|▋                                      | 33/2000 [01:14<1:01:23,  1.87s/it]"
     ]
    },
    {
     "name": "stdout",
     "output_type": "stream",
     "text": [
      "{'mapbox_fetched_img': False, 'mapbox_img': 'mapbox/155274/133814/18.jpg', 'mapbox_added_arrow': True, 'bing_fetched_img': False, 'bing_img': 'bing/155274/133814/18.jpg', 'bing_added_arrow': True}\n"
     ]
    },
    {
     "name": "stderr",
     "output_type": "stream",
     "text": [
      "  2%|▋                                      | 34/2000 [01:16<1:01:37,  1.88s/it]"
     ]
    },
    {
     "name": "stdout",
     "output_type": "stream",
     "text": [
      "{'mapbox_fetched_img': False, 'mapbox_img': 'mapbox/155274/133814/18.jpg', 'mapbox_added_arrow': True, 'bing_fetched_img': False, 'bing_img': 'bing/155274/133814/18.jpg', 'bing_added_arrow': True}\n"
     ]
    },
    {
     "name": "stderr",
     "output_type": "stream",
     "text": [
      "  2%|▋                                      | 35/2000 [01:18<1:02:01,  1.89s/it]"
     ]
    },
    {
     "name": "stdout",
     "output_type": "stream",
     "text": [
      "{'mapbox_fetched_img': False, 'mapbox_img': 'mapbox/155274/133814/18.jpg', 'mapbox_added_arrow': True, 'bing_fetched_img': False, 'bing_img': 'bing/155274/133814/18.jpg', 'bing_added_arrow': True}\n"
     ]
    },
    {
     "name": "stderr",
     "output_type": "stream",
     "text": [
      "  2%|▋                                      | 36/2000 [01:20<1:01:07,  1.87s/it]"
     ]
    },
    {
     "name": "stdout",
     "output_type": "stream",
     "text": [
      "{'mapbox_fetched_img': False, 'mapbox_img': 'mapbox/155274/133814/18.jpg', 'mapbox_added_arrow': True, 'bing_fetched_img': False, 'bing_img': 'bing/155274/133814/18.jpg', 'bing_added_arrow': True}\n"
     ]
    },
    {
     "name": "stderr",
     "output_type": "stream",
     "text": [
      "  2%|▋                                      | 37/2000 [01:22<1:02:36,  1.91s/it]"
     ]
    },
    {
     "name": "stdout",
     "output_type": "stream",
     "text": [
      "{'mapbox_fetched_img': False, 'mapbox_img': 'mapbox/155274/133814/18.jpg', 'mapbox_added_arrow': True, 'bing_fetched_img': False, 'bing_img': 'bing/155274/133814/18.jpg', 'bing_added_arrow': True}\n"
     ]
    },
    {
     "name": "stderr",
     "output_type": "stream",
     "text": [
      "  2%|▋                                      | 38/2000 [01:24<1:08:07,  2.08s/it]"
     ]
    },
    {
     "name": "stdout",
     "output_type": "stream",
     "text": [
      "{'mapbox_fetched_img': False, 'mapbox_img': 'mapbox/155274/133814/18.jpg', 'mapbox_added_arrow': True, 'bing_fetched_img': False, 'bing_img': 'bing/155274/133814/18.jpg', 'bing_added_arrow': True}\n"
     ]
    },
    {
     "name": "stderr",
     "output_type": "stream",
     "text": [
      "  2%|▊                                      | 39/2000 [01:26<1:06:13,  2.03s/it]"
     ]
    },
    {
     "name": "stdout",
     "output_type": "stream",
     "text": [
      "{'mapbox_fetched_img': False, 'mapbox_img': 'mapbox/155274/133814/18.jpg', 'mapbox_added_arrow': True, 'bing_fetched_img': False, 'bing_img': 'bing/155274/133814/18.jpg', 'bing_added_arrow': True}\n"
     ]
    },
    {
     "name": "stderr",
     "output_type": "stream",
     "text": [
      "  2%|▊                                      | 40/2000 [01:29<1:11:56,  2.20s/it]"
     ]
    },
    {
     "name": "stdout",
     "output_type": "stream",
     "text": [
      "{'mapbox_fetched_img': False, 'mapbox_img': 'mapbox/155274/133814/18.jpg', 'mapbox_added_arrow': True, 'bing_fetched_img': False, 'bing_img': 'bing/155274/133814/18.jpg', 'bing_added_arrow': True}\n"
     ]
    },
    {
     "name": "stderr",
     "output_type": "stream",
     "text": [
      "  2%|▊                                      | 41/2000 [01:31<1:09:34,  2.13s/it]"
     ]
    },
    {
     "name": "stdout",
     "output_type": "stream",
     "text": [
      "{'mapbox_fetched_img': False, 'mapbox_img': 'mapbox/155274/133814/18.jpg', 'mapbox_added_arrow': True, 'bing_fetched_img': False, 'bing_img': 'bing/155274/133814/18.jpg', 'bing_added_arrow': True}\n"
     ]
    },
    {
     "name": "stderr",
     "output_type": "stream",
     "text": [
      "  2%|▊                                      | 42/2000 [01:32<1:04:39,  1.98s/it]"
     ]
    },
    {
     "name": "stdout",
     "output_type": "stream",
     "text": [
      "{'mapbox_fetched_img': False, 'mapbox_img': 'mapbox/155274/133814/18.jpg', 'mapbox_added_arrow': True, 'bing_fetched_img': False, 'bing_img': 'bing/155274/133814/18.jpg', 'bing_added_arrow': True}\n"
     ]
    },
    {
     "name": "stderr",
     "output_type": "stream",
     "text": [
      "  2%|▊                                      | 43/2000 [01:35<1:08:09,  2.09s/it]"
     ]
    },
    {
     "name": "stdout",
     "output_type": "stream",
     "text": [
      "{'mapbox_fetched_img': False, 'mapbox_img': 'mapbox/155274/133814/18.jpg', 'mapbox_added_arrow': True, 'bing_fetched_img': False, 'bing_img': 'bing/155274/133814/18.jpg', 'bing_added_arrow': True}\n"
     ]
    },
    {
     "name": "stderr",
     "output_type": "stream",
     "text": [
      "  2%|▊                                      | 44/2000 [01:37<1:10:46,  2.17s/it]"
     ]
    },
    {
     "name": "stdout",
     "output_type": "stream",
     "text": [
      "{'mapbox_fetched_img': False, 'mapbox_img': 'mapbox/155274/133814/18.jpg', 'mapbox_added_arrow': True, 'bing_fetched_img': False, 'bing_img': 'bing/155274/133814/18.jpg', 'bing_added_arrow': True}\n"
     ]
    },
    {
     "name": "stderr",
     "output_type": "stream",
     "text": [
      "  2%|▉                                      | 45/2000 [01:39<1:09:55,  2.15s/it]"
     ]
    },
    {
     "name": "stdout",
     "output_type": "stream",
     "text": [
      "{'mapbox_fetched_img': False, 'mapbox_img': 'mapbox/155274/133814/18.jpg', 'mapbox_added_arrow': True, 'bing_fetched_img': False, 'bing_img': 'bing/155274/133814/18.jpg', 'bing_added_arrow': True}\n"
     ]
    },
    {
     "name": "stderr",
     "output_type": "stream",
     "text": [
      "  2%|▉                                      | 46/2000 [01:41<1:11:39,  2.20s/it]"
     ]
    },
    {
     "name": "stdout",
     "output_type": "stream",
     "text": [
      "{'mapbox_fetched_img': False, 'mapbox_img': 'mapbox/155274/133814/18.jpg', 'mapbox_added_arrow': True, 'bing_fetched_img': False, 'bing_img': 'bing/155274/133814/18.jpg', 'bing_added_arrow': True}\n"
     ]
    },
    {
     "name": "stderr",
     "output_type": "stream",
     "text": [
      "  2%|▉                                      | 47/2000 [01:43<1:06:54,  2.06s/it]"
     ]
    },
    {
     "name": "stdout",
     "output_type": "stream",
     "text": [
      "{'mapbox_fetched_img': False, 'mapbox_img': 'mapbox/155274/133814/18.jpg', 'mapbox_added_arrow': True, 'bing_fetched_img': False, 'bing_img': 'bing/155274/133814/18.jpg', 'bing_added_arrow': True}\n"
     ]
    },
    {
     "name": "stderr",
     "output_type": "stream",
     "text": [
      "  2%|▉                                      | 48/2000 [01:46<1:12:51,  2.24s/it]"
     ]
    },
    {
     "name": "stdout",
     "output_type": "stream",
     "text": [
      "{'mapbox_fetched_img': False, 'mapbox_img': 'mapbox/155274/133814/18.jpg', 'mapbox_added_arrow': True, 'bing_fetched_img': False, 'bing_img': 'bing/155274/133814/18.jpg', 'bing_added_arrow': True}\n"
     ]
    },
    {
     "name": "stderr",
     "output_type": "stream",
     "text": [
      "  2%|▉                                      | 49/2000 [01:49<1:19:46,  2.45s/it]"
     ]
    },
    {
     "name": "stdout",
     "output_type": "stream",
     "text": [
      "{'mapbox_fetched_img': False, 'mapbox_img': 'mapbox/155274/133814/18.jpg', 'mapbox_added_arrow': True, 'bing_fetched_img': False, 'bing_img': 'bing/155274/133814/18.jpg', 'bing_added_arrow': True}\n"
     ]
    },
    {
     "name": "stderr",
     "output_type": "stream",
     "text": [
      "  2%|▉                                      | 50/2000 [01:51<1:18:17,  2.41s/it]"
     ]
    },
    {
     "name": "stdout",
     "output_type": "stream",
     "text": [
      "{'mapbox_fetched_img': False, 'mapbox_img': 'mapbox/155274/133814/18.jpg', 'mapbox_added_arrow': True, 'bing_fetched_img': False, 'bing_img': 'bing/155274/133814/18.jpg', 'bing_added_arrow': True}\n"
     ]
    },
    {
     "name": "stderr",
     "output_type": "stream",
     "text": [
      "  3%|▉                                      | 51/2000 [01:53<1:18:08,  2.41s/it]"
     ]
    },
    {
     "name": "stdout",
     "output_type": "stream",
     "text": [
      "{'mapbox_fetched_img': False, 'mapbox_img': 'mapbox/155274/133814/18.jpg', 'mapbox_added_arrow': True, 'bing_fetched_img': False, 'bing_img': 'bing/155274/133814/18.jpg', 'bing_added_arrow': True}\n"
     ]
    },
    {
     "name": "stderr",
     "output_type": "stream",
     "text": [
      "  3%|█                                      | 52/2000 [01:57<1:28:04,  2.71s/it]"
     ]
    },
    {
     "name": "stdout",
     "output_type": "stream",
     "text": [
      "{'mapbox_fetched_img': False, 'mapbox_img': 'mapbox/155274/133814/18.jpg', 'mapbox_added_arrow': True, 'bing_fetched_img': False, 'bing_img': 'bing/155274/133814/18.jpg', 'bing_added_arrow': True}\n"
     ]
    },
    {
     "name": "stderr",
     "output_type": "stream",
     "text": [
      "  3%|█                                      | 53/2000 [01:59<1:22:55,  2.56s/it]"
     ]
    },
    {
     "name": "stdout",
     "output_type": "stream",
     "text": [
      "{'mapbox_fetched_img': False, 'mapbox_img': 'mapbox/155274/133814/18.jpg', 'mapbox_added_arrow': True, 'bing_fetched_img': False, 'bing_img': 'bing/155274/133814/18.jpg', 'bing_added_arrow': True}\n"
     ]
    },
    {
     "name": "stderr",
     "output_type": "stream",
     "text": [
      "  3%|█                                      | 54/2000 [02:02<1:22:23,  2.54s/it]"
     ]
    },
    {
     "name": "stdout",
     "output_type": "stream",
     "text": [
      "{'mapbox_fetched_img': False, 'mapbox_img': 'mapbox/155274/133814/18.jpg', 'mapbox_added_arrow': True, 'bing_fetched_img': False, 'bing_img': 'bing/155274/133814/18.jpg', 'bing_added_arrow': True}\n"
     ]
    },
    {
     "name": "stderr",
     "output_type": "stream",
     "text": [
      "  3%|█                                      | 55/2000 [02:04<1:19:19,  2.45s/it]"
     ]
    },
    {
     "name": "stdout",
     "output_type": "stream",
     "text": [
      "{'mapbox_fetched_img': False, 'mapbox_img': 'mapbox/155274/133814/18.jpg', 'mapbox_added_arrow': True, 'bing_fetched_img': False, 'bing_img': 'bing/155274/133814/18.jpg', 'bing_added_arrow': True}\n"
     ]
    },
    {
     "name": "stderr",
     "output_type": "stream",
     "text": [
      "  3%|█                                      | 56/2000 [02:06<1:16:06,  2.35s/it]"
     ]
    },
    {
     "name": "stdout",
     "output_type": "stream",
     "text": [
      "{'mapbox_fetched_img': False, 'mapbox_img': 'mapbox/155274/133814/18.jpg', 'mapbox_added_arrow': True, 'bing_fetched_img': False, 'bing_img': 'bing/155274/133814/18.jpg', 'bing_added_arrow': True}\n"
     ]
    },
    {
     "name": "stderr",
     "output_type": "stream",
     "text": [
      "  3%|█                                      | 57/2000 [02:08<1:13:52,  2.28s/it]"
     ]
    },
    {
     "name": "stdout",
     "output_type": "stream",
     "text": [
      "{'mapbox_fetched_img': False, 'mapbox_img': 'mapbox/155274/133814/18.jpg', 'mapbox_added_arrow': True, 'bing_fetched_img': False, 'bing_img': 'bing/155274/133814/18.jpg', 'bing_added_arrow': True}\n"
     ]
    },
    {
     "name": "stderr",
     "output_type": "stream",
     "text": [
      "  3%|█▏                                     | 58/2000 [02:10<1:12:00,  2.22s/it]"
     ]
    },
    {
     "name": "stdout",
     "output_type": "stream",
     "text": [
      "{'mapbox_fetched_img': False, 'mapbox_img': 'mapbox/155274/133814/18.jpg', 'mapbox_added_arrow': True, 'bing_fetched_img': False, 'bing_img': 'bing/155274/133814/18.jpg', 'bing_added_arrow': True}\n"
     ]
    },
    {
     "name": "stderr",
     "output_type": "stream",
     "text": [
      "  3%|█▏                                     | 59/2000 [02:13<1:19:10,  2.45s/it]"
     ]
    },
    {
     "name": "stdout",
     "output_type": "stream",
     "text": [
      "{'mapbox_fetched_img': False, 'mapbox_img': 'mapbox/155274/133814/18.jpg', 'mapbox_added_arrow': True, 'bing_fetched_img': False, 'bing_img': 'bing/155274/133814/18.jpg', 'bing_added_arrow': True}\n"
     ]
    },
    {
     "name": "stderr",
     "output_type": "stream",
     "text": [
      "  3%|█▏                                     | 60/2000 [02:15<1:11:35,  2.21s/it]"
     ]
    },
    {
     "name": "stdout",
     "output_type": "stream",
     "text": [
      "{'mapbox_fetched_img': False, 'mapbox_img': 'mapbox/155274/133814/18.jpg', 'mapbox_added_arrow': True, 'bing_fetched_img': False, 'bing_img': 'bing/155274/133814/18.jpg', 'bing_added_arrow': True}\n"
     ]
    },
    {
     "name": "stderr",
     "output_type": "stream",
     "text": [
      "  3%|█▏                                     | 61/2000 [02:17<1:08:54,  2.13s/it]"
     ]
    },
    {
     "name": "stdout",
     "output_type": "stream",
     "text": [
      "{'mapbox_fetched_img': False, 'mapbox_img': 'mapbox/155274/133814/18.jpg', 'mapbox_added_arrow': True, 'bing_fetched_img': False, 'bing_img': 'bing/155274/133814/18.jpg', 'bing_added_arrow': True}\n"
     ]
    },
    {
     "name": "stderr",
     "output_type": "stream",
     "text": [
      "  3%|█▏                                     | 62/2000 [02:19<1:10:05,  2.17s/it]"
     ]
    },
    {
     "name": "stdout",
     "output_type": "stream",
     "text": [
      "{'mapbox_fetched_img': False, 'mapbox_img': 'mapbox/155274/133814/18.jpg', 'mapbox_added_arrow': True, 'bing_fetched_img': False, 'bing_img': 'bing/155274/133814/18.jpg', 'bing_added_arrow': True}\n"
     ]
    },
    {
     "name": "stderr",
     "output_type": "stream",
     "text": [
      "  3%|█▏                                     | 63/2000 [02:22<1:17:49,  2.41s/it]"
     ]
    },
    {
     "name": "stdout",
     "output_type": "stream",
     "text": [
      "{'mapbox_fetched_img': False, 'mapbox_img': 'mapbox/155274/133814/18.jpg', 'mapbox_added_arrow': True, 'bing_fetched_img': False, 'bing_img': 'bing/155274/133814/18.jpg', 'bing_added_arrow': True}\n"
     ]
    },
    {
     "name": "stderr",
     "output_type": "stream",
     "text": [
      "  3%|█▏                                     | 64/2000 [02:24<1:16:25,  2.37s/it]"
     ]
    },
    {
     "name": "stdout",
     "output_type": "stream",
     "text": [
      "{'mapbox_fetched_img': False, 'mapbox_img': 'mapbox/155274/133814/18.jpg', 'mapbox_added_arrow': True, 'bing_fetched_img': False, 'bing_img': 'bing/155274/133814/18.jpg', 'bing_added_arrow': True}\n"
     ]
    },
    {
     "name": "stderr",
     "output_type": "stream",
     "text": [
      "  3%|█▎                                     | 65/2000 [02:26<1:13:39,  2.28s/it]"
     ]
    },
    {
     "name": "stdout",
     "output_type": "stream",
     "text": [
      "{'mapbox_fetched_img': False, 'mapbox_img': 'mapbox/155274/133814/18.jpg', 'mapbox_added_arrow': True, 'bing_fetched_img': False, 'bing_img': 'bing/155274/133814/18.jpg', 'bing_added_arrow': True}\n"
     ]
    },
    {
     "name": "stderr",
     "output_type": "stream",
     "text": [
      "  3%|█▎                                     | 66/2000 [02:29<1:16:15,  2.37s/it]"
     ]
    },
    {
     "name": "stdout",
     "output_type": "stream",
     "text": [
      "{'mapbox_fetched_img': False, 'mapbox_img': 'mapbox/155274/133814/18.jpg', 'mapbox_added_arrow': True, 'bing_fetched_img': False, 'bing_img': 'bing/155274/133814/18.jpg', 'bing_added_arrow': True}\n"
     ]
    },
    {
     "name": "stderr",
     "output_type": "stream",
     "text": [
      "  3%|█▎                                     | 67/2000 [02:32<1:18:48,  2.45s/it]"
     ]
    },
    {
     "name": "stdout",
     "output_type": "stream",
     "text": [
      "{'mapbox_fetched_img': False, 'mapbox_img': 'mapbox/155274/133814/18.jpg', 'mapbox_added_arrow': True, 'bing_fetched_img': False, 'bing_img': 'bing/155274/133814/18.jpg', 'bing_added_arrow': True}\n"
     ]
    },
    {
     "name": "stderr",
     "output_type": "stream",
     "text": [
      "  3%|█▎                                     | 68/2000 [02:34<1:20:50,  2.51s/it]"
     ]
    },
    {
     "name": "stdout",
     "output_type": "stream",
     "text": [
      "{'mapbox_fetched_img': False, 'mapbox_img': 'mapbox/155274/133814/18.jpg', 'mapbox_added_arrow': True, 'bing_fetched_img': False, 'bing_img': 'bing/155274/133814/18.jpg', 'bing_added_arrow': True}\n"
     ]
    },
    {
     "name": "stderr",
     "output_type": "stream",
     "text": [
      "  3%|█▎                                     | 69/2000 [02:37<1:24:42,  2.63s/it]"
     ]
    },
    {
     "name": "stdout",
     "output_type": "stream",
     "text": [
      "{'mapbox_fetched_img': False, 'mapbox_img': 'mapbox/155274/133814/18.jpg', 'mapbox_added_arrow': True, 'bing_fetched_img': False, 'bing_img': 'bing/155274/133814/18.jpg', 'bing_added_arrow': True}\n"
     ]
    },
    {
     "name": "stderr",
     "output_type": "stream",
     "text": [
      "  4%|█▎                                     | 70/2000 [02:39<1:18:12,  2.43s/it]"
     ]
    },
    {
     "name": "stdout",
     "output_type": "stream",
     "text": [
      "{'mapbox_fetched_img': False, 'mapbox_img': 'mapbox/155274/133814/18.jpg', 'mapbox_added_arrow': True, 'bing_fetched_img': False, 'bing_img': 'bing/155274/133814/18.jpg', 'bing_added_arrow': True}\n",
      "Fetching from: https://api.mapbox.com/styles/v1/mapbox/satellite-v9/tiles/256/18/155274/133815?access_token=pk.eyJ1IjoiaXp2b25rb3YiLCJhIjoiY2t0YXU3MTE3MDJuNjJ1bW9xYzc3bTlrMCJ9.fiGLAZ29dmYv2sqlxuaB-A\n",
      "100% [............................................................] 9247 / 9247Fetching from: http://ecn.t0.tiles.virtualearth.net/tiles/a300101313030221232.jpeg?g=14009\n",
      "100% [..........................................................] 11984 / 11984"
     ]
    },
    {
     "name": "stderr",
     "output_type": "stream",
     "text": [
      "  4%|█▍                                     | 71/2000 [02:44<1:47:01,  3.33s/it]"
     ]
    },
    {
     "name": "stdout",
     "output_type": "stream",
     "text": [
      "{'mapbox_fetched_img': True, 'mapbox_img': 'mapbox/155274/133815/18.jpg', 'mapbox_added_arrow': True, 'bing_fetched_img': True, 'bing_img': 'bing/155274/133815/18.jpg', 'bing_added_arrow': True}\n"
     ]
    },
    {
     "name": "stderr",
     "output_type": "stream",
     "text": [
      "  4%|█▍                                     | 72/2000 [02:47<1:41:14,  3.15s/it]"
     ]
    },
    {
     "name": "stdout",
     "output_type": "stream",
     "text": [
      "{'mapbox_fetched_img': False, 'mapbox_img': 'mapbox/155274/133815/18.jpg', 'mapbox_added_arrow': True, 'bing_fetched_img': False, 'bing_img': 'bing/155274/133815/18.jpg', 'bing_added_arrow': True}\n"
     ]
    },
    {
     "name": "stderr",
     "output_type": "stream",
     "text": [
      "  4%|█▍                                     | 73/2000 [02:50<1:35:15,  2.97s/it]"
     ]
    },
    {
     "name": "stdout",
     "output_type": "stream",
     "text": [
      "{'mapbox_fetched_img': False, 'mapbox_img': 'mapbox/155274/133815/18.jpg', 'mapbox_added_arrow': True, 'bing_fetched_img': False, 'bing_img': 'bing/155274/133815/18.jpg', 'bing_added_arrow': True}\n"
     ]
    },
    {
     "name": "stderr",
     "output_type": "stream",
     "text": [
      "  4%|█▍                                     | 74/2000 [02:53<1:41:10,  3.15s/it]"
     ]
    },
    {
     "name": "stdout",
     "output_type": "stream",
     "text": [
      "{'mapbox_fetched_img': False, 'mapbox_img': 'mapbox/155274/133815/18.jpg', 'mapbox_added_arrow': True, 'bing_fetched_img': False, 'bing_img': 'bing/155274/133815/18.jpg', 'bing_added_arrow': True}\n"
     ]
    },
    {
     "name": "stderr",
     "output_type": "stream",
     "text": [
      "  4%|█▍                                     | 75/2000 [02:56<1:37:16,  3.03s/it]"
     ]
    },
    {
     "name": "stdout",
     "output_type": "stream",
     "text": [
      "{'mapbox_fetched_img': False, 'mapbox_img': 'mapbox/155274/133815/18.jpg', 'mapbox_added_arrow': True, 'bing_fetched_img': False, 'bing_img': 'bing/155274/133815/18.jpg', 'bing_added_arrow': True}\n"
     ]
    },
    {
     "name": "stderr",
     "output_type": "stream",
     "text": [
      "  4%|█▍                                     | 76/2000 [02:58<1:27:04,  2.72s/it]"
     ]
    },
    {
     "name": "stdout",
     "output_type": "stream",
     "text": [
      "{'mapbox_fetched_img': False, 'mapbox_img': 'mapbox/155274/133815/18.jpg', 'mapbox_added_arrow': True, 'bing_fetched_img': False, 'bing_img': 'bing/155274/133815/18.jpg', 'bing_added_arrow': True}\n"
     ]
    },
    {
     "name": "stderr",
     "output_type": "stream",
     "text": [
      "  4%|█▌                                     | 77/2000 [03:00<1:19:20,  2.48s/it]"
     ]
    },
    {
     "name": "stdout",
     "output_type": "stream",
     "text": [
      "{'mapbox_fetched_img': False, 'mapbox_img': 'mapbox/155274/133815/18.jpg', 'mapbox_added_arrow': True, 'bing_fetched_img': False, 'bing_img': 'bing/155274/133815/18.jpg', 'bing_added_arrow': True}\n"
     ]
    },
    {
     "name": "stderr",
     "output_type": "stream",
     "text": [
      "  4%|█▌                                     | 78/2000 [03:02<1:12:55,  2.28s/it]"
     ]
    },
    {
     "name": "stdout",
     "output_type": "stream",
     "text": [
      "{'mapbox_fetched_img': False, 'mapbox_img': 'mapbox/155274/133815/18.jpg', 'mapbox_added_arrow': True, 'bing_fetched_img': False, 'bing_img': 'bing/155274/133815/18.jpg', 'bing_added_arrow': True}\n"
     ]
    },
    {
     "name": "stderr",
     "output_type": "stream",
     "text": [
      "  4%|█▌                                     | 79/2000 [03:03<1:07:27,  2.11s/it]"
     ]
    },
    {
     "name": "stdout",
     "output_type": "stream",
     "text": [
      "{'mapbox_fetched_img': False, 'mapbox_img': 'mapbox/155274/133815/18.jpg', 'mapbox_added_arrow': True, 'bing_fetched_img': False, 'bing_img': 'bing/155274/133815/18.jpg', 'bing_added_arrow': True}\n"
     ]
    },
    {
     "name": "stderr",
     "output_type": "stream",
     "text": [
      "  4%|█▌                                     | 80/2000 [03:06<1:08:50,  2.15s/it]"
     ]
    },
    {
     "name": "stdout",
     "output_type": "stream",
     "text": [
      "{'mapbox_fetched_img': False, 'mapbox_img': 'mapbox/155274/133815/18.jpg', 'mapbox_added_arrow': True, 'bing_fetched_img': False, 'bing_img': 'bing/155274/133815/18.jpg', 'bing_added_arrow': True}\n"
     ]
    },
    {
     "name": "stderr",
     "output_type": "stream",
     "text": [
      "  4%|█▌                                     | 81/2000 [03:08<1:07:27,  2.11s/it]"
     ]
    },
    {
     "name": "stdout",
     "output_type": "stream",
     "text": [
      "{'mapbox_fetched_img': False, 'mapbox_img': 'mapbox/155274/133815/18.jpg', 'mapbox_added_arrow': True, 'bing_fetched_img': False, 'bing_img': 'bing/155274/133815/18.jpg', 'bing_added_arrow': True}\n"
     ]
    },
    {
     "name": "stderr",
     "output_type": "stream",
     "text": [
      "  4%|█▌                                     | 82/2000 [03:11<1:19:35,  2.49s/it]"
     ]
    },
    {
     "name": "stdout",
     "output_type": "stream",
     "text": [
      "{'mapbox_fetched_img': False, 'mapbox_img': 'mapbox/155274/133815/18.jpg', 'mapbox_added_arrow': True, 'bing_fetched_img': False, 'bing_img': 'bing/155274/133815/18.jpg', 'bing_added_arrow': True}\n"
     ]
    },
    {
     "name": "stderr",
     "output_type": "stream",
     "text": [
      "  4%|█▌                                     | 83/2000 [03:13<1:16:43,  2.40s/it]"
     ]
    },
    {
     "name": "stdout",
     "output_type": "stream",
     "text": [
      "{'mapbox_fetched_img': False, 'mapbox_img': 'mapbox/155274/133815/18.jpg', 'mapbox_added_arrow': True, 'bing_fetched_img': False, 'bing_img': 'bing/155274/133815/18.jpg', 'bing_added_arrow': True}\n"
     ]
    },
    {
     "name": "stderr",
     "output_type": "stream",
     "text": [
      "  4%|█▋                                     | 84/2000 [03:15<1:13:22,  2.30s/it]"
     ]
    },
    {
     "name": "stdout",
     "output_type": "stream",
     "text": [
      "{'mapbox_fetched_img': False, 'mapbox_img': 'mapbox/155274/133815/18.jpg', 'mapbox_added_arrow': True, 'bing_fetched_img': False, 'bing_img': 'bing/155274/133815/18.jpg', 'bing_added_arrow': True}\n"
     ]
    },
    {
     "name": "stderr",
     "output_type": "stream",
     "text": [
      "  4%|█▋                                     | 85/2000 [03:18<1:17:17,  2.42s/it]"
     ]
    },
    {
     "name": "stdout",
     "output_type": "stream",
     "text": [
      "{'mapbox_fetched_img': False, 'mapbox_img': 'mapbox/155274/133815/18.jpg', 'mapbox_added_arrow': True, 'bing_fetched_img': False, 'bing_img': 'bing/155274/133815/18.jpg', 'bing_added_arrow': True}\n"
     ]
    },
    {
     "name": "stderr",
     "output_type": "stream",
     "text": [
      "  4%|█▋                                     | 86/2000 [03:20<1:14:21,  2.33s/it]"
     ]
    },
    {
     "name": "stdout",
     "output_type": "stream",
     "text": [
      "{'mapbox_fetched_img': False, 'mapbox_img': 'mapbox/155274/133815/18.jpg', 'mapbox_added_arrow': True, 'bing_fetched_img': False, 'bing_img': 'bing/155274/133815/18.jpg', 'bing_added_arrow': True}\n"
     ]
    },
    {
     "name": "stderr",
     "output_type": "stream",
     "text": [
      "  4%|█▋                                     | 87/2000 [03:22<1:08:01,  2.13s/it]"
     ]
    },
    {
     "name": "stdout",
     "output_type": "stream",
     "text": [
      "{'mapbox_fetched_img': False, 'mapbox_img': 'mapbox/155274/133815/18.jpg', 'mapbox_added_arrow': True, 'bing_fetched_img': False, 'bing_img': 'bing/155274/133815/18.jpg', 'bing_added_arrow': True}\n"
     ]
    },
    {
     "name": "stderr",
     "output_type": "stream",
     "text": [
      "  4%|█▋                                     | 88/2000 [03:25<1:13:45,  2.31s/it]"
     ]
    },
    {
     "name": "stdout",
     "output_type": "stream",
     "text": [
      "{'mapbox_fetched_img': False, 'mapbox_img': 'mapbox/155274/133815/18.jpg', 'mapbox_added_arrow': True, 'bing_fetched_img': False, 'bing_img': 'bing/155274/133815/18.jpg', 'bing_added_arrow': True}\n"
     ]
    },
    {
     "name": "stderr",
     "output_type": "stream",
     "text": [
      "  4%|█▋                                     | 89/2000 [03:27<1:09:52,  2.19s/it]"
     ]
    },
    {
     "name": "stdout",
     "output_type": "stream",
     "text": [
      "{'mapbox_fetched_img': False, 'mapbox_img': 'mapbox/155274/133815/18.jpg', 'mapbox_added_arrow': True, 'bing_fetched_img': False, 'bing_img': 'bing/155274/133815/18.jpg', 'bing_added_arrow': True}\n"
     ]
    },
    {
     "name": "stderr",
     "output_type": "stream",
     "text": [
      "  4%|█▊                                     | 90/2000 [03:28<1:06:40,  2.09s/it]"
     ]
    },
    {
     "name": "stdout",
     "output_type": "stream",
     "text": [
      "{'mapbox_fetched_img': False, 'mapbox_img': 'mapbox/155274/133815/18.jpg', 'mapbox_added_arrow': True, 'bing_fetched_img': False, 'bing_img': 'bing/155274/133815/18.jpg', 'bing_added_arrow': True}\n"
     ]
    },
    {
     "name": "stderr",
     "output_type": "stream",
     "text": [
      "  5%|█▊                                     | 91/2000 [03:30<1:03:17,  1.99s/it]"
     ]
    },
    {
     "name": "stdout",
     "output_type": "stream",
     "text": [
      "{'mapbox_fetched_img': False, 'mapbox_img': 'mapbox/155274/133815/18.jpg', 'mapbox_added_arrow': True, 'bing_fetched_img': False, 'bing_img': 'bing/155274/133815/18.jpg', 'bing_added_arrow': True}\n"
     ]
    },
    {
     "name": "stderr",
     "output_type": "stream",
     "text": [
      "  5%|█▊                                     | 92/2000 [03:32<1:00:03,  1.89s/it]"
     ]
    },
    {
     "name": "stdout",
     "output_type": "stream",
     "text": [
      "{'mapbox_fetched_img': False, 'mapbox_img': 'mapbox/155274/133815/18.jpg', 'mapbox_added_arrow': True, 'bing_fetched_img': False, 'bing_img': 'bing/155274/133815/18.jpg', 'bing_added_arrow': True}\n"
     ]
    },
    {
     "name": "stderr",
     "output_type": "stream",
     "text": [
      "  5%|█▊                                     | 93/2000 [03:34<1:00:21,  1.90s/it]"
     ]
    },
    {
     "name": "stdout",
     "output_type": "stream",
     "text": [
      "{'mapbox_fetched_img': False, 'mapbox_img': 'mapbox/155274/133815/18.jpg', 'mapbox_added_arrow': True, 'bing_fetched_img': False, 'bing_img': 'bing/155274/133815/18.jpg', 'bing_added_arrow': True}\n"
     ]
    },
    {
     "name": "stderr",
     "output_type": "stream",
     "text": [
      "  5%|█▊                                     | 94/2000 [03:36<1:00:20,  1.90s/it]"
     ]
    },
    {
     "name": "stdout",
     "output_type": "stream",
     "text": [
      "{'mapbox_fetched_img': False, 'mapbox_img': 'mapbox/155274/133815/18.jpg', 'mapbox_added_arrow': True, 'bing_fetched_img': False, 'bing_img': 'bing/155274/133815/18.jpg', 'bing_added_arrow': True}\n"
     ]
    },
    {
     "name": "stderr",
     "output_type": "stream",
     "text": [
      "  5%|█▊                                     | 95/2000 [03:38<1:02:16,  1.96s/it]"
     ]
    },
    {
     "name": "stdout",
     "output_type": "stream",
     "text": [
      "{'mapbox_fetched_img': False, 'mapbox_img': 'mapbox/155274/133815/18.jpg', 'mapbox_added_arrow': True, 'bing_fetched_img': False, 'bing_img': 'bing/155274/133815/18.jpg', 'bing_added_arrow': True}\n"
     ]
    },
    {
     "name": "stderr",
     "output_type": "stream",
     "text": [
      "  5%|█▊                                     | 96/2000 [03:41<1:11:39,  2.26s/it]"
     ]
    },
    {
     "name": "stdout",
     "output_type": "stream",
     "text": [
      "{'mapbox_fetched_img': False, 'mapbox_img': 'mapbox/155274/133815/18.jpg', 'mapbox_added_arrow': True, 'bing_fetched_img': False, 'bing_img': 'bing/155274/133815/18.jpg', 'bing_added_arrow': True}\n"
     ]
    },
    {
     "name": "stderr",
     "output_type": "stream",
     "text": [
      "  5%|█▉                                     | 97/2000 [03:43<1:09:34,  2.19s/it]"
     ]
    },
    {
     "name": "stdout",
     "output_type": "stream",
     "text": [
      "{'mapbox_fetched_img': False, 'mapbox_img': 'mapbox/155274/133815/18.jpg', 'mapbox_added_arrow': True, 'bing_fetched_img': False, 'bing_img': 'bing/155274/133815/18.jpg', 'bing_added_arrow': True}\n"
     ]
    },
    {
     "name": "stderr",
     "output_type": "stream",
     "text": [
      "  5%|█▉                                     | 98/2000 [03:46<1:15:36,  2.39s/it]"
     ]
    },
    {
     "name": "stdout",
     "output_type": "stream",
     "text": [
      "{'mapbox_fetched_img': False, 'mapbox_img': 'mapbox/155274/133815/18.jpg', 'mapbox_added_arrow': True, 'bing_fetched_img': False, 'bing_img': 'bing/155274/133815/18.jpg', 'bing_added_arrow': True}\n"
     ]
    },
    {
     "name": "stderr",
     "output_type": "stream",
     "text": [
      "  5%|█▉                                     | 99/2000 [03:48<1:17:21,  2.44s/it]"
     ]
    },
    {
     "name": "stdout",
     "output_type": "stream",
     "text": [
      "{'mapbox_fetched_img': False, 'mapbox_img': 'mapbox/155274/133815/18.jpg', 'mapbox_added_arrow': True, 'bing_fetched_img': False, 'bing_img': 'bing/155274/133815/18.jpg', 'bing_added_arrow': True}\n"
     ]
    },
    {
     "name": "stderr",
     "output_type": "stream",
     "text": [
      "  5%|█▉                                    | 100/2000 [03:50<1:14:45,  2.36s/it]"
     ]
    },
    {
     "name": "stdout",
     "output_type": "stream",
     "text": [
      "{'mapbox_fetched_img': False, 'mapbox_img': 'mapbox/155274/133815/18.jpg', 'mapbox_added_arrow': True, 'bing_fetched_img': False, 'bing_img': 'bing/155274/133815/18.jpg', 'bing_added_arrow': True}\n"
     ]
    },
    {
     "name": "stderr",
     "output_type": "stream",
     "text": [
      "  5%|█▉                                    | 101/2000 [03:52<1:11:51,  2.27s/it]"
     ]
    },
    {
     "name": "stdout",
     "output_type": "stream",
     "text": [
      "{'mapbox_fetched_img': False, 'mapbox_img': 'mapbox/155274/133815/18.jpg', 'mapbox_added_arrow': True, 'bing_fetched_img': False, 'bing_img': 'bing/155274/133815/18.jpg', 'bing_added_arrow': True}\n"
     ]
    },
    {
     "name": "stderr",
     "output_type": "stream",
     "text": [
      "  5%|█▉                                    | 102/2000 [03:55<1:11:40,  2.27s/it]"
     ]
    },
    {
     "name": "stdout",
     "output_type": "stream",
     "text": [
      "{'mapbox_fetched_img': False, 'mapbox_img': 'mapbox/155274/133815/18.jpg', 'mapbox_added_arrow': True, 'bing_fetched_img': False, 'bing_img': 'bing/155274/133815/18.jpg', 'bing_added_arrow': True}\n"
     ]
    },
    {
     "name": "stderr",
     "output_type": "stream",
     "text": [
      "  5%|█▉                                    | 103/2000 [03:57<1:14:19,  2.35s/it]"
     ]
    },
    {
     "name": "stdout",
     "output_type": "stream",
     "text": [
      "{'mapbox_fetched_img': False, 'mapbox_img': 'mapbox/155274/133815/18.jpg', 'mapbox_added_arrow': True, 'bing_fetched_img': False, 'bing_img': 'bing/155274/133815/18.jpg', 'bing_added_arrow': True}\n"
     ]
    },
    {
     "name": "stderr",
     "output_type": "stream",
     "text": [
      "  5%|█▉                                    | 104/2000 [03:59<1:08:11,  2.16s/it]"
     ]
    },
    {
     "name": "stdout",
     "output_type": "stream",
     "text": [
      "{'mapbox_fetched_img': False, 'mapbox_img': 'mapbox/155274/133815/18.jpg', 'mapbox_added_arrow': True, 'bing_fetched_img': False, 'bing_img': 'bing/155274/133815/18.jpg', 'bing_added_arrow': True}\n"
     ]
    },
    {
     "name": "stderr",
     "output_type": "stream",
     "text": [
      "  5%|█▉                                    | 105/2000 [04:01<1:05:24,  2.07s/it]"
     ]
    },
    {
     "name": "stdout",
     "output_type": "stream",
     "text": [
      "{'mapbox_fetched_img': False, 'mapbox_img': 'mapbox/155274/133815/18.jpg', 'mapbox_added_arrow': True, 'bing_fetched_img': False, 'bing_img': 'bing/155274/133815/18.jpg', 'bing_added_arrow': True}\n"
     ]
    },
    {
     "name": "stderr",
     "output_type": "stream",
     "text": [
      "  5%|██                                    | 106/2000 [04:03<1:04:35,  2.05s/it]"
     ]
    },
    {
     "name": "stdout",
     "output_type": "stream",
     "text": [
      "{'mapbox_fetched_img': False, 'mapbox_img': 'mapbox/155274/133815/18.jpg', 'mapbox_added_arrow': True, 'bing_fetched_img': False, 'bing_img': 'bing/155274/133815/18.jpg', 'bing_added_arrow': True}\n"
     ]
    },
    {
     "name": "stderr",
     "output_type": "stream",
     "text": [
      "  5%|██                                    | 107/2000 [04:04<1:01:17,  1.94s/it]"
     ]
    },
    {
     "name": "stdout",
     "output_type": "stream",
     "text": [
      "{'mapbox_fetched_img': False, 'mapbox_img': 'mapbox/155274/133815/18.jpg', 'mapbox_added_arrow': True, 'bing_fetched_img': False, 'bing_img': 'bing/155274/133815/18.jpg', 'bing_added_arrow': True}\n"
     ]
    },
    {
     "name": "stderr",
     "output_type": "stream",
     "text": [
      "  5%|██▏                                     | 108/2000 [04:06<59:10,  1.88s/it]"
     ]
    },
    {
     "name": "stdout",
     "output_type": "stream",
     "text": [
      "{'mapbox_fetched_img': False, 'mapbox_img': 'mapbox/155274/133815/18.jpg', 'mapbox_added_arrow': True, 'bing_fetched_img': False, 'bing_img': 'bing/155274/133815/18.jpg', 'bing_added_arrow': True}\n"
     ]
    },
    {
     "name": "stderr",
     "output_type": "stream",
     "text": [
      "  5%|██▏                                     | 109/2000 [04:08<57:31,  1.83s/it]"
     ]
    },
    {
     "name": "stdout",
     "output_type": "stream",
     "text": [
      "{'mapbox_fetched_img': False, 'mapbox_img': 'mapbox/155274/133815/18.jpg', 'mapbox_added_arrow': True, 'bing_fetched_img': False, 'bing_img': 'bing/155274/133815/18.jpg', 'bing_added_arrow': True}\n"
     ]
    },
    {
     "name": "stderr",
     "output_type": "stream",
     "text": [
      "  6%|██                                    | 110/2000 [04:11<1:11:30,  2.27s/it]"
     ]
    },
    {
     "name": "stdout",
     "output_type": "stream",
     "text": [
      "{'mapbox_fetched_img': False, 'mapbox_img': 'mapbox/155274/133815/18.jpg', 'mapbox_added_arrow': True, 'bing_fetched_img': False, 'bing_img': 'bing/155274/133815/18.jpg', 'bing_added_arrow': True}\n"
     ]
    },
    {
     "name": "stderr",
     "output_type": "stream",
     "text": [
      "  6%|██                                    | 111/2000 [04:16<1:36:14,  3.06s/it]"
     ]
    },
    {
     "name": "stdout",
     "output_type": "stream",
     "text": [
      "{'mapbox_fetched_img': False, 'mapbox_img': 'mapbox/155274/133815/18.jpg', 'mapbox_added_arrow': True, 'bing_fetched_img': False, 'bing_img': 'bing/155274/133815/18.jpg', 'bing_added_arrow': True}\n"
     ]
    },
    {
     "name": "stderr",
     "output_type": "stream",
     "text": [
      "  6%|██▏                                   | 112/2000 [04:18<1:28:49,  2.82s/it]"
     ]
    },
    {
     "name": "stdout",
     "output_type": "stream",
     "text": [
      "{'mapbox_fetched_img': False, 'mapbox_img': 'mapbox/155274/133815/18.jpg', 'mapbox_added_arrow': True, 'bing_fetched_img': False, 'bing_img': 'bing/155274/133815/18.jpg', 'bing_added_arrow': True}\n"
     ]
    },
    {
     "name": "stderr",
     "output_type": "stream",
     "text": [
      "  6%|██▏                                   | 113/2000 [04:22<1:34:21,  3.00s/it]"
     ]
    },
    {
     "name": "stdout",
     "output_type": "stream",
     "text": [
      "{'mapbox_fetched_img': False, 'mapbox_img': 'mapbox/155274/133815/18.jpg', 'mapbox_added_arrow': True, 'bing_fetched_img': False, 'bing_img': 'bing/155274/133815/18.jpg', 'bing_added_arrow': True}\n"
     ]
    },
    {
     "name": "stderr",
     "output_type": "stream",
     "text": [
      "  6%|██▏                                   | 114/2000 [04:26<1:44:18,  3.32s/it]"
     ]
    },
    {
     "name": "stdout",
     "output_type": "stream",
     "text": [
      "{'mapbox_fetched_img': False, 'mapbox_img': 'mapbox/155274/133815/18.jpg', 'mapbox_added_arrow': True, 'bing_fetched_img': False, 'bing_img': 'bing/155274/133815/18.jpg', 'bing_added_arrow': True}\n"
     ]
    },
    {
     "name": "stderr",
     "output_type": "stream",
     "text": [
      "  6%|██▏                                   | 115/2000 [04:29<1:40:40,  3.20s/it]"
     ]
    },
    {
     "name": "stdout",
     "output_type": "stream",
     "text": [
      "{'mapbox_fetched_img': False, 'mapbox_img': 'mapbox/155274/133815/18.jpg', 'mapbox_added_arrow': True, 'bing_fetched_img': False, 'bing_img': 'bing/155274/133815/18.jpg', 'bing_added_arrow': True}\n"
     ]
    },
    {
     "name": "stderr",
     "output_type": "stream",
     "text": [
      "  6%|██▏                                   | 116/2000 [04:32<1:39:26,  3.17s/it]"
     ]
    },
    {
     "name": "stdout",
     "output_type": "stream",
     "text": [
      "{'mapbox_fetched_img': False, 'mapbox_img': 'mapbox/155274/133815/18.jpg', 'mapbox_added_arrow': True, 'bing_fetched_img': False, 'bing_img': 'bing/155274/133815/18.jpg', 'bing_added_arrow': True}\n"
     ]
    },
    {
     "name": "stderr",
     "output_type": "stream",
     "text": [
      "  6%|██▏                                   | 117/2000 [04:34<1:26:48,  2.77s/it]"
     ]
    },
    {
     "name": "stdout",
     "output_type": "stream",
     "text": [
      "{'mapbox_fetched_img': False, 'mapbox_img': 'mapbox/155274/133815/18.jpg', 'mapbox_added_arrow': True, 'bing_fetched_img': False, 'bing_img': 'bing/155274/133815/18.jpg', 'bing_added_arrow': True}\n"
     ]
    },
    {
     "name": "stderr",
     "output_type": "stream",
     "text": [
      "  6%|██▏                                   | 118/2000 [04:37<1:31:50,  2.93s/it]"
     ]
    },
    {
     "name": "stdout",
     "output_type": "stream",
     "text": [
      "{'mapbox_fetched_img': False, 'mapbox_img': 'mapbox/155274/133815/18.jpg', 'mapbox_added_arrow': True, 'bing_fetched_img': False, 'bing_img': 'bing/155274/133815/18.jpg', 'bing_added_arrow': True}\n"
     ]
    },
    {
     "name": "stderr",
     "output_type": "stream",
     "text": [
      "  6%|██▎                                   | 119/2000 [04:42<1:51:21,  3.55s/it]"
     ]
    },
    {
     "name": "stdout",
     "output_type": "stream",
     "text": [
      "{'mapbox_fetched_img': False, 'mapbox_img': 'mapbox/155274/133815/18.jpg', 'mapbox_added_arrow': True, 'bing_fetched_img': False, 'bing_img': 'bing/155274/133815/18.jpg', 'bing_added_arrow': True}\n"
     ]
    },
    {
     "name": "stderr",
     "output_type": "stream",
     "text": [
      "  6%|██▎                                   | 120/2000 [04:46<1:52:17,  3.58s/it]"
     ]
    },
    {
     "name": "stdout",
     "output_type": "stream",
     "text": [
      "{'mapbox_fetched_img': False, 'mapbox_img': 'mapbox/155274/133815/18.jpg', 'mapbox_added_arrow': True, 'bing_fetched_img': False, 'bing_img': 'bing/155274/133815/18.jpg', 'bing_added_arrow': True}\n"
     ]
    },
    {
     "name": "stderr",
     "output_type": "stream",
     "text": [
      "  6%|██▎                                   | 121/2000 [04:48<1:40:27,  3.21s/it]"
     ]
    },
    {
     "name": "stdout",
     "output_type": "stream",
     "text": [
      "{'mapbox_fetched_img': False, 'mapbox_img': 'mapbox/155274/133815/18.jpg', 'mapbox_added_arrow': True, 'bing_fetched_img': False, 'bing_img': 'bing/155274/133815/18.jpg', 'bing_added_arrow': True}\n"
     ]
    },
    {
     "name": "stderr",
     "output_type": "stream",
     "text": [
      "  6%|██▎                                   | 122/2000 [04:50<1:28:30,  2.83s/it]"
     ]
    },
    {
     "name": "stdout",
     "output_type": "stream",
     "text": [
      "{'mapbox_fetched_img': False, 'mapbox_img': 'mapbox/155274/133815/18.jpg', 'mapbox_added_arrow': True, 'bing_fetched_img': False, 'bing_img': 'bing/155274/133815/18.jpg', 'bing_added_arrow': True}\n"
     ]
    },
    {
     "name": "stderr",
     "output_type": "stream",
     "text": [
      "  6%|██▎                                   | 123/2000 [04:53<1:26:35,  2.77s/it]"
     ]
    },
    {
     "name": "stdout",
     "output_type": "stream",
     "text": [
      "{'mapbox_fetched_img': False, 'mapbox_img': 'mapbox/155274/133815/18.jpg', 'mapbox_added_arrow': True, 'bing_fetched_img': False, 'bing_img': 'bing/155274/133815/18.jpg', 'bing_added_arrow': True}\n"
     ]
    },
    {
     "name": "stderr",
     "output_type": "stream",
     "text": [
      "  6%|██▎                                   | 124/2000 [04:55<1:21:41,  2.61s/it]"
     ]
    },
    {
     "name": "stdout",
     "output_type": "stream",
     "text": [
      "{'mapbox_fetched_img': False, 'mapbox_img': 'mapbox/155274/133815/18.jpg', 'mapbox_added_arrow': True, 'bing_fetched_img': False, 'bing_img': 'bing/155274/133815/18.jpg', 'bing_added_arrow': True}\n"
     ]
    },
    {
     "name": "stderr",
     "output_type": "stream",
     "text": [
      "  6%|██▍                                   | 125/2000 [04:57<1:20:31,  2.58s/it]"
     ]
    },
    {
     "name": "stdout",
     "output_type": "stream",
     "text": [
      "{'mapbox_fetched_img': False, 'mapbox_img': 'mapbox/155274/133815/18.jpg', 'mapbox_added_arrow': True, 'bing_fetched_img': False, 'bing_img': 'bing/155274/133815/18.jpg', 'bing_added_arrow': True}\n"
     ]
    },
    {
     "name": "stderr",
     "output_type": "stream",
     "text": [
      "  6%|██▍                                   | 126/2000 [04:59<1:13:24,  2.35s/it]"
     ]
    },
    {
     "name": "stdout",
     "output_type": "stream",
     "text": [
      "{'mapbox_fetched_img': False, 'mapbox_img': 'mapbox/155274/133815/18.jpg', 'mapbox_added_arrow': True, 'bing_fetched_img': False, 'bing_img': 'bing/155274/133815/18.jpg', 'bing_added_arrow': True}\n"
     ]
    },
    {
     "name": "stderr",
     "output_type": "stream",
     "text": [
      "  6%|██▍                                   | 127/2000 [05:02<1:17:00,  2.47s/it]"
     ]
    },
    {
     "name": "stdout",
     "output_type": "stream",
     "text": [
      "{'mapbox_fetched_img': False, 'mapbox_img': 'mapbox/155274/133815/18.jpg', 'mapbox_added_arrow': True, 'bing_fetched_img': False, 'bing_img': 'bing/155274/133815/18.jpg', 'bing_added_arrow': True}\n"
     ]
    },
    {
     "name": "stderr",
     "output_type": "stream",
     "text": [
      "  6%|██▍                                   | 128/2000 [05:04<1:13:49,  2.37s/it]"
     ]
    },
    {
     "name": "stdout",
     "output_type": "stream",
     "text": [
      "{'mapbox_fetched_img': False, 'mapbox_img': 'mapbox/155274/133815/18.jpg', 'mapbox_added_arrow': True, 'bing_fetched_img': False, 'bing_img': 'bing/155274/133815/18.jpg', 'bing_added_arrow': True}\n"
     ]
    },
    {
     "name": "stderr",
     "output_type": "stream",
     "text": [
      "  6%|██▍                                   | 129/2000 [05:06<1:09:13,  2.22s/it]"
     ]
    },
    {
     "name": "stdout",
     "output_type": "stream",
     "text": [
      "{'mapbox_fetched_img': False, 'mapbox_img': 'mapbox/155274/133815/18.jpg', 'mapbox_added_arrow': True, 'bing_fetched_img': False, 'bing_img': 'bing/155274/133815/18.jpg', 'bing_added_arrow': True}\n"
     ]
    },
    {
     "name": "stderr",
     "output_type": "stream",
     "text": [
      "  6%|██▍                                   | 130/2000 [05:08<1:04:41,  2.08s/it]"
     ]
    },
    {
     "name": "stdout",
     "output_type": "stream",
     "text": [
      "{'mapbox_fetched_img': False, 'mapbox_img': 'mapbox/155274/133815/18.jpg', 'mapbox_added_arrow': True, 'bing_fetched_img': False, 'bing_img': 'bing/155274/133815/18.jpg', 'bing_added_arrow': True}\n"
     ]
    },
    {
     "name": "stderr",
     "output_type": "stream",
     "text": [
      "  7%|██▍                                   | 131/2000 [05:11<1:12:47,  2.34s/it]"
     ]
    },
    {
     "name": "stdout",
     "output_type": "stream",
     "text": [
      "{'mapbox_fetched_img': False, 'mapbox_img': 'mapbox/155274/133815/18.jpg', 'mapbox_added_arrow': True, 'bing_fetched_img': False, 'bing_img': 'bing/155274/133815/18.jpg', 'bing_added_arrow': True}\n"
     ]
    },
    {
     "name": "stderr",
     "output_type": "stream",
     "text": [
      "  7%|██▌                                   | 132/2000 [05:13<1:14:16,  2.39s/it]"
     ]
    },
    {
     "name": "stdout",
     "output_type": "stream",
     "text": [
      "{'mapbox_fetched_img': False, 'mapbox_img': 'mapbox/155274/133815/18.jpg', 'mapbox_added_arrow': True, 'bing_fetched_img': False, 'bing_img': 'bing/155274/133815/18.jpg', 'bing_added_arrow': True}\n"
     ]
    },
    {
     "name": "stderr",
     "output_type": "stream",
     "text": [
      "  7%|██▌                                   | 133/2000 [05:16<1:15:15,  2.42s/it]"
     ]
    },
    {
     "name": "stdout",
     "output_type": "stream",
     "text": [
      "{'mapbox_fetched_img': False, 'mapbox_img': 'mapbox/155274/133815/18.jpg', 'mapbox_added_arrow': True, 'bing_fetched_img': False, 'bing_img': 'bing/155274/133815/18.jpg', 'bing_added_arrow': True}\n"
     ]
    },
    {
     "name": "stderr",
     "output_type": "stream",
     "text": [
      "  7%|██▌                                   | 134/2000 [05:18<1:15:29,  2.43s/it]"
     ]
    },
    {
     "name": "stdout",
     "output_type": "stream",
     "text": [
      "{'mapbox_fetched_img': False, 'mapbox_img': 'mapbox/155274/133815/18.jpg', 'mapbox_added_arrow': True, 'bing_fetched_img': False, 'bing_img': 'bing/155274/133815/18.jpg', 'bing_added_arrow': True}\n"
     ]
    },
    {
     "name": "stderr",
     "output_type": "stream",
     "text": [
      "  7%|██▌                                   | 135/2000 [05:20<1:10:08,  2.26s/it]"
     ]
    },
    {
     "name": "stdout",
     "output_type": "stream",
     "text": [
      "{'mapbox_fetched_img': False, 'mapbox_img': 'mapbox/155274/133815/18.jpg', 'mapbox_added_arrow': True, 'bing_fetched_img': False, 'bing_img': 'bing/155274/133815/18.jpg', 'bing_added_arrow': True}\n"
     ]
    },
    {
     "name": "stderr",
     "output_type": "stream",
     "text": [
      "  7%|██▌                                   | 136/2000 [05:22<1:13:29,  2.37s/it]"
     ]
    },
    {
     "name": "stdout",
     "output_type": "stream",
     "text": [
      "{'mapbox_fetched_img': False, 'mapbox_img': 'mapbox/155274/133815/18.jpg', 'mapbox_added_arrow': True, 'bing_fetched_img': False, 'bing_img': 'bing/155274/133815/18.jpg', 'bing_added_arrow': True}\n"
     ]
    },
    {
     "name": "stderr",
     "output_type": "stream",
     "text": [
      "  7%|██▌                                   | 137/2000 [05:27<1:35:52,  3.09s/it]"
     ]
    },
    {
     "name": "stdout",
     "output_type": "stream",
     "text": [
      "{'mapbox_fetched_img': False, 'mapbox_img': 'mapbox/155274/133815/18.jpg', 'mapbox_added_arrow': True, 'bing_fetched_img': False, 'bing_img': 'bing/155274/133815/18.jpg', 'bing_added_arrow': True}\n"
     ]
    },
    {
     "name": "stderr",
     "output_type": "stream",
     "text": [
      "  7%|██▌                                   | 138/2000 [05:30<1:33:18,  3.01s/it]"
     ]
    },
    {
     "name": "stdout",
     "output_type": "stream",
     "text": [
      "{'mapbox_fetched_img': False, 'mapbox_img': 'mapbox/155274/133815/18.jpg', 'mapbox_added_arrow': True, 'bing_fetched_img': False, 'bing_img': 'bing/155274/133815/18.jpg', 'bing_added_arrow': True}\n"
     ]
    },
    {
     "name": "stderr",
     "output_type": "stream",
     "text": [
      "  7%|██▋                                   | 139/2000 [05:35<1:48:39,  3.50s/it]"
     ]
    },
    {
     "name": "stdout",
     "output_type": "stream",
     "text": [
      "{'mapbox_fetched_img': False, 'mapbox_img': 'mapbox/155274/133815/18.jpg', 'mapbox_added_arrow': True, 'bing_fetched_img': False, 'bing_img': 'bing/155274/133815/18.jpg', 'bing_added_arrow': True}\n"
     ]
    },
    {
     "name": "stderr",
     "output_type": "stream",
     "text": [
      "  7%|██▋                                   | 140/2000 [05:37<1:36:42,  3.12s/it]"
     ]
    },
    {
     "name": "stdout",
     "output_type": "stream",
     "text": [
      "{'mapbox_fetched_img': False, 'mapbox_img': 'mapbox/155274/133815/18.jpg', 'mapbox_added_arrow': True, 'bing_fetched_img': False, 'bing_img': 'bing/155274/133815/18.jpg', 'bing_added_arrow': True}\n"
     ]
    },
    {
     "name": "stderr",
     "output_type": "stream",
     "text": [
      "  7%|██▋                                   | 141/2000 [05:39<1:29:12,  2.88s/it]"
     ]
    },
    {
     "name": "stdout",
     "output_type": "stream",
     "text": [
      "{'mapbox_fetched_img': False, 'mapbox_img': 'mapbox/155274/133815/18.jpg', 'mapbox_added_arrow': True, 'bing_fetched_img': False, 'bing_img': 'bing/155274/133815/18.jpg', 'bing_added_arrow': True}\n"
     ]
    },
    {
     "name": "stderr",
     "output_type": "stream",
     "text": [
      "  7%|██▋                                   | 142/2000 [05:42<1:30:05,  2.91s/it]"
     ]
    },
    {
     "name": "stdout",
     "output_type": "stream",
     "text": [
      "{'mapbox_fetched_img': False, 'mapbox_img': 'mapbox/155274/133815/18.jpg', 'mapbox_added_arrow': True, 'bing_fetched_img': False, 'bing_img': 'bing/155274/133815/18.jpg', 'bing_added_arrow': True}\n"
     ]
    },
    {
     "name": "stderr",
     "output_type": "stream",
     "text": [
      "  7%|██▋                                   | 143/2000 [05:44<1:21:27,  2.63s/it]"
     ]
    },
    {
     "name": "stdout",
     "output_type": "stream",
     "text": [
      "{'mapbox_fetched_img': False, 'mapbox_img': 'mapbox/155274/133815/18.jpg', 'mapbox_added_arrow': True, 'bing_fetched_img': False, 'bing_img': 'bing/155274/133815/18.jpg', 'bing_added_arrow': True}\n"
     ]
    },
    {
     "name": "stderr",
     "output_type": "stream",
     "text": [
      "  7%|██▋                                   | 144/2000 [05:47<1:20:22,  2.60s/it]"
     ]
    },
    {
     "name": "stdout",
     "output_type": "stream",
     "text": [
      "{'mapbox_fetched_img': False, 'mapbox_img': 'mapbox/155274/133815/18.jpg', 'mapbox_added_arrow': True, 'bing_fetched_img': False, 'bing_img': 'bing/155274/133815/18.jpg', 'bing_added_arrow': True}\n"
     ]
    },
    {
     "name": "stderr",
     "output_type": "stream",
     "text": [
      "  7%|██▊                                   | 145/2000 [05:49<1:18:55,  2.55s/it]"
     ]
    },
    {
     "name": "stdout",
     "output_type": "stream",
     "text": [
      "{'mapbox_fetched_img': False, 'mapbox_img': 'mapbox/155274/133815/18.jpg', 'mapbox_added_arrow': True, 'bing_fetched_img': False, 'bing_img': 'bing/155274/133815/18.jpg', 'bing_added_arrow': True}\n"
     ]
    },
    {
     "name": "stderr",
     "output_type": "stream",
     "text": [
      "  7%|██▊                                   | 146/2000 [05:52<1:23:28,  2.70s/it]"
     ]
    },
    {
     "name": "stdout",
     "output_type": "stream",
     "text": [
      "{'mapbox_fetched_img': False, 'mapbox_img': 'mapbox/155274/133815/18.jpg', 'mapbox_added_arrow': True, 'bing_fetched_img': False, 'bing_img': 'bing/155274/133815/18.jpg', 'bing_added_arrow': True}\n"
     ]
    },
    {
     "name": "stderr",
     "output_type": "stream",
     "text": [
      "  7%|██▊                                   | 147/2000 [05:55<1:26:49,  2.81s/it]"
     ]
    },
    {
     "name": "stdout",
     "output_type": "stream",
     "text": [
      "{'mapbox_fetched_img': False, 'mapbox_img': 'mapbox/155274/133815/18.jpg', 'mapbox_added_arrow': True, 'bing_fetched_img': False, 'bing_img': 'bing/155274/133815/18.jpg', 'bing_added_arrow': True}\n"
     ]
    },
    {
     "name": "stderr",
     "output_type": "stream",
     "text": [
      "  7%|██▊                                   | 148/2000 [05:57<1:19:33,  2.58s/it]"
     ]
    },
    {
     "name": "stdout",
     "output_type": "stream",
     "text": [
      "{'mapbox_fetched_img': False, 'mapbox_img': 'mapbox/155274/133815/18.jpg', 'mapbox_added_arrow': True, 'bing_fetched_img': False, 'bing_img': 'bing/155274/133815/18.jpg', 'bing_added_arrow': True}\n"
     ]
    },
    {
     "name": "stderr",
     "output_type": "stream",
     "text": [
      "  7%|██▊                                   | 149/2000 [05:59<1:13:33,  2.38s/it]"
     ]
    },
    {
     "name": "stdout",
     "output_type": "stream",
     "text": [
      "{'mapbox_fetched_img': False, 'mapbox_img': 'mapbox/155274/133815/18.jpg', 'mapbox_added_arrow': True, 'bing_fetched_img': False, 'bing_img': 'bing/155274/133815/18.jpg', 'bing_added_arrow': True}\n"
     ]
    },
    {
     "name": "stderr",
     "output_type": "stream",
     "text": [
      "  8%|██▊                                   | 150/2000 [06:01<1:09:20,  2.25s/it]"
     ]
    },
    {
     "name": "stdout",
     "output_type": "stream",
     "text": [
      "{'mapbox_fetched_img': False, 'mapbox_img': 'mapbox/155274/133815/18.jpg', 'mapbox_added_arrow': True, 'bing_fetched_img': False, 'bing_img': 'bing/155274/133815/18.jpg', 'bing_added_arrow': True}\n"
     ]
    },
    {
     "name": "stderr",
     "output_type": "stream",
     "text": [
      "  8%|██▊                                   | 151/2000 [06:03<1:04:46,  2.10s/it]"
     ]
    },
    {
     "name": "stdout",
     "output_type": "stream",
     "text": [
      "{'mapbox_fetched_img': False, 'mapbox_img': 'mapbox/155274/133815/18.jpg', 'mapbox_added_arrow': True, 'bing_fetched_img': False, 'bing_img': 'bing/155274/133815/18.jpg', 'bing_added_arrow': True}\n"
     ]
    },
    {
     "name": "stderr",
     "output_type": "stream",
     "text": [
      "  8%|██▉                                   | 152/2000 [06:05<1:01:43,  2.00s/it]"
     ]
    },
    {
     "name": "stdout",
     "output_type": "stream",
     "text": [
      "{'mapbox_fetched_img': False, 'mapbox_img': 'mapbox/155274/133815/18.jpg', 'mapbox_added_arrow': True, 'bing_fetched_img': False, 'bing_img': 'bing/155274/133815/18.jpg', 'bing_added_arrow': True}\n"
     ]
    },
    {
     "name": "stderr",
     "output_type": "stream",
     "text": [
      "  8%|██▉                                   | 153/2000 [06:07<1:06:21,  2.16s/it]"
     ]
    },
    {
     "name": "stdout",
     "output_type": "stream",
     "text": [
      "{'mapbox_fetched_img': False, 'mapbox_img': 'mapbox/155274/133815/18.jpg', 'mapbox_added_arrow': True, 'bing_fetched_img': False, 'bing_img': 'bing/155274/133815/18.jpg', 'bing_added_arrow': True}\n"
     ]
    },
    {
     "name": "stderr",
     "output_type": "stream",
     "text": [
      "  8%|██▉                                   | 154/2000 [06:10<1:08:08,  2.21s/it]"
     ]
    },
    {
     "name": "stdout",
     "output_type": "stream",
     "text": [
      "{'mapbox_fetched_img': False, 'mapbox_img': 'mapbox/155274/133815/18.jpg', 'mapbox_added_arrow': True, 'bing_fetched_img': False, 'bing_img': 'bing/155274/133815/18.jpg', 'bing_added_arrow': True}\n"
     ]
    },
    {
     "name": "stderr",
     "output_type": "stream",
     "text": [
      "  8%|██▉                                   | 155/2000 [06:12<1:12:45,  2.37s/it]"
     ]
    },
    {
     "name": "stdout",
     "output_type": "stream",
     "text": [
      "{'mapbox_fetched_img': False, 'mapbox_img': 'mapbox/155274/133815/18.jpg', 'mapbox_added_arrow': True, 'bing_fetched_img': False, 'bing_img': 'bing/155274/133815/18.jpg', 'bing_added_arrow': True}\n"
     ]
    },
    {
     "name": "stderr",
     "output_type": "stream",
     "text": [
      "  8%|██▉                                   | 156/2000 [06:16<1:21:14,  2.64s/it]"
     ]
    },
    {
     "name": "stdout",
     "output_type": "stream",
     "text": [
      "{'mapbox_fetched_img': False, 'mapbox_img': 'mapbox/155274/133815/18.jpg', 'mapbox_added_arrow': True, 'bing_fetched_img': False, 'bing_img': 'bing/155274/133815/18.jpg', 'bing_added_arrow': True}\n"
     ]
    },
    {
     "name": "stderr",
     "output_type": "stream",
     "text": [
      "  8%|██▉                                   | 157/2000 [06:18<1:22:01,  2.67s/it]"
     ]
    },
    {
     "name": "stdout",
     "output_type": "stream",
     "text": [
      "{'mapbox_fetched_img': False, 'mapbox_img': 'mapbox/155274/133815/18.jpg', 'mapbox_added_arrow': True, 'bing_fetched_img': False, 'bing_img': 'bing/155274/133815/18.jpg', 'bing_added_arrow': True}\n"
     ]
    },
    {
     "name": "stderr",
     "output_type": "stream",
     "text": [
      "  8%|███                                   | 158/2000 [06:20<1:17:01,  2.51s/it]"
     ]
    },
    {
     "name": "stdout",
     "output_type": "stream",
     "text": [
      "{'mapbox_fetched_img': False, 'mapbox_img': 'mapbox/155274/133815/18.jpg', 'mapbox_added_arrow': True, 'bing_fetched_img': False, 'bing_img': 'bing/155274/133815/18.jpg', 'bing_added_arrow': True}\n"
     ]
    },
    {
     "name": "stderr",
     "output_type": "stream",
     "text": [
      "  8%|███                                   | 159/2000 [06:22<1:12:32,  2.36s/it]"
     ]
    },
    {
     "name": "stdout",
     "output_type": "stream",
     "text": [
      "{'mapbox_fetched_img': False, 'mapbox_img': 'mapbox/155274/133815/18.jpg', 'mapbox_added_arrow': True, 'bing_fetched_img': False, 'bing_img': 'bing/155274/133815/18.jpg', 'bing_added_arrow': True}\n"
     ]
    },
    {
     "name": "stderr",
     "output_type": "stream",
     "text": [
      "  8%|███                                   | 160/2000 [06:24<1:07:00,  2.19s/it]"
     ]
    },
    {
     "name": "stdout",
     "output_type": "stream",
     "text": [
      "{'mapbox_fetched_img': False, 'mapbox_img': 'mapbox/155274/133815/18.jpg', 'mapbox_added_arrow': True, 'bing_fetched_img': False, 'bing_img': 'bing/155274/133815/18.jpg', 'bing_added_arrow': True}\n"
     ]
    },
    {
     "name": "stderr",
     "output_type": "stream",
     "text": [
      "  8%|███                                   | 161/2000 [06:27<1:16:35,  2.50s/it]"
     ]
    },
    {
     "name": "stdout",
     "output_type": "stream",
     "text": [
      "{'mapbox_fetched_img': False, 'mapbox_img': 'mapbox/155274/133815/18.jpg', 'mapbox_added_arrow': True, 'bing_fetched_img': False, 'bing_img': 'bing/155274/133815/18.jpg', 'bing_added_arrow': True}\n"
     ]
    },
    {
     "name": "stderr",
     "output_type": "stream",
     "text": [
      "  8%|███                                   | 162/2000 [06:30<1:17:54,  2.54s/it]"
     ]
    },
    {
     "name": "stdout",
     "output_type": "stream",
     "text": [
      "{'mapbox_fetched_img': False, 'mapbox_img': 'mapbox/155274/133815/18.jpg', 'mapbox_added_arrow': True, 'bing_fetched_img': False, 'bing_img': 'bing/155274/133815/18.jpg', 'bing_added_arrow': True}\n"
     ]
    },
    {
     "name": "stderr",
     "output_type": "stream",
     "text": [
      "  8%|███                                   | 163/2000 [06:33<1:20:47,  2.64s/it]"
     ]
    },
    {
     "name": "stdout",
     "output_type": "stream",
     "text": [
      "{'mapbox_fetched_img': False, 'mapbox_img': 'mapbox/155274/133815/18.jpg', 'mapbox_added_arrow': True, 'bing_fetched_img': False, 'bing_img': 'bing/155274/133815/18.jpg', 'bing_added_arrow': True}\n"
     ]
    },
    {
     "name": "stderr",
     "output_type": "stream",
     "text": [
      "  8%|███                                   | 164/2000 [06:36<1:23:31,  2.73s/it]"
     ]
    },
    {
     "name": "stdout",
     "output_type": "stream",
     "text": [
      "{'mapbox_fetched_img': False, 'mapbox_img': 'mapbox/155274/133815/18.jpg', 'mapbox_added_arrow': True, 'bing_fetched_img': False, 'bing_img': 'bing/155274/133815/18.jpg', 'bing_added_arrow': True}\n"
     ]
    },
    {
     "name": "stderr",
     "output_type": "stream",
     "text": [
      "  8%|███▏                                  | 165/2000 [06:38<1:21:23,  2.66s/it]"
     ]
    },
    {
     "name": "stdout",
     "output_type": "stream",
     "text": [
      "{'mapbox_fetched_img': False, 'mapbox_img': 'mapbox/155274/133815/18.jpg', 'mapbox_added_arrow': True, 'bing_fetched_img': False, 'bing_img': 'bing/155274/133815/18.jpg', 'bing_added_arrow': True}\n"
     ]
    },
    {
     "name": "stderr",
     "output_type": "stream",
     "text": [
      "  8%|███▏                                  | 166/2000 [06:41<1:18:32,  2.57s/it]"
     ]
    },
    {
     "name": "stdout",
     "output_type": "stream",
     "text": [
      "{'mapbox_fetched_img': False, 'mapbox_img': 'mapbox/155274/133815/18.jpg', 'mapbox_added_arrow': True, 'bing_fetched_img': False, 'bing_img': 'bing/155274/133815/18.jpg', 'bing_added_arrow': True}\n"
     ]
    },
    {
     "name": "stderr",
     "output_type": "stream",
     "text": [
      "  8%|███▏                                  | 167/2000 [06:43<1:17:57,  2.55s/it]"
     ]
    },
    {
     "name": "stdout",
     "output_type": "stream",
     "text": [
      "{'mapbox_fetched_img': False, 'mapbox_img': 'mapbox/155274/133815/18.jpg', 'mapbox_added_arrow': True, 'bing_fetched_img': False, 'bing_img': 'bing/155274/133815/18.jpg', 'bing_added_arrow': True}\n"
     ]
    },
    {
     "name": "stderr",
     "output_type": "stream",
     "text": [
      "  8%|███▏                                  | 168/2000 [06:46<1:22:47,  2.71s/it]"
     ]
    },
    {
     "name": "stdout",
     "output_type": "stream",
     "text": [
      "{'mapbox_fetched_img': False, 'mapbox_img': 'mapbox/155274/133815/18.jpg', 'mapbox_added_arrow': True, 'bing_fetched_img': False, 'bing_img': 'bing/155274/133815/18.jpg', 'bing_added_arrow': True}\n"
     ]
    },
    {
     "name": "stderr",
     "output_type": "stream",
     "text": [
      "  8%|███▏                                  | 169/2000 [06:49<1:17:27,  2.54s/it]"
     ]
    },
    {
     "name": "stdout",
     "output_type": "stream",
     "text": [
      "{'mapbox_fetched_img': False, 'mapbox_img': 'mapbox/155274/133815/18.jpg', 'mapbox_added_arrow': True, 'bing_fetched_img': False, 'bing_img': 'bing/155274/133815/18.jpg', 'bing_added_arrow': True}\n"
     ]
    },
    {
     "name": "stderr",
     "output_type": "stream",
     "text": [
      "  8%|███▏                                  | 170/2000 [06:51<1:12:16,  2.37s/it]"
     ]
    },
    {
     "name": "stdout",
     "output_type": "stream",
     "text": [
      "{'mapbox_fetched_img': False, 'mapbox_img': 'mapbox/155274/133815/18.jpg', 'mapbox_added_arrow': True, 'bing_fetched_img': False, 'bing_img': 'bing/155274/133815/18.jpg', 'bing_added_arrow': True}\n"
     ]
    },
    {
     "name": "stderr",
     "output_type": "stream",
     "text": [
      "  9%|███▏                                  | 171/2000 [06:54<1:19:56,  2.62s/it]"
     ]
    },
    {
     "name": "stdout",
     "output_type": "stream",
     "text": [
      "{'mapbox_fetched_img': False, 'mapbox_img': 'mapbox/155274/133815/18.jpg', 'mapbox_added_arrow': True, 'bing_fetched_img': False, 'bing_img': 'bing/155274/133815/18.jpg', 'bing_added_arrow': True}\n"
     ]
    },
    {
     "name": "stderr",
     "output_type": "stream",
     "text": [
      "  9%|███▎                                  | 172/2000 [06:56<1:16:57,  2.53s/it]"
     ]
    },
    {
     "name": "stdout",
     "output_type": "stream",
     "text": [
      "{'mapbox_fetched_img': False, 'mapbox_img': 'mapbox/155274/133815/18.jpg', 'mapbox_added_arrow': True, 'bing_fetched_img': False, 'bing_img': 'bing/155274/133815/18.jpg', 'bing_added_arrow': True}\n"
     ]
    },
    {
     "name": "stderr",
     "output_type": "stream",
     "text": [
      "  9%|███▎                                  | 173/2000 [06:59<1:17:39,  2.55s/it]"
     ]
    },
    {
     "name": "stdout",
     "output_type": "stream",
     "text": [
      "{'mapbox_fetched_img': False, 'mapbox_img': 'mapbox/155274/133815/18.jpg', 'mapbox_added_arrow': True, 'bing_fetched_img': False, 'bing_img': 'bing/155274/133815/18.jpg', 'bing_added_arrow': True}\n"
     ]
    },
    {
     "name": "stderr",
     "output_type": "stream",
     "text": [
      "  9%|███▎                                  | 174/2000 [07:01<1:12:24,  2.38s/it]"
     ]
    },
    {
     "name": "stdout",
     "output_type": "stream",
     "text": [
      "{'mapbox_fetched_img': False, 'mapbox_img': 'mapbox/155274/133815/18.jpg', 'mapbox_added_arrow': True, 'bing_fetched_img': False, 'bing_img': 'bing/155274/133815/18.jpg', 'bing_added_arrow': True}\n"
     ]
    },
    {
     "name": "stderr",
     "output_type": "stream",
     "text": [
      "  9%|███▎                                  | 175/2000 [07:03<1:11:04,  2.34s/it]"
     ]
    },
    {
     "name": "stdout",
     "output_type": "stream",
     "text": [
      "{'mapbox_fetched_img': False, 'mapbox_img': 'mapbox/155274/133815/18.jpg', 'mapbox_added_arrow': True, 'bing_fetched_img': False, 'bing_img': 'bing/155274/133815/18.jpg', 'bing_added_arrow': True}\n"
     ]
    },
    {
     "name": "stderr",
     "output_type": "stream",
     "text": [
      "  9%|███▎                                  | 176/2000 [07:05<1:05:29,  2.15s/it]"
     ]
    },
    {
     "name": "stdout",
     "output_type": "stream",
     "text": [
      "{'mapbox_fetched_img': False, 'mapbox_img': 'mapbox/155274/133815/18.jpg', 'mapbox_added_arrow': True, 'bing_fetched_img': False, 'bing_img': 'bing/155274/133815/18.jpg', 'bing_added_arrow': True}\n"
     ]
    },
    {
     "name": "stderr",
     "output_type": "stream",
     "text": [
      "  9%|███▎                                  | 177/2000 [07:07<1:10:05,  2.31s/it]"
     ]
    },
    {
     "name": "stdout",
     "output_type": "stream",
     "text": [
      "{'mapbox_fetched_img': False, 'mapbox_img': 'mapbox/155274/133815/18.jpg', 'mapbox_added_arrow': True, 'bing_fetched_img': False, 'bing_img': 'bing/155274/133815/18.jpg', 'bing_added_arrow': True}\n"
     ]
    },
    {
     "name": "stderr",
     "output_type": "stream",
     "text": [
      "  9%|███▍                                  | 178/2000 [07:09<1:08:16,  2.25s/it]"
     ]
    },
    {
     "name": "stdout",
     "output_type": "stream",
     "text": [
      "{'mapbox_fetched_img': False, 'mapbox_img': 'mapbox/155274/133815/18.jpg', 'mapbox_added_arrow': True, 'bing_fetched_img': False, 'bing_img': 'bing/155274/133815/18.jpg', 'bing_added_arrow': True}\n"
     ]
    },
    {
     "name": "stderr",
     "output_type": "stream",
     "text": [
      "  9%|███▍                                  | 179/2000 [07:11<1:05:27,  2.16s/it]"
     ]
    },
    {
     "name": "stdout",
     "output_type": "stream",
     "text": [
      "{'mapbox_fetched_img': False, 'mapbox_img': 'mapbox/155274/133815/18.jpg', 'mapbox_added_arrow': True, 'bing_fetched_img': False, 'bing_img': 'bing/155274/133815/18.jpg', 'bing_added_arrow': True}\n"
     ]
    },
    {
     "name": "stderr",
     "output_type": "stream",
     "text": [
      "  9%|███▍                                  | 180/2000 [07:13<1:02:55,  2.07s/it]"
     ]
    },
    {
     "name": "stdout",
     "output_type": "stream",
     "text": [
      "{'mapbox_fetched_img': False, 'mapbox_img': 'mapbox/155274/133815/18.jpg', 'mapbox_added_arrow': True, 'bing_fetched_img': False, 'bing_img': 'bing/155274/133815/18.jpg', 'bing_added_arrow': True}\n"
     ]
    },
    {
     "name": "stderr",
     "output_type": "stream",
     "text": [
      "  9%|███▍                                  | 181/2000 [07:15<1:04:03,  2.11s/it]"
     ]
    },
    {
     "name": "stdout",
     "output_type": "stream",
     "text": [
      "{'mapbox_fetched_img': False, 'mapbox_img': 'mapbox/155274/133815/18.jpg', 'mapbox_added_arrow': True, 'bing_fetched_img': False, 'bing_img': 'bing/155274/133815/18.jpg', 'bing_added_arrow': True}\n"
     ]
    },
    {
     "name": "stderr",
     "output_type": "stream",
     "text": [
      "  9%|███▍                                  | 182/2000 [07:18<1:13:09,  2.41s/it]"
     ]
    },
    {
     "name": "stdout",
     "output_type": "stream",
     "text": [
      "{'mapbox_fetched_img': False, 'mapbox_img': 'mapbox/155274/133815/18.jpg', 'mapbox_added_arrow': True, 'bing_fetched_img': False, 'bing_img': 'bing/155274/133815/18.jpg', 'bing_added_arrow': True}\n"
     ]
    },
    {
     "name": "stderr",
     "output_type": "stream",
     "text": [
      "  9%|███▍                                  | 183/2000 [07:22<1:21:22,  2.69s/it]"
     ]
    },
    {
     "name": "stdout",
     "output_type": "stream",
     "text": [
      "{'mapbox_fetched_img': False, 'mapbox_img': 'mapbox/155274/133815/18.jpg', 'mapbox_added_arrow': True, 'bing_fetched_img': False, 'bing_img': 'bing/155274/133815/18.jpg', 'bing_added_arrow': True}\n"
     ]
    },
    {
     "name": "stderr",
     "output_type": "stream",
     "text": [
      "  9%|███▍                                  | 184/2000 [07:26<1:36:26,  3.19s/it]"
     ]
    },
    {
     "name": "stdout",
     "output_type": "stream",
     "text": [
      "{'mapbox_fetched_img': False, 'mapbox_img': 'mapbox/155274/133815/18.jpg', 'mapbox_added_arrow': True, 'bing_fetched_img': False, 'bing_img': 'bing/155274/133815/18.jpg', 'bing_added_arrow': True}\n"
     ]
    },
    {
     "name": "stderr",
     "output_type": "stream",
     "text": [
      "  9%|███▌                                  | 185/2000 [07:29<1:28:39,  2.93s/it]"
     ]
    },
    {
     "name": "stdout",
     "output_type": "stream",
     "text": [
      "{'mapbox_fetched_img': False, 'mapbox_img': 'mapbox/155274/133815/18.jpg', 'mapbox_added_arrow': True, 'bing_fetched_img': False, 'bing_img': 'bing/155274/133815/18.jpg', 'bing_added_arrow': True}\n"
     ]
    },
    {
     "name": "stderr",
     "output_type": "stream",
     "text": [
      "  9%|███▌                                  | 186/2000 [07:31<1:24:53,  2.81s/it]"
     ]
    },
    {
     "name": "stdout",
     "output_type": "stream",
     "text": [
      "{'mapbox_fetched_img': False, 'mapbox_img': 'mapbox/155274/133815/18.jpg', 'mapbox_added_arrow': True, 'bing_fetched_img': False, 'bing_img': 'bing/155274/133815/18.jpg', 'bing_added_arrow': True}\n"
     ]
    },
    {
     "name": "stderr",
     "output_type": "stream",
     "text": [
      "  9%|███▌                                  | 187/2000 [07:33<1:17:45,  2.57s/it]"
     ]
    },
    {
     "name": "stdout",
     "output_type": "stream",
     "text": [
      "{'mapbox_fetched_img': False, 'mapbox_img': 'mapbox/155274/133815/18.jpg', 'mapbox_added_arrow': True, 'bing_fetched_img': False, 'bing_img': 'bing/155274/133815/18.jpg', 'bing_added_arrow': True}\n"
     ]
    },
    {
     "name": "stderr",
     "output_type": "stream",
     "text": [
      "  9%|███▌                                  | 188/2000 [07:35<1:15:00,  2.48s/it]"
     ]
    },
    {
     "name": "stdout",
     "output_type": "stream",
     "text": [
      "{'mapbox_fetched_img': False, 'mapbox_img': 'mapbox/155274/133815/18.jpg', 'mapbox_added_arrow': True, 'bing_fetched_img': False, 'bing_img': 'bing/155274/133815/18.jpg', 'bing_added_arrow': True}\n"
     ]
    },
    {
     "name": "stderr",
     "output_type": "stream",
     "text": [
      "  9%|███▌                                  | 189/2000 [07:38<1:13:28,  2.43s/it]"
     ]
    },
    {
     "name": "stdout",
     "output_type": "stream",
     "text": [
      "{'mapbox_fetched_img': False, 'mapbox_img': 'mapbox/155274/133815/18.jpg', 'mapbox_added_arrow': True, 'bing_fetched_img': False, 'bing_img': 'bing/155274/133815/18.jpg', 'bing_added_arrow': True}\n"
     ]
    },
    {
     "name": "stderr",
     "output_type": "stream",
     "text": [
      " 10%|███▌                                  | 190/2000 [07:43<1:36:29,  3.20s/it]"
     ]
    },
    {
     "name": "stdout",
     "output_type": "stream",
     "text": [
      "{'mapbox_fetched_img': False, 'mapbox_img': 'mapbox/155274/133815/18.jpg', 'mapbox_added_arrow': True, 'bing_fetched_img': False, 'bing_img': 'bing/155274/133815/18.jpg', 'bing_added_arrow': True}\n"
     ]
    },
    {
     "name": "stderr",
     "output_type": "stream",
     "text": [
      " 10%|███▋                                  | 191/2000 [07:46<1:36:53,  3.21s/it]"
     ]
    },
    {
     "name": "stdout",
     "output_type": "stream",
     "text": [
      "{'mapbox_fetched_img': False, 'mapbox_img': 'mapbox/155274/133815/18.jpg', 'mapbox_added_arrow': True, 'bing_fetched_img': False, 'bing_img': 'bing/155274/133815/18.jpg', 'bing_added_arrow': True}\n"
     ]
    },
    {
     "name": "stderr",
     "output_type": "stream",
     "text": [
      " 10%|███▋                                  | 192/2000 [07:48<1:30:53,  3.02s/it]"
     ]
    },
    {
     "name": "stdout",
     "output_type": "stream",
     "text": [
      "{'mapbox_fetched_img': False, 'mapbox_img': 'mapbox/155274/133815/18.jpg', 'mapbox_added_arrow': True, 'bing_fetched_img': False, 'bing_img': 'bing/155274/133815/18.jpg', 'bing_added_arrow': True}\n"
     ]
    },
    {
     "name": "stderr",
     "output_type": "stream",
     "text": [
      " 10%|███▋                                  | 193/2000 [07:51<1:24:30,  2.81s/it]"
     ]
    },
    {
     "name": "stdout",
     "output_type": "stream",
     "text": [
      "{'mapbox_fetched_img': False, 'mapbox_img': 'mapbox/155274/133815/18.jpg', 'mapbox_added_arrow': True, 'bing_fetched_img': False, 'bing_img': 'bing/155274/133815/18.jpg', 'bing_added_arrow': True}\n"
     ]
    },
    {
     "name": "stderr",
     "output_type": "stream",
     "text": [
      " 10%|███▋                                  | 194/2000 [07:53<1:17:36,  2.58s/it]"
     ]
    },
    {
     "name": "stdout",
     "output_type": "stream",
     "text": [
      "{'mapbox_fetched_img': False, 'mapbox_img': 'mapbox/155274/133815/18.jpg', 'mapbox_added_arrow': True, 'bing_fetched_img': False, 'bing_img': 'bing/155274/133815/18.jpg', 'bing_added_arrow': True}\n"
     ]
    },
    {
     "name": "stderr",
     "output_type": "stream",
     "text": [
      " 10%|███▋                                  | 195/2000 [07:56<1:22:17,  2.74s/it]"
     ]
    },
    {
     "name": "stdout",
     "output_type": "stream",
     "text": [
      "{'mapbox_fetched_img': False, 'mapbox_img': 'mapbox/155274/133815/18.jpg', 'mapbox_added_arrow': True, 'bing_fetched_img': False, 'bing_img': 'bing/155274/133815/18.jpg', 'bing_added_arrow': True}\n"
     ]
    },
    {
     "name": "stderr",
     "output_type": "stream",
     "text": [
      " 10%|███▋                                  | 196/2000 [07:59<1:25:10,  2.83s/it]"
     ]
    },
    {
     "name": "stdout",
     "output_type": "stream",
     "text": [
      "{'mapbox_fetched_img': False, 'mapbox_img': 'mapbox/155274/133815/18.jpg', 'mapbox_added_arrow': True, 'bing_fetched_img': False, 'bing_img': 'bing/155274/133815/18.jpg', 'bing_added_arrow': True}\n"
     ]
    },
    {
     "name": "stderr",
     "output_type": "stream",
     "text": [
      " 10%|███▋                                  | 197/2000 [08:02<1:28:16,  2.94s/it]"
     ]
    },
    {
     "name": "stdout",
     "output_type": "stream",
     "text": [
      "{'mapbox_fetched_img': False, 'mapbox_img': 'mapbox/155274/133815/18.jpg', 'mapbox_added_arrow': True, 'bing_fetched_img': False, 'bing_img': 'bing/155274/133815/18.jpg', 'bing_added_arrow': True}\n"
     ]
    },
    {
     "name": "stderr",
     "output_type": "stream",
     "text": [
      " 10%|███▊                                  | 198/2000 [08:04<1:22:33,  2.75s/it]"
     ]
    },
    {
     "name": "stdout",
     "output_type": "stream",
     "text": [
      "{'mapbox_fetched_img': False, 'mapbox_img': 'mapbox/155274/133815/18.jpg', 'mapbox_added_arrow': True, 'bing_fetched_img': False, 'bing_img': 'bing/155274/133815/18.jpg', 'bing_added_arrow': True}\n"
     ]
    },
    {
     "name": "stderr",
     "output_type": "stream",
     "text": [
      " 10%|███▊                                  | 199/2000 [08:06<1:15:23,  2.51s/it]"
     ]
    },
    {
     "name": "stdout",
     "output_type": "stream",
     "text": [
      "{'mapbox_fetched_img': False, 'mapbox_img': 'mapbox/155274/133815/18.jpg', 'mapbox_added_arrow': True, 'bing_fetched_img': False, 'bing_img': 'bing/155274/133815/18.jpg', 'bing_added_arrow': True}\n"
     ]
    },
    {
     "name": "stderr",
     "output_type": "stream",
     "text": [
      " 10%|███▊                                  | 200/2000 [08:09<1:14:06,  2.47s/it]"
     ]
    },
    {
     "name": "stdout",
     "output_type": "stream",
     "text": [
      "{'mapbox_fetched_img': False, 'mapbox_img': 'mapbox/155274/133815/18.jpg', 'mapbox_added_arrow': True, 'bing_fetched_img': False, 'bing_img': 'bing/155274/133815/18.jpg', 'bing_added_arrow': True}\n"
     ]
    },
    {
     "name": "stderr",
     "output_type": "stream",
     "text": [
      " 10%|███▊                                  | 201/2000 [08:12<1:22:39,  2.76s/it]"
     ]
    },
    {
     "name": "stdout",
     "output_type": "stream",
     "text": [
      "{'mapbox_fetched_img': False, 'mapbox_img': 'mapbox/155274/133815/18.jpg', 'mapbox_added_arrow': True, 'bing_fetched_img': False, 'bing_img': 'bing/155274/133815/18.jpg', 'bing_added_arrow': True}\n"
     ]
    },
    {
     "name": "stderr",
     "output_type": "stream",
     "text": [
      " 10%|███▊                                  | 202/2000 [08:14<1:15:30,  2.52s/it]"
     ]
    },
    {
     "name": "stdout",
     "output_type": "stream",
     "text": [
      "{'mapbox_fetched_img': False, 'mapbox_img': 'mapbox/155274/133815/18.jpg', 'mapbox_added_arrow': True, 'bing_fetched_img': False, 'bing_img': 'bing/155274/133815/18.jpg', 'bing_added_arrow': True}\n"
     ]
    },
    {
     "name": "stderr",
     "output_type": "stream",
     "text": [
      " 10%|███▊                                  | 203/2000 [08:16<1:11:01,  2.37s/it]"
     ]
    },
    {
     "name": "stdout",
     "output_type": "stream",
     "text": [
      "{'mapbox_fetched_img': False, 'mapbox_img': 'mapbox/155274/133815/18.jpg', 'mapbox_added_arrow': True, 'bing_fetched_img': False, 'bing_img': 'bing/155274/133815/18.jpg', 'bing_added_arrow': True}\n"
     ]
    },
    {
     "name": "stderr",
     "output_type": "stream",
     "text": [
      " 10%|███▉                                  | 204/2000 [08:19<1:13:13,  2.45s/it]"
     ]
    },
    {
     "name": "stdout",
     "output_type": "stream",
     "text": [
      "{'mapbox_fetched_img': False, 'mapbox_img': 'mapbox/155274/133815/18.jpg', 'mapbox_added_arrow': True, 'bing_fetched_img': False, 'bing_img': 'bing/155274/133815/18.jpg', 'bing_added_arrow': True}\n"
     ]
    },
    {
     "name": "stderr",
     "output_type": "stream",
     "text": [
      " 10%|███▉                                  | 205/2000 [08:21<1:10:44,  2.36s/it]"
     ]
    },
    {
     "name": "stdout",
     "output_type": "stream",
     "text": [
      "{'mapbox_fetched_img': False, 'mapbox_img': 'mapbox/155274/133815/18.jpg', 'mapbox_added_arrow': True, 'bing_fetched_img': False, 'bing_img': 'bing/155274/133815/18.jpg', 'bing_added_arrow': True}\n"
     ]
    },
    {
     "name": "stderr",
     "output_type": "stream",
     "text": [
      " 10%|███▉                                  | 206/2000 [08:23<1:06:02,  2.21s/it]"
     ]
    },
    {
     "name": "stdout",
     "output_type": "stream",
     "text": [
      "{'mapbox_fetched_img': False, 'mapbox_img': 'mapbox/155274/133815/18.jpg', 'mapbox_added_arrow': True, 'bing_fetched_img': False, 'bing_img': 'bing/155274/133815/18.jpg', 'bing_added_arrow': True}\n"
     ]
    },
    {
     "name": "stderr",
     "output_type": "stream",
     "text": [
      " 10%|███▉                                  | 207/2000 [08:25<1:05:03,  2.18s/it]"
     ]
    },
    {
     "name": "stdout",
     "output_type": "stream",
     "text": [
      "{'mapbox_fetched_img': False, 'mapbox_img': 'mapbox/155274/133815/18.jpg', 'mapbox_added_arrow': True, 'bing_fetched_img': False, 'bing_img': 'bing/155274/133815/18.jpg', 'bing_added_arrow': True}\n"
     ]
    },
    {
     "name": "stderr",
     "output_type": "stream",
     "text": [
      " 10%|███▉                                  | 208/2000 [08:28<1:10:00,  2.34s/it]"
     ]
    },
    {
     "name": "stdout",
     "output_type": "stream",
     "text": [
      "{'mapbox_fetched_img': False, 'mapbox_img': 'mapbox/155274/133815/18.jpg', 'mapbox_added_arrow': True, 'bing_fetched_img': False, 'bing_img': 'bing/155274/133815/18.jpg', 'bing_added_arrow': True}\n"
     ]
    },
    {
     "name": "stderr",
     "output_type": "stream",
     "text": [
      " 10%|███▉                                  | 209/2000 [08:29<1:04:27,  2.16s/it]"
     ]
    },
    {
     "name": "stdout",
     "output_type": "stream",
     "text": [
      "{'mapbox_fetched_img': False, 'mapbox_img': 'mapbox/155274/133815/18.jpg', 'mapbox_added_arrow': True, 'bing_fetched_img': False, 'bing_img': 'bing/155274/133815/18.jpg', 'bing_added_arrow': True}\n"
     ]
    },
    {
     "name": "stderr",
     "output_type": "stream",
     "text": [
      " 10%|████▏                                   | 210/2000 [08:31<59:34,  2.00s/it]"
     ]
    },
    {
     "name": "stdout",
     "output_type": "stream",
     "text": [
      "{'mapbox_fetched_img': False, 'mapbox_img': 'mapbox/155274/133815/18.jpg', 'mapbox_added_arrow': True, 'bing_fetched_img': False, 'bing_img': 'bing/155274/133815/18.jpg', 'bing_added_arrow': True}\n"
     ]
    },
    {
     "name": "stderr",
     "output_type": "stream",
     "text": [
      " 11%|████▏                                   | 211/2000 [08:33<57:43,  1.94s/it]"
     ]
    },
    {
     "name": "stdout",
     "output_type": "stream",
     "text": [
      "{'mapbox_fetched_img': False, 'mapbox_img': 'mapbox/155274/133815/18.jpg', 'mapbox_added_arrow': True, 'bing_fetched_img': False, 'bing_img': 'bing/155274/133815/18.jpg', 'bing_added_arrow': True}\n"
     ]
    },
    {
     "name": "stderr",
     "output_type": "stream",
     "text": [
      " 11%|████▏                                   | 212/2000 [08:35<55:28,  1.86s/it]"
     ]
    },
    {
     "name": "stdout",
     "output_type": "stream",
     "text": [
      "{'mapbox_fetched_img': False, 'mapbox_img': 'mapbox/155274/133815/18.jpg', 'mapbox_added_arrow': True, 'bing_fetched_img': False, 'bing_img': 'bing/155274/133815/18.jpg', 'bing_added_arrow': True}\n"
     ]
    },
    {
     "name": "stderr",
     "output_type": "stream",
     "text": [
      " 11%|████▎                                   | 213/2000 [08:36<53:44,  1.80s/it]"
     ]
    },
    {
     "name": "stdout",
     "output_type": "stream",
     "text": [
      "{'mapbox_fetched_img': False, 'mapbox_img': 'mapbox/155274/133815/18.jpg', 'mapbox_added_arrow': True, 'bing_fetched_img': False, 'bing_img': 'bing/155274/133815/18.jpg', 'bing_added_arrow': True}\n"
     ]
    },
    {
     "name": "stderr",
     "output_type": "stream",
     "text": [
      " 11%|████▎                                   | 214/2000 [08:38<52:40,  1.77s/it]"
     ]
    },
    {
     "name": "stdout",
     "output_type": "stream",
     "text": [
      "{'mapbox_fetched_img': False, 'mapbox_img': 'mapbox/155274/133815/18.jpg', 'mapbox_added_arrow': True, 'bing_fetched_img': False, 'bing_img': 'bing/155274/133815/18.jpg', 'bing_added_arrow': True}\n"
     ]
    },
    {
     "name": "stderr",
     "output_type": "stream",
     "text": [
      " 11%|████▎                                   | 215/2000 [08:40<52:43,  1.77s/it]"
     ]
    },
    {
     "name": "stdout",
     "output_type": "stream",
     "text": [
      "{'mapbox_fetched_img': False, 'mapbox_img': 'mapbox/155274/133815/18.jpg', 'mapbox_added_arrow': True, 'bing_fetched_img': False, 'bing_img': 'bing/155274/133815/18.jpg', 'bing_added_arrow': True}\n"
     ]
    },
    {
     "name": "stderr",
     "output_type": "stream",
     "text": [
      " 11%|████▎                                   | 216/2000 [08:42<54:14,  1.82s/it]"
     ]
    },
    {
     "name": "stdout",
     "output_type": "stream",
     "text": [
      "{'mapbox_fetched_img': False, 'mapbox_img': 'mapbox/155274/133815/18.jpg', 'mapbox_added_arrow': True, 'bing_fetched_img': False, 'bing_img': 'bing/155274/133815/18.jpg', 'bing_added_arrow': True}\n"
     ]
    },
    {
     "name": "stderr",
     "output_type": "stream",
     "text": [
      " 11%|████                                  | 217/2000 [08:45<1:06:34,  2.24s/it]"
     ]
    },
    {
     "name": "stdout",
     "output_type": "stream",
     "text": [
      "{'mapbox_fetched_img': False, 'mapbox_img': 'mapbox/155274/133815/18.jpg', 'mapbox_added_arrow': True, 'bing_fetched_img': False, 'bing_img': 'bing/155274/133815/18.jpg', 'bing_added_arrow': True}\n"
     ]
    },
    {
     "name": "stderr",
     "output_type": "stream",
     "text": [
      " 11%|████▏                                 | 218/2000 [08:47<1:06:56,  2.25s/it]"
     ]
    },
    {
     "name": "stdout",
     "output_type": "stream",
     "text": [
      "{'mapbox_fetched_img': False, 'mapbox_img': 'mapbox/155274/133815/18.jpg', 'mapbox_added_arrow': True, 'bing_fetched_img': False, 'bing_img': 'bing/155274/133815/18.jpg', 'bing_added_arrow': True}\n"
     ]
    },
    {
     "name": "stderr",
     "output_type": "stream",
     "text": [
      " 11%|████▏                                 | 219/2000 [08:49<1:03:41,  2.15s/it]"
     ]
    },
    {
     "name": "stdout",
     "output_type": "stream",
     "text": [
      "{'mapbox_fetched_img': False, 'mapbox_img': 'mapbox/155274/133815/18.jpg', 'mapbox_added_arrow': True, 'bing_fetched_img': False, 'bing_img': 'bing/155274/133815/18.jpg', 'bing_added_arrow': True}\n"
     ]
    },
    {
     "name": "stderr",
     "output_type": "stream",
     "text": [
      " 11%|████▏                                 | 220/2000 [08:51<1:01:57,  2.09s/it]"
     ]
    },
    {
     "name": "stdout",
     "output_type": "stream",
     "text": [
      "{'mapbox_fetched_img': False, 'mapbox_img': 'mapbox/155274/133815/18.jpg', 'mapbox_added_arrow': True, 'bing_fetched_img': False, 'bing_img': 'bing/155274/133815/18.jpg', 'bing_added_arrow': True}\n"
     ]
    },
    {
     "name": "stderr",
     "output_type": "stream",
     "text": [
      " 11%|████▏                                 | 221/2000 [08:54<1:07:15,  2.27s/it]"
     ]
    },
    {
     "name": "stdout",
     "output_type": "stream",
     "text": [
      "{'mapbox_fetched_img': False, 'mapbox_img': 'mapbox/155274/133815/18.jpg', 'mapbox_added_arrow': True, 'bing_fetched_img': False, 'bing_img': 'bing/155274/133815/18.jpg', 'bing_added_arrow': True}\n"
     ]
    },
    {
     "name": "stderr",
     "output_type": "stream",
     "text": [
      " 11%|████▏                                 | 222/2000 [08:56<1:04:16,  2.17s/it]"
     ]
    },
    {
     "name": "stdout",
     "output_type": "stream",
     "text": [
      "{'mapbox_fetched_img': False, 'mapbox_img': 'mapbox/155274/133815/18.jpg', 'mapbox_added_arrow': True, 'bing_fetched_img': False, 'bing_img': 'bing/155274/133815/18.jpg', 'bing_added_arrow': True}\n"
     ]
    },
    {
     "name": "stderr",
     "output_type": "stream",
     "text": [
      " 11%|████▏                                 | 223/2000 [08:57<1:01:48,  2.09s/it]"
     ]
    },
    {
     "name": "stdout",
     "output_type": "stream",
     "text": [
      "{'mapbox_fetched_img': False, 'mapbox_img': 'mapbox/155274/133815/18.jpg', 'mapbox_added_arrow': True, 'bing_fetched_img': False, 'bing_img': 'bing/155274/133815/18.jpg', 'bing_added_arrow': True}\n"
     ]
    },
    {
     "name": "stderr",
     "output_type": "stream",
     "text": [
      " 11%|████▎                                 | 224/2000 [09:00<1:05:03,  2.20s/it]"
     ]
    },
    {
     "name": "stdout",
     "output_type": "stream",
     "text": [
      "{'mapbox_fetched_img': False, 'mapbox_img': 'mapbox/155274/133815/18.jpg', 'mapbox_added_arrow': True, 'bing_fetched_img': False, 'bing_img': 'bing/155274/133815/18.jpg', 'bing_added_arrow': True}\n"
     ]
    },
    {
     "name": "stderr",
     "output_type": "stream",
     "text": [
      " 11%|████▎                                 | 225/2000 [09:02<1:06:14,  2.24s/it]"
     ]
    },
    {
     "name": "stdout",
     "output_type": "stream",
     "text": [
      "{'mapbox_fetched_img': False, 'mapbox_img': 'mapbox/155274/133815/18.jpg', 'mapbox_added_arrow': True, 'bing_fetched_img': False, 'bing_img': 'bing/155274/133815/18.jpg', 'bing_added_arrow': True}\n"
     ]
    },
    {
     "name": "stderr",
     "output_type": "stream",
     "text": [
      " 11%|████▎                                 | 226/2000 [09:06<1:17:12,  2.61s/it]"
     ]
    },
    {
     "name": "stdout",
     "output_type": "stream",
     "text": [
      "{'mapbox_fetched_img': False, 'mapbox_img': 'mapbox/155274/133815/18.jpg', 'mapbox_added_arrow': True, 'bing_fetched_img': False, 'bing_img': 'bing/155274/133815/18.jpg', 'bing_added_arrow': True}\n"
     ]
    },
    {
     "name": "stderr",
     "output_type": "stream",
     "text": [
      " 11%|████▎                                 | 227/2000 [09:09<1:24:52,  2.87s/it]"
     ]
    },
    {
     "name": "stdout",
     "output_type": "stream",
     "text": [
      "{'mapbox_fetched_img': False, 'mapbox_img': 'mapbox/155274/133815/18.jpg', 'mapbox_added_arrow': True, 'bing_fetched_img': False, 'bing_img': 'bing/155274/133815/18.jpg', 'bing_added_arrow': True}\n"
     ]
    },
    {
     "name": "stderr",
     "output_type": "stream",
     "text": [
      " 11%|████▎                                 | 228/2000 [09:12<1:24:26,  2.86s/it]"
     ]
    },
    {
     "name": "stdout",
     "output_type": "stream",
     "text": [
      "{'mapbox_fetched_img': False, 'mapbox_img': 'mapbox/155274/133815/18.jpg', 'mapbox_added_arrow': True, 'bing_fetched_img': False, 'bing_img': 'bing/155274/133815/18.jpg', 'bing_added_arrow': True}\n"
     ]
    },
    {
     "name": "stderr",
     "output_type": "stream",
     "text": [
      " 11%|████▎                                 | 229/2000 [09:16<1:37:25,  3.30s/it]"
     ]
    },
    {
     "name": "stdout",
     "output_type": "stream",
     "text": [
      "{'mapbox_fetched_img': False, 'mapbox_img': 'mapbox/155274/133815/18.jpg', 'mapbox_added_arrow': True, 'bing_fetched_img': False, 'bing_img': 'bing/155274/133815/18.jpg', 'bing_added_arrow': True}\n"
     ]
    },
    {
     "name": "stderr",
     "output_type": "stream",
     "text": [
      " 12%|████▎                                 | 230/2000 [09:20<1:40:59,  3.42s/it]"
     ]
    },
    {
     "name": "stdout",
     "output_type": "stream",
     "text": [
      "{'mapbox_fetched_img': False, 'mapbox_img': 'mapbox/155274/133815/18.jpg', 'mapbox_added_arrow': True, 'bing_fetched_img': False, 'bing_img': 'bing/155274/133815/18.jpg', 'bing_added_arrow': True}\n"
     ]
    },
    {
     "name": "stderr",
     "output_type": "stream",
     "text": [
      " 12%|████▍                                 | 231/2000 [09:23<1:33:44,  3.18s/it]"
     ]
    },
    {
     "name": "stdout",
     "output_type": "stream",
     "text": [
      "{'mapbox_fetched_img': False, 'mapbox_img': 'mapbox/155274/133815/18.jpg', 'mapbox_added_arrow': True, 'bing_fetched_img': False, 'bing_img': 'bing/155274/133815/18.jpg', 'bing_added_arrow': True}\n"
     ]
    },
    {
     "name": "stderr",
     "output_type": "stream",
     "text": [
      " 12%|████▍                                 | 232/2000 [09:25<1:27:43,  2.98s/it]"
     ]
    },
    {
     "name": "stdout",
     "output_type": "stream",
     "text": [
      "{'mapbox_fetched_img': False, 'mapbox_img': 'mapbox/155274/133815/18.jpg', 'mapbox_added_arrow': True, 'bing_fetched_img': False, 'bing_img': 'bing/155274/133815/18.jpg', 'bing_added_arrow': True}\n"
     ]
    },
    {
     "name": "stderr",
     "output_type": "stream",
     "text": [
      " 12%|████▍                                 | 233/2000 [09:29<1:36:02,  3.26s/it]"
     ]
    },
    {
     "name": "stdout",
     "output_type": "stream",
     "text": [
      "{'mapbox_fetched_img': False, 'mapbox_img': 'mapbox/155274/133815/18.jpg', 'mapbox_added_arrow': True, 'bing_fetched_img': False, 'bing_img': 'bing/155274/133815/18.jpg', 'bing_added_arrow': True}\n"
     ]
    },
    {
     "name": "stderr",
     "output_type": "stream",
     "text": [
      " 12%|████▍                                 | 234/2000 [09:32<1:29:40,  3.05s/it]"
     ]
    },
    {
     "name": "stdout",
     "output_type": "stream",
     "text": [
      "{'mapbox_fetched_img': False, 'mapbox_img': 'mapbox/155274/133815/18.jpg', 'mapbox_added_arrow': True, 'bing_fetched_img': False, 'bing_img': 'bing/155274/133815/18.jpg', 'bing_added_arrow': True}\n"
     ]
    },
    {
     "name": "stderr",
     "output_type": "stream",
     "text": [
      " 12%|████▍                                 | 235/2000 [09:35<1:28:24,  3.01s/it]"
     ]
    },
    {
     "name": "stdout",
     "output_type": "stream",
     "text": [
      "{'mapbox_fetched_img': False, 'mapbox_img': 'mapbox/155274/133815/18.jpg', 'mapbox_added_arrow': True, 'bing_fetched_img': False, 'bing_img': 'bing/155274/133815/18.jpg', 'bing_added_arrow': True}\n"
     ]
    },
    {
     "name": "stderr",
     "output_type": "stream",
     "text": [
      " 12%|████▍                                 | 236/2000 [09:37<1:23:01,  2.82s/it]"
     ]
    },
    {
     "name": "stdout",
     "output_type": "stream",
     "text": [
      "{'mapbox_fetched_img': False, 'mapbox_img': 'mapbox/155274/133815/18.jpg', 'mapbox_added_arrow': True, 'bing_fetched_img': False, 'bing_img': 'bing/155274/133815/18.jpg', 'bing_added_arrow': True}\n"
     ]
    },
    {
     "name": "stderr",
     "output_type": "stream",
     "text": [
      " 12%|████▌                                 | 237/2000 [09:39<1:14:50,  2.55s/it]"
     ]
    },
    {
     "name": "stdout",
     "output_type": "stream",
     "text": [
      "{'mapbox_fetched_img': False, 'mapbox_img': 'mapbox/155274/133815/18.jpg', 'mapbox_added_arrow': True, 'bing_fetched_img': False, 'bing_img': 'bing/155274/133815/18.jpg', 'bing_added_arrow': True}\n"
     ]
    },
    {
     "name": "stderr",
     "output_type": "stream",
     "text": [
      " 12%|████▌                                 | 238/2000 [09:41<1:09:34,  2.37s/it]"
     ]
    },
    {
     "name": "stdout",
     "output_type": "stream",
     "text": [
      "{'mapbox_fetched_img': False, 'mapbox_img': 'mapbox/155274/133815/18.jpg', 'mapbox_added_arrow': True, 'bing_fetched_img': False, 'bing_img': 'bing/155274/133815/18.jpg', 'bing_added_arrow': True}\n"
     ]
    },
    {
     "name": "stderr",
     "output_type": "stream",
     "text": [
      " 12%|████▌                                 | 239/2000 [09:43<1:05:19,  2.23s/it]"
     ]
    },
    {
     "name": "stdout",
     "output_type": "stream",
     "text": [
      "{'mapbox_fetched_img': False, 'mapbox_img': 'mapbox/155274/133815/18.jpg', 'mapbox_added_arrow': True, 'bing_fetched_img': False, 'bing_img': 'bing/155274/133815/18.jpg', 'bing_added_arrow': True}\n"
     ]
    },
    {
     "name": "stderr",
     "output_type": "stream",
     "text": [
      " 12%|████▊                                   | 240/2000 [09:44<59:51,  2.04s/it]"
     ]
    },
    {
     "name": "stdout",
     "output_type": "stream",
     "text": [
      "{'mapbox_fetched_img': False, 'mapbox_img': 'mapbox/155274/133815/18.jpg', 'mapbox_added_arrow': True, 'bing_fetched_img': False, 'bing_img': 'bing/155274/133815/18.jpg', 'bing_added_arrow': True}\n"
     ]
    },
    {
     "name": "stderr",
     "output_type": "stream",
     "text": [
      " 12%|████▊                                   | 241/2000 [09:46<56:51,  1.94s/it]"
     ]
    },
    {
     "name": "stdout",
     "output_type": "stream",
     "text": [
      "{'mapbox_fetched_img': False, 'mapbox_img': 'mapbox/155274/133815/18.jpg', 'mapbox_added_arrow': True, 'bing_fetched_img': False, 'bing_img': 'bing/155274/133815/18.jpg', 'bing_added_arrow': True}\n"
     ]
    },
    {
     "name": "stderr",
     "output_type": "stream",
     "text": [
      " 12%|████▊                                   | 242/2000 [09:48<55:21,  1.89s/it]"
     ]
    },
    {
     "name": "stdout",
     "output_type": "stream",
     "text": [
      "{'mapbox_fetched_img': False, 'mapbox_img': 'mapbox/155274/133815/18.jpg', 'mapbox_added_arrow': True, 'bing_fetched_img': False, 'bing_img': 'bing/155274/133815/18.jpg', 'bing_added_arrow': True}\n"
     ]
    },
    {
     "name": "stderr",
     "output_type": "stream",
     "text": [
      " 12%|████▌                                 | 243/2000 [09:50<1:01:59,  2.12s/it]"
     ]
    },
    {
     "name": "stdout",
     "output_type": "stream",
     "text": [
      "{'mapbox_fetched_img': False, 'mapbox_img': 'mapbox/155274/133815/18.jpg', 'mapbox_added_arrow': True, 'bing_fetched_img': False, 'bing_img': 'bing/155274/133815/18.jpg', 'bing_added_arrow': True}\n"
     ]
    },
    {
     "name": "stderr",
     "output_type": "stream",
     "text": [
      " 12%|████▋                                 | 244/2000 [09:52<1:00:28,  2.07s/it]"
     ]
    },
    {
     "name": "stdout",
     "output_type": "stream",
     "text": [
      "{'mapbox_fetched_img': False, 'mapbox_img': 'mapbox/155274/133815/18.jpg', 'mapbox_added_arrow': True, 'bing_fetched_img': False, 'bing_img': 'bing/155274/133815/18.jpg', 'bing_added_arrow': True}\n"
     ]
    },
    {
     "name": "stderr",
     "output_type": "stream",
     "text": [
      " 12%|████▋                                 | 245/2000 [09:54<1:00:47,  2.08s/it]"
     ]
    },
    {
     "name": "stdout",
     "output_type": "stream",
     "text": [
      "{'mapbox_fetched_img': False, 'mapbox_img': 'mapbox/155274/133815/18.jpg', 'mapbox_added_arrow': True, 'bing_fetched_img': False, 'bing_img': 'bing/155274/133815/18.jpg', 'bing_added_arrow': True}\n"
     ]
    },
    {
     "name": "stderr",
     "output_type": "stream",
     "text": [
      " 12%|████▋                                 | 246/2000 [09:57<1:08:04,  2.33s/it]"
     ]
    },
    {
     "name": "stdout",
     "output_type": "stream",
     "text": [
      "{'mapbox_fetched_img': False, 'mapbox_img': 'mapbox/155274/133815/18.jpg', 'mapbox_added_arrow': True, 'bing_fetched_img': False, 'bing_img': 'bing/155274/133815/18.jpg', 'bing_added_arrow': True}\n"
     ]
    },
    {
     "name": "stderr",
     "output_type": "stream",
     "text": [
      " 12%|████▋                                 | 247/2000 [09:59<1:05:01,  2.23s/it]"
     ]
    },
    {
     "name": "stdout",
     "output_type": "stream",
     "text": [
      "{'mapbox_fetched_img': False, 'mapbox_img': 'mapbox/155274/133815/18.jpg', 'mapbox_added_arrow': True, 'bing_fetched_img': False, 'bing_img': 'bing/155274/133815/18.jpg', 'bing_added_arrow': True}\n"
     ]
    },
    {
     "name": "stderr",
     "output_type": "stream",
     "text": [
      " 12%|████▋                                 | 248/2000 [10:01<1:02:50,  2.15s/it]"
     ]
    },
    {
     "name": "stdout",
     "output_type": "stream",
     "text": [
      "{'mapbox_fetched_img': False, 'mapbox_img': 'mapbox/155274/133815/18.jpg', 'mapbox_added_arrow': True, 'bing_fetched_img': False, 'bing_img': 'bing/155274/133815/18.jpg', 'bing_added_arrow': True}\n"
     ]
    },
    {
     "name": "stderr",
     "output_type": "stream",
     "text": [
      " 12%|████▋                                 | 249/2000 [10:04<1:05:58,  2.26s/it]"
     ]
    },
    {
     "name": "stdout",
     "output_type": "stream",
     "text": [
      "{'mapbox_fetched_img': False, 'mapbox_img': 'mapbox/155274/133815/18.jpg', 'mapbox_added_arrow': True, 'bing_fetched_img': False, 'bing_img': 'bing/155274/133815/18.jpg', 'bing_added_arrow': True}\n"
     ]
    },
    {
     "name": "stderr",
     "output_type": "stream",
     "text": [
      " 12%|████▊                                 | 250/2000 [10:06<1:07:45,  2.32s/it]"
     ]
    },
    {
     "name": "stdout",
     "output_type": "stream",
     "text": [
      "{'mapbox_fetched_img': False, 'mapbox_img': 'mapbox/155274/133815/18.jpg', 'mapbox_added_arrow': True, 'bing_fetched_img': False, 'bing_img': 'bing/155274/133815/18.jpg', 'bing_added_arrow': True}\n"
     ]
    },
    {
     "name": "stderr",
     "output_type": "stream",
     "text": [
      " 13%|████▊                                 | 251/2000 [10:09<1:10:02,  2.40s/it]"
     ]
    },
    {
     "name": "stdout",
     "output_type": "stream",
     "text": [
      "{'mapbox_fetched_img': False, 'mapbox_img': 'mapbox/155274/133815/18.jpg', 'mapbox_added_arrow': True, 'bing_fetched_img': False, 'bing_img': 'bing/155274/133815/18.jpg', 'bing_added_arrow': True}\n"
     ]
    },
    {
     "name": "stderr",
     "output_type": "stream",
     "text": [
      " 13%|████▊                                 | 252/2000 [10:12<1:19:41,  2.74s/it]"
     ]
    },
    {
     "name": "stdout",
     "output_type": "stream",
     "text": [
      "{'mapbox_fetched_img': False, 'mapbox_img': 'mapbox/155274/133815/18.jpg', 'mapbox_added_arrow': True, 'bing_fetched_img': False, 'bing_img': 'bing/155274/133815/18.jpg', 'bing_added_arrow': True}\n"
     ]
    },
    {
     "name": "stderr",
     "output_type": "stream",
     "text": [
      " 13%|████▊                                 | 253/2000 [10:16<1:25:17,  2.93s/it]"
     ]
    },
    {
     "name": "stdout",
     "output_type": "stream",
     "text": [
      "{'mapbox_fetched_img': False, 'mapbox_img': 'mapbox/155274/133815/18.jpg', 'mapbox_added_arrow': True, 'bing_fetched_img': False, 'bing_img': 'bing/155274/133815/18.jpg', 'bing_added_arrow': True}\n"
     ]
    },
    {
     "name": "stderr",
     "output_type": "stream",
     "text": [
      " 13%|████▊                                 | 254/2000 [10:19<1:23:05,  2.86s/it]"
     ]
    },
    {
     "name": "stdout",
     "output_type": "stream",
     "text": [
      "{'mapbox_fetched_img': False, 'mapbox_img': 'mapbox/155274/133815/18.jpg', 'mapbox_added_arrow': True, 'bing_fetched_img': False, 'bing_img': 'bing/155274/133815/18.jpg', 'bing_added_arrow': True}\n"
     ]
    },
    {
     "name": "stderr",
     "output_type": "stream",
     "text": [
      " 13%|████▊                                 | 255/2000 [10:21<1:20:53,  2.78s/it]"
     ]
    },
    {
     "name": "stdout",
     "output_type": "stream",
     "text": [
      "{'mapbox_fetched_img': False, 'mapbox_img': 'mapbox/155274/133815/18.jpg', 'mapbox_added_arrow': True, 'bing_fetched_img': False, 'bing_img': 'bing/155274/133815/18.jpg', 'bing_added_arrow': True}\n"
     ]
    },
    {
     "name": "stderr",
     "output_type": "stream",
     "text": [
      " 13%|████▊                                 | 256/2000 [10:23<1:13:49,  2.54s/it]"
     ]
    },
    {
     "name": "stdout",
     "output_type": "stream",
     "text": [
      "{'mapbox_fetched_img': False, 'mapbox_img': 'mapbox/155274/133815/18.jpg', 'mapbox_added_arrow': True, 'bing_fetched_img': False, 'bing_img': 'bing/155274/133815/18.jpg', 'bing_added_arrow': True}\n"
     ]
    },
    {
     "name": "stderr",
     "output_type": "stream",
     "text": [
      " 13%|████▉                                 | 257/2000 [10:25<1:07:28,  2.32s/it]"
     ]
    },
    {
     "name": "stdout",
     "output_type": "stream",
     "text": [
      "{'mapbox_fetched_img': False, 'mapbox_img': 'mapbox/155274/133815/18.jpg', 'mapbox_added_arrow': True, 'bing_fetched_img': False, 'bing_img': 'bing/155274/133815/18.jpg', 'bing_added_arrow': True}\n"
     ]
    },
    {
     "name": "stderr",
     "output_type": "stream",
     "text": [
      " 13%|████▉                                 | 258/2000 [10:27<1:03:58,  2.20s/it]"
     ]
    },
    {
     "name": "stdout",
     "output_type": "stream",
     "text": [
      "{'mapbox_fetched_img': False, 'mapbox_img': 'mapbox/155274/133815/18.jpg', 'mapbox_added_arrow': True, 'bing_fetched_img': False, 'bing_img': 'bing/155274/133815/18.jpg', 'bing_added_arrow': True}\n"
     ]
    },
    {
     "name": "stderr",
     "output_type": "stream",
     "text": [
      " 13%|████▉                                 | 259/2000 [10:30<1:08:56,  2.38s/it]"
     ]
    },
    {
     "name": "stdout",
     "output_type": "stream",
     "text": [
      "{'mapbox_fetched_img': False, 'mapbox_img': 'mapbox/155274/133815/18.jpg', 'mapbox_added_arrow': True, 'bing_fetched_img': False, 'bing_img': 'bing/155274/133815/18.jpg', 'bing_added_arrow': True}\n"
     ]
    },
    {
     "name": "stderr",
     "output_type": "stream",
     "text": [
      " 13%|████▉                                 | 260/2000 [10:32<1:10:43,  2.44s/it]"
     ]
    },
    {
     "name": "stdout",
     "output_type": "stream",
     "text": [
      "{'mapbox_fetched_img': False, 'mapbox_img': 'mapbox/155274/133815/18.jpg', 'mapbox_added_arrow': True, 'bing_fetched_img': False, 'bing_img': 'bing/155274/133815/18.jpg', 'bing_added_arrow': True}\n"
     ]
    },
    {
     "name": "stderr",
     "output_type": "stream",
     "text": [
      " 13%|████▉                                 | 261/2000 [10:34<1:07:07,  2.32s/it]"
     ]
    },
    {
     "name": "stdout",
     "output_type": "stream",
     "text": [
      "{'mapbox_fetched_img': False, 'mapbox_img': 'mapbox/155274/133815/18.jpg', 'mapbox_added_arrow': True, 'bing_fetched_img': False, 'bing_img': 'bing/155274/133815/18.jpg', 'bing_added_arrow': True}\n"
     ]
    },
    {
     "name": "stderr",
     "output_type": "stream",
     "text": [
      " 13%|████▉                                 | 262/2000 [10:37<1:10:56,  2.45s/it]"
     ]
    },
    {
     "name": "stdout",
     "output_type": "stream",
     "text": [
      "{'mapbox_fetched_img': False, 'mapbox_img': 'mapbox/155274/133815/18.jpg', 'mapbox_added_arrow': True, 'bing_fetched_img': False, 'bing_img': 'bing/155274/133815/18.jpg', 'bing_added_arrow': True}\n"
     ]
    },
    {
     "name": "stderr",
     "output_type": "stream",
     "text": [
      " 13%|████▉                                 | 263/2000 [10:40<1:16:55,  2.66s/it]"
     ]
    },
    {
     "name": "stdout",
     "output_type": "stream",
     "text": [
      "{'mapbox_fetched_img': False, 'mapbox_img': 'mapbox/155274/133815/18.jpg', 'mapbox_added_arrow': True, 'bing_fetched_img': False, 'bing_img': 'bing/155274/133815/18.jpg', 'bing_added_arrow': True}\n"
     ]
    },
    {
     "name": "stderr",
     "output_type": "stream",
     "text": [
      " 13%|█████                                 | 264/2000 [10:44<1:28:06,  3.05s/it]"
     ]
    },
    {
     "name": "stdout",
     "output_type": "stream",
     "text": [
      "{'mapbox_fetched_img': False, 'mapbox_img': 'mapbox/155274/133815/18.jpg', 'mapbox_added_arrow': True, 'bing_fetched_img': False, 'bing_img': 'bing/155274/133815/18.jpg', 'bing_added_arrow': True}\n"
     ]
    },
    {
     "name": "stderr",
     "output_type": "stream",
     "text": [
      " 13%|█████                                 | 265/2000 [10:48<1:33:53,  3.25s/it]"
     ]
    },
    {
     "name": "stdout",
     "output_type": "stream",
     "text": [
      "{'mapbox_fetched_img': False, 'mapbox_img': 'mapbox/155274/133815/18.jpg', 'mapbox_added_arrow': True, 'bing_fetched_img': False, 'bing_img': 'bing/155274/133815/18.jpg', 'bing_added_arrow': True}\n"
     ]
    },
    {
     "name": "stderr",
     "output_type": "stream",
     "text": [
      " 13%|█████                                 | 266/2000 [10:53<1:51:34,  3.86s/it]"
     ]
    },
    {
     "name": "stdout",
     "output_type": "stream",
     "text": [
      "{'mapbox_fetched_img': False, 'mapbox_img': 'mapbox/155274/133815/18.jpg', 'mapbox_added_arrow': True, 'bing_fetched_img': False, 'bing_img': 'bing/155274/133815/18.jpg', 'bing_added_arrow': True}\n"
     ]
    },
    {
     "name": "stderr",
     "output_type": "stream",
     "text": [
      " 13%|█████                                 | 267/2000 [10:58<1:56:27,  4.03s/it]"
     ]
    },
    {
     "name": "stdout",
     "output_type": "stream",
     "text": [
      "{'mapbox_fetched_img': False, 'mapbox_img': 'mapbox/155274/133815/18.jpg', 'mapbox_added_arrow': True, 'bing_fetched_img': False, 'bing_img': 'bing/155274/133815/18.jpg', 'bing_added_arrow': True}\n"
     ]
    },
    {
     "name": "stderr",
     "output_type": "stream",
     "text": [
      " 13%|█████                                 | 268/2000 [11:02<1:59:42,  4.15s/it]"
     ]
    },
    {
     "name": "stdout",
     "output_type": "stream",
     "text": [
      "{'mapbox_fetched_img': False, 'mapbox_img': 'mapbox/155274/133815/18.jpg', 'mapbox_added_arrow': True, 'bing_fetched_img': False, 'bing_img': 'bing/155274/133815/18.jpg', 'bing_added_arrow': True}\n"
     ]
    },
    {
     "name": "stderr",
     "output_type": "stream",
     "text": [
      " 13%|█████                                 | 269/2000 [11:05<1:48:54,  3.77s/it]"
     ]
    },
    {
     "name": "stdout",
     "output_type": "stream",
     "text": [
      "{'mapbox_fetched_img': False, 'mapbox_img': 'mapbox/155274/133815/18.jpg', 'mapbox_added_arrow': True, 'bing_fetched_img': False, 'bing_img': 'bing/155274/133815/18.jpg', 'bing_added_arrow': True}\n"
     ]
    },
    {
     "name": "stderr",
     "output_type": "stream",
     "text": [
      " 14%|█████▏                                | 270/2000 [11:08<1:39:31,  3.45s/it]"
     ]
    },
    {
     "name": "stdout",
     "output_type": "stream",
     "text": [
      "{'mapbox_fetched_img': False, 'mapbox_img': 'mapbox/155274/133815/18.jpg', 'mapbox_added_arrow': True, 'bing_fetched_img': False, 'bing_img': 'bing/155274/133815/18.jpg', 'bing_added_arrow': True}\n"
     ]
    },
    {
     "name": "stderr",
     "output_type": "stream",
     "text": [
      " 14%|█████▏                                | 271/2000 [11:13<1:55:27,  4.01s/it]"
     ]
    },
    {
     "name": "stdout",
     "output_type": "stream",
     "text": [
      "{'mapbox_fetched_img': False, 'mapbox_img': 'mapbox/155274/133815/18.jpg', 'mapbox_added_arrow': True, 'bing_fetched_img': False, 'bing_img': 'bing/155274/133815/18.jpg', 'bing_added_arrow': True}\n"
     ]
    },
    {
     "name": "stderr",
     "output_type": "stream",
     "text": [
      " 14%|█████▏                                | 272/2000 [11:15<1:38:59,  3.44s/it]"
     ]
    },
    {
     "name": "stdout",
     "output_type": "stream",
     "text": [
      "{'mapbox_fetched_img': False, 'mapbox_img': 'mapbox/155274/133815/18.jpg', 'mapbox_added_arrow': True, 'bing_fetched_img': False, 'bing_img': 'bing/155274/133815/18.jpg', 'bing_added_arrow': True}\n"
     ]
    },
    {
     "name": "stderr",
     "output_type": "stream",
     "text": [
      " 14%|█████▏                                | 273/2000 [11:17<1:25:52,  2.98s/it]"
     ]
    },
    {
     "name": "stdout",
     "output_type": "stream",
     "text": [
      "{'mapbox_fetched_img': False, 'mapbox_img': 'mapbox/155274/133815/18.jpg', 'mapbox_added_arrow': True, 'bing_fetched_img': False, 'bing_img': 'bing/155274/133815/18.jpg', 'bing_added_arrow': True}\n"
     ]
    },
    {
     "name": "stderr",
     "output_type": "stream",
     "text": [
      " 14%|█████▏                                | 274/2000 [11:19<1:18:49,  2.74s/it]"
     ]
    },
    {
     "name": "stdout",
     "output_type": "stream",
     "text": [
      "{'mapbox_fetched_img': False, 'mapbox_img': 'mapbox/155274/133815/18.jpg', 'mapbox_added_arrow': True, 'bing_fetched_img': False, 'bing_img': 'bing/155274/133815/18.jpg', 'bing_added_arrow': True}\n"
     ]
    },
    {
     "name": "stderr",
     "output_type": "stream",
     "text": [
      " 14%|█████▏                                | 275/2000 [11:22<1:21:06,  2.82s/it]"
     ]
    },
    {
     "name": "stdout",
     "output_type": "stream",
     "text": [
      "{'mapbox_fetched_img': False, 'mapbox_img': 'mapbox/155274/133815/18.jpg', 'mapbox_added_arrow': True, 'bing_fetched_img': False, 'bing_img': 'bing/155274/133815/18.jpg', 'bing_added_arrow': True}\n"
     ]
    },
    {
     "name": "stderr",
     "output_type": "stream",
     "text": [
      " 14%|█████▏                                | 276/2000 [11:26<1:33:23,  3.25s/it]"
     ]
    },
    {
     "name": "stdout",
     "output_type": "stream",
     "text": [
      "{'mapbox_fetched_img': False, 'mapbox_img': 'mapbox/155274/133815/18.jpg', 'mapbox_added_arrow': True, 'bing_fetched_img': False, 'bing_img': 'bing/155274/133815/18.jpg', 'bing_added_arrow': True}\n"
     ]
    },
    {
     "name": "stderr",
     "output_type": "stream",
     "text": [
      " 14%|█████▎                                | 277/2000 [11:31<1:44:57,  3.65s/it]"
     ]
    },
    {
     "name": "stdout",
     "output_type": "stream",
     "text": [
      "{'mapbox_fetched_img': False, 'mapbox_img': 'mapbox/155274/133815/18.jpg', 'mapbox_added_arrow': True, 'bing_fetched_img': False, 'bing_img': 'bing/155274/133815/18.jpg', 'bing_added_arrow': True}\n"
     ]
    },
    {
     "name": "stderr",
     "output_type": "stream",
     "text": [
      " 14%|█████▎                                | 278/2000 [11:34<1:44:10,  3.63s/it]"
     ]
    },
    {
     "name": "stdout",
     "output_type": "stream",
     "text": [
      "{'mapbox_fetched_img': False, 'mapbox_img': 'mapbox/155274/133815/18.jpg', 'mapbox_added_arrow': True, 'bing_fetched_img': False, 'bing_img': 'bing/155274/133815/18.jpg', 'bing_added_arrow': True}\n"
     ]
    },
    {
     "name": "stderr",
     "output_type": "stream",
     "text": [
      " 14%|█████▎                                | 279/2000 [11:36<1:29:34,  3.12s/it]"
     ]
    },
    {
     "name": "stdout",
     "output_type": "stream",
     "text": [
      "{'mapbox_fetched_img': False, 'mapbox_img': 'mapbox/155274/133815/18.jpg', 'mapbox_added_arrow': True, 'bing_fetched_img': False, 'bing_img': 'bing/155274/133815/18.jpg', 'bing_added_arrow': True}\n"
     ]
    },
    {
     "name": "stderr",
     "output_type": "stream",
     "text": [
      " 14%|█████▎                                | 280/2000 [11:42<1:51:42,  3.90s/it]"
     ]
    },
    {
     "name": "stdout",
     "output_type": "stream",
     "text": [
      "{'mapbox_fetched_img': False, 'mapbox_img': 'mapbox/155274/133815/18.jpg', 'mapbox_added_arrow': True, 'bing_fetched_img': False, 'bing_img': 'bing/155274/133815/18.jpg', 'bing_added_arrow': True}\n"
     ]
    },
    {
     "name": "stderr",
     "output_type": "stream",
     "text": [
      " 14%|█████▎                                | 281/2000 [11:47<1:59:01,  4.15s/it]"
     ]
    },
    {
     "name": "stdout",
     "output_type": "stream",
     "text": [
      "{'mapbox_fetched_img': False, 'mapbox_img': 'mapbox/155274/133815/18.jpg', 'mapbox_added_arrow': True, 'bing_fetched_img': False, 'bing_img': 'bing/155274/133815/18.jpg', 'bing_added_arrow': True}\n"
     ]
    },
    {
     "name": "stderr",
     "output_type": "stream",
     "text": [
      " 14%|█████▎                                | 282/2000 [11:51<1:55:59,  4.05s/it]"
     ]
    },
    {
     "name": "stdout",
     "output_type": "stream",
     "text": [
      "{'mapbox_fetched_img': False, 'mapbox_img': 'mapbox/155274/133815/18.jpg', 'mapbox_added_arrow': True, 'bing_fetched_img': False, 'bing_img': 'bing/155274/133815/18.jpg', 'bing_added_arrow': True}\n"
     ]
    },
    {
     "name": "stderr",
     "output_type": "stream",
     "text": [
      " 14%|█████▍                                | 283/2000 [11:53<1:43:16,  3.61s/it]"
     ]
    },
    {
     "name": "stdout",
     "output_type": "stream",
     "text": [
      "{'mapbox_fetched_img': False, 'mapbox_img': 'mapbox/155274/133815/18.jpg', 'mapbox_added_arrow': True, 'bing_fetched_img': False, 'bing_img': 'bing/155274/133815/18.jpg', 'bing_added_arrow': True}\n"
     ]
    },
    {
     "name": "stderr",
     "output_type": "stream",
     "text": [
      " 14%|█████▍                                | 284/2000 [11:55<1:27:46,  3.07s/it]"
     ]
    },
    {
     "name": "stdout",
     "output_type": "stream",
     "text": [
      "{'mapbox_fetched_img': False, 'mapbox_img': 'mapbox/155274/133815/18.jpg', 'mapbox_added_arrow': True, 'bing_fetched_img': False, 'bing_img': 'bing/155274/133815/18.jpg', 'bing_added_arrow': True}\n"
     ]
    },
    {
     "name": "stderr",
     "output_type": "stream",
     "text": [
      " 14%|█████▍                                | 285/2000 [11:57<1:17:35,  2.71s/it]"
     ]
    },
    {
     "name": "stdout",
     "output_type": "stream",
     "text": [
      "{'mapbox_fetched_img': False, 'mapbox_img': 'mapbox/155274/133815/18.jpg', 'mapbox_added_arrow': True, 'bing_fetched_img': False, 'bing_img': 'bing/155274/133815/18.jpg', 'bing_added_arrow': True}\n"
     ]
    },
    {
     "name": "stderr",
     "output_type": "stream",
     "text": [
      " 14%|█████▍                                | 286/2000 [11:59<1:13:20,  2.57s/it]"
     ]
    },
    {
     "name": "stdout",
     "output_type": "stream",
     "text": [
      "{'mapbox_fetched_img': False, 'mapbox_img': 'mapbox/155274/133815/18.jpg', 'mapbox_added_arrow': True, 'bing_fetched_img': False, 'bing_img': 'bing/155274/133815/18.jpg', 'bing_added_arrow': True}\n"
     ]
    },
    {
     "name": "stderr",
     "output_type": "stream",
     "text": [
      " 14%|█████▍                                | 287/2000 [12:02<1:16:31,  2.68s/it]"
     ]
    },
    {
     "name": "stdout",
     "output_type": "stream",
     "text": [
      "{'mapbox_fetched_img': False, 'mapbox_img': 'mapbox/155274/133815/18.jpg', 'mapbox_added_arrow': True, 'bing_fetched_img': False, 'bing_img': 'bing/155274/133815/18.jpg', 'bing_added_arrow': True}\n"
     ]
    },
    {
     "name": "stderr",
     "output_type": "stream",
     "text": [
      " 14%|█████▍                                | 288/2000 [12:04<1:12:54,  2.56s/it]"
     ]
    },
    {
     "name": "stdout",
     "output_type": "stream",
     "text": [
      "{'mapbox_fetched_img': False, 'mapbox_img': 'mapbox/155274/133815/18.jpg', 'mapbox_added_arrow': True, 'bing_fetched_img': False, 'bing_img': 'bing/155274/133815/18.jpg', 'bing_added_arrow': True}\n"
     ]
    },
    {
     "name": "stderr",
     "output_type": "stream",
     "text": [
      " 14%|█████▍                                | 289/2000 [12:07<1:10:06,  2.46s/it]"
     ]
    },
    {
     "name": "stdout",
     "output_type": "stream",
     "text": [
      "{'mapbox_fetched_img': False, 'mapbox_img': 'mapbox/155274/133815/18.jpg', 'mapbox_added_arrow': True, 'bing_fetched_img': False, 'bing_img': 'bing/155274/133815/18.jpg', 'bing_added_arrow': True}\n"
     ]
    },
    {
     "name": "stderr",
     "output_type": "stream",
     "text": [
      " 14%|█████▌                                | 290/2000 [12:08<1:04:41,  2.27s/it]"
     ]
    },
    {
     "name": "stdout",
     "output_type": "stream",
     "text": [
      "{'mapbox_fetched_img': False, 'mapbox_img': 'mapbox/155274/133815/18.jpg', 'mapbox_added_arrow': True, 'bing_fetched_img': False, 'bing_img': 'bing/155274/133815/18.jpg', 'bing_added_arrow': True}\n"
     ]
    },
    {
     "name": "stderr",
     "output_type": "stream",
     "text": [
      " 15%|█████▌                                | 291/2000 [12:10<1:00:12,  2.11s/it]"
     ]
    },
    {
     "name": "stdout",
     "output_type": "stream",
     "text": [
      "{'mapbox_fetched_img': False, 'mapbox_img': 'mapbox/155274/133815/18.jpg', 'mapbox_added_arrow': True, 'bing_fetched_img': False, 'bing_img': 'bing/155274/133815/18.jpg', 'bing_added_arrow': True}\n"
     ]
    },
    {
     "name": "stderr",
     "output_type": "stream",
     "text": [
      " 15%|█████▌                                | 292/2000 [12:13<1:07:14,  2.36s/it]"
     ]
    },
    {
     "name": "stdout",
     "output_type": "stream",
     "text": [
      "{'mapbox_fetched_img': False, 'mapbox_img': 'mapbox/155274/133815/18.jpg', 'mapbox_added_arrow': True, 'bing_fetched_img': False, 'bing_img': 'bing/155274/133815/18.jpg', 'bing_added_arrow': True}\n"
     ]
    },
    {
     "name": "stderr",
     "output_type": "stream",
     "text": [
      " 15%|█████▌                                | 293/2000 [12:15<1:01:21,  2.16s/it]"
     ]
    },
    {
     "name": "stdout",
     "output_type": "stream",
     "text": [
      "{'mapbox_fetched_img': False, 'mapbox_img': 'mapbox/155274/133815/18.jpg', 'mapbox_added_arrow': True, 'bing_fetched_img': False, 'bing_img': 'bing/155274/133815/18.jpg', 'bing_added_arrow': True}\n"
     ]
    },
    {
     "name": "stderr",
     "output_type": "stream",
     "text": [
      " 15%|█████▉                                  | 294/2000 [12:17<58:34,  2.06s/it]"
     ]
    },
    {
     "name": "stdout",
     "output_type": "stream",
     "text": [
      "{'mapbox_fetched_img': False, 'mapbox_img': 'mapbox/155274/133815/18.jpg', 'mapbox_added_arrow': True, 'bing_fetched_img': False, 'bing_img': 'bing/155274/133815/18.jpg', 'bing_added_arrow': True}\n"
     ]
    },
    {
     "name": "stderr",
     "output_type": "stream",
     "text": [
      " 15%|█████▌                                | 295/2000 [12:19<1:02:09,  2.19s/it]"
     ]
    },
    {
     "name": "stdout",
     "output_type": "stream",
     "text": [
      "{'mapbox_fetched_img': False, 'mapbox_img': 'mapbox/155274/133815/18.jpg', 'mapbox_added_arrow': True, 'bing_fetched_img': False, 'bing_img': 'bing/155274/133815/18.jpg', 'bing_added_arrow': True}\n"
     ]
    },
    {
     "name": "stderr",
     "output_type": "stream",
     "text": [
      " 15%|█████▌                                | 296/2000 [12:22<1:03:51,  2.25s/it]"
     ]
    },
    {
     "name": "stdout",
     "output_type": "stream",
     "text": [
      "{'mapbox_fetched_img': False, 'mapbox_img': 'mapbox/155274/133815/18.jpg', 'mapbox_added_arrow': True, 'bing_fetched_img': False, 'bing_img': 'bing/155274/133815/18.jpg', 'bing_added_arrow': True}\n"
     ]
    },
    {
     "name": "stderr",
     "output_type": "stream",
     "text": [
      " 15%|█████▋                                | 297/2000 [12:23<1:01:05,  2.15s/it]"
     ]
    },
    {
     "name": "stdout",
     "output_type": "stream",
     "text": [
      "{'mapbox_fetched_img': False, 'mapbox_img': 'mapbox/155274/133815/18.jpg', 'mapbox_added_arrow': True, 'bing_fetched_img': False, 'bing_img': 'bing/155274/133815/18.jpg', 'bing_added_arrow': True}\n"
     ]
    },
    {
     "name": "stderr",
     "output_type": "stream",
     "text": [
      " 15%|█████▋                                | 298/2000 [12:28<1:23:03,  2.93s/it]"
     ]
    },
    {
     "name": "stdout",
     "output_type": "stream",
     "text": [
      "{'mapbox_fetched_img': False, 'mapbox_img': 'mapbox/155274/133815/18.jpg', 'mapbox_added_arrow': True, 'bing_fetched_img': False, 'bing_img': 'bing/155274/133815/18.jpg', 'bing_added_arrow': True}\n"
     ]
    },
    {
     "name": "stderr",
     "output_type": "stream",
     "text": [
      " 15%|█████▋                                | 299/2000 [12:33<1:42:41,  3.62s/it]"
     ]
    },
    {
     "name": "stdout",
     "output_type": "stream",
     "text": [
      "{'mapbox_fetched_img': False, 'mapbox_img': 'mapbox/155274/133815/18.jpg', 'mapbox_added_arrow': True, 'bing_fetched_img': False, 'bing_img': 'bing/155274/133815/18.jpg', 'bing_added_arrow': True}\n"
     ]
    },
    {
     "name": "stderr",
     "output_type": "stream",
     "text": [
      " 15%|█████▋                                | 300/2000 [12:37<1:39:48,  3.52s/it]"
     ]
    },
    {
     "name": "stdout",
     "output_type": "stream",
     "text": [
      "{'mapbox_fetched_img': False, 'mapbox_img': 'mapbox/155274/133815/18.jpg', 'mapbox_added_arrow': True, 'bing_fetched_img': False, 'bing_img': 'bing/155274/133815/18.jpg', 'bing_added_arrow': True}\n",
      "Fetching from: https://api.mapbox.com/styles/v1/mapbox/satellite-v9/tiles/256/18/155274/133816?access_token=pk.eyJ1IjoiaXp2b25rb3YiLCJhIjoiY2t0YXU3MTE3MDJuNjJ1bW9xYzc3bTlrMCJ9.fiGLAZ29dmYv2sqlxuaB-A\n",
      "100% [............................................................] 8028 / 8028Fetching from: http://ecn.t0.tiles.virtualearth.net/tiles/a300101313030223010.jpeg?g=14009\n",
      "100% [..........................................................] 13474 / 13474"
     ]
    },
    {
     "name": "stderr",
     "output_type": "stream",
     "text": [
      " 15%|█████▋                                | 301/2000 [12:43<2:02:06,  4.31s/it]"
     ]
    },
    {
     "name": "stdout",
     "output_type": "stream",
     "text": [
      "{'mapbox_fetched_img': True, 'mapbox_img': 'mapbox/155274/133816/18.jpg', 'mapbox_added_arrow': True, 'bing_fetched_img': True, 'bing_img': 'bing/155274/133816/18.jpg', 'bing_added_arrow': True}\n"
     ]
    },
    {
     "name": "stderr",
     "output_type": "stream",
     "text": [
      " 15%|█████▋                                | 302/2000 [12:47<2:01:41,  4.30s/it]"
     ]
    },
    {
     "name": "stdout",
     "output_type": "stream",
     "text": [
      "{'mapbox_fetched_img': False, 'mapbox_img': 'mapbox/155274/133816/18.jpg', 'mapbox_added_arrow': True, 'bing_fetched_img': False, 'bing_img': 'bing/155274/133816/18.jpg', 'bing_added_arrow': True}\n"
     ]
    },
    {
     "name": "stderr",
     "output_type": "stream",
     "text": [
      " 15%|█████▊                                | 303/2000 [12:50<1:46:23,  3.76s/it]"
     ]
    },
    {
     "name": "stdout",
     "output_type": "stream",
     "text": [
      "{'mapbox_fetched_img': False, 'mapbox_img': 'mapbox/155274/133816/18.jpg', 'mapbox_added_arrow': True, 'bing_fetched_img': False, 'bing_img': 'bing/155274/133816/18.jpg', 'bing_added_arrow': True}\n"
     ]
    },
    {
     "name": "stderr",
     "output_type": "stream",
     "text": [
      " 15%|█████▊                                | 304/2000 [12:52<1:36:40,  3.42s/it]"
     ]
    },
    {
     "name": "stdout",
     "output_type": "stream",
     "text": [
      "{'mapbox_fetched_img': False, 'mapbox_img': 'mapbox/155274/133816/18.jpg', 'mapbox_added_arrow': True, 'bing_fetched_img': False, 'bing_img': 'bing/155274/133816/18.jpg', 'bing_added_arrow': True}\n"
     ]
    },
    {
     "name": "stderr",
     "output_type": "stream",
     "text": [
      " 15%|█████▊                                | 305/2000 [12:55<1:28:16,  3.12s/it]"
     ]
    },
    {
     "name": "stdout",
     "output_type": "stream",
     "text": [
      "{'mapbox_fetched_img': False, 'mapbox_img': 'mapbox/155274/133816/18.jpg', 'mapbox_added_arrow': True, 'bing_fetched_img': False, 'bing_img': 'bing/155274/133816/18.jpg', 'bing_added_arrow': True}\n"
     ]
    },
    {
     "name": "stderr",
     "output_type": "stream",
     "text": [
      " 15%|█████▊                                | 306/2000 [12:57<1:23:06,  2.94s/it]"
     ]
    },
    {
     "name": "stdout",
     "output_type": "stream",
     "text": [
      "{'mapbox_fetched_img': False, 'mapbox_img': 'mapbox/155274/133816/18.jpg', 'mapbox_added_arrow': True, 'bing_fetched_img': False, 'bing_img': 'bing/155274/133816/18.jpg', 'bing_added_arrow': True}\n"
     ]
    },
    {
     "name": "stderr",
     "output_type": "stream",
     "text": [
      " 15%|█████▊                                | 307/2000 [13:02<1:37:51,  3.47s/it]"
     ]
    },
    {
     "name": "stdout",
     "output_type": "stream",
     "text": [
      "{'mapbox_fetched_img': False, 'mapbox_img': 'mapbox/155274/133816/18.jpg', 'mapbox_added_arrow': True, 'bing_fetched_img': False, 'bing_img': 'bing/155274/133816/18.jpg', 'bing_added_arrow': True}\n"
     ]
    },
    {
     "name": "stderr",
     "output_type": "stream",
     "text": [
      " 15%|█████▊                                | 308/2000 [13:04<1:29:28,  3.17s/it]"
     ]
    },
    {
     "name": "stdout",
     "output_type": "stream",
     "text": [
      "{'mapbox_fetched_img': False, 'mapbox_img': 'mapbox/155274/133816/18.jpg', 'mapbox_added_arrow': True, 'bing_fetched_img': False, 'bing_img': 'bing/155274/133816/18.jpg', 'bing_added_arrow': True}\n"
     ]
    },
    {
     "name": "stderr",
     "output_type": "stream",
     "text": [
      " 15%|█████▊                                | 309/2000 [13:07<1:21:05,  2.88s/it]"
     ]
    },
    {
     "name": "stdout",
     "output_type": "stream",
     "text": [
      "{'mapbox_fetched_img': False, 'mapbox_img': 'mapbox/155274/133816/18.jpg', 'mapbox_added_arrow': True, 'bing_fetched_img': False, 'bing_img': 'bing/155274/133816/18.jpg', 'bing_added_arrow': True}\n"
     ]
    },
    {
     "name": "stderr",
     "output_type": "stream",
     "text": [
      " 16%|█████▉                                | 310/2000 [13:11<1:36:20,  3.42s/it]"
     ]
    },
    {
     "name": "stdout",
     "output_type": "stream",
     "text": [
      "{'mapbox_fetched_img': False, 'mapbox_img': 'mapbox/155274/133816/18.jpg', 'mapbox_added_arrow': True, 'bing_fetched_img': False, 'bing_img': 'bing/155274/133816/18.jpg', 'bing_added_arrow': True}\n"
     ]
    },
    {
     "name": "stderr",
     "output_type": "stream",
     "text": [
      " 16%|█████▉                                | 311/2000 [13:14<1:27:56,  3.12s/it]"
     ]
    },
    {
     "name": "stdout",
     "output_type": "stream",
     "text": [
      "{'mapbox_fetched_img': False, 'mapbox_img': 'mapbox/155274/133816/18.jpg', 'mapbox_added_arrow': True, 'bing_fetched_img': False, 'bing_img': 'bing/155274/133816/18.jpg', 'bing_added_arrow': True}\n"
     ]
    },
    {
     "name": "stderr",
     "output_type": "stream",
     "text": [
      " 16%|█████▉                                | 312/2000 [13:16<1:17:11,  2.74s/it]"
     ]
    },
    {
     "name": "stdout",
     "output_type": "stream",
     "text": [
      "{'mapbox_fetched_img': False, 'mapbox_img': 'mapbox/155274/133816/18.jpg', 'mapbox_added_arrow': True, 'bing_fetched_img': False, 'bing_img': 'bing/155274/133816/18.jpg', 'bing_added_arrow': True}\n"
     ]
    },
    {
     "name": "stderr",
     "output_type": "stream",
     "text": [
      " 16%|█████▉                                | 313/2000 [13:18<1:10:58,  2.52s/it]"
     ]
    },
    {
     "name": "stdout",
     "output_type": "stream",
     "text": [
      "{'mapbox_fetched_img': False, 'mapbox_img': 'mapbox/155274/133816/18.jpg', 'mapbox_added_arrow': True, 'bing_fetched_img': False, 'bing_img': 'bing/155274/133816/18.jpg', 'bing_added_arrow': True}\n"
     ]
    },
    {
     "name": "stderr",
     "output_type": "stream",
     "text": [
      " 16%|█████▉                                | 314/2000 [13:21<1:17:06,  2.74s/it]"
     ]
    },
    {
     "name": "stdout",
     "output_type": "stream",
     "text": [
      "{'mapbox_fetched_img': False, 'mapbox_img': 'mapbox/155274/133816/18.jpg', 'mapbox_added_arrow': True, 'bing_fetched_img': False, 'bing_img': 'bing/155274/133816/18.jpg', 'bing_added_arrow': True}\n"
     ]
    },
    {
     "name": "stderr",
     "output_type": "stream",
     "text": [
      " 16%|█████▉                                | 315/2000 [13:23<1:11:59,  2.56s/it]"
     ]
    },
    {
     "name": "stdout",
     "output_type": "stream",
     "text": [
      "{'mapbox_fetched_img': False, 'mapbox_img': 'mapbox/155274/133816/18.jpg', 'mapbox_added_arrow': True, 'bing_fetched_img': False, 'bing_img': 'bing/155274/133816/18.jpg', 'bing_added_arrow': True}\n"
     ]
    },
    {
     "name": "stderr",
     "output_type": "stream",
     "text": [
      " 16%|██████                                | 316/2000 [13:27<1:26:06,  3.07s/it]"
     ]
    },
    {
     "name": "stdout",
     "output_type": "stream",
     "text": [
      "{'mapbox_fetched_img': False, 'mapbox_img': 'mapbox/155274/133816/18.jpg', 'mapbox_added_arrow': True, 'bing_fetched_img': False, 'bing_img': 'bing/155274/133816/18.jpg', 'bing_added_arrow': True}\n"
     ]
    },
    {
     "name": "stderr",
     "output_type": "stream",
     "text": [
      " 16%|██████                                | 317/2000 [13:29<1:18:07,  2.79s/it]"
     ]
    },
    {
     "name": "stdout",
     "output_type": "stream",
     "text": [
      "{'mapbox_fetched_img': False, 'mapbox_img': 'mapbox/155274/133816/18.jpg', 'mapbox_added_arrow': True, 'bing_fetched_img': False, 'bing_img': 'bing/155274/133816/18.jpg', 'bing_added_arrow': True}\n"
     ]
    },
    {
     "name": "stderr",
     "output_type": "stream",
     "text": [
      " 16%|██████                                | 318/2000 [13:32<1:14:56,  2.67s/it]"
     ]
    },
    {
     "name": "stdout",
     "output_type": "stream",
     "text": [
      "{'mapbox_fetched_img': False, 'mapbox_img': 'mapbox/155274/133816/18.jpg', 'mapbox_added_arrow': True, 'bing_fetched_img': False, 'bing_img': 'bing/155274/133816/18.jpg', 'bing_added_arrow': True}\n"
     ]
    },
    {
     "name": "stderr",
     "output_type": "stream",
     "text": [
      " 16%|██████                                | 319/2000 [13:34<1:12:19,  2.58s/it]"
     ]
    },
    {
     "name": "stdout",
     "output_type": "stream",
     "text": [
      "{'mapbox_fetched_img': False, 'mapbox_img': 'mapbox/155274/133816/18.jpg', 'mapbox_added_arrow': True, 'bing_fetched_img': False, 'bing_img': 'bing/155274/133816/18.jpg', 'bing_added_arrow': True}\n",
      "Fetching from: https://api.mapbox.com/styles/v1/mapbox/satellite-v9/tiles/256/18/155274/133817?access_token=pk.eyJ1IjoiaXp2b25rb3YiLCJhIjoiY2t0YXU3MTE3MDJuNjJ1bW9xYzc3bTlrMCJ9.fiGLAZ29dmYv2sqlxuaB-A\n",
      "100% [............................................................] 7788 / 7788Fetching from: http://ecn.t0.tiles.virtualearth.net/tiles/a300101313030223012.jpeg?g=14009\n",
      "100% [..........................................................] 13329 / 13329"
     ]
    },
    {
     "name": "stderr",
     "output_type": "stream",
     "text": [
      " 16%|██████                                | 320/2000 [13:37<1:16:30,  2.73s/it]"
     ]
    },
    {
     "name": "stdout",
     "output_type": "stream",
     "text": [
      "{'mapbox_fetched_img': True, 'mapbox_img': 'mapbox/155274/133817/18.jpg', 'mapbox_added_arrow': True, 'bing_fetched_img': True, 'bing_img': 'bing/155274/133817/18.jpg', 'bing_added_arrow': True}\n"
     ]
    },
    {
     "name": "stderr",
     "output_type": "stream",
     "text": [
      " 16%|██████                                | 321/2000 [13:39<1:12:09,  2.58s/it]"
     ]
    },
    {
     "name": "stdout",
     "output_type": "stream",
     "text": [
      "{'mapbox_fetched_img': False, 'mapbox_img': 'mapbox/155274/133817/18.jpg', 'mapbox_added_arrow': True, 'bing_fetched_img': False, 'bing_img': 'bing/155274/133817/18.jpg', 'bing_added_arrow': True}\n"
     ]
    },
    {
     "name": "stderr",
     "output_type": "stream",
     "text": [
      " 16%|██████                                | 322/2000 [13:46<1:43:18,  3.69s/it]"
     ]
    },
    {
     "name": "stdout",
     "output_type": "stream",
     "text": [
      "{'mapbox_fetched_img': False, 'mapbox_img': 'mapbox/155274/133817/18.jpg', 'mapbox_added_arrow': True, 'bing_fetched_img': False, 'bing_img': 'bing/155274/133817/18.jpg', 'bing_added_arrow': True}\n"
     ]
    },
    {
     "name": "stderr",
     "output_type": "stream",
     "text": [
      " 16%|██████▏                               | 323/2000 [13:50<1:43:52,  3.72s/it]"
     ]
    },
    {
     "name": "stdout",
     "output_type": "stream",
     "text": [
      "{'mapbox_fetched_img': False, 'mapbox_img': 'mapbox/155274/133817/18.jpg', 'mapbox_added_arrow': True, 'bing_fetched_img': False, 'bing_img': 'bing/155274/133817/18.jpg', 'bing_added_arrow': True}\n"
     ]
    },
    {
     "name": "stderr",
     "output_type": "stream",
     "text": [
      " 16%|██████▏                               | 324/2000 [13:52<1:34:19,  3.38s/it]"
     ]
    },
    {
     "name": "stdout",
     "output_type": "stream",
     "text": [
      "{'mapbox_fetched_img': False, 'mapbox_img': 'mapbox/155274/133817/18.jpg', 'mapbox_added_arrow': True, 'bing_fetched_img': False, 'bing_img': 'bing/155274/133817/18.jpg', 'bing_added_arrow': True}\n"
     ]
    },
    {
     "name": "stderr",
     "output_type": "stream",
     "text": [
      " 16%|██████▏                               | 325/2000 [13:55<1:31:18,  3.27s/it]"
     ]
    },
    {
     "name": "stdout",
     "output_type": "stream",
     "text": [
      "{'mapbox_fetched_img': False, 'mapbox_img': 'mapbox/155274/133817/18.jpg', 'mapbox_added_arrow': True, 'bing_fetched_img': False, 'bing_img': 'bing/155274/133817/18.jpg', 'bing_added_arrow': True}\n"
     ]
    },
    {
     "name": "stderr",
     "output_type": "stream",
     "text": [
      " 16%|██████▏                               | 326/2000 [14:00<1:42:13,  3.66s/it]"
     ]
    },
    {
     "name": "stdout",
     "output_type": "stream",
     "text": [
      "{'mapbox_fetched_img': False, 'mapbox_img': 'mapbox/155274/133817/18.jpg', 'mapbox_added_arrow': True, 'bing_fetched_img': False, 'bing_img': 'bing/155274/133817/18.jpg', 'bing_added_arrow': True}\n"
     ]
    },
    {
     "name": "stderr",
     "output_type": "stream",
     "text": [
      " 16%|██████▏                               | 327/2000 [14:03<1:36:17,  3.45s/it]"
     ]
    },
    {
     "name": "stdout",
     "output_type": "stream",
     "text": [
      "{'mapbox_fetched_img': False, 'mapbox_img': 'mapbox/155274/133817/18.jpg', 'mapbox_added_arrow': True, 'bing_fetched_img': False, 'bing_img': 'bing/155274/133817/18.jpg', 'bing_added_arrow': True}\n"
     ]
    },
    {
     "name": "stderr",
     "output_type": "stream",
     "text": [
      " 16%|██████▏                               | 328/2000 [14:07<1:40:08,  3.59s/it]"
     ]
    },
    {
     "name": "stdout",
     "output_type": "stream",
     "text": [
      "{'mapbox_fetched_img': False, 'mapbox_img': 'mapbox/155274/133817/18.jpg', 'mapbox_added_arrow': True, 'bing_fetched_img': False, 'bing_img': 'bing/155274/133817/18.jpg', 'bing_added_arrow': True}\n"
     ]
    },
    {
     "name": "stderr",
     "output_type": "stream",
     "text": [
      " 16%|██████▎                               | 329/2000 [14:11<1:46:41,  3.83s/it]"
     ]
    },
    {
     "name": "stdout",
     "output_type": "stream",
     "text": [
      "{'mapbox_fetched_img': False, 'mapbox_img': 'mapbox/155274/133817/18.jpg', 'mapbox_added_arrow': True, 'bing_fetched_img': False, 'bing_img': 'bing/155274/133817/18.jpg', 'bing_added_arrow': True}\n"
     ]
    },
    {
     "name": "stderr",
     "output_type": "stream",
     "text": [
      " 16%|██████▎                               | 330/2000 [14:18<2:13:11,  4.79s/it]"
     ]
    },
    {
     "name": "stdout",
     "output_type": "stream",
     "text": [
      "{'mapbox_fetched_img': False, 'mapbox_img': 'mapbox/155274/133817/18.jpg', 'mapbox_added_arrow': True, 'bing_fetched_img': False, 'bing_img': 'bing/155274/133817/18.jpg', 'bing_added_arrow': True}\n"
     ]
    },
    {
     "name": "stderr",
     "output_type": "stream",
     "text": [
      " 17%|██████▎                               | 331/2000 [14:28<2:57:46,  6.39s/it]"
     ]
    },
    {
     "name": "stdout",
     "output_type": "stream",
     "text": [
      "{'mapbox_fetched_img': False, 'mapbox_img': 'mapbox/155274/133817/18.jpg', 'mapbox_added_arrow': True, 'bing_fetched_img': False, 'bing_img': 'bing/155274/133817/18.jpg', 'bing_added_arrow': True}\n"
     ]
    },
    {
     "name": "stderr",
     "output_type": "stream",
     "text": [
      " 17%|██████▎                               | 332/2000 [14:31<2:28:40,  5.35s/it]"
     ]
    },
    {
     "name": "stdout",
     "output_type": "stream",
     "text": [
      "{'mapbox_fetched_img': False, 'mapbox_img': 'mapbox/155274/133817/18.jpg', 'mapbox_added_arrow': True, 'bing_fetched_img': False, 'bing_img': 'bing/155274/133817/18.jpg', 'bing_added_arrow': True}\n"
     ]
    },
    {
     "name": "stderr",
     "output_type": "stream",
     "text": [
      " 17%|██████▎                               | 333/2000 [14:34<2:08:36,  4.63s/it]"
     ]
    },
    {
     "name": "stdout",
     "output_type": "stream",
     "text": [
      "{'mapbox_fetched_img': False, 'mapbox_img': 'mapbox/155274/133817/18.jpg', 'mapbox_added_arrow': True, 'bing_fetched_img': False, 'bing_img': 'bing/155274/133817/18.jpg', 'bing_added_arrow': True}\n"
     ]
    },
    {
     "name": "stderr",
     "output_type": "stream",
     "text": [
      " 17%|██████▎                               | 334/2000 [14:37<1:55:34,  4.16s/it]"
     ]
    },
    {
     "name": "stdout",
     "output_type": "stream",
     "text": [
      "{'mapbox_fetched_img': False, 'mapbox_img': 'mapbox/155274/133817/18.jpg', 'mapbox_added_arrow': True, 'bing_fetched_img': False, 'bing_img': 'bing/155274/133817/18.jpg', 'bing_added_arrow': True}\n"
     ]
    },
    {
     "name": "stderr",
     "output_type": "stream",
     "text": [
      " 17%|██████▎                               | 335/2000 [14:42<2:00:38,  4.35s/it]"
     ]
    },
    {
     "name": "stdout",
     "output_type": "stream",
     "text": [
      "{'mapbox_fetched_img': False, 'mapbox_img': 'mapbox/155274/133817/18.jpg', 'mapbox_added_arrow': True, 'bing_fetched_img': False, 'bing_img': 'bing/155274/133817/18.jpg', 'bing_added_arrow': True}\n"
     ]
    },
    {
     "name": "stderr",
     "output_type": "stream",
     "text": [
      " 17%|██████▍                               | 336/2000 [14:47<2:03:52,  4.47s/it]"
     ]
    },
    {
     "name": "stdout",
     "output_type": "stream",
     "text": [
      "{'mapbox_fetched_img': False, 'mapbox_img': 'mapbox/155274/133817/18.jpg', 'mapbox_added_arrow': True, 'bing_fetched_img': False, 'bing_img': 'bing/155274/133817/18.jpg', 'bing_added_arrow': True}\n"
     ]
    },
    {
     "name": "stderr",
     "output_type": "stream",
     "text": [
      " 17%|██████▍                               | 337/2000 [14:52<2:14:01,  4.84s/it]"
     ]
    },
    {
     "name": "stdout",
     "output_type": "stream",
     "text": [
      "{'mapbox_fetched_img': False, 'mapbox_img': 'mapbox/155274/133817/18.jpg', 'mapbox_added_arrow': True, 'bing_fetched_img': False, 'bing_img': 'bing/155274/133817/18.jpg', 'bing_added_arrow': True}\n"
     ]
    },
    {
     "name": "stderr",
     "output_type": "stream",
     "text": [
      " 17%|██████▍                               | 338/2000 [15:00<2:35:09,  5.60s/it]"
     ]
    },
    {
     "name": "stdout",
     "output_type": "stream",
     "text": [
      "{'mapbox_fetched_img': False, 'mapbox_img': 'mapbox/155274/133817/18.jpg', 'mapbox_added_arrow': True, 'bing_fetched_img': False, 'bing_img': 'bing/155274/133817/18.jpg', 'bing_added_arrow': True}\n"
     ]
    },
    {
     "name": "stderr",
     "output_type": "stream",
     "text": [
      " 17%|██████▍                               | 339/2000 [15:04<2:26:51,  5.30s/it]"
     ]
    },
    {
     "name": "stdout",
     "output_type": "stream",
     "text": [
      "{'mapbox_fetched_img': False, 'mapbox_img': 'mapbox/155274/133817/18.jpg', 'mapbox_added_arrow': True, 'bing_fetched_img': False, 'bing_img': 'bing/155274/133817/18.jpg', 'bing_added_arrow': True}\n"
     ]
    },
    {
     "name": "stderr",
     "output_type": "stream",
     "text": [
      " 17%|██████▍                               | 340/2000 [15:07<2:02:41,  4.43s/it]"
     ]
    },
    {
     "name": "stdout",
     "output_type": "stream",
     "text": [
      "{'mapbox_fetched_img': False, 'mapbox_img': 'mapbox/155274/133817/18.jpg', 'mapbox_added_arrow': True, 'bing_fetched_img': False, 'bing_img': 'bing/155274/133817/18.jpg', 'bing_added_arrow': True}\n"
     ]
    },
    {
     "name": "stderr",
     "output_type": "stream",
     "text": [
      " 17%|██████▍                               | 341/2000 [15:13<2:20:47,  5.09s/it]"
     ]
    },
    {
     "name": "stdout",
     "output_type": "stream",
     "text": [
      "{'mapbox_fetched_img': False, 'mapbox_img': 'mapbox/155274/133817/18.jpg', 'mapbox_added_arrow': True, 'bing_fetched_img': False, 'bing_img': 'bing/155274/133817/18.jpg', 'bing_added_arrow': True}\n"
     ]
    },
    {
     "name": "stderr",
     "output_type": "stream",
     "text": [
      " 17%|██████▍                               | 342/2000 [15:23<3:02:28,  6.60s/it]"
     ]
    },
    {
     "name": "stdout",
     "output_type": "stream",
     "text": [
      "{'mapbox_fetched_img': False, 'mapbox_img': 'mapbox/155274/133817/18.jpg', 'mapbox_added_arrow': True, 'bing_fetched_img': False, 'bing_img': 'bing/155274/133817/18.jpg', 'bing_added_arrow': True}\n"
     ]
    },
    {
     "name": "stderr",
     "output_type": "stream",
     "text": [
      " 17%|██████▌                               | 343/2000 [15:32<3:19:00,  7.21s/it]"
     ]
    },
    {
     "name": "stdout",
     "output_type": "stream",
     "text": [
      "{'mapbox_fetched_img': False, 'mapbox_img': 'mapbox/155274/133817/18.jpg', 'mapbox_added_arrow': True, 'bing_fetched_img': False, 'bing_img': 'bing/155274/133817/18.jpg', 'bing_added_arrow': True}\n"
     ]
    },
    {
     "name": "stderr",
     "output_type": "stream",
     "text": [
      " 17%|██████▌                               | 344/2000 [15:37<2:58:08,  6.45s/it]"
     ]
    },
    {
     "name": "stdout",
     "output_type": "stream",
     "text": [
      "{'mapbox_fetched_img': False, 'mapbox_img': 'mapbox/155274/133817/18.jpg', 'mapbox_added_arrow': True, 'bing_fetched_img': False, 'bing_img': 'bing/155274/133817/18.jpg', 'bing_added_arrow': True}\n"
     ]
    },
    {
     "name": "stderr",
     "output_type": "stream",
     "text": [
      " 17%|██████▌                               | 345/2000 [15:40<2:30:12,  5.45s/it]"
     ]
    },
    {
     "name": "stdout",
     "output_type": "stream",
     "text": [
      "{'mapbox_fetched_img': False, 'mapbox_img': 'mapbox/155274/133817/18.jpg', 'mapbox_added_arrow': True, 'bing_fetched_img': False, 'bing_img': 'bing/155274/133817/18.jpg', 'bing_added_arrow': True}\n"
     ]
    },
    {
     "name": "stderr",
     "output_type": "stream",
     "text": [
      " 17%|██████▌                               | 346/2000 [15:43<2:10:42,  4.74s/it]"
     ]
    },
    {
     "name": "stdout",
     "output_type": "stream",
     "text": [
      "{'mapbox_fetched_img': False, 'mapbox_img': 'mapbox/155274/133817/18.jpg', 'mapbox_added_arrow': True, 'bing_fetched_img': False, 'bing_img': 'bing/155274/133817/18.jpg', 'bing_added_arrow': True}\n"
     ]
    },
    {
     "name": "stderr",
     "output_type": "stream",
     "text": [
      " 17%|██████▌                               | 347/2000 [15:48<2:15:54,  4.93s/it]"
     ]
    },
    {
     "name": "stdout",
     "output_type": "stream",
     "text": [
      "{'mapbox_fetched_img': False, 'mapbox_img': 'mapbox/155274/133817/18.jpg', 'mapbox_added_arrow': True, 'bing_fetched_img': False, 'bing_img': 'bing/155274/133817/18.jpg', 'bing_added_arrow': True}\n"
     ]
    },
    {
     "name": "stderr",
     "output_type": "stream",
     "text": [
      " 17%|██████▌                               | 348/2000 [15:52<2:05:25,  4.56s/it]"
     ]
    },
    {
     "name": "stdout",
     "output_type": "stream",
     "text": [
      "{'mapbox_fetched_img': False, 'mapbox_img': 'mapbox/155274/133817/18.jpg', 'mapbox_added_arrow': True, 'bing_fetched_img': False, 'bing_img': 'bing/155274/133817/18.jpg', 'bing_added_arrow': True}\n"
     ]
    },
    {
     "name": "stderr",
     "output_type": "stream",
     "text": [
      " 17%|██████▋                               | 349/2000 [15:54<1:44:56,  3.81s/it]"
     ]
    },
    {
     "name": "stdout",
     "output_type": "stream",
     "text": [
      "{'mapbox_fetched_img': False, 'mapbox_img': 'mapbox/155274/133817/18.jpg', 'mapbox_added_arrow': True, 'bing_fetched_img': False, 'bing_img': 'bing/155274/133817/18.jpg', 'bing_added_arrow': True}\n"
     ]
    },
    {
     "name": "stderr",
     "output_type": "stream",
     "text": [
      " 18%|██████▋                               | 350/2000 [15:56<1:30:39,  3.30s/it]"
     ]
    },
    {
     "name": "stdout",
     "output_type": "stream",
     "text": [
      "{'mapbox_fetched_img': False, 'mapbox_img': 'mapbox/155274/133817/18.jpg', 'mapbox_added_arrow': True, 'bing_fetched_img': False, 'bing_img': 'bing/155274/133817/18.jpg', 'bing_added_arrow': True}\n",
      "Fetching from: https://api.mapbox.com/styles/v1/mapbox/satellite-v9/tiles/256/18/155275/133818?access_token=pk.eyJ1IjoiaXp2b25rb3YiLCJhIjoiY2t0YXU3MTE3MDJuNjJ1bW9xYzc3bTlrMCJ9.fiGLAZ29dmYv2sqlxuaB-A\n",
      "100% [............................................................] 8279 / 8279Fetching from: http://ecn.t0.tiles.virtualearth.net/tiles/a300101313030223031.jpeg?g=14009\n",
      "100% [..........................................................] 11754 / 11754"
     ]
    },
    {
     "name": "stderr",
     "output_type": "stream",
     "text": [
      " 18%|██████▋                               | 351/2000 [15:59<1:28:36,  3.22s/it]"
     ]
    },
    {
     "name": "stdout",
     "output_type": "stream",
     "text": [
      "{'mapbox_fetched_img': True, 'mapbox_img': 'mapbox/155275/133818/18.jpg', 'mapbox_added_arrow': True, 'bing_fetched_img': True, 'bing_img': 'bing/155275/133818/18.jpg', 'bing_added_arrow': True}\n",
      "Fetching from: https://api.mapbox.com/styles/v1/mapbox/satellite-v9/tiles/256/18/155276/133820?access_token=pk.eyJ1IjoiaXp2b25rb3YiLCJhIjoiY2t0YXU3MTE3MDJuNjJ1bW9xYzc3bTlrMCJ9.fiGLAZ29dmYv2sqlxuaB-A\n",
      "100% [..........................................................] 10361 / 10361Fetching from: http://ecn.t0.tiles.virtualearth.net/tiles/a300101313030223300.jpeg?g=14009\n",
      "100% [..........................................................] 13662 / 13662"
     ]
    },
    {
     "name": "stderr",
     "output_type": "stream",
     "text": [
      " 18%|██████▋                               | 352/2000 [16:04<1:39:04,  3.61s/it]"
     ]
    },
    {
     "name": "stdout",
     "output_type": "stream",
     "text": [
      "{'mapbox_fetched_img': True, 'mapbox_img': 'mapbox/155276/133820/18.jpg', 'mapbox_added_arrow': True, 'bing_fetched_img': True, 'bing_img': 'bing/155276/133820/18.jpg', 'bing_added_arrow': True}\n"
     ]
    },
    {
     "name": "stderr",
     "output_type": "stream",
     "text": [
      " 18%|██████▋                               | 353/2000 [16:06<1:26:52,  3.16s/it]"
     ]
    },
    {
     "name": "stdout",
     "output_type": "stream",
     "text": [
      "{'mapbox_fetched_img': False, 'mapbox_img': 'mapbox/155276/133820/18.jpg', 'mapbox_added_arrow': True, 'bing_fetched_img': False, 'bing_img': 'bing/155276/133820/18.jpg', 'bing_added_arrow': True}\n"
     ]
    },
    {
     "name": "stderr",
     "output_type": "stream",
     "text": [
      " 18%|██████▋                               | 354/2000 [16:08<1:16:05,  2.77s/it]"
     ]
    },
    {
     "name": "stdout",
     "output_type": "stream",
     "text": [
      "{'mapbox_fetched_img': False, 'mapbox_img': 'mapbox/155276/133820/18.jpg', 'mapbox_added_arrow': True, 'bing_fetched_img': False, 'bing_img': 'bing/155276/133820/18.jpg', 'bing_added_arrow': True}\n"
     ]
    },
    {
     "name": "stderr",
     "output_type": "stream",
     "text": [
      " 18%|██████▋                               | 355/2000 [16:10<1:14:45,  2.73s/it]"
     ]
    },
    {
     "name": "stdout",
     "output_type": "stream",
     "text": [
      "{'mapbox_fetched_img': False, 'mapbox_img': 'mapbox/155276/133820/18.jpg', 'mapbox_added_arrow': True, 'bing_fetched_img': False, 'bing_img': 'bing/155276/133820/18.jpg', 'bing_added_arrow': True}\n"
     ]
    },
    {
     "name": "stderr",
     "output_type": "stream",
     "text": [
      " 18%|██████▊                               | 356/2000 [16:15<1:31:08,  3.33s/it]"
     ]
    },
    {
     "name": "stdout",
     "output_type": "stream",
     "text": [
      "{'mapbox_fetched_img': False, 'mapbox_img': 'mapbox/155276/133820/18.jpg', 'mapbox_added_arrow': True, 'bing_fetched_img': False, 'bing_img': 'bing/155276/133820/18.jpg', 'bing_added_arrow': True}\n"
     ]
    },
    {
     "name": "stderr",
     "output_type": "stream",
     "text": [
      " 18%|██████▊                               | 357/2000 [16:20<1:46:38,  3.89s/it]"
     ]
    },
    {
     "name": "stdout",
     "output_type": "stream",
     "text": [
      "{'mapbox_fetched_img': False, 'mapbox_img': 'mapbox/155276/133820/18.jpg', 'mapbox_added_arrow': True, 'bing_fetched_img': False, 'bing_img': 'bing/155276/133820/18.jpg', 'bing_added_arrow': True}\n"
     ]
    },
    {
     "name": "stderr",
     "output_type": "stream",
     "text": [
      " 18%|██████▊                               | 358/2000 [16:22<1:32:03,  3.36s/it]"
     ]
    },
    {
     "name": "stdout",
     "output_type": "stream",
     "text": [
      "{'mapbox_fetched_img': False, 'mapbox_img': 'mapbox/155276/133820/18.jpg', 'mapbox_added_arrow': True, 'bing_fetched_img': False, 'bing_img': 'bing/155276/133820/18.jpg', 'bing_added_arrow': True}\n"
     ]
    },
    {
     "name": "stderr",
     "output_type": "stream",
     "text": [
      " 18%|██████▊                               | 359/2000 [16:25<1:22:40,  3.02s/it]"
     ]
    },
    {
     "name": "stdout",
     "output_type": "stream",
     "text": [
      "{'mapbox_fetched_img': False, 'mapbox_img': 'mapbox/155276/133820/18.jpg', 'mapbox_added_arrow': True, 'bing_fetched_img': False, 'bing_img': 'bing/155276/133820/18.jpg', 'bing_added_arrow': True}\n"
     ]
    },
    {
     "name": "stderr",
     "output_type": "stream",
     "text": [
      " 18%|██████▊                               | 360/2000 [16:27<1:13:35,  2.69s/it]"
     ]
    },
    {
     "name": "stdout",
     "output_type": "stream",
     "text": [
      "{'mapbox_fetched_img': False, 'mapbox_img': 'mapbox/155276/133820/18.jpg', 'mapbox_added_arrow': True, 'bing_fetched_img': False, 'bing_img': 'bing/155276/133820/18.jpg', 'bing_added_arrow': True}\n"
     ]
    },
    {
     "name": "stderr",
     "output_type": "stream",
     "text": [
      " 18%|██████▊                               | 361/2000 [16:29<1:14:35,  2.73s/it]"
     ]
    },
    {
     "name": "stdout",
     "output_type": "stream",
     "text": [
      "{'mapbox_fetched_img': False, 'mapbox_img': 'mapbox/155276/133820/18.jpg', 'mapbox_added_arrow': True, 'bing_fetched_img': False, 'bing_img': 'bing/155276/133820/18.jpg', 'bing_added_arrow': True}\n"
     ]
    },
    {
     "name": "stderr",
     "output_type": "stream",
     "text": [
      " 18%|██████▉                               | 362/2000 [16:31<1:09:10,  2.53s/it]"
     ]
    },
    {
     "name": "stdout",
     "output_type": "stream",
     "text": [
      "{'mapbox_fetched_img': False, 'mapbox_img': 'mapbox/155276/133820/18.jpg', 'mapbox_added_arrow': True, 'bing_fetched_img': False, 'bing_img': 'bing/155276/133820/18.jpg', 'bing_added_arrow': True}\n"
     ]
    },
    {
     "name": "stderr",
     "output_type": "stream",
     "text": [
      " 18%|██████▉                               | 363/2000 [16:35<1:16:56,  2.82s/it]"
     ]
    },
    {
     "name": "stdout",
     "output_type": "stream",
     "text": [
      "{'mapbox_fetched_img': False, 'mapbox_img': 'mapbox/155276/133820/18.jpg', 'mapbox_added_arrow': True, 'bing_fetched_img': False, 'bing_img': 'bing/155276/133820/18.jpg', 'bing_added_arrow': True}\n"
     ]
    },
    {
     "name": "stderr",
     "output_type": "stream",
     "text": [
      " 18%|██████▉                               | 364/2000 [16:37<1:10:03,  2.57s/it]"
     ]
    },
    {
     "name": "stdout",
     "output_type": "stream",
     "text": [
      "{'mapbox_fetched_img': False, 'mapbox_img': 'mapbox/155276/133820/18.jpg', 'mapbox_added_arrow': True, 'bing_fetched_img': False, 'bing_img': 'bing/155276/133820/18.jpg', 'bing_added_arrow': True}\n"
     ]
    },
    {
     "name": "stderr",
     "output_type": "stream",
     "text": [
      " 18%|██████▉                               | 365/2000 [16:39<1:05:59,  2.42s/it]"
     ]
    },
    {
     "name": "stdout",
     "output_type": "stream",
     "text": [
      "{'mapbox_fetched_img': False, 'mapbox_img': 'mapbox/155276/133820/18.jpg', 'mapbox_added_arrow': True, 'bing_fetched_img': False, 'bing_img': 'bing/155276/133820/18.jpg', 'bing_added_arrow': True}\n"
     ]
    },
    {
     "name": "stderr",
     "output_type": "stream",
     "text": [
      " 18%|██████▉                               | 366/2000 [16:41<1:05:47,  2.42s/it]"
     ]
    },
    {
     "name": "stdout",
     "output_type": "stream",
     "text": [
      "{'mapbox_fetched_img': False, 'mapbox_img': 'mapbox/155276/133820/18.jpg', 'mapbox_added_arrow': True, 'bing_fetched_img': False, 'bing_img': 'bing/155276/133820/18.jpg', 'bing_added_arrow': True}\n"
     ]
    },
    {
     "name": "stderr",
     "output_type": "stream",
     "text": [
      " 18%|██████▉                               | 367/2000 [16:44<1:09:38,  2.56s/it]"
     ]
    },
    {
     "name": "stdout",
     "output_type": "stream",
     "text": [
      "{'mapbox_fetched_img': False, 'mapbox_img': 'mapbox/155276/133820/18.jpg', 'mapbox_added_arrow': True, 'bing_fetched_img': False, 'bing_img': 'bing/155276/133820/18.jpg', 'bing_added_arrow': True}\n"
     ]
    },
    {
     "name": "stderr",
     "output_type": "stream",
     "text": [
      " 18%|██████▉                               | 368/2000 [16:48<1:22:30,  3.03s/it]"
     ]
    },
    {
     "name": "stdout",
     "output_type": "stream",
     "text": [
      "{'mapbox_fetched_img': False, 'mapbox_img': 'mapbox/155276/133820/18.jpg', 'mapbox_added_arrow': True, 'bing_fetched_img': False, 'bing_img': 'bing/155276/133820/18.jpg', 'bing_added_arrow': True}\n"
     ]
    },
    {
     "name": "stderr",
     "output_type": "stream",
     "text": [
      " 18%|███████                               | 369/2000 [16:51<1:21:37,  3.00s/it]"
     ]
    },
    {
     "name": "stdout",
     "output_type": "stream",
     "text": [
      "{'mapbox_fetched_img': False, 'mapbox_img': 'mapbox/155276/133820/18.jpg', 'mapbox_added_arrow': True, 'bing_fetched_img': False, 'bing_img': 'bing/155276/133820/18.jpg', 'bing_added_arrow': True}\n"
     ]
    },
    {
     "name": "stderr",
     "output_type": "stream",
     "text": [
      " 18%|███████                               | 370/2000 [16:54<1:16:57,  2.83s/it]"
     ]
    },
    {
     "name": "stdout",
     "output_type": "stream",
     "text": [
      "{'mapbox_fetched_img': False, 'mapbox_img': 'mapbox/155276/133820/18.jpg', 'mapbox_added_arrow': True, 'bing_fetched_img': False, 'bing_img': 'bing/155276/133820/18.jpg', 'bing_added_arrow': True}\n"
     ]
    },
    {
     "name": "stderr",
     "output_type": "stream",
     "text": [
      " 19%|███████                               | 371/2000 [16:56<1:11:00,  2.62s/it]"
     ]
    },
    {
     "name": "stdout",
     "output_type": "stream",
     "text": [
      "{'mapbox_fetched_img': False, 'mapbox_img': 'mapbox/155276/133820/18.jpg', 'mapbox_added_arrow': True, 'bing_fetched_img': False, 'bing_img': 'bing/155276/133820/18.jpg', 'bing_added_arrow': True}\n"
     ]
    },
    {
     "name": "stderr",
     "output_type": "stream",
     "text": [
      " 19%|███████                               | 372/2000 [17:00<1:19:44,  2.94s/it]"
     ]
    },
    {
     "name": "stdout",
     "output_type": "stream",
     "text": [
      "{'mapbox_fetched_img': False, 'mapbox_img': 'mapbox/155276/133820/18.jpg', 'mapbox_added_arrow': True, 'bing_fetched_img': False, 'bing_img': 'bing/155276/133820/18.jpg', 'bing_added_arrow': True}\n"
     ]
    },
    {
     "name": "stderr",
     "output_type": "stream",
     "text": [
      " 19%|███████                               | 373/2000 [17:02<1:14:53,  2.76s/it]"
     ]
    },
    {
     "name": "stdout",
     "output_type": "stream",
     "text": [
      "{'mapbox_fetched_img': False, 'mapbox_img': 'mapbox/155276/133820/18.jpg', 'mapbox_added_arrow': True, 'bing_fetched_img': False, 'bing_img': 'bing/155276/133820/18.jpg', 'bing_added_arrow': True}\n"
     ]
    },
    {
     "name": "stderr",
     "output_type": "stream",
     "text": [
      " 19%|███████                               | 374/2000 [17:04<1:12:47,  2.69s/it]"
     ]
    },
    {
     "name": "stdout",
     "output_type": "stream",
     "text": [
      "{'mapbox_fetched_img': False, 'mapbox_img': 'mapbox/155276/133820/18.jpg', 'mapbox_added_arrow': True, 'bing_fetched_img': False, 'bing_img': 'bing/155276/133820/18.jpg', 'bing_added_arrow': True}\n"
     ]
    },
    {
     "name": "stderr",
     "output_type": "stream",
     "text": [
      " 19%|███████▏                              | 375/2000 [17:08<1:20:10,  2.96s/it]"
     ]
    },
    {
     "name": "stdout",
     "output_type": "stream",
     "text": [
      "{'mapbox_fetched_img': False, 'mapbox_img': 'mapbox/155276/133820/18.jpg', 'mapbox_added_arrow': True, 'bing_fetched_img': False, 'bing_img': 'bing/155276/133820/18.jpg', 'bing_added_arrow': True}\n"
     ]
    },
    {
     "name": "stderr",
     "output_type": "stream",
     "text": [
      " 19%|███████▏                              | 376/2000 [17:12<1:31:13,  3.37s/it]"
     ]
    },
    {
     "name": "stdout",
     "output_type": "stream",
     "text": [
      "{'mapbox_fetched_img': False, 'mapbox_img': 'mapbox/155276/133820/18.jpg', 'mapbox_added_arrow': True, 'bing_fetched_img': False, 'bing_img': 'bing/155276/133820/18.jpg', 'bing_added_arrow': True}\n"
     ]
    },
    {
     "name": "stderr",
     "output_type": "stream",
     "text": [
      " 19%|███████▏                              | 377/2000 [17:19<1:58:51,  4.39s/it]"
     ]
    },
    {
     "name": "stdout",
     "output_type": "stream",
     "text": [
      "{'mapbox_fetched_img': False, 'mapbox_img': 'mapbox/155276/133820/18.jpg', 'mapbox_added_arrow': True, 'bing_fetched_img': False, 'bing_img': 'bing/155276/133820/18.jpg', 'bing_added_arrow': True}\n"
     ]
    },
    {
     "name": "stderr",
     "output_type": "stream",
     "text": [
      " 19%|███████▏                              | 378/2000 [17:30<2:52:12,  6.37s/it]"
     ]
    },
    {
     "name": "stdout",
     "output_type": "stream",
     "text": [
      "{'mapbox_fetched_img': False, 'mapbox_img': 'mapbox/155276/133820/18.jpg', 'mapbox_added_arrow': True, 'bing_fetched_img': False, 'bing_img': 'bing/155276/133820/18.jpg', 'bing_added_arrow': True}\n"
     ]
    },
    {
     "name": "stderr",
     "output_type": "stream",
     "text": [
      " 19%|███████▏                              | 379/2000 [17:34<2:35:21,  5.75s/it]"
     ]
    },
    {
     "name": "stdout",
     "output_type": "stream",
     "text": [
      "{'mapbox_fetched_img': False, 'mapbox_img': 'mapbox/155276/133820/18.jpg', 'mapbox_added_arrow': True, 'bing_fetched_img': False, 'bing_img': 'bing/155276/133820/18.jpg', 'bing_added_arrow': True}\n"
     ]
    },
    {
     "name": "stderr",
     "output_type": "stream",
     "text": [
      " 19%|███████▏                              | 380/2000 [17:38<2:16:41,  5.06s/it]"
     ]
    },
    {
     "name": "stdout",
     "output_type": "stream",
     "text": [
      "{'mapbox_fetched_img': False, 'mapbox_img': 'mapbox/155276/133820/18.jpg', 'mapbox_added_arrow': True, 'bing_fetched_img': False, 'bing_img': 'bing/155276/133820/18.jpg', 'bing_added_arrow': True}\n"
     ]
    },
    {
     "name": "stderr",
     "output_type": "stream",
     "text": [
      " 19%|███████▏                              | 381/2000 [17:43<2:15:27,  5.02s/it]"
     ]
    },
    {
     "name": "stdout",
     "output_type": "stream",
     "text": [
      "{'mapbox_fetched_img': False, 'mapbox_img': 'mapbox/155276/133820/18.jpg', 'mapbox_added_arrow': True, 'bing_fetched_img': False, 'bing_img': 'bing/155276/133820/18.jpg', 'bing_added_arrow': True}\n"
     ]
    },
    {
     "name": "stderr",
     "output_type": "stream",
     "text": [
      " 19%|███████▎                              | 382/2000 [17:52<2:45:56,  6.15s/it]"
     ]
    },
    {
     "name": "stdout",
     "output_type": "stream",
     "text": [
      "{'mapbox_fetched_img': False, 'mapbox_img': 'mapbox/155276/133820/18.jpg', 'mapbox_added_arrow': True, 'bing_fetched_img': False, 'bing_img': 'bing/155276/133820/18.jpg', 'bing_added_arrow': True}\n"
     ]
    },
    {
     "name": "stderr",
     "output_type": "stream",
     "text": [
      " 19%|███████▎                              | 383/2000 [17:57<2:35:47,  5.78s/it]"
     ]
    },
    {
     "name": "stdout",
     "output_type": "stream",
     "text": [
      "{'mapbox_fetched_img': False, 'mapbox_img': 'mapbox/155276/133820/18.jpg', 'mapbox_added_arrow': True, 'bing_fetched_img': False, 'bing_img': 'bing/155276/133820/18.jpg', 'bing_added_arrow': True}\n"
     ]
    },
    {
     "name": "stderr",
     "output_type": "stream",
     "text": [
      " 19%|███████▎                              | 384/2000 [18:04<2:51:42,  6.38s/it]"
     ]
    },
    {
     "name": "stdout",
     "output_type": "stream",
     "text": [
      "{'mapbox_fetched_img': False, 'mapbox_img': 'mapbox/155276/133820/18.jpg', 'mapbox_added_arrow': True, 'bing_fetched_img': False, 'bing_img': 'bing/155276/133820/18.jpg', 'bing_added_arrow': True}\n"
     ]
    },
    {
     "name": "stderr",
     "output_type": "stream",
     "text": [
      " 19%|███████▎                              | 385/2000 [18:14<3:17:00,  7.32s/it]"
     ]
    },
    {
     "name": "stdout",
     "output_type": "stream",
     "text": [
      "{'mapbox_fetched_img': False, 'mapbox_img': 'mapbox/155276/133820/18.jpg', 'mapbox_added_arrow': True, 'bing_fetched_img': False, 'bing_img': 'bing/155276/133820/18.jpg', 'bing_added_arrow': True}\n"
     ]
    },
    {
     "name": "stderr",
     "output_type": "stream",
     "text": [
      " 19%|███████▎                              | 386/2000 [18:19<2:58:19,  6.63s/it]"
     ]
    },
    {
     "name": "stdout",
     "output_type": "stream",
     "text": [
      "{'mapbox_fetched_img': False, 'mapbox_img': 'mapbox/155276/133820/18.jpg', 'mapbox_added_arrow': True, 'bing_fetched_img': False, 'bing_img': 'bing/155276/133820/18.jpg', 'bing_added_arrow': True}\n",
      "Fetching from: https://api.mapbox.com/styles/v1/mapbox/satellite-v9/tiles/256/18/155278/133822?access_token=pk.eyJ1IjoiaXp2b25rb3YiLCJhIjoiY2t0YXU3MTE3MDJuNjJ1bW9xYzc3bTlrMCJ9.fiGLAZ29dmYv2sqlxuaB-A\n",
      "100% [..........................................................] 11111 / 11111Fetching from: http://ecn.t0.tiles.virtualearth.net/tiles/a300101313030223330.jpeg?g=14009\n",
      "100% [..........................................................] 13819 / 13819"
     ]
    },
    {
     "name": "stderr",
     "output_type": "stream",
     "text": [
      " 19%|███████▎                              | 387/2000 [18:24<2:42:24,  6.04s/it]"
     ]
    },
    {
     "name": "stdout",
     "output_type": "stream",
     "text": [
      "{'mapbox_fetched_img': True, 'mapbox_img': 'mapbox/155278/133822/18.jpg', 'mapbox_added_arrow': True, 'bing_fetched_img': True, 'bing_img': 'bing/155278/133822/18.jpg', 'bing_added_arrow': True}\n"
     ]
    },
    {
     "name": "stderr",
     "output_type": "stream",
     "text": [
      " 19%|███████▎                              | 388/2000 [18:28<2:29:07,  5.55s/it]"
     ]
    },
    {
     "name": "stdout",
     "output_type": "stream",
     "text": [
      "{'mapbox_fetched_img': False, 'mapbox_img': 'mapbox/155278/133822/18.jpg', 'mapbox_added_arrow': True, 'bing_fetched_img': False, 'bing_img': 'bing/155278/133822/18.jpg', 'bing_added_arrow': True}\n"
     ]
    },
    {
     "name": "stderr",
     "output_type": "stream",
     "text": [
      " 19%|███████▍                              | 389/2000 [18:31<2:12:52,  4.95s/it]"
     ]
    },
    {
     "name": "stdout",
     "output_type": "stream",
     "text": [
      "{'mapbox_fetched_img': False, 'mapbox_img': 'mapbox/155278/133822/18.jpg', 'mapbox_added_arrow': True, 'bing_fetched_img': False, 'bing_img': 'bing/155278/133822/18.jpg', 'bing_added_arrow': True}\n"
     ]
    },
    {
     "name": "stderr",
     "output_type": "stream",
     "text": [
      " 20%|███████▍                              | 390/2000 [18:37<2:17:15,  5.11s/it]"
     ]
    },
    {
     "name": "stdout",
     "output_type": "stream",
     "text": [
      "{'mapbox_fetched_img': False, 'mapbox_img': 'mapbox/155278/133822/18.jpg', 'mapbox_added_arrow': True, 'bing_fetched_img': False, 'bing_img': 'bing/155278/133822/18.jpg', 'bing_added_arrow': True}\n"
     ]
    },
    {
     "name": "stderr",
     "output_type": "stream",
     "text": [
      " 20%|███████▍                              | 391/2000 [18:44<2:34:09,  5.75s/it]"
     ]
    },
    {
     "name": "stdout",
     "output_type": "stream",
     "text": [
      "{'mapbox_fetched_img': False, 'mapbox_img': 'mapbox/155278/133822/18.jpg', 'mapbox_added_arrow': True, 'bing_fetched_img': False, 'bing_img': 'bing/155278/133822/18.jpg', 'bing_added_arrow': True}\n"
     ]
    },
    {
     "name": "stderr",
     "output_type": "stream",
     "text": [
      " 20%|███████▍                              | 392/2000 [18:48<2:20:46,  5.25s/it]"
     ]
    },
    {
     "name": "stdout",
     "output_type": "stream",
     "text": [
      "{'mapbox_fetched_img': False, 'mapbox_img': 'mapbox/155278/133822/18.jpg', 'mapbox_added_arrow': True, 'bing_fetched_img': False, 'bing_img': 'bing/155278/133822/18.jpg', 'bing_added_arrow': True}\n"
     ]
    },
    {
     "name": "stderr",
     "output_type": "stream",
     "text": [
      " 20%|███████▍                              | 393/2000 [18:52<2:05:02,  4.67s/it]"
     ]
    },
    {
     "name": "stdout",
     "output_type": "stream",
     "text": [
      "{'mapbox_fetched_img': False, 'mapbox_img': 'mapbox/155278/133822/18.jpg', 'mapbox_added_arrow': True, 'bing_fetched_img': False, 'bing_img': 'bing/155278/133822/18.jpg', 'bing_added_arrow': True}\n"
     ]
    },
    {
     "name": "stderr",
     "output_type": "stream",
     "text": [
      " 20%|███████▍                              | 394/2000 [18:54<1:48:49,  4.07s/it]"
     ]
    },
    {
     "name": "stdout",
     "output_type": "stream",
     "text": [
      "{'mapbox_fetched_img': False, 'mapbox_img': 'mapbox/155278/133822/18.jpg', 'mapbox_added_arrow': True, 'bing_fetched_img': False, 'bing_img': 'bing/155278/133822/18.jpg', 'bing_added_arrow': True}\n"
     ]
    },
    {
     "name": "stderr",
     "output_type": "stream",
     "text": [
      " 20%|███████▌                              | 395/2000 [18:57<1:41:36,  3.80s/it]"
     ]
    },
    {
     "name": "stdout",
     "output_type": "stream",
     "text": [
      "{'mapbox_fetched_img': False, 'mapbox_img': 'mapbox/155278/133822/18.jpg', 'mapbox_added_arrow': True, 'bing_fetched_img': False, 'bing_img': 'bing/155278/133822/18.jpg', 'bing_added_arrow': True}\n"
     ]
    },
    {
     "name": "stderr",
     "output_type": "stream",
     "text": [
      " 20%|███████▌                              | 396/2000 [19:02<1:45:10,  3.93s/it]"
     ]
    },
    {
     "name": "stdout",
     "output_type": "stream",
     "text": [
      "{'mapbox_fetched_img': False, 'mapbox_img': 'mapbox/155278/133822/18.jpg', 'mapbox_added_arrow': True, 'bing_fetched_img': False, 'bing_img': 'bing/155278/133822/18.jpg', 'bing_added_arrow': True}\n"
     ]
    },
    {
     "name": "stderr",
     "output_type": "stream",
     "text": [
      " 20%|███████▌                              | 397/2000 [19:05<1:38:25,  3.68s/it]"
     ]
    },
    {
     "name": "stdout",
     "output_type": "stream",
     "text": [
      "{'mapbox_fetched_img': False, 'mapbox_img': 'mapbox/155278/133822/18.jpg', 'mapbox_added_arrow': True, 'bing_fetched_img': False, 'bing_img': 'bing/155278/133822/18.jpg', 'bing_added_arrow': True}\n"
     ]
    },
    {
     "name": "stderr",
     "output_type": "stream",
     "text": [
      " 20%|███████▌                              | 398/2000 [19:08<1:32:23,  3.46s/it]"
     ]
    },
    {
     "name": "stdout",
     "output_type": "stream",
     "text": [
      "{'mapbox_fetched_img': False, 'mapbox_img': 'mapbox/155278/133822/18.jpg', 'mapbox_added_arrow': True, 'bing_fetched_img': False, 'bing_img': 'bing/155278/133822/18.jpg', 'bing_added_arrow': True}\n"
     ]
    },
    {
     "name": "stderr",
     "output_type": "stream",
     "text": [
      " 20%|███████▌                              | 399/2000 [19:10<1:22:23,  3.09s/it]"
     ]
    },
    {
     "name": "stdout",
     "output_type": "stream",
     "text": [
      "{'mapbox_fetched_img': False, 'mapbox_img': 'mapbox/155278/133822/18.jpg', 'mapbox_added_arrow': True, 'bing_fetched_img': False, 'bing_img': 'bing/155278/133822/18.jpg', 'bing_added_arrow': True}\n"
     ]
    },
    {
     "name": "stderr",
     "output_type": "stream",
     "text": [
      " 20%|███████▌                              | 400/2000 [19:12<1:14:52,  2.81s/it]"
     ]
    },
    {
     "name": "stdout",
     "output_type": "stream",
     "text": [
      "{'mapbox_fetched_img': False, 'mapbox_img': 'mapbox/155278/133822/18.jpg', 'mapbox_added_arrow': True, 'bing_fetched_img': False, 'bing_img': 'bing/155278/133822/18.jpg', 'bing_added_arrow': True}\n"
     ]
    },
    {
     "name": "stderr",
     "output_type": "stream",
     "text": [
      " 20%|███████▌                              | 401/2000 [19:14<1:08:15,  2.56s/it]"
     ]
    },
    {
     "name": "stdout",
     "output_type": "stream",
     "text": [
      "{'mapbox_fetched_img': False, 'mapbox_img': 'mapbox/155278/133822/18.jpg', 'mapbox_added_arrow': True, 'bing_fetched_img': False, 'bing_img': 'bing/155278/133822/18.jpg', 'bing_added_arrow': True}\n"
     ]
    },
    {
     "name": "stderr",
     "output_type": "stream",
     "text": [
      " 20%|███████▋                              | 402/2000 [19:18<1:19:53,  3.00s/it]"
     ]
    },
    {
     "name": "stdout",
     "output_type": "stream",
     "text": [
      "{'mapbox_fetched_img': False, 'mapbox_img': 'mapbox/155278/133822/18.jpg', 'mapbox_added_arrow': True, 'bing_fetched_img': False, 'bing_img': 'bing/155278/133822/18.jpg', 'bing_added_arrow': True}\n"
     ]
    },
    {
     "name": "stderr",
     "output_type": "stream",
     "text": [
      " 20%|███████▋                              | 403/2000 [19:21<1:17:08,  2.90s/it]"
     ]
    },
    {
     "name": "stdout",
     "output_type": "stream",
     "text": [
      "{'mapbox_fetched_img': False, 'mapbox_img': 'mapbox/155278/133822/18.jpg', 'mapbox_added_arrow': True, 'bing_fetched_img': False, 'bing_img': 'bing/155278/133822/18.jpg', 'bing_added_arrow': True}\n"
     ]
    },
    {
     "name": "stderr",
     "output_type": "stream",
     "text": [
      " 20%|███████▋                              | 404/2000 [19:23<1:13:44,  2.77s/it]"
     ]
    },
    {
     "name": "stdout",
     "output_type": "stream",
     "text": [
      "{'mapbox_fetched_img': False, 'mapbox_img': 'mapbox/155278/133822/18.jpg', 'mapbox_added_arrow': True, 'bing_fetched_img': False, 'bing_img': 'bing/155278/133822/18.jpg', 'bing_added_arrow': True}\n"
     ]
    },
    {
     "name": "stderr",
     "output_type": "stream",
     "text": [
      " 20%|███████▋                              | 405/2000 [19:26<1:11:11,  2.68s/it]"
     ]
    },
    {
     "name": "stdout",
     "output_type": "stream",
     "text": [
      "{'mapbox_fetched_img': False, 'mapbox_img': 'mapbox/155278/133822/18.jpg', 'mapbox_added_arrow': True, 'bing_fetched_img': False, 'bing_img': 'bing/155278/133822/18.jpg', 'bing_added_arrow': True}\n"
     ]
    },
    {
     "name": "stderr",
     "output_type": "stream",
     "text": [
      " 20%|███████▋                              | 406/2000 [19:30<1:20:43,  3.04s/it]"
     ]
    },
    {
     "name": "stdout",
     "output_type": "stream",
     "text": [
      "{'mapbox_fetched_img': False, 'mapbox_img': 'mapbox/155278/133822/18.jpg', 'mapbox_added_arrow': True, 'bing_fetched_img': False, 'bing_img': 'bing/155278/133822/18.jpg', 'bing_added_arrow': True}\n"
     ]
    },
    {
     "name": "stderr",
     "output_type": "stream",
     "text": [
      " 20%|███████▋                              | 407/2000 [19:33<1:23:49,  3.16s/it]"
     ]
    },
    {
     "name": "stdout",
     "output_type": "stream",
     "text": [
      "{'mapbox_fetched_img': False, 'mapbox_img': 'mapbox/155278/133822/18.jpg', 'mapbox_added_arrow': True, 'bing_fetched_img': False, 'bing_img': 'bing/155278/133822/18.jpg', 'bing_added_arrow': True}\n"
     ]
    },
    {
     "name": "stderr",
     "output_type": "stream",
     "text": [
      " 20%|███████▊                              | 408/2000 [19:36<1:19:24,  2.99s/it]"
     ]
    },
    {
     "name": "stdout",
     "output_type": "stream",
     "text": [
      "{'mapbox_fetched_img': False, 'mapbox_img': 'mapbox/155278/133822/18.jpg', 'mapbox_added_arrow': True, 'bing_fetched_img': False, 'bing_img': 'bing/155278/133822/18.jpg', 'bing_added_arrow': True}\n"
     ]
    },
    {
     "name": "stderr",
     "output_type": "stream",
     "text": [
      " 20%|███████▊                              | 409/2000 [19:38<1:13:56,  2.79s/it]"
     ]
    },
    {
     "name": "stdout",
     "output_type": "stream",
     "text": [
      "{'mapbox_fetched_img': False, 'mapbox_img': 'mapbox/155278/133822/18.jpg', 'mapbox_added_arrow': True, 'bing_fetched_img': False, 'bing_img': 'bing/155278/133822/18.jpg', 'bing_added_arrow': True}\n"
     ]
    },
    {
     "name": "stderr",
     "output_type": "stream",
     "text": [
      " 20%|███████▊                              | 410/2000 [19:40<1:09:22,  2.62s/it]"
     ]
    },
    {
     "name": "stdout",
     "output_type": "stream",
     "text": [
      "{'mapbox_fetched_img': False, 'mapbox_img': 'mapbox/155278/133822/18.jpg', 'mapbox_added_arrow': True, 'bing_fetched_img': False, 'bing_img': 'bing/155278/133822/18.jpg', 'bing_added_arrow': True}\n"
     ]
    },
    {
     "name": "stderr",
     "output_type": "stream",
     "text": [
      " 21%|███████▊                              | 411/2000 [19:42<1:06:19,  2.50s/it]"
     ]
    },
    {
     "name": "stdout",
     "output_type": "stream",
     "text": [
      "{'mapbox_fetched_img': False, 'mapbox_img': 'mapbox/155278/133822/18.jpg', 'mapbox_added_arrow': True, 'bing_fetched_img': False, 'bing_img': 'bing/155278/133822/18.jpg', 'bing_added_arrow': True}\n"
     ]
    },
    {
     "name": "stderr",
     "output_type": "stream",
     "text": [
      " 21%|███████▊                              | 412/2000 [19:45<1:06:18,  2.51s/it]"
     ]
    },
    {
     "name": "stdout",
     "output_type": "stream",
     "text": [
      "{'mapbox_fetched_img': False, 'mapbox_img': 'mapbox/155278/133822/18.jpg', 'mapbox_added_arrow': True, 'bing_fetched_img': False, 'bing_img': 'bing/155278/133822/18.jpg', 'bing_added_arrow': True}\n"
     ]
    },
    {
     "name": "stderr",
     "output_type": "stream",
     "text": [
      " 21%|███████▊                              | 413/2000 [19:49<1:18:04,  2.95s/it]"
     ]
    },
    {
     "name": "stdout",
     "output_type": "stream",
     "text": [
      "{'mapbox_fetched_img': False, 'mapbox_img': 'mapbox/155278/133822/18.jpg', 'mapbox_added_arrow': True, 'bing_fetched_img': False, 'bing_img': 'bing/155278/133822/18.jpg', 'bing_added_arrow': True}\n"
     ]
    },
    {
     "name": "stderr",
     "output_type": "stream",
     "text": [
      " 21%|███████▊                              | 414/2000 [19:52<1:16:03,  2.88s/it]"
     ]
    },
    {
     "name": "stdout",
     "output_type": "stream",
     "text": [
      "{'mapbox_fetched_img': False, 'mapbox_img': 'mapbox/155278/133822/18.jpg', 'mapbox_added_arrow': True, 'bing_fetched_img': False, 'bing_img': 'bing/155278/133822/18.jpg', 'bing_added_arrow': True}\n"
     ]
    },
    {
     "name": "stderr",
     "output_type": "stream",
     "text": [
      " 21%|███████▉                              | 415/2000 [19:54<1:11:36,  2.71s/it]"
     ]
    },
    {
     "name": "stdout",
     "output_type": "stream",
     "text": [
      "{'mapbox_fetched_img': False, 'mapbox_img': 'mapbox/155278/133822/18.jpg', 'mapbox_added_arrow': True, 'bing_fetched_img': False, 'bing_img': 'bing/155278/133822/18.jpg', 'bing_added_arrow': True}\n"
     ]
    },
    {
     "name": "stderr",
     "output_type": "stream",
     "text": [
      " 21%|███████▉                              | 416/2000 [19:59<1:34:02,  3.56s/it]"
     ]
    },
    {
     "name": "stdout",
     "output_type": "stream",
     "text": [
      "{'mapbox_fetched_img': False, 'mapbox_img': 'mapbox/155278/133822/18.jpg', 'mapbox_added_arrow': True, 'bing_fetched_img': False, 'bing_img': 'bing/155278/133822/18.jpg', 'bing_added_arrow': True}\n"
     ]
    },
    {
     "name": "stderr",
     "output_type": "stream",
     "text": [
      " 21%|███████▉                              | 417/2000 [20:05<1:50:01,  4.17s/it]"
     ]
    },
    {
     "name": "stdout",
     "output_type": "stream",
     "text": [
      "{'mapbox_fetched_img': False, 'mapbox_img': 'mapbox/155278/133822/18.jpg', 'mapbox_added_arrow': True, 'bing_fetched_img': False, 'bing_img': 'bing/155278/133822/18.jpg', 'bing_added_arrow': True}\n"
     ]
    },
    {
     "name": "stderr",
     "output_type": "stream",
     "text": [
      " 21%|███████▉                              | 418/2000 [20:11<2:02:27,  4.64s/it]"
     ]
    },
    {
     "name": "stdout",
     "output_type": "stream",
     "text": [
      "{'mapbox_fetched_img': False, 'mapbox_img': 'mapbox/155278/133822/18.jpg', 'mapbox_added_arrow': True, 'bing_fetched_img': False, 'bing_img': 'bing/155278/133822/18.jpg', 'bing_added_arrow': True}\n"
     ]
    },
    {
     "name": "stderr",
     "output_type": "stream",
     "text": [
      " 21%|███████▉                              | 419/2000 [20:17<2:17:02,  5.20s/it]"
     ]
    },
    {
     "name": "stdout",
     "output_type": "stream",
     "text": [
      "{'mapbox_fetched_img': False, 'mapbox_img': 'mapbox/155278/133822/18.jpg', 'mapbox_added_arrow': True, 'bing_fetched_img': False, 'bing_img': 'bing/155278/133822/18.jpg', 'bing_added_arrow': True}\n"
     ]
    },
    {
     "name": "stderr",
     "output_type": "stream",
     "text": [
      " 21%|███████▉                              | 420/2000 [20:21<2:01:14,  4.60s/it]"
     ]
    },
    {
     "name": "stdout",
     "output_type": "stream",
     "text": [
      "{'mapbox_fetched_img': False, 'mapbox_img': 'mapbox/155278/133822/18.jpg', 'mapbox_added_arrow': True, 'bing_fetched_img': False, 'bing_img': 'bing/155278/133822/18.jpg', 'bing_added_arrow': True}\n"
     ]
    },
    {
     "name": "stderr",
     "output_type": "stream",
     "text": [
      " 21%|███████▉                              | 421/2000 [20:23<1:45:17,  4.00s/it]"
     ]
    },
    {
     "name": "stdout",
     "output_type": "stream",
     "text": [
      "{'mapbox_fetched_img': False, 'mapbox_img': 'mapbox/155278/133822/18.jpg', 'mapbox_added_arrow': True, 'bing_fetched_img': False, 'bing_img': 'bing/155278/133822/18.jpg', 'bing_added_arrow': True}\n"
     ]
    },
    {
     "name": "stderr",
     "output_type": "stream",
     "text": [
      " 21%|████████                              | 422/2000 [20:26<1:36:09,  3.66s/it]"
     ]
    },
    {
     "name": "stdout",
     "output_type": "stream",
     "text": [
      "{'mapbox_fetched_img': False, 'mapbox_img': 'mapbox/155278/133822/18.jpg', 'mapbox_added_arrow': True, 'bing_fetched_img': False, 'bing_img': 'bing/155278/133822/18.jpg', 'bing_added_arrow': True}\n"
     ]
    },
    {
     "name": "stderr",
     "output_type": "stream",
     "text": [
      " 21%|████████                              | 423/2000 [20:28<1:22:55,  3.16s/it]"
     ]
    },
    {
     "name": "stdout",
     "output_type": "stream",
     "text": [
      "{'mapbox_fetched_img': False, 'mapbox_img': 'mapbox/155278/133822/18.jpg', 'mapbox_added_arrow': True, 'bing_fetched_img': False, 'bing_img': 'bing/155278/133822/18.jpg', 'bing_added_arrow': True}\n"
     ]
    },
    {
     "name": "stderr",
     "output_type": "stream",
     "text": [
      " 21%|████████                              | 424/2000 [20:31<1:22:29,  3.14s/it]"
     ]
    },
    {
     "name": "stdout",
     "output_type": "stream",
     "text": [
      "{'mapbox_fetched_img': False, 'mapbox_img': 'mapbox/155278/133822/18.jpg', 'mapbox_added_arrow': True, 'bing_fetched_img': False, 'bing_img': 'bing/155278/133822/18.jpg', 'bing_added_arrow': True}\n"
     ]
    },
    {
     "name": "stderr",
     "output_type": "stream",
     "text": [
      " 21%|████████                              | 425/2000 [20:35<1:26:31,  3.30s/it]"
     ]
    },
    {
     "name": "stdout",
     "output_type": "stream",
     "text": [
      "{'mapbox_fetched_img': False, 'mapbox_img': 'mapbox/155278/133822/18.jpg', 'mapbox_added_arrow': True, 'bing_fetched_img': False, 'bing_img': 'bing/155278/133822/18.jpg', 'bing_added_arrow': True}\n"
     ]
    },
    {
     "name": "stderr",
     "output_type": "stream",
     "text": [
      " 21%|████████                              | 426/2000 [20:39<1:35:32,  3.64s/it]"
     ]
    },
    {
     "name": "stdout",
     "output_type": "stream",
     "text": [
      "{'mapbox_fetched_img': False, 'mapbox_img': 'mapbox/155278/133822/18.jpg', 'mapbox_added_arrow': True, 'bing_fetched_img': False, 'bing_img': 'bing/155278/133822/18.jpg', 'bing_added_arrow': True}\n"
     ]
    },
    {
     "name": "stderr",
     "output_type": "stream",
     "text": [
      " 21%|████████                              | 427/2000 [20:43<1:36:37,  3.69s/it]"
     ]
    },
    {
     "name": "stdout",
     "output_type": "stream",
     "text": [
      "{'mapbox_fetched_img': False, 'mapbox_img': 'mapbox/155278/133822/18.jpg', 'mapbox_added_arrow': True, 'bing_fetched_img': False, 'bing_img': 'bing/155278/133822/18.jpg', 'bing_added_arrow': True}\n"
     ]
    },
    {
     "name": "stderr",
     "output_type": "stream",
     "text": [
      " 21%|████████▏                             | 428/2000 [20:49<1:58:17,  4.51s/it]"
     ]
    },
    {
     "name": "stdout",
     "output_type": "stream",
     "text": [
      "{'mapbox_fetched_img': False, 'mapbox_img': 'mapbox/155278/133822/18.jpg', 'mapbox_added_arrow': True, 'bing_fetched_img': False, 'bing_img': 'bing/155278/133822/18.jpg', 'bing_added_arrow': True}\n"
     ]
    },
    {
     "name": "stderr",
     "output_type": "stream",
     "text": [
      " 21%|████████▏                             | 429/2000 [20:55<2:05:34,  4.80s/it]"
     ]
    },
    {
     "name": "stdout",
     "output_type": "stream",
     "text": [
      "{'mapbox_fetched_img': False, 'mapbox_img': 'mapbox/155278/133822/18.jpg', 'mapbox_added_arrow': True, 'bing_fetched_img': False, 'bing_img': 'bing/155278/133822/18.jpg', 'bing_added_arrow': True}\n"
     ]
    },
    {
     "name": "stderr",
     "output_type": "stream",
     "text": [
      " 22%|████████▏                             | 430/2000 [21:04<2:39:55,  6.11s/it]"
     ]
    },
    {
     "name": "stdout",
     "output_type": "stream",
     "text": [
      "{'mapbox_fetched_img': False, 'mapbox_img': 'mapbox/155278/133822/18.jpg', 'mapbox_added_arrow': True, 'bing_fetched_img': False, 'bing_img': 'bing/155278/133822/18.jpg', 'bing_added_arrow': True}\n"
     ]
    },
    {
     "name": "stderr",
     "output_type": "stream",
     "text": [
      " 22%|████████▏                             | 431/2000 [21:08<2:25:51,  5.58s/it]"
     ]
    },
    {
     "name": "stdout",
     "output_type": "stream",
     "text": [
      "{'mapbox_fetched_img': False, 'mapbox_img': 'mapbox/155278/133822/18.jpg', 'mapbox_added_arrow': True, 'bing_fetched_img': False, 'bing_img': 'bing/155278/133822/18.jpg', 'bing_added_arrow': True}\n"
     ]
    },
    {
     "name": "stderr",
     "output_type": "stream",
     "text": [
      " 22%|████████▏                             | 432/2000 [21:12<2:12:28,  5.07s/it]"
     ]
    },
    {
     "name": "stdout",
     "output_type": "stream",
     "text": [
      "{'mapbox_fetched_img': False, 'mapbox_img': 'mapbox/155278/133822/18.jpg', 'mapbox_added_arrow': True, 'bing_fetched_img': False, 'bing_img': 'bing/155278/133822/18.jpg', 'bing_added_arrow': True}\n"
     ]
    },
    {
     "name": "stderr",
     "output_type": "stream",
     "text": [
      " 22%|████████▏                             | 433/2000 [21:15<1:54:46,  4.40s/it]"
     ]
    },
    {
     "name": "stdout",
     "output_type": "stream",
     "text": [
      "{'mapbox_fetched_img': False, 'mapbox_img': 'mapbox/155278/133822/18.jpg', 'mapbox_added_arrow': True, 'bing_fetched_img': False, 'bing_img': 'bing/155278/133822/18.jpg', 'bing_added_arrow': True}\n"
     ]
    },
    {
     "name": "stderr",
     "output_type": "stream",
     "text": [
      " 22%|████████▏                             | 434/2000 [21:18<1:40:26,  3.85s/it]"
     ]
    },
    {
     "name": "stdout",
     "output_type": "stream",
     "text": [
      "{'mapbox_fetched_img': False, 'mapbox_img': 'mapbox/155278/133822/18.jpg', 'mapbox_added_arrow': True, 'bing_fetched_img': False, 'bing_img': 'bing/155278/133822/18.jpg', 'bing_added_arrow': True}\n"
     ]
    },
    {
     "name": "stderr",
     "output_type": "stream",
     "text": [
      " 22%|████████▎                             | 435/2000 [21:27<2:22:26,  5.46s/it]"
     ]
    },
    {
     "name": "stdout",
     "output_type": "stream",
     "text": [
      "{'mapbox_fetched_img': False, 'mapbox_img': 'mapbox/155278/133822/18.jpg', 'mapbox_added_arrow': True, 'bing_fetched_img': False, 'bing_img': 'bing/155278/133822/18.jpg', 'bing_added_arrow': True}\n"
     ]
    },
    {
     "name": "stderr",
     "output_type": "stream",
     "text": [
      " 22%|████████▎                             | 436/2000 [21:31<2:11:58,  5.06s/it]"
     ]
    },
    {
     "name": "stdout",
     "output_type": "stream",
     "text": [
      "{'mapbox_fetched_img': False, 'mapbox_img': 'mapbox/155278/133822/18.jpg', 'mapbox_added_arrow': True, 'bing_fetched_img': False, 'bing_img': 'bing/155278/133822/18.jpg', 'bing_added_arrow': True}\n"
     ]
    },
    {
     "name": "stderr",
     "output_type": "stream",
     "text": [
      " 22%|████████▎                             | 437/2000 [21:35<2:05:36,  4.82s/it]"
     ]
    },
    {
     "name": "stdout",
     "output_type": "stream",
     "text": [
      "{'mapbox_fetched_img': False, 'mapbox_img': 'mapbox/155278/133822/18.jpg', 'mapbox_added_arrow': True, 'bing_fetched_img': False, 'bing_img': 'bing/155278/133822/18.jpg', 'bing_added_arrow': True}\n"
     ]
    },
    {
     "name": "stderr",
     "output_type": "stream",
     "text": [
      " 22%|████████▎                             | 438/2000 [21:40<2:04:30,  4.78s/it]"
     ]
    },
    {
     "name": "stdout",
     "output_type": "stream",
     "text": [
      "{'mapbox_fetched_img': False, 'mapbox_img': 'mapbox/155278/133822/18.jpg', 'mapbox_added_arrow': True, 'bing_fetched_img': False, 'bing_img': 'bing/155278/133822/18.jpg', 'bing_added_arrow': True}\n"
     ]
    },
    {
     "name": "stderr",
     "output_type": "stream",
     "text": [
      " 22%|████████▎                             | 439/2000 [21:43<1:52:04,  4.31s/it]"
     ]
    },
    {
     "name": "stdout",
     "output_type": "stream",
     "text": [
      "{'mapbox_fetched_img': False, 'mapbox_img': 'mapbox/155278/133822/18.jpg', 'mapbox_added_arrow': True, 'bing_fetched_img': False, 'bing_img': 'bing/155278/133822/18.jpg', 'bing_added_arrow': True}\n"
     ]
    },
    {
     "name": "stderr",
     "output_type": "stream",
     "text": [
      " 22%|████████▎                             | 440/2000 [21:47<1:46:50,  4.11s/it]"
     ]
    },
    {
     "name": "stdout",
     "output_type": "stream",
     "text": [
      "{'mapbox_fetched_img': False, 'mapbox_img': 'mapbox/155278/133822/18.jpg', 'mapbox_added_arrow': True, 'bing_fetched_img': False, 'bing_img': 'bing/155278/133822/18.jpg', 'bing_added_arrow': True}\n"
     ]
    },
    {
     "name": "stderr",
     "output_type": "stream",
     "text": [
      " 22%|████████▍                             | 441/2000 [21:52<1:55:23,  4.44s/it]"
     ]
    },
    {
     "name": "stdout",
     "output_type": "stream",
     "text": [
      "{'mapbox_fetched_img': False, 'mapbox_img': 'mapbox/155278/133822/18.jpg', 'mapbox_added_arrow': True, 'bing_fetched_img': False, 'bing_img': 'bing/155278/133822/18.jpg', 'bing_added_arrow': True}\n"
     ]
    },
    {
     "name": "stderr",
     "output_type": "stream",
     "text": [
      " 22%|████████▍                             | 442/2000 [21:55<1:43:23,  3.98s/it]"
     ]
    },
    {
     "name": "stdout",
     "output_type": "stream",
     "text": [
      "{'mapbox_fetched_img': False, 'mapbox_img': 'mapbox/155278/133822/18.jpg', 'mapbox_added_arrow': True, 'bing_fetched_img': False, 'bing_img': 'bing/155278/133822/18.jpg', 'bing_added_arrow': True}\n"
     ]
    },
    {
     "name": "stderr",
     "output_type": "stream",
     "text": [
      " 22%|████████▍                             | 443/2000 [22:04<2:21:08,  5.44s/it]"
     ]
    },
    {
     "name": "stdout",
     "output_type": "stream",
     "text": [
      "{'mapbox_fetched_img': False, 'mapbox_img': 'mapbox/155278/133822/18.jpg', 'mapbox_added_arrow': True, 'bing_fetched_img': False, 'bing_img': 'bing/155278/133822/18.jpg', 'bing_added_arrow': True}\n"
     ]
    },
    {
     "name": "stderr",
     "output_type": "stream",
     "text": [
      " 22%|████████▍                             | 444/2000 [22:07<2:03:30,  4.76s/it]"
     ]
    },
    {
     "name": "stdout",
     "output_type": "stream",
     "text": [
      "{'mapbox_fetched_img': False, 'mapbox_img': 'mapbox/155278/133822/18.jpg', 'mapbox_added_arrow': True, 'bing_fetched_img': False, 'bing_img': 'bing/155278/133822/18.jpg', 'bing_added_arrow': True}\n"
     ]
    },
    {
     "name": "stderr",
     "output_type": "stream",
     "text": [
      " 22%|████████▍                             | 445/2000 [22:11<1:54:06,  4.40s/it]"
     ]
    },
    {
     "name": "stdout",
     "output_type": "stream",
     "text": [
      "{'mapbox_fetched_img': False, 'mapbox_img': 'mapbox/155278/133822/18.jpg', 'mapbox_added_arrow': True, 'bing_fetched_img': False, 'bing_img': 'bing/155278/133822/18.jpg', 'bing_added_arrow': True}\n"
     ]
    },
    {
     "name": "stderr",
     "output_type": "stream",
     "text": [
      " 22%|████████▍                             | 446/2000 [22:14<1:43:10,  3.98s/it]"
     ]
    },
    {
     "name": "stdout",
     "output_type": "stream",
     "text": [
      "{'mapbox_fetched_img': False, 'mapbox_img': 'mapbox/155278/133822/18.jpg', 'mapbox_added_arrow': True, 'bing_fetched_img': False, 'bing_img': 'bing/155278/133822/18.jpg', 'bing_added_arrow': True}\n"
     ]
    },
    {
     "name": "stderr",
     "output_type": "stream",
     "text": [
      " 22%|████████▍                             | 447/2000 [22:16<1:29:21,  3.45s/it]"
     ]
    },
    {
     "name": "stdout",
     "output_type": "stream",
     "text": [
      "{'mapbox_fetched_img': False, 'mapbox_img': 'mapbox/155278/133822/18.jpg', 'mapbox_added_arrow': True, 'bing_fetched_img': False, 'bing_img': 'bing/155278/133822/18.jpg', 'bing_added_arrow': True}\n"
     ]
    },
    {
     "name": "stderr",
     "output_type": "stream",
     "text": [
      " 22%|████████▌                             | 448/2000 [22:18<1:20:19,  3.11s/it]"
     ]
    },
    {
     "name": "stdout",
     "output_type": "stream",
     "text": [
      "{'mapbox_fetched_img': False, 'mapbox_img': 'mapbox/155278/133822/18.jpg', 'mapbox_added_arrow': True, 'bing_fetched_img': False, 'bing_img': 'bing/155278/133822/18.jpg', 'bing_added_arrow': True}\n"
     ]
    },
    {
     "name": "stderr",
     "output_type": "stream",
     "text": [
      " 22%|████████▌                             | 449/2000 [22:21<1:20:24,  3.11s/it]"
     ]
    },
    {
     "name": "stdout",
     "output_type": "stream",
     "text": [
      "{'mapbox_fetched_img': False, 'mapbox_img': 'mapbox/155278/133822/18.jpg', 'mapbox_added_arrow': True, 'bing_fetched_img': False, 'bing_img': 'bing/155278/133822/18.jpg', 'bing_added_arrow': True}\n"
     ]
    },
    {
     "name": "stderr",
     "output_type": "stream",
     "text": [
      " 22%|████████▌                             | 450/2000 [22:23<1:11:25,  2.76s/it]"
     ]
    },
    {
     "name": "stdout",
     "output_type": "stream",
     "text": [
      "{'mapbox_fetched_img': False, 'mapbox_img': 'mapbox/155278/133822/18.jpg', 'mapbox_added_arrow': True, 'bing_fetched_img': False, 'bing_img': 'bing/155278/133822/18.jpg', 'bing_added_arrow': True}\n"
     ]
    },
    {
     "name": "stderr",
     "output_type": "stream",
     "text": [
      " 23%|████████▌                             | 451/2000 [22:25<1:04:40,  2.51s/it]"
     ]
    },
    {
     "name": "stdout",
     "output_type": "stream",
     "text": [
      "{'mapbox_fetched_img': False, 'mapbox_img': 'mapbox/155278/133822/18.jpg', 'mapbox_added_arrow': True, 'bing_fetched_img': False, 'bing_img': 'bing/155278/133822/18.jpg', 'bing_added_arrow': True}\n"
     ]
    },
    {
     "name": "stderr",
     "output_type": "stream",
     "text": [
      " 23%|████████▌                             | 452/2000 [22:27<1:01:14,  2.37s/it]"
     ]
    },
    {
     "name": "stdout",
     "output_type": "stream",
     "text": [
      "{'mapbox_fetched_img': False, 'mapbox_img': 'mapbox/155278/133822/18.jpg', 'mapbox_added_arrow': True, 'bing_fetched_img': False, 'bing_img': 'bing/155278/133822/18.jpg', 'bing_added_arrow': True}\n"
     ]
    },
    {
     "name": "stderr",
     "output_type": "stream",
     "text": [
      " 23%|████████▌                             | 453/2000 [22:29<1:00:30,  2.35s/it]"
     ]
    },
    {
     "name": "stdout",
     "output_type": "stream",
     "text": [
      "{'mapbox_fetched_img': False, 'mapbox_img': 'mapbox/155278/133822/18.jpg', 'mapbox_added_arrow': True, 'bing_fetched_img': False, 'bing_img': 'bing/155278/133822/18.jpg', 'bing_added_arrow': True}\n"
     ]
    },
    {
     "name": "stderr",
     "output_type": "stream",
     "text": [
      " 23%|████████▋                             | 454/2000 [22:32<1:00:14,  2.34s/it]"
     ]
    },
    {
     "name": "stdout",
     "output_type": "stream",
     "text": [
      "{'mapbox_fetched_img': False, 'mapbox_img': 'mapbox/155278/133822/18.jpg', 'mapbox_added_arrow': True, 'bing_fetched_img': False, 'bing_img': 'bing/155278/133822/18.jpg', 'bing_added_arrow': True}\n"
     ]
    },
    {
     "name": "stderr",
     "output_type": "stream",
     "text": [
      " 23%|████████▋                             | 455/2000 [22:34<1:02:12,  2.42s/it]"
     ]
    },
    {
     "name": "stdout",
     "output_type": "stream",
     "text": [
      "{'mapbox_fetched_img': False, 'mapbox_img': 'mapbox/155278/133822/18.jpg', 'mapbox_added_arrow': True, 'bing_fetched_img': False, 'bing_img': 'bing/155278/133822/18.jpg', 'bing_added_arrow': True}\n"
     ]
    },
    {
     "name": "stderr",
     "output_type": "stream",
     "text": [
      " 23%|████████▋                             | 456/2000 [22:38<1:11:08,  2.76s/it]"
     ]
    },
    {
     "name": "stdout",
     "output_type": "stream",
     "text": [
      "{'mapbox_fetched_img': False, 'mapbox_img': 'mapbox/155278/133822/18.jpg', 'mapbox_added_arrow': True, 'bing_fetched_img': False, 'bing_img': 'bing/155278/133822/18.jpg', 'bing_added_arrow': True}\n"
     ]
    },
    {
     "name": "stderr",
     "output_type": "stream",
     "text": [
      " 23%|████████▋                             | 457/2000 [22:40<1:05:18,  2.54s/it]"
     ]
    },
    {
     "name": "stdout",
     "output_type": "stream",
     "text": [
      "{'mapbox_fetched_img': False, 'mapbox_img': 'mapbox/155278/133822/18.jpg', 'mapbox_added_arrow': True, 'bing_fetched_img': False, 'bing_img': 'bing/155278/133822/18.jpg', 'bing_added_arrow': True}\n"
     ]
    },
    {
     "name": "stderr",
     "output_type": "stream",
     "text": [
      " 23%|████████▋                             | 458/2000 [22:42<1:02:59,  2.45s/it]"
     ]
    },
    {
     "name": "stdout",
     "output_type": "stream",
     "text": [
      "{'mapbox_fetched_img': False, 'mapbox_img': 'mapbox/155278/133822/18.jpg', 'mapbox_added_arrow': True, 'bing_fetched_img': False, 'bing_img': 'bing/155278/133822/18.jpg', 'bing_added_arrow': True}\n"
     ]
    },
    {
     "name": "stderr",
     "output_type": "stream",
     "text": [
      " 23%|████████▋                             | 459/2000 [22:45<1:05:52,  2.57s/it]"
     ]
    },
    {
     "name": "stdout",
     "output_type": "stream",
     "text": [
      "{'mapbox_fetched_img': False, 'mapbox_img': 'mapbox/155278/133822/18.jpg', 'mapbox_added_arrow': True, 'bing_fetched_img': False, 'bing_img': 'bing/155278/133822/18.jpg', 'bing_added_arrow': True}\n"
     ]
    },
    {
     "name": "stderr",
     "output_type": "stream",
     "text": [
      " 23%|████████▋                             | 460/2000 [22:48<1:06:41,  2.60s/it]"
     ]
    },
    {
     "name": "stdout",
     "output_type": "stream",
     "text": [
      "{'mapbox_fetched_img': False, 'mapbox_img': 'mapbox/155278/133822/18.jpg', 'mapbox_added_arrow': True, 'bing_fetched_img': False, 'bing_img': 'bing/155278/133822/18.jpg', 'bing_added_arrow': True}\n"
     ]
    },
    {
     "name": "stderr",
     "output_type": "stream",
     "text": [
      " 23%|████████▊                             | 461/2000 [22:51<1:15:12,  2.93s/it]"
     ]
    },
    {
     "name": "stdout",
     "output_type": "stream",
     "text": [
      "{'mapbox_fetched_img': False, 'mapbox_img': 'mapbox/155278/133822/18.jpg', 'mapbox_added_arrow': True, 'bing_fetched_img': False, 'bing_img': 'bing/155278/133822/18.jpg', 'bing_added_arrow': True}\n"
     ]
    },
    {
     "name": "stderr",
     "output_type": "stream",
     "text": [
      " 23%|████████▊                             | 462/2000 [22:54<1:13:34,  2.87s/it]"
     ]
    },
    {
     "name": "stdout",
     "output_type": "stream",
     "text": [
      "{'mapbox_fetched_img': False, 'mapbox_img': 'mapbox/155278/133822/18.jpg', 'mapbox_added_arrow': True, 'bing_fetched_img': False, 'bing_img': 'bing/155278/133822/18.jpg', 'bing_added_arrow': True}\n"
     ]
    },
    {
     "name": "stderr",
     "output_type": "stream",
     "text": [
      " 23%|████████▊                             | 463/2000 [22:56<1:07:13,  2.62s/it]"
     ]
    },
    {
     "name": "stdout",
     "output_type": "stream",
     "text": [
      "{'mapbox_fetched_img': False, 'mapbox_img': 'mapbox/155278/133822/18.jpg', 'mapbox_added_arrow': True, 'bing_fetched_img': False, 'bing_img': 'bing/155278/133822/18.jpg', 'bing_added_arrow': True}\n"
     ]
    },
    {
     "name": "stderr",
     "output_type": "stream",
     "text": [
      " 23%|████████▊                             | 464/2000 [22:58<1:02:35,  2.45s/it]"
     ]
    },
    {
     "name": "stdout",
     "output_type": "stream",
     "text": [
      "{'mapbox_fetched_img': False, 'mapbox_img': 'mapbox/155278/133822/18.jpg', 'mapbox_added_arrow': True, 'bing_fetched_img': False, 'bing_img': 'bing/155278/133822/18.jpg', 'bing_added_arrow': True}\n"
     ]
    },
    {
     "name": "stderr",
     "output_type": "stream",
     "text": [
      " 23%|████████▊                             | 465/2000 [23:01<1:02:52,  2.46s/it]"
     ]
    },
    {
     "name": "stdout",
     "output_type": "stream",
     "text": [
      "{'mapbox_fetched_img': False, 'mapbox_img': 'mapbox/155278/133822/18.jpg', 'mapbox_added_arrow': True, 'bing_fetched_img': False, 'bing_img': 'bing/155278/133822/18.jpg', 'bing_added_arrow': True}\n"
     ]
    },
    {
     "name": "stderr",
     "output_type": "stream",
     "text": [
      " 23%|████████▊                             | 466/2000 [23:04<1:11:04,  2.78s/it]"
     ]
    },
    {
     "name": "stdout",
     "output_type": "stream",
     "text": [
      "{'mapbox_fetched_img': False, 'mapbox_img': 'mapbox/155278/133822/18.jpg', 'mapbox_added_arrow': True, 'bing_fetched_img': False, 'bing_img': 'bing/155278/133822/18.jpg', 'bing_added_arrow': True}\n"
     ]
    },
    {
     "name": "stderr",
     "output_type": "stream",
     "text": [
      " 23%|████████▊                             | 467/2000 [23:12<1:52:21,  4.40s/it]"
     ]
    },
    {
     "name": "stdout",
     "output_type": "stream",
     "text": [
      "{'mapbox_fetched_img': False, 'mapbox_img': 'mapbox/155278/133822/18.jpg', 'mapbox_added_arrow': True, 'bing_fetched_img': False, 'bing_img': 'bing/155278/133822/18.jpg', 'bing_added_arrow': True}\n"
     ]
    },
    {
     "name": "stderr",
     "output_type": "stream",
     "text": [
      " 23%|████████▉                             | 468/2000 [23:18<1:58:54,  4.66s/it]"
     ]
    },
    {
     "name": "stdout",
     "output_type": "stream",
     "text": [
      "{'mapbox_fetched_img': False, 'mapbox_img': 'mapbox/155278/133822/18.jpg', 'mapbox_added_arrow': True, 'bing_fetched_img': False, 'bing_img': 'bing/155278/133822/18.jpg', 'bing_added_arrow': True}\n"
     ]
    },
    {
     "name": "stderr",
     "output_type": "stream",
     "text": [
      " 23%|████████▉                             | 469/2000 [23:22<2:00:17,  4.71s/it]"
     ]
    },
    {
     "name": "stdout",
     "output_type": "stream",
     "text": [
      "{'mapbox_fetched_img': False, 'mapbox_img': 'mapbox/155278/133822/18.jpg', 'mapbox_added_arrow': True, 'bing_fetched_img': False, 'bing_img': 'bing/155278/133822/18.jpg', 'bing_added_arrow': True}\n"
     ]
    },
    {
     "name": "stderr",
     "output_type": "stream",
     "text": [
      " 24%|████████▉                             | 470/2000 [23:29<2:12:41,  5.20s/it]"
     ]
    },
    {
     "name": "stdout",
     "output_type": "stream",
     "text": [
      "{'mapbox_fetched_img': False, 'mapbox_img': 'mapbox/155278/133822/18.jpg', 'mapbox_added_arrow': True, 'bing_fetched_img': False, 'bing_img': 'bing/155278/133822/18.jpg', 'bing_added_arrow': True}\n"
     ]
    },
    {
     "name": "stderr",
     "output_type": "stream",
     "text": [
      " 24%|████████▉                             | 471/2000 [23:31<1:53:15,  4.44s/it]"
     ]
    },
    {
     "name": "stdout",
     "output_type": "stream",
     "text": [
      "{'mapbox_fetched_img': False, 'mapbox_img': 'mapbox/155278/133822/18.jpg', 'mapbox_added_arrow': True, 'bing_fetched_img': False, 'bing_img': 'bing/155278/133822/18.jpg', 'bing_added_arrow': True}\n"
     ]
    },
    {
     "name": "stderr",
     "output_type": "stream",
     "text": [
      " 24%|████████▉                             | 472/2000 [23:35<1:43:00,  4.04s/it]"
     ]
    },
    {
     "name": "stdout",
     "output_type": "stream",
     "text": [
      "{'mapbox_fetched_img': False, 'mapbox_img': 'mapbox/155278/133822/18.jpg', 'mapbox_added_arrow': True, 'bing_fetched_img': False, 'bing_img': 'bing/155278/133822/18.jpg', 'bing_added_arrow': True}\n"
     ]
    },
    {
     "name": "stderr",
     "output_type": "stream",
     "text": [
      " 24%|████████▉                             | 473/2000 [23:38<1:37:40,  3.84s/it]"
     ]
    },
    {
     "name": "stdout",
     "output_type": "stream",
     "text": [
      "{'mapbox_fetched_img': False, 'mapbox_img': 'mapbox/155278/133822/18.jpg', 'mapbox_added_arrow': True, 'bing_fetched_img': False, 'bing_img': 'bing/155278/133822/18.jpg', 'bing_added_arrow': True}\n"
     ]
    },
    {
     "name": "stderr",
     "output_type": "stream",
     "text": [
      " 24%|█████████                             | 474/2000 [23:42<1:37:29,  3.83s/it]"
     ]
    },
    {
     "name": "stdout",
     "output_type": "stream",
     "text": [
      "{'mapbox_fetched_img': False, 'mapbox_img': 'mapbox/155278/133822/18.jpg', 'mapbox_added_arrow': True, 'bing_fetched_img': False, 'bing_img': 'bing/155278/133822/18.jpg', 'bing_added_arrow': True}\n"
     ]
    },
    {
     "name": "stderr",
     "output_type": "stream",
     "text": [
      " 24%|█████████                             | 475/2000 [23:44<1:27:29,  3.44s/it]"
     ]
    },
    {
     "name": "stdout",
     "output_type": "stream",
     "text": [
      "{'mapbox_fetched_img': False, 'mapbox_img': 'mapbox/155278/133822/18.jpg', 'mapbox_added_arrow': True, 'bing_fetched_img': False, 'bing_img': 'bing/155278/133822/18.jpg', 'bing_added_arrow': True}\n"
     ]
    },
    {
     "name": "stderr",
     "output_type": "stream",
     "text": [
      " 24%|█████████                             | 476/2000 [23:48<1:26:28,  3.40s/it]"
     ]
    },
    {
     "name": "stdout",
     "output_type": "stream",
     "text": [
      "{'mapbox_fetched_img': False, 'mapbox_img': 'mapbox/155278/133822/18.jpg', 'mapbox_added_arrow': True, 'bing_fetched_img': False, 'bing_img': 'bing/155278/133822/18.jpg', 'bing_added_arrow': True}\n"
     ]
    },
    {
     "name": "stderr",
     "output_type": "stream",
     "text": [
      " 24%|█████████                             | 477/2000 [23:51<1:24:50,  3.34s/it]"
     ]
    },
    {
     "name": "stdout",
     "output_type": "stream",
     "text": [
      "{'mapbox_fetched_img': False, 'mapbox_img': 'mapbox/155278/133822/18.jpg', 'mapbox_added_arrow': True, 'bing_fetched_img': False, 'bing_img': 'bing/155278/133822/18.jpg', 'bing_added_arrow': True}\n"
     ]
    },
    {
     "name": "stderr",
     "output_type": "stream",
     "text": [
      " 24%|█████████                             | 478/2000 [23:54<1:21:10,  3.20s/it]"
     ]
    },
    {
     "name": "stdout",
     "output_type": "stream",
     "text": [
      "{'mapbox_fetched_img': False, 'mapbox_img': 'mapbox/155278/133822/18.jpg', 'mapbox_added_arrow': True, 'bing_fetched_img': False, 'bing_img': 'bing/155278/133822/18.jpg', 'bing_added_arrow': True}\n"
     ]
    },
    {
     "name": "stderr",
     "output_type": "stream",
     "text": [
      " 24%|█████████                             | 479/2000 [23:56<1:13:46,  2.91s/it]"
     ]
    },
    {
     "name": "stdout",
     "output_type": "stream",
     "text": [
      "{'mapbox_fetched_img': False, 'mapbox_img': 'mapbox/155278/133822/18.jpg', 'mapbox_added_arrow': True, 'bing_fetched_img': False, 'bing_img': 'bing/155278/133822/18.jpg', 'bing_added_arrow': True}\n"
     ]
    },
    {
     "name": "stderr",
     "output_type": "stream",
     "text": [
      " 24%|█████████                             | 480/2000 [24:01<1:32:35,  3.65s/it]"
     ]
    },
    {
     "name": "stdout",
     "output_type": "stream",
     "text": [
      "{'mapbox_fetched_img': False, 'mapbox_img': 'mapbox/155278/133822/18.jpg', 'mapbox_added_arrow': True, 'bing_fetched_img': False, 'bing_img': 'bing/155278/133822/18.jpg', 'bing_added_arrow': True}\n"
     ]
    },
    {
     "name": "stderr",
     "output_type": "stream",
     "text": [
      " 24%|█████████▏                            | 481/2000 [24:04<1:23:50,  3.31s/it]"
     ]
    },
    {
     "name": "stdout",
     "output_type": "stream",
     "text": [
      "{'mapbox_fetched_img': False, 'mapbox_img': 'mapbox/155278/133822/18.jpg', 'mapbox_added_arrow': True, 'bing_fetched_img': False, 'bing_img': 'bing/155278/133822/18.jpg', 'bing_added_arrow': True}\n"
     ]
    },
    {
     "name": "stderr",
     "output_type": "stream",
     "text": [
      " 24%|█████████▏                            | 482/2000 [24:06<1:17:19,  3.06s/it]"
     ]
    },
    {
     "name": "stdout",
     "output_type": "stream",
     "text": [
      "{'mapbox_fetched_img': False, 'mapbox_img': 'mapbox/155278/133822/18.jpg', 'mapbox_added_arrow': True, 'bing_fetched_img': False, 'bing_img': 'bing/155278/133822/18.jpg', 'bing_added_arrow': True}\n"
     ]
    },
    {
     "name": "stderr",
     "output_type": "stream",
     "text": [
      " 24%|█████████▏                            | 483/2000 [24:09<1:16:45,  3.04s/it]"
     ]
    },
    {
     "name": "stdout",
     "output_type": "stream",
     "text": [
      "{'mapbox_fetched_img': False, 'mapbox_img': 'mapbox/155278/133822/18.jpg', 'mapbox_added_arrow': True, 'bing_fetched_img': False, 'bing_img': 'bing/155278/133822/18.jpg', 'bing_added_arrow': True}\n"
     ]
    },
    {
     "name": "stderr",
     "output_type": "stream",
     "text": [
      " 24%|█████████▏                            | 484/2000 [24:11<1:09:51,  2.76s/it]"
     ]
    },
    {
     "name": "stdout",
     "output_type": "stream",
     "text": [
      "{'mapbox_fetched_img': False, 'mapbox_img': 'mapbox/155278/133822/18.jpg', 'mapbox_added_arrow': True, 'bing_fetched_img': False, 'bing_img': 'bing/155278/133822/18.jpg', 'bing_added_arrow': True}\n"
     ]
    },
    {
     "name": "stderr",
     "output_type": "stream",
     "text": [
      " 24%|█████████▏                            | 485/2000 [24:13<1:02:47,  2.49s/it]"
     ]
    },
    {
     "name": "stdout",
     "output_type": "stream",
     "text": [
      "{'mapbox_fetched_img': False, 'mapbox_img': 'mapbox/155278/133822/18.jpg', 'mapbox_added_arrow': True, 'bing_fetched_img': False, 'bing_img': 'bing/155278/133822/18.jpg', 'bing_added_arrow': True}\n"
     ]
    },
    {
     "name": "stderr",
     "output_type": "stream",
     "text": [
      " 24%|█████████▏                            | 486/2000 [24:15<1:00:43,  2.41s/it]"
     ]
    },
    {
     "name": "stdout",
     "output_type": "stream",
     "text": [
      "{'mapbox_fetched_img': False, 'mapbox_img': 'mapbox/155278/133822/18.jpg', 'mapbox_added_arrow': True, 'bing_fetched_img': False, 'bing_img': 'bing/155278/133822/18.jpg', 'bing_added_arrow': True}\n"
     ]
    },
    {
     "name": "stderr",
     "output_type": "stream",
     "text": [
      " 24%|█████████▋                              | 487/2000 [24:17<56:29,  2.24s/it]"
     ]
    },
    {
     "name": "stdout",
     "output_type": "stream",
     "text": [
      "{'mapbox_fetched_img': False, 'mapbox_img': 'mapbox/155278/133822/18.jpg', 'mapbox_added_arrow': True, 'bing_fetched_img': False, 'bing_img': 'bing/155278/133822/18.jpg', 'bing_added_arrow': True}\n"
     ]
    },
    {
     "name": "stderr",
     "output_type": "stream",
     "text": [
      " 24%|█████████▊                              | 488/2000 [24:19<53:28,  2.12s/it]"
     ]
    },
    {
     "name": "stdout",
     "output_type": "stream",
     "text": [
      "{'mapbox_fetched_img': False, 'mapbox_img': 'mapbox/155278/133822/18.jpg', 'mapbox_added_arrow': True, 'bing_fetched_img': False, 'bing_img': 'bing/155278/133822/18.jpg', 'bing_added_arrow': True}\n"
     ]
    },
    {
     "name": "stderr",
     "output_type": "stream",
     "text": [
      " 24%|█████████▊                              | 489/2000 [24:22<57:21,  2.28s/it]"
     ]
    },
    {
     "name": "stdout",
     "output_type": "stream",
     "text": [
      "{'mapbox_fetched_img': False, 'mapbox_img': 'mapbox/155278/133822/18.jpg', 'mapbox_added_arrow': True, 'bing_fetched_img': False, 'bing_img': 'bing/155278/133822/18.jpg', 'bing_added_arrow': True}\n"
     ]
    },
    {
     "name": "stderr",
     "output_type": "stream",
     "text": [
      " 24%|█████████▊                              | 490/2000 [24:24<58:23,  2.32s/it]"
     ]
    },
    {
     "name": "stdout",
     "output_type": "stream",
     "text": [
      "{'mapbox_fetched_img': False, 'mapbox_img': 'mapbox/155278/133822/18.jpg', 'mapbox_added_arrow': True, 'bing_fetched_img': False, 'bing_img': 'bing/155278/133822/18.jpg', 'bing_added_arrow': True}\n"
     ]
    },
    {
     "name": "stderr",
     "output_type": "stream",
     "text": [
      " 25%|█████████▊                              | 491/2000 [24:27<58:52,  2.34s/it]"
     ]
    },
    {
     "name": "stdout",
     "output_type": "stream",
     "text": [
      "{'mapbox_fetched_img': False, 'mapbox_img': 'mapbox/155278/133822/18.jpg', 'mapbox_added_arrow': True, 'bing_fetched_img': False, 'bing_img': 'bing/155278/133822/18.jpg', 'bing_added_arrow': True}\n"
     ]
    },
    {
     "name": "stderr",
     "output_type": "stream",
     "text": [
      " 25%|█████████▊                              | 492/2000 [24:28<54:39,  2.17s/it]"
     ]
    },
    {
     "name": "stdout",
     "output_type": "stream",
     "text": [
      "{'mapbox_fetched_img': False, 'mapbox_img': 'mapbox/155278/133822/18.jpg', 'mapbox_added_arrow': True, 'bing_fetched_img': False, 'bing_img': 'bing/155278/133822/18.jpg', 'bing_added_arrow': True}\n"
     ]
    },
    {
     "name": "stderr",
     "output_type": "stream",
     "text": [
      " 25%|█████████▊                              | 493/2000 [24:30<53:05,  2.11s/it]"
     ]
    },
    {
     "name": "stdout",
     "output_type": "stream",
     "text": [
      "{'mapbox_fetched_img': False, 'mapbox_img': 'mapbox/155278/133822/18.jpg', 'mapbox_added_arrow': True, 'bing_fetched_img': False, 'bing_img': 'bing/155278/133822/18.jpg', 'bing_added_arrow': True}\n"
     ]
    },
    {
     "name": "stderr",
     "output_type": "stream",
     "text": [
      " 25%|█████████▉                              | 494/2000 [24:32<49:55,  1.99s/it]"
     ]
    },
    {
     "name": "stdout",
     "output_type": "stream",
     "text": [
      "{'mapbox_fetched_img': False, 'mapbox_img': 'mapbox/155278/133822/18.jpg', 'mapbox_added_arrow': True, 'bing_fetched_img': False, 'bing_img': 'bing/155278/133822/18.jpg', 'bing_added_arrow': True}\n"
     ]
    },
    {
     "name": "stderr",
     "output_type": "stream",
     "text": [
      " 25%|█████████▉                              | 495/2000 [24:35<59:32,  2.37s/it]"
     ]
    },
    {
     "name": "stdout",
     "output_type": "stream",
     "text": [
      "{'mapbox_fetched_img': False, 'mapbox_img': 'mapbox/155278/133822/18.jpg', 'mapbox_added_arrow': True, 'bing_fetched_img': False, 'bing_img': 'bing/155278/133822/18.jpg', 'bing_added_arrow': True}\n"
     ]
    },
    {
     "name": "stderr",
     "output_type": "stream",
     "text": [
      " 25%|█████████▍                            | 496/2000 [24:39<1:11:36,  2.86s/it]"
     ]
    },
    {
     "name": "stdout",
     "output_type": "stream",
     "text": [
      "{'mapbox_fetched_img': False, 'mapbox_img': 'mapbox/155278/133822/18.jpg', 'mapbox_added_arrow': True, 'bing_fetched_img': False, 'bing_img': 'bing/155278/133822/18.jpg', 'bing_added_arrow': True}\n"
     ]
    },
    {
     "name": "stderr",
     "output_type": "stream",
     "text": [
      " 25%|█████████▍                            | 497/2000 [24:42<1:09:35,  2.78s/it]"
     ]
    },
    {
     "name": "stdout",
     "output_type": "stream",
     "text": [
      "{'mapbox_fetched_img': False, 'mapbox_img': 'mapbox/155278/133822/18.jpg', 'mapbox_added_arrow': True, 'bing_fetched_img': False, 'bing_img': 'bing/155278/133822/18.jpg', 'bing_added_arrow': True}\n"
     ]
    },
    {
     "name": "stderr",
     "output_type": "stream",
     "text": [
      " 25%|█████████▍                            | 498/2000 [24:45<1:13:00,  2.92s/it]"
     ]
    },
    {
     "name": "stdout",
     "output_type": "stream",
     "text": [
      "{'mapbox_fetched_img': False, 'mapbox_img': 'mapbox/155278/133822/18.jpg', 'mapbox_added_arrow': True, 'bing_fetched_img': False, 'bing_img': 'bing/155278/133822/18.jpg', 'bing_added_arrow': True}\n"
     ]
    },
    {
     "name": "stderr",
     "output_type": "stream",
     "text": [
      " 25%|█████████▍                            | 499/2000 [24:49<1:16:43,  3.07s/it]"
     ]
    },
    {
     "name": "stdout",
     "output_type": "stream",
     "text": [
      "{'mapbox_fetched_img': False, 'mapbox_img': 'mapbox/155278/133822/18.jpg', 'mapbox_added_arrow': True, 'bing_fetched_img': False, 'bing_img': 'bing/155278/133822/18.jpg', 'bing_added_arrow': True}\n"
     ]
    },
    {
     "name": "stderr",
     "output_type": "stream",
     "text": [
      " 25%|█████████▌                            | 500/2000 [24:51<1:09:52,  2.80s/it]"
     ]
    },
    {
     "name": "stdout",
     "output_type": "stream",
     "text": [
      "{'mapbox_fetched_img': False, 'mapbox_img': 'mapbox/155278/133822/18.jpg', 'mapbox_added_arrow': True, 'bing_fetched_img': False, 'bing_img': 'bing/155278/133822/18.jpg', 'bing_added_arrow': True}\n"
     ]
    },
    {
     "name": "stderr",
     "output_type": "stream",
     "text": [
      " 25%|█████████▌                            | 501/2000 [24:53<1:03:43,  2.55s/it]"
     ]
    },
    {
     "name": "stdout",
     "output_type": "stream",
     "text": [
      "{'mapbox_fetched_img': False, 'mapbox_img': 'mapbox/155278/133822/18.jpg', 'mapbox_added_arrow': True, 'bing_fetched_img': False, 'bing_img': 'bing/155278/133822/18.jpg', 'bing_added_arrow': True}\n"
     ]
    },
    {
     "name": "stderr",
     "output_type": "stream",
     "text": [
      " 25%|█████████▌                            | 502/2000 [24:55<1:00:29,  2.42s/it]"
     ]
    },
    {
     "name": "stdout",
     "output_type": "stream",
     "text": [
      "{'mapbox_fetched_img': False, 'mapbox_img': 'mapbox/155278/133822/18.jpg', 'mapbox_added_arrow': True, 'bing_fetched_img': False, 'bing_img': 'bing/155278/133822/18.jpg', 'bing_added_arrow': True}\n"
     ]
    },
    {
     "name": "stderr",
     "output_type": "stream",
     "text": [
      " 25%|█████████▌                            | 503/2000 [24:59<1:10:29,  2.83s/it]"
     ]
    },
    {
     "name": "stdout",
     "output_type": "stream",
     "text": [
      "{'mapbox_fetched_img': False, 'mapbox_img': 'mapbox/155278/133822/18.jpg', 'mapbox_added_arrow': True, 'bing_fetched_img': False, 'bing_img': 'bing/155278/133822/18.jpg', 'bing_added_arrow': True}\n"
     ]
    },
    {
     "name": "stderr",
     "output_type": "stream",
     "text": [
      " 25%|█████████▌                            | 504/2000 [25:01<1:04:51,  2.60s/it]"
     ]
    },
    {
     "name": "stdout",
     "output_type": "stream",
     "text": [
      "{'mapbox_fetched_img': False, 'mapbox_img': 'mapbox/155278/133822/18.jpg', 'mapbox_added_arrow': True, 'bing_fetched_img': False, 'bing_img': 'bing/155278/133822/18.jpg', 'bing_added_arrow': True}\n"
     ]
    },
    {
     "name": "stderr",
     "output_type": "stream",
     "text": [
      " 25%|█████████▌                            | 505/2000 [25:06<1:25:38,  3.44s/it]"
     ]
    },
    {
     "name": "stdout",
     "output_type": "stream",
     "text": [
      "{'mapbox_fetched_img': False, 'mapbox_img': 'mapbox/155278/133822/18.jpg', 'mapbox_added_arrow': True, 'bing_fetched_img': False, 'bing_img': 'bing/155278/133822/18.jpg', 'bing_added_arrow': True}\n"
     ]
    },
    {
     "name": "stderr",
     "output_type": "stream",
     "text": [
      " 25%|█████████▌                            | 506/2000 [25:09<1:19:04,  3.18s/it]"
     ]
    },
    {
     "name": "stdout",
     "output_type": "stream",
     "text": [
      "{'mapbox_fetched_img': False, 'mapbox_img': 'mapbox/155278/133822/18.jpg', 'mapbox_added_arrow': True, 'bing_fetched_img': False, 'bing_img': 'bing/155278/133822/18.jpg', 'bing_added_arrow': True}\n"
     ]
    },
    {
     "name": "stderr",
     "output_type": "stream",
     "text": [
      " 25%|█████████▋                            | 507/2000 [25:11<1:12:12,  2.90s/it]"
     ]
    },
    {
     "name": "stdout",
     "output_type": "stream",
     "text": [
      "{'mapbox_fetched_img': False, 'mapbox_img': 'mapbox/155278/133822/18.jpg', 'mapbox_added_arrow': True, 'bing_fetched_img': False, 'bing_img': 'bing/155278/133822/18.jpg', 'bing_added_arrow': True}\n"
     ]
    },
    {
     "name": "stderr",
     "output_type": "stream",
     "text": [
      " 25%|█████████▋                            | 508/2000 [25:13<1:06:29,  2.67s/it]"
     ]
    },
    {
     "name": "stdout",
     "output_type": "stream",
     "text": [
      "{'mapbox_fetched_img': False, 'mapbox_img': 'mapbox/155278/133822/18.jpg', 'mapbox_added_arrow': True, 'bing_fetched_img': False, 'bing_img': 'bing/155278/133822/18.jpg', 'bing_added_arrow': True}\n"
     ]
    },
    {
     "name": "stderr",
     "output_type": "stream",
     "text": [
      " 25%|█████████▋                            | 509/2000 [25:15<1:04:17,  2.59s/it]"
     ]
    },
    {
     "name": "stdout",
     "output_type": "stream",
     "text": [
      "{'mapbox_fetched_img': False, 'mapbox_img': 'mapbox/155278/133822/18.jpg', 'mapbox_added_arrow': True, 'bing_fetched_img': False, 'bing_img': 'bing/155278/133822/18.jpg', 'bing_added_arrow': True}\n"
     ]
    },
    {
     "name": "stderr",
     "output_type": "stream",
     "text": [
      " 26%|██████████▏                             | 510/2000 [25:17<57:54,  2.33s/it]"
     ]
    },
    {
     "name": "stdout",
     "output_type": "stream",
     "text": [
      "{'mapbox_fetched_img': False, 'mapbox_img': 'mapbox/155278/133822/18.jpg', 'mapbox_added_arrow': True, 'bing_fetched_img': False, 'bing_img': 'bing/155278/133822/18.jpg', 'bing_added_arrow': True}\n"
     ]
    },
    {
     "name": "stderr",
     "output_type": "stream",
     "text": [
      " 26%|██████████▏                             | 511/2000 [25:19<53:57,  2.17s/it]"
     ]
    },
    {
     "name": "stdout",
     "output_type": "stream",
     "text": [
      "{'mapbox_fetched_img': False, 'mapbox_img': 'mapbox/155278/133822/18.jpg', 'mapbox_added_arrow': True, 'bing_fetched_img': False, 'bing_img': 'bing/155278/133822/18.jpg', 'bing_added_arrow': True}\n"
     ]
    },
    {
     "name": "stderr",
     "output_type": "stream",
     "text": [
      " 26%|██████████▏                             | 512/2000 [25:21<55:25,  2.23s/it]"
     ]
    },
    {
     "name": "stdout",
     "output_type": "stream",
     "text": [
      "{'mapbox_fetched_img': False, 'mapbox_img': 'mapbox/155278/133822/18.jpg', 'mapbox_added_arrow': True, 'bing_fetched_img': False, 'bing_img': 'bing/155278/133822/18.jpg', 'bing_added_arrow': True}\n"
     ]
    },
    {
     "name": "stderr",
     "output_type": "stream",
     "text": [
      " 26%|██████████▎                             | 513/2000 [25:23<54:09,  2.19s/it]"
     ]
    },
    {
     "name": "stdout",
     "output_type": "stream",
     "text": [
      "{'mapbox_fetched_img': False, 'mapbox_img': 'mapbox/155278/133822/18.jpg', 'mapbox_added_arrow': True, 'bing_fetched_img': False, 'bing_img': 'bing/155278/133822/18.jpg', 'bing_added_arrow': True}\n"
     ]
    },
    {
     "name": "stderr",
     "output_type": "stream",
     "text": [
      " 26%|██████████▎                             | 514/2000 [25:25<51:35,  2.08s/it]"
     ]
    },
    {
     "name": "stdout",
     "output_type": "stream",
     "text": [
      "{'mapbox_fetched_img': False, 'mapbox_img': 'mapbox/155278/133822/18.jpg', 'mapbox_added_arrow': True, 'bing_fetched_img': False, 'bing_img': 'bing/155278/133822/18.jpg', 'bing_added_arrow': True}\n"
     ]
    },
    {
     "name": "stderr",
     "output_type": "stream",
     "text": [
      " 26%|██████████▎                             | 515/2000 [25:27<50:58,  2.06s/it]"
     ]
    },
    {
     "name": "stdout",
     "output_type": "stream",
     "text": [
      "{'mapbox_fetched_img': False, 'mapbox_img': 'mapbox/155278/133822/18.jpg', 'mapbox_added_arrow': True, 'bing_fetched_img': False, 'bing_img': 'bing/155278/133822/18.jpg', 'bing_added_arrow': True}\n"
     ]
    },
    {
     "name": "stderr",
     "output_type": "stream",
     "text": [
      " 26%|██████████▎                             | 516/2000 [25:30<56:35,  2.29s/it]"
     ]
    },
    {
     "name": "stdout",
     "output_type": "stream",
     "text": [
      "{'mapbox_fetched_img': False, 'mapbox_img': 'mapbox/155278/133822/18.jpg', 'mapbox_added_arrow': True, 'bing_fetched_img': False, 'bing_img': 'bing/155278/133822/18.jpg', 'bing_added_arrow': True}\n"
     ]
    },
    {
     "name": "stderr",
     "output_type": "stream",
     "text": [
      " 26%|██████████▎                             | 517/2000 [25:32<53:59,  2.18s/it]"
     ]
    },
    {
     "name": "stdout",
     "output_type": "stream",
     "text": [
      "{'mapbox_fetched_img': False, 'mapbox_img': 'mapbox/155278/133822/18.jpg', 'mapbox_added_arrow': True, 'bing_fetched_img': False, 'bing_img': 'bing/155278/133822/18.jpg', 'bing_added_arrow': True}\n"
     ]
    },
    {
     "name": "stderr",
     "output_type": "stream",
     "text": [
      " 26%|█████████▊                            | 518/2000 [25:35<1:02:09,  2.52s/it]"
     ]
    },
    {
     "name": "stdout",
     "output_type": "stream",
     "text": [
      "{'mapbox_fetched_img': False, 'mapbox_img': 'mapbox/155278/133822/18.jpg', 'mapbox_added_arrow': True, 'bing_fetched_img': False, 'bing_img': 'bing/155278/133822/18.jpg', 'bing_added_arrow': True}\n"
     ]
    },
    {
     "name": "stderr",
     "output_type": "stream",
     "text": [
      " 26%|██████████▍                             | 519/2000 [25:37<58:01,  2.35s/it]"
     ]
    },
    {
     "name": "stdout",
     "output_type": "stream",
     "text": [
      "{'mapbox_fetched_img': False, 'mapbox_img': 'mapbox/155278/133822/18.jpg', 'mapbox_added_arrow': True, 'bing_fetched_img': False, 'bing_img': 'bing/155278/133822/18.jpg', 'bing_added_arrow': True}\n"
     ]
    },
    {
     "name": "stderr",
     "output_type": "stream",
     "text": [
      " 26%|██████████▍                             | 520/2000 [25:39<55:08,  2.24s/it]"
     ]
    },
    {
     "name": "stdout",
     "output_type": "stream",
     "text": [
      "{'mapbox_fetched_img': False, 'mapbox_img': 'mapbox/155278/133822/18.jpg', 'mapbox_added_arrow': True, 'bing_fetched_img': False, 'bing_img': 'bing/155278/133822/18.jpg', 'bing_added_arrow': True}\n"
     ]
    },
    {
     "name": "stderr",
     "output_type": "stream",
     "text": [
      " 26%|██████████▍                             | 521/2000 [25:41<53:48,  2.18s/it]"
     ]
    },
    {
     "name": "stdout",
     "output_type": "stream",
     "text": [
      "{'mapbox_fetched_img': False, 'mapbox_img': 'mapbox/155278/133822/18.jpg', 'mapbox_added_arrow': True, 'bing_fetched_img': False, 'bing_img': 'bing/155278/133822/18.jpg', 'bing_added_arrow': True}\n"
     ]
    },
    {
     "name": "stderr",
     "output_type": "stream",
     "text": [
      " 26%|██████████▍                             | 522/2000 [25:43<52:26,  2.13s/it]"
     ]
    },
    {
     "name": "stdout",
     "output_type": "stream",
     "text": [
      "{'mapbox_fetched_img': False, 'mapbox_img': 'mapbox/155278/133822/18.jpg', 'mapbox_added_arrow': True, 'bing_fetched_img': False, 'bing_img': 'bing/155278/133822/18.jpg', 'bing_added_arrow': True}\n"
     ]
    },
    {
     "name": "stderr",
     "output_type": "stream",
     "text": [
      " 26%|█████████▉                            | 523/2000 [25:47<1:07:28,  2.74s/it]"
     ]
    },
    {
     "name": "stdout",
     "output_type": "stream",
     "text": [
      "{'mapbox_fetched_img': False, 'mapbox_img': 'mapbox/155278/133822/18.jpg', 'mapbox_added_arrow': True, 'bing_fetched_img': False, 'bing_img': 'bing/155278/133822/18.jpg', 'bing_added_arrow': True}\n"
     ]
    },
    {
     "name": "stderr",
     "output_type": "stream",
     "text": [
      " 26%|█████████▉                            | 524/2000 [25:50<1:04:32,  2.62s/it]"
     ]
    },
    {
     "name": "stdout",
     "output_type": "stream",
     "text": [
      "{'mapbox_fetched_img': False, 'mapbox_img': 'mapbox/155278/133822/18.jpg', 'mapbox_added_arrow': True, 'bing_fetched_img': False, 'bing_img': 'bing/155278/133822/18.jpg', 'bing_added_arrow': True}\n"
     ]
    },
    {
     "name": "stderr",
     "output_type": "stream",
     "text": [
      " 26%|█████████▉                            | 525/2000 [25:52<1:00:19,  2.45s/it]"
     ]
    },
    {
     "name": "stdout",
     "output_type": "stream",
     "text": [
      "{'mapbox_fetched_img': False, 'mapbox_img': 'mapbox/155278/133822/18.jpg', 'mapbox_added_arrow': True, 'bing_fetched_img': False, 'bing_img': 'bing/155278/133822/18.jpg', 'bing_added_arrow': True}\n"
     ]
    },
    {
     "name": "stderr",
     "output_type": "stream",
     "text": [
      " 26%|█████████▉                            | 526/2000 [25:54<1:01:07,  2.49s/it]"
     ]
    },
    {
     "name": "stdout",
     "output_type": "stream",
     "text": [
      "{'mapbox_fetched_img': False, 'mapbox_img': 'mapbox/155278/133822/18.jpg', 'mapbox_added_arrow': True, 'bing_fetched_img': False, 'bing_img': 'bing/155278/133822/18.jpg', 'bing_added_arrow': True}\n"
     ]
    },
    {
     "name": "stderr",
     "output_type": "stream",
     "text": [
      " 26%|██████████▌                             | 527/2000 [25:57<57:54,  2.36s/it]"
     ]
    },
    {
     "name": "stdout",
     "output_type": "stream",
     "text": [
      "{'mapbox_fetched_img': False, 'mapbox_img': 'mapbox/155278/133822/18.jpg', 'mapbox_added_arrow': True, 'bing_fetched_img': False, 'bing_img': 'bing/155278/133822/18.jpg', 'bing_added_arrow': True}\n"
     ]
    },
    {
     "name": "stderr",
     "output_type": "stream",
     "text": [
      " 26%|██████████▌                             | 528/2000 [25:59<59:48,  2.44s/it]"
     ]
    },
    {
     "name": "stdout",
     "output_type": "stream",
     "text": [
      "{'mapbox_fetched_img': False, 'mapbox_img': 'mapbox/155278/133822/18.jpg', 'mapbox_added_arrow': True, 'bing_fetched_img': False, 'bing_img': 'bing/155278/133822/18.jpg', 'bing_added_arrow': True}\n",
      "No photo found before to establish direction for TANZANIA_v2-102GOPRO-G0313036\n"
     ]
    },
    {
     "name": "stderr",
     "output_type": "stream",
     "text": [
      " 26%|██████████▌                             | 529/2000 [26:01<54:08,  2.21s/it]"
     ]
    },
    {
     "name": "stdout",
     "output_type": "stream",
     "text": [
      "No photo found before to establish direction for TANZANIA_v2-102GOPRO-G0313036\n",
      "{'mapbox_fetched_img': False, 'mapbox_img': 'mapbox/155278/133822/18.jpg', 'mapbox_added_arrow': False, 'bing_fetched_img': False, 'bing_img': 'bing/155278/133822/18.jpg', 'bing_added_arrow': False}\n"
     ]
    },
    {
     "name": "stderr",
     "output_type": "stream",
     "text": [
      " 26%|██████████                            | 530/2000 [26:04<1:02:50,  2.56s/it]"
     ]
    },
    {
     "name": "stdout",
     "output_type": "stream",
     "text": [
      "{'mapbox_fetched_img': False, 'mapbox_img': 'mapbox/155278/133822/18.jpg', 'mapbox_added_arrow': True, 'bing_fetched_img': False, 'bing_img': 'bing/155278/133822/18.jpg', 'bing_added_arrow': True}\n"
     ]
    },
    {
     "name": "stderr",
     "output_type": "stream",
     "text": [
      " 27%|██████████                            | 531/2000 [26:07<1:06:27,  2.71s/it]"
     ]
    },
    {
     "name": "stdout",
     "output_type": "stream",
     "text": [
      "{'mapbox_fetched_img': False, 'mapbox_img': 'mapbox/155278/133822/18.jpg', 'mapbox_added_arrow': True, 'bing_fetched_img': False, 'bing_img': 'bing/155278/133822/18.jpg', 'bing_added_arrow': True}\n"
     ]
    },
    {
     "name": "stderr",
     "output_type": "stream",
     "text": [
      " 27%|██████████                            | 532/2000 [26:10<1:06:49,  2.73s/it]"
     ]
    },
    {
     "name": "stdout",
     "output_type": "stream",
     "text": [
      "{'mapbox_fetched_img': False, 'mapbox_img': 'mapbox/155278/133822/18.jpg', 'mapbox_added_arrow': True, 'bing_fetched_img': False, 'bing_img': 'bing/155278/133822/18.jpg', 'bing_added_arrow': True}\n"
     ]
    },
    {
     "name": "stderr",
     "output_type": "stream",
     "text": [
      " 27%|██████████▏                           | 533/2000 [26:12<1:02:38,  2.56s/it]"
     ]
    },
    {
     "name": "stdout",
     "output_type": "stream",
     "text": [
      "{'mapbox_fetched_img': False, 'mapbox_img': 'mapbox/155278/133822/18.jpg', 'mapbox_added_arrow': True, 'bing_fetched_img': False, 'bing_img': 'bing/155278/133822/18.jpg', 'bing_added_arrow': True}\n"
     ]
    },
    {
     "name": "stderr",
     "output_type": "stream",
     "text": [
      " 27%|██████████▋                             | 534/2000 [26:14<57:41,  2.36s/it]"
     ]
    },
    {
     "name": "stdout",
     "output_type": "stream",
     "text": [
      "{'mapbox_fetched_img': False, 'mapbox_img': 'mapbox/155278/133822/18.jpg', 'mapbox_added_arrow': True, 'bing_fetched_img': False, 'bing_img': 'bing/155278/133822/18.jpg', 'bing_added_arrow': True}\n"
     ]
    },
    {
     "name": "stderr",
     "output_type": "stream",
     "text": [
      " 27%|██████████▋                             | 535/2000 [26:16<54:21,  2.23s/it]"
     ]
    },
    {
     "name": "stdout",
     "output_type": "stream",
     "text": [
      "{'mapbox_fetched_img': False, 'mapbox_img': 'mapbox/155278/133822/18.jpg', 'mapbox_added_arrow': True, 'bing_fetched_img': False, 'bing_img': 'bing/155278/133822/18.jpg', 'bing_added_arrow': True}\n"
     ]
    },
    {
     "name": "stderr",
     "output_type": "stream",
     "text": [
      " 27%|██████████▋                             | 536/2000 [26:18<50:49,  2.08s/it]"
     ]
    },
    {
     "name": "stdout",
     "output_type": "stream",
     "text": [
      "{'mapbox_fetched_img': False, 'mapbox_img': 'mapbox/155278/133822/18.jpg', 'mapbox_added_arrow': True, 'bing_fetched_img': False, 'bing_img': 'bing/155278/133822/18.jpg', 'bing_added_arrow': True}\n"
     ]
    },
    {
     "name": "stderr",
     "output_type": "stream",
     "text": [
      " 27%|██████████▋                             | 537/2000 [26:19<47:41,  1.96s/it]"
     ]
    },
    {
     "name": "stdout",
     "output_type": "stream",
     "text": [
      "{'mapbox_fetched_img': False, 'mapbox_img': 'mapbox/155278/133822/18.jpg', 'mapbox_added_arrow': True, 'bing_fetched_img': False, 'bing_img': 'bing/155278/133822/18.jpg', 'bing_added_arrow': True}\n"
     ]
    },
    {
     "name": "stderr",
     "output_type": "stream",
     "text": [
      " 27%|██████████▊                             | 538/2000 [26:21<45:16,  1.86s/it]"
     ]
    },
    {
     "name": "stdout",
     "output_type": "stream",
     "text": [
      "{'mapbox_fetched_img': False, 'mapbox_img': 'mapbox/155278/133822/18.jpg', 'mapbox_added_arrow': True, 'bing_fetched_img': False, 'bing_img': 'bing/155278/133822/18.jpg', 'bing_added_arrow': True}\n"
     ]
    },
    {
     "name": "stderr",
     "output_type": "stream",
     "text": [
      " 27%|██████████▊                             | 539/2000 [26:23<44:46,  1.84s/it]"
     ]
    },
    {
     "name": "stdout",
     "output_type": "stream",
     "text": [
      "{'mapbox_fetched_img': False, 'mapbox_img': 'mapbox/155278/133822/18.jpg', 'mapbox_added_arrow': True, 'bing_fetched_img': False, 'bing_img': 'bing/155278/133822/18.jpg', 'bing_added_arrow': True}\n"
     ]
    },
    {
     "name": "stderr",
     "output_type": "stream",
     "text": [
      " 27%|██████████▊                             | 540/2000 [26:25<44:57,  1.85s/it]"
     ]
    },
    {
     "name": "stdout",
     "output_type": "stream",
     "text": [
      "{'mapbox_fetched_img': False, 'mapbox_img': 'mapbox/155278/133822/18.jpg', 'mapbox_added_arrow': True, 'bing_fetched_img': False, 'bing_img': 'bing/155278/133822/18.jpg', 'bing_added_arrow': True}\n"
     ]
    },
    {
     "name": "stderr",
     "output_type": "stream",
     "text": [
      " 27%|██████████▊                             | 541/2000 [26:27<45:05,  1.85s/it]"
     ]
    },
    {
     "name": "stdout",
     "output_type": "stream",
     "text": [
      "{'mapbox_fetched_img': False, 'mapbox_img': 'mapbox/155278/133822/18.jpg', 'mapbox_added_arrow': True, 'bing_fetched_img': False, 'bing_img': 'bing/155278/133822/18.jpg', 'bing_added_arrow': True}\n"
     ]
    },
    {
     "name": "stderr",
     "output_type": "stream",
     "text": [
      " 27%|██████████▎                           | 542/2000 [26:31<1:06:05,  2.72s/it]"
     ]
    },
    {
     "name": "stdout",
     "output_type": "stream",
     "text": [
      "{'mapbox_fetched_img': False, 'mapbox_img': 'mapbox/155278/133822/18.jpg', 'mapbox_added_arrow': True, 'bing_fetched_img': False, 'bing_img': 'bing/155278/133822/18.jpg', 'bing_added_arrow': True}\n"
     ]
    },
    {
     "name": "stderr",
     "output_type": "stream",
     "text": [
      " 27%|██████████▎                           | 543/2000 [26:33<1:00:55,  2.51s/it]"
     ]
    },
    {
     "name": "stdout",
     "output_type": "stream",
     "text": [
      "{'mapbox_fetched_img': False, 'mapbox_img': 'mapbox/155278/133822/18.jpg', 'mapbox_added_arrow': True, 'bing_fetched_img': False, 'bing_img': 'bing/155278/133822/18.jpg', 'bing_added_arrow': True}\n"
     ]
    },
    {
     "name": "stderr",
     "output_type": "stream",
     "text": [
      " 27%|██████████▉                             | 544/2000 [26:36<58:52,  2.43s/it]"
     ]
    },
    {
     "name": "stdout",
     "output_type": "stream",
     "text": [
      "{'mapbox_fetched_img': False, 'mapbox_img': 'mapbox/155278/133822/18.jpg', 'mapbox_added_arrow': True, 'bing_fetched_img': False, 'bing_img': 'bing/155278/133822/18.jpg', 'bing_added_arrow': True}\n"
     ]
    },
    {
     "name": "stderr",
     "output_type": "stream",
     "text": [
      " 27%|██████████▉                             | 545/2000 [26:37<54:46,  2.26s/it]"
     ]
    },
    {
     "name": "stdout",
     "output_type": "stream",
     "text": [
      "{'mapbox_fetched_img': False, 'mapbox_img': 'mapbox/155278/133822/18.jpg', 'mapbox_added_arrow': True, 'bing_fetched_img': False, 'bing_img': 'bing/155278/133822/18.jpg', 'bing_added_arrow': True}\n"
     ]
    },
    {
     "name": "stderr",
     "output_type": "stream",
     "text": [
      " 27%|██████████▉                             | 547/2000 [26:39<40:13,  1.66s/it]"
     ]
    },
    {
     "name": "stdout",
     "output_type": "stream",
     "text": [
      "{'mapbox_fetched_img': False, 'mapbox_img': 'mapbox/155278/133822/18.jpg', 'mapbox_added_arrow': True, 'bing_fetched_img': False, 'bing_img': 'bing/155278/133822/18.jpg', 'bing_added_arrow': True}\n"
     ]
    },
    {
     "name": "stderr",
     "output_type": "stream",
     "text": [
      " 27%|██████████▉                             | 548/2000 [26:42<46:29,  1.92s/it]"
     ]
    },
    {
     "name": "stdout",
     "output_type": "stream",
     "text": [
      "{'mapbox_fetched_img': False, 'mapbox_img': 'mapbox/155278/133822/18.jpg', 'mapbox_added_arrow': True, 'bing_fetched_img': False, 'bing_img': 'bing/155278/133822/18.jpg', 'bing_added_arrow': True}\n"
     ]
    },
    {
     "name": "stderr",
     "output_type": "stream",
     "text": [
      " 27%|██████████▉                             | 549/2000 [26:44<45:41,  1.89s/it]"
     ]
    },
    {
     "name": "stdout",
     "output_type": "stream",
     "text": [
      "{'mapbox_fetched_img': False, 'mapbox_img': 'mapbox/155278/133822/18.jpg', 'mapbox_added_arrow': True, 'bing_fetched_img': False, 'bing_img': 'bing/155278/133822/18.jpg', 'bing_added_arrow': True}\n"
     ]
    },
    {
     "name": "stderr",
     "output_type": "stream",
     "text": [
      " 28%|███████████                             | 550/2000 [26:46<49:49,  2.06s/it]"
     ]
    },
    {
     "name": "stdout",
     "output_type": "stream",
     "text": [
      "{'mapbox_fetched_img': False, 'mapbox_img': 'mapbox/155278/133822/18.jpg', 'mapbox_added_arrow': True, 'bing_fetched_img': False, 'bing_img': 'bing/155278/133822/18.jpg', 'bing_added_arrow': True}\n"
     ]
    },
    {
     "name": "stderr",
     "output_type": "stream",
     "text": [
      " 28%|███████████                             | 551/2000 [26:49<50:31,  2.09s/it]"
     ]
    },
    {
     "name": "stdout",
     "output_type": "stream",
     "text": [
      "{'mapbox_fetched_img': False, 'mapbox_img': 'mapbox/155278/133822/18.jpg', 'mapbox_added_arrow': True, 'bing_fetched_img': False, 'bing_img': 'bing/155278/133822/18.jpg', 'bing_added_arrow': True}\n"
     ]
    },
    {
     "name": "stderr",
     "output_type": "stream",
     "text": [
      " 28%|███████████                             | 552/2000 [26:50<49:15,  2.04s/it]"
     ]
    },
    {
     "name": "stdout",
     "output_type": "stream",
     "text": [
      "{'mapbox_fetched_img': False, 'mapbox_img': 'mapbox/155278/133822/18.jpg', 'mapbox_added_arrow': True, 'bing_fetched_img': False, 'bing_img': 'bing/155278/133822/18.jpg', 'bing_added_arrow': True}\n"
     ]
    },
    {
     "name": "stderr",
     "output_type": "stream",
     "text": [
      " 28%|███████████                             | 553/2000 [26:52<46:49,  1.94s/it]"
     ]
    },
    {
     "name": "stdout",
     "output_type": "stream",
     "text": [
      "{'mapbox_fetched_img': False, 'mapbox_img': 'mapbox/155278/133822/18.jpg', 'mapbox_added_arrow': True, 'bing_fetched_img': False, 'bing_img': 'bing/155278/133822/18.jpg', 'bing_added_arrow': True}\n"
     ]
    },
    {
     "name": "stderr",
     "output_type": "stream",
     "text": [
      " 28%|███████████                             | 554/2000 [26:54<45:01,  1.87s/it]"
     ]
    },
    {
     "name": "stdout",
     "output_type": "stream",
     "text": [
      "{'mapbox_fetched_img': False, 'mapbox_img': 'mapbox/155278/133822/18.jpg', 'mapbox_added_arrow': True, 'bing_fetched_img': False, 'bing_img': 'bing/155278/133822/18.jpg', 'bing_added_arrow': True}\n"
     ]
    },
    {
     "name": "stderr",
     "output_type": "stream",
     "text": [
      " 28%|███████████                             | 555/2000 [26:56<48:02,  2.00s/it]"
     ]
    },
    {
     "name": "stdout",
     "output_type": "stream",
     "text": [
      "{'mapbox_fetched_img': False, 'mapbox_img': 'mapbox/155278/133822/18.jpg', 'mapbox_added_arrow': True, 'bing_fetched_img': False, 'bing_img': 'bing/155278/133822/18.jpg', 'bing_added_arrow': True}\n"
     ]
    },
    {
     "name": "stderr",
     "output_type": "stream",
     "text": [
      " 28%|███████████                             | 556/2000 [26:58<50:20,  2.09s/it]"
     ]
    },
    {
     "name": "stdout",
     "output_type": "stream",
     "text": [
      "{'mapbox_fetched_img': False, 'mapbox_img': 'mapbox/155278/133822/18.jpg', 'mapbox_added_arrow': True, 'bing_fetched_img': False, 'bing_img': 'bing/155278/133822/18.jpg', 'bing_added_arrow': True}\n"
     ]
    },
    {
     "name": "stderr",
     "output_type": "stream",
     "text": [
      " 28%|███████████▏                            | 557/2000 [27:00<47:27,  1.97s/it]"
     ]
    },
    {
     "name": "stdout",
     "output_type": "stream",
     "text": [
      "{'mapbox_fetched_img': False, 'mapbox_img': 'mapbox/155278/133822/18.jpg', 'mapbox_added_arrow': True, 'bing_fetched_img': False, 'bing_img': 'bing/155278/133822/18.jpg', 'bing_added_arrow': True}\n"
     ]
    },
    {
     "name": "stderr",
     "output_type": "stream",
     "text": [
      " 28%|███████████▏                            | 558/2000 [27:02<45:03,  1.87s/it]"
     ]
    },
    {
     "name": "stdout",
     "output_type": "stream",
     "text": [
      "{'mapbox_fetched_img': False, 'mapbox_img': 'mapbox/155278/133822/18.jpg', 'mapbox_added_arrow': True, 'bing_fetched_img': False, 'bing_img': 'bing/155278/133822/18.jpg', 'bing_added_arrow': True}\n"
     ]
    },
    {
     "name": "stderr",
     "output_type": "stream",
     "text": [
      " 28%|███████████▏                            | 559/2000 [27:04<43:36,  1.82s/it]"
     ]
    },
    {
     "name": "stdout",
     "output_type": "stream",
     "text": [
      "{'mapbox_fetched_img': False, 'mapbox_img': 'mapbox/155278/133822/18.jpg', 'mapbox_added_arrow': True, 'bing_fetched_img': False, 'bing_img': 'bing/155278/133822/18.jpg', 'bing_added_arrow': True}\n"
     ]
    },
    {
     "name": "stderr",
     "output_type": "stream",
     "text": [
      " 28%|███████████▏                            | 560/2000 [27:07<56:23,  2.35s/it]"
     ]
    },
    {
     "name": "stdout",
     "output_type": "stream",
     "text": [
      "{'mapbox_fetched_img': False, 'mapbox_img': 'mapbox/155278/133822/18.jpg', 'mapbox_added_arrow': True, 'bing_fetched_img': False, 'bing_img': 'bing/155278/133822/18.jpg', 'bing_added_arrow': True}\n"
     ]
    },
    {
     "name": "stderr",
     "output_type": "stream",
     "text": [
      " 28%|███████████▏                            | 561/2000 [27:10<57:40,  2.40s/it]"
     ]
    },
    {
     "name": "stdout",
     "output_type": "stream",
     "text": [
      "{'mapbox_fetched_img': False, 'mapbox_img': 'mapbox/155278/133822/18.jpg', 'mapbox_added_arrow': True, 'bing_fetched_img': False, 'bing_img': 'bing/155278/133822/18.jpg', 'bing_added_arrow': True}\n"
     ]
    },
    {
     "name": "stderr",
     "output_type": "stream",
     "text": [
      " 28%|██████████▋                           | 562/2000 [27:13<1:01:05,  2.55s/it]"
     ]
    },
    {
     "name": "stdout",
     "output_type": "stream",
     "text": [
      "{'mapbox_fetched_img': False, 'mapbox_img': 'mapbox/155278/133822/18.jpg', 'mapbox_added_arrow': True, 'bing_fetched_img': False, 'bing_img': 'bing/155278/133822/18.jpg', 'bing_added_arrow': True}\n"
     ]
    },
    {
     "name": "stderr",
     "output_type": "stream",
     "text": [
      " 28%|███████████▎                            | 563/2000 [27:15<57:54,  2.42s/it]"
     ]
    },
    {
     "name": "stdout",
     "output_type": "stream",
     "text": [
      "{'mapbox_fetched_img': False, 'mapbox_img': 'mapbox/155278/133822/18.jpg', 'mapbox_added_arrow': True, 'bing_fetched_img': False, 'bing_img': 'bing/155278/133822/18.jpg', 'bing_added_arrow': True}\n"
     ]
    },
    {
     "name": "stderr",
     "output_type": "stream",
     "text": [
      " 28%|███████████▎                            | 564/2000 [27:16<52:54,  2.21s/it]"
     ]
    },
    {
     "name": "stdout",
     "output_type": "stream",
     "text": [
      "{'mapbox_fetched_img': False, 'mapbox_img': 'mapbox/155278/133822/18.jpg', 'mapbox_added_arrow': True, 'bing_fetched_img': False, 'bing_img': 'bing/155278/133822/18.jpg', 'bing_added_arrow': True}\n"
     ]
    },
    {
     "name": "stderr",
     "output_type": "stream",
     "text": [
      " 28%|███████████▎                            | 565/2000 [27:19<53:07,  2.22s/it]"
     ]
    },
    {
     "name": "stdout",
     "output_type": "stream",
     "text": [
      "{'mapbox_fetched_img': False, 'mapbox_img': 'mapbox/155278/133822/18.jpg', 'mapbox_added_arrow': True, 'bing_fetched_img': False, 'bing_img': 'bing/155278/133822/18.jpg', 'bing_added_arrow': True}\n"
     ]
    },
    {
     "name": "stderr",
     "output_type": "stream",
     "text": [
      " 28%|███████████▎                            | 566/2000 [27:20<48:34,  2.03s/it]"
     ]
    },
    {
     "name": "stdout",
     "output_type": "stream",
     "text": [
      "{'mapbox_fetched_img': False, 'mapbox_img': 'mapbox/155278/133822/18.jpg', 'mapbox_added_arrow': True, 'bing_fetched_img': False, 'bing_img': 'bing/155278/133822/18.jpg', 'bing_added_arrow': True}\n"
     ]
    },
    {
     "name": "stderr",
     "output_type": "stream",
     "text": [
      " 28%|███████████▎                            | 567/2000 [27:22<47:40,  2.00s/it]"
     ]
    },
    {
     "name": "stdout",
     "output_type": "stream",
     "text": [
      "{'mapbox_fetched_img': False, 'mapbox_img': 'mapbox/155278/133822/18.jpg', 'mapbox_added_arrow': True, 'bing_fetched_img': False, 'bing_img': 'bing/155278/133822/18.jpg', 'bing_added_arrow': True}\n"
     ]
    },
    {
     "name": "stderr",
     "output_type": "stream",
     "text": [
      " 28%|███████████▎                            | 568/2000 [27:24<49:13,  2.06s/it]"
     ]
    },
    {
     "name": "stdout",
     "output_type": "stream",
     "text": [
      "{'mapbox_fetched_img': False, 'mapbox_img': 'mapbox/155278/133822/18.jpg', 'mapbox_added_arrow': True, 'bing_fetched_img': False, 'bing_img': 'bing/155278/133822/18.jpg', 'bing_added_arrow': True}\n"
     ]
    },
    {
     "name": "stderr",
     "output_type": "stream",
     "text": [
      " 28%|███████████▍                            | 569/2000 [27:26<48:49,  2.05s/it]"
     ]
    },
    {
     "name": "stdout",
     "output_type": "stream",
     "text": [
      "{'mapbox_fetched_img': False, 'mapbox_img': 'mapbox/155278/133822/18.jpg', 'mapbox_added_arrow': True, 'bing_fetched_img': False, 'bing_img': 'bing/155278/133822/18.jpg', 'bing_added_arrow': True}\n"
     ]
    },
    {
     "name": "stderr",
     "output_type": "stream",
     "text": [
      " 28%|███████████▍                            | 570/2000 [27:29<54:55,  2.30s/it]"
     ]
    },
    {
     "name": "stdout",
     "output_type": "stream",
     "text": [
      "{'mapbox_fetched_img': False, 'mapbox_img': 'mapbox/155278/133822/18.jpg', 'mapbox_added_arrow': True, 'bing_fetched_img': False, 'bing_img': 'bing/155278/133822/18.jpg', 'bing_added_arrow': True}\n"
     ]
    },
    {
     "name": "stderr",
     "output_type": "stream",
     "text": [
      " 29%|███████████▍                            | 571/2000 [27:31<50:59,  2.14s/it]"
     ]
    },
    {
     "name": "stdout",
     "output_type": "stream",
     "text": [
      "{'mapbox_fetched_img': False, 'mapbox_img': 'mapbox/155278/133822/18.jpg', 'mapbox_added_arrow': True, 'bing_fetched_img': False, 'bing_img': 'bing/155278/133822/18.jpg', 'bing_added_arrow': True}\n"
     ]
    },
    {
     "name": "stderr",
     "output_type": "stream",
     "text": [
      " 29%|███████████▍                            | 572/2000 [27:33<47:36,  2.00s/it]"
     ]
    },
    {
     "name": "stdout",
     "output_type": "stream",
     "text": [
      "{'mapbox_fetched_img': False, 'mapbox_img': 'mapbox/155278/133822/18.jpg', 'mapbox_added_arrow': True, 'bing_fetched_img': False, 'bing_img': 'bing/155278/133822/18.jpg', 'bing_added_arrow': True}\n"
     ]
    },
    {
     "name": "stderr",
     "output_type": "stream",
     "text": [
      " 29%|███████████▍                            | 573/2000 [27:35<50:40,  2.13s/it]"
     ]
    },
    {
     "name": "stdout",
     "output_type": "stream",
     "text": [
      "{'mapbox_fetched_img': False, 'mapbox_img': 'mapbox/155278/133822/18.jpg', 'mapbox_added_arrow': True, 'bing_fetched_img': False, 'bing_img': 'bing/155278/133822/18.jpg', 'bing_added_arrow': True}\n"
     ]
    },
    {
     "name": "stderr",
     "output_type": "stream",
     "text": [
      " 29%|██████████▉                           | 574/2000 [27:41<1:13:54,  3.11s/it]"
     ]
    },
    {
     "name": "stdout",
     "output_type": "stream",
     "text": [
      "{'mapbox_fetched_img': False, 'mapbox_img': 'mapbox/155278/133822/18.jpg', 'mapbox_added_arrow': True, 'bing_fetched_img': False, 'bing_img': 'bing/155278/133822/18.jpg', 'bing_added_arrow': True}\n"
     ]
    },
    {
     "name": "stderr",
     "output_type": "stream",
     "text": [
      " 29%|██████████▉                           | 575/2000 [27:43<1:09:12,  2.91s/it]"
     ]
    },
    {
     "name": "stdout",
     "output_type": "stream",
     "text": [
      "{'mapbox_fetched_img': False, 'mapbox_img': 'mapbox/155278/133822/18.jpg', 'mapbox_added_arrow': True, 'bing_fetched_img': False, 'bing_img': 'bing/155278/133822/18.jpg', 'bing_added_arrow': True}\n"
     ]
    },
    {
     "name": "stderr",
     "output_type": "stream",
     "text": [
      " 29%|██████████▉                           | 576/2000 [27:46<1:09:20,  2.92s/it]"
     ]
    },
    {
     "name": "stdout",
     "output_type": "stream",
     "text": [
      "{'mapbox_fetched_img': False, 'mapbox_img': 'mapbox/155278/133822/18.jpg', 'mapbox_added_arrow': True, 'bing_fetched_img': False, 'bing_img': 'bing/155278/133822/18.jpg', 'bing_added_arrow': True}\n"
     ]
    },
    {
     "name": "stderr",
     "output_type": "stream",
     "text": [
      " 29%|██████████▉                           | 577/2000 [27:48<1:04:45,  2.73s/it]"
     ]
    },
    {
     "name": "stdout",
     "output_type": "stream",
     "text": [
      "{'mapbox_fetched_img': False, 'mapbox_img': 'mapbox/155278/133822/18.jpg', 'mapbox_added_arrow': True, 'bing_fetched_img': False, 'bing_img': 'bing/155278/133822/18.jpg', 'bing_added_arrow': True}\n"
     ]
    },
    {
     "name": "stderr",
     "output_type": "stream",
     "text": [
      " 29%|███████████▌                            | 578/2000 [27:50<57:27,  2.42s/it]"
     ]
    },
    {
     "name": "stdout",
     "output_type": "stream",
     "text": [
      "{'mapbox_fetched_img': False, 'mapbox_img': 'mapbox/155278/133822/18.jpg', 'mapbox_added_arrow': True, 'bing_fetched_img': False, 'bing_img': 'bing/155278/133822/18.jpg', 'bing_added_arrow': True}\n"
     ]
    },
    {
     "name": "stderr",
     "output_type": "stream",
     "text": [
      " 29%|███████████▌                            | 579/2000 [27:52<52:48,  2.23s/it]"
     ]
    },
    {
     "name": "stdout",
     "output_type": "stream",
     "text": [
      "{'mapbox_fetched_img': False, 'mapbox_img': 'mapbox/155278/133822/18.jpg', 'mapbox_added_arrow': True, 'bing_fetched_img': False, 'bing_img': 'bing/155278/133822/18.jpg', 'bing_added_arrow': True}\n"
     ]
    },
    {
     "name": "stderr",
     "output_type": "stream",
     "text": [
      " 29%|███████████▌                            | 580/2000 [27:53<49:21,  2.09s/it]"
     ]
    },
    {
     "name": "stdout",
     "output_type": "stream",
     "text": [
      "{'mapbox_fetched_img': False, 'mapbox_img': 'mapbox/155278/133822/18.jpg', 'mapbox_added_arrow': True, 'bing_fetched_img': False, 'bing_img': 'bing/155278/133822/18.jpg', 'bing_added_arrow': True}\n"
     ]
    },
    {
     "name": "stderr",
     "output_type": "stream",
     "text": [
      " 29%|███████████▌                            | 581/2000 [27:55<46:40,  1.97s/it]"
     ]
    },
    {
     "name": "stdout",
     "output_type": "stream",
     "text": [
      "{'mapbox_fetched_img': False, 'mapbox_img': 'mapbox/155278/133822/18.jpg', 'mapbox_added_arrow': True, 'bing_fetched_img': False, 'bing_img': 'bing/155278/133822/18.jpg', 'bing_added_arrow': True}\n"
     ]
    },
    {
     "name": "stderr",
     "output_type": "stream",
     "text": [
      " 29%|███████████▋                            | 582/2000 [27:57<47:10,  2.00s/it]"
     ]
    },
    {
     "name": "stdout",
     "output_type": "stream",
     "text": [
      "{'mapbox_fetched_img': False, 'mapbox_img': 'mapbox/155278/133822/18.jpg', 'mapbox_added_arrow': True, 'bing_fetched_img': False, 'bing_img': 'bing/155278/133822/18.jpg', 'bing_added_arrow': True}\n"
     ]
    },
    {
     "name": "stderr",
     "output_type": "stream",
     "text": [
      " 29%|███████████▋                            | 583/2000 [27:59<45:02,  1.91s/it]"
     ]
    },
    {
     "name": "stdout",
     "output_type": "stream",
     "text": [
      "{'mapbox_fetched_img': False, 'mapbox_img': 'mapbox/155278/133822/18.jpg', 'mapbox_added_arrow': True, 'bing_fetched_img': False, 'bing_img': 'bing/155278/133822/18.jpg', 'bing_added_arrow': True}\n"
     ]
    },
    {
     "name": "stderr",
     "output_type": "stream",
     "text": [
      " 29%|███████████▋                            | 584/2000 [28:01<44:26,  1.88s/it]"
     ]
    },
    {
     "name": "stdout",
     "output_type": "stream",
     "text": [
      "{'mapbox_fetched_img': False, 'mapbox_img': 'mapbox/155278/133822/18.jpg', 'mapbox_added_arrow': True, 'bing_fetched_img': False, 'bing_img': 'bing/155278/133822/18.jpg', 'bing_added_arrow': True}\n"
     ]
    },
    {
     "name": "stderr",
     "output_type": "stream",
     "text": [
      " 29%|███████████▋                            | 585/2000 [28:02<43:24,  1.84s/it]"
     ]
    },
    {
     "name": "stdout",
     "output_type": "stream",
     "text": [
      "{'mapbox_fetched_img': False, 'mapbox_img': 'mapbox/155278/133822/18.jpg', 'mapbox_added_arrow': True, 'bing_fetched_img': False, 'bing_img': 'bing/155278/133822/18.jpg', 'bing_added_arrow': True}\n"
     ]
    },
    {
     "name": "stderr",
     "output_type": "stream",
     "text": [
      " 29%|███████████▋                            | 586/2000 [28:05<46:18,  1.97s/it]"
     ]
    },
    {
     "name": "stdout",
     "output_type": "stream",
     "text": [
      "{'mapbox_fetched_img': False, 'mapbox_img': 'mapbox/155278/133822/18.jpg', 'mapbox_added_arrow': True, 'bing_fetched_img': False, 'bing_img': 'bing/155278/133822/18.jpg', 'bing_added_arrow': True}\n"
     ]
    },
    {
     "name": "stderr",
     "output_type": "stream",
     "text": [
      " 29%|███████████▋                            | 587/2000 [28:07<46:34,  1.98s/it]"
     ]
    },
    {
     "name": "stdout",
     "output_type": "stream",
     "text": [
      "{'mapbox_fetched_img': False, 'mapbox_img': 'mapbox/155278/133822/18.jpg', 'mapbox_added_arrow': True, 'bing_fetched_img': False, 'bing_img': 'bing/155278/133822/18.jpg', 'bing_added_arrow': True}\n"
     ]
    },
    {
     "name": "stderr",
     "output_type": "stream",
     "text": [
      " 29%|███████████▊                            | 588/2000 [28:09<50:02,  2.13s/it]"
     ]
    },
    {
     "name": "stdout",
     "output_type": "stream",
     "text": [
      "{'mapbox_fetched_img': False, 'mapbox_img': 'mapbox/155278/133822/18.jpg', 'mapbox_added_arrow': True, 'bing_fetched_img': False, 'bing_img': 'bing/155278/133822/18.jpg', 'bing_added_arrow': True}\n"
     ]
    },
    {
     "name": "stderr",
     "output_type": "stream",
     "text": [
      " 29%|███████████▏                          | 589/2000 [28:13<1:03:16,  2.69s/it]"
     ]
    },
    {
     "name": "stdout",
     "output_type": "stream",
     "text": [
      "{'mapbox_fetched_img': False, 'mapbox_img': 'mapbox/155278/133822/18.jpg', 'mapbox_added_arrow': True, 'bing_fetched_img': False, 'bing_img': 'bing/155278/133822/18.jpg', 'bing_added_arrow': True}\n"
     ]
    },
    {
     "name": "stderr",
     "output_type": "stream",
     "text": [
      " 30%|███████████▏                          | 590/2000 [28:15<1:00:14,  2.56s/it]"
     ]
    },
    {
     "name": "stdout",
     "output_type": "stream",
     "text": [
      "{'mapbox_fetched_img': False, 'mapbox_img': 'mapbox/155278/133822/18.jpg', 'mapbox_added_arrow': True, 'bing_fetched_img': False, 'bing_img': 'bing/155278/133822/18.jpg', 'bing_added_arrow': True}\n"
     ]
    },
    {
     "name": "stderr",
     "output_type": "stream",
     "text": [
      " 30%|███████████▊                            | 591/2000 [28:17<55:45,  2.37s/it]"
     ]
    },
    {
     "name": "stdout",
     "output_type": "stream",
     "text": [
      "{'mapbox_fetched_img': False, 'mapbox_img': 'mapbox/155278/133822/18.jpg', 'mapbox_added_arrow': True, 'bing_fetched_img': False, 'bing_img': 'bing/155278/133822/18.jpg', 'bing_added_arrow': True}\n"
     ]
    },
    {
     "name": "stderr",
     "output_type": "stream",
     "text": [
      " 30%|███████████▏                          | 592/2000 [28:20<1:00:19,  2.57s/it]"
     ]
    },
    {
     "name": "stdout",
     "output_type": "stream",
     "text": [
      "{'mapbox_fetched_img': False, 'mapbox_img': 'mapbox/155278/133822/18.jpg', 'mapbox_added_arrow': True, 'bing_fetched_img': False, 'bing_img': 'bing/155278/133822/18.jpg', 'bing_added_arrow': True}\n"
     ]
    },
    {
     "name": "stderr",
     "output_type": "stream",
     "text": [
      " 30%|███████████▊                            | 593/2000 [28:23<58:03,  2.48s/it]"
     ]
    },
    {
     "name": "stdout",
     "output_type": "stream",
     "text": [
      "{'mapbox_fetched_img': False, 'mapbox_img': 'mapbox/155278/133822/18.jpg', 'mapbox_added_arrow': True, 'bing_fetched_img': False, 'bing_img': 'bing/155278/133822/18.jpg', 'bing_added_arrow': True}\n"
     ]
    },
    {
     "name": "stderr",
     "output_type": "stream",
     "text": [
      " 30%|███████████▉                            | 594/2000 [28:25<54:31,  2.33s/it]"
     ]
    },
    {
     "name": "stdout",
     "output_type": "stream",
     "text": [
      "{'mapbox_fetched_img': False, 'mapbox_img': 'mapbox/155278/133822/18.jpg', 'mapbox_added_arrow': True, 'bing_fetched_img': False, 'bing_img': 'bing/155278/133822/18.jpg', 'bing_added_arrow': True}\n"
     ]
    },
    {
     "name": "stderr",
     "output_type": "stream",
     "text": [
      " 30%|███████████▉                            | 595/2000 [28:27<52:31,  2.24s/it]"
     ]
    },
    {
     "name": "stdout",
     "output_type": "stream",
     "text": [
      "{'mapbox_fetched_img': False, 'mapbox_img': 'mapbox/155278/133822/18.jpg', 'mapbox_added_arrow': True, 'bing_fetched_img': False, 'bing_img': 'bing/155278/133822/18.jpg', 'bing_added_arrow': True}\n"
     ]
    },
    {
     "name": "stderr",
     "output_type": "stream",
     "text": [
      " 30%|███████████▉                            | 596/2000 [28:28<48:28,  2.07s/it]"
     ]
    },
    {
     "name": "stdout",
     "output_type": "stream",
     "text": [
      "{'mapbox_fetched_img': False, 'mapbox_img': 'mapbox/155278/133822/18.jpg', 'mapbox_added_arrow': True, 'bing_fetched_img': False, 'bing_img': 'bing/155278/133822/18.jpg', 'bing_added_arrow': True}\n"
     ]
    },
    {
     "name": "stderr",
     "output_type": "stream",
     "text": [
      " 30%|███████████▉                            | 597/2000 [28:31<49:41,  2.13s/it]"
     ]
    },
    {
     "name": "stdout",
     "output_type": "stream",
     "text": [
      "{'mapbox_fetched_img': False, 'mapbox_img': 'mapbox/155278/133822/18.jpg', 'mapbox_added_arrow': True, 'bing_fetched_img': False, 'bing_img': 'bing/155278/133822/18.jpg', 'bing_added_arrow': True}\n"
     ]
    },
    {
     "name": "stderr",
     "output_type": "stream",
     "text": [
      " 30%|███████████▉                            | 598/2000 [28:33<49:11,  2.11s/it]"
     ]
    },
    {
     "name": "stdout",
     "output_type": "stream",
     "text": [
      "{'mapbox_fetched_img': False, 'mapbox_img': 'mapbox/155278/133822/18.jpg', 'mapbox_added_arrow': True, 'bing_fetched_img': False, 'bing_img': 'bing/155278/133822/18.jpg', 'bing_added_arrow': True}\n"
     ]
    },
    {
     "name": "stderr",
     "output_type": "stream",
     "text": [
      " 30%|███████████▉                            | 599/2000 [28:34<46:25,  1.99s/it]"
     ]
    },
    {
     "name": "stdout",
     "output_type": "stream",
     "text": [
      "{'mapbox_fetched_img': False, 'mapbox_img': 'mapbox/155278/133822/18.jpg', 'mapbox_added_arrow': True, 'bing_fetched_img': False, 'bing_img': 'bing/155278/133822/18.jpg', 'bing_added_arrow': True}\n"
     ]
    },
    {
     "name": "stderr",
     "output_type": "stream",
     "text": [
      " 30%|████████████                            | 600/2000 [28:36<44:22,  1.90s/it]"
     ]
    },
    {
     "name": "stdout",
     "output_type": "stream",
     "text": [
      "{'mapbox_fetched_img': False, 'mapbox_img': 'mapbox/155278/133822/18.jpg', 'mapbox_added_arrow': True, 'bing_fetched_img': False, 'bing_img': 'bing/155278/133822/18.jpg', 'bing_added_arrow': True}\n"
     ]
    },
    {
     "name": "stderr",
     "output_type": "stream",
     "text": [
      " 30%|████████████                            | 601/2000 [28:38<43:55,  1.88s/it]"
     ]
    },
    {
     "name": "stdout",
     "output_type": "stream",
     "text": [
      "{'mapbox_fetched_img': False, 'mapbox_img': 'mapbox/155278/133822/18.jpg', 'mapbox_added_arrow': True, 'bing_fetched_img': False, 'bing_img': 'bing/155278/133822/18.jpg', 'bing_added_arrow': True}\n"
     ]
    },
    {
     "name": "stderr",
     "output_type": "stream",
     "text": [
      " 30%|████████████                            | 602/2000 [28:40<43:54,  1.88s/it]"
     ]
    },
    {
     "name": "stdout",
     "output_type": "stream",
     "text": [
      "{'mapbox_fetched_img': False, 'mapbox_img': 'mapbox/155278/133822/18.jpg', 'mapbox_added_arrow': True, 'bing_fetched_img': False, 'bing_img': 'bing/155278/133822/18.jpg', 'bing_added_arrow': True}\n"
     ]
    },
    {
     "name": "stderr",
     "output_type": "stream",
     "text": [
      " 30%|████████████                            | 603/2000 [28:42<47:11,  2.03s/it]"
     ]
    },
    {
     "name": "stdout",
     "output_type": "stream",
     "text": [
      "{'mapbox_fetched_img': False, 'mapbox_img': 'mapbox/155278/133822/18.jpg', 'mapbox_added_arrow': True, 'bing_fetched_img': False, 'bing_img': 'bing/155278/133822/18.jpg', 'bing_added_arrow': True}\n"
     ]
    },
    {
     "name": "stderr",
     "output_type": "stream",
     "text": [
      " 30%|████████████                            | 604/2000 [28:44<49:05,  2.11s/it]"
     ]
    },
    {
     "name": "stdout",
     "output_type": "stream",
     "text": [
      "{'mapbox_fetched_img': False, 'mapbox_img': 'mapbox/155278/133822/18.jpg', 'mapbox_added_arrow': True, 'bing_fetched_img': False, 'bing_img': 'bing/155278/133822/18.jpg', 'bing_added_arrow': True}\n"
     ]
    },
    {
     "name": "stderr",
     "output_type": "stream",
     "text": [
      " 30%|████████████                            | 605/2000 [28:47<50:10,  2.16s/it]"
     ]
    },
    {
     "name": "stdout",
     "output_type": "stream",
     "text": [
      "{'mapbox_fetched_img': False, 'mapbox_img': 'mapbox/155278/133822/18.jpg', 'mapbox_added_arrow': True, 'bing_fetched_img': False, 'bing_img': 'bing/155278/133822/18.jpg', 'bing_added_arrow': True}\n"
     ]
    },
    {
     "name": "stderr",
     "output_type": "stream",
     "text": [
      " 30%|████████████                            | 606/2000 [28:49<49:21,  2.12s/it]"
     ]
    },
    {
     "name": "stdout",
     "output_type": "stream",
     "text": [
      "{'mapbox_fetched_img': False, 'mapbox_img': 'mapbox/155278/133822/18.jpg', 'mapbox_added_arrow': True, 'bing_fetched_img': False, 'bing_img': 'bing/155278/133822/18.jpg', 'bing_added_arrow': True}\n"
     ]
    },
    {
     "name": "stderr",
     "output_type": "stream",
     "text": [
      " 30%|████████████▏                           | 607/2000 [28:52<58:49,  2.53s/it]"
     ]
    },
    {
     "name": "stdout",
     "output_type": "stream",
     "text": [
      "{'mapbox_fetched_img': False, 'mapbox_img': 'mapbox/155278/133822/18.jpg', 'mapbox_added_arrow': True, 'bing_fetched_img': False, 'bing_img': 'bing/155278/133822/18.jpg', 'bing_added_arrow': True}\n"
     ]
    },
    {
     "name": "stderr",
     "output_type": "stream",
     "text": [
      " 30%|████████████▏                           | 608/2000 [28:55<58:50,  2.54s/it]"
     ]
    },
    {
     "name": "stdout",
     "output_type": "stream",
     "text": [
      "{'mapbox_fetched_img': False, 'mapbox_img': 'mapbox/155278/133822/18.jpg', 'mapbox_added_arrow': True, 'bing_fetched_img': False, 'bing_img': 'bing/155278/133822/18.jpg', 'bing_added_arrow': True}\n"
     ]
    },
    {
     "name": "stderr",
     "output_type": "stream",
     "text": [
      " 30%|███████████▌                          | 609/2000 [28:58<1:02:17,  2.69s/it]"
     ]
    },
    {
     "name": "stdout",
     "output_type": "stream",
     "text": [
      "{'mapbox_fetched_img': False, 'mapbox_img': 'mapbox/155278/133822/18.jpg', 'mapbox_added_arrow': True, 'bing_fetched_img': False, 'bing_img': 'bing/155278/133822/18.jpg', 'bing_added_arrow': True}\n"
     ]
    },
    {
     "name": "stderr",
     "output_type": "stream",
     "text": [
      " 30%|████████████▏                           | 610/2000 [29:00<55:41,  2.40s/it]"
     ]
    },
    {
     "name": "stdout",
     "output_type": "stream",
     "text": [
      "{'mapbox_fetched_img': False, 'mapbox_img': 'mapbox/155278/133822/18.jpg', 'mapbox_added_arrow': True, 'bing_fetched_img': False, 'bing_img': 'bing/155278/133822/18.jpg', 'bing_added_arrow': True}\n"
     ]
    },
    {
     "name": "stderr",
     "output_type": "stream",
     "text": [
      " 31%|████████████▏                           | 611/2000 [29:02<52:29,  2.27s/it]"
     ]
    },
    {
     "name": "stdout",
     "output_type": "stream",
     "text": [
      "{'mapbox_fetched_img': False, 'mapbox_img': 'mapbox/155278/133822/18.jpg', 'mapbox_added_arrow': True, 'bing_fetched_img': False, 'bing_img': 'bing/155278/133822/18.jpg', 'bing_added_arrow': True}\n"
     ]
    },
    {
     "name": "stderr",
     "output_type": "stream",
     "text": [
      " 31%|████████████▏                           | 612/2000 [29:04<54:28,  2.35s/it]"
     ]
    },
    {
     "name": "stdout",
     "output_type": "stream",
     "text": [
      "{'mapbox_fetched_img': False, 'mapbox_img': 'mapbox/155278/133822/18.jpg', 'mapbox_added_arrow': True, 'bing_fetched_img': False, 'bing_img': 'bing/155278/133822/18.jpg', 'bing_added_arrow': True}\n"
     ]
    },
    {
     "name": "stderr",
     "output_type": "stream",
     "text": [
      " 31%|████████████▎                           | 613/2000 [29:06<54:18,  2.35s/it]"
     ]
    },
    {
     "name": "stdout",
     "output_type": "stream",
     "text": [
      "{'mapbox_fetched_img': False, 'mapbox_img': 'mapbox/155278/133822/18.jpg', 'mapbox_added_arrow': True, 'bing_fetched_img': False, 'bing_img': 'bing/155278/133822/18.jpg', 'bing_added_arrow': True}\n"
     ]
    },
    {
     "name": "stderr",
     "output_type": "stream",
     "text": [
      " 31%|████████████▎                           | 614/2000 [29:09<53:41,  2.32s/it]"
     ]
    },
    {
     "name": "stdout",
     "output_type": "stream",
     "text": [
      "{'mapbox_fetched_img': False, 'mapbox_img': 'mapbox/155278/133822/18.jpg', 'mapbox_added_arrow': True, 'bing_fetched_img': False, 'bing_img': 'bing/155278/133822/18.jpg', 'bing_added_arrow': True}\n"
     ]
    },
    {
     "name": "stderr",
     "output_type": "stream",
     "text": [
      " 31%|████████████▎                           | 615/2000 [29:11<51:33,  2.23s/it]"
     ]
    },
    {
     "name": "stdout",
     "output_type": "stream",
     "text": [
      "{'mapbox_fetched_img': False, 'mapbox_img': 'mapbox/155278/133822/18.jpg', 'mapbox_added_arrow': True, 'bing_fetched_img': False, 'bing_img': 'bing/155278/133822/18.jpg', 'bing_added_arrow': True}\n"
     ]
    },
    {
     "name": "stderr",
     "output_type": "stream",
     "text": [
      " 31%|████████████▎                           | 616/2000 [29:14<56:20,  2.44s/it]"
     ]
    },
    {
     "name": "stdout",
     "output_type": "stream",
     "text": [
      "{'mapbox_fetched_img': False, 'mapbox_img': 'mapbox/155278/133822/18.jpg', 'mapbox_added_arrow': True, 'bing_fetched_img': False, 'bing_img': 'bing/155278/133822/18.jpg', 'bing_added_arrow': True}\n",
      "No photo found before to establish direction for TANZANIA_v2-2022-05-05_103GOPRO-G0333148\n"
     ]
    },
    {
     "name": "stderr",
     "output_type": "stream",
     "text": [
      " 31%|████████████▎                           | 617/2000 [29:15<46:50,  2.03s/it]"
     ]
    },
    {
     "name": "stdout",
     "output_type": "stream",
     "text": [
      "No photo found before to establish direction for TANZANIA_v2-2022-05-05_103GOPRO-G0333148\n",
      "{'mapbox_fetched_img': False, 'mapbox_img': 'mapbox/155278/133822/18.jpg', 'mapbox_added_arrow': False, 'bing_fetched_img': False, 'bing_img': 'bing/155278/133822/18.jpg', 'bing_added_arrow': False}\n"
     ]
    },
    {
     "name": "stderr",
     "output_type": "stream",
     "text": [
      " 31%|████████████▎                           | 618/2000 [29:17<50:33,  2.19s/it]"
     ]
    },
    {
     "name": "stdout",
     "output_type": "stream",
     "text": [
      "{'mapbox_fetched_img': False, 'mapbox_img': 'mapbox/155278/133822/18.jpg', 'mapbox_added_arrow': True, 'bing_fetched_img': False, 'bing_img': 'bing/155278/133822/18.jpg', 'bing_added_arrow': True}\n"
     ]
    },
    {
     "name": "stderr",
     "output_type": "stream",
     "text": [
      " 31%|████████████▍                           | 619/2000 [29:19<49:48,  2.16s/it]"
     ]
    },
    {
     "name": "stdout",
     "output_type": "stream",
     "text": [
      "{'mapbox_fetched_img': False, 'mapbox_img': 'mapbox/155278/133822/18.jpg', 'mapbox_added_arrow': True, 'bing_fetched_img': False, 'bing_img': 'bing/155278/133822/18.jpg', 'bing_added_arrow': True}\n"
     ]
    },
    {
     "name": "stderr",
     "output_type": "stream",
     "text": [
      " 31%|███████████▊                          | 620/2000 [29:23<1:02:16,  2.71s/it]"
     ]
    },
    {
     "name": "stdout",
     "output_type": "stream",
     "text": [
      "{'mapbox_fetched_img': False, 'mapbox_img': 'mapbox/155278/133822/18.jpg', 'mapbox_added_arrow': True, 'bing_fetched_img': False, 'bing_img': 'bing/155278/133822/18.jpg', 'bing_added_arrow': True}\n"
     ]
    },
    {
     "name": "stderr",
     "output_type": "stream",
     "text": [
      " 31%|████████████▍                           | 621/2000 [29:25<58:03,  2.53s/it]"
     ]
    },
    {
     "name": "stdout",
     "output_type": "stream",
     "text": [
      "{'mapbox_fetched_img': False, 'mapbox_img': 'mapbox/155278/133822/18.jpg', 'mapbox_added_arrow': True, 'bing_fetched_img': False, 'bing_img': 'bing/155278/133822/18.jpg', 'bing_added_arrow': True}\n"
     ]
    },
    {
     "name": "stderr",
     "output_type": "stream",
     "text": [
      " 31%|████████████▍                           | 622/2000 [29:27<53:44,  2.34s/it]"
     ]
    },
    {
     "name": "stdout",
     "output_type": "stream",
     "text": [
      "{'mapbox_fetched_img': False, 'mapbox_img': 'mapbox/155278/133822/18.jpg', 'mapbox_added_arrow': True, 'bing_fetched_img': False, 'bing_img': 'bing/155278/133822/18.jpg', 'bing_added_arrow': True}\n"
     ]
    },
    {
     "name": "stderr",
     "output_type": "stream",
     "text": [
      " 31%|████████████▍                           | 623/2000 [29:29<50:15,  2.19s/it]"
     ]
    },
    {
     "name": "stdout",
     "output_type": "stream",
     "text": [
      "{'mapbox_fetched_img': False, 'mapbox_img': 'mapbox/155278/133822/18.jpg', 'mapbox_added_arrow': True, 'bing_fetched_img': False, 'bing_img': 'bing/155278/133822/18.jpg', 'bing_added_arrow': True}\n"
     ]
    },
    {
     "name": "stderr",
     "output_type": "stream",
     "text": [
      " 31%|████████████▍                           | 624/2000 [29:31<47:56,  2.09s/it]"
     ]
    },
    {
     "name": "stdout",
     "output_type": "stream",
     "text": [
      "{'mapbox_fetched_img': False, 'mapbox_img': 'mapbox/155278/133822/18.jpg', 'mapbox_added_arrow': True, 'bing_fetched_img': False, 'bing_img': 'bing/155278/133822/18.jpg', 'bing_added_arrow': True}\n"
     ]
    },
    {
     "name": "stderr",
     "output_type": "stream",
     "text": [
      " 31%|████████████▌                           | 625/2000 [29:33<45:36,  1.99s/it]"
     ]
    },
    {
     "name": "stdout",
     "output_type": "stream",
     "text": [
      "{'mapbox_fetched_img': False, 'mapbox_img': 'mapbox/155278/133822/18.jpg', 'mapbox_added_arrow': True, 'bing_fetched_img': False, 'bing_img': 'bing/155278/133822/18.jpg', 'bing_added_arrow': True}\n"
     ]
    },
    {
     "name": "stderr",
     "output_type": "stream",
     "text": [
      " 31%|████████████▌                           | 626/2000 [29:35<43:12,  1.89s/it]"
     ]
    },
    {
     "name": "stdout",
     "output_type": "stream",
     "text": [
      "{'mapbox_fetched_img': False, 'mapbox_img': 'mapbox/155278/133822/18.jpg', 'mapbox_added_arrow': True, 'bing_fetched_img': False, 'bing_img': 'bing/155278/133822/18.jpg', 'bing_added_arrow': True}\n",
      "Fetching from: https://api.mapbox.com/styles/v1/mapbox/satellite-v9/tiles/256/18/155277/133822?access_token=pk.eyJ1IjoiaXp2b25rb3YiLCJhIjoiY2t0YXU3MTE3MDJuNjJ1bW9xYzc3bTlrMCJ9.fiGLAZ29dmYv2sqlxuaB-A\n",
      "100% [..........................................................] 12867 / 12867Fetching from: http://ecn.t0.tiles.virtualearth.net/tiles/a300101313030223321.jpeg?g=14009\n",
      "100% [..........................................................] 13899 / 13899"
     ]
    },
    {
     "name": "stderr",
     "output_type": "stream",
     "text": [
      " 31%|████████████▌                           | 627/2000 [29:38<52:04,  2.28s/it]"
     ]
    },
    {
     "name": "stdout",
     "output_type": "stream",
     "text": [
      "{'mapbox_fetched_img': True, 'mapbox_img': 'mapbox/155277/133822/18.jpg', 'mapbox_added_arrow': True, 'bing_fetched_img': True, 'bing_img': 'bing/155277/133822/18.jpg', 'bing_added_arrow': True}\n"
     ]
    },
    {
     "name": "stderr",
     "output_type": "stream",
     "text": [
      " 31%|████████████▌                           | 628/2000 [29:39<47:56,  2.10s/it]"
     ]
    },
    {
     "name": "stdout",
     "output_type": "stream",
     "text": [
      "{'mapbox_fetched_img': False, 'mapbox_img': 'mapbox/155277/133822/18.jpg', 'mapbox_added_arrow': True, 'bing_fetched_img': False, 'bing_img': 'bing/155277/133822/18.jpg', 'bing_added_arrow': True}\n"
     ]
    },
    {
     "name": "stderr",
     "output_type": "stream",
     "text": [
      " 31%|████████████▌                           | 629/2000 [29:42<50:13,  2.20s/it]"
     ]
    },
    {
     "name": "stdout",
     "output_type": "stream",
     "text": [
      "{'mapbox_fetched_img': False, 'mapbox_img': 'mapbox/155277/133822/18.jpg', 'mapbox_added_arrow': True, 'bing_fetched_img': False, 'bing_img': 'bing/155277/133822/18.jpg', 'bing_added_arrow': True}\n"
     ]
    },
    {
     "name": "stderr",
     "output_type": "stream",
     "text": [
      " 32%|████████████▌                           | 630/2000 [29:44<47:52,  2.10s/it]"
     ]
    },
    {
     "name": "stdout",
     "output_type": "stream",
     "text": [
      "{'mapbox_fetched_img': False, 'mapbox_img': 'mapbox/155277/133822/18.jpg', 'mapbox_added_arrow': True, 'bing_fetched_img': False, 'bing_img': 'bing/155277/133822/18.jpg', 'bing_added_arrow': True}\n"
     ]
    },
    {
     "name": "stderr",
     "output_type": "stream",
     "text": [
      " 32%|████████████▌                           | 631/2000 [29:46<52:04,  2.28s/it]"
     ]
    },
    {
     "name": "stdout",
     "output_type": "stream",
     "text": [
      "{'mapbox_fetched_img': False, 'mapbox_img': 'mapbox/155277/133822/18.jpg', 'mapbox_added_arrow': True, 'bing_fetched_img': False, 'bing_img': 'bing/155277/133822/18.jpg', 'bing_added_arrow': True}\n"
     ]
    },
    {
     "name": "stderr",
     "output_type": "stream",
     "text": [
      " 32%|████████████                          | 632/2000 [29:50<1:01:28,  2.70s/it]"
     ]
    },
    {
     "name": "stdout",
     "output_type": "stream",
     "text": [
      "{'mapbox_fetched_img': False, 'mapbox_img': 'mapbox/155277/133822/18.jpg', 'mapbox_added_arrow': True, 'bing_fetched_img': False, 'bing_img': 'bing/155277/133822/18.jpg', 'bing_added_arrow': True}\n"
     ]
    },
    {
     "name": "stderr",
     "output_type": "stream",
     "text": [
      " 32%|████████████                          | 633/2000 [29:53<1:00:38,  2.66s/it]"
     ]
    },
    {
     "name": "stdout",
     "output_type": "stream",
     "text": [
      "{'mapbox_fetched_img': False, 'mapbox_img': 'mapbox/155277/133822/18.jpg', 'mapbox_added_arrow': True, 'bing_fetched_img': False, 'bing_img': 'bing/155277/133822/18.jpg', 'bing_added_arrow': True}\n"
     ]
    },
    {
     "name": "stderr",
     "output_type": "stream",
     "text": [
      " 32%|████████████▋                           | 634/2000 [29:55<58:26,  2.57s/it]"
     ]
    },
    {
     "name": "stdout",
     "output_type": "stream",
     "text": [
      "{'mapbox_fetched_img': False, 'mapbox_img': 'mapbox/155277/133822/18.jpg', 'mapbox_added_arrow': True, 'bing_fetched_img': False, 'bing_img': 'bing/155277/133822/18.jpg', 'bing_added_arrow': True}\n"
     ]
    },
    {
     "name": "stderr",
     "output_type": "stream",
     "text": [
      " 32%|████████████▋                           | 635/2000 [29:57<56:19,  2.48s/it]"
     ]
    },
    {
     "name": "stdout",
     "output_type": "stream",
     "text": [
      "{'mapbox_fetched_img': False, 'mapbox_img': 'mapbox/155277/133822/18.jpg', 'mapbox_added_arrow': True, 'bing_fetched_img': False, 'bing_img': 'bing/155277/133822/18.jpg', 'bing_added_arrow': True}\n"
     ]
    },
    {
     "name": "stderr",
     "output_type": "stream",
     "text": [
      " 32%|████████████▋                           | 636/2000 [29:59<53:10,  2.34s/it]"
     ]
    },
    {
     "name": "stdout",
     "output_type": "stream",
     "text": [
      "{'mapbox_fetched_img': False, 'mapbox_img': 'mapbox/155277/133822/18.jpg', 'mapbox_added_arrow': True, 'bing_fetched_img': False, 'bing_img': 'bing/155277/133822/18.jpg', 'bing_added_arrow': True}\n"
     ]
    },
    {
     "name": "stderr",
     "output_type": "stream",
     "text": [
      " 32%|████████████▋                           | 637/2000 [30:01<52:26,  2.31s/it]"
     ]
    },
    {
     "name": "stdout",
     "output_type": "stream",
     "text": [
      "{'mapbox_fetched_img': False, 'mapbox_img': 'mapbox/155277/133822/18.jpg', 'mapbox_added_arrow': True, 'bing_fetched_img': False, 'bing_img': 'bing/155277/133822/18.jpg', 'bing_added_arrow': True}\n"
     ]
    },
    {
     "name": "stderr",
     "output_type": "stream",
     "text": [
      " 32%|████████████▊                           | 638/2000 [30:04<54:13,  2.39s/it]"
     ]
    },
    {
     "name": "stdout",
     "output_type": "stream",
     "text": [
      "{'mapbox_fetched_img': False, 'mapbox_img': 'mapbox/155277/133822/18.jpg', 'mapbox_added_arrow': True, 'bing_fetched_img': False, 'bing_img': 'bing/155277/133822/18.jpg', 'bing_added_arrow': True}\n"
     ]
    },
    {
     "name": "stderr",
     "output_type": "stream",
     "text": [
      " 32%|████████████▊                           | 639/2000 [30:06<51:33,  2.27s/it]"
     ]
    },
    {
     "name": "stdout",
     "output_type": "stream",
     "text": [
      "{'mapbox_fetched_img': False, 'mapbox_img': 'mapbox/155277/133822/18.jpg', 'mapbox_added_arrow': True, 'bing_fetched_img': False, 'bing_img': 'bing/155277/133822/18.jpg', 'bing_added_arrow': True}\n"
     ]
    },
    {
     "name": "stderr",
     "output_type": "stream",
     "text": [
      " 32%|████████████▊                           | 640/2000 [30:08<49:57,  2.20s/it]"
     ]
    },
    {
     "name": "stdout",
     "output_type": "stream",
     "text": [
      "{'mapbox_fetched_img': False, 'mapbox_img': 'mapbox/155277/133822/18.jpg', 'mapbox_added_arrow': True, 'bing_fetched_img': False, 'bing_img': 'bing/155277/133822/18.jpg', 'bing_added_arrow': True}\n"
     ]
    },
    {
     "name": "stderr",
     "output_type": "stream",
     "text": [
      " 32%|████████████▊                           | 641/2000 [30:10<50:56,  2.25s/it]"
     ]
    },
    {
     "name": "stdout",
     "output_type": "stream",
     "text": [
      "{'mapbox_fetched_img': False, 'mapbox_img': 'mapbox/155277/133822/18.jpg', 'mapbox_added_arrow': True, 'bing_fetched_img': False, 'bing_img': 'bing/155277/133822/18.jpg', 'bing_added_arrow': True}\n"
     ]
    },
    {
     "name": "stderr",
     "output_type": "stream",
     "text": [
      " 32%|████████████▊                           | 642/2000 [30:12<49:11,  2.17s/it]"
     ]
    },
    {
     "name": "stdout",
     "output_type": "stream",
     "text": [
      "{'mapbox_fetched_img': False, 'mapbox_img': 'mapbox/155277/133822/18.jpg', 'mapbox_added_arrow': True, 'bing_fetched_img': False, 'bing_img': 'bing/155277/133822/18.jpg', 'bing_added_arrow': True}\n"
     ]
    },
    {
     "name": "stderr",
     "output_type": "stream",
     "text": [
      " 32%|████████████▊                           | 643/2000 [30:15<49:41,  2.20s/it]"
     ]
    },
    {
     "name": "stdout",
     "output_type": "stream",
     "text": [
      "{'mapbox_fetched_img': False, 'mapbox_img': 'mapbox/155277/133822/18.jpg', 'mapbox_added_arrow': True, 'bing_fetched_img': False, 'bing_img': 'bing/155277/133822/18.jpg', 'bing_added_arrow': True}\n"
     ]
    },
    {
     "name": "stderr",
     "output_type": "stream",
     "text": [
      " 32%|████████████▉                           | 644/2000 [30:17<48:03,  2.13s/it]"
     ]
    },
    {
     "name": "stdout",
     "output_type": "stream",
     "text": [
      "{'mapbox_fetched_img': False, 'mapbox_img': 'mapbox/155277/133822/18.jpg', 'mapbox_added_arrow': True, 'bing_fetched_img': False, 'bing_img': 'bing/155277/133822/18.jpg', 'bing_added_arrow': True}\n"
     ]
    },
    {
     "name": "stderr",
     "output_type": "stream",
     "text": [
      " 32%|████████████▉                           | 645/2000 [30:18<45:59,  2.04s/it]"
     ]
    },
    {
     "name": "stdout",
     "output_type": "stream",
     "text": [
      "{'mapbox_fetched_img': False, 'mapbox_img': 'mapbox/155277/133822/18.jpg', 'mapbox_added_arrow': True, 'bing_fetched_img': False, 'bing_img': 'bing/155277/133822/18.jpg', 'bing_added_arrow': True}\n"
     ]
    },
    {
     "name": "stderr",
     "output_type": "stream",
     "text": [
      " 32%|████████████▉                           | 646/2000 [30:20<44:42,  1.98s/it]"
     ]
    },
    {
     "name": "stdout",
     "output_type": "stream",
     "text": [
      "{'mapbox_fetched_img': False, 'mapbox_img': 'mapbox/155277/133822/18.jpg', 'mapbox_added_arrow': True, 'bing_fetched_img': False, 'bing_img': 'bing/155277/133822/18.jpg', 'bing_added_arrow': True}\n"
     ]
    },
    {
     "name": "stderr",
     "output_type": "stream",
     "text": [
      " 32%|████████████▉                           | 647/2000 [30:22<43:16,  1.92s/it]"
     ]
    },
    {
     "name": "stdout",
     "output_type": "stream",
     "text": [
      "{'mapbox_fetched_img': False, 'mapbox_img': 'mapbox/155277/133822/18.jpg', 'mapbox_added_arrow': True, 'bing_fetched_img': False, 'bing_img': 'bing/155277/133822/18.jpg', 'bing_added_arrow': True}\n"
     ]
    },
    {
     "name": "stderr",
     "output_type": "stream",
     "text": [
      " 32%|████████████▉                           | 648/2000 [30:24<44:11,  1.96s/it]"
     ]
    },
    {
     "name": "stdout",
     "output_type": "stream",
     "text": [
      "{'mapbox_fetched_img': False, 'mapbox_img': 'mapbox/155277/133822/18.jpg', 'mapbox_added_arrow': True, 'bing_fetched_img': False, 'bing_img': 'bing/155277/133822/18.jpg', 'bing_added_arrow': True}\n"
     ]
    },
    {
     "name": "stderr",
     "output_type": "stream",
     "text": [
      " 32%|████████████▉                           | 649/2000 [30:26<42:45,  1.90s/it]"
     ]
    },
    {
     "name": "stdout",
     "output_type": "stream",
     "text": [
      "{'mapbox_fetched_img': False, 'mapbox_img': 'mapbox/155277/133822/18.jpg', 'mapbox_added_arrow': True, 'bing_fetched_img': False, 'bing_img': 'bing/155277/133822/18.jpg', 'bing_added_arrow': True}\n"
     ]
    },
    {
     "name": "stderr",
     "output_type": "stream",
     "text": [
      " 32%|█████████████                           | 650/2000 [30:28<43:57,  1.95s/it]"
     ]
    },
    {
     "name": "stdout",
     "output_type": "stream",
     "text": [
      "{'mapbox_fetched_img': False, 'mapbox_img': 'mapbox/155277/133822/18.jpg', 'mapbox_added_arrow': True, 'bing_fetched_img': False, 'bing_img': 'bing/155277/133822/18.jpg', 'bing_added_arrow': True}\n"
     ]
    },
    {
     "name": "stderr",
     "output_type": "stream",
     "text": [
      " 33%|█████████████                           | 651/2000 [30:30<47:09,  2.10s/it]"
     ]
    },
    {
     "name": "stdout",
     "output_type": "stream",
     "text": [
      "{'mapbox_fetched_img': False, 'mapbox_img': 'mapbox/155277/133822/18.jpg', 'mapbox_added_arrow': True, 'bing_fetched_img': False, 'bing_img': 'bing/155277/133822/18.jpg', 'bing_added_arrow': True}\n"
     ]
    },
    {
     "name": "stderr",
     "output_type": "stream",
     "text": [
      " 33%|█████████████                           | 652/2000 [30:32<44:42,  1.99s/it]"
     ]
    },
    {
     "name": "stdout",
     "output_type": "stream",
     "text": [
      "{'mapbox_fetched_img': False, 'mapbox_img': 'mapbox/155277/133822/18.jpg', 'mapbox_added_arrow': True, 'bing_fetched_img': False, 'bing_img': 'bing/155277/133822/18.jpg', 'bing_added_arrow': True}\n"
     ]
    },
    {
     "name": "stderr",
     "output_type": "stream",
     "text": [
      " 33%|█████████████                           | 653/2000 [30:34<42:51,  1.91s/it]"
     ]
    },
    {
     "name": "stdout",
     "output_type": "stream",
     "text": [
      "{'mapbox_fetched_img': False, 'mapbox_img': 'mapbox/155277/133822/18.jpg', 'mapbox_added_arrow': True, 'bing_fetched_img': False, 'bing_img': 'bing/155277/133822/18.jpg', 'bing_added_arrow': True}\n"
     ]
    },
    {
     "name": "stderr",
     "output_type": "stream",
     "text": [
      " 33%|█████████████                           | 654/2000 [30:36<42:02,  1.87s/it]"
     ]
    },
    {
     "name": "stdout",
     "output_type": "stream",
     "text": [
      "{'mapbox_fetched_img': False, 'mapbox_img': 'mapbox/155277/133822/18.jpg', 'mapbox_added_arrow': True, 'bing_fetched_img': False, 'bing_img': 'bing/155277/133822/18.jpg', 'bing_added_arrow': True}\n"
     ]
    },
    {
     "name": "stderr",
     "output_type": "stream",
     "text": [
      " 33%|█████████████                           | 655/2000 [30:37<41:28,  1.85s/it]"
     ]
    },
    {
     "name": "stdout",
     "output_type": "stream",
     "text": [
      "{'mapbox_fetched_img': False, 'mapbox_img': 'mapbox/155277/133822/18.jpg', 'mapbox_added_arrow': True, 'bing_fetched_img': False, 'bing_img': 'bing/155277/133822/18.jpg', 'bing_added_arrow': True}\n"
     ]
    },
    {
     "name": "stderr",
     "output_type": "stream",
     "text": [
      " 33%|████████████▍                         | 656/2000 [30:43<1:04:08,  2.86s/it]"
     ]
    },
    {
     "name": "stdout",
     "output_type": "stream",
     "text": [
      "{'mapbox_fetched_img': False, 'mapbox_img': 'mapbox/155277/133822/18.jpg', 'mapbox_added_arrow': True, 'bing_fetched_img': False, 'bing_img': 'bing/155277/133822/18.jpg', 'bing_added_arrow': True}\n"
     ]
    },
    {
     "name": "stderr",
     "output_type": "stream",
     "text": [
      " 33%|████████████▍                         | 657/2000 [30:45<1:01:53,  2.77s/it]"
     ]
    },
    {
     "name": "stdout",
     "output_type": "stream",
     "text": [
      "{'mapbox_fetched_img': False, 'mapbox_img': 'mapbox/155277/133822/18.jpg', 'mapbox_added_arrow': True, 'bing_fetched_img': False, 'bing_img': 'bing/155277/133822/18.jpg', 'bing_added_arrow': True}\n"
     ]
    },
    {
     "name": "stderr",
     "output_type": "stream",
     "text": [
      " 33%|█████████████▏                          | 658/2000 [30:47<57:10,  2.56s/it]"
     ]
    },
    {
     "name": "stdout",
     "output_type": "stream",
     "text": [
      "{'mapbox_fetched_img': False, 'mapbox_img': 'mapbox/155277/133822/18.jpg', 'mapbox_added_arrow': True, 'bing_fetched_img': False, 'bing_img': 'bing/155277/133822/18.jpg', 'bing_added_arrow': True}\n"
     ]
    },
    {
     "name": "stderr",
     "output_type": "stream",
     "text": [
      " 33%|█████████████▏                          | 659/2000 [30:49<53:34,  2.40s/it]"
     ]
    },
    {
     "name": "stdout",
     "output_type": "stream",
     "text": [
      "{'mapbox_fetched_img': False, 'mapbox_img': 'mapbox/155277/133822/18.jpg', 'mapbox_added_arrow': True, 'bing_fetched_img': False, 'bing_img': 'bing/155277/133822/18.jpg', 'bing_added_arrow': True}\n"
     ]
    },
    {
     "name": "stderr",
     "output_type": "stream",
     "text": [
      " 33%|█████████████▏                          | 660/2000 [30:51<51:01,  2.28s/it]"
     ]
    },
    {
     "name": "stdout",
     "output_type": "stream",
     "text": [
      "{'mapbox_fetched_img': False, 'mapbox_img': 'mapbox/155277/133822/18.jpg', 'mapbox_added_arrow': True, 'bing_fetched_img': False, 'bing_img': 'bing/155277/133822/18.jpg', 'bing_added_arrow': True}\n"
     ]
    },
    {
     "name": "stderr",
     "output_type": "stream",
     "text": [
      " 33%|█████████████▏                          | 661/2000 [30:54<55:17,  2.48s/it]"
     ]
    },
    {
     "name": "stdout",
     "output_type": "stream",
     "text": [
      "{'mapbox_fetched_img': False, 'mapbox_img': 'mapbox/155277/133822/18.jpg', 'mapbox_added_arrow': True, 'bing_fetched_img': False, 'bing_img': 'bing/155277/133822/18.jpg', 'bing_added_arrow': True}\n"
     ]
    },
    {
     "name": "stderr",
     "output_type": "stream",
     "text": [
      " 33%|█████████████▏                          | 662/2000 [30:56<52:25,  2.35s/it]"
     ]
    },
    {
     "name": "stdout",
     "output_type": "stream",
     "text": [
      "{'mapbox_fetched_img': False, 'mapbox_img': 'mapbox/155277/133822/18.jpg', 'mapbox_added_arrow': True, 'bing_fetched_img': False, 'bing_img': 'bing/155277/133822/18.jpg', 'bing_added_arrow': True}\n"
     ]
    },
    {
     "name": "stderr",
     "output_type": "stream",
     "text": [
      " 33%|█████████████▎                          | 663/2000 [30:58<49:31,  2.22s/it]"
     ]
    },
    {
     "name": "stdout",
     "output_type": "stream",
     "text": [
      "{'mapbox_fetched_img': False, 'mapbox_img': 'mapbox/155277/133822/18.jpg', 'mapbox_added_arrow': True, 'bing_fetched_img': False, 'bing_img': 'bing/155277/133822/18.jpg', 'bing_added_arrow': True}\n"
     ]
    },
    {
     "name": "stderr",
     "output_type": "stream",
     "text": [
      " 33%|█████████████▎                          | 664/2000 [31:00<47:04,  2.11s/it]"
     ]
    },
    {
     "name": "stdout",
     "output_type": "stream",
     "text": [
      "{'mapbox_fetched_img': False, 'mapbox_img': 'mapbox/155277/133822/18.jpg', 'mapbox_added_arrow': True, 'bing_fetched_img': False, 'bing_img': 'bing/155277/133822/18.jpg', 'bing_added_arrow': True}\n"
     ]
    },
    {
     "name": "stderr",
     "output_type": "stream",
     "text": [
      " 33%|█████████████▎                          | 665/2000 [31:02<44:44,  2.01s/it]"
     ]
    },
    {
     "name": "stdout",
     "output_type": "stream",
     "text": [
      "{'mapbox_fetched_img': False, 'mapbox_img': 'mapbox/155277/133822/18.jpg', 'mapbox_added_arrow': True, 'bing_fetched_img': False, 'bing_img': 'bing/155277/133822/18.jpg', 'bing_added_arrow': True}\n"
     ]
    },
    {
     "name": "stderr",
     "output_type": "stream",
     "text": [
      " 33%|█████████████▎                          | 666/2000 [31:05<53:04,  2.39s/it]"
     ]
    },
    {
     "name": "stdout",
     "output_type": "stream",
     "text": [
      "{'mapbox_fetched_img': False, 'mapbox_img': 'mapbox/155277/133822/18.jpg', 'mapbox_added_arrow': True, 'bing_fetched_img': False, 'bing_img': 'bing/155277/133822/18.jpg', 'bing_added_arrow': True}\n"
     ]
    },
    {
     "name": "stderr",
     "output_type": "stream",
     "text": [
      " 33%|█████████████▎                          | 667/2000 [31:08<57:09,  2.57s/it]"
     ]
    },
    {
     "name": "stdout",
     "output_type": "stream",
     "text": [
      "{'mapbox_fetched_img': False, 'mapbox_img': 'mapbox/155277/133822/18.jpg', 'mapbox_added_arrow': True, 'bing_fetched_img': False, 'bing_img': 'bing/155277/133822/18.jpg', 'bing_added_arrow': True}\n"
     ]
    },
    {
     "name": "stderr",
     "output_type": "stream",
     "text": [
      " 33%|████████████▋                         | 668/2000 [31:13<1:14:49,  3.37s/it]"
     ]
    },
    {
     "name": "stdout",
     "output_type": "stream",
     "text": [
      "{'mapbox_fetched_img': False, 'mapbox_img': 'mapbox/155277/133822/18.jpg', 'mapbox_added_arrow': True, 'bing_fetched_img': False, 'bing_img': 'bing/155277/133822/18.jpg', 'bing_added_arrow': True}\n"
     ]
    },
    {
     "name": "stderr",
     "output_type": "stream",
     "text": [
      " 33%|████████████▋                         | 669/2000 [31:17<1:15:39,  3.41s/it]"
     ]
    },
    {
     "name": "stdout",
     "output_type": "stream",
     "text": [
      "{'mapbox_fetched_img': False, 'mapbox_img': 'mapbox/155277/133822/18.jpg', 'mapbox_added_arrow': True, 'bing_fetched_img': False, 'bing_img': 'bing/155277/133822/18.jpg', 'bing_added_arrow': True}\n"
     ]
    },
    {
     "name": "stderr",
     "output_type": "stream",
     "text": [
      " 34%|████████████▋                         | 670/2000 [31:20<1:15:56,  3.43s/it]"
     ]
    },
    {
     "name": "stdout",
     "output_type": "stream",
     "text": [
      "{'mapbox_fetched_img': False, 'mapbox_img': 'mapbox/155277/133822/18.jpg', 'mapbox_added_arrow': True, 'bing_fetched_img': False, 'bing_img': 'bing/155277/133822/18.jpg', 'bing_added_arrow': True}\n"
     ]
    },
    {
     "name": "stderr",
     "output_type": "stream",
     "text": [
      " 34%|████████████▋                         | 671/2000 [31:23<1:09:58,  3.16s/it]"
     ]
    },
    {
     "name": "stdout",
     "output_type": "stream",
     "text": [
      "{'mapbox_fetched_img': False, 'mapbox_img': 'mapbox/155277/133822/18.jpg', 'mapbox_added_arrow': True, 'bing_fetched_img': False, 'bing_img': 'bing/155277/133822/18.jpg', 'bing_added_arrow': True}\n"
     ]
    },
    {
     "name": "stderr",
     "output_type": "stream",
     "text": [
      " 34%|████████████▊                         | 672/2000 [31:25<1:05:57,  2.98s/it]"
     ]
    },
    {
     "name": "stdout",
     "output_type": "stream",
     "text": [
      "{'mapbox_fetched_img': False, 'mapbox_img': 'mapbox/155277/133822/18.jpg', 'mapbox_added_arrow': True, 'bing_fetched_img': False, 'bing_img': 'bing/155277/133822/18.jpg', 'bing_added_arrow': True}\n"
     ]
    },
    {
     "name": "stderr",
     "output_type": "stream",
     "text": [
      " 34%|████████████▊                         | 673/2000 [31:29<1:10:17,  3.18s/it]"
     ]
    },
    {
     "name": "stdout",
     "output_type": "stream",
     "text": [
      "{'mapbox_fetched_img': False, 'mapbox_img': 'mapbox/155277/133822/18.jpg', 'mapbox_added_arrow': True, 'bing_fetched_img': False, 'bing_img': 'bing/155277/133822/18.jpg', 'bing_added_arrow': True}\n"
     ]
    },
    {
     "name": "stderr",
     "output_type": "stream",
     "text": [
      " 34%|████████████▊                         | 674/2000 [31:33<1:15:31,  3.42s/it]"
     ]
    },
    {
     "name": "stdout",
     "output_type": "stream",
     "text": [
      "{'mapbox_fetched_img': False, 'mapbox_img': 'mapbox/155277/133822/18.jpg', 'mapbox_added_arrow': True, 'bing_fetched_img': False, 'bing_img': 'bing/155277/133822/18.jpg', 'bing_added_arrow': True}\n"
     ]
    },
    {
     "name": "stderr",
     "output_type": "stream",
     "text": [
      " 34%|████████████▊                         | 675/2000 [31:39<1:29:07,  4.04s/it]"
     ]
    },
    {
     "name": "stdout",
     "output_type": "stream",
     "text": [
      "{'mapbox_fetched_img': False, 'mapbox_img': 'mapbox/155277/133822/18.jpg', 'mapbox_added_arrow': True, 'bing_fetched_img': False, 'bing_img': 'bing/155277/133822/18.jpg', 'bing_added_arrow': True}\n"
     ]
    },
    {
     "name": "stderr",
     "output_type": "stream",
     "text": [
      " 34%|████████████▊                         | 676/2000 [31:41<1:15:04,  3.40s/it]"
     ]
    },
    {
     "name": "stdout",
     "output_type": "stream",
     "text": [
      "{'mapbox_fetched_img': False, 'mapbox_img': 'mapbox/155277/133822/18.jpg', 'mapbox_added_arrow': True, 'bing_fetched_img': False, 'bing_img': 'bing/155277/133822/18.jpg', 'bing_added_arrow': True}\n"
     ]
    },
    {
     "name": "stderr",
     "output_type": "stream",
     "text": [
      " 34%|████████████▊                         | 677/2000 [31:42<1:03:24,  2.88s/it]"
     ]
    },
    {
     "name": "stdout",
     "output_type": "stream",
     "text": [
      "{'mapbox_fetched_img': False, 'mapbox_img': 'mapbox/155277/133822/18.jpg', 'mapbox_added_arrow': True, 'bing_fetched_img': False, 'bing_img': 'bing/155277/133822/18.jpg', 'bing_added_arrow': True}\n"
     ]
    },
    {
     "name": "stderr",
     "output_type": "stream",
     "text": [
      " 34%|████████████▉                         | 678/2000 [31:45<1:02:26,  2.83s/it]"
     ]
    },
    {
     "name": "stdout",
     "output_type": "stream",
     "text": [
      "{'mapbox_fetched_img': False, 'mapbox_img': 'mapbox/155277/133822/18.jpg', 'mapbox_added_arrow': True, 'bing_fetched_img': False, 'bing_img': 'bing/155277/133822/18.jpg', 'bing_added_arrow': True}\n"
     ]
    },
    {
     "name": "stderr",
     "output_type": "stream",
     "text": [
      " 34%|█████████████▌                          | 679/2000 [31:47<56:05,  2.55s/it]"
     ]
    },
    {
     "name": "stdout",
     "output_type": "stream",
     "text": [
      "{'mapbox_fetched_img': False, 'mapbox_img': 'mapbox/155277/133822/18.jpg', 'mapbox_added_arrow': True, 'bing_fetched_img': False, 'bing_img': 'bing/155277/133822/18.jpg', 'bing_added_arrow': True}\n"
     ]
    },
    {
     "name": "stderr",
     "output_type": "stream",
     "text": [
      " 34%|█████████████▌                          | 680/2000 [31:50<57:54,  2.63s/it]"
     ]
    },
    {
     "name": "stdout",
     "output_type": "stream",
     "text": [
      "{'mapbox_fetched_img': False, 'mapbox_img': 'mapbox/155277/133822/18.jpg', 'mapbox_added_arrow': True, 'bing_fetched_img': False, 'bing_img': 'bing/155277/133822/18.jpg', 'bing_added_arrow': True}\n"
     ]
    },
    {
     "name": "stderr",
     "output_type": "stream",
     "text": [
      " 34%|█████████████▌                          | 681/2000 [31:51<52:41,  2.40s/it]"
     ]
    },
    {
     "name": "stdout",
     "output_type": "stream",
     "text": [
      "{'mapbox_fetched_img': False, 'mapbox_img': 'mapbox/155277/133822/18.jpg', 'mapbox_added_arrow': True, 'bing_fetched_img': False, 'bing_img': 'bing/155277/133822/18.jpg', 'bing_added_arrow': True}\n"
     ]
    },
    {
     "name": "stderr",
     "output_type": "stream",
     "text": [
      " 34%|█████████████▋                          | 682/2000 [31:53<48:46,  2.22s/it]"
     ]
    },
    {
     "name": "stdout",
     "output_type": "stream",
     "text": [
      "{'mapbox_fetched_img': False, 'mapbox_img': 'mapbox/155277/133822/18.jpg', 'mapbox_added_arrow': True, 'bing_fetched_img': False, 'bing_img': 'bing/155277/133822/18.jpg', 'bing_added_arrow': True}\n"
     ]
    },
    {
     "name": "stderr",
     "output_type": "stream",
     "text": [
      " 34%|█████████████▋                          | 683/2000 [31:55<45:34,  2.08s/it]"
     ]
    },
    {
     "name": "stdout",
     "output_type": "stream",
     "text": [
      "{'mapbox_fetched_img': False, 'mapbox_img': 'mapbox/155277/133822/18.jpg', 'mapbox_added_arrow': True, 'bing_fetched_img': False, 'bing_img': 'bing/155277/133822/18.jpg', 'bing_added_arrow': True}\n"
     ]
    },
    {
     "name": "stderr",
     "output_type": "stream",
     "text": [
      " 34%|█████████████▋                          | 684/2000 [31:59<59:26,  2.71s/it]"
     ]
    },
    {
     "name": "stdout",
     "output_type": "stream",
     "text": [
      "{'mapbox_fetched_img': False, 'mapbox_img': 'mapbox/155277/133822/18.jpg', 'mapbox_added_arrow': True, 'bing_fetched_img': False, 'bing_img': 'bing/155277/133822/18.jpg', 'bing_added_arrow': True}\n"
     ]
    },
    {
     "name": "stderr",
     "output_type": "stream",
     "text": [
      " 34%|█████████████▋                          | 685/2000 [32:01<55:27,  2.53s/it]"
     ]
    },
    {
     "name": "stdout",
     "output_type": "stream",
     "text": [
      "{'mapbox_fetched_img': False, 'mapbox_img': 'mapbox/155277/133822/18.jpg', 'mapbox_added_arrow': True, 'bing_fetched_img': False, 'bing_img': 'bing/155277/133822/18.jpg', 'bing_added_arrow': True}\n"
     ]
    },
    {
     "name": "stderr",
     "output_type": "stream",
     "text": [
      " 34%|█████████████▋                          | 686/2000 [32:03<52:39,  2.40s/it]"
     ]
    },
    {
     "name": "stdout",
     "output_type": "stream",
     "text": [
      "{'mapbox_fetched_img': False, 'mapbox_img': 'mapbox/155277/133822/18.jpg', 'mapbox_added_arrow': True, 'bing_fetched_img': False, 'bing_img': 'bing/155277/133822/18.jpg', 'bing_added_arrow': True}\n"
     ]
    },
    {
     "name": "stderr",
     "output_type": "stream",
     "text": [
      " 34%|█████████████▋                          | 687/2000 [32:06<53:57,  2.47s/it]"
     ]
    },
    {
     "name": "stdout",
     "output_type": "stream",
     "text": [
      "{'mapbox_fetched_img': False, 'mapbox_img': 'mapbox/155277/133822/18.jpg', 'mapbox_added_arrow': True, 'bing_fetched_img': False, 'bing_img': 'bing/155277/133822/18.jpg', 'bing_added_arrow': True}\n"
     ]
    },
    {
     "name": "stderr",
     "output_type": "stream",
     "text": [
      " 34%|█████████████▊                          | 688/2000 [32:09<56:03,  2.56s/it]"
     ]
    },
    {
     "name": "stdout",
     "output_type": "stream",
     "text": [
      "{'mapbox_fetched_img': False, 'mapbox_img': 'mapbox/155277/133822/18.jpg', 'mapbox_added_arrow': True, 'bing_fetched_img': False, 'bing_img': 'bing/155277/133822/18.jpg', 'bing_added_arrow': True}\n"
     ]
    },
    {
     "name": "stderr",
     "output_type": "stream",
     "text": [
      " 34%|█████████████                         | 689/2000 [32:13<1:07:38,  3.10s/it]"
     ]
    },
    {
     "name": "stdout",
     "output_type": "stream",
     "text": [
      "{'mapbox_fetched_img': False, 'mapbox_img': 'mapbox/155277/133822/18.jpg', 'mapbox_added_arrow': True, 'bing_fetched_img': False, 'bing_img': 'bing/155277/133822/18.jpg', 'bing_added_arrow': True}\n"
     ]
    },
    {
     "name": "stderr",
     "output_type": "stream",
     "text": [
      " 34%|█████████████                         | 690/2000 [32:18<1:17:38,  3.56s/it]"
     ]
    },
    {
     "name": "stdout",
     "output_type": "stream",
     "text": [
      "{'mapbox_fetched_img': False, 'mapbox_img': 'mapbox/155277/133822/18.jpg', 'mapbox_added_arrow': True, 'bing_fetched_img': False, 'bing_img': 'bing/155277/133822/18.jpg', 'bing_added_arrow': True}\n",
      "No photo found before to establish direction for TANZANIA_v2-2022-05-05_103GOPRO-G0343267\n"
     ]
    },
    {
     "name": "stderr",
     "output_type": "stream",
     "text": [
      " 35%|█████████████▏                        | 691/2000 [32:19<1:00:57,  2.79s/it]"
     ]
    },
    {
     "name": "stdout",
     "output_type": "stream",
     "text": [
      "No photo found before to establish direction for TANZANIA_v2-2022-05-05_103GOPRO-G0343267\n",
      "{'mapbox_fetched_img': False, 'mapbox_img': 'mapbox/155277/133822/18.jpg', 'mapbox_added_arrow': False, 'bing_fetched_img': False, 'bing_img': 'bing/155277/133822/18.jpg', 'bing_added_arrow': False}\n",
      "Fetching from: https://api.mapbox.com/styles/v1/mapbox/satellite-v9/tiles/256/18/155277/133823?access_token=pk.eyJ1IjoiaXp2b25rb3YiLCJhIjoiY2t0YXU3MTE3MDJuNjJ1bW9xYzc3bTlrMCJ9.fiGLAZ29dmYv2sqlxuaB-A\n",
      "100% [..........................................................] 12498 / 12498Fetching from: http://ecn.t0.tiles.virtualearth.net/tiles/a300101313030223323.jpeg?g=14009\n",
      "100% [..........................................................] 13050 / 13050"
     ]
    },
    {
     "name": "stderr",
     "output_type": "stream",
     "text": [
      " 35%|█████████████▏                        | 692/2000 [32:23<1:10:56,  3.25s/it]"
     ]
    },
    {
     "name": "stdout",
     "output_type": "stream",
     "text": [
      "{'mapbox_fetched_img': True, 'mapbox_img': 'mapbox/155277/133823/18.jpg', 'mapbox_added_arrow': True, 'bing_fetched_img': True, 'bing_img': 'bing/155277/133823/18.jpg', 'bing_added_arrow': True}\n"
     ]
    },
    {
     "name": "stderr",
     "output_type": "stream",
     "text": [
      " 35%|█████████████▏                        | 693/2000 [32:26<1:07:31,  3.10s/it]"
     ]
    },
    {
     "name": "stdout",
     "output_type": "stream",
     "text": [
      "{'mapbox_fetched_img': False, 'mapbox_img': 'mapbox/155277/133823/18.jpg', 'mapbox_added_arrow': True, 'bing_fetched_img': False, 'bing_img': 'bing/155277/133823/18.jpg', 'bing_added_arrow': True}\n"
     ]
    },
    {
     "name": "stderr",
     "output_type": "stream",
     "text": [
      " 35%|█████████████▏                        | 694/2000 [32:28<1:02:29,  2.87s/it]"
     ]
    },
    {
     "name": "stdout",
     "output_type": "stream",
     "text": [
      "{'mapbox_fetched_img': False, 'mapbox_img': 'mapbox/155277/133823/18.jpg', 'mapbox_added_arrow': True, 'bing_fetched_img': False, 'bing_img': 'bing/155277/133823/18.jpg', 'bing_added_arrow': True}\n"
     ]
    },
    {
     "name": "stderr",
     "output_type": "stream",
     "text": [
      " 35%|█████████████▉                          | 695/2000 [32:31<59:49,  2.75s/it]"
     ]
    },
    {
     "name": "stdout",
     "output_type": "stream",
     "text": [
      "{'mapbox_fetched_img': False, 'mapbox_img': 'mapbox/155277/133823/18.jpg', 'mapbox_added_arrow': True, 'bing_fetched_img': False, 'bing_img': 'bing/155277/133823/18.jpg', 'bing_added_arrow': True}\n"
     ]
    },
    {
     "name": "stderr",
     "output_type": "stream",
     "text": [
      " 35%|█████████████▏                        | 696/2000 [32:34<1:04:05,  2.95s/it]"
     ]
    },
    {
     "name": "stdout",
     "output_type": "stream",
     "text": [
      "{'mapbox_fetched_img': False, 'mapbox_img': 'mapbox/155277/133823/18.jpg', 'mapbox_added_arrow': True, 'bing_fetched_img': False, 'bing_img': 'bing/155277/133823/18.jpg', 'bing_added_arrow': True}\n"
     ]
    },
    {
     "name": "stderr",
     "output_type": "stream",
     "text": [
      " 35%|█████████████▏                        | 697/2000 [32:40<1:21:18,  3.74s/it]"
     ]
    },
    {
     "name": "stdout",
     "output_type": "stream",
     "text": [
      "{'mapbox_fetched_img': False, 'mapbox_img': 'mapbox/155277/133823/18.jpg', 'mapbox_added_arrow': True, 'bing_fetched_img': False, 'bing_img': 'bing/155277/133823/18.jpg', 'bing_added_arrow': True}\n"
     ]
    },
    {
     "name": "stderr",
     "output_type": "stream",
     "text": [
      " 35%|█████████████▎                        | 698/2000 [32:44<1:28:03,  4.06s/it]"
     ]
    },
    {
     "name": "stdout",
     "output_type": "stream",
     "text": [
      "{'mapbox_fetched_img': False, 'mapbox_img': 'mapbox/155277/133823/18.jpg', 'mapbox_added_arrow': True, 'bing_fetched_img': False, 'bing_img': 'bing/155277/133823/18.jpg', 'bing_added_arrow': True}\n"
     ]
    },
    {
     "name": "stderr",
     "output_type": "stream",
     "text": [
      " 35%|█████████████▎                        | 699/2000 [32:47<1:20:32,  3.71s/it]"
     ]
    },
    {
     "name": "stdout",
     "output_type": "stream",
     "text": [
      "{'mapbox_fetched_img': False, 'mapbox_img': 'mapbox/155277/133823/18.jpg', 'mapbox_added_arrow': True, 'bing_fetched_img': False, 'bing_img': 'bing/155277/133823/18.jpg', 'bing_added_arrow': True}\n"
     ]
    },
    {
     "name": "stderr",
     "output_type": "stream",
     "text": [
      " 35%|█████████████▎                        | 700/2000 [32:51<1:17:16,  3.57s/it]"
     ]
    },
    {
     "name": "stdout",
     "output_type": "stream",
     "text": [
      "{'mapbox_fetched_img': False, 'mapbox_img': 'mapbox/155277/133823/18.jpg', 'mapbox_added_arrow': True, 'bing_fetched_img': False, 'bing_img': 'bing/155277/133823/18.jpg', 'bing_added_arrow': True}\n"
     ]
    },
    {
     "name": "stderr",
     "output_type": "stream",
     "text": [
      " 35%|█████████████▎                        | 701/2000 [32:53<1:09:17,  3.20s/it]"
     ]
    },
    {
     "name": "stdout",
     "output_type": "stream",
     "text": [
      "{'mapbox_fetched_img': False, 'mapbox_img': 'mapbox/155277/133823/18.jpg', 'mapbox_added_arrow': True, 'bing_fetched_img': False, 'bing_img': 'bing/155277/133823/18.jpg', 'bing_added_arrow': True}\n"
     ]
    },
    {
     "name": "stderr",
     "output_type": "stream",
     "text": [
      " 35%|█████████████▎                        | 702/2000 [32:56<1:05:52,  3.04s/it]"
     ]
    },
    {
     "name": "stdout",
     "output_type": "stream",
     "text": [
      "{'mapbox_fetched_img': False, 'mapbox_img': 'mapbox/155277/133823/18.jpg', 'mapbox_added_arrow': True, 'bing_fetched_img': False, 'bing_img': 'bing/155277/133823/18.jpg', 'bing_added_arrow': True}\n"
     ]
    },
    {
     "name": "stderr",
     "output_type": "stream",
     "text": [
      " 35%|██████████████                          | 703/2000 [32:58<59:01,  2.73s/it]"
     ]
    },
    {
     "name": "stdout",
     "output_type": "stream",
     "text": [
      "{'mapbox_fetched_img': False, 'mapbox_img': 'mapbox/155277/133823/18.jpg', 'mapbox_added_arrow': True, 'bing_fetched_img': False, 'bing_img': 'bing/155277/133823/18.jpg', 'bing_added_arrow': True}\n"
     ]
    },
    {
     "name": "stderr",
     "output_type": "stream",
     "text": [
      " 35%|██████████████                          | 704/2000 [33:00<54:48,  2.54s/it]"
     ]
    },
    {
     "name": "stdout",
     "output_type": "stream",
     "text": [
      "{'mapbox_fetched_img': False, 'mapbox_img': 'mapbox/155277/133823/18.jpg', 'mapbox_added_arrow': True, 'bing_fetched_img': False, 'bing_img': 'bing/155277/133823/18.jpg', 'bing_added_arrow': True}\n"
     ]
    },
    {
     "name": "stderr",
     "output_type": "stream",
     "text": [
      " 35%|██████████████                          | 705/2000 [33:02<54:19,  2.52s/it]"
     ]
    },
    {
     "name": "stdout",
     "output_type": "stream",
     "text": [
      "{'mapbox_fetched_img': False, 'mapbox_img': 'mapbox/155277/133823/18.jpg', 'mapbox_added_arrow': True, 'bing_fetched_img': False, 'bing_img': 'bing/155277/133823/18.jpg', 'bing_added_arrow': True}\n"
     ]
    },
    {
     "name": "stderr",
     "output_type": "stream",
     "text": [
      " 35%|██████████████                          | 706/2000 [33:05<55:23,  2.57s/it]"
     ]
    },
    {
     "name": "stdout",
     "output_type": "stream",
     "text": [
      "{'mapbox_fetched_img': False, 'mapbox_img': 'mapbox/155277/133823/18.jpg', 'mapbox_added_arrow': True, 'bing_fetched_img': False, 'bing_img': 'bing/155277/133823/18.jpg', 'bing_added_arrow': True}\n"
     ]
    },
    {
     "name": "stderr",
     "output_type": "stream",
     "text": [
      " 35%|██████████████▏                         | 707/2000 [33:07<53:00,  2.46s/it]"
     ]
    },
    {
     "name": "stdout",
     "output_type": "stream",
     "text": [
      "{'mapbox_fetched_img': False, 'mapbox_img': 'mapbox/155277/133823/18.jpg', 'mapbox_added_arrow': True, 'bing_fetched_img': False, 'bing_img': 'bing/155277/133823/18.jpg', 'bing_added_arrow': True}\n"
     ]
    },
    {
     "name": "stderr",
     "output_type": "stream",
     "text": [
      " 35%|██████████████▏                         | 708/2000 [33:10<58:53,  2.73s/it]"
     ]
    },
    {
     "name": "stdout",
     "output_type": "stream",
     "text": [
      "{'mapbox_fetched_img': False, 'mapbox_img': 'mapbox/155277/133823/18.jpg', 'mapbox_added_arrow': True, 'bing_fetched_img': False, 'bing_img': 'bing/155277/133823/18.jpg', 'bing_added_arrow': True}\n"
     ]
    },
    {
     "name": "stderr",
     "output_type": "stream",
     "text": [
      " 35%|██████████████▏                         | 709/2000 [33:12<53:42,  2.50s/it]"
     ]
    },
    {
     "name": "stdout",
     "output_type": "stream",
     "text": [
      "{'mapbox_fetched_img': False, 'mapbox_img': 'mapbox/155277/133823/18.jpg', 'mapbox_added_arrow': True, 'bing_fetched_img': False, 'bing_img': 'bing/155277/133823/18.jpg', 'bing_added_arrow': True}\n"
     ]
    },
    {
     "name": "stderr",
     "output_type": "stream",
     "text": [
      " 36%|██████████████▏                         | 710/2000 [33:15<55:43,  2.59s/it]"
     ]
    },
    {
     "name": "stdout",
     "output_type": "stream",
     "text": [
      "{'mapbox_fetched_img': False, 'mapbox_img': 'mapbox/155277/133823/18.jpg', 'mapbox_added_arrow': True, 'bing_fetched_img': False, 'bing_img': 'bing/155277/133823/18.jpg', 'bing_added_arrow': True}\n"
     ]
    },
    {
     "name": "stderr",
     "output_type": "stream",
     "text": [
      " 36%|█████████████▌                        | 711/2000 [33:19<1:03:32,  2.96s/it]"
     ]
    },
    {
     "name": "stdout",
     "output_type": "stream",
     "text": [
      "{'mapbox_fetched_img': False, 'mapbox_img': 'mapbox/155277/133823/18.jpg', 'mapbox_added_arrow': True, 'bing_fetched_img': False, 'bing_img': 'bing/155277/133823/18.jpg', 'bing_added_arrow': True}\n"
     ]
    },
    {
     "name": "stderr",
     "output_type": "stream",
     "text": [
      " 36%|██████████████▏                         | 712/2000 [33:21<59:53,  2.79s/it]"
     ]
    },
    {
     "name": "stdout",
     "output_type": "stream",
     "text": [
      "{'mapbox_fetched_img': False, 'mapbox_img': 'mapbox/155277/133823/18.jpg', 'mapbox_added_arrow': True, 'bing_fetched_img': False, 'bing_img': 'bing/155277/133823/18.jpg', 'bing_added_arrow': True}\n"
     ]
    },
    {
     "name": "stderr",
     "output_type": "stream",
     "text": [
      " 36%|██████████████▎                         | 713/2000 [33:24<55:26,  2.58s/it]"
     ]
    },
    {
     "name": "stdout",
     "output_type": "stream",
     "text": [
      "{'mapbox_fetched_img': False, 'mapbox_img': 'mapbox/155277/133823/18.jpg', 'mapbox_added_arrow': True, 'bing_fetched_img': False, 'bing_img': 'bing/155277/133823/18.jpg', 'bing_added_arrow': True}\n"
     ]
    },
    {
     "name": "stderr",
     "output_type": "stream",
     "text": [
      " 36%|██████████████▎                         | 714/2000 [33:26<57:30,  2.68s/it]"
     ]
    },
    {
     "name": "stdout",
     "output_type": "stream",
     "text": [
      "{'mapbox_fetched_img': False, 'mapbox_img': 'mapbox/155277/133823/18.jpg', 'mapbox_added_arrow': True, 'bing_fetched_img': False, 'bing_img': 'bing/155277/133823/18.jpg', 'bing_added_arrow': True}\n"
     ]
    },
    {
     "name": "stderr",
     "output_type": "stream",
     "text": [
      " 36%|█████████████▌                        | 715/2000 [33:30<1:01:01,  2.85s/it]"
     ]
    },
    {
     "name": "stdout",
     "output_type": "stream",
     "text": [
      "{'mapbox_fetched_img': False, 'mapbox_img': 'mapbox/155277/133823/18.jpg', 'mapbox_added_arrow': True, 'bing_fetched_img': False, 'bing_img': 'bing/155277/133823/18.jpg', 'bing_added_arrow': True}\n"
     ]
    },
    {
     "name": "stderr",
     "output_type": "stream",
     "text": [
      " 36%|██████████████▎                         | 716/2000 [33:32<58:41,  2.74s/it]"
     ]
    },
    {
     "name": "stdout",
     "output_type": "stream",
     "text": [
      "{'mapbox_fetched_img': False, 'mapbox_img': 'mapbox/155277/133823/18.jpg', 'mapbox_added_arrow': True, 'bing_fetched_img': False, 'bing_img': 'bing/155277/133823/18.jpg', 'bing_added_arrow': True}\n"
     ]
    },
    {
     "name": "stderr",
     "output_type": "stream",
     "text": [
      " 36%|█████████████▌                        | 717/2000 [33:35<1:00:15,  2.82s/it]"
     ]
    },
    {
     "name": "stdout",
     "output_type": "stream",
     "text": [
      "{'mapbox_fetched_img': False, 'mapbox_img': 'mapbox/155277/133823/18.jpg', 'mapbox_added_arrow': True, 'bing_fetched_img': False, 'bing_img': 'bing/155277/133823/18.jpg', 'bing_added_arrow': True}\n"
     ]
    },
    {
     "name": "stderr",
     "output_type": "stream",
     "text": [
      " 36%|██████████████▎                         | 718/2000 [33:38<58:48,  2.75s/it]"
     ]
    },
    {
     "name": "stdout",
     "output_type": "stream",
     "text": [
      "{'mapbox_fetched_img': False, 'mapbox_img': 'mapbox/155277/133823/18.jpg', 'mapbox_added_arrow': True, 'bing_fetched_img': False, 'bing_img': 'bing/155277/133823/18.jpg', 'bing_added_arrow': True}\n"
     ]
    },
    {
     "name": "stderr",
     "output_type": "stream",
     "text": [
      " 36%|█████████████▋                        | 719/2000 [33:42<1:05:25,  3.06s/it]"
     ]
    },
    {
     "name": "stdout",
     "output_type": "stream",
     "text": [
      "{'mapbox_fetched_img': False, 'mapbox_img': 'mapbox/155277/133823/18.jpg', 'mapbox_added_arrow': True, 'bing_fetched_img': False, 'bing_img': 'bing/155277/133823/18.jpg', 'bing_added_arrow': True}\n"
     ]
    },
    {
     "name": "stderr",
     "output_type": "stream",
     "text": [
      " 36%|█████████████▋                        | 720/2000 [33:46<1:12:09,  3.38s/it]"
     ]
    },
    {
     "name": "stdout",
     "output_type": "stream",
     "text": [
      "{'mapbox_fetched_img': False, 'mapbox_img': 'mapbox/155277/133823/18.jpg', 'mapbox_added_arrow': True, 'bing_fetched_img': False, 'bing_img': 'bing/155277/133823/18.jpg', 'bing_added_arrow': True}\n"
     ]
    },
    {
     "name": "stderr",
     "output_type": "stream",
     "text": [
      " 36%|█████████████▋                        | 721/2000 [33:50<1:17:16,  3.63s/it]"
     ]
    },
    {
     "name": "stdout",
     "output_type": "stream",
     "text": [
      "{'mapbox_fetched_img': False, 'mapbox_img': 'mapbox/155277/133823/18.jpg', 'mapbox_added_arrow': True, 'bing_fetched_img': False, 'bing_img': 'bing/155277/133823/18.jpg', 'bing_added_arrow': True}\n"
     ]
    },
    {
     "name": "stderr",
     "output_type": "stream",
     "text": [
      " 36%|█████████████▋                        | 722/2000 [33:53<1:15:38,  3.55s/it]"
     ]
    },
    {
     "name": "stdout",
     "output_type": "stream",
     "text": [
      "{'mapbox_fetched_img': False, 'mapbox_img': 'mapbox/155277/133823/18.jpg', 'mapbox_added_arrow': True, 'bing_fetched_img': False, 'bing_img': 'bing/155277/133823/18.jpg', 'bing_added_arrow': True}\n"
     ]
    },
    {
     "name": "stderr",
     "output_type": "stream",
     "text": [
      " 36%|█████████████▋                        | 723/2000 [33:56<1:11:43,  3.37s/it]"
     ]
    },
    {
     "name": "stdout",
     "output_type": "stream",
     "text": [
      "{'mapbox_fetched_img': False, 'mapbox_img': 'mapbox/155277/133823/18.jpg', 'mapbox_added_arrow': True, 'bing_fetched_img': False, 'bing_img': 'bing/155277/133823/18.jpg', 'bing_added_arrow': True}\n"
     ]
    },
    {
     "name": "stderr",
     "output_type": "stream",
     "text": [
      " 36%|█████████████▊                        | 724/2000 [34:02<1:26:41,  4.08s/it]"
     ]
    },
    {
     "name": "stdout",
     "output_type": "stream",
     "text": [
      "{'mapbox_fetched_img': False, 'mapbox_img': 'mapbox/155277/133823/18.jpg', 'mapbox_added_arrow': True, 'bing_fetched_img': False, 'bing_img': 'bing/155277/133823/18.jpg', 'bing_added_arrow': True}\n"
     ]
    },
    {
     "name": "stderr",
     "output_type": "stream",
     "text": [
      " 36%|█████████████▊                        | 725/2000 [34:04<1:17:07,  3.63s/it]"
     ]
    },
    {
     "name": "stdout",
     "output_type": "stream",
     "text": [
      "{'mapbox_fetched_img': False, 'mapbox_img': 'mapbox/155277/133823/18.jpg', 'mapbox_added_arrow': True, 'bing_fetched_img': False, 'bing_img': 'bing/155277/133823/18.jpg', 'bing_added_arrow': True}\n"
     ]
    },
    {
     "name": "stderr",
     "output_type": "stream",
     "text": [
      " 36%|█████████████▊                        | 726/2000 [34:07<1:09:24,  3.27s/it]"
     ]
    },
    {
     "name": "stdout",
     "output_type": "stream",
     "text": [
      "{'mapbox_fetched_img': False, 'mapbox_img': 'mapbox/155277/133823/18.jpg', 'mapbox_added_arrow': True, 'bing_fetched_img': False, 'bing_img': 'bing/155277/133823/18.jpg', 'bing_added_arrow': True}\n"
     ]
    },
    {
     "name": "stderr",
     "output_type": "stream",
     "text": [
      " 36%|█████████████▊                        | 727/2000 [34:12<1:23:22,  3.93s/it]"
     ]
    },
    {
     "name": "stdout",
     "output_type": "stream",
     "text": [
      "{'mapbox_fetched_img': False, 'mapbox_img': 'mapbox/155277/133823/18.jpg', 'mapbox_added_arrow': True, 'bing_fetched_img': False, 'bing_img': 'bing/155277/133823/18.jpg', 'bing_added_arrow': True}\n"
     ]
    },
    {
     "name": "stderr",
     "output_type": "stream",
     "text": [
      " 36%|█████████████▊                        | 728/2000 [34:17<1:25:16,  4.02s/it]"
     ]
    },
    {
     "name": "stdout",
     "output_type": "stream",
     "text": [
      "{'mapbox_fetched_img': False, 'mapbox_img': 'mapbox/155277/133823/18.jpg', 'mapbox_added_arrow': True, 'bing_fetched_img': False, 'bing_img': 'bing/155277/133823/18.jpg', 'bing_added_arrow': True}\n"
     ]
    },
    {
     "name": "stderr",
     "output_type": "stream",
     "text": [
      " 36%|█████████████▊                        | 729/2000 [34:20<1:22:25,  3.89s/it]"
     ]
    },
    {
     "name": "stdout",
     "output_type": "stream",
     "text": [
      "{'mapbox_fetched_img': False, 'mapbox_img': 'mapbox/155277/133823/18.jpg', 'mapbox_added_arrow': True, 'bing_fetched_img': False, 'bing_img': 'bing/155277/133823/18.jpg', 'bing_added_arrow': True}\n"
     ]
    },
    {
     "name": "stderr",
     "output_type": "stream",
     "text": [
      " 36%|█████████████▊                        | 730/2000 [34:23<1:14:17,  3.51s/it]"
     ]
    },
    {
     "name": "stdout",
     "output_type": "stream",
     "text": [
      "{'mapbox_fetched_img': False, 'mapbox_img': 'mapbox/155277/133823/18.jpg', 'mapbox_added_arrow': True, 'bing_fetched_img': False, 'bing_img': 'bing/155277/133823/18.jpg', 'bing_added_arrow': True}\n"
     ]
    },
    {
     "name": "stderr",
     "output_type": "stream",
     "text": [
      " 37%|█████████████▉                        | 731/2000 [34:25<1:06:52,  3.16s/it]"
     ]
    },
    {
     "name": "stdout",
     "output_type": "stream",
     "text": [
      "{'mapbox_fetched_img': False, 'mapbox_img': 'mapbox/155277/133823/18.jpg', 'mapbox_added_arrow': True, 'bing_fetched_img': False, 'bing_img': 'bing/155277/133823/18.jpg', 'bing_added_arrow': True}\n"
     ]
    },
    {
     "name": "stderr",
     "output_type": "stream",
     "text": [
      " 37%|██████████████▋                         | 732/2000 [34:27<59:45,  2.83s/it]"
     ]
    },
    {
     "name": "stdout",
     "output_type": "stream",
     "text": [
      "{'mapbox_fetched_img': False, 'mapbox_img': 'mapbox/155277/133823/18.jpg', 'mapbox_added_arrow': True, 'bing_fetched_img': False, 'bing_img': 'bing/155277/133823/18.jpg', 'bing_added_arrow': True}\n"
     ]
    },
    {
     "name": "stderr",
     "output_type": "stream",
     "text": [
      " 37%|█████████████▉                        | 733/2000 [34:30<1:00:02,  2.84s/it]"
     ]
    },
    {
     "name": "stdout",
     "output_type": "stream",
     "text": [
      "{'mapbox_fetched_img': False, 'mapbox_img': 'mapbox/155277/133823/18.jpg', 'mapbox_added_arrow': True, 'bing_fetched_img': False, 'bing_img': 'bing/155277/133823/18.jpg', 'bing_added_arrow': True}\n"
     ]
    },
    {
     "name": "stderr",
     "output_type": "stream",
     "text": [
      " 37%|█████████████▉                        | 734/2000 [34:33<1:00:30,  2.87s/it]"
     ]
    },
    {
     "name": "stdout",
     "output_type": "stream",
     "text": [
      "{'mapbox_fetched_img': False, 'mapbox_img': 'mapbox/155277/133823/18.jpg', 'mapbox_added_arrow': True, 'bing_fetched_img': False, 'bing_img': 'bing/155277/133823/18.jpg', 'bing_added_arrow': True}\n"
     ]
    },
    {
     "name": "stderr",
     "output_type": "stream",
     "text": [
      " 37%|██████████████▋                         | 735/2000 [34:35<55:20,  2.62s/it]"
     ]
    },
    {
     "name": "stdout",
     "output_type": "stream",
     "text": [
      "{'mapbox_fetched_img': False, 'mapbox_img': 'mapbox/155277/133823/18.jpg', 'mapbox_added_arrow': True, 'bing_fetched_img': False, 'bing_img': 'bing/155277/133823/18.jpg', 'bing_added_arrow': True}\n"
     ]
    },
    {
     "name": "stderr",
     "output_type": "stream",
     "text": [
      " 37%|█████████████▉                        | 736/2000 [34:39<1:06:29,  3.16s/it]"
     ]
    },
    {
     "name": "stdout",
     "output_type": "stream",
     "text": [
      "{'mapbox_fetched_img': False, 'mapbox_img': 'mapbox/155277/133823/18.jpg', 'mapbox_added_arrow': True, 'bing_fetched_img': False, 'bing_img': 'bing/155277/133823/18.jpg', 'bing_added_arrow': True}\n"
     ]
    },
    {
     "name": "stderr",
     "output_type": "stream",
     "text": [
      " 37%|██████████████                        | 737/2000 [34:44<1:16:04,  3.61s/it]"
     ]
    },
    {
     "name": "stdout",
     "output_type": "stream",
     "text": [
      "{'mapbox_fetched_img': False, 'mapbox_img': 'mapbox/155277/133823/18.jpg', 'mapbox_added_arrow': True, 'bing_fetched_img': False, 'bing_img': 'bing/155277/133823/18.jpg', 'bing_added_arrow': True}\n"
     ]
    },
    {
     "name": "stderr",
     "output_type": "stream",
     "text": [
      " 37%|██████████████                        | 738/2000 [34:48<1:19:57,  3.80s/it]"
     ]
    },
    {
     "name": "stdout",
     "output_type": "stream",
     "text": [
      "{'mapbox_fetched_img': False, 'mapbox_img': 'mapbox/155277/133823/18.jpg', 'mapbox_added_arrow': True, 'bing_fetched_img': False, 'bing_img': 'bing/155277/133823/18.jpg', 'bing_added_arrow': True}\n"
     ]
    },
    {
     "name": "stderr",
     "output_type": "stream",
     "text": [
      " 37%|██████████████                        | 739/2000 [34:52<1:20:24,  3.83s/it]"
     ]
    },
    {
     "name": "stdout",
     "output_type": "stream",
     "text": [
      "{'mapbox_fetched_img': False, 'mapbox_img': 'mapbox/155277/133823/18.jpg', 'mapbox_added_arrow': True, 'bing_fetched_img': False, 'bing_img': 'bing/155277/133823/18.jpg', 'bing_added_arrow': True}\n"
     ]
    },
    {
     "name": "stderr",
     "output_type": "stream",
     "text": [
      " 37%|██████████████                        | 740/2000 [34:55<1:10:27,  3.36s/it]"
     ]
    },
    {
     "name": "stdout",
     "output_type": "stream",
     "text": [
      "{'mapbox_fetched_img': False, 'mapbox_img': 'mapbox/155277/133823/18.jpg', 'mapbox_added_arrow': True, 'bing_fetched_img': False, 'bing_img': 'bing/155277/133823/18.jpg', 'bing_added_arrow': True}\n"
     ]
    },
    {
     "name": "stderr",
     "output_type": "stream",
     "text": [
      " 37%|██████████████                        | 741/2000 [34:57<1:02:47,  2.99s/it]"
     ]
    },
    {
     "name": "stdout",
     "output_type": "stream",
     "text": [
      "{'mapbox_fetched_img': False, 'mapbox_img': 'mapbox/155277/133823/18.jpg', 'mapbox_added_arrow': True, 'bing_fetched_img': False, 'bing_img': 'bing/155277/133823/18.jpg', 'bing_added_arrow': True}\n"
     ]
    },
    {
     "name": "stderr",
     "output_type": "stream",
     "text": [
      " 37%|██████████████▊                         | 742/2000 [34:59<56:04,  2.67s/it]"
     ]
    },
    {
     "name": "stdout",
     "output_type": "stream",
     "text": [
      "{'mapbox_fetched_img': False, 'mapbox_img': 'mapbox/155277/133823/18.jpg', 'mapbox_added_arrow': True, 'bing_fetched_img': False, 'bing_img': 'bing/155277/133823/18.jpg', 'bing_added_arrow': True}\n"
     ]
    },
    {
     "name": "stderr",
     "output_type": "stream",
     "text": [
      " 37%|██████████████▊                         | 743/2000 [35:02<58:02,  2.77s/it]"
     ]
    },
    {
     "name": "stdout",
     "output_type": "stream",
     "text": [
      "{'mapbox_fetched_img': False, 'mapbox_img': 'mapbox/155277/133823/18.jpg', 'mapbox_added_arrow': True, 'bing_fetched_img': False, 'bing_img': 'bing/155277/133823/18.jpg', 'bing_added_arrow': True}\n"
     ]
    },
    {
     "name": "stderr",
     "output_type": "stream",
     "text": [
      " 37%|██████████████▏                       | 744/2000 [35:06<1:07:25,  3.22s/it]"
     ]
    },
    {
     "name": "stdout",
     "output_type": "stream",
     "text": [
      "{'mapbox_fetched_img': False, 'mapbox_img': 'mapbox/155277/133823/18.jpg', 'mapbox_added_arrow': True, 'bing_fetched_img': False, 'bing_img': 'bing/155277/133823/18.jpg', 'bing_added_arrow': True}\n"
     ]
    },
    {
     "name": "stderr",
     "output_type": "stream",
     "text": [
      " 37%|██████████████▏                       | 745/2000 [35:09<1:05:31,  3.13s/it]"
     ]
    },
    {
     "name": "stdout",
     "output_type": "stream",
     "text": [
      "{'mapbox_fetched_img': False, 'mapbox_img': 'mapbox/155277/133823/18.jpg', 'mapbox_added_arrow': True, 'bing_fetched_img': False, 'bing_img': 'bing/155277/133823/18.jpg', 'bing_added_arrow': True}\n"
     ]
    },
    {
     "name": "stderr",
     "output_type": "stream",
     "text": [
      " 37%|██████████████▏                       | 746/2000 [35:13<1:10:04,  3.35s/it]"
     ]
    },
    {
     "name": "stdout",
     "output_type": "stream",
     "text": [
      "{'mapbox_fetched_img': False, 'mapbox_img': 'mapbox/155277/133823/18.jpg', 'mapbox_added_arrow': True, 'bing_fetched_img': False, 'bing_img': 'bing/155277/133823/18.jpg', 'bing_added_arrow': True}\n"
     ]
    },
    {
     "name": "stderr",
     "output_type": "stream",
     "text": [
      " 37%|██████████████▏                       | 747/2000 [35:15<1:04:37,  3.09s/it]"
     ]
    },
    {
     "name": "stdout",
     "output_type": "stream",
     "text": [
      "{'mapbox_fetched_img': False, 'mapbox_img': 'mapbox/155277/133823/18.jpg', 'mapbox_added_arrow': True, 'bing_fetched_img': False, 'bing_img': 'bing/155277/133823/18.jpg', 'bing_added_arrow': True}\n"
     ]
    },
    {
     "name": "stderr",
     "output_type": "stream",
     "text": [
      " 37%|██████████████▏                       | 748/2000 [35:18<1:00:30,  2.90s/it]"
     ]
    },
    {
     "name": "stdout",
     "output_type": "stream",
     "text": [
      "{'mapbox_fetched_img': False, 'mapbox_img': 'mapbox/155277/133823/18.jpg', 'mapbox_added_arrow': True, 'bing_fetched_img': False, 'bing_img': 'bing/155277/133823/18.jpg', 'bing_added_arrow': True}\n"
     ]
    },
    {
     "name": "stderr",
     "output_type": "stream",
     "text": [
      " 37%|██████████████▉                         | 749/2000 [35:20<56:06,  2.69s/it]"
     ]
    },
    {
     "name": "stdout",
     "output_type": "stream",
     "text": [
      "{'mapbox_fetched_img': False, 'mapbox_img': 'mapbox/155277/133823/18.jpg', 'mapbox_added_arrow': True, 'bing_fetched_img': False, 'bing_img': 'bing/155277/133823/18.jpg', 'bing_added_arrow': True}\n"
     ]
    },
    {
     "name": "stderr",
     "output_type": "stream",
     "text": [
      " 38%|██████████████▎                       | 750/2000 [35:24<1:07:58,  3.26s/it]"
     ]
    },
    {
     "name": "stdout",
     "output_type": "stream",
     "text": [
      "{'mapbox_fetched_img': False, 'mapbox_img': 'mapbox/155277/133823/18.jpg', 'mapbox_added_arrow': True, 'bing_fetched_img': False, 'bing_img': 'bing/155277/133823/18.jpg', 'bing_added_arrow': True}\n"
     ]
    },
    {
     "name": "stderr",
     "output_type": "stream",
     "text": [
      " 38%|██████████████▎                       | 751/2000 [35:32<1:34:50,  4.56s/it]"
     ]
    },
    {
     "name": "stdout",
     "output_type": "stream",
     "text": [
      "{'mapbox_fetched_img': False, 'mapbox_img': 'mapbox/155277/133823/18.jpg', 'mapbox_added_arrow': True, 'bing_fetched_img': False, 'bing_img': 'bing/155277/133823/18.jpg', 'bing_added_arrow': True}\n"
     ]
    },
    {
     "name": "stderr",
     "output_type": "stream",
     "text": [
      " 38%|██████████████▎                       | 752/2000 [35:36<1:28:16,  4.24s/it]"
     ]
    },
    {
     "name": "stdout",
     "output_type": "stream",
     "text": [
      "{'mapbox_fetched_img': False, 'mapbox_img': 'mapbox/155277/133823/18.jpg', 'mapbox_added_arrow': True, 'bing_fetched_img': False, 'bing_img': 'bing/155277/133823/18.jpg', 'bing_added_arrow': True}\n"
     ]
    },
    {
     "name": "stderr",
     "output_type": "stream",
     "text": [
      " 38%|██████████████▎                       | 753/2000 [35:40<1:28:46,  4.27s/it]"
     ]
    },
    {
     "name": "stdout",
     "output_type": "stream",
     "text": [
      "{'mapbox_fetched_img': False, 'mapbox_img': 'mapbox/155277/133823/18.jpg', 'mapbox_added_arrow': True, 'bing_fetched_img': False, 'bing_img': 'bing/155277/133823/18.jpg', 'bing_added_arrow': True}\n"
     ]
    },
    {
     "name": "stderr",
     "output_type": "stream",
     "text": [
      " 38%|██████████████▎                       | 754/2000 [35:42<1:17:28,  3.73s/it]"
     ]
    },
    {
     "name": "stdout",
     "output_type": "stream",
     "text": [
      "{'mapbox_fetched_img': False, 'mapbox_img': 'mapbox/155277/133823/18.jpg', 'mapbox_added_arrow': True, 'bing_fetched_img': False, 'bing_img': 'bing/155277/133823/18.jpg', 'bing_added_arrow': True}\n"
     ]
    },
    {
     "name": "stderr",
     "output_type": "stream",
     "text": [
      " 38%|██████████████▎                       | 755/2000 [35:45<1:11:03,  3.42s/it]"
     ]
    },
    {
     "name": "stdout",
     "output_type": "stream",
     "text": [
      "{'mapbox_fetched_img': False, 'mapbox_img': 'mapbox/155277/133823/18.jpg', 'mapbox_added_arrow': True, 'bing_fetched_img': False, 'bing_img': 'bing/155277/133823/18.jpg', 'bing_added_arrow': True}\n"
     ]
    },
    {
     "name": "stderr",
     "output_type": "stream",
     "text": [
      " 38%|██████████████▎                       | 756/2000 [35:49<1:15:07,  3.62s/it]"
     ]
    },
    {
     "name": "stdout",
     "output_type": "stream",
     "text": [
      "{'mapbox_fetched_img': False, 'mapbox_img': 'mapbox/155277/133823/18.jpg', 'mapbox_added_arrow': True, 'bing_fetched_img': False, 'bing_img': 'bing/155277/133823/18.jpg', 'bing_added_arrow': True}\n"
     ]
    },
    {
     "name": "stderr",
     "output_type": "stream",
     "text": [
      " 38%|██████████████▍                       | 757/2000 [35:54<1:20:54,  3.91s/it]"
     ]
    },
    {
     "name": "stdout",
     "output_type": "stream",
     "text": [
      "{'mapbox_fetched_img': False, 'mapbox_img': 'mapbox/155277/133823/18.jpg', 'mapbox_added_arrow': True, 'bing_fetched_img': False, 'bing_img': 'bing/155277/133823/18.jpg', 'bing_added_arrow': True}\n"
     ]
    },
    {
     "name": "stderr",
     "output_type": "stream",
     "text": [
      " 38%|██████████████▍                       | 758/2000 [35:57<1:17:29,  3.74s/it]"
     ]
    },
    {
     "name": "stdout",
     "output_type": "stream",
     "text": [
      "{'mapbox_fetched_img': False, 'mapbox_img': 'mapbox/155277/133823/18.jpg', 'mapbox_added_arrow': True, 'bing_fetched_img': False, 'bing_img': 'bing/155277/133823/18.jpg', 'bing_added_arrow': True}\n"
     ]
    },
    {
     "name": "stderr",
     "output_type": "stream",
     "text": [
      " 38%|██████████████▍                       | 759/2000 [35:59<1:07:26,  3.26s/it]"
     ]
    },
    {
     "name": "stdout",
     "output_type": "stream",
     "text": [
      "{'mapbox_fetched_img': False, 'mapbox_img': 'mapbox/155277/133823/18.jpg', 'mapbox_added_arrow': True, 'bing_fetched_img': False, 'bing_img': 'bing/155277/133823/18.jpg', 'bing_added_arrow': True}\n"
     ]
    },
    {
     "name": "stderr",
     "output_type": "stream",
     "text": [
      " 38%|██████████████▍                       | 760/2000 [36:02<1:01:53,  2.99s/it]"
     ]
    },
    {
     "name": "stdout",
     "output_type": "stream",
     "text": [
      "{'mapbox_fetched_img': False, 'mapbox_img': 'mapbox/155277/133823/18.jpg', 'mapbox_added_arrow': True, 'bing_fetched_img': False, 'bing_img': 'bing/155277/133823/18.jpg', 'bing_added_arrow': True}\n"
     ]
    },
    {
     "name": "stderr",
     "output_type": "stream",
     "text": [
      " 38%|██████████████▍                       | 761/2000 [36:06<1:10:31,  3.42s/it]"
     ]
    },
    {
     "name": "stdout",
     "output_type": "stream",
     "text": [
      "{'mapbox_fetched_img': False, 'mapbox_img': 'mapbox/155277/133823/18.jpg', 'mapbox_added_arrow': True, 'bing_fetched_img': False, 'bing_img': 'bing/155277/133823/18.jpg', 'bing_added_arrow': True}\n"
     ]
    },
    {
     "name": "stderr",
     "output_type": "stream",
     "text": [
      " 38%|██████████████▍                       | 762/2000 [36:09<1:07:26,  3.27s/it]"
     ]
    },
    {
     "name": "stdout",
     "output_type": "stream",
     "text": [
      "{'mapbox_fetched_img': False, 'mapbox_img': 'mapbox/155277/133823/18.jpg', 'mapbox_added_arrow': True, 'bing_fetched_img': False, 'bing_img': 'bing/155277/133823/18.jpg', 'bing_added_arrow': True}\n"
     ]
    },
    {
     "name": "stderr",
     "output_type": "stream",
     "text": [
      " 38%|██████████████▍                       | 763/2000 [36:12<1:03:24,  3.08s/it]"
     ]
    },
    {
     "name": "stdout",
     "output_type": "stream",
     "text": [
      "{'mapbox_fetched_img': False, 'mapbox_img': 'mapbox/155277/133823/18.jpg', 'mapbox_added_arrow': True, 'bing_fetched_img': False, 'bing_img': 'bing/155277/133823/18.jpg', 'bing_added_arrow': True}\n"
     ]
    },
    {
     "name": "stderr",
     "output_type": "stream",
     "text": [
      " 38%|██████████████▌                       | 764/2000 [36:18<1:24:56,  4.12s/it]"
     ]
    },
    {
     "name": "stdout",
     "output_type": "stream",
     "text": [
      "{'mapbox_fetched_img': False, 'mapbox_img': 'mapbox/155277/133823/18.jpg', 'mapbox_added_arrow': True, 'bing_fetched_img': False, 'bing_img': 'bing/155277/133823/18.jpg', 'bing_added_arrow': True}\n"
     ]
    },
    {
     "name": "stderr",
     "output_type": "stream",
     "text": [
      " 38%|██████████████▌                       | 765/2000 [36:23<1:31:53,  4.46s/it]"
     ]
    },
    {
     "name": "stdout",
     "output_type": "stream",
     "text": [
      "{'mapbox_fetched_img': False, 'mapbox_img': 'mapbox/155277/133823/18.jpg', 'mapbox_added_arrow': True, 'bing_fetched_img': False, 'bing_img': 'bing/155277/133823/18.jpg', 'bing_added_arrow': True}\n"
     ]
    },
    {
     "name": "stderr",
     "output_type": "stream",
     "text": [
      " 38%|██████████████▌                       | 766/2000 [36:27<1:27:15,  4.24s/it]"
     ]
    },
    {
     "name": "stdout",
     "output_type": "stream",
     "text": [
      "{'mapbox_fetched_img': False, 'mapbox_img': 'mapbox/155277/133823/18.jpg', 'mapbox_added_arrow': True, 'bing_fetched_img': False, 'bing_img': 'bing/155277/133823/18.jpg', 'bing_added_arrow': True}\n"
     ]
    },
    {
     "name": "stderr",
     "output_type": "stream",
     "text": [
      " 38%|██████████████▌                       | 767/2000 [36:30<1:21:23,  3.96s/it]"
     ]
    },
    {
     "name": "stdout",
     "output_type": "stream",
     "text": [
      "{'mapbox_fetched_img': False, 'mapbox_img': 'mapbox/155277/133823/18.jpg', 'mapbox_added_arrow': True, 'bing_fetched_img': False, 'bing_img': 'bing/155277/133823/18.jpg', 'bing_added_arrow': True}\n"
     ]
    },
    {
     "name": "stderr",
     "output_type": "stream",
     "text": [
      " 38%|██████████████▌                       | 768/2000 [36:34<1:17:13,  3.76s/it]"
     ]
    },
    {
     "name": "stdout",
     "output_type": "stream",
     "text": [
      "{'mapbox_fetched_img': False, 'mapbox_img': 'mapbox/155277/133823/18.jpg', 'mapbox_added_arrow': True, 'bing_fetched_img': False, 'bing_img': 'bing/155277/133823/18.jpg', 'bing_added_arrow': True}\n"
     ]
    },
    {
     "name": "stderr",
     "output_type": "stream",
     "text": [
      " 38%|██████████████▌                       | 769/2000 [36:36<1:11:12,  3.47s/it]"
     ]
    },
    {
     "name": "stdout",
     "output_type": "stream",
     "text": [
      "{'mapbox_fetched_img': False, 'mapbox_img': 'mapbox/155277/133823/18.jpg', 'mapbox_added_arrow': True, 'bing_fetched_img': False, 'bing_img': 'bing/155277/133823/18.jpg', 'bing_added_arrow': True}\n"
     ]
    },
    {
     "name": "stderr",
     "output_type": "stream",
     "text": [
      " 38%|██████████████▋                       | 770/2000 [36:39<1:04:19,  3.14s/it]"
     ]
    },
    {
     "name": "stdout",
     "output_type": "stream",
     "text": [
      "{'mapbox_fetched_img': False, 'mapbox_img': 'mapbox/155277/133823/18.jpg', 'mapbox_added_arrow': True, 'bing_fetched_img': False, 'bing_img': 'bing/155277/133823/18.jpg', 'bing_added_arrow': True}\n"
     ]
    },
    {
     "name": "stderr",
     "output_type": "stream",
     "text": [
      " 39%|██████████████▋                       | 771/2000 [36:42<1:01:47,  3.02s/it]"
     ]
    },
    {
     "name": "stdout",
     "output_type": "stream",
     "text": [
      "{'mapbox_fetched_img': False, 'mapbox_img': 'mapbox/155277/133823/18.jpg', 'mapbox_added_arrow': True, 'bing_fetched_img': False, 'bing_img': 'bing/155277/133823/18.jpg', 'bing_added_arrow': True}\n"
     ]
    },
    {
     "name": "stderr",
     "output_type": "stream",
     "text": [
      " 39%|██████████████▋                       | 772/2000 [36:45<1:07:23,  3.29s/it]"
     ]
    },
    {
     "name": "stdout",
     "output_type": "stream",
     "text": [
      "{'mapbox_fetched_img': False, 'mapbox_img': 'mapbox/155277/133823/18.jpg', 'mapbox_added_arrow': True, 'bing_fetched_img': False, 'bing_img': 'bing/155277/133823/18.jpg', 'bing_added_arrow': True}\n"
     ]
    },
    {
     "name": "stderr",
     "output_type": "stream",
     "text": [
      " 39%|██████████████▋                       | 773/2000 [36:49<1:08:02,  3.33s/it]"
     ]
    },
    {
     "name": "stdout",
     "output_type": "stream",
     "text": [
      "{'mapbox_fetched_img': False, 'mapbox_img': 'mapbox/155277/133823/18.jpg', 'mapbox_added_arrow': True, 'bing_fetched_img': False, 'bing_img': 'bing/155277/133823/18.jpg', 'bing_added_arrow': True}\n"
     ]
    },
    {
     "name": "stderr",
     "output_type": "stream",
     "text": [
      " 39%|██████████████▋                       | 774/2000 [36:55<1:26:53,  4.25s/it]"
     ]
    },
    {
     "name": "stdout",
     "output_type": "stream",
     "text": [
      "{'mapbox_fetched_img': False, 'mapbox_img': 'mapbox/155277/133823/18.jpg', 'mapbox_added_arrow': True, 'bing_fetched_img': False, 'bing_img': 'bing/155277/133823/18.jpg', 'bing_added_arrow': True}\n"
     ]
    },
    {
     "name": "stderr",
     "output_type": "stream",
     "text": [
      " 39%|██████████████▋                       | 775/2000 [37:02<1:43:36,  5.07s/it]"
     ]
    },
    {
     "name": "stdout",
     "output_type": "stream",
     "text": [
      "{'mapbox_fetched_img': False, 'mapbox_img': 'mapbox/155277/133823/18.jpg', 'mapbox_added_arrow': True, 'bing_fetched_img': False, 'bing_img': 'bing/155277/133823/18.jpg', 'bing_added_arrow': True}\n"
     ]
    },
    {
     "name": "stderr",
     "output_type": "stream",
     "text": [
      " 39%|██████████████▋                       | 776/2000 [37:05<1:31:53,  4.50s/it]"
     ]
    },
    {
     "name": "stdout",
     "output_type": "stream",
     "text": [
      "{'mapbox_fetched_img': False, 'mapbox_img': 'mapbox/155277/133823/18.jpg', 'mapbox_added_arrow': True, 'bing_fetched_img': False, 'bing_img': 'bing/155277/133823/18.jpg', 'bing_added_arrow': True}\n"
     ]
    },
    {
     "name": "stderr",
     "output_type": "stream",
     "text": [
      " 39%|██████████████▊                       | 777/2000 [37:08<1:17:54,  3.82s/it]"
     ]
    },
    {
     "name": "stdout",
     "output_type": "stream",
     "text": [
      "{'mapbox_fetched_img': False, 'mapbox_img': 'mapbox/155277/133823/18.jpg', 'mapbox_added_arrow': True, 'bing_fetched_img': False, 'bing_img': 'bing/155277/133823/18.jpg', 'bing_added_arrow': True}\n"
     ]
    },
    {
     "name": "stderr",
     "output_type": "stream",
     "text": [
      " 39%|██████████████▊                       | 778/2000 [37:11<1:15:06,  3.69s/it]"
     ]
    },
    {
     "name": "stdout",
     "output_type": "stream",
     "text": [
      "{'mapbox_fetched_img': False, 'mapbox_img': 'mapbox/155277/133823/18.jpg', 'mapbox_added_arrow': True, 'bing_fetched_img': False, 'bing_img': 'bing/155277/133823/18.jpg', 'bing_added_arrow': True}\n"
     ]
    },
    {
     "name": "stderr",
     "output_type": "stream",
     "text": [
      " 39%|██████████████▊                       | 779/2000 [37:14<1:08:53,  3.39s/it]"
     ]
    },
    {
     "name": "stdout",
     "output_type": "stream",
     "text": [
      "{'mapbox_fetched_img': False, 'mapbox_img': 'mapbox/155277/133823/18.jpg', 'mapbox_added_arrow': True, 'bing_fetched_img': False, 'bing_img': 'bing/155277/133823/18.jpg', 'bing_added_arrow': True}\n"
     ]
    },
    {
     "name": "stderr",
     "output_type": "stream",
     "text": [
      " 39%|██████████████▊                       | 780/2000 [37:17<1:07:21,  3.31s/it]"
     ]
    },
    {
     "name": "stdout",
     "output_type": "stream",
     "text": [
      "{'mapbox_fetched_img': False, 'mapbox_img': 'mapbox/155277/133823/18.jpg', 'mapbox_added_arrow': True, 'bing_fetched_img': False, 'bing_img': 'bing/155277/133823/18.jpg', 'bing_added_arrow': True}\n"
     ]
    },
    {
     "name": "stderr",
     "output_type": "stream",
     "text": [
      " 39%|██████████████▊                       | 781/2000 [37:21<1:15:03,  3.69s/it]"
     ]
    },
    {
     "name": "stdout",
     "output_type": "stream",
     "text": [
      "{'mapbox_fetched_img': False, 'mapbox_img': 'mapbox/155277/133823/18.jpg', 'mapbox_added_arrow': True, 'bing_fetched_img': False, 'bing_img': 'bing/155277/133823/18.jpg', 'bing_added_arrow': True}\n"
     ]
    },
    {
     "name": "stderr",
     "output_type": "stream",
     "text": [
      " 39%|██████████████▊                       | 782/2000 [37:25<1:14:18,  3.66s/it]"
     ]
    },
    {
     "name": "stdout",
     "output_type": "stream",
     "text": [
      "{'mapbox_fetched_img': False, 'mapbox_img': 'mapbox/155277/133823/18.jpg', 'mapbox_added_arrow': True, 'bing_fetched_img': False, 'bing_img': 'bing/155277/133823/18.jpg', 'bing_added_arrow': True}\n"
     ]
    },
    {
     "name": "stderr",
     "output_type": "stream",
     "text": [
      " 39%|██████████████▉                       | 783/2000 [37:28<1:10:08,  3.46s/it]"
     ]
    },
    {
     "name": "stdout",
     "output_type": "stream",
     "text": [
      "{'mapbox_fetched_img': False, 'mapbox_img': 'mapbox/155277/133823/18.jpg', 'mapbox_added_arrow': True, 'bing_fetched_img': False, 'bing_img': 'bing/155277/133823/18.jpg', 'bing_added_arrow': True}\n"
     ]
    },
    {
     "name": "stderr",
     "output_type": "stream",
     "text": [
      " 39%|██████████████▉                       | 784/2000 [37:32<1:14:28,  3.67s/it]"
     ]
    },
    {
     "name": "stdout",
     "output_type": "stream",
     "text": [
      "{'mapbox_fetched_img': False, 'mapbox_img': 'mapbox/155277/133823/18.jpg', 'mapbox_added_arrow': True, 'bing_fetched_img': False, 'bing_img': 'bing/155277/133823/18.jpg', 'bing_added_arrow': True}\n"
     ]
    },
    {
     "name": "stderr",
     "output_type": "stream",
     "text": [
      " 39%|██████████████▉                       | 785/2000 [37:35<1:09:32,  3.43s/it]"
     ]
    },
    {
     "name": "stdout",
     "output_type": "stream",
     "text": [
      "{'mapbox_fetched_img': False, 'mapbox_img': 'mapbox/155277/133823/18.jpg', 'mapbox_added_arrow': True, 'bing_fetched_img': False, 'bing_img': 'bing/155277/133823/18.jpg', 'bing_added_arrow': True}\n"
     ]
    },
    {
     "name": "stderr",
     "output_type": "stream",
     "text": [
      " 39%|██████████████▉                       | 786/2000 [37:38<1:06:07,  3.27s/it]"
     ]
    },
    {
     "name": "stdout",
     "output_type": "stream",
     "text": [
      "{'mapbox_fetched_img': False, 'mapbox_img': 'mapbox/155277/133823/18.jpg', 'mapbox_added_arrow': True, 'bing_fetched_img': False, 'bing_img': 'bing/155277/133823/18.jpg', 'bing_added_arrow': True}\n"
     ]
    },
    {
     "name": "stderr",
     "output_type": "stream",
     "text": [
      " 39%|██████████████▉                       | 787/2000 [37:41<1:03:13,  3.13s/it]"
     ]
    },
    {
     "name": "stdout",
     "output_type": "stream",
     "text": [
      "{'mapbox_fetched_img': False, 'mapbox_img': 'mapbox/155277/133823/18.jpg', 'mapbox_added_arrow': True, 'bing_fetched_img': False, 'bing_img': 'bing/155277/133823/18.jpg', 'bing_added_arrow': True}\n"
     ]
    },
    {
     "name": "stderr",
     "output_type": "stream",
     "text": [
      " 39%|██████████████▉                       | 788/2000 [37:44<1:01:12,  3.03s/it]"
     ]
    },
    {
     "name": "stdout",
     "output_type": "stream",
     "text": [
      "{'mapbox_fetched_img': False, 'mapbox_img': 'mapbox/155277/133823/18.jpg', 'mapbox_added_arrow': True, 'bing_fetched_img': False, 'bing_img': 'bing/155277/133823/18.jpg', 'bing_added_arrow': True}\n"
     ]
    },
    {
     "name": "stderr",
     "output_type": "stream",
     "text": [
      " 39%|███████████████▊                        | 789/2000 [37:46<56:22,  2.79s/it]"
     ]
    },
    {
     "name": "stdout",
     "output_type": "stream",
     "text": [
      "{'mapbox_fetched_img': False, 'mapbox_img': 'mapbox/155277/133823/18.jpg', 'mapbox_added_arrow': True, 'bing_fetched_img': False, 'bing_img': 'bing/155277/133823/18.jpg', 'bing_added_arrow': True}\n"
     ]
    },
    {
     "name": "stderr",
     "output_type": "stream",
     "text": [
      " 40%|███████████████▊                        | 790/2000 [37:49<56:46,  2.82s/it]"
     ]
    },
    {
     "name": "stdout",
     "output_type": "stream",
     "text": [
      "{'mapbox_fetched_img': False, 'mapbox_img': 'mapbox/155277/133823/18.jpg', 'mapbox_added_arrow': True, 'bing_fetched_img': False, 'bing_img': 'bing/155277/133823/18.jpg', 'bing_added_arrow': True}\n"
     ]
    },
    {
     "name": "stderr",
     "output_type": "stream",
     "text": [
      " 40%|███████████████▊                        | 791/2000 [37:51<53:43,  2.67s/it]"
     ]
    },
    {
     "name": "stdout",
     "output_type": "stream",
     "text": [
      "{'mapbox_fetched_img': False, 'mapbox_img': 'mapbox/155277/133823/18.jpg', 'mapbox_added_arrow': True, 'bing_fetched_img': False, 'bing_img': 'bing/155277/133823/18.jpg', 'bing_added_arrow': True}\n"
     ]
    },
    {
     "name": "stderr",
     "output_type": "stream",
     "text": [
      " 40%|███████████████▊                        | 792/2000 [37:53<47:35,  2.36s/it]"
     ]
    },
    {
     "name": "stdout",
     "output_type": "stream",
     "text": [
      "{'mapbox_fetched_img': False, 'mapbox_img': 'mapbox/155277/133823/18.jpg', 'mapbox_added_arrow': True, 'bing_fetched_img': False, 'bing_img': 'bing/155277/133823/18.jpg', 'bing_added_arrow': True}\n"
     ]
    },
    {
     "name": "stderr",
     "output_type": "stream",
     "text": [
      " 40%|███████████████▊                        | 793/2000 [37:54<43:29,  2.16s/it]"
     ]
    },
    {
     "name": "stdout",
     "output_type": "stream",
     "text": [
      "{'mapbox_fetched_img': False, 'mapbox_img': 'mapbox/155277/133823/18.jpg', 'mapbox_added_arrow': True, 'bing_fetched_img': False, 'bing_img': 'bing/155277/133823/18.jpg', 'bing_added_arrow': True}\n"
     ]
    },
    {
     "name": "stderr",
     "output_type": "stream",
     "text": [
      " 40%|███████████████▉                        | 794/2000 [37:57<45:16,  2.25s/it]"
     ]
    },
    {
     "name": "stdout",
     "output_type": "stream",
     "text": [
      "{'mapbox_fetched_img': False, 'mapbox_img': 'mapbox/155277/133823/18.jpg', 'mapbox_added_arrow': True, 'bing_fetched_img': False, 'bing_img': 'bing/155277/133823/18.jpg', 'bing_added_arrow': True}\n"
     ]
    },
    {
     "name": "stderr",
     "output_type": "stream",
     "text": [
      " 40%|███████████████▉                        | 795/2000 [37:59<41:54,  2.09s/it]"
     ]
    },
    {
     "name": "stdout",
     "output_type": "stream",
     "text": [
      "{'mapbox_fetched_img': False, 'mapbox_img': 'mapbox/155277/133823/18.jpg', 'mapbox_added_arrow': True, 'bing_fetched_img': False, 'bing_img': 'bing/155277/133823/18.jpg', 'bing_added_arrow': True}\n"
     ]
    },
    {
     "name": "stderr",
     "output_type": "stream",
     "text": [
      " 40%|███████████████▉                        | 796/2000 [38:00<39:35,  1.97s/it]"
     ]
    },
    {
     "name": "stdout",
     "output_type": "stream",
     "text": [
      "{'mapbox_fetched_img': False, 'mapbox_img': 'mapbox/155277/133823/18.jpg', 'mapbox_added_arrow': True, 'bing_fetched_img': False, 'bing_img': 'bing/155277/133823/18.jpg', 'bing_added_arrow': True}\n"
     ]
    },
    {
     "name": "stderr",
     "output_type": "stream",
     "text": [
      " 40%|███████████████▉                        | 797/2000 [38:02<38:49,  1.94s/it]"
     ]
    },
    {
     "name": "stdout",
     "output_type": "stream",
     "text": [
      "{'mapbox_fetched_img': False, 'mapbox_img': 'mapbox/155277/133823/18.jpg', 'mapbox_added_arrow': True, 'bing_fetched_img': False, 'bing_img': 'bing/155277/133823/18.jpg', 'bing_added_arrow': True}\n"
     ]
    },
    {
     "name": "stderr",
     "output_type": "stream",
     "text": [
      " 40%|███████████████▉                        | 798/2000 [38:05<43:50,  2.19s/it]"
     ]
    },
    {
     "name": "stdout",
     "output_type": "stream",
     "text": [
      "{'mapbox_fetched_img': False, 'mapbox_img': 'mapbox/155277/133823/18.jpg', 'mapbox_added_arrow': True, 'bing_fetched_img': False, 'bing_img': 'bing/155277/133823/18.jpg', 'bing_added_arrow': True}\n"
     ]
    },
    {
     "name": "stderr",
     "output_type": "stream",
     "text": [
      " 40%|███████████████▉                        | 799/2000 [38:07<41:18,  2.06s/it]"
     ]
    },
    {
     "name": "stdout",
     "output_type": "stream",
     "text": [
      "{'mapbox_fetched_img': False, 'mapbox_img': 'mapbox/155277/133823/18.jpg', 'mapbox_added_arrow': True, 'bing_fetched_img': False, 'bing_img': 'bing/155277/133823/18.jpg', 'bing_added_arrow': True}\n"
     ]
    },
    {
     "name": "stderr",
     "output_type": "stream",
     "text": [
      " 40%|████████████████                        | 800/2000 [38:09<40:58,  2.05s/it]"
     ]
    },
    {
     "name": "stdout",
     "output_type": "stream",
     "text": [
      "{'mapbox_fetched_img': False, 'mapbox_img': 'mapbox/155277/133823/18.jpg', 'mapbox_added_arrow': True, 'bing_fetched_img': False, 'bing_img': 'bing/155277/133823/18.jpg', 'bing_added_arrow': True}\n"
     ]
    },
    {
     "name": "stderr",
     "output_type": "stream",
     "text": [
      " 40%|████████████████                        | 801/2000 [38:10<39:14,  1.96s/it]"
     ]
    },
    {
     "name": "stdout",
     "output_type": "stream",
     "text": [
      "{'mapbox_fetched_img': False, 'mapbox_img': 'mapbox/155277/133823/18.jpg', 'mapbox_added_arrow': True, 'bing_fetched_img': False, 'bing_img': 'bing/155277/133823/18.jpg', 'bing_added_arrow': True}\n"
     ]
    },
    {
     "name": "stderr",
     "output_type": "stream",
     "text": [
      " 40%|████████████████                        | 802/2000 [38:12<37:58,  1.90s/it]"
     ]
    },
    {
     "name": "stdout",
     "output_type": "stream",
     "text": [
      "{'mapbox_fetched_img': False, 'mapbox_img': 'mapbox/155277/133823/18.jpg', 'mapbox_added_arrow': True, 'bing_fetched_img': False, 'bing_img': 'bing/155277/133823/18.jpg', 'bing_added_arrow': True}\n"
     ]
    },
    {
     "name": "stderr",
     "output_type": "stream",
     "text": [
      " 40%|███████████████▎                      | 803/2000 [38:18<1:01:35,  3.09s/it]"
     ]
    },
    {
     "name": "stdout",
     "output_type": "stream",
     "text": [
      "{'mapbox_fetched_img': False, 'mapbox_img': 'mapbox/155277/133823/18.jpg', 'mapbox_added_arrow': True, 'bing_fetched_img': False, 'bing_img': 'bing/155277/133823/18.jpg', 'bing_added_arrow': True}\n"
     ]
    },
    {
     "name": "stderr",
     "output_type": "stream",
     "text": [
      " 40%|███████████████▎                      | 804/2000 [38:22<1:08:52,  3.46s/it]"
     ]
    },
    {
     "name": "stdout",
     "output_type": "stream",
     "text": [
      "{'mapbox_fetched_img': False, 'mapbox_img': 'mapbox/155277/133823/18.jpg', 'mapbox_added_arrow': True, 'bing_fetched_img': False, 'bing_img': 'bing/155277/133823/18.jpg', 'bing_added_arrow': True}\n"
     ]
    },
    {
     "name": "stderr",
     "output_type": "stream",
     "text": [
      " 40%|███████████████▎                      | 805/2000 [38:25<1:03:54,  3.21s/it]"
     ]
    },
    {
     "name": "stdout",
     "output_type": "stream",
     "text": [
      "{'mapbox_fetched_img': False, 'mapbox_img': 'mapbox/155277/133823/18.jpg', 'mapbox_added_arrow': True, 'bing_fetched_img': False, 'bing_img': 'bing/155277/133823/18.jpg', 'bing_added_arrow': True}\n"
     ]
    },
    {
     "name": "stderr",
     "output_type": "stream",
     "text": [
      " 40%|████████████████                        | 806/2000 [38:27<59:34,  2.99s/it]"
     ]
    },
    {
     "name": "stdout",
     "output_type": "stream",
     "text": [
      "{'mapbox_fetched_img': False, 'mapbox_img': 'mapbox/155277/133823/18.jpg', 'mapbox_added_arrow': True, 'bing_fetched_img': False, 'bing_img': 'bing/155277/133823/18.jpg', 'bing_added_arrow': True}\n"
     ]
    },
    {
     "name": "stderr",
     "output_type": "stream",
     "text": [
      " 40%|████████████████▏                       | 807/2000 [38:29<53:27,  2.69s/it]"
     ]
    },
    {
     "name": "stdout",
     "output_type": "stream",
     "text": [
      "{'mapbox_fetched_img': False, 'mapbox_img': 'mapbox/155277/133823/18.jpg', 'mapbox_added_arrow': True, 'bing_fetched_img': False, 'bing_img': 'bing/155277/133823/18.jpg', 'bing_added_arrow': True}\n"
     ]
    },
    {
     "name": "stderr",
     "output_type": "stream",
     "text": [
      " 40%|████████████████▏                       | 808/2000 [38:31<48:46,  2.46s/it]"
     ]
    },
    {
     "name": "stdout",
     "output_type": "stream",
     "text": [
      "{'mapbox_fetched_img': False, 'mapbox_img': 'mapbox/155277/133823/18.jpg', 'mapbox_added_arrow': True, 'bing_fetched_img': False, 'bing_img': 'bing/155277/133823/18.jpg', 'bing_added_arrow': True}\n"
     ]
    },
    {
     "name": "stderr",
     "output_type": "stream",
     "text": [
      " 40%|████████████████▏                       | 809/2000 [38:34<48:09,  2.43s/it]"
     ]
    },
    {
     "name": "stdout",
     "output_type": "stream",
     "text": [
      "{'mapbox_fetched_img': False, 'mapbox_img': 'mapbox/155277/133823/18.jpg', 'mapbox_added_arrow': True, 'bing_fetched_img': False, 'bing_img': 'bing/155277/133823/18.jpg', 'bing_added_arrow': True}\n"
     ]
    },
    {
     "name": "stderr",
     "output_type": "stream",
     "text": [
      " 40%|████████████████▏                       | 810/2000 [38:36<44:46,  2.26s/it]"
     ]
    },
    {
     "name": "stdout",
     "output_type": "stream",
     "text": [
      "{'mapbox_fetched_img': False, 'mapbox_img': 'mapbox/155277/133823/18.jpg', 'mapbox_added_arrow': True, 'bing_fetched_img': False, 'bing_img': 'bing/155277/133823/18.jpg', 'bing_added_arrow': True}\n"
     ]
    },
    {
     "name": "stderr",
     "output_type": "stream",
     "text": [
      " 41%|████████████████▏                       | 811/2000 [38:40<59:58,  3.03s/it]"
     ]
    },
    {
     "name": "stdout",
     "output_type": "stream",
     "text": [
      "{'mapbox_fetched_img': False, 'mapbox_img': 'mapbox/155277/133823/18.jpg', 'mapbox_added_arrow': True, 'bing_fetched_img': False, 'bing_img': 'bing/155277/133823/18.jpg', 'bing_added_arrow': True}\n"
     ]
    },
    {
     "name": "stderr",
     "output_type": "stream",
     "text": [
      " 41%|███████████████▍                      | 812/2000 [38:44<1:04:34,  3.26s/it]"
     ]
    },
    {
     "name": "stdout",
     "output_type": "stream",
     "text": [
      "{'mapbox_fetched_img': False, 'mapbox_img': 'mapbox/155277/133823/18.jpg', 'mapbox_added_arrow': True, 'bing_fetched_img': False, 'bing_img': 'bing/155277/133823/18.jpg', 'bing_added_arrow': True}\n"
     ]
    },
    {
     "name": "stderr",
     "output_type": "stream",
     "text": [
      " 41%|████████████████▎                       | 813/2000 [38:46<58:07,  2.94s/it]"
     ]
    },
    {
     "name": "stdout",
     "output_type": "stream",
     "text": [
      "{'mapbox_fetched_img': False, 'mapbox_img': 'mapbox/155277/133823/18.jpg', 'mapbox_added_arrow': True, 'bing_fetched_img': False, 'bing_img': 'bing/155277/133823/18.jpg', 'bing_added_arrow': True}\n"
     ]
    },
    {
     "name": "stderr",
     "output_type": "stream",
     "text": [
      " 41%|████████████████▎                       | 814/2000 [38:49<54:36,  2.76s/it]"
     ]
    },
    {
     "name": "stdout",
     "output_type": "stream",
     "text": [
      "{'mapbox_fetched_img': False, 'mapbox_img': 'mapbox/155277/133823/18.jpg', 'mapbox_added_arrow': True, 'bing_fetched_img': False, 'bing_img': 'bing/155277/133823/18.jpg', 'bing_added_arrow': True}\n"
     ]
    },
    {
     "name": "stderr",
     "output_type": "stream",
     "text": [
      " 41%|████████████████▎                       | 815/2000 [38:51<50:42,  2.57s/it]"
     ]
    },
    {
     "name": "stdout",
     "output_type": "stream",
     "text": [
      "{'mapbox_fetched_img': False, 'mapbox_img': 'mapbox/155277/133823/18.jpg', 'mapbox_added_arrow': True, 'bing_fetched_img': False, 'bing_img': 'bing/155277/133823/18.jpg', 'bing_added_arrow': True}\n"
     ]
    },
    {
     "name": "stderr",
     "output_type": "stream",
     "text": [
      " 41%|████████████████▎                       | 816/2000 [38:53<48:47,  2.47s/it]"
     ]
    },
    {
     "name": "stdout",
     "output_type": "stream",
     "text": [
      "{'mapbox_fetched_img': False, 'mapbox_img': 'mapbox/155277/133823/18.jpg', 'mapbox_added_arrow': True, 'bing_fetched_img': False, 'bing_img': 'bing/155277/133823/18.jpg', 'bing_added_arrow': True}\n"
     ]
    },
    {
     "name": "stderr",
     "output_type": "stream",
     "text": [
      " 41%|████████████████▎                       | 817/2000 [38:55<45:34,  2.31s/it]"
     ]
    },
    {
     "name": "stdout",
     "output_type": "stream",
     "text": [
      "{'mapbox_fetched_img': False, 'mapbox_img': 'mapbox/155277/133823/18.jpg', 'mapbox_added_arrow': True, 'bing_fetched_img': False, 'bing_img': 'bing/155277/133823/18.jpg', 'bing_added_arrow': True}\n"
     ]
    },
    {
     "name": "stderr",
     "output_type": "stream",
     "text": [
      " 41%|████████████████▎                       | 818/2000 [38:57<43:33,  2.21s/it]"
     ]
    },
    {
     "name": "stdout",
     "output_type": "stream",
     "text": [
      "{'mapbox_fetched_img': False, 'mapbox_img': 'mapbox/155277/133823/18.jpg', 'mapbox_added_arrow': True, 'bing_fetched_img': False, 'bing_img': 'bing/155277/133823/18.jpg', 'bing_added_arrow': True}\n"
     ]
    },
    {
     "name": "stderr",
     "output_type": "stream",
     "text": [
      " 41%|████████████████▍                       | 819/2000 [38:59<41:00,  2.08s/it]"
     ]
    },
    {
     "name": "stdout",
     "output_type": "stream",
     "text": [
      "{'mapbox_fetched_img': False, 'mapbox_img': 'mapbox/155277/133823/18.jpg', 'mapbox_added_arrow': True, 'bing_fetched_img': False, 'bing_img': 'bing/155277/133823/18.jpg', 'bing_added_arrow': True}\n"
     ]
    },
    {
     "name": "stderr",
     "output_type": "stream",
     "text": [
      " 41%|████████████████▍                       | 820/2000 [39:01<43:04,  2.19s/it]"
     ]
    },
    {
     "name": "stdout",
     "output_type": "stream",
     "text": [
      "{'mapbox_fetched_img': False, 'mapbox_img': 'mapbox/155277/133823/18.jpg', 'mapbox_added_arrow': True, 'bing_fetched_img': False, 'bing_img': 'bing/155277/133823/18.jpg', 'bing_added_arrow': True}\n"
     ]
    },
    {
     "name": "stderr",
     "output_type": "stream",
     "text": [
      " 41%|████████████████▍                       | 821/2000 [39:03<40:49,  2.08s/it]"
     ]
    },
    {
     "name": "stdout",
     "output_type": "stream",
     "text": [
      "{'mapbox_fetched_img': False, 'mapbox_img': 'mapbox/155277/133823/18.jpg', 'mapbox_added_arrow': True, 'bing_fetched_img': False, 'bing_img': 'bing/155277/133823/18.jpg', 'bing_added_arrow': True}\n"
     ]
    },
    {
     "name": "stderr",
     "output_type": "stream",
     "text": [
      " 41%|████████████████▍                       | 822/2000 [39:05<41:08,  2.10s/it]"
     ]
    },
    {
     "name": "stdout",
     "output_type": "stream",
     "text": [
      "{'mapbox_fetched_img': False, 'mapbox_img': 'mapbox/155277/133823/18.jpg', 'mapbox_added_arrow': True, 'bing_fetched_img': False, 'bing_img': 'bing/155277/133823/18.jpg', 'bing_added_arrow': True}\n"
     ]
    },
    {
     "name": "stderr",
     "output_type": "stream",
     "text": [
      " 41%|████████████████▍                       | 823/2000 [39:10<56:58,  2.90s/it]"
     ]
    },
    {
     "name": "stdout",
     "output_type": "stream",
     "text": [
      "{'mapbox_fetched_img': False, 'mapbox_img': 'mapbox/155277/133823/18.jpg', 'mapbox_added_arrow': True, 'bing_fetched_img': False, 'bing_img': 'bing/155277/133823/18.jpg', 'bing_added_arrow': True}\n"
     ]
    },
    {
     "name": "stderr",
     "output_type": "stream",
     "text": [
      " 41%|███████████████▋                      | 824/2000 [39:14<1:06:02,  3.37s/it]"
     ]
    },
    {
     "name": "stdout",
     "output_type": "stream",
     "text": [
      "{'mapbox_fetched_img': False, 'mapbox_img': 'mapbox/155277/133823/18.jpg', 'mapbox_added_arrow': True, 'bing_fetched_img': False, 'bing_img': 'bing/155277/133823/18.jpg', 'bing_added_arrow': True}\n"
     ]
    },
    {
     "name": "stderr",
     "output_type": "stream",
     "text": [
      " 41%|███████████████▋                      | 825/2000 [39:17<1:00:51,  3.11s/it]"
     ]
    },
    {
     "name": "stdout",
     "output_type": "stream",
     "text": [
      "{'mapbox_fetched_img': False, 'mapbox_img': 'mapbox/155277/133823/18.jpg', 'mapbox_added_arrow': True, 'bing_fetched_img': False, 'bing_img': 'bing/155277/133823/18.jpg', 'bing_added_arrow': True}\n"
     ]
    },
    {
     "name": "stderr",
     "output_type": "stream",
     "text": [
      " 41%|████████████████▌                       | 826/2000 [39:19<55:07,  2.82s/it]"
     ]
    },
    {
     "name": "stdout",
     "output_type": "stream",
     "text": [
      "{'mapbox_fetched_img': False, 'mapbox_img': 'mapbox/155277/133823/18.jpg', 'mapbox_added_arrow': True, 'bing_fetched_img': False, 'bing_img': 'bing/155277/133823/18.jpg', 'bing_added_arrow': True}\n"
     ]
    },
    {
     "name": "stderr",
     "output_type": "stream",
     "text": [
      " 41%|████████████████▌                       | 827/2000 [39:21<49:50,  2.55s/it]"
     ]
    },
    {
     "name": "stdout",
     "output_type": "stream",
     "text": [
      "{'mapbox_fetched_img': False, 'mapbox_img': 'mapbox/155277/133823/18.jpg', 'mapbox_added_arrow': True, 'bing_fetched_img': False, 'bing_img': 'bing/155277/133823/18.jpg', 'bing_added_arrow': True}\n"
     ]
    },
    {
     "name": "stderr",
     "output_type": "stream",
     "text": [
      " 41%|████████████████▌                       | 828/2000 [39:23<46:02,  2.36s/it]"
     ]
    },
    {
     "name": "stdout",
     "output_type": "stream",
     "text": [
      "{'mapbox_fetched_img': False, 'mapbox_img': 'mapbox/155277/133823/18.jpg', 'mapbox_added_arrow': True, 'bing_fetched_img': False, 'bing_img': 'bing/155277/133823/18.jpg', 'bing_added_arrow': True}\n"
     ]
    },
    {
     "name": "stderr",
     "output_type": "stream",
     "text": [
      " 41%|████████████████▌                       | 829/2000 [39:26<50:27,  2.59s/it]"
     ]
    },
    {
     "name": "stdout",
     "output_type": "stream",
     "text": [
      "{'mapbox_fetched_img': False, 'mapbox_img': 'mapbox/155277/133823/18.jpg', 'mapbox_added_arrow': True, 'bing_fetched_img': False, 'bing_img': 'bing/155277/133823/18.jpg', 'bing_added_arrow': True}\n"
     ]
    },
    {
     "name": "stderr",
     "output_type": "stream",
     "text": [
      " 42%|████████████████▌                       | 830/2000 [39:30<57:41,  2.96s/it]"
     ]
    },
    {
     "name": "stdout",
     "output_type": "stream",
     "text": [
      "{'mapbox_fetched_img': False, 'mapbox_img': 'mapbox/155277/133823/18.jpg', 'mapbox_added_arrow': True, 'bing_fetched_img': False, 'bing_img': 'bing/155277/133823/18.jpg', 'bing_added_arrow': True}\n"
     ]
    },
    {
     "name": "stderr",
     "output_type": "stream",
     "text": [
      " 42%|███████████████▊                      | 831/2000 [39:33<1:01:02,  3.13s/it]"
     ]
    },
    {
     "name": "stdout",
     "output_type": "stream",
     "text": [
      "{'mapbox_fetched_img': False, 'mapbox_img': 'mapbox/155277/133823/18.jpg', 'mapbox_added_arrow': True, 'bing_fetched_img': False, 'bing_img': 'bing/155277/133823/18.jpg', 'bing_added_arrow': True}\n"
     ]
    },
    {
     "name": "stderr",
     "output_type": "stream",
     "text": [
      " 42%|████████████████▋                       | 832/2000 [39:36<56:21,  2.90s/it]"
     ]
    },
    {
     "name": "stdout",
     "output_type": "stream",
     "text": [
      "{'mapbox_fetched_img': False, 'mapbox_img': 'mapbox/155277/133823/18.jpg', 'mapbox_added_arrow': True, 'bing_fetched_img': False, 'bing_img': 'bing/155277/133823/18.jpg', 'bing_added_arrow': True}\n"
     ]
    },
    {
     "name": "stderr",
     "output_type": "stream",
     "text": [
      " 42%|████████████████▋                       | 833/2000 [39:38<53:21,  2.74s/it]"
     ]
    },
    {
     "name": "stdout",
     "output_type": "stream",
     "text": [
      "{'mapbox_fetched_img': False, 'mapbox_img': 'mapbox/155277/133823/18.jpg', 'mapbox_added_arrow': True, 'bing_fetched_img': False, 'bing_img': 'bing/155277/133823/18.jpg', 'bing_added_arrow': True}\n"
     ]
    },
    {
     "name": "stderr",
     "output_type": "stream",
     "text": [
      " 42%|████████████████▋                       | 834/2000 [39:40<48:47,  2.51s/it]"
     ]
    },
    {
     "name": "stdout",
     "output_type": "stream",
     "text": [
      "{'mapbox_fetched_img': False, 'mapbox_img': 'mapbox/155277/133823/18.jpg', 'mapbox_added_arrow': True, 'bing_fetched_img': False, 'bing_img': 'bing/155277/133823/18.jpg', 'bing_added_arrow': True}\n"
     ]
    },
    {
     "name": "stderr",
     "output_type": "stream",
     "text": [
      " 42%|████████████████▋                       | 835/2000 [39:43<48:15,  2.49s/it]"
     ]
    },
    {
     "name": "stdout",
     "output_type": "stream",
     "text": [
      "{'mapbox_fetched_img': False, 'mapbox_img': 'mapbox/155277/133823/18.jpg', 'mapbox_added_arrow': True, 'bing_fetched_img': False, 'bing_img': 'bing/155277/133823/18.jpg', 'bing_added_arrow': True}\n"
     ]
    },
    {
     "name": "stderr",
     "output_type": "stream",
     "text": [
      " 42%|████████████████▋                       | 836/2000 [39:45<47:41,  2.46s/it]"
     ]
    },
    {
     "name": "stdout",
     "output_type": "stream",
     "text": [
      "{'mapbox_fetched_img': False, 'mapbox_img': 'mapbox/155277/133823/18.jpg', 'mapbox_added_arrow': True, 'bing_fetched_img': False, 'bing_img': 'bing/155277/133823/18.jpg', 'bing_added_arrow': True}\n"
     ]
    },
    {
     "name": "stderr",
     "output_type": "stream",
     "text": [
      " 42%|████████████████▋                       | 837/2000 [39:47<46:55,  2.42s/it]"
     ]
    },
    {
     "name": "stdout",
     "output_type": "stream",
     "text": [
      "{'mapbox_fetched_img': False, 'mapbox_img': 'mapbox/155277/133823/18.jpg', 'mapbox_added_arrow': True, 'bing_fetched_img': False, 'bing_img': 'bing/155277/133823/18.jpg', 'bing_added_arrow': True}\n"
     ]
    },
    {
     "name": "stderr",
     "output_type": "stream",
     "text": [
      " 42%|████████████████▊                       | 838/2000 [39:49<44:44,  2.31s/it]"
     ]
    },
    {
     "name": "stdout",
     "output_type": "stream",
     "text": [
      "{'mapbox_fetched_img': False, 'mapbox_img': 'mapbox/155277/133823/18.jpg', 'mapbox_added_arrow': True, 'bing_fetched_img': False, 'bing_img': 'bing/155277/133823/18.jpg', 'bing_added_arrow': True}\n"
     ]
    },
    {
     "name": "stderr",
     "output_type": "stream",
     "text": [
      " 42%|████████████████▊                       | 839/2000 [39:52<44:34,  2.30s/it]"
     ]
    },
    {
     "name": "stdout",
     "output_type": "stream",
     "text": [
      "{'mapbox_fetched_img': False, 'mapbox_img': 'mapbox/155277/133823/18.jpg', 'mapbox_added_arrow': True, 'bing_fetched_img': False, 'bing_img': 'bing/155277/133823/18.jpg', 'bing_added_arrow': True}\n"
     ]
    },
    {
     "name": "stderr",
     "output_type": "stream",
     "text": [
      " 42%|████████████████▊                       | 840/2000 [39:53<41:48,  2.16s/it]"
     ]
    },
    {
     "name": "stdout",
     "output_type": "stream",
     "text": [
      "{'mapbox_fetched_img': False, 'mapbox_img': 'mapbox/155277/133823/18.jpg', 'mapbox_added_arrow': True, 'bing_fetched_img': False, 'bing_img': 'bing/155277/133823/18.jpg', 'bing_added_arrow': True}\n"
     ]
    },
    {
     "name": "stderr",
     "output_type": "stream",
     "text": [
      " 42%|████████████████▊                       | 841/2000 [39:55<39:07,  2.03s/it]"
     ]
    },
    {
     "name": "stdout",
     "output_type": "stream",
     "text": [
      "{'mapbox_fetched_img': False, 'mapbox_img': 'mapbox/155277/133823/18.jpg', 'mapbox_added_arrow': True, 'bing_fetched_img': False, 'bing_img': 'bing/155277/133823/18.jpg', 'bing_added_arrow': True}\n"
     ]
    },
    {
     "name": "stderr",
     "output_type": "stream",
     "text": [
      " 42%|████████████████▊                       | 842/2000 [39:58<46:22,  2.40s/it]"
     ]
    },
    {
     "name": "stdout",
     "output_type": "stream",
     "text": [
      "{'mapbox_fetched_img': False, 'mapbox_img': 'mapbox/155277/133823/18.jpg', 'mapbox_added_arrow': True, 'bing_fetched_img': False, 'bing_img': 'bing/155277/133823/18.jpg', 'bing_added_arrow': True}\n"
     ]
    },
    {
     "name": "stderr",
     "output_type": "stream",
     "text": [
      " 42%|████████████████▊                       | 843/2000 [40:00<43:17,  2.24s/it]"
     ]
    },
    {
     "name": "stdout",
     "output_type": "stream",
     "text": [
      "{'mapbox_fetched_img': False, 'mapbox_img': 'mapbox/155277/133823/18.jpg', 'mapbox_added_arrow': True, 'bing_fetched_img': False, 'bing_img': 'bing/155277/133823/18.jpg', 'bing_added_arrow': True}\n"
     ]
    },
    {
     "name": "stderr",
     "output_type": "stream",
     "text": [
      " 42%|████████████████▉                       | 844/2000 [40:02<41:15,  2.14s/it]"
     ]
    },
    {
     "name": "stdout",
     "output_type": "stream",
     "text": [
      "{'mapbox_fetched_img': False, 'mapbox_img': 'mapbox/155277/133823/18.jpg', 'mapbox_added_arrow': True, 'bing_fetched_img': False, 'bing_img': 'bing/155277/133823/18.jpg', 'bing_added_arrow': True}\n"
     ]
    },
    {
     "name": "stderr",
     "output_type": "stream",
     "text": [
      " 42%|████████████████▉                       | 845/2000 [40:04<40:44,  2.12s/it]"
     ]
    },
    {
     "name": "stdout",
     "output_type": "stream",
     "text": [
      "{'mapbox_fetched_img': False, 'mapbox_img': 'mapbox/155277/133823/18.jpg', 'mapbox_added_arrow': True, 'bing_fetched_img': False, 'bing_img': 'bing/155277/133823/18.jpg', 'bing_added_arrow': True}\n"
     ]
    },
    {
     "name": "stderr",
     "output_type": "stream",
     "text": [
      " 42%|████████████████▉                       | 846/2000 [40:06<38:33,  2.00s/it]"
     ]
    },
    {
     "name": "stdout",
     "output_type": "stream",
     "text": [
      "{'mapbox_fetched_img': False, 'mapbox_img': 'mapbox/155277/133823/18.jpg', 'mapbox_added_arrow': True, 'bing_fetched_img': False, 'bing_img': 'bing/155277/133823/18.jpg', 'bing_added_arrow': True}\n"
     ]
    },
    {
     "name": "stderr",
     "output_type": "stream",
     "text": [
      " 42%|████████████████▉                       | 847/2000 [40:08<39:16,  2.04s/it]"
     ]
    },
    {
     "name": "stdout",
     "output_type": "stream",
     "text": [
      "{'mapbox_fetched_img': False, 'mapbox_img': 'mapbox/155277/133823/18.jpg', 'mapbox_added_arrow': True, 'bing_fetched_img': False, 'bing_img': 'bing/155277/133823/18.jpg', 'bing_added_arrow': True}\n"
     ]
    },
    {
     "name": "stderr",
     "output_type": "stream",
     "text": [
      " 42%|████████████████▉                       | 848/2000 [40:10<37:52,  1.97s/it]"
     ]
    },
    {
     "name": "stdout",
     "output_type": "stream",
     "text": [
      "{'mapbox_fetched_img': False, 'mapbox_img': 'mapbox/155277/133823/18.jpg', 'mapbox_added_arrow': True, 'bing_fetched_img': False, 'bing_img': 'bing/155277/133823/18.jpg', 'bing_added_arrow': True}\n",
      "No photo found before to establish direction for TANZANIA_v2-2022-05-05_103GOPRO-G0363428\n"
     ]
    },
    {
     "name": "stderr",
     "output_type": "stream",
     "text": [
      " 42%|████████████████▉                       | 849/2000 [40:11<33:46,  1.76s/it]"
     ]
    },
    {
     "name": "stdout",
     "output_type": "stream",
     "text": [
      "No photo found before to establish direction for TANZANIA_v2-2022-05-05_103GOPRO-G0363428\n",
      "{'mapbox_fetched_img': False, 'mapbox_img': 'mapbox/155277/133823/18.jpg', 'mapbox_added_arrow': False, 'bing_fetched_img': False, 'bing_img': 'bing/155277/133823/18.jpg', 'bing_added_arrow': False}\n",
      "Fetching from: https://api.mapbox.com/styles/v1/mapbox/satellite-v9/tiles/256/18/155278/133823?access_token=pk.eyJ1IjoiaXp2b25rb3YiLCJhIjoiY2t0YXU3MTE3MDJuNjJ1bW9xYzc3bTlrMCJ9.fiGLAZ29dmYv2sqlxuaB-A\n",
      "100% [..........................................................] 12335 / 12335Fetching from: http://ecn.t0.tiles.virtualearth.net/tiles/a300101313030223332.jpeg?g=14009\n",
      "100% [..........................................................] 13869 / 13869"
     ]
    },
    {
     "name": "stderr",
     "output_type": "stream",
     "text": [
      " 42%|█████████████████                       | 850/2000 [40:15<45:05,  2.35s/it]"
     ]
    },
    {
     "name": "stdout",
     "output_type": "stream",
     "text": [
      "{'mapbox_fetched_img': True, 'mapbox_img': 'mapbox/155278/133823/18.jpg', 'mapbox_added_arrow': True, 'bing_fetched_img': True, 'bing_img': 'bing/155278/133823/18.jpg', 'bing_added_arrow': True}\n"
     ]
    },
    {
     "name": "stderr",
     "output_type": "stream",
     "text": [
      " 43%|█████████████████                       | 851/2000 [40:18<47:52,  2.50s/it]"
     ]
    },
    {
     "name": "stdout",
     "output_type": "stream",
     "text": [
      "{'mapbox_fetched_img': False, 'mapbox_img': 'mapbox/155278/133823/18.jpg', 'mapbox_added_arrow': True, 'bing_fetched_img': False, 'bing_img': 'bing/155278/133823/18.jpg', 'bing_added_arrow': True}\n"
     ]
    },
    {
     "name": "stderr",
     "output_type": "stream",
     "text": [
      " 43%|█████████████████                       | 852/2000 [40:20<45:15,  2.37s/it]"
     ]
    },
    {
     "name": "stdout",
     "output_type": "stream",
     "text": [
      "{'mapbox_fetched_img': False, 'mapbox_img': 'mapbox/155278/133823/18.jpg', 'mapbox_added_arrow': True, 'bing_fetched_img': False, 'bing_img': 'bing/155278/133823/18.jpg', 'bing_added_arrow': True}\n"
     ]
    },
    {
     "name": "stderr",
     "output_type": "stream",
     "text": [
      " 43%|█████████████████                       | 853/2000 [40:22<45:37,  2.39s/it]"
     ]
    },
    {
     "name": "stdout",
     "output_type": "stream",
     "text": [
      "{'mapbox_fetched_img': False, 'mapbox_img': 'mapbox/155278/133823/18.jpg', 'mapbox_added_arrow': True, 'bing_fetched_img': False, 'bing_img': 'bing/155278/133823/18.jpg', 'bing_added_arrow': True}\n"
     ]
    },
    {
     "name": "stderr",
     "output_type": "stream",
     "text": [
      " 43%|█████████████████                       | 854/2000 [40:24<44:27,  2.33s/it]"
     ]
    },
    {
     "name": "stdout",
     "output_type": "stream",
     "text": [
      "{'mapbox_fetched_img': False, 'mapbox_img': 'mapbox/155278/133823/18.jpg', 'mapbox_added_arrow': True, 'bing_fetched_img': False, 'bing_img': 'bing/155278/133823/18.jpg', 'bing_added_arrow': True}\n"
     ]
    },
    {
     "name": "stderr",
     "output_type": "stream",
     "text": [
      " 43%|█████████████████                       | 855/2000 [40:26<42:19,  2.22s/it]"
     ]
    },
    {
     "name": "stdout",
     "output_type": "stream",
     "text": [
      "{'mapbox_fetched_img': False, 'mapbox_img': 'mapbox/155278/133823/18.jpg', 'mapbox_added_arrow': True, 'bing_fetched_img': False, 'bing_img': 'bing/155278/133823/18.jpg', 'bing_added_arrow': True}\n"
     ]
    },
    {
     "name": "stderr",
     "output_type": "stream",
     "text": [
      " 43%|█████████████████                       | 856/2000 [40:30<49:21,  2.59s/it]"
     ]
    },
    {
     "name": "stdout",
     "output_type": "stream",
     "text": [
      "{'mapbox_fetched_img': False, 'mapbox_img': 'mapbox/155278/133823/18.jpg', 'mapbox_added_arrow': True, 'bing_fetched_img': False, 'bing_img': 'bing/155278/133823/18.jpg', 'bing_added_arrow': True}\n"
     ]
    },
    {
     "name": "stderr",
     "output_type": "stream",
     "text": [
      " 43%|█████████████████▏                      | 857/2000 [40:32<46:40,  2.45s/it]"
     ]
    },
    {
     "name": "stdout",
     "output_type": "stream",
     "text": [
      "{'mapbox_fetched_img': False, 'mapbox_img': 'mapbox/155278/133823/18.jpg', 'mapbox_added_arrow': True, 'bing_fetched_img': False, 'bing_img': 'bing/155278/133823/18.jpg', 'bing_added_arrow': True}\n"
     ]
    },
    {
     "name": "stderr",
     "output_type": "stream",
     "text": [
      " 43%|█████████████████▏                      | 858/2000 [40:36<55:41,  2.93s/it]"
     ]
    },
    {
     "name": "stdout",
     "output_type": "stream",
     "text": [
      "{'mapbox_fetched_img': False, 'mapbox_img': 'mapbox/155278/133823/18.jpg', 'mapbox_added_arrow': True, 'bing_fetched_img': False, 'bing_img': 'bing/155278/133823/18.jpg', 'bing_added_arrow': True}\n"
     ]
    },
    {
     "name": "stderr",
     "output_type": "stream",
     "text": [
      " 43%|█████████████████▏                      | 859/2000 [40:38<50:44,  2.67s/it]"
     ]
    },
    {
     "name": "stdout",
     "output_type": "stream",
     "text": [
      "{'mapbox_fetched_img': False, 'mapbox_img': 'mapbox/155278/133823/18.jpg', 'mapbox_added_arrow': True, 'bing_fetched_img': False, 'bing_img': 'bing/155278/133823/18.jpg', 'bing_added_arrow': True}\n"
     ]
    },
    {
     "name": "stderr",
     "output_type": "stream",
     "text": [
      " 43%|█████████████████▏                      | 860/2000 [40:41<51:19,  2.70s/it]"
     ]
    },
    {
     "name": "stdout",
     "output_type": "stream",
     "text": [
      "{'mapbox_fetched_img': False, 'mapbox_img': 'mapbox/155278/133823/18.jpg', 'mapbox_added_arrow': True, 'bing_fetched_img': False, 'bing_img': 'bing/155278/133823/18.jpg', 'bing_added_arrow': True}\n"
     ]
    },
    {
     "name": "stderr",
     "output_type": "stream",
     "text": [
      " 43%|█████████████████▏                      | 861/2000 [40:43<49:37,  2.61s/it]"
     ]
    },
    {
     "name": "stdout",
     "output_type": "stream",
     "text": [
      "{'mapbox_fetched_img': False, 'mapbox_img': 'mapbox/155278/133823/18.jpg', 'mapbox_added_arrow': True, 'bing_fetched_img': False, 'bing_img': 'bing/155278/133823/18.jpg', 'bing_added_arrow': True}\n"
     ]
    },
    {
     "name": "stderr",
     "output_type": "stream",
     "text": [
      " 43%|█████████████████▏                      | 862/2000 [40:46<51:58,  2.74s/it]"
     ]
    },
    {
     "name": "stdout",
     "output_type": "stream",
     "text": [
      "{'mapbox_fetched_img': False, 'mapbox_img': 'mapbox/155278/133823/18.jpg', 'mapbox_added_arrow': True, 'bing_fetched_img': False, 'bing_img': 'bing/155278/133823/18.jpg', 'bing_added_arrow': True}\n"
     ]
    },
    {
     "name": "stderr",
     "output_type": "stream",
     "text": [
      " 43%|█████████████████▎                      | 863/2000 [40:50<54:25,  2.87s/it]"
     ]
    },
    {
     "name": "stdout",
     "output_type": "stream",
     "text": [
      "{'mapbox_fetched_img': False, 'mapbox_img': 'mapbox/155278/133823/18.jpg', 'mapbox_added_arrow': True, 'bing_fetched_img': False, 'bing_img': 'bing/155278/133823/18.jpg', 'bing_added_arrow': True}\n"
     ]
    },
    {
     "name": "stderr",
     "output_type": "stream",
     "text": [
      " 43%|█████████████████▎                      | 864/2000 [40:53<55:09,  2.91s/it]"
     ]
    },
    {
     "name": "stdout",
     "output_type": "stream",
     "text": [
      "{'mapbox_fetched_img': False, 'mapbox_img': 'mapbox/155278/133823/18.jpg', 'mapbox_added_arrow': True, 'bing_fetched_img': False, 'bing_img': 'bing/155278/133823/18.jpg', 'bing_added_arrow': True}\n"
     ]
    },
    {
     "name": "stderr",
     "output_type": "stream",
     "text": [
      " 43%|█████████████████▎                      | 865/2000 [40:55<49:52,  2.64s/it]"
     ]
    },
    {
     "name": "stdout",
     "output_type": "stream",
     "text": [
      "{'mapbox_fetched_img': False, 'mapbox_img': 'mapbox/155278/133823/18.jpg', 'mapbox_added_arrow': True, 'bing_fetched_img': False, 'bing_img': 'bing/155278/133823/18.jpg', 'bing_added_arrow': True}\n"
     ]
    },
    {
     "name": "stderr",
     "output_type": "stream",
     "text": [
      " 43%|█████████████████▎                      | 866/2000 [40:57<47:00,  2.49s/it]"
     ]
    },
    {
     "name": "stdout",
     "output_type": "stream",
     "text": [
      "{'mapbox_fetched_img': False, 'mapbox_img': 'mapbox/155278/133823/18.jpg', 'mapbox_added_arrow': True, 'bing_fetched_img': False, 'bing_img': 'bing/155278/133823/18.jpg', 'bing_added_arrow': True}\n"
     ]
    },
    {
     "name": "stderr",
     "output_type": "stream",
     "text": [
      " 43%|█████████████████▎                      | 867/2000 [40:59<47:19,  2.51s/it]"
     ]
    },
    {
     "name": "stdout",
     "output_type": "stream",
     "text": [
      "{'mapbox_fetched_img': False, 'mapbox_img': 'mapbox/155278/133823/18.jpg', 'mapbox_added_arrow': True, 'bing_fetched_img': False, 'bing_img': 'bing/155278/133823/18.jpg', 'bing_added_arrow': True}\n"
     ]
    },
    {
     "name": "stderr",
     "output_type": "stream",
     "text": [
      " 43%|█████████████████▎                      | 868/2000 [41:02<48:33,  2.57s/it]"
     ]
    },
    {
     "name": "stdout",
     "output_type": "stream",
     "text": [
      "{'mapbox_fetched_img': False, 'mapbox_img': 'mapbox/155278/133823/18.jpg', 'mapbox_added_arrow': True, 'bing_fetched_img': False, 'bing_img': 'bing/155278/133823/18.jpg', 'bing_added_arrow': True}\n"
     ]
    },
    {
     "name": "stderr",
     "output_type": "stream",
     "text": [
      " 43%|█████████████████▍                      | 869/2000 [41:04<43:41,  2.32s/it]"
     ]
    },
    {
     "name": "stdout",
     "output_type": "stream",
     "text": [
      "{'mapbox_fetched_img': False, 'mapbox_img': 'mapbox/155278/133823/18.jpg', 'mapbox_added_arrow': True, 'bing_fetched_img': False, 'bing_img': 'bing/155278/133823/18.jpg', 'bing_added_arrow': True}\n"
     ]
    },
    {
     "name": "stderr",
     "output_type": "stream",
     "text": [
      " 44%|█████████████████▍                      | 870/2000 [41:05<40:35,  2.16s/it]"
     ]
    },
    {
     "name": "stdout",
     "output_type": "stream",
     "text": [
      "{'mapbox_fetched_img': False, 'mapbox_img': 'mapbox/155278/133823/18.jpg', 'mapbox_added_arrow': True, 'bing_fetched_img': False, 'bing_img': 'bing/155278/133823/18.jpg', 'bing_added_arrow': True}\n"
     ]
    },
    {
     "name": "stderr",
     "output_type": "stream",
     "text": [
      " 44%|█████████████████▍                      | 871/2000 [41:08<42:29,  2.26s/it]"
     ]
    },
    {
     "name": "stdout",
     "output_type": "stream",
     "text": [
      "{'mapbox_fetched_img': False, 'mapbox_img': 'mapbox/155278/133823/18.jpg', 'mapbox_added_arrow': True, 'bing_fetched_img': False, 'bing_img': 'bing/155278/133823/18.jpg', 'bing_added_arrow': True}\n"
     ]
    },
    {
     "name": "stderr",
     "output_type": "stream",
     "text": [
      " 44%|█████████████████▍                      | 872/2000 [41:11<44:55,  2.39s/it]"
     ]
    },
    {
     "name": "stdout",
     "output_type": "stream",
     "text": [
      "{'mapbox_fetched_img': False, 'mapbox_img': 'mapbox/155278/133823/18.jpg', 'mapbox_added_arrow': True, 'bing_fetched_img': False, 'bing_img': 'bing/155278/133823/18.jpg', 'bing_added_arrow': True}\n"
     ]
    },
    {
     "name": "stderr",
     "output_type": "stream",
     "text": [
      " 44%|████████████████▌                     | 873/2000 [41:18<1:12:13,  3.85s/it]"
     ]
    },
    {
     "name": "stdout",
     "output_type": "stream",
     "text": [
      "{'mapbox_fetched_img': False, 'mapbox_img': 'mapbox/155278/133823/18.jpg', 'mapbox_added_arrow': True, 'bing_fetched_img': False, 'bing_img': 'bing/155278/133823/18.jpg', 'bing_added_arrow': True}\n"
     ]
    },
    {
     "name": "stderr",
     "output_type": "stream",
     "text": [
      " 44%|████████████████▌                     | 874/2000 [41:23<1:22:03,  4.37s/it]"
     ]
    },
    {
     "name": "stdout",
     "output_type": "stream",
     "text": [
      "{'mapbox_fetched_img': False, 'mapbox_img': 'mapbox/155278/133823/18.jpg', 'mapbox_added_arrow': True, 'bing_fetched_img': False, 'bing_img': 'bing/155278/133823/18.jpg', 'bing_added_arrow': True}\n"
     ]
    },
    {
     "name": "stderr",
     "output_type": "stream",
     "text": [
      " 44%|████████████████▋                     | 875/2000 [41:27<1:16:35,  4.09s/it]"
     ]
    },
    {
     "name": "stdout",
     "output_type": "stream",
     "text": [
      "{'mapbox_fetched_img': False, 'mapbox_img': 'mapbox/155278/133823/18.jpg', 'mapbox_added_arrow': True, 'bing_fetched_img': False, 'bing_img': 'bing/155278/133823/18.jpg', 'bing_added_arrow': True}\n"
     ]
    },
    {
     "name": "stderr",
     "output_type": "stream",
     "text": [
      " 44%|████████████████▋                     | 876/2000 [41:30<1:12:56,  3.89s/it]"
     ]
    },
    {
     "name": "stdout",
     "output_type": "stream",
     "text": [
      "{'mapbox_fetched_img': False, 'mapbox_img': 'mapbox/155278/133823/18.jpg', 'mapbox_added_arrow': True, 'bing_fetched_img': False, 'bing_img': 'bing/155278/133823/18.jpg', 'bing_added_arrow': True}\n"
     ]
    },
    {
     "name": "stderr",
     "output_type": "stream",
     "text": [
      " 44%|████████████████▋                     | 877/2000 [41:33<1:06:57,  3.58s/it]"
     ]
    },
    {
     "name": "stdout",
     "output_type": "stream",
     "text": [
      "{'mapbox_fetched_img': False, 'mapbox_img': 'mapbox/155278/133823/18.jpg', 'mapbox_added_arrow': True, 'bing_fetched_img': False, 'bing_img': 'bing/155278/133823/18.jpg', 'bing_added_arrow': True}\n"
     ]
    },
    {
     "name": "stderr",
     "output_type": "stream",
     "text": [
      " 44%|█████████████████▌                      | 878/2000 [41:35<57:09,  3.06s/it]"
     ]
    },
    {
     "name": "stdout",
     "output_type": "stream",
     "text": [
      "{'mapbox_fetched_img': False, 'mapbox_img': 'mapbox/155278/133823/18.jpg', 'mapbox_added_arrow': True, 'bing_fetched_img': False, 'bing_img': 'bing/155278/133823/18.jpg', 'bing_added_arrow': True}\n"
     ]
    },
    {
     "name": "stderr",
     "output_type": "stream",
     "text": [
      " 44%|█████████████████▌                      | 879/2000 [41:37<51:40,  2.77s/it]"
     ]
    },
    {
     "name": "stdout",
     "output_type": "stream",
     "text": [
      "{'mapbox_fetched_img': False, 'mapbox_img': 'mapbox/155278/133823/18.jpg', 'mapbox_added_arrow': True, 'bing_fetched_img': False, 'bing_img': 'bing/155278/133823/18.jpg', 'bing_added_arrow': True}\n",
      "No photo found before to establish direction for TANZANIA_v2-2022-05-05_103GOPRO-G0373460\n"
     ]
    },
    {
     "name": "stderr",
     "output_type": "stream",
     "text": [
      " 44%|█████████████████▌                      | 880/2000 [41:38<43:30,  2.33s/it]"
     ]
    },
    {
     "name": "stdout",
     "output_type": "stream",
     "text": [
      "No photo found before to establish direction for TANZANIA_v2-2022-05-05_103GOPRO-G0373460\n",
      "{'mapbox_fetched_img': False, 'mapbox_img': 'mapbox/155278/133823/18.jpg', 'mapbox_added_arrow': False, 'bing_fetched_img': False, 'bing_img': 'bing/155278/133823/18.jpg', 'bing_added_arrow': False}\n"
     ]
    },
    {
     "name": "stderr",
     "output_type": "stream",
     "text": [
      " 44%|█████████████████▌                      | 881/2000 [41:42<51:27,  2.76s/it]"
     ]
    },
    {
     "name": "stdout",
     "output_type": "stream",
     "text": [
      "{'mapbox_fetched_img': False, 'mapbox_img': 'mapbox/155278/133823/18.jpg', 'mapbox_added_arrow': True, 'bing_fetched_img': False, 'bing_img': 'bing/155278/133823/18.jpg', 'bing_added_arrow': True}\n"
     ]
    },
    {
     "name": "stderr",
     "output_type": "stream",
     "text": [
      " 44%|█████████████████▋                      | 882/2000 [41:45<53:25,  2.87s/it]"
     ]
    },
    {
     "name": "stdout",
     "output_type": "stream",
     "text": [
      "{'mapbox_fetched_img': False, 'mapbox_img': 'mapbox/155278/133823/18.jpg', 'mapbox_added_arrow': True, 'bing_fetched_img': False, 'bing_img': 'bing/155278/133823/18.jpg', 'bing_added_arrow': True}\n"
     ]
    },
    {
     "name": "stderr",
     "output_type": "stream",
     "text": [
      " 44%|█████████████████▋                      | 883/2000 [41:48<51:33,  2.77s/it]"
     ]
    },
    {
     "name": "stdout",
     "output_type": "stream",
     "text": [
      "{'mapbox_fetched_img': False, 'mapbox_img': 'mapbox/155278/133823/18.jpg', 'mapbox_added_arrow': True, 'bing_fetched_img': False, 'bing_img': 'bing/155278/133823/18.jpg', 'bing_added_arrow': True}\n"
     ]
    },
    {
     "name": "stderr",
     "output_type": "stream",
     "text": [
      " 44%|█████████████████▋                      | 884/2000 [41:50<48:29,  2.61s/it]"
     ]
    },
    {
     "name": "stdout",
     "output_type": "stream",
     "text": [
      "{'mapbox_fetched_img': False, 'mapbox_img': 'mapbox/155278/133823/18.jpg', 'mapbox_added_arrow': True, 'bing_fetched_img': False, 'bing_img': 'bing/155278/133823/18.jpg', 'bing_added_arrow': True}\n"
     ]
    },
    {
     "name": "stderr",
     "output_type": "stream",
     "text": [
      " 44%|█████████████████▋                      | 885/2000 [41:52<44:35,  2.40s/it]"
     ]
    },
    {
     "name": "stdout",
     "output_type": "stream",
     "text": [
      "{'mapbox_fetched_img': False, 'mapbox_img': 'mapbox/155278/133823/18.jpg', 'mapbox_added_arrow': True, 'bing_fetched_img': False, 'bing_img': 'bing/155278/133823/18.jpg', 'bing_added_arrow': True}\n"
     ]
    },
    {
     "name": "stderr",
     "output_type": "stream",
     "text": [
      " 44%|█████████████████▋                      | 886/2000 [41:54<41:19,  2.23s/it]"
     ]
    },
    {
     "name": "stdout",
     "output_type": "stream",
     "text": [
      "{'mapbox_fetched_img': False, 'mapbox_img': 'mapbox/155278/133823/18.jpg', 'mapbox_added_arrow': True, 'bing_fetched_img': False, 'bing_img': 'bing/155278/133823/18.jpg', 'bing_added_arrow': True}\n"
     ]
    },
    {
     "name": "stderr",
     "output_type": "stream",
     "text": [
      " 44%|█████████████████▋                      | 887/2000 [41:56<43:11,  2.33s/it]"
     ]
    },
    {
     "name": "stdout",
     "output_type": "stream",
     "text": [
      "{'mapbox_fetched_img': False, 'mapbox_img': 'mapbox/155278/133823/18.jpg', 'mapbox_added_arrow': True, 'bing_fetched_img': False, 'bing_img': 'bing/155278/133823/18.jpg', 'bing_added_arrow': True}\n"
     ]
    },
    {
     "name": "stderr",
     "output_type": "stream",
     "text": [
      " 44%|█████████████████▊                      | 888/2000 [41:59<44:26,  2.40s/it]"
     ]
    },
    {
     "name": "stdout",
     "output_type": "stream",
     "text": [
      "{'mapbox_fetched_img': False, 'mapbox_img': 'mapbox/155278/133823/18.jpg', 'mapbox_added_arrow': True, 'bing_fetched_img': False, 'bing_img': 'bing/155278/133823/18.jpg', 'bing_added_arrow': True}\n"
     ]
    },
    {
     "name": "stderr",
     "output_type": "stream",
     "text": [
      " 44%|█████████████████▊                      | 889/2000 [42:01<43:49,  2.37s/it]"
     ]
    },
    {
     "name": "stdout",
     "output_type": "stream",
     "text": [
      "{'mapbox_fetched_img': False, 'mapbox_img': 'mapbox/155278/133823/18.jpg', 'mapbox_added_arrow': True, 'bing_fetched_img': False, 'bing_img': 'bing/155278/133823/18.jpg', 'bing_added_arrow': True}\n"
     ]
    },
    {
     "name": "stderr",
     "output_type": "stream",
     "text": [
      " 44%|█████████████████▊                      | 890/2000 [42:04<44:22,  2.40s/it]"
     ]
    },
    {
     "name": "stdout",
     "output_type": "stream",
     "text": [
      "{'mapbox_fetched_img': False, 'mapbox_img': 'mapbox/155278/133823/18.jpg', 'mapbox_added_arrow': True, 'bing_fetched_img': False, 'bing_img': 'bing/155278/133823/18.jpg', 'bing_added_arrow': True}\n",
      "No photo found before to establish direction for TANZANIA_v2-2022-05-05_103GOPRO-G0383472\n"
     ]
    },
    {
     "name": "stderr",
     "output_type": "stream",
     "text": [
      " 45%|█████████████████▊                      | 891/2000 [42:05<37:17,  2.02s/it]"
     ]
    },
    {
     "name": "stdout",
     "output_type": "stream",
     "text": [
      "No photo found before to establish direction for TANZANIA_v2-2022-05-05_103GOPRO-G0383472\n",
      "{'mapbox_fetched_img': False, 'mapbox_img': 'mapbox/155277/133823/18.jpg', 'mapbox_added_arrow': False, 'bing_fetched_img': False, 'bing_img': 'bing/155277/133823/18.jpg', 'bing_added_arrow': False}\n"
     ]
    },
    {
     "name": "stderr",
     "output_type": "stream",
     "text": [
      " 45%|█████████████████▊                      | 892/2000 [42:08<42:12,  2.29s/it]"
     ]
    },
    {
     "name": "stdout",
     "output_type": "stream",
     "text": [
      "{'mapbox_fetched_img': False, 'mapbox_img': 'mapbox/155277/133823/18.jpg', 'mapbox_added_arrow': True, 'bing_fetched_img': False, 'bing_img': 'bing/155277/133823/18.jpg', 'bing_added_arrow': True}\n"
     ]
    },
    {
     "name": "stderr",
     "output_type": "stream",
     "text": [
      " 45%|█████████████████▊                      | 893/2000 [42:11<47:11,  2.56s/it]"
     ]
    },
    {
     "name": "stdout",
     "output_type": "stream",
     "text": [
      "{'mapbox_fetched_img': False, 'mapbox_img': 'mapbox/155277/133823/18.jpg', 'mapbox_added_arrow': True, 'bing_fetched_img': False, 'bing_img': 'bing/155277/133823/18.jpg', 'bing_added_arrow': True}\n"
     ]
    },
    {
     "name": "stderr",
     "output_type": "stream",
     "text": [
      " 45%|█████████████████▉                      | 894/2000 [42:13<44:45,  2.43s/it]"
     ]
    },
    {
     "name": "stdout",
     "output_type": "stream",
     "text": [
      "{'mapbox_fetched_img': False, 'mapbox_img': 'mapbox/155277/133823/18.jpg', 'mapbox_added_arrow': True, 'bing_fetched_img': False, 'bing_img': 'bing/155277/133823/18.jpg', 'bing_added_arrow': True}\n"
     ]
    },
    {
     "name": "stderr",
     "output_type": "stream",
     "text": [
      " 45%|█████████████████▉                      | 895/2000 [42:15<44:51,  2.44s/it]"
     ]
    },
    {
     "name": "stdout",
     "output_type": "stream",
     "text": [
      "{'mapbox_fetched_img': False, 'mapbox_img': 'mapbox/155277/133823/18.jpg', 'mapbox_added_arrow': True, 'bing_fetched_img': False, 'bing_img': 'bing/155277/133823/18.jpg', 'bing_added_arrow': True}\n"
     ]
    },
    {
     "name": "stderr",
     "output_type": "stream",
     "text": [
      " 45%|█████████████████▉                      | 896/2000 [42:18<45:16,  2.46s/it]"
     ]
    },
    {
     "name": "stdout",
     "output_type": "stream",
     "text": [
      "{'mapbox_fetched_img': False, 'mapbox_img': 'mapbox/155277/133823/18.jpg', 'mapbox_added_arrow': True, 'bing_fetched_img': False, 'bing_img': 'bing/155277/133823/18.jpg', 'bing_added_arrow': True}\n"
     ]
    },
    {
     "name": "stderr",
     "output_type": "stream",
     "text": [
      " 45%|█████████████████▉                      | 897/2000 [42:20<44:17,  2.41s/it]"
     ]
    },
    {
     "name": "stdout",
     "output_type": "stream",
     "text": [
      "{'mapbox_fetched_img': False, 'mapbox_img': 'mapbox/155277/133823/18.jpg', 'mapbox_added_arrow': True, 'bing_fetched_img': False, 'bing_img': 'bing/155277/133823/18.jpg', 'bing_added_arrow': True}\n"
     ]
    },
    {
     "name": "stderr",
     "output_type": "stream",
     "text": [
      " 45%|█████████████████▉                      | 898/2000 [42:22<42:36,  2.32s/it]"
     ]
    },
    {
     "name": "stdout",
     "output_type": "stream",
     "text": [
      "{'mapbox_fetched_img': False, 'mapbox_img': 'mapbox/155277/133823/18.jpg', 'mapbox_added_arrow': True, 'bing_fetched_img': False, 'bing_img': 'bing/155277/133823/18.jpg', 'bing_added_arrow': True}\n"
     ]
    },
    {
     "name": "stderr",
     "output_type": "stream",
     "text": [
      " 45%|█████████████████▉                      | 899/2000 [42:25<42:28,  2.31s/it]"
     ]
    },
    {
     "name": "stdout",
     "output_type": "stream",
     "text": [
      "{'mapbox_fetched_img': False, 'mapbox_img': 'mapbox/155277/133823/18.jpg', 'mapbox_added_arrow': True, 'bing_fetched_img': False, 'bing_img': 'bing/155277/133823/18.jpg', 'bing_added_arrow': True}\n"
     ]
    },
    {
     "name": "stderr",
     "output_type": "stream",
     "text": [
      " 45%|██████████████████                      | 900/2000 [42:27<40:34,  2.21s/it]"
     ]
    },
    {
     "name": "stdout",
     "output_type": "stream",
     "text": [
      "{'mapbox_fetched_img': False, 'mapbox_img': 'mapbox/155277/133823/18.jpg', 'mapbox_added_arrow': True, 'bing_fetched_img': False, 'bing_img': 'bing/155277/133823/18.jpg', 'bing_added_arrow': True}\n"
     ]
    },
    {
     "name": "stderr",
     "output_type": "stream",
     "text": [
      " 45%|██████████████████                      | 901/2000 [42:29<43:03,  2.35s/it]"
     ]
    },
    {
     "name": "stdout",
     "output_type": "stream",
     "text": [
      "{'mapbox_fetched_img': False, 'mapbox_img': 'mapbox/155277/133823/18.jpg', 'mapbox_added_arrow': True, 'bing_fetched_img': False, 'bing_img': 'bing/155277/133823/18.jpg', 'bing_added_arrow': True}\n"
     ]
    },
    {
     "name": "stderr",
     "output_type": "stream",
     "text": [
      " 45%|██████████████████                      | 902/2000 [42:32<42:16,  2.31s/it]"
     ]
    },
    {
     "name": "stdout",
     "output_type": "stream",
     "text": [
      "{'mapbox_fetched_img': False, 'mapbox_img': 'mapbox/155277/133823/18.jpg', 'mapbox_added_arrow': True, 'bing_fetched_img': False, 'bing_img': 'bing/155277/133823/18.jpg', 'bing_added_arrow': True}\n"
     ]
    },
    {
     "name": "stderr",
     "output_type": "stream",
     "text": [
      " 45%|██████████████████                      | 903/2000 [42:34<40:18,  2.20s/it]"
     ]
    },
    {
     "name": "stdout",
     "output_type": "stream",
     "text": [
      "{'mapbox_fetched_img': False, 'mapbox_img': 'mapbox/155277/133823/18.jpg', 'mapbox_added_arrow': True, 'bing_fetched_img': False, 'bing_img': 'bing/155277/133823/18.jpg', 'bing_added_arrow': True}\n"
     ]
    },
    {
     "name": "stderr",
     "output_type": "stream",
     "text": [
      " 45%|██████████████████                      | 904/2000 [42:35<37:08,  2.03s/it]"
     ]
    },
    {
     "name": "stdout",
     "output_type": "stream",
     "text": [
      "{'mapbox_fetched_img': False, 'mapbox_img': 'mapbox/155277/133823/18.jpg', 'mapbox_added_arrow': True, 'bing_fetched_img': False, 'bing_img': 'bing/155277/133823/18.jpg', 'bing_added_arrow': True}\n"
     ]
    },
    {
     "name": "stderr",
     "output_type": "stream",
     "text": [
      " 45%|██████████████████                      | 905/2000 [42:37<36:55,  2.02s/it]"
     ]
    },
    {
     "name": "stdout",
     "output_type": "stream",
     "text": [
      "{'mapbox_fetched_img': False, 'mapbox_img': 'mapbox/155277/133823/18.jpg', 'mapbox_added_arrow': True, 'bing_fetched_img': False, 'bing_img': 'bing/155277/133823/18.jpg', 'bing_added_arrow': True}\n"
     ]
    },
    {
     "name": "stderr",
     "output_type": "stream",
     "text": [
      " 45%|██████████████████                      | 906/2000 [42:39<37:46,  2.07s/it]"
     ]
    },
    {
     "name": "stdout",
     "output_type": "stream",
     "text": [
      "{'mapbox_fetched_img': False, 'mapbox_img': 'mapbox/155277/133823/18.jpg', 'mapbox_added_arrow': True, 'bing_fetched_img': False, 'bing_img': 'bing/155277/133823/18.jpg', 'bing_added_arrow': True}\n"
     ]
    },
    {
     "name": "stderr",
     "output_type": "stream",
     "text": [
      " 45%|██████████████████▏                     | 907/2000 [42:42<38:44,  2.13s/it]"
     ]
    },
    {
     "name": "stdout",
     "output_type": "stream",
     "text": [
      "{'mapbox_fetched_img': False, 'mapbox_img': 'mapbox/155277/133823/18.jpg', 'mapbox_added_arrow': True, 'bing_fetched_img': False, 'bing_img': 'bing/155277/133823/18.jpg', 'bing_added_arrow': True}\n"
     ]
    },
    {
     "name": "stderr",
     "output_type": "stream",
     "text": [
      " 45%|██████████████████▏                     | 908/2000 [42:47<57:53,  3.18s/it]"
     ]
    },
    {
     "name": "stdout",
     "output_type": "stream",
     "text": [
      "{'mapbox_fetched_img': False, 'mapbox_img': 'mapbox/155277/133823/18.jpg', 'mapbox_added_arrow': True, 'bing_fetched_img': False, 'bing_img': 'bing/155277/133823/18.jpg', 'bing_added_arrow': True}\n"
     ]
    },
    {
     "name": "stderr",
     "output_type": "stream",
     "text": [
      " 45%|██████████████████▏                     | 909/2000 [42:50<55:38,  3.06s/it]"
     ]
    },
    {
     "name": "stdout",
     "output_type": "stream",
     "text": [
      "{'mapbox_fetched_img': False, 'mapbox_img': 'mapbox/155277/133823/18.jpg', 'mapbox_added_arrow': True, 'bing_fetched_img': False, 'bing_img': 'bing/155277/133823/18.jpg', 'bing_added_arrow': True}\n"
     ]
    },
    {
     "name": "stderr",
     "output_type": "stream",
     "text": [
      " 46%|██████████████████▏                     | 910/2000 [42:52<49:45,  2.74s/it]"
     ]
    },
    {
     "name": "stdout",
     "output_type": "stream",
     "text": [
      "{'mapbox_fetched_img': False, 'mapbox_img': 'mapbox/155277/133823/18.jpg', 'mapbox_added_arrow': True, 'bing_fetched_img': False, 'bing_img': 'bing/155277/133823/18.jpg', 'bing_added_arrow': True}\n"
     ]
    },
    {
     "name": "stderr",
     "output_type": "stream",
     "text": [
      " 46%|██████████████████▏                     | 911/2000 [42:54<45:34,  2.51s/it]"
     ]
    },
    {
     "name": "stdout",
     "output_type": "stream",
     "text": [
      "{'mapbox_fetched_img': False, 'mapbox_img': 'mapbox/155277/133823/18.jpg', 'mapbox_added_arrow': True, 'bing_fetched_img': False, 'bing_img': 'bing/155277/133823/18.jpg', 'bing_added_arrow': True}\n"
     ]
    },
    {
     "name": "stderr",
     "output_type": "stream",
     "text": [
      " 46%|██████████████████▏                     | 912/2000 [42:57<49:27,  2.73s/it]"
     ]
    },
    {
     "name": "stdout",
     "output_type": "stream",
     "text": [
      "{'mapbox_fetched_img': False, 'mapbox_img': 'mapbox/155277/133823/18.jpg', 'mapbox_added_arrow': True, 'bing_fetched_img': False, 'bing_img': 'bing/155277/133823/18.jpg', 'bing_added_arrow': True}\n"
     ]
    },
    {
     "name": "stderr",
     "output_type": "stream",
     "text": [
      " 46%|██████████████████▎                     | 913/2000 [43:01<56:49,  3.14s/it]"
     ]
    },
    {
     "name": "stdout",
     "output_type": "stream",
     "text": [
      "{'mapbox_fetched_img': False, 'mapbox_img': 'mapbox/155277/133823/18.jpg', 'mapbox_added_arrow': True, 'bing_fetched_img': False, 'bing_img': 'bing/155277/133823/18.jpg', 'bing_added_arrow': True}\n"
     ]
    },
    {
     "name": "stderr",
     "output_type": "stream",
     "text": [
      " 46%|█████████████████▎                    | 914/2000 [43:06<1:02:43,  3.47s/it]"
     ]
    },
    {
     "name": "stdout",
     "output_type": "stream",
     "text": [
      "{'mapbox_fetched_img': False, 'mapbox_img': 'mapbox/155277/133823/18.jpg', 'mapbox_added_arrow': True, 'bing_fetched_img': False, 'bing_img': 'bing/155277/133823/18.jpg', 'bing_added_arrow': True}\n"
     ]
    },
    {
     "name": "stderr",
     "output_type": "stream",
     "text": [
      " 46%|█████████████████▍                    | 915/2000 [43:10<1:09:04,  3.82s/it]"
     ]
    },
    {
     "name": "stdout",
     "output_type": "stream",
     "text": [
      "{'mapbox_fetched_img': False, 'mapbox_img': 'mapbox/155277/133823/18.jpg', 'mapbox_added_arrow': True, 'bing_fetched_img': False, 'bing_img': 'bing/155277/133823/18.jpg', 'bing_added_arrow': True}\n"
     ]
    },
    {
     "name": "stderr",
     "output_type": "stream",
     "text": [
      " 46%|█████████████████▍                    | 916/2000 [43:14<1:08:16,  3.78s/it]"
     ]
    },
    {
     "name": "stdout",
     "output_type": "stream",
     "text": [
      "{'mapbox_fetched_img': False, 'mapbox_img': 'mapbox/155277/133823/18.jpg', 'mapbox_added_arrow': True, 'bing_fetched_img': False, 'bing_img': 'bing/155277/133823/18.jpg', 'bing_added_arrow': True}\n"
     ]
    },
    {
     "name": "stderr",
     "output_type": "stream",
     "text": [
      " 46%|█████████████████▍                    | 917/2000 [43:17<1:01:58,  3.43s/it]"
     ]
    },
    {
     "name": "stdout",
     "output_type": "stream",
     "text": [
      "{'mapbox_fetched_img': False, 'mapbox_img': 'mapbox/155277/133823/18.jpg', 'mapbox_added_arrow': True, 'bing_fetched_img': False, 'bing_img': 'bing/155277/133823/18.jpg', 'bing_added_arrow': True}\n"
     ]
    },
    {
     "name": "stderr",
     "output_type": "stream",
     "text": [
      " 46%|██████████████████▎                     | 918/2000 [43:19<58:42,  3.26s/it]"
     ]
    },
    {
     "name": "stdout",
     "output_type": "stream",
     "text": [
      "{'mapbox_fetched_img': False, 'mapbox_img': 'mapbox/155277/133823/18.jpg', 'mapbox_added_arrow': True, 'bing_fetched_img': False, 'bing_img': 'bing/155277/133823/18.jpg', 'bing_added_arrow': True}\n"
     ]
    },
    {
     "name": "stderr",
     "output_type": "stream",
     "text": [
      " 46%|██████████████████▍                     | 919/2000 [43:22<57:21,  3.18s/it]"
     ]
    },
    {
     "name": "stdout",
     "output_type": "stream",
     "text": [
      "{'mapbox_fetched_img': False, 'mapbox_img': 'mapbox/155277/133823/18.jpg', 'mapbox_added_arrow': True, 'bing_fetched_img': False, 'bing_img': 'bing/155277/133823/18.jpg', 'bing_added_arrow': True}\n"
     ]
    },
    {
     "name": "stderr",
     "output_type": "stream",
     "text": [
      " 46%|██████████████████▍                     | 920/2000 [43:24<48:51,  2.71s/it]"
     ]
    },
    {
     "name": "stdout",
     "output_type": "stream",
     "text": [
      "{'mapbox_fetched_img': False, 'mapbox_img': 'mapbox/155277/133823/18.jpg', 'mapbox_added_arrow': True, 'bing_fetched_img': False, 'bing_img': 'bing/155277/133823/18.jpg', 'bing_added_arrow': True}\n"
     ]
    },
    {
     "name": "stderr",
     "output_type": "stream",
     "text": [
      " 46%|██████████████████▍                     | 921/2000 [43:26<46:37,  2.59s/it]"
     ]
    },
    {
     "name": "stdout",
     "output_type": "stream",
     "text": [
      "{'mapbox_fetched_img': False, 'mapbox_img': 'mapbox/155277/133823/18.jpg', 'mapbox_added_arrow': True, 'bing_fetched_img': False, 'bing_img': 'bing/155277/133823/18.jpg', 'bing_added_arrow': True}\n"
     ]
    },
    {
     "name": "stderr",
     "output_type": "stream",
     "text": [
      " 46%|██████████████████▍                     | 922/2000 [43:29<48:02,  2.67s/it]"
     ]
    },
    {
     "name": "stdout",
     "output_type": "stream",
     "text": [
      "{'mapbox_fetched_img': False, 'mapbox_img': 'mapbox/155277/133823/18.jpg', 'mapbox_added_arrow': True, 'bing_fetched_img': False, 'bing_img': 'bing/155277/133823/18.jpg', 'bing_added_arrow': True}\n"
     ]
    },
    {
     "name": "stderr",
     "output_type": "stream",
     "text": [
      " 46%|██████████████████▍                     | 923/2000 [43:32<49:08,  2.74s/it]"
     ]
    },
    {
     "name": "stdout",
     "output_type": "stream",
     "text": [
      "{'mapbox_fetched_img': False, 'mapbox_img': 'mapbox/155277/133823/18.jpg', 'mapbox_added_arrow': True, 'bing_fetched_img': False, 'bing_img': 'bing/155277/133823/18.jpg', 'bing_added_arrow': True}\n"
     ]
    },
    {
     "name": "stderr",
     "output_type": "stream",
     "text": [
      " 46%|██████████████████▍                     | 924/2000 [43:35<48:34,  2.71s/it]"
     ]
    },
    {
     "name": "stdout",
     "output_type": "stream",
     "text": [
      "{'mapbox_fetched_img': False, 'mapbox_img': 'mapbox/155277/133823/18.jpg', 'mapbox_added_arrow': True, 'bing_fetched_img': False, 'bing_img': 'bing/155277/133823/18.jpg', 'bing_added_arrow': True}\n"
     ]
    },
    {
     "name": "stderr",
     "output_type": "stream",
     "text": [
      " 46%|██████████████████▌                     | 925/2000 [43:37<46:12,  2.58s/it]"
     ]
    },
    {
     "name": "stdout",
     "output_type": "stream",
     "text": [
      "{'mapbox_fetched_img': False, 'mapbox_img': 'mapbox/155277/133823/18.jpg', 'mapbox_added_arrow': True, 'bing_fetched_img': False, 'bing_img': 'bing/155277/133823/18.jpg', 'bing_added_arrow': True}\n"
     ]
    },
    {
     "name": "stderr",
     "output_type": "stream",
     "text": [
      " 46%|██████████████████▌                     | 926/2000 [43:39<45:13,  2.53s/it]"
     ]
    },
    {
     "name": "stdout",
     "output_type": "stream",
     "text": [
      "{'mapbox_fetched_img': False, 'mapbox_img': 'mapbox/155277/133823/18.jpg', 'mapbox_added_arrow': True, 'bing_fetched_img': False, 'bing_img': 'bing/155277/133823/18.jpg', 'bing_added_arrow': True}\n"
     ]
    },
    {
     "name": "stderr",
     "output_type": "stream",
     "text": [
      " 46%|██████████████████▌                     | 927/2000 [43:43<48:37,  2.72s/it]"
     ]
    },
    {
     "name": "stdout",
     "output_type": "stream",
     "text": [
      "{'mapbox_fetched_img': False, 'mapbox_img': 'mapbox/155277/133823/18.jpg', 'mapbox_added_arrow': True, 'bing_fetched_img': False, 'bing_img': 'bing/155277/133823/18.jpg', 'bing_added_arrow': True}\n"
     ]
    },
    {
     "name": "stderr",
     "output_type": "stream",
     "text": [
      " 46%|██████████████████▌                     | 928/2000 [43:45<48:52,  2.74s/it]"
     ]
    },
    {
     "name": "stdout",
     "output_type": "stream",
     "text": [
      "{'mapbox_fetched_img': False, 'mapbox_img': 'mapbox/155277/133823/18.jpg', 'mapbox_added_arrow': True, 'bing_fetched_img': False, 'bing_img': 'bing/155277/133823/18.jpg', 'bing_added_arrow': True}\n"
     ]
    },
    {
     "name": "stderr",
     "output_type": "stream",
     "text": [
      " 46%|██████████████████▌                     | 929/2000 [43:49<55:16,  3.10s/it]"
     ]
    },
    {
     "name": "stdout",
     "output_type": "stream",
     "text": [
      "{'mapbox_fetched_img': False, 'mapbox_img': 'mapbox/155277/133823/18.jpg', 'mapbox_added_arrow': True, 'bing_fetched_img': False, 'bing_img': 'bing/155277/133823/18.jpg', 'bing_added_arrow': True}\n"
     ]
    },
    {
     "name": "stderr",
     "output_type": "stream",
     "text": [
      " 46%|██████████████████▌                     | 930/2000 [43:52<53:27,  3.00s/it]"
     ]
    },
    {
     "name": "stdout",
     "output_type": "stream",
     "text": [
      "{'mapbox_fetched_img': False, 'mapbox_img': 'mapbox/155277/133823/18.jpg', 'mapbox_added_arrow': True, 'bing_fetched_img': False, 'bing_img': 'bing/155277/133823/18.jpg', 'bing_added_arrow': True}\n"
     ]
    },
    {
     "name": "stderr",
     "output_type": "stream",
     "text": [
      " 47%|██████████████████▌                     | 931/2000 [43:55<50:52,  2.86s/it]"
     ]
    },
    {
     "name": "stdout",
     "output_type": "stream",
     "text": [
      "{'mapbox_fetched_img': False, 'mapbox_img': 'mapbox/155277/133823/18.jpg', 'mapbox_added_arrow': True, 'bing_fetched_img': False, 'bing_img': 'bing/155277/133823/18.jpg', 'bing_added_arrow': True}\n"
     ]
    },
    {
     "name": "stderr",
     "output_type": "stream",
     "text": [
      " 47%|██████████████████▋                     | 932/2000 [43:57<47:00,  2.64s/it]"
     ]
    },
    {
     "name": "stdout",
     "output_type": "stream",
     "text": [
      "{'mapbox_fetched_img': False, 'mapbox_img': 'mapbox/155277/133823/18.jpg', 'mapbox_added_arrow': True, 'bing_fetched_img': False, 'bing_img': 'bing/155277/133823/18.jpg', 'bing_added_arrow': True}\n"
     ]
    },
    {
     "name": "stderr",
     "output_type": "stream",
     "text": [
      " 47%|██████████████████▋                     | 933/2000 [43:59<44:23,  2.50s/it]"
     ]
    },
    {
     "name": "stdout",
     "output_type": "stream",
     "text": [
      "{'mapbox_fetched_img': False, 'mapbox_img': 'mapbox/155277/133823/18.jpg', 'mapbox_added_arrow': True, 'bing_fetched_img': False, 'bing_img': 'bing/155277/133823/18.jpg', 'bing_added_arrow': True}\n"
     ]
    },
    {
     "name": "stderr",
     "output_type": "stream",
     "text": [
      " 47%|██████████████████▋                     | 934/2000 [44:02<47:44,  2.69s/it]"
     ]
    },
    {
     "name": "stdout",
     "output_type": "stream",
     "text": [
      "{'mapbox_fetched_img': False, 'mapbox_img': 'mapbox/155277/133823/18.jpg', 'mapbox_added_arrow': True, 'bing_fetched_img': False, 'bing_img': 'bing/155277/133823/18.jpg', 'bing_added_arrow': True}\n"
     ]
    },
    {
     "name": "stderr",
     "output_type": "stream",
     "text": [
      " 47%|█████████████████▊                    | 935/2000 [44:07<1:01:13,  3.45s/it]"
     ]
    },
    {
     "name": "stdout",
     "output_type": "stream",
     "text": [
      "{'mapbox_fetched_img': False, 'mapbox_img': 'mapbox/155277/133823/18.jpg', 'mapbox_added_arrow': True, 'bing_fetched_img': False, 'bing_img': 'bing/155277/133823/18.jpg', 'bing_added_arrow': True}\n"
     ]
    },
    {
     "name": "stderr",
     "output_type": "stream",
     "text": [
      " 47%|██████████████████▋                     | 936/2000 [44:10<59:38,  3.36s/it]"
     ]
    },
    {
     "name": "stdout",
     "output_type": "stream",
     "text": [
      "{'mapbox_fetched_img': False, 'mapbox_img': 'mapbox/155277/133823/18.jpg', 'mapbox_added_arrow': True, 'bing_fetched_img': False, 'bing_img': 'bing/155277/133823/18.jpg', 'bing_added_arrow': True}\n"
     ]
    },
    {
     "name": "stderr",
     "output_type": "stream",
     "text": [
      " 47%|██████████████████▋                     | 937/2000 [44:13<55:36,  3.14s/it]"
     ]
    },
    {
     "name": "stdout",
     "output_type": "stream",
     "text": [
      "{'mapbox_fetched_img': False, 'mapbox_img': 'mapbox/155277/133823/18.jpg', 'mapbox_added_arrow': True, 'bing_fetched_img': False, 'bing_img': 'bing/155277/133823/18.jpg', 'bing_added_arrow': True}\n"
     ]
    },
    {
     "name": "stderr",
     "output_type": "stream",
     "text": [
      " 47%|██████████████████▊                     | 938/2000 [44:15<51:59,  2.94s/it]"
     ]
    },
    {
     "name": "stdout",
     "output_type": "stream",
     "text": [
      "{'mapbox_fetched_img': False, 'mapbox_img': 'mapbox/155277/133823/18.jpg', 'mapbox_added_arrow': True, 'bing_fetched_img': False, 'bing_img': 'bing/155277/133823/18.jpg', 'bing_added_arrow': True}\n"
     ]
    },
    {
     "name": "stderr",
     "output_type": "stream",
     "text": [
      " 47%|█████████████████▊                    | 939/2000 [44:20<1:00:15,  3.41s/it]"
     ]
    },
    {
     "name": "stdout",
     "output_type": "stream",
     "text": [
      "{'mapbox_fetched_img': False, 'mapbox_img': 'mapbox/155277/133823/18.jpg', 'mapbox_added_arrow': True, 'bing_fetched_img': False, 'bing_img': 'bing/155277/133823/18.jpg', 'bing_added_arrow': True}\n"
     ]
    },
    {
     "name": "stderr",
     "output_type": "stream",
     "text": [
      " 47%|█████████████████▊                    | 940/2000 [44:25<1:06:24,  3.76s/it]"
     ]
    },
    {
     "name": "stdout",
     "output_type": "stream",
     "text": [
      "{'mapbox_fetched_img': False, 'mapbox_img': 'mapbox/155277/133823/18.jpg', 'mapbox_added_arrow': True, 'bing_fetched_img': False, 'bing_img': 'bing/155277/133823/18.jpg', 'bing_added_arrow': True}\n"
     ]
    },
    {
     "name": "stderr",
     "output_type": "stream",
     "text": [
      " 47%|█████████████████▉                    | 941/2000 [44:28<1:05:52,  3.73s/it]"
     ]
    },
    {
     "name": "stdout",
     "output_type": "stream",
     "text": [
      "{'mapbox_fetched_img': False, 'mapbox_img': 'mapbox/155277/133823/18.jpg', 'mapbox_added_arrow': True, 'bing_fetched_img': False, 'bing_img': 'bing/155277/133823/18.jpg', 'bing_added_arrow': True}\n"
     ]
    },
    {
     "name": "stderr",
     "output_type": "stream",
     "text": [
      " 47%|█████████████████▉                    | 942/2000 [44:32<1:07:05,  3.80s/it]"
     ]
    },
    {
     "name": "stdout",
     "output_type": "stream",
     "text": [
      "{'mapbox_fetched_img': False, 'mapbox_img': 'mapbox/155277/133823/18.jpg', 'mapbox_added_arrow': True, 'bing_fetched_img': False, 'bing_img': 'bing/155277/133823/18.jpg', 'bing_added_arrow': True}\n"
     ]
    },
    {
     "name": "stderr",
     "output_type": "stream",
     "text": [
      " 47%|█████████████████▉                    | 943/2000 [44:35<1:02:21,  3.54s/it]"
     ]
    },
    {
     "name": "stdout",
     "output_type": "stream",
     "text": [
      "{'mapbox_fetched_img': False, 'mapbox_img': 'mapbox/155277/133823/18.jpg', 'mapbox_added_arrow': True, 'bing_fetched_img': False, 'bing_img': 'bing/155277/133823/18.jpg', 'bing_added_arrow': True}\n"
     ]
    },
    {
     "name": "stderr",
     "output_type": "stream",
     "text": [
      " 47%|█████████████████▉                    | 944/2000 [44:38<1:01:31,  3.50s/it]"
     ]
    },
    {
     "name": "stdout",
     "output_type": "stream",
     "text": [
      "{'mapbox_fetched_img': False, 'mapbox_img': 'mapbox/155277/133823/18.jpg', 'mapbox_added_arrow': True, 'bing_fetched_img': False, 'bing_img': 'bing/155277/133823/18.jpg', 'bing_added_arrow': True}\n"
     ]
    },
    {
     "name": "stderr",
     "output_type": "stream",
     "text": [
      " 47%|█████████████████▉                    | 945/2000 [44:42<1:00:58,  3.47s/it]"
     ]
    },
    {
     "name": "stdout",
     "output_type": "stream",
     "text": [
      "{'mapbox_fetched_img': False, 'mapbox_img': 'mapbox/155277/133823/18.jpg', 'mapbox_added_arrow': True, 'bing_fetched_img': False, 'bing_img': 'bing/155277/133823/18.jpg', 'bing_added_arrow': True}\n"
     ]
    },
    {
     "name": "stderr",
     "output_type": "stream",
     "text": [
      " 47%|██████████████████▉                     | 946/2000 [44:44<54:15,  3.09s/it]"
     ]
    },
    {
     "name": "stdout",
     "output_type": "stream",
     "text": [
      "{'mapbox_fetched_img': False, 'mapbox_img': 'mapbox/155277/133823/18.jpg', 'mapbox_added_arrow': True, 'bing_fetched_img': False, 'bing_img': 'bing/155277/133823/18.jpg', 'bing_added_arrow': True}\n"
     ]
    },
    {
     "name": "stderr",
     "output_type": "stream",
     "text": [
      " 47%|██████████████████▉                     | 947/2000 [44:46<47:00,  2.68s/it]"
     ]
    },
    {
     "name": "stdout",
     "output_type": "stream",
     "text": [
      "{'mapbox_fetched_img': False, 'mapbox_img': 'mapbox/155277/133823/18.jpg', 'mapbox_added_arrow': True, 'bing_fetched_img': False, 'bing_img': 'bing/155277/133823/18.jpg', 'bing_added_arrow': True}\n"
     ]
    },
    {
     "name": "stderr",
     "output_type": "stream",
     "text": [
      " 47%|██████████████████▉                     | 948/2000 [44:48<42:30,  2.42s/it]"
     ]
    },
    {
     "name": "stdout",
     "output_type": "stream",
     "text": [
      "{'mapbox_fetched_img': False, 'mapbox_img': 'mapbox/155277/133823/18.jpg', 'mapbox_added_arrow': True, 'bing_fetched_img': False, 'bing_img': 'bing/155277/133823/18.jpg', 'bing_added_arrow': True}\n"
     ]
    },
    {
     "name": "stderr",
     "output_type": "stream",
     "text": [
      " 47%|██████████████████▉                     | 949/2000 [44:49<38:30,  2.20s/it]"
     ]
    },
    {
     "name": "stdout",
     "output_type": "stream",
     "text": [
      "{'mapbox_fetched_img': False, 'mapbox_img': 'mapbox/155277/133823/18.jpg', 'mapbox_added_arrow': True, 'bing_fetched_img': False, 'bing_img': 'bing/155277/133823/18.jpg', 'bing_added_arrow': True}\n"
     ]
    },
    {
     "name": "stderr",
     "output_type": "stream",
     "text": [
      " 48%|███████████████████                     | 950/2000 [44:51<35:35,  2.03s/it]"
     ]
    },
    {
     "name": "stdout",
     "output_type": "stream",
     "text": [
      "{'mapbox_fetched_img': False, 'mapbox_img': 'mapbox/155277/133823/18.jpg', 'mapbox_added_arrow': True, 'bing_fetched_img': False, 'bing_img': 'bing/155277/133823/18.jpg', 'bing_added_arrow': True}\n"
     ]
    },
    {
     "name": "stderr",
     "output_type": "stream",
     "text": [
      " 48%|███████████████████                     | 951/2000 [44:53<34:01,  1.95s/it]"
     ]
    },
    {
     "name": "stdout",
     "output_type": "stream",
     "text": [
      "{'mapbox_fetched_img': False, 'mapbox_img': 'mapbox/155277/133823/18.jpg', 'mapbox_added_arrow': True, 'bing_fetched_img': False, 'bing_img': 'bing/155277/133823/18.jpg', 'bing_added_arrow': True}\n"
     ]
    },
    {
     "name": "stderr",
     "output_type": "stream",
     "text": [
      " 48%|███████████████████                     | 952/2000 [44:54<32:27,  1.86s/it]"
     ]
    },
    {
     "name": "stdout",
     "output_type": "stream",
     "text": [
      "{'mapbox_fetched_img': False, 'mapbox_img': 'mapbox/155277/133823/18.jpg', 'mapbox_added_arrow': True, 'bing_fetched_img': False, 'bing_img': 'bing/155277/133823/18.jpg', 'bing_added_arrow': True}\n"
     ]
    },
    {
     "name": "stderr",
     "output_type": "stream",
     "text": [
      " 48%|███████████████████                     | 953/2000 [44:56<32:19,  1.85s/it]"
     ]
    },
    {
     "name": "stdout",
     "output_type": "stream",
     "text": [
      "{'mapbox_fetched_img': False, 'mapbox_img': 'mapbox/155277/133823/18.jpg', 'mapbox_added_arrow': True, 'bing_fetched_img': False, 'bing_img': 'bing/155277/133823/18.jpg', 'bing_added_arrow': True}\n"
     ]
    },
    {
     "name": "stderr",
     "output_type": "stream",
     "text": [
      " 48%|███████████████████                     | 954/2000 [44:58<32:56,  1.89s/it]"
     ]
    },
    {
     "name": "stdout",
     "output_type": "stream",
     "text": [
      "{'mapbox_fetched_img': False, 'mapbox_img': 'mapbox/155277/133823/18.jpg', 'mapbox_added_arrow': True, 'bing_fetched_img': False, 'bing_img': 'bing/155277/133823/18.jpg', 'bing_added_arrow': True}\n"
     ]
    },
    {
     "name": "stderr",
     "output_type": "stream",
     "text": [
      " 48%|███████████████████                     | 955/2000 [45:00<32:09,  1.85s/it]"
     ]
    },
    {
     "name": "stdout",
     "output_type": "stream",
     "text": [
      "{'mapbox_fetched_img': False, 'mapbox_img': 'mapbox/155277/133823/18.jpg', 'mapbox_added_arrow': True, 'bing_fetched_img': False, 'bing_img': 'bing/155277/133823/18.jpg', 'bing_added_arrow': True}\n"
     ]
    },
    {
     "name": "stderr",
     "output_type": "stream",
     "text": [
      " 48%|███████████████████                     | 956/2000 [45:02<31:42,  1.82s/it]"
     ]
    },
    {
     "name": "stdout",
     "output_type": "stream",
     "text": [
      "{'mapbox_fetched_img': False, 'mapbox_img': 'mapbox/155277/133823/18.jpg', 'mapbox_added_arrow': True, 'bing_fetched_img': False, 'bing_img': 'bing/155277/133823/18.jpg', 'bing_added_arrow': True}\n"
     ]
    },
    {
     "name": "stderr",
     "output_type": "stream",
     "text": [
      " 48%|███████████████████▏                    | 957/2000 [45:04<36:32,  2.10s/it]"
     ]
    },
    {
     "name": "stdout",
     "output_type": "stream",
     "text": [
      "{'mapbox_fetched_img': False, 'mapbox_img': 'mapbox/155277/133823/18.jpg', 'mapbox_added_arrow': True, 'bing_fetched_img': False, 'bing_img': 'bing/155277/133823/18.jpg', 'bing_added_arrow': True}\n"
     ]
    },
    {
     "name": "stderr",
     "output_type": "stream",
     "text": [
      " 48%|███████████████████▏                    | 958/2000 [45:08<42:30,  2.45s/it]"
     ]
    },
    {
     "name": "stdout",
     "output_type": "stream",
     "text": [
      "{'mapbox_fetched_img': False, 'mapbox_img': 'mapbox/155277/133823/18.jpg', 'mapbox_added_arrow': True, 'bing_fetched_img': False, 'bing_img': 'bing/155277/133823/18.jpg', 'bing_added_arrow': True}\n"
     ]
    },
    {
     "name": "stderr",
     "output_type": "stream",
     "text": [
      " 48%|███████████████████▏                    | 959/2000 [45:10<43:05,  2.48s/it]"
     ]
    },
    {
     "name": "stdout",
     "output_type": "stream",
     "text": [
      "{'mapbox_fetched_img': False, 'mapbox_img': 'mapbox/155277/133823/18.jpg', 'mapbox_added_arrow': True, 'bing_fetched_img': False, 'bing_img': 'bing/155277/133823/18.jpg', 'bing_added_arrow': True}\n"
     ]
    },
    {
     "name": "stderr",
     "output_type": "stream",
     "text": [
      " 48%|███████████████████▏                    | 960/2000 [45:13<42:51,  2.47s/it]"
     ]
    },
    {
     "name": "stdout",
     "output_type": "stream",
     "text": [
      "{'mapbox_fetched_img': False, 'mapbox_img': 'mapbox/155277/133823/18.jpg', 'mapbox_added_arrow': True, 'bing_fetched_img': False, 'bing_img': 'bing/155277/133823/18.jpg', 'bing_added_arrow': True}\n"
     ]
    },
    {
     "name": "stderr",
     "output_type": "stream",
     "text": [
      " 48%|███████████████████▏                    | 961/2000 [45:15<39:46,  2.30s/it]"
     ]
    },
    {
     "name": "stdout",
     "output_type": "stream",
     "text": [
      "{'mapbox_fetched_img': False, 'mapbox_img': 'mapbox/155277/133823/18.jpg', 'mapbox_added_arrow': True, 'bing_fetched_img': False, 'bing_img': 'bing/155277/133823/18.jpg', 'bing_added_arrow': True}\n"
     ]
    },
    {
     "name": "stderr",
     "output_type": "stream",
     "text": [
      " 48%|███████████████████▏                    | 962/2000 [45:16<36:21,  2.10s/it]"
     ]
    },
    {
     "name": "stdout",
     "output_type": "stream",
     "text": [
      "{'mapbox_fetched_img': False, 'mapbox_img': 'mapbox/155277/133823/18.jpg', 'mapbox_added_arrow': True, 'bing_fetched_img': False, 'bing_img': 'bing/155277/133823/18.jpg', 'bing_added_arrow': True}\n"
     ]
    },
    {
     "name": "stderr",
     "output_type": "stream",
     "text": [
      " 48%|███████████████████▎                    | 963/2000 [45:19<37:27,  2.17s/it]"
     ]
    },
    {
     "name": "stdout",
     "output_type": "stream",
     "text": [
      "{'mapbox_fetched_img': False, 'mapbox_img': 'mapbox/155277/133823/18.jpg', 'mapbox_added_arrow': True, 'bing_fetched_img': False, 'bing_img': 'bing/155277/133823/18.jpg', 'bing_added_arrow': True}\n"
     ]
    },
    {
     "name": "stderr",
     "output_type": "stream",
     "text": [
      " 48%|███████████████████▎                    | 964/2000 [45:20<34:54,  2.02s/it]"
     ]
    },
    {
     "name": "stdout",
     "output_type": "stream",
     "text": [
      "{'mapbox_fetched_img': False, 'mapbox_img': 'mapbox/155277/133823/18.jpg', 'mapbox_added_arrow': True, 'bing_fetched_img': False, 'bing_img': 'bing/155277/133823/18.jpg', 'bing_added_arrow': True}\n"
     ]
    },
    {
     "name": "stderr",
     "output_type": "stream",
     "text": [
      " 48%|███████████████████▎                    | 965/2000 [45:22<33:17,  1.93s/it]"
     ]
    },
    {
     "name": "stdout",
     "output_type": "stream",
     "text": [
      "{'mapbox_fetched_img': False, 'mapbox_img': 'mapbox/155277/133823/18.jpg', 'mapbox_added_arrow': True, 'bing_fetched_img': False, 'bing_img': 'bing/155277/133823/18.jpg', 'bing_added_arrow': True}\n"
     ]
    },
    {
     "name": "stderr",
     "output_type": "stream",
     "text": [
      " 48%|███████████████████▎                    | 966/2000 [45:24<31:58,  1.86s/it]"
     ]
    },
    {
     "name": "stdout",
     "output_type": "stream",
     "text": [
      "{'mapbox_fetched_img': False, 'mapbox_img': 'mapbox/155277/133823/18.jpg', 'mapbox_added_arrow': True, 'bing_fetched_img': False, 'bing_img': 'bing/155277/133823/18.jpg', 'bing_added_arrow': True}\n",
      "No photo found before to establish direction for TANZANIA_v2-2022-05-05_103GOPRO-G0393551\n"
     ]
    },
    {
     "name": "stderr",
     "output_type": "stream",
     "text": [
      " 48%|███████████████████▎                    | 967/2000 [45:25<27:03,  1.57s/it]"
     ]
    },
    {
     "name": "stdout",
     "output_type": "stream",
     "text": [
      "No photo found before to establish direction for TANZANIA_v2-2022-05-05_103GOPRO-G0393551\n",
      "{'mapbox_fetched_img': False, 'mapbox_img': 'mapbox/155276/133820/18.jpg', 'mapbox_added_arrow': False, 'bing_fetched_img': False, 'bing_img': 'bing/155276/133820/18.jpg', 'bing_added_arrow': False}\n"
     ]
    },
    {
     "name": "stderr",
     "output_type": "stream",
     "text": [
      " 48%|███████████████████▎                    | 968/2000 [45:27<31:40,  1.84s/it]"
     ]
    },
    {
     "name": "stdout",
     "output_type": "stream",
     "text": [
      "{'mapbox_fetched_img': False, 'mapbox_img': 'mapbox/155276/133820/18.jpg', 'mapbox_added_arrow': True, 'bing_fetched_img': False, 'bing_img': 'bing/155276/133820/18.jpg', 'bing_added_arrow': True}\n"
     ]
    },
    {
     "name": "stderr",
     "output_type": "stream",
     "text": [
      " 48%|███████████████████▍                    | 969/2000 [45:29<33:51,  1.97s/it]"
     ]
    },
    {
     "name": "stdout",
     "output_type": "stream",
     "text": [
      "{'mapbox_fetched_img': False, 'mapbox_img': 'mapbox/155276/133820/18.jpg', 'mapbox_added_arrow': True, 'bing_fetched_img': False, 'bing_img': 'bing/155276/133820/18.jpg', 'bing_added_arrow': True}\n"
     ]
    },
    {
     "name": "stderr",
     "output_type": "stream",
     "text": [
      " 48%|███████████████████▍                    | 970/2000 [45:31<32:58,  1.92s/it]"
     ]
    },
    {
     "name": "stdout",
     "output_type": "stream",
     "text": [
      "{'mapbox_fetched_img': False, 'mapbox_img': 'mapbox/155276/133820/18.jpg', 'mapbox_added_arrow': True, 'bing_fetched_img': False, 'bing_img': 'bing/155276/133820/18.jpg', 'bing_added_arrow': True}\n"
     ]
    },
    {
     "name": "stderr",
     "output_type": "stream",
     "text": [
      " 49%|███████████████████▍                    | 971/2000 [45:34<35:27,  2.07s/it]"
     ]
    },
    {
     "name": "stdout",
     "output_type": "stream",
     "text": [
      "{'mapbox_fetched_img': False, 'mapbox_img': 'mapbox/155276/133820/18.jpg', 'mapbox_added_arrow': True, 'bing_fetched_img': False, 'bing_img': 'bing/155276/133820/18.jpg', 'bing_added_arrow': True}\n"
     ]
    },
    {
     "name": "stderr",
     "output_type": "stream",
     "text": [
      " 49%|███████████████████▍                    | 972/2000 [45:36<35:28,  2.07s/it]"
     ]
    },
    {
     "name": "stdout",
     "output_type": "stream",
     "text": [
      "{'mapbox_fetched_img': False, 'mapbox_img': 'mapbox/155276/133820/18.jpg', 'mapbox_added_arrow': True, 'bing_fetched_img': False, 'bing_img': 'bing/155276/133820/18.jpg', 'bing_added_arrow': True}\n"
     ]
    },
    {
     "name": "stderr",
     "output_type": "stream",
     "text": [
      " 49%|███████████████████▍                    | 973/2000 [45:37<33:39,  1.97s/it]"
     ]
    },
    {
     "name": "stdout",
     "output_type": "stream",
     "text": [
      "{'mapbox_fetched_img': False, 'mapbox_img': 'mapbox/155276/133820/18.jpg', 'mapbox_added_arrow': True, 'bing_fetched_img': False, 'bing_img': 'bing/155276/133820/18.jpg', 'bing_added_arrow': True}\n"
     ]
    },
    {
     "name": "stderr",
     "output_type": "stream",
     "text": [
      " 49%|███████████████████▍                    | 974/2000 [45:39<31:45,  1.86s/it]"
     ]
    },
    {
     "name": "stdout",
     "output_type": "stream",
     "text": [
      "{'mapbox_fetched_img': False, 'mapbox_img': 'mapbox/155276/133820/18.jpg', 'mapbox_added_arrow': True, 'bing_fetched_img': False, 'bing_img': 'bing/155276/133820/18.jpg', 'bing_added_arrow': True}\n"
     ]
    },
    {
     "name": "stderr",
     "output_type": "stream",
     "text": [
      " 49%|███████████████████▌                    | 975/2000 [45:41<30:32,  1.79s/it]"
     ]
    },
    {
     "name": "stdout",
     "output_type": "stream",
     "text": [
      "{'mapbox_fetched_img': False, 'mapbox_img': 'mapbox/155276/133820/18.jpg', 'mapbox_added_arrow': True, 'bing_fetched_img': False, 'bing_img': 'bing/155276/133820/18.jpg', 'bing_added_arrow': True}\n"
     ]
    },
    {
     "name": "stderr",
     "output_type": "stream",
     "text": [
      " 49%|███████████████████▌                    | 976/2000 [45:42<30:55,  1.81s/it]"
     ]
    },
    {
     "name": "stdout",
     "output_type": "stream",
     "text": [
      "{'mapbox_fetched_img': False, 'mapbox_img': 'mapbox/155276/133820/18.jpg', 'mapbox_added_arrow': True, 'bing_fetched_img': False, 'bing_img': 'bing/155276/133820/18.jpg', 'bing_added_arrow': True}\n"
     ]
    },
    {
     "name": "stderr",
     "output_type": "stream",
     "text": [
      " 49%|███████████████████▌                    | 977/2000 [45:45<33:30,  1.97s/it]"
     ]
    },
    {
     "name": "stdout",
     "output_type": "stream",
     "text": [
      "{'mapbox_fetched_img': False, 'mapbox_img': 'mapbox/155276/133820/18.jpg', 'mapbox_added_arrow': True, 'bing_fetched_img': False, 'bing_img': 'bing/155276/133820/18.jpg', 'bing_added_arrow': True}\n"
     ]
    },
    {
     "name": "stderr",
     "output_type": "stream",
     "text": [
      " 49%|███████████████████▌                    | 978/2000 [45:47<35:00,  2.06s/it]"
     ]
    },
    {
     "name": "stdout",
     "output_type": "stream",
     "text": [
      "{'mapbox_fetched_img': False, 'mapbox_img': 'mapbox/155276/133820/18.jpg', 'mapbox_added_arrow': True, 'bing_fetched_img': False, 'bing_img': 'bing/155276/133820/18.jpg', 'bing_added_arrow': True}\n"
     ]
    },
    {
     "name": "stderr",
     "output_type": "stream",
     "text": [
      " 49%|███████████████████▌                    | 979/2000 [45:50<37:30,  2.20s/it]"
     ]
    },
    {
     "name": "stdout",
     "output_type": "stream",
     "text": [
      "{'mapbox_fetched_img': False, 'mapbox_img': 'mapbox/155276/133820/18.jpg', 'mapbox_added_arrow': True, 'bing_fetched_img': False, 'bing_img': 'bing/155276/133820/18.jpg', 'bing_added_arrow': True}\n"
     ]
    },
    {
     "name": "stderr",
     "output_type": "stream",
     "text": [
      " 49%|███████████████████▌                    | 980/2000 [45:52<39:00,  2.29s/it]"
     ]
    },
    {
     "name": "stdout",
     "output_type": "stream",
     "text": [
      "{'mapbox_fetched_img': False, 'mapbox_img': 'mapbox/155276/133820/18.jpg', 'mapbox_added_arrow': True, 'bing_fetched_img': False, 'bing_img': 'bing/155276/133820/18.jpg', 'bing_added_arrow': True}\n"
     ]
    },
    {
     "name": "stderr",
     "output_type": "stream",
     "text": [
      " 49%|███████████████████▌                    | 981/2000 [45:54<39:18,  2.31s/it]"
     ]
    },
    {
     "name": "stdout",
     "output_type": "stream",
     "text": [
      "{'mapbox_fetched_img': False, 'mapbox_img': 'mapbox/155276/133820/18.jpg', 'mapbox_added_arrow': True, 'bing_fetched_img': False, 'bing_img': 'bing/155276/133820/18.jpg', 'bing_added_arrow': True}\n"
     ]
    },
    {
     "name": "stderr",
     "output_type": "stream",
     "text": [
      " 49%|███████████████████▋                    | 982/2000 [45:56<36:30,  2.15s/it]"
     ]
    },
    {
     "name": "stdout",
     "output_type": "stream",
     "text": [
      "{'mapbox_fetched_img': False, 'mapbox_img': 'mapbox/155276/133820/18.jpg', 'mapbox_added_arrow': True, 'bing_fetched_img': False, 'bing_img': 'bing/155276/133820/18.jpg', 'bing_added_arrow': True}\n"
     ]
    },
    {
     "name": "stderr",
     "output_type": "stream",
     "text": [
      " 49%|███████████████████▋                    | 983/2000 [45:58<36:23,  2.15s/it]"
     ]
    },
    {
     "name": "stdout",
     "output_type": "stream",
     "text": [
      "{'mapbox_fetched_img': False, 'mapbox_img': 'mapbox/155276/133820/18.jpg', 'mapbox_added_arrow': True, 'bing_fetched_img': False, 'bing_img': 'bing/155276/133820/18.jpg', 'bing_added_arrow': True}\n"
     ]
    },
    {
     "name": "stderr",
     "output_type": "stream",
     "text": [
      " 49%|███████████████████▋                    | 984/2000 [46:03<47:55,  2.83s/it]"
     ]
    },
    {
     "name": "stdout",
     "output_type": "stream",
     "text": [
      "{'mapbox_fetched_img': False, 'mapbox_img': 'mapbox/155276/133820/18.jpg', 'mapbox_added_arrow': True, 'bing_fetched_img': False, 'bing_img': 'bing/155276/133820/18.jpg', 'bing_added_arrow': True}\n"
     ]
    },
    {
     "name": "stderr",
     "output_type": "stream",
     "text": [
      " 49%|███████████████████▋                    | 985/2000 [46:05<46:21,  2.74s/it]"
     ]
    },
    {
     "name": "stdout",
     "output_type": "stream",
     "text": [
      "{'mapbox_fetched_img': False, 'mapbox_img': 'mapbox/155276/133820/18.jpg', 'mapbox_added_arrow': True, 'bing_fetched_img': False, 'bing_img': 'bing/155276/133820/18.jpg', 'bing_added_arrow': True}\n"
     ]
    },
    {
     "name": "stderr",
     "output_type": "stream",
     "text": [
      " 49%|██████████████████▋                   | 986/2000 [46:12<1:07:09,  3.97s/it]"
     ]
    },
    {
     "name": "stdout",
     "output_type": "stream",
     "text": [
      "{'mapbox_fetched_img': False, 'mapbox_img': 'mapbox/155276/133820/18.jpg', 'mapbox_added_arrow': True, 'bing_fetched_img': False, 'bing_img': 'bing/155276/133820/18.jpg', 'bing_added_arrow': True}\n"
     ]
    },
    {
     "name": "stderr",
     "output_type": "stream",
     "text": [
      " 49%|██████████████████▊                   | 987/2000 [46:15<1:03:14,  3.75s/it]"
     ]
    },
    {
     "name": "stdout",
     "output_type": "stream",
     "text": [
      "{'mapbox_fetched_img': False, 'mapbox_img': 'mapbox/155276/133820/18.jpg', 'mapbox_added_arrow': True, 'bing_fetched_img': False, 'bing_img': 'bing/155276/133820/18.jpg', 'bing_added_arrow': True}\n"
     ]
    },
    {
     "name": "stderr",
     "output_type": "stream",
     "text": [
      " 49%|██████████████████▊                   | 988/2000 [46:20<1:07:05,  3.98s/it]"
     ]
    },
    {
     "name": "stdout",
     "output_type": "stream",
     "text": [
      "{'mapbox_fetched_img': False, 'mapbox_img': 'mapbox/155276/133820/18.jpg', 'mapbox_added_arrow': True, 'bing_fetched_img': False, 'bing_img': 'bing/155276/133820/18.jpg', 'bing_added_arrow': True}\n"
     ]
    },
    {
     "name": "stderr",
     "output_type": "stream",
     "text": [
      " 49%|██████████████████▊                   | 989/2000 [46:26<1:19:14,  4.70s/it]"
     ]
    },
    {
     "name": "stdout",
     "output_type": "stream",
     "text": [
      "{'mapbox_fetched_img': False, 'mapbox_img': 'mapbox/155276/133820/18.jpg', 'mapbox_added_arrow': True, 'bing_fetched_img': False, 'bing_img': 'bing/155276/133820/18.jpg', 'bing_added_arrow': True}\n"
     ]
    },
    {
     "name": "stderr",
     "output_type": "stream",
     "text": [
      " 50%|██████████████████▊                   | 990/2000 [46:31<1:20:13,  4.77s/it]"
     ]
    },
    {
     "name": "stdout",
     "output_type": "stream",
     "text": [
      "{'mapbox_fetched_img': False, 'mapbox_img': 'mapbox/155276/133820/18.jpg', 'mapbox_added_arrow': True, 'bing_fetched_img': False, 'bing_img': 'bing/155276/133820/18.jpg', 'bing_added_arrow': True}\n"
     ]
    },
    {
     "name": "stderr",
     "output_type": "stream",
     "text": [
      " 50%|██████████████████▊                   | 991/2000 [46:34<1:09:44,  4.15s/it]"
     ]
    },
    {
     "name": "stdout",
     "output_type": "stream",
     "text": [
      "{'mapbox_fetched_img': False, 'mapbox_img': 'mapbox/155276/133820/18.jpg', 'mapbox_added_arrow': True, 'bing_fetched_img': False, 'bing_img': 'bing/155276/133820/18.jpg', 'bing_added_arrow': True}\n"
     ]
    },
    {
     "name": "stderr",
     "output_type": "stream",
     "text": [
      " 50%|███████████████████▊                    | 992/2000 [46:36<59:46,  3.56s/it]"
     ]
    },
    {
     "name": "stdout",
     "output_type": "stream",
     "text": [
      "{'mapbox_fetched_img': False, 'mapbox_img': 'mapbox/155276/133820/18.jpg', 'mapbox_added_arrow': True, 'bing_fetched_img': False, 'bing_img': 'bing/155276/133820/18.jpg', 'bing_added_arrow': True}\n"
     ]
    },
    {
     "name": "stderr",
     "output_type": "stream",
     "text": [
      " 50%|███████████████████▊                    | 993/2000 [46:39<56:27,  3.36s/it]"
     ]
    },
    {
     "name": "stdout",
     "output_type": "stream",
     "text": [
      "{'mapbox_fetched_img': False, 'mapbox_img': 'mapbox/155276/133820/18.jpg', 'mapbox_added_arrow': True, 'bing_fetched_img': False, 'bing_img': 'bing/155276/133820/18.jpg', 'bing_added_arrow': True}\n"
     ]
    },
    {
     "name": "stderr",
     "output_type": "stream",
     "text": [
      " 50%|███████████████████▉                    | 994/2000 [46:42<54:32,  3.25s/it]"
     ]
    },
    {
     "name": "stdout",
     "output_type": "stream",
     "text": [
      "{'mapbox_fetched_img': False, 'mapbox_img': 'mapbox/155276/133820/18.jpg', 'mapbox_added_arrow': True, 'bing_fetched_img': False, 'bing_img': 'bing/155276/133820/18.jpg', 'bing_added_arrow': True}\n"
     ]
    },
    {
     "name": "stderr",
     "output_type": "stream",
     "text": [
      " 50%|███████████████████▉                    | 995/2000 [46:45<53:25,  3.19s/it]"
     ]
    },
    {
     "name": "stdout",
     "output_type": "stream",
     "text": [
      "{'mapbox_fetched_img': False, 'mapbox_img': 'mapbox/155276/133820/18.jpg', 'mapbox_added_arrow': True, 'bing_fetched_img': False, 'bing_img': 'bing/155276/133820/18.jpg', 'bing_added_arrow': True}\n"
     ]
    },
    {
     "name": "stderr",
     "output_type": "stream",
     "text": [
      " 50%|███████████████████▉                    | 996/2000 [46:47<46:45,  2.79s/it]"
     ]
    },
    {
     "name": "stdout",
     "output_type": "stream",
     "text": [
      "{'mapbox_fetched_img': False, 'mapbox_img': 'mapbox/155276/133820/18.jpg', 'mapbox_added_arrow': True, 'bing_fetched_img': False, 'bing_img': 'bing/155276/133820/18.jpg', 'bing_added_arrow': True}\n"
     ]
    },
    {
     "name": "stderr",
     "output_type": "stream",
     "text": [
      " 50%|███████████████████▉                    | 997/2000 [46:49<45:15,  2.71s/it]"
     ]
    },
    {
     "name": "stdout",
     "output_type": "stream",
     "text": [
      "{'mapbox_fetched_img': False, 'mapbox_img': 'mapbox/155276/133820/18.jpg', 'mapbox_added_arrow': True, 'bing_fetched_img': False, 'bing_img': 'bing/155276/133820/18.jpg', 'bing_added_arrow': True}\n"
     ]
    },
    {
     "name": "stderr",
     "output_type": "stream",
     "text": [
      " 50%|███████████████████▉                    | 998/2000 [46:51<41:14,  2.47s/it]"
     ]
    },
    {
     "name": "stdout",
     "output_type": "stream",
     "text": [
      "{'mapbox_fetched_img': False, 'mapbox_img': 'mapbox/155276/133820/18.jpg', 'mapbox_added_arrow': True, 'bing_fetched_img': False, 'bing_img': 'bing/155276/133820/18.jpg', 'bing_added_arrow': True}\n"
     ]
    },
    {
     "name": "stderr",
     "output_type": "stream",
     "text": [
      " 50%|███████████████████▉                    | 999/2000 [46:53<37:55,  2.27s/it]"
     ]
    },
    {
     "name": "stdout",
     "output_type": "stream",
     "text": [
      "{'mapbox_fetched_img': False, 'mapbox_img': 'mapbox/155276/133820/18.jpg', 'mapbox_added_arrow': True, 'bing_fetched_img': False, 'bing_img': 'bing/155276/133820/18.jpg', 'bing_added_arrow': True}\n"
     ]
    },
    {
     "name": "stderr",
     "output_type": "stream",
     "text": [
      " 50%|███████████████████▌                   | 1000/2000 [46:56<42:31,  2.55s/it]"
     ]
    },
    {
     "name": "stdout",
     "output_type": "stream",
     "text": [
      "{'mapbox_fetched_img': False, 'mapbox_img': 'mapbox/155276/133820/18.jpg', 'mapbox_added_arrow': True, 'bing_fetched_img': False, 'bing_img': 'bing/155276/133820/18.jpg', 'bing_added_arrow': True}\n"
     ]
    },
    {
     "name": "stderr",
     "output_type": "stream",
     "text": [
      " 50%|███████████████████▌                   | 1001/2000 [46:59<42:06,  2.53s/it]"
     ]
    },
    {
     "name": "stdout",
     "output_type": "stream",
     "text": [
      "{'mapbox_fetched_img': False, 'mapbox_img': 'mapbox/155276/133820/18.jpg', 'mapbox_added_arrow': True, 'bing_fetched_img': False, 'bing_img': 'bing/155276/133820/18.jpg', 'bing_added_arrow': True}\n"
     ]
    },
    {
     "name": "stderr",
     "output_type": "stream",
     "text": [
      " 50%|███████████████████▌                   | 1002/2000 [47:01<39:52,  2.40s/it]"
     ]
    },
    {
     "name": "stdout",
     "output_type": "stream",
     "text": [
      "{'mapbox_fetched_img': False, 'mapbox_img': 'mapbox/155276/133820/18.jpg', 'mapbox_added_arrow': True, 'bing_fetched_img': False, 'bing_img': 'bing/155276/133820/18.jpg', 'bing_added_arrow': True}\n"
     ]
    },
    {
     "name": "stderr",
     "output_type": "stream",
     "text": [
      " 50%|███████████████████▌                   | 1003/2000 [47:04<41:27,  2.50s/it]"
     ]
    },
    {
     "name": "stdout",
     "output_type": "stream",
     "text": [
      "{'mapbox_fetched_img': False, 'mapbox_img': 'mapbox/155276/133820/18.jpg', 'mapbox_added_arrow': True, 'bing_fetched_img': False, 'bing_img': 'bing/155276/133820/18.jpg', 'bing_added_arrow': True}\n"
     ]
    },
    {
     "name": "stderr",
     "output_type": "stream",
     "text": [
      " 50%|███████████████████▌                   | 1004/2000 [47:07<45:17,  2.73s/it]"
     ]
    },
    {
     "name": "stdout",
     "output_type": "stream",
     "text": [
      "{'mapbox_fetched_img': False, 'mapbox_img': 'mapbox/155276/133820/18.jpg', 'mapbox_added_arrow': True, 'bing_fetched_img': False, 'bing_img': 'bing/155276/133820/18.jpg', 'bing_added_arrow': True}\n"
     ]
    },
    {
     "name": "stderr",
     "output_type": "stream",
     "text": [
      " 50%|███████████████████▌                   | 1005/2000 [47:09<42:01,  2.53s/it]"
     ]
    },
    {
     "name": "stdout",
     "output_type": "stream",
     "text": [
      "{'mapbox_fetched_img': False, 'mapbox_img': 'mapbox/155276/133820/18.jpg', 'mapbox_added_arrow': True, 'bing_fetched_img': False, 'bing_img': 'bing/155276/133820/18.jpg', 'bing_added_arrow': True}\n"
     ]
    },
    {
     "name": "stderr",
     "output_type": "stream",
     "text": [
      " 50%|███████████████████▌                   | 1006/2000 [47:11<39:51,  2.41s/it]"
     ]
    },
    {
     "name": "stdout",
     "output_type": "stream",
     "text": [
      "{'mapbox_fetched_img': False, 'mapbox_img': 'mapbox/155276/133820/18.jpg', 'mapbox_added_arrow': True, 'bing_fetched_img': False, 'bing_img': 'bing/155276/133820/18.jpg', 'bing_added_arrow': True}\n"
     ]
    },
    {
     "name": "stderr",
     "output_type": "stream",
     "text": [
      " 50%|███████████████████▋                   | 1007/2000 [47:13<37:40,  2.28s/it]"
     ]
    },
    {
     "name": "stdout",
     "output_type": "stream",
     "text": [
      "{'mapbox_fetched_img': False, 'mapbox_img': 'mapbox/155275/133818/18.jpg', 'mapbox_added_arrow': True, 'bing_fetched_img': False, 'bing_img': 'bing/155275/133818/18.jpg', 'bing_added_arrow': True}\n"
     ]
    },
    {
     "name": "stderr",
     "output_type": "stream",
     "text": [
      " 50%|███████████████████▋                   | 1008/2000 [47:15<35:06,  2.12s/it]"
     ]
    },
    {
     "name": "stdout",
     "output_type": "stream",
     "text": [
      "{'mapbox_fetched_img': False, 'mapbox_img': 'mapbox/155275/133818/18.jpg', 'mapbox_added_arrow': True, 'bing_fetched_img': False, 'bing_img': 'bing/155275/133818/18.jpg', 'bing_added_arrow': True}\n"
     ]
    },
    {
     "name": "stderr",
     "output_type": "stream",
     "text": [
      " 50%|███████████████████▋                   | 1009/2000 [47:17<33:15,  2.01s/it]"
     ]
    },
    {
     "name": "stdout",
     "output_type": "stream",
     "text": [
      "{'mapbox_fetched_img': False, 'mapbox_img': 'mapbox/155275/133818/18.jpg', 'mapbox_added_arrow': True, 'bing_fetched_img': False, 'bing_img': 'bing/155275/133818/18.jpg', 'bing_added_arrow': True}\n"
     ]
    },
    {
     "name": "stderr",
     "output_type": "stream",
     "text": [
      " 50%|███████████████████▋                   | 1010/2000 [47:18<32:01,  1.94s/it]"
     ]
    },
    {
     "name": "stdout",
     "output_type": "stream",
     "text": [
      "{'mapbox_fetched_img': False, 'mapbox_img': 'mapbox/155275/133818/18.jpg', 'mapbox_added_arrow': True, 'bing_fetched_img': False, 'bing_img': 'bing/155275/133818/18.jpg', 'bing_added_arrow': True}\n"
     ]
    },
    {
     "name": "stderr",
     "output_type": "stream",
     "text": [
      " 51%|███████████████████▋                   | 1011/2000 [47:20<31:32,  1.91s/it]"
     ]
    },
    {
     "name": "stdout",
     "output_type": "stream",
     "text": [
      "{'mapbox_fetched_img': False, 'mapbox_img': 'mapbox/155275/133818/18.jpg', 'mapbox_added_arrow': True, 'bing_fetched_img': False, 'bing_img': 'bing/155275/133818/18.jpg', 'bing_added_arrow': True}\n"
     ]
    },
    {
     "name": "stderr",
     "output_type": "stream",
     "text": [
      " 51%|███████████████████▋                   | 1012/2000 [47:22<31:25,  1.91s/it]"
     ]
    },
    {
     "name": "stdout",
     "output_type": "stream",
     "text": [
      "{'mapbox_fetched_img': False, 'mapbox_img': 'mapbox/155275/133818/18.jpg', 'mapbox_added_arrow': True, 'bing_fetched_img': False, 'bing_img': 'bing/155275/133818/18.jpg', 'bing_added_arrow': True}\n"
     ]
    },
    {
     "name": "stderr",
     "output_type": "stream",
     "text": [
      " 51%|███████████████████▊                   | 1013/2000 [47:24<31:43,  1.93s/it]"
     ]
    },
    {
     "name": "stdout",
     "output_type": "stream",
     "text": [
      "{'mapbox_fetched_img': False, 'mapbox_img': 'mapbox/155275/133818/18.jpg', 'mapbox_added_arrow': True, 'bing_fetched_img': False, 'bing_img': 'bing/155275/133818/18.jpg', 'bing_added_arrow': True}\n"
     ]
    },
    {
     "name": "stderr",
     "output_type": "stream",
     "text": [
      " 51%|███████████████████▊                   | 1014/2000 [47:26<30:02,  1.83s/it]"
     ]
    },
    {
     "name": "stdout",
     "output_type": "stream",
     "text": [
      "{'mapbox_fetched_img': False, 'mapbox_img': 'mapbox/155274/133817/18.jpg', 'mapbox_added_arrow': True, 'bing_fetched_img': False, 'bing_img': 'bing/155274/133817/18.jpg', 'bing_added_arrow': True}\n"
     ]
    },
    {
     "name": "stderr",
     "output_type": "stream",
     "text": [
      " 51%|███████████████████▊                   | 1015/2000 [47:27<28:36,  1.74s/it]"
     ]
    },
    {
     "name": "stdout",
     "output_type": "stream",
     "text": [
      "{'mapbox_fetched_img': False, 'mapbox_img': 'mapbox/155274/133817/18.jpg', 'mapbox_added_arrow': True, 'bing_fetched_img': False, 'bing_img': 'bing/155274/133817/18.jpg', 'bing_added_arrow': True}\n"
     ]
    },
    {
     "name": "stderr",
     "output_type": "stream",
     "text": [
      " 51%|███████████████████▊                   | 1016/2000 [47:29<27:28,  1.68s/it]"
     ]
    },
    {
     "name": "stdout",
     "output_type": "stream",
     "text": [
      "{'mapbox_fetched_img': False, 'mapbox_img': 'mapbox/155274/133817/18.jpg', 'mapbox_added_arrow': True, 'bing_fetched_img': False, 'bing_img': 'bing/155274/133817/18.jpg', 'bing_added_arrow': True}\n"
     ]
    },
    {
     "name": "stderr",
     "output_type": "stream",
     "text": [
      " 51%|███████████████████▊                   | 1017/2000 [47:31<28:59,  1.77s/it]"
     ]
    },
    {
     "name": "stdout",
     "output_type": "stream",
     "text": [
      "{'mapbox_fetched_img': False, 'mapbox_img': 'mapbox/155274/133817/18.jpg', 'mapbox_added_arrow': True, 'bing_fetched_img': False, 'bing_img': 'bing/155274/133817/18.jpg', 'bing_added_arrow': True}\n"
     ]
    },
    {
     "name": "stderr",
     "output_type": "stream",
     "text": [
      " 51%|███████████████████▊                   | 1018/2000 [47:33<31:33,  1.93s/it]"
     ]
    },
    {
     "name": "stdout",
     "output_type": "stream",
     "text": [
      "{'mapbox_fetched_img': False, 'mapbox_img': 'mapbox/155274/133817/18.jpg', 'mapbox_added_arrow': True, 'bing_fetched_img': False, 'bing_img': 'bing/155274/133817/18.jpg', 'bing_added_arrow': True}\n"
     ]
    },
    {
     "name": "stderr",
     "output_type": "stream",
     "text": [
      " 51%|███████████████████▊                   | 1019/2000 [47:35<31:42,  1.94s/it]"
     ]
    },
    {
     "name": "stdout",
     "output_type": "stream",
     "text": [
      "{'mapbox_fetched_img': False, 'mapbox_img': 'mapbox/155274/133817/18.jpg', 'mapbox_added_arrow': True, 'bing_fetched_img': False, 'bing_img': 'bing/155274/133817/18.jpg', 'bing_added_arrow': True}\n"
     ]
    },
    {
     "name": "stderr",
     "output_type": "stream",
     "text": [
      " 51%|███████████████████▉                   | 1020/2000 [47:37<30:25,  1.86s/it]"
     ]
    },
    {
     "name": "stdout",
     "output_type": "stream",
     "text": [
      "{'mapbox_fetched_img': False, 'mapbox_img': 'mapbox/155274/133817/18.jpg', 'mapbox_added_arrow': True, 'bing_fetched_img': False, 'bing_img': 'bing/155274/133817/18.jpg', 'bing_added_arrow': True}\n"
     ]
    },
    {
     "name": "stderr",
     "output_type": "stream",
     "text": [
      " 51%|███████████████████▉                   | 1021/2000 [47:38<29:12,  1.79s/it]"
     ]
    },
    {
     "name": "stdout",
     "output_type": "stream",
     "text": [
      "{'mapbox_fetched_img': False, 'mapbox_img': 'mapbox/155274/133817/18.jpg', 'mapbox_added_arrow': True, 'bing_fetched_img': False, 'bing_img': 'bing/155274/133817/18.jpg', 'bing_added_arrow': True}\n"
     ]
    },
    {
     "name": "stderr",
     "output_type": "stream",
     "text": [
      " 51%|███████████████████▉                   | 1022/2000 [47:40<28:51,  1.77s/it]"
     ]
    },
    {
     "name": "stdout",
     "output_type": "stream",
     "text": [
      "{'mapbox_fetched_img': False, 'mapbox_img': 'mapbox/155274/133817/18.jpg', 'mapbox_added_arrow': True, 'bing_fetched_img': False, 'bing_img': 'bing/155274/133817/18.jpg', 'bing_added_arrow': True}\n"
     ]
    },
    {
     "name": "stderr",
     "output_type": "stream",
     "text": [
      " 51%|███████████████████▉                   | 1023/2000 [47:42<28:29,  1.75s/it]"
     ]
    },
    {
     "name": "stdout",
     "output_type": "stream",
     "text": [
      "{'mapbox_fetched_img': False, 'mapbox_img': 'mapbox/155274/133817/18.jpg', 'mapbox_added_arrow': True, 'bing_fetched_img': False, 'bing_img': 'bing/155274/133817/18.jpg', 'bing_added_arrow': True}\n"
     ]
    },
    {
     "name": "stderr",
     "output_type": "stream",
     "text": [
      " 51%|███████████████████▉                   | 1024/2000 [47:44<28:59,  1.78s/it]"
     ]
    },
    {
     "name": "stdout",
     "output_type": "stream",
     "text": [
      "{'mapbox_fetched_img': False, 'mapbox_img': 'mapbox/155274/133817/18.jpg', 'mapbox_added_arrow': True, 'bing_fetched_img': False, 'bing_img': 'bing/155274/133817/18.jpg', 'bing_added_arrow': True}\n"
     ]
    },
    {
     "name": "stderr",
     "output_type": "stream",
     "text": [
      " 51%|███████████████████▉                   | 1025/2000 [47:45<28:31,  1.76s/it]"
     ]
    },
    {
     "name": "stdout",
     "output_type": "stream",
     "text": [
      "{'mapbox_fetched_img': False, 'mapbox_img': 'mapbox/155274/133817/18.jpg', 'mapbox_added_arrow': True, 'bing_fetched_img': False, 'bing_img': 'bing/155274/133817/18.jpg', 'bing_added_arrow': True}\n"
     ]
    },
    {
     "name": "stderr",
     "output_type": "stream",
     "text": [
      " 51%|████████████████████                   | 1026/2000 [47:47<29:06,  1.79s/it]"
     ]
    },
    {
     "name": "stdout",
     "output_type": "stream",
     "text": [
      "{'mapbox_fetched_img': False, 'mapbox_img': 'mapbox/155274/133817/18.jpg', 'mapbox_added_arrow': True, 'bing_fetched_img': False, 'bing_img': 'bing/155274/133817/18.jpg', 'bing_added_arrow': True}\n"
     ]
    },
    {
     "name": "stderr",
     "output_type": "stream",
     "text": [
      " 51%|████████████████████                   | 1027/2000 [47:49<28:28,  1.76s/it]"
     ]
    },
    {
     "name": "stdout",
     "output_type": "stream",
     "text": [
      "{'mapbox_fetched_img': False, 'mapbox_img': 'mapbox/155274/133817/18.jpg', 'mapbox_added_arrow': True, 'bing_fetched_img': False, 'bing_img': 'bing/155274/133817/18.jpg', 'bing_added_arrow': True}\n"
     ]
    },
    {
     "name": "stderr",
     "output_type": "stream",
     "text": [
      " 51%|████████████████████                   | 1028/2000 [47:51<28:46,  1.78s/it]"
     ]
    },
    {
     "name": "stdout",
     "output_type": "stream",
     "text": [
      "{'mapbox_fetched_img': False, 'mapbox_img': 'mapbox/155274/133817/18.jpg', 'mapbox_added_arrow': True, 'bing_fetched_img': False, 'bing_img': 'bing/155274/133817/18.jpg', 'bing_added_arrow': True}\n"
     ]
    },
    {
     "name": "stderr",
     "output_type": "stream",
     "text": [
      " 51%|████████████████████                   | 1029/2000 [47:52<28:07,  1.74s/it]"
     ]
    },
    {
     "name": "stdout",
     "output_type": "stream",
     "text": [
      "{'mapbox_fetched_img': False, 'mapbox_img': 'mapbox/155274/133817/18.jpg', 'mapbox_added_arrow': True, 'bing_fetched_img': False, 'bing_img': 'bing/155274/133817/18.jpg', 'bing_added_arrow': True}\n"
     ]
    },
    {
     "name": "stderr",
     "output_type": "stream",
     "text": [
      " 52%|████████████████████                   | 1030/2000 [47:54<27:35,  1.71s/it]"
     ]
    },
    {
     "name": "stdout",
     "output_type": "stream",
     "text": [
      "{'mapbox_fetched_img': False, 'mapbox_img': 'mapbox/155274/133817/18.jpg', 'mapbox_added_arrow': True, 'bing_fetched_img': False, 'bing_img': 'bing/155274/133817/18.jpg', 'bing_added_arrow': True}\n"
     ]
    },
    {
     "name": "stderr",
     "output_type": "stream",
     "text": [
      " 52%|████████████████████                   | 1031/2000 [47:55<26:54,  1.67s/it]"
     ]
    },
    {
     "name": "stdout",
     "output_type": "stream",
     "text": [
      "{'mapbox_fetched_img': False, 'mapbox_img': 'mapbox/155274/133817/18.jpg', 'mapbox_added_arrow': True, 'bing_fetched_img': False, 'bing_img': 'bing/155274/133817/18.jpg', 'bing_added_arrow': True}\n"
     ]
    },
    {
     "name": "stderr",
     "output_type": "stream",
     "text": [
      " 52%|████████████████████                   | 1032/2000 [47:58<29:37,  1.84s/it]"
     ]
    },
    {
     "name": "stdout",
     "output_type": "stream",
     "text": [
      "{'mapbox_fetched_img': False, 'mapbox_img': 'mapbox/155274/133817/18.jpg', 'mapbox_added_arrow': True, 'bing_fetched_img': False, 'bing_img': 'bing/155274/133817/18.jpg', 'bing_added_arrow': True}\n"
     ]
    },
    {
     "name": "stderr",
     "output_type": "stream",
     "text": [
      " 52%|████████████████████▏                  | 1033/2000 [48:00<29:35,  1.84s/it]"
     ]
    },
    {
     "name": "stdout",
     "output_type": "stream",
     "text": [
      "{'mapbox_fetched_img': False, 'mapbox_img': 'mapbox/155274/133817/18.jpg', 'mapbox_added_arrow': True, 'bing_fetched_img': False, 'bing_img': 'bing/155274/133817/18.jpg', 'bing_added_arrow': True}\n"
     ]
    },
    {
     "name": "stderr",
     "output_type": "stream",
     "text": [
      " 52%|████████████████████▏                  | 1034/2000 [48:01<29:02,  1.80s/it]"
     ]
    },
    {
     "name": "stdout",
     "output_type": "stream",
     "text": [
      "{'mapbox_fetched_img': False, 'mapbox_img': 'mapbox/155274/133817/18.jpg', 'mapbox_added_arrow': True, 'bing_fetched_img': False, 'bing_img': 'bing/155274/133817/18.jpg', 'bing_added_arrow': True}\n"
     ]
    },
    {
     "name": "stderr",
     "output_type": "stream",
     "text": [
      " 52%|████████████████████▏                  | 1035/2000 [48:03<28:14,  1.76s/it]"
     ]
    },
    {
     "name": "stdout",
     "output_type": "stream",
     "text": [
      "{'mapbox_fetched_img': False, 'mapbox_img': 'mapbox/155274/133817/18.jpg', 'mapbox_added_arrow': True, 'bing_fetched_img': False, 'bing_img': 'bing/155274/133817/18.jpg', 'bing_added_arrow': True}\n",
      "Fetching from: https://api.mapbox.com/styles/v1/mapbox/satellite-v9/tiles/256/18/155273/133816?access_token=pk.eyJ1IjoiaXp2b25rb3YiLCJhIjoiY2t0YXU3MTE3MDJuNjJ1bW9xYzc3bTlrMCJ9.fiGLAZ29dmYv2sqlxuaB-A\n",
      "100% [............................................................] 9958 / 9958Fetching from: http://ecn.t0.tiles.virtualearth.net/tiles/a300101313030223001.jpeg?g=14009\n",
      "100% [..........................................................] 12704 / 12704"
     ]
    },
    {
     "name": "stderr",
     "output_type": "stream",
     "text": [
      " 52%|████████████████████▏                  | 1036/2000 [48:06<34:05,  2.12s/it]"
     ]
    },
    {
     "name": "stdout",
     "output_type": "stream",
     "text": [
      "{'mapbox_fetched_img': True, 'mapbox_img': 'mapbox/155273/133816/18.jpg', 'mapbox_added_arrow': True, 'bing_fetched_img': True, 'bing_img': 'bing/155273/133816/18.jpg', 'bing_added_arrow': True}\n"
     ]
    },
    {
     "name": "stderr",
     "output_type": "stream",
     "text": [
      " 52%|████████████████████▏                  | 1037/2000 [48:08<32:07,  2.00s/it]"
     ]
    },
    {
     "name": "stdout",
     "output_type": "stream",
     "text": [
      "{'mapbox_fetched_img': False, 'mapbox_img': 'mapbox/155273/133816/18.jpg', 'mapbox_added_arrow': True, 'bing_fetched_img': False, 'bing_img': 'bing/155273/133816/18.jpg', 'bing_added_arrow': True}\n"
     ]
    },
    {
     "name": "stderr",
     "output_type": "stream",
     "text": [
      " 52%|████████████████████▏                  | 1038/2000 [48:10<32:27,  2.02s/it]"
     ]
    },
    {
     "name": "stdout",
     "output_type": "stream",
     "text": [
      "{'mapbox_fetched_img': False, 'mapbox_img': 'mapbox/155273/133816/18.jpg', 'mapbox_added_arrow': True, 'bing_fetched_img': False, 'bing_img': 'bing/155273/133816/18.jpg', 'bing_added_arrow': True}\n"
     ]
    },
    {
     "name": "stderr",
     "output_type": "stream",
     "text": [
      " 52%|████████████████████▎                  | 1039/2000 [48:11<30:27,  1.90s/it]"
     ]
    },
    {
     "name": "stdout",
     "output_type": "stream",
     "text": [
      "{'mapbox_fetched_img': False, 'mapbox_img': 'mapbox/155273/133816/18.jpg', 'mapbox_added_arrow': True, 'bing_fetched_img': False, 'bing_img': 'bing/155273/133816/18.jpg', 'bing_added_arrow': True}\n"
     ]
    },
    {
     "name": "stderr",
     "output_type": "stream",
     "text": [
      " 52%|████████████████████▎                  | 1040/2000 [48:13<28:55,  1.81s/it]"
     ]
    },
    {
     "name": "stdout",
     "output_type": "stream",
     "text": [
      "{'mapbox_fetched_img': False, 'mapbox_img': 'mapbox/155273/133816/18.jpg', 'mapbox_added_arrow': True, 'bing_fetched_img': False, 'bing_img': 'bing/155273/133816/18.jpg', 'bing_added_arrow': True}\n"
     ]
    },
    {
     "name": "stderr",
     "output_type": "stream",
     "text": [
      " 52%|████████████████████▎                  | 1041/2000 [48:15<29:26,  1.84s/it]"
     ]
    },
    {
     "name": "stdout",
     "output_type": "stream",
     "text": [
      "{'mapbox_fetched_img': False, 'mapbox_img': 'mapbox/155273/133816/18.jpg', 'mapbox_added_arrow': True, 'bing_fetched_img': False, 'bing_img': 'bing/155273/133816/18.jpg', 'bing_added_arrow': True}\n"
     ]
    },
    {
     "name": "stderr",
     "output_type": "stream",
     "text": [
      " 52%|████████████████████▎                  | 1042/2000 [48:16<27:54,  1.75s/it]"
     ]
    },
    {
     "name": "stdout",
     "output_type": "stream",
     "text": [
      "{'mapbox_fetched_img': False, 'mapbox_img': 'mapbox/155273/133816/18.jpg', 'mapbox_added_arrow': True, 'bing_fetched_img': False, 'bing_img': 'bing/155273/133816/18.jpg', 'bing_added_arrow': True}\n"
     ]
    },
    {
     "name": "stderr",
     "output_type": "stream",
     "text": [
      " 52%|████████████████████▎                  | 1043/2000 [48:18<27:46,  1.74s/it]"
     ]
    },
    {
     "name": "stdout",
     "output_type": "stream",
     "text": [
      "{'mapbox_fetched_img': False, 'mapbox_img': 'mapbox/155273/133816/18.jpg', 'mapbox_added_arrow': True, 'bing_fetched_img': False, 'bing_img': 'bing/155273/133816/18.jpg', 'bing_added_arrow': True}\n"
     ]
    },
    {
     "name": "stderr",
     "output_type": "stream",
     "text": [
      " 52%|████████████████████▎                  | 1044/2000 [48:20<27:02,  1.70s/it]"
     ]
    },
    {
     "name": "stdout",
     "output_type": "stream",
     "text": [
      "{'mapbox_fetched_img': False, 'mapbox_img': 'mapbox/155273/133816/18.jpg', 'mapbox_added_arrow': True, 'bing_fetched_img': False, 'bing_img': 'bing/155273/133816/18.jpg', 'bing_added_arrow': True}\n"
     ]
    },
    {
     "name": "stderr",
     "output_type": "stream",
     "text": [
      " 52%|████████████████████▍                  | 1045/2000 [48:21<25:57,  1.63s/it]"
     ]
    },
    {
     "name": "stdout",
     "output_type": "stream",
     "text": [
      "{'mapbox_fetched_img': False, 'mapbox_img': 'mapbox/155273/133816/18.jpg', 'mapbox_added_arrow': True, 'bing_fetched_img': False, 'bing_img': 'bing/155273/133816/18.jpg', 'bing_added_arrow': True}\n"
     ]
    },
    {
     "name": "stderr",
     "output_type": "stream",
     "text": [
      " 52%|████████████████████▍                  | 1046/2000 [48:23<25:38,  1.61s/it]"
     ]
    },
    {
     "name": "stdout",
     "output_type": "stream",
     "text": [
      "{'mapbox_fetched_img': False, 'mapbox_img': 'mapbox/155273/133816/18.jpg', 'mapbox_added_arrow': True, 'bing_fetched_img': False, 'bing_img': 'bing/155273/133816/18.jpg', 'bing_added_arrow': True}\n"
     ]
    },
    {
     "name": "stderr",
     "output_type": "stream",
     "text": [
      " 52%|████████████████████▍                  | 1047/2000 [48:24<25:39,  1.62s/it]"
     ]
    },
    {
     "name": "stdout",
     "output_type": "stream",
     "text": [
      "{'mapbox_fetched_img': False, 'mapbox_img': 'mapbox/155273/133816/18.jpg', 'mapbox_added_arrow': True, 'bing_fetched_img': False, 'bing_img': 'bing/155273/133816/18.jpg', 'bing_added_arrow': True}\n"
     ]
    },
    {
     "name": "stderr",
     "output_type": "stream",
     "text": [
      " 52%|████████████████████▍                  | 1048/2000 [48:26<25:28,  1.61s/it]"
     ]
    },
    {
     "name": "stdout",
     "output_type": "stream",
     "text": [
      "{'mapbox_fetched_img': False, 'mapbox_img': 'mapbox/155273/133816/18.jpg', 'mapbox_added_arrow': True, 'bing_fetched_img': False, 'bing_img': 'bing/155273/133816/18.jpg', 'bing_added_arrow': True}\n",
      "Fetching from: https://api.mapbox.com/styles/v1/mapbox/satellite-v9/tiles/256/18/155273/133815?access_token=pk.eyJ1IjoiaXp2b25rb3YiLCJhIjoiY2t0YXU3MTE3MDJuNjJ1bW9xYzc3bTlrMCJ9.fiGLAZ29dmYv2sqlxuaB-A\n",
      "100% [............................................................] 8836 / 8836Fetching from: http://ecn.t0.tiles.virtualearth.net/tiles/a300101313030221223.jpeg?g=14009\n",
      "100% [..........................................................] 11957 / 11957"
     ]
    },
    {
     "name": "stderr",
     "output_type": "stream",
     "text": [
      " 52%|████████████████████▍                  | 1049/2000 [48:30<39:30,  2.49s/it]"
     ]
    },
    {
     "name": "stdout",
     "output_type": "stream",
     "text": [
      "{'mapbox_fetched_img': True, 'mapbox_img': 'mapbox/155273/133815/18.jpg', 'mapbox_added_arrow': True, 'bing_fetched_img': True, 'bing_img': 'bing/155273/133815/18.jpg', 'bing_added_arrow': True}\n"
     ]
    },
    {
     "name": "stderr",
     "output_type": "stream",
     "text": [
      " 52%|████████████████████▍                  | 1050/2000 [48:32<34:54,  2.20s/it]"
     ]
    },
    {
     "name": "stdout",
     "output_type": "stream",
     "text": [
      "{'mapbox_fetched_img': False, 'mapbox_img': 'mapbox/155273/133815/18.jpg', 'mapbox_added_arrow': True, 'bing_fetched_img': False, 'bing_img': 'bing/155273/133815/18.jpg', 'bing_added_arrow': True}\n"
     ]
    },
    {
     "name": "stderr",
     "output_type": "stream",
     "text": [
      " 53%|████████████████████▍                  | 1051/2000 [48:34<32:00,  2.02s/it]"
     ]
    },
    {
     "name": "stdout",
     "output_type": "stream",
     "text": [
      "{'mapbox_fetched_img': False, 'mapbox_img': 'mapbox/155273/133815/18.jpg', 'mapbox_added_arrow': True, 'bing_fetched_img': False, 'bing_img': 'bing/155273/133815/18.jpg', 'bing_added_arrow': True}\n"
     ]
    },
    {
     "name": "stderr",
     "output_type": "stream",
     "text": [
      " 53%|████████████████████▌                  | 1052/2000 [48:35<30:26,  1.93s/it]"
     ]
    },
    {
     "name": "stdout",
     "output_type": "stream",
     "text": [
      "{'mapbox_fetched_img': False, 'mapbox_img': 'mapbox/155273/133815/18.jpg', 'mapbox_added_arrow': True, 'bing_fetched_img': False, 'bing_img': 'bing/155273/133815/18.jpg', 'bing_added_arrow': True}\n"
     ]
    },
    {
     "name": "stderr",
     "output_type": "stream",
     "text": [
      " 53%|████████████████████▌                  | 1053/2000 [48:38<31:53,  2.02s/it]"
     ]
    },
    {
     "name": "stdout",
     "output_type": "stream",
     "text": [
      "{'mapbox_fetched_img': False, 'mapbox_img': 'mapbox/155273/133815/18.jpg', 'mapbox_added_arrow': True, 'bing_fetched_img': False, 'bing_img': 'bing/155273/133815/18.jpg', 'bing_added_arrow': True}\n"
     ]
    },
    {
     "name": "stderr",
     "output_type": "stream",
     "text": [
      " 53%|████████████████████▌                  | 1054/2000 [48:39<30:28,  1.93s/it]"
     ]
    },
    {
     "name": "stdout",
     "output_type": "stream",
     "text": [
      "{'mapbox_fetched_img': False, 'mapbox_img': 'mapbox/155273/133815/18.jpg', 'mapbox_added_arrow': True, 'bing_fetched_img': False, 'bing_img': 'bing/155273/133815/18.jpg', 'bing_added_arrow': True}\n"
     ]
    },
    {
     "name": "stderr",
     "output_type": "stream",
     "text": [
      " 53%|████████████████████▌                  | 1055/2000 [48:41<29:35,  1.88s/it]"
     ]
    },
    {
     "name": "stdout",
     "output_type": "stream",
     "text": [
      "{'mapbox_fetched_img': False, 'mapbox_img': 'mapbox/155273/133815/18.jpg', 'mapbox_added_arrow': True, 'bing_fetched_img': False, 'bing_img': 'bing/155273/133815/18.jpg', 'bing_added_arrow': True}\n"
     ]
    },
    {
     "name": "stderr",
     "output_type": "stream",
     "text": [
      " 53%|████████████████████▌                  | 1056/2000 [48:43<28:44,  1.83s/it]"
     ]
    },
    {
     "name": "stdout",
     "output_type": "stream",
     "text": [
      "{'mapbox_fetched_img': False, 'mapbox_img': 'mapbox/155273/133815/18.jpg', 'mapbox_added_arrow': True, 'bing_fetched_img': False, 'bing_img': 'bing/155273/133815/18.jpg', 'bing_added_arrow': True}\n"
     ]
    },
    {
     "name": "stderr",
     "output_type": "stream",
     "text": [
      " 53%|████████████████████▌                  | 1057/2000 [48:44<27:51,  1.77s/it]"
     ]
    },
    {
     "name": "stdout",
     "output_type": "stream",
     "text": [
      "{'mapbox_fetched_img': False, 'mapbox_img': 'mapbox/155273/133815/18.jpg', 'mapbox_added_arrow': True, 'bing_fetched_img': False, 'bing_img': 'bing/155273/133815/18.jpg', 'bing_added_arrow': True}\n"
     ]
    },
    {
     "name": "stderr",
     "output_type": "stream",
     "text": [
      " 53%|████████████████████▋                  | 1058/2000 [48:46<26:58,  1.72s/it]"
     ]
    },
    {
     "name": "stdout",
     "output_type": "stream",
     "text": [
      "{'mapbox_fetched_img': False, 'mapbox_img': 'mapbox/155273/133815/18.jpg', 'mapbox_added_arrow': True, 'bing_fetched_img': False, 'bing_img': 'bing/155273/133815/18.jpg', 'bing_added_arrow': True}\n"
     ]
    },
    {
     "name": "stderr",
     "output_type": "stream",
     "text": [
      " 53%|████████████████████▋                  | 1059/2000 [48:48<30:41,  1.96s/it]"
     ]
    },
    {
     "name": "stdout",
     "output_type": "stream",
     "text": [
      "{'mapbox_fetched_img': False, 'mapbox_img': 'mapbox/155273/133815/18.jpg', 'mapbox_added_arrow': True, 'bing_fetched_img': False, 'bing_img': 'bing/155273/133815/18.jpg', 'bing_added_arrow': True}\n"
     ]
    },
    {
     "name": "stderr",
     "output_type": "stream",
     "text": [
      " 53%|████████████████████▋                  | 1060/2000 [48:50<30:12,  1.93s/it]"
     ]
    },
    {
     "name": "stdout",
     "output_type": "stream",
     "text": [
      "{'mapbox_fetched_img': False, 'mapbox_img': 'mapbox/155273/133815/18.jpg', 'mapbox_added_arrow': True, 'bing_fetched_img': False, 'bing_img': 'bing/155273/133815/18.jpg', 'bing_added_arrow': True}\n"
     ]
    },
    {
     "name": "stderr",
     "output_type": "stream",
     "text": [
      " 53%|████████████████████▋                  | 1061/2000 [48:52<30:19,  1.94s/it]"
     ]
    },
    {
     "name": "stdout",
     "output_type": "stream",
     "text": [
      "{'mapbox_fetched_img': False, 'mapbox_img': 'mapbox/155273/133815/18.jpg', 'mapbox_added_arrow': True, 'bing_fetched_img': False, 'bing_img': 'bing/155273/133815/18.jpg', 'bing_added_arrow': True}\n"
     ]
    },
    {
     "name": "stderr",
     "output_type": "stream",
     "text": [
      " 53%|████████████████████▋                  | 1062/2000 [48:55<31:46,  2.03s/it]"
     ]
    },
    {
     "name": "stdout",
     "output_type": "stream",
     "text": [
      "{'mapbox_fetched_img': False, 'mapbox_img': 'mapbox/155273/133815/18.jpg', 'mapbox_added_arrow': True, 'bing_fetched_img': False, 'bing_img': 'bing/155273/133815/18.jpg', 'bing_added_arrow': True}\n"
     ]
    },
    {
     "name": "stderr",
     "output_type": "stream",
     "text": [
      " 53%|████████████████████▋                  | 1063/2000 [48:56<29:44,  1.90s/it]"
     ]
    },
    {
     "name": "stdout",
     "output_type": "stream",
     "text": [
      "{'mapbox_fetched_img': False, 'mapbox_img': 'mapbox/155273/133815/18.jpg', 'mapbox_added_arrow': True, 'bing_fetched_img': False, 'bing_img': 'bing/155273/133815/18.jpg', 'bing_added_arrow': True}\n",
      "Fetching from: https://api.mapbox.com/styles/v1/mapbox/satellite-v9/tiles/256/18/155272/133813?access_token=pk.eyJ1IjoiaXp2b25rb3YiLCJhIjoiY2t0YXU3MTE3MDJuNjJ1bW9xYzc3bTlrMCJ9.fiGLAZ29dmYv2sqlxuaB-A\n",
      "100% [..........................................................] 10829 / 10829Fetching from: http://ecn.t0.tiles.virtualearth.net/tiles/a300101313030221202.jpeg?g=14009\n",
      "100% [..........................................................] 14439 / 14439"
     ]
    },
    {
     "name": "stderr",
     "output_type": "stream",
     "text": [
      " 53%|████████████████████▋                  | 1064/2000 [49:00<38:28,  2.47s/it]"
     ]
    },
    {
     "name": "stdout",
     "output_type": "stream",
     "text": [
      "{'mapbox_fetched_img': True, 'mapbox_img': 'mapbox/155272/133813/18.jpg', 'mapbox_added_arrow': True, 'bing_fetched_img': True, 'bing_img': 'bing/155272/133813/18.jpg', 'bing_added_arrow': True}\n"
     ]
    },
    {
     "name": "stderr",
     "output_type": "stream",
     "text": [
      " 53%|████████████████████▊                  | 1065/2000 [49:03<43:02,  2.76s/it]"
     ]
    },
    {
     "name": "stdout",
     "output_type": "stream",
     "text": [
      "{'mapbox_fetched_img': False, 'mapbox_img': 'mapbox/155272/133813/18.jpg', 'mapbox_added_arrow': True, 'bing_fetched_img': False, 'bing_img': 'bing/155272/133813/18.jpg', 'bing_added_arrow': True}\n"
     ]
    },
    {
     "name": "stderr",
     "output_type": "stream",
     "text": [
      " 53%|████████████████████▊                  | 1066/2000 [49:06<40:40,  2.61s/it]"
     ]
    },
    {
     "name": "stdout",
     "output_type": "stream",
     "text": [
      "{'mapbox_fetched_img': False, 'mapbox_img': 'mapbox/155272/133813/18.jpg', 'mapbox_added_arrow': True, 'bing_fetched_img': False, 'bing_img': 'bing/155272/133813/18.jpg', 'bing_added_arrow': True}\n"
     ]
    },
    {
     "name": "stderr",
     "output_type": "stream",
     "text": [
      " 53%|████████████████████▊                  | 1067/2000 [49:08<38:05,  2.45s/it]"
     ]
    },
    {
     "name": "stdout",
     "output_type": "stream",
     "text": [
      "{'mapbox_fetched_img': False, 'mapbox_img': 'mapbox/155272/133813/18.jpg', 'mapbox_added_arrow': True, 'bing_fetched_img': False, 'bing_img': 'bing/155272/133813/18.jpg', 'bing_added_arrow': True}\n"
     ]
    },
    {
     "name": "stderr",
     "output_type": "stream",
     "text": [
      " 53%|████████████████████▊                  | 1068/2000 [49:10<35:42,  2.30s/it]"
     ]
    },
    {
     "name": "stdout",
     "output_type": "stream",
     "text": [
      "{'mapbox_fetched_img': False, 'mapbox_img': 'mapbox/155272/133813/18.jpg', 'mapbox_added_arrow': True, 'bing_fetched_img': False, 'bing_img': 'bing/155272/133813/18.jpg', 'bing_added_arrow': True}\n"
     ]
    },
    {
     "name": "stderr",
     "output_type": "stream",
     "text": [
      " 53%|████████████████████▊                  | 1069/2000 [49:12<34:00,  2.19s/it]"
     ]
    },
    {
     "name": "stdout",
     "output_type": "stream",
     "text": [
      "{'mapbox_fetched_img': False, 'mapbox_img': 'mapbox/155272/133813/18.jpg', 'mapbox_added_arrow': True, 'bing_fetched_img': False, 'bing_img': 'bing/155272/133813/18.jpg', 'bing_added_arrow': True}\n"
     ]
    },
    {
     "name": "stderr",
     "output_type": "stream",
     "text": [
      " 54%|████████████████████▊                  | 1070/2000 [49:13<31:38,  2.04s/it]"
     ]
    },
    {
     "name": "stdout",
     "output_type": "stream",
     "text": [
      "{'mapbox_fetched_img': False, 'mapbox_img': 'mapbox/155272/133813/18.jpg', 'mapbox_added_arrow': True, 'bing_fetched_img': False, 'bing_img': 'bing/155272/133813/18.jpg', 'bing_added_arrow': True}\n",
      "Fetching from: https://api.mapbox.com/styles/v1/mapbox/satellite-v9/tiles/256/18/155271/133815?access_token=pk.eyJ1IjoiaXp2b25rb3YiLCJhIjoiY2t0YXU3MTE3MDJuNjJ1bW9xYzc3bTlrMCJ9.fiGLAZ29dmYv2sqlxuaB-A\n",
      "100% [............................................................] 9926 / 9926Fetching from: http://ecn.t0.tiles.virtualearth.net/tiles/a300101313030220333.jpeg?g=14009\n",
      "100% [..........................................................] 13613 / 13613"
     ]
    },
    {
     "name": "stderr",
     "output_type": "stream",
     "text": [
      " 54%|████████████████████▉                  | 1071/2000 [49:16<34:59,  2.26s/it]"
     ]
    },
    {
     "name": "stdout",
     "output_type": "stream",
     "text": [
      "{'mapbox_fetched_img': True, 'mapbox_img': 'mapbox/155271/133815/18.jpg', 'mapbox_added_arrow': True, 'bing_fetched_img': True, 'bing_img': 'bing/155271/133815/18.jpg', 'bing_added_arrow': True}\n"
     ]
    },
    {
     "name": "stderr",
     "output_type": "stream",
     "text": [
      " 54%|████████████████████▉                  | 1072/2000 [49:20<40:42,  2.63s/it]"
     ]
    },
    {
     "name": "stdout",
     "output_type": "stream",
     "text": [
      "{'mapbox_fetched_img': False, 'mapbox_img': 'mapbox/155271/133815/18.jpg', 'mapbox_added_arrow': True, 'bing_fetched_img': False, 'bing_img': 'bing/155271/133815/18.jpg', 'bing_added_arrow': True}\n"
     ]
    },
    {
     "name": "stderr",
     "output_type": "stream",
     "text": [
      " 54%|████████████████████▉                  | 1073/2000 [49:22<41:21,  2.68s/it]"
     ]
    },
    {
     "name": "stdout",
     "output_type": "stream",
     "text": [
      "{'mapbox_fetched_img': False, 'mapbox_img': 'mapbox/155271/133815/18.jpg', 'mapbox_added_arrow': True, 'bing_fetched_img': False, 'bing_img': 'bing/155271/133815/18.jpg', 'bing_added_arrow': True}\n",
      "Fetching from: https://api.mapbox.com/styles/v1/mapbox/satellite-v9/tiles/256/18/155270/133815?access_token=pk.eyJ1IjoiaXp2b25rb3YiLCJhIjoiY2t0YXU3MTE3MDJuNjJ1bW9xYzc3bTlrMCJ9.fiGLAZ29dmYv2sqlxuaB-A\n",
      "100% [..........................................................] 11995 / 11995Fetching from: http://ecn.t0.tiles.virtualearth.net/tiles/a300101313030220332.jpeg?g=14009\n",
      "100% [..........................................................] 15480 / 15480"
     ]
    },
    {
     "name": "stderr",
     "output_type": "stream",
     "text": [
      " 54%|████████████████████▉                  | 1074/2000 [49:26<44:07,  2.86s/it]"
     ]
    },
    {
     "name": "stdout",
     "output_type": "stream",
     "text": [
      "{'mapbox_fetched_img': True, 'mapbox_img': 'mapbox/155270/133815/18.jpg', 'mapbox_added_arrow': True, 'bing_fetched_img': True, 'bing_img': 'bing/155270/133815/18.jpg', 'bing_added_arrow': True}\n"
     ]
    },
    {
     "name": "stderr",
     "output_type": "stream",
     "text": [
      " 54%|████████████████████▉                  | 1075/2000 [49:27<39:03,  2.53s/it]"
     ]
    },
    {
     "name": "stdout",
     "output_type": "stream",
     "text": [
      "{'mapbox_fetched_img': False, 'mapbox_img': 'mapbox/155270/133815/18.jpg', 'mapbox_added_arrow': True, 'bing_fetched_img': False, 'bing_img': 'bing/155270/133815/18.jpg', 'bing_added_arrow': True}\n"
     ]
    },
    {
     "name": "stderr",
     "output_type": "stream",
     "text": [
      " 54%|████████████████████▉                  | 1076/2000 [49:29<35:43,  2.32s/it]"
     ]
    },
    {
     "name": "stdout",
     "output_type": "stream",
     "text": [
      "{'mapbox_fetched_img': False, 'mapbox_img': 'mapbox/155270/133815/18.jpg', 'mapbox_added_arrow': True, 'bing_fetched_img': False, 'bing_img': 'bing/155270/133815/18.jpg', 'bing_added_arrow': True}\n"
     ]
    },
    {
     "name": "stderr",
     "output_type": "stream",
     "text": [
      " 54%|█████████████████████                  | 1077/2000 [49:31<33:44,  2.19s/it]"
     ]
    },
    {
     "name": "stdout",
     "output_type": "stream",
     "text": [
      "{'mapbox_fetched_img': False, 'mapbox_img': 'mapbox/155270/133815/18.jpg', 'mapbox_added_arrow': True, 'bing_fetched_img': False, 'bing_img': 'bing/155270/133815/18.jpg', 'bing_added_arrow': True}\n"
     ]
    },
    {
     "name": "stderr",
     "output_type": "stream",
     "text": [
      " 54%|█████████████████████                  | 1078/2000 [49:33<33:23,  2.17s/it]"
     ]
    },
    {
     "name": "stdout",
     "output_type": "stream",
     "text": [
      "{'mapbox_fetched_img': False, 'mapbox_img': 'mapbox/155270/133815/18.jpg', 'mapbox_added_arrow': True, 'bing_fetched_img': False, 'bing_img': 'bing/155270/133815/18.jpg', 'bing_added_arrow': True}\n"
     ]
    },
    {
     "name": "stderr",
     "output_type": "stream",
     "text": [
      " 54%|█████████████████████                  | 1079/2000 [49:35<33:28,  2.18s/it]"
     ]
    },
    {
     "name": "stdout",
     "output_type": "stream",
     "text": [
      "{'mapbox_fetched_img': False, 'mapbox_img': 'mapbox/155270/133815/18.jpg', 'mapbox_added_arrow': True, 'bing_fetched_img': False, 'bing_img': 'bing/155270/133815/18.jpg', 'bing_added_arrow': True}\n"
     ]
    },
    {
     "name": "stderr",
     "output_type": "stream",
     "text": [
      " 54%|█████████████████████                  | 1080/2000 [49:37<32:02,  2.09s/it]"
     ]
    },
    {
     "name": "stdout",
     "output_type": "stream",
     "text": [
      "{'mapbox_fetched_img': False, 'mapbox_img': 'mapbox/155270/133815/18.jpg', 'mapbox_added_arrow': True, 'bing_fetched_img': False, 'bing_img': 'bing/155270/133815/18.jpg', 'bing_added_arrow': True}\n"
     ]
    },
    {
     "name": "stderr",
     "output_type": "stream",
     "text": [
      " 54%|█████████████████████                  | 1081/2000 [49:40<35:25,  2.31s/it]"
     ]
    },
    {
     "name": "stdout",
     "output_type": "stream",
     "text": [
      "{'mapbox_fetched_img': False, 'mapbox_img': 'mapbox/155270/133815/18.jpg', 'mapbox_added_arrow': True, 'bing_fetched_img': False, 'bing_img': 'bing/155270/133815/18.jpg', 'bing_added_arrow': True}\n"
     ]
    },
    {
     "name": "stderr",
     "output_type": "stream",
     "text": [
      " 54%|█████████████████████                  | 1082/2000 [49:42<34:52,  2.28s/it]"
     ]
    },
    {
     "name": "stdout",
     "output_type": "stream",
     "text": [
      "{'mapbox_fetched_img': False, 'mapbox_img': 'mapbox/155270/133815/18.jpg', 'mapbox_added_arrow': True, 'bing_fetched_img': False, 'bing_img': 'bing/155270/133815/18.jpg', 'bing_added_arrow': True}\n"
     ]
    },
    {
     "name": "stderr",
     "output_type": "stream",
     "text": [
      " 54%|█████████████████████                  | 1083/2000 [49:46<40:40,  2.66s/it]"
     ]
    },
    {
     "name": "stdout",
     "output_type": "stream",
     "text": [
      "{'mapbox_fetched_img': False, 'mapbox_img': 'mapbox/155270/133815/18.jpg', 'mapbox_added_arrow': True, 'bing_fetched_img': False, 'bing_img': 'bing/155270/133815/18.jpg', 'bing_added_arrow': True}\n"
     ]
    },
    {
     "name": "stderr",
     "output_type": "stream",
     "text": [
      " 54%|█████████████████████▏                 | 1084/2000 [49:48<38:55,  2.55s/it]"
     ]
    },
    {
     "name": "stdout",
     "output_type": "stream",
     "text": [
      "{'mapbox_fetched_img': False, 'mapbox_img': 'mapbox/155270/133815/18.jpg', 'mapbox_added_arrow': True, 'bing_fetched_img': False, 'bing_img': 'bing/155270/133815/18.jpg', 'bing_added_arrow': True}\n"
     ]
    },
    {
     "name": "stderr",
     "output_type": "stream",
     "text": [
      " 54%|█████████████████████▏                 | 1085/2000 [49:51<38:08,  2.50s/it]"
     ]
    },
    {
     "name": "stdout",
     "output_type": "stream",
     "text": [
      "{'mapbox_fetched_img': False, 'mapbox_img': 'mapbox/155270/133815/18.jpg', 'mapbox_added_arrow': True, 'bing_fetched_img': False, 'bing_img': 'bing/155270/133815/18.jpg', 'bing_added_arrow': True}\n"
     ]
    },
    {
     "name": "stderr",
     "output_type": "stream",
     "text": [
      " 54%|█████████████████████▏                 | 1086/2000 [49:54<42:48,  2.81s/it]"
     ]
    },
    {
     "name": "stdout",
     "output_type": "stream",
     "text": [
      "{'mapbox_fetched_img': False, 'mapbox_img': 'mapbox/155270/133815/18.jpg', 'mapbox_added_arrow': True, 'bing_fetched_img': False, 'bing_img': 'bing/155270/133815/18.jpg', 'bing_added_arrow': True}\n"
     ]
    },
    {
     "name": "stderr",
     "output_type": "stream",
     "text": [
      " 54%|█████████████████████▏                 | 1087/2000 [49:56<40:36,  2.67s/it]"
     ]
    },
    {
     "name": "stdout",
     "output_type": "stream",
     "text": [
      "{'mapbox_fetched_img': False, 'mapbox_img': 'mapbox/155270/133815/18.jpg', 'mapbox_added_arrow': True, 'bing_fetched_img': False, 'bing_img': 'bing/155270/133815/18.jpg', 'bing_added_arrow': True}\n"
     ]
    },
    {
     "name": "stderr",
     "output_type": "stream",
     "text": [
      " 54%|█████████████████████▏                 | 1088/2000 [49:59<38:04,  2.51s/it]"
     ]
    },
    {
     "name": "stdout",
     "output_type": "stream",
     "text": [
      "{'mapbox_fetched_img': False, 'mapbox_img': 'mapbox/155270/133815/18.jpg', 'mapbox_added_arrow': True, 'bing_fetched_img': False, 'bing_img': 'bing/155270/133815/18.jpg', 'bing_added_arrow': True}\n"
     ]
    },
    {
     "name": "stderr",
     "output_type": "stream",
     "text": [
      " 54%|█████████████████████▏                 | 1089/2000 [50:01<35:36,  2.35s/it]"
     ]
    },
    {
     "name": "stdout",
     "output_type": "stream",
     "text": [
      "{'mapbox_fetched_img': False, 'mapbox_img': 'mapbox/155270/133815/18.jpg', 'mapbox_added_arrow': True, 'bing_fetched_img': False, 'bing_img': 'bing/155270/133815/18.jpg', 'bing_added_arrow': True}\n"
     ]
    },
    {
     "name": "stderr",
     "output_type": "stream",
     "text": [
      " 55%|█████████████████████▎                 | 1090/2000 [50:02<32:31,  2.14s/it]"
     ]
    },
    {
     "name": "stdout",
     "output_type": "stream",
     "text": [
      "{'mapbox_fetched_img': False, 'mapbox_img': 'mapbox/155270/133815/18.jpg', 'mapbox_added_arrow': True, 'bing_fetched_img': False, 'bing_img': 'bing/155270/133815/18.jpg', 'bing_added_arrow': True}\n"
     ]
    },
    {
     "name": "stderr",
     "output_type": "stream",
     "text": [
      " 55%|█████████████████████▎                 | 1091/2000 [50:04<31:35,  2.09s/it]"
     ]
    },
    {
     "name": "stdout",
     "output_type": "stream",
     "text": [
      "{'mapbox_fetched_img': False, 'mapbox_img': 'mapbox/155270/133815/18.jpg', 'mapbox_added_arrow': True, 'bing_fetched_img': False, 'bing_img': 'bing/155270/133815/18.jpg', 'bing_added_arrow': True}\n"
     ]
    },
    {
     "name": "stderr",
     "output_type": "stream",
     "text": [
      " 55%|█████████████████████▎                 | 1092/2000 [50:06<29:50,  1.97s/it]"
     ]
    },
    {
     "name": "stdout",
     "output_type": "stream",
     "text": [
      "{'mapbox_fetched_img': False, 'mapbox_img': 'mapbox/155270/133815/18.jpg', 'mapbox_added_arrow': True, 'bing_fetched_img': False, 'bing_img': 'bing/155270/133815/18.jpg', 'bing_added_arrow': True}\n"
     ]
    },
    {
     "name": "stderr",
     "output_type": "stream",
     "text": [
      " 55%|█████████████████████▎                 | 1093/2000 [50:08<28:39,  1.90s/it]"
     ]
    },
    {
     "name": "stdout",
     "output_type": "stream",
     "text": [
      "{'mapbox_fetched_img': False, 'mapbox_img': 'mapbox/155270/133815/18.jpg', 'mapbox_added_arrow': True, 'bing_fetched_img': False, 'bing_img': 'bing/155270/133815/18.jpg', 'bing_added_arrow': True}\n"
     ]
    },
    {
     "name": "stderr",
     "output_type": "stream",
     "text": [
      " 55%|█████████████████████▎                 | 1094/2000 [50:10<31:51,  2.11s/it]"
     ]
    },
    {
     "name": "stdout",
     "output_type": "stream",
     "text": [
      "{'mapbox_fetched_img': False, 'mapbox_img': 'mapbox/155270/133815/18.jpg', 'mapbox_added_arrow': True, 'bing_fetched_img': False, 'bing_img': 'bing/155270/133815/18.jpg', 'bing_added_arrow': True}\n"
     ]
    },
    {
     "name": "stderr",
     "output_type": "stream",
     "text": [
      " 55%|█████████████████████▎                 | 1095/2000 [50:12<30:34,  2.03s/it]"
     ]
    },
    {
     "name": "stdout",
     "output_type": "stream",
     "text": [
      "{'mapbox_fetched_img': False, 'mapbox_img': 'mapbox/155270/133815/18.jpg', 'mapbox_added_arrow': True, 'bing_fetched_img': False, 'bing_img': 'bing/155270/133815/18.jpg', 'bing_added_arrow': True}\n",
      "No photo found before to establish direction for TANZANIA_v2-2022-05-05_103GOPRO-G0453784\n"
     ]
    },
    {
     "name": "stderr",
     "output_type": "stream",
     "text": [
      " 55%|█████████████████████▎                 | 1096/2000 [50:13<25:18,  1.68s/it]"
     ]
    },
    {
     "name": "stdout",
     "output_type": "stream",
     "text": [
      "No photo found before to establish direction for TANZANIA_v2-2022-05-05_103GOPRO-G0453784\n",
      "{'mapbox_fetched_img': False, 'mapbox_img': 'mapbox/155270/133815/18.jpg', 'mapbox_added_arrow': False, 'bing_fetched_img': False, 'bing_img': 'bing/155270/133815/18.jpg', 'bing_added_arrow': False}\n"
     ]
    },
    {
     "name": "stderr",
     "output_type": "stream",
     "text": [
      " 55%|█████████████████████▍                 | 1097/2000 [50:15<25:01,  1.66s/it]"
     ]
    },
    {
     "name": "stdout",
     "output_type": "stream",
     "text": [
      "{'mapbox_fetched_img': False, 'mapbox_img': 'mapbox/155270/133815/18.jpg', 'mapbox_added_arrow': True, 'bing_fetched_img': False, 'bing_img': 'bing/155270/133815/18.jpg', 'bing_added_arrow': True}\n"
     ]
    },
    {
     "name": "stderr",
     "output_type": "stream",
     "text": [
      " 55%|█████████████████████▍                 | 1098/2000 [50:16<25:02,  1.67s/it]"
     ]
    },
    {
     "name": "stdout",
     "output_type": "stream",
     "text": [
      "{'mapbox_fetched_img': False, 'mapbox_img': 'mapbox/155270/133815/18.jpg', 'mapbox_added_arrow': True, 'bing_fetched_img': False, 'bing_img': 'bing/155270/133815/18.jpg', 'bing_added_arrow': True}\n"
     ]
    },
    {
     "name": "stderr",
     "output_type": "stream",
     "text": [
      " 55%|█████████████████████▍                 | 1099/2000 [50:18<27:32,  1.83s/it]"
     ]
    },
    {
     "name": "stdout",
     "output_type": "stream",
     "text": [
      "{'mapbox_fetched_img': False, 'mapbox_img': 'mapbox/155270/133815/18.jpg', 'mapbox_added_arrow': True, 'bing_fetched_img': False, 'bing_img': 'bing/155270/133815/18.jpg', 'bing_added_arrow': True}\n"
     ]
    },
    {
     "name": "stderr",
     "output_type": "stream",
     "text": [
      " 55%|█████████████████████▍                 | 1100/2000 [50:20<26:23,  1.76s/it]"
     ]
    },
    {
     "name": "stdout",
     "output_type": "stream",
     "text": [
      "{'mapbox_fetched_img': False, 'mapbox_img': 'mapbox/155270/133815/18.jpg', 'mapbox_added_arrow': True, 'bing_fetched_img': False, 'bing_img': 'bing/155270/133815/18.jpg', 'bing_added_arrow': True}\n"
     ]
    },
    {
     "name": "stderr",
     "output_type": "stream",
     "text": [
      " 55%|█████████████████████▍                 | 1101/2000 [50:22<28:18,  1.89s/it]"
     ]
    },
    {
     "name": "stdout",
     "output_type": "stream",
     "text": [
      "{'mapbox_fetched_img': False, 'mapbox_img': 'mapbox/155270/133815/18.jpg', 'mapbox_added_arrow': True, 'bing_fetched_img': False, 'bing_img': 'bing/155270/133815/18.jpg', 'bing_added_arrow': True}\n"
     ]
    },
    {
     "name": "stderr",
     "output_type": "stream",
     "text": [
      " 55%|█████████████████████▍                 | 1102/2000 [50:24<27:10,  1.82s/it]"
     ]
    },
    {
     "name": "stdout",
     "output_type": "stream",
     "text": [
      "{'mapbox_fetched_img': False, 'mapbox_img': 'mapbox/155270/133815/18.jpg', 'mapbox_added_arrow': True, 'bing_fetched_img': False, 'bing_img': 'bing/155270/133815/18.jpg', 'bing_added_arrow': True}\n"
     ]
    },
    {
     "name": "stderr",
     "output_type": "stream",
     "text": [
      " 55%|█████████████████████▌                 | 1103/2000 [50:26<26:18,  1.76s/it]"
     ]
    },
    {
     "name": "stdout",
     "output_type": "stream",
     "text": [
      "{'mapbox_fetched_img': False, 'mapbox_img': 'mapbox/155270/133815/18.jpg', 'mapbox_added_arrow': True, 'bing_fetched_img': False, 'bing_img': 'bing/155270/133815/18.jpg', 'bing_added_arrow': True}\n"
     ]
    },
    {
     "name": "stderr",
     "output_type": "stream",
     "text": [
      " 55%|█████████████████████▌                 | 1104/2000 [50:28<27:35,  1.85s/it]"
     ]
    },
    {
     "name": "stdout",
     "output_type": "stream",
     "text": [
      "{'mapbox_fetched_img': False, 'mapbox_img': 'mapbox/155270/133815/18.jpg', 'mapbox_added_arrow': True, 'bing_fetched_img': False, 'bing_img': 'bing/155270/133815/18.jpg', 'bing_added_arrow': True}\n"
     ]
    },
    {
     "name": "stderr",
     "output_type": "stream",
     "text": [
      " 55%|█████████████████████▌                 | 1105/2000 [50:29<26:38,  1.79s/it]"
     ]
    },
    {
     "name": "stdout",
     "output_type": "stream",
     "text": [
      "{'mapbox_fetched_img': False, 'mapbox_img': 'mapbox/155270/133815/18.jpg', 'mapbox_added_arrow': True, 'bing_fetched_img': False, 'bing_img': 'bing/155270/133815/18.jpg', 'bing_added_arrow': True}\n"
     ]
    },
    {
     "name": "stderr",
     "output_type": "stream",
     "text": [
      " 55%|█████████████████████▌                 | 1106/2000 [50:31<26:38,  1.79s/it]"
     ]
    },
    {
     "name": "stdout",
     "output_type": "stream",
     "text": [
      "{'mapbox_fetched_img': False, 'mapbox_img': 'mapbox/155270/133815/18.jpg', 'mapbox_added_arrow': True, 'bing_fetched_img': False, 'bing_img': 'bing/155270/133815/18.jpg', 'bing_added_arrow': True}\n",
      "Fetching from: https://api.mapbox.com/styles/v1/mapbox/satellite-v9/tiles/256/18/155269/133815?access_token=pk.eyJ1IjoiaXp2b25rb3YiLCJhIjoiY2t0YXU3MTE3MDJuNjJ1bW9xYzc3bTlrMCJ9.fiGLAZ29dmYv2sqlxuaB-A\n",
      "100% [..........................................................] 12160 / 12160Fetching from: http://ecn.t0.tiles.virtualearth.net/tiles/a300101313030220323.jpeg?g=14009\n",
      "100% [..........................................................] 15702 / 15702"
     ]
    },
    {
     "name": "stderr",
     "output_type": "stream",
     "text": [
      " 55%|█████████████████████▌                 | 1107/2000 [50:34<32:55,  2.21s/it]"
     ]
    },
    {
     "name": "stdout",
     "output_type": "stream",
     "text": [
      "{'mapbox_fetched_img': True, 'mapbox_img': 'mapbox/155269/133815/18.jpg', 'mapbox_added_arrow': True, 'bing_fetched_img': True, 'bing_img': 'bing/155269/133815/18.jpg', 'bing_added_arrow': True}\n"
     ]
    },
    {
     "name": "stderr",
     "output_type": "stream",
     "text": [
      " 55%|█████████████████████▌                 | 1108/2000 [50:36<31:57,  2.15s/it]"
     ]
    },
    {
     "name": "stdout",
     "output_type": "stream",
     "text": [
      "{'mapbox_fetched_img': False, 'mapbox_img': 'mapbox/155269/133815/18.jpg', 'mapbox_added_arrow': True, 'bing_fetched_img': False, 'bing_img': 'bing/155269/133815/18.jpg', 'bing_added_arrow': True}\n"
     ]
    },
    {
     "name": "stderr",
     "output_type": "stream",
     "text": [
      " 55%|█████████████████████▋                 | 1109/2000 [50:38<30:34,  2.06s/it]"
     ]
    },
    {
     "name": "stdout",
     "output_type": "stream",
     "text": [
      "{'mapbox_fetched_img': False, 'mapbox_img': 'mapbox/155269/133815/18.jpg', 'mapbox_added_arrow': True, 'bing_fetched_img': False, 'bing_img': 'bing/155269/133815/18.jpg', 'bing_added_arrow': True}\n"
     ]
    },
    {
     "name": "stderr",
     "output_type": "stream",
     "text": [
      " 56%|█████████████████████▋                 | 1110/2000 [50:40<29:41,  2.00s/it]"
     ]
    },
    {
     "name": "stdout",
     "output_type": "stream",
     "text": [
      "{'mapbox_fetched_img': False, 'mapbox_img': 'mapbox/155269/133815/18.jpg', 'mapbox_added_arrow': True, 'bing_fetched_img': False, 'bing_img': 'bing/155269/133815/18.jpg', 'bing_added_arrow': True}\n"
     ]
    },
    {
     "name": "stderr",
     "output_type": "stream",
     "text": [
      " 56%|█████████████████████▋                 | 1111/2000 [50:42<28:15,  1.91s/it]"
     ]
    },
    {
     "name": "stdout",
     "output_type": "stream",
     "text": [
      "{'mapbox_fetched_img': False, 'mapbox_img': 'mapbox/155269/133815/18.jpg', 'mapbox_added_arrow': True, 'bing_fetched_img': False, 'bing_img': 'bing/155269/133815/18.jpg', 'bing_added_arrow': True}\n"
     ]
    },
    {
     "name": "stderr",
     "output_type": "stream",
     "text": [
      " 56%|█████████████████████▋                 | 1112/2000 [50:43<27:30,  1.86s/it]"
     ]
    },
    {
     "name": "stdout",
     "output_type": "stream",
     "text": [
      "{'mapbox_fetched_img': False, 'mapbox_img': 'mapbox/155269/133815/18.jpg', 'mapbox_added_arrow': True, 'bing_fetched_img': False, 'bing_img': 'bing/155269/133815/18.jpg', 'bing_added_arrow': True}\n"
     ]
    },
    {
     "name": "stderr",
     "output_type": "stream",
     "text": [
      " 56%|█████████████████████▋                 | 1113/2000 [50:45<27:04,  1.83s/it]"
     ]
    },
    {
     "name": "stdout",
     "output_type": "stream",
     "text": [
      "{'mapbox_fetched_img': False, 'mapbox_img': 'mapbox/155269/133815/18.jpg', 'mapbox_added_arrow': True, 'bing_fetched_img': False, 'bing_img': 'bing/155269/133815/18.jpg', 'bing_added_arrow': True}\n"
     ]
    },
    {
     "name": "stderr",
     "output_type": "stream",
     "text": [
      " 56%|█████████████████████▋                 | 1114/2000 [50:47<25:57,  1.76s/it]"
     ]
    },
    {
     "name": "stdout",
     "output_type": "stream",
     "text": [
      "{'mapbox_fetched_img': False, 'mapbox_img': 'mapbox/155269/133815/18.jpg', 'mapbox_added_arrow': True, 'bing_fetched_img': False, 'bing_img': 'bing/155269/133815/18.jpg', 'bing_added_arrow': True}\n"
     ]
    },
    {
     "name": "stderr",
     "output_type": "stream",
     "text": [
      " 56%|█████████████████████▋                 | 1115/2000 [50:49<26:35,  1.80s/it]"
     ]
    },
    {
     "name": "stdout",
     "output_type": "stream",
     "text": [
      "{'mapbox_fetched_img': False, 'mapbox_img': 'mapbox/155269/133815/18.jpg', 'mapbox_added_arrow': True, 'bing_fetched_img': False, 'bing_img': 'bing/155269/133815/18.jpg', 'bing_added_arrow': True}\n"
     ]
    },
    {
     "name": "stderr",
     "output_type": "stream",
     "text": [
      " 56%|█████████████████████▊                 | 1116/2000 [50:51<27:56,  1.90s/it]"
     ]
    },
    {
     "name": "stdout",
     "output_type": "stream",
     "text": [
      "{'mapbox_fetched_img': False, 'mapbox_img': 'mapbox/155269/133815/18.jpg', 'mapbox_added_arrow': True, 'bing_fetched_img': False, 'bing_img': 'bing/155269/133815/18.jpg', 'bing_added_arrow': True}\n"
     ]
    },
    {
     "name": "stderr",
     "output_type": "stream",
     "text": [
      " 56%|█████████████████████▊                 | 1117/2000 [50:52<27:03,  1.84s/it]"
     ]
    },
    {
     "name": "stdout",
     "output_type": "stream",
     "text": [
      "{'mapbox_fetched_img': False, 'mapbox_img': 'mapbox/155269/133815/18.jpg', 'mapbox_added_arrow': True, 'bing_fetched_img': False, 'bing_img': 'bing/155269/133815/18.jpg', 'bing_added_arrow': True}\n"
     ]
    },
    {
     "name": "stderr",
     "output_type": "stream",
     "text": [
      " 56%|█████████████████████▊                 | 1118/2000 [50:54<26:18,  1.79s/it]"
     ]
    },
    {
     "name": "stdout",
     "output_type": "stream",
     "text": [
      "{'mapbox_fetched_img': False, 'mapbox_img': 'mapbox/155269/133815/18.jpg', 'mapbox_added_arrow': True, 'bing_fetched_img': False, 'bing_img': 'bing/155269/133815/18.jpg', 'bing_added_arrow': True}\n"
     ]
    },
    {
     "name": "stderr",
     "output_type": "stream",
     "text": [
      " 56%|█████████████████████▊                 | 1119/2000 [50:56<25:46,  1.76s/it]"
     ]
    },
    {
     "name": "stdout",
     "output_type": "stream",
     "text": [
      "{'mapbox_fetched_img': False, 'mapbox_img': 'mapbox/155269/133815/18.jpg', 'mapbox_added_arrow': True, 'bing_fetched_img': False, 'bing_img': 'bing/155269/133815/18.jpg', 'bing_added_arrow': True}\n"
     ]
    },
    {
     "name": "stderr",
     "output_type": "stream",
     "text": [
      " 56%|█████████████████████▊                 | 1120/2000 [50:58<25:36,  1.75s/it]"
     ]
    },
    {
     "name": "stdout",
     "output_type": "stream",
     "text": [
      "{'mapbox_fetched_img': False, 'mapbox_img': 'mapbox/155269/133815/18.jpg', 'mapbox_added_arrow': True, 'bing_fetched_img': False, 'bing_img': 'bing/155269/133815/18.jpg', 'bing_added_arrow': True}\n"
     ]
    },
    {
     "name": "stderr",
     "output_type": "stream",
     "text": [
      " 56%|█████████████████████▊                 | 1121/2000 [50:59<25:11,  1.72s/it]"
     ]
    },
    {
     "name": "stdout",
     "output_type": "stream",
     "text": [
      "{'mapbox_fetched_img': False, 'mapbox_img': 'mapbox/155269/133815/18.jpg', 'mapbox_added_arrow': True, 'bing_fetched_img': False, 'bing_img': 'bing/155269/133815/18.jpg', 'bing_added_arrow': True}\n",
      "Fetching from: https://api.mapbox.com/styles/v1/mapbox/satellite-v9/tiles/256/18/155268/133816?access_token=pk.eyJ1IjoiaXp2b25rb3YiLCJhIjoiY2t0YXU3MTE3MDJuNjJ1bW9xYzc3bTlrMCJ9.fiGLAZ29dmYv2sqlxuaB-A\n",
      "100% [..........................................................] 13237 / 13237Fetching from: http://ecn.t0.tiles.virtualearth.net/tiles/a300101313030222100.jpeg?g=14009\n",
      "100% [..........................................................] 15473 / 15473"
     ]
    },
    {
     "name": "stderr",
     "output_type": "stream",
     "text": [
      " 56%|█████████████████████▉                 | 1122/2000 [51:02<30:44,  2.10s/it]"
     ]
    },
    {
     "name": "stdout",
     "output_type": "stream",
     "text": [
      "{'mapbox_fetched_img': True, 'mapbox_img': 'mapbox/155268/133816/18.jpg', 'mapbox_added_arrow': True, 'bing_fetched_img': True, 'bing_img': 'bing/155268/133816/18.jpg', 'bing_added_arrow': True}\n"
     ]
    },
    {
     "name": "stderr",
     "output_type": "stream",
     "text": [
      " 56%|█████████████████████▉                 | 1123/2000 [51:04<30:20,  2.08s/it]"
     ]
    },
    {
     "name": "stdout",
     "output_type": "stream",
     "text": [
      "{'mapbox_fetched_img': False, 'mapbox_img': 'mapbox/155268/133816/18.jpg', 'mapbox_added_arrow': True, 'bing_fetched_img': False, 'bing_img': 'bing/155268/133816/18.jpg', 'bing_added_arrow': True}\n"
     ]
    },
    {
     "name": "stderr",
     "output_type": "stream",
     "text": [
      " 56%|█████████████████████▉                 | 1124/2000 [51:06<29:59,  2.05s/it]"
     ]
    },
    {
     "name": "stdout",
     "output_type": "stream",
     "text": [
      "{'mapbox_fetched_img': False, 'mapbox_img': 'mapbox/155268/133816/18.jpg', 'mapbox_added_arrow': True, 'bing_fetched_img': False, 'bing_img': 'bing/155268/133816/18.jpg', 'bing_added_arrow': True}\n"
     ]
    },
    {
     "name": "stderr",
     "output_type": "stream",
     "text": [
      " 56%|█████████████████████▉                 | 1125/2000 [51:08<28:00,  1.92s/it]"
     ]
    },
    {
     "name": "stdout",
     "output_type": "stream",
     "text": [
      "{'mapbox_fetched_img': False, 'mapbox_img': 'mapbox/155268/133816/18.jpg', 'mapbox_added_arrow': True, 'bing_fetched_img': False, 'bing_img': 'bing/155268/133816/18.jpg', 'bing_added_arrow': True}\n"
     ]
    },
    {
     "name": "stderr",
     "output_type": "stream",
     "text": [
      " 56%|█████████████████████▉                 | 1126/2000 [51:10<27:04,  1.86s/it]"
     ]
    },
    {
     "name": "stdout",
     "output_type": "stream",
     "text": [
      "{'mapbox_fetched_img': False, 'mapbox_img': 'mapbox/155268/133816/18.jpg', 'mapbox_added_arrow': True, 'bing_fetched_img': False, 'bing_img': 'bing/155268/133816/18.jpg', 'bing_added_arrow': True}\n"
     ]
    },
    {
     "name": "stderr",
     "output_type": "stream",
     "text": [
      " 56%|█████████████████████▉                 | 1127/2000 [51:11<26:47,  1.84s/it]"
     ]
    },
    {
     "name": "stdout",
     "output_type": "stream",
     "text": [
      "{'mapbox_fetched_img': False, 'mapbox_img': 'mapbox/155268/133816/18.jpg', 'mapbox_added_arrow': True, 'bing_fetched_img': False, 'bing_img': 'bing/155268/133816/18.jpg', 'bing_added_arrow': True}\n"
     ]
    },
    {
     "name": "stderr",
     "output_type": "stream",
     "text": [
      " 56%|█████████████████████▉                 | 1128/2000 [51:13<26:00,  1.79s/it]"
     ]
    },
    {
     "name": "stdout",
     "output_type": "stream",
     "text": [
      "{'mapbox_fetched_img': False, 'mapbox_img': 'mapbox/155268/133816/18.jpg', 'mapbox_added_arrow': True, 'bing_fetched_img': False, 'bing_img': 'bing/155268/133816/18.jpg', 'bing_added_arrow': True}\n"
     ]
    },
    {
     "name": "stderr",
     "output_type": "stream",
     "text": [
      " 56%|██████████████████████                 | 1129/2000 [51:15<24:57,  1.72s/it]"
     ]
    },
    {
     "name": "stdout",
     "output_type": "stream",
     "text": [
      "{'mapbox_fetched_img': False, 'mapbox_img': 'mapbox/155268/133816/18.jpg', 'mapbox_added_arrow': True, 'bing_fetched_img': False, 'bing_img': 'bing/155268/133816/18.jpg', 'bing_added_arrow': True}\n"
     ]
    },
    {
     "name": "stderr",
     "output_type": "stream",
     "text": [
      " 56%|██████████████████████                 | 1130/2000 [51:16<24:39,  1.70s/it]"
     ]
    },
    {
     "name": "stdout",
     "output_type": "stream",
     "text": [
      "{'mapbox_fetched_img': False, 'mapbox_img': 'mapbox/155268/133816/18.jpg', 'mapbox_added_arrow': True, 'bing_fetched_img': False, 'bing_img': 'bing/155268/133816/18.jpg', 'bing_added_arrow': True}\n"
     ]
    },
    {
     "name": "stderr",
     "output_type": "stream",
     "text": [
      " 57%|██████████████████████                 | 1131/2000 [51:18<23:47,  1.64s/it]"
     ]
    },
    {
     "name": "stdout",
     "output_type": "stream",
     "text": [
      "{'mapbox_fetched_img': False, 'mapbox_img': 'mapbox/155268/133816/18.jpg', 'mapbox_added_arrow': True, 'bing_fetched_img': False, 'bing_img': 'bing/155268/133816/18.jpg', 'bing_added_arrow': True}\n"
     ]
    },
    {
     "name": "stderr",
     "output_type": "stream",
     "text": [
      " 57%|██████████████████████                 | 1132/2000 [51:19<23:43,  1.64s/it]"
     ]
    },
    {
     "name": "stdout",
     "output_type": "stream",
     "text": [
      "{'mapbox_fetched_img': False, 'mapbox_img': 'mapbox/155268/133816/18.jpg', 'mapbox_added_arrow': True, 'bing_fetched_img': False, 'bing_img': 'bing/155268/133816/18.jpg', 'bing_added_arrow': True}\n"
     ]
    },
    {
     "name": "stderr",
     "output_type": "stream",
     "text": [
      " 57%|██████████████████████                 | 1133/2000 [51:21<23:44,  1.64s/it]"
     ]
    },
    {
     "name": "stdout",
     "output_type": "stream",
     "text": [
      "{'mapbox_fetched_img': False, 'mapbox_img': 'mapbox/155268/133816/18.jpg', 'mapbox_added_arrow': True, 'bing_fetched_img': False, 'bing_img': 'bing/155268/133816/18.jpg', 'bing_added_arrow': True}\n"
     ]
    },
    {
     "name": "stderr",
     "output_type": "stream",
     "text": [
      " 57%|██████████████████████                 | 1134/2000 [51:23<24:05,  1.67s/it]"
     ]
    },
    {
     "name": "stdout",
     "output_type": "stream",
     "text": [
      "{'mapbox_fetched_img': False, 'mapbox_img': 'mapbox/155268/133816/18.jpg', 'mapbox_added_arrow': True, 'bing_fetched_img': False, 'bing_img': 'bing/155268/133816/18.jpg', 'bing_added_arrow': True}\n"
     ]
    },
    {
     "name": "stderr",
     "output_type": "stream",
     "text": [
      " 57%|██████████████████████▏                | 1135/2000 [51:24<23:53,  1.66s/it]"
     ]
    },
    {
     "name": "stdout",
     "output_type": "stream",
     "text": [
      "{'mapbox_fetched_img': False, 'mapbox_img': 'mapbox/155268/133816/18.jpg', 'mapbox_added_arrow': True, 'bing_fetched_img': False, 'bing_img': 'bing/155268/133816/18.jpg', 'bing_added_arrow': True}\n"
     ]
    },
    {
     "name": "stderr",
     "output_type": "stream",
     "text": [
      " 57%|██████████████████████▏                | 1136/2000 [51:26<23:30,  1.63s/it]"
     ]
    },
    {
     "name": "stdout",
     "output_type": "stream",
     "text": [
      "{'mapbox_fetched_img': False, 'mapbox_img': 'mapbox/155268/133816/18.jpg', 'mapbox_added_arrow': True, 'bing_fetched_img': False, 'bing_img': 'bing/155268/133816/18.jpg', 'bing_added_arrow': True}\n"
     ]
    },
    {
     "name": "stderr",
     "output_type": "stream",
     "text": [
      " 57%|██████████████████████▏                | 1137/2000 [51:27<23:09,  1.61s/it]"
     ]
    },
    {
     "name": "stdout",
     "output_type": "stream",
     "text": [
      "{'mapbox_fetched_img': False, 'mapbox_img': 'mapbox/155268/133816/18.jpg', 'mapbox_added_arrow': True, 'bing_fetched_img': False, 'bing_img': 'bing/155268/133816/18.jpg', 'bing_added_arrow': True}\n"
     ]
    },
    {
     "name": "stderr",
     "output_type": "stream",
     "text": [
      " 57%|██████████████████████▏                | 1138/2000 [51:29<23:41,  1.65s/it]"
     ]
    },
    {
     "name": "stdout",
     "output_type": "stream",
     "text": [
      "{'mapbox_fetched_img': False, 'mapbox_img': 'mapbox/155268/133816/18.jpg', 'mapbox_added_arrow': True, 'bing_fetched_img': False, 'bing_img': 'bing/155268/133816/18.jpg', 'bing_added_arrow': True}\n"
     ]
    },
    {
     "name": "stderr",
     "output_type": "stream",
     "text": [
      " 57%|██████████████████████▏                | 1139/2000 [51:31<23:53,  1.66s/it]"
     ]
    },
    {
     "name": "stdout",
     "output_type": "stream",
     "text": [
      "{'mapbox_fetched_img': False, 'mapbox_img': 'mapbox/155268/133816/18.jpg', 'mapbox_added_arrow': True, 'bing_fetched_img': False, 'bing_img': 'bing/155268/133816/18.jpg', 'bing_added_arrow': True}\n"
     ]
    },
    {
     "name": "stderr",
     "output_type": "stream",
     "text": [
      " 57%|██████████████████████▏                | 1140/2000 [51:33<23:39,  1.65s/it]"
     ]
    },
    {
     "name": "stdout",
     "output_type": "stream",
     "text": [
      "{'mapbox_fetched_img': False, 'mapbox_img': 'mapbox/155268/133816/18.jpg', 'mapbox_added_arrow': True, 'bing_fetched_img': False, 'bing_img': 'bing/155268/133816/18.jpg', 'bing_added_arrow': True}\n"
     ]
    },
    {
     "name": "stderr",
     "output_type": "stream",
     "text": [
      " 57%|██████████████████████▏                | 1141/2000 [51:34<23:18,  1.63s/it]"
     ]
    },
    {
     "name": "stdout",
     "output_type": "stream",
     "text": [
      "{'mapbox_fetched_img': False, 'mapbox_img': 'mapbox/155268/133816/18.jpg', 'mapbox_added_arrow': True, 'bing_fetched_img': False, 'bing_img': 'bing/155268/133816/18.jpg', 'bing_added_arrow': True}\n"
     ]
    },
    {
     "name": "stderr",
     "output_type": "stream",
     "text": [
      " 57%|██████████████████████▎                | 1142/2000 [51:36<23:01,  1.61s/it]"
     ]
    },
    {
     "name": "stdout",
     "output_type": "stream",
     "text": [
      "{'mapbox_fetched_img': False, 'mapbox_img': 'mapbox/155268/133816/18.jpg', 'mapbox_added_arrow': True, 'bing_fetched_img': False, 'bing_img': 'bing/155268/133816/18.jpg', 'bing_added_arrow': True}\n"
     ]
    },
    {
     "name": "stderr",
     "output_type": "stream",
     "text": [
      " 57%|██████████████████████▎                | 1143/2000 [51:37<23:24,  1.64s/it]"
     ]
    },
    {
     "name": "stdout",
     "output_type": "stream",
     "text": [
      "{'mapbox_fetched_img': False, 'mapbox_img': 'mapbox/155268/133816/18.jpg', 'mapbox_added_arrow': True, 'bing_fetched_img': False, 'bing_img': 'bing/155268/133816/18.jpg', 'bing_added_arrow': True}\n"
     ]
    },
    {
     "name": "stderr",
     "output_type": "stream",
     "text": [
      " 57%|██████████████████████▎                | 1144/2000 [51:39<23:04,  1.62s/it]"
     ]
    },
    {
     "name": "stdout",
     "output_type": "stream",
     "text": [
      "{'mapbox_fetched_img': False, 'mapbox_img': 'mapbox/155268/133816/18.jpg', 'mapbox_added_arrow': True, 'bing_fetched_img': False, 'bing_img': 'bing/155268/133816/18.jpg', 'bing_added_arrow': True}\n"
     ]
    },
    {
     "name": "stderr",
     "output_type": "stream",
     "text": [
      " 57%|██████████████████████▎                | 1145/2000 [51:41<22:53,  1.61s/it]"
     ]
    },
    {
     "name": "stdout",
     "output_type": "stream",
     "text": [
      "{'mapbox_fetched_img': False, 'mapbox_img': 'mapbox/155268/133816/18.jpg', 'mapbox_added_arrow': True, 'bing_fetched_img': False, 'bing_img': 'bing/155268/133816/18.jpg', 'bing_added_arrow': True}\n"
     ]
    },
    {
     "name": "stderr",
     "output_type": "stream",
     "text": [
      " 57%|██████████████████████▎                | 1146/2000 [51:42<23:07,  1.62s/it]"
     ]
    },
    {
     "name": "stdout",
     "output_type": "stream",
     "text": [
      "{'mapbox_fetched_img': False, 'mapbox_img': 'mapbox/155268/133816/18.jpg', 'mapbox_added_arrow': True, 'bing_fetched_img': False, 'bing_img': 'bing/155268/133816/18.jpg', 'bing_added_arrow': True}\n"
     ]
    },
    {
     "name": "stderr",
     "output_type": "stream",
     "text": [
      " 57%|██████████████████████▎                | 1147/2000 [51:44<23:26,  1.65s/it]"
     ]
    },
    {
     "name": "stdout",
     "output_type": "stream",
     "text": [
      "{'mapbox_fetched_img': False, 'mapbox_img': 'mapbox/155268/133816/18.jpg', 'mapbox_added_arrow': True, 'bing_fetched_img': False, 'bing_img': 'bing/155268/133816/18.jpg', 'bing_added_arrow': True}\n"
     ]
    },
    {
     "name": "stderr",
     "output_type": "stream",
     "text": [
      " 57%|██████████████████████▍                | 1148/2000 [51:46<24:06,  1.70s/it]"
     ]
    },
    {
     "name": "stdout",
     "output_type": "stream",
     "text": [
      "{'mapbox_fetched_img': False, 'mapbox_img': 'mapbox/155268/133816/18.jpg', 'mapbox_added_arrow': True, 'bing_fetched_img': False, 'bing_img': 'bing/155268/133816/18.jpg', 'bing_added_arrow': True}\n"
     ]
    },
    {
     "name": "stderr",
     "output_type": "stream",
     "text": [
      " 57%|██████████████████████▍                | 1149/2000 [51:47<24:28,  1.73s/it]"
     ]
    },
    {
     "name": "stdout",
     "output_type": "stream",
     "text": [
      "{'mapbox_fetched_img': False, 'mapbox_img': 'mapbox/155268/133816/18.jpg', 'mapbox_added_arrow': True, 'bing_fetched_img': False, 'bing_img': 'bing/155268/133816/18.jpg', 'bing_added_arrow': True}\n"
     ]
    },
    {
     "name": "stderr",
     "output_type": "stream",
     "text": [
      " 57%|██████████████████████▍                | 1150/2000 [51:49<24:07,  1.70s/it]"
     ]
    },
    {
     "name": "stdout",
     "output_type": "stream",
     "text": [
      "{'mapbox_fetched_img': False, 'mapbox_img': 'mapbox/155268/133816/18.jpg', 'mapbox_added_arrow': True, 'bing_fetched_img': False, 'bing_img': 'bing/155268/133816/18.jpg', 'bing_added_arrow': True}\n"
     ]
    },
    {
     "name": "stderr",
     "output_type": "stream",
     "text": [
      " 58%|██████████████████████▍                | 1151/2000 [51:51<23:42,  1.68s/it]"
     ]
    },
    {
     "name": "stdout",
     "output_type": "stream",
     "text": [
      "{'mapbox_fetched_img': False, 'mapbox_img': 'mapbox/155268/133816/18.jpg', 'mapbox_added_arrow': True, 'bing_fetched_img': False, 'bing_img': 'bing/155268/133816/18.jpg', 'bing_added_arrow': True}\n"
     ]
    },
    {
     "name": "stderr",
     "output_type": "stream",
     "text": [
      " 58%|██████████████████████▍                | 1152/2000 [51:53<24:00,  1.70s/it]"
     ]
    },
    {
     "name": "stdout",
     "output_type": "stream",
     "text": [
      "{'mapbox_fetched_img': False, 'mapbox_img': 'mapbox/155268/133816/18.jpg', 'mapbox_added_arrow': True, 'bing_fetched_img': False, 'bing_img': 'bing/155268/133816/18.jpg', 'bing_added_arrow': True}\n"
     ]
    },
    {
     "name": "stderr",
     "output_type": "stream",
     "text": [
      " 58%|██████████████████████▍                | 1153/2000 [51:54<23:45,  1.68s/it]"
     ]
    },
    {
     "name": "stdout",
     "output_type": "stream",
     "text": [
      "{'mapbox_fetched_img': False, 'mapbox_img': 'mapbox/155268/133816/18.jpg', 'mapbox_added_arrow': True, 'bing_fetched_img': False, 'bing_img': 'bing/155268/133816/18.jpg', 'bing_added_arrow': True}\n"
     ]
    },
    {
     "name": "stderr",
     "output_type": "stream",
     "text": [
      " 58%|██████████████████████▌                | 1154/2000 [51:56<23:46,  1.69s/it]"
     ]
    },
    {
     "name": "stdout",
     "output_type": "stream",
     "text": [
      "{'mapbox_fetched_img': False, 'mapbox_img': 'mapbox/155268/133816/18.jpg', 'mapbox_added_arrow': True, 'bing_fetched_img': False, 'bing_img': 'bing/155268/133816/18.jpg', 'bing_added_arrow': True}\n"
     ]
    },
    {
     "name": "stderr",
     "output_type": "stream",
     "text": [
      " 58%|██████████████████████▌                | 1155/2000 [51:57<23:24,  1.66s/it]"
     ]
    },
    {
     "name": "stdout",
     "output_type": "stream",
     "text": [
      "{'mapbox_fetched_img': False, 'mapbox_img': 'mapbox/155268/133816/18.jpg', 'mapbox_added_arrow': True, 'bing_fetched_img': False, 'bing_img': 'bing/155268/133816/18.jpg', 'bing_added_arrow': True}\n"
     ]
    },
    {
     "name": "stderr",
     "output_type": "stream",
     "text": [
      " 58%|██████████████████████▌                | 1156/2000 [51:59<22:53,  1.63s/it]"
     ]
    },
    {
     "name": "stdout",
     "output_type": "stream",
     "text": [
      "{'mapbox_fetched_img': False, 'mapbox_img': 'mapbox/155268/133816/18.jpg', 'mapbox_added_arrow': True, 'bing_fetched_img': False, 'bing_img': 'bing/155268/133816/18.jpg', 'bing_added_arrow': True}\n"
     ]
    },
    {
     "name": "stderr",
     "output_type": "stream",
     "text": [
      " 58%|██████████████████████▌                | 1157/2000 [52:01<23:07,  1.65s/it]"
     ]
    },
    {
     "name": "stdout",
     "output_type": "stream",
     "text": [
      "{'mapbox_fetched_img': False, 'mapbox_img': 'mapbox/155268/133816/18.jpg', 'mapbox_added_arrow': True, 'bing_fetched_img': False, 'bing_img': 'bing/155268/133816/18.jpg', 'bing_added_arrow': True}\n"
     ]
    },
    {
     "name": "stderr",
     "output_type": "stream",
     "text": [
      " 58%|██████████████████████▌                | 1158/2000 [52:02<23:15,  1.66s/it]"
     ]
    },
    {
     "name": "stdout",
     "output_type": "stream",
     "text": [
      "{'mapbox_fetched_img': False, 'mapbox_img': 'mapbox/155268/133816/18.jpg', 'mapbox_added_arrow': True, 'bing_fetched_img': False, 'bing_img': 'bing/155268/133816/18.jpg', 'bing_added_arrow': True}\n",
      "Fetching from: https://api.mapbox.com/styles/v1/mapbox/satellite-v9/tiles/256/18/155267/133816?access_token=pk.eyJ1IjoiaXp2b25rb3YiLCJhIjoiY2t0YXU3MTE3MDJuNjJ1bW9xYzc3bTlrMCJ9.fiGLAZ29dmYv2sqlxuaB-A\n",
      "100% [............................................................] 9750 / 9750Fetching from: http://ecn.t0.tiles.virtualearth.net/tiles/a300101313030222011.jpeg?g=14009\n",
      "100% [..........................................................] 13010 / 13010"
     ]
    },
    {
     "name": "stderr",
     "output_type": "stream",
     "text": [
      " 58%|██████████████████████▌                | 1159/2000 [52:05<28:54,  2.06s/it]"
     ]
    },
    {
     "name": "stdout",
     "output_type": "stream",
     "text": [
      "{'mapbox_fetched_img': True, 'mapbox_img': 'mapbox/155267/133816/18.jpg', 'mapbox_added_arrow': True, 'bing_fetched_img': True, 'bing_img': 'bing/155267/133816/18.jpg', 'bing_added_arrow': True}\n",
      "No photo found before to establish direction for TANZANIA_v2-2022-05-05_103GOPRO-G0463855\n"
     ]
    },
    {
     "name": "stderr",
     "output_type": "stream",
     "text": [
      " 58%|██████████████████████▌                | 1160/2000 [52:06<24:03,  1.72s/it]"
     ]
    },
    {
     "name": "stdout",
     "output_type": "stream",
     "text": [
      "No photo found before to establish direction for TANZANIA_v2-2022-05-05_103GOPRO-G0463855\n",
      "{'mapbox_fetched_img': False, 'mapbox_img': 'mapbox/155267/133816/18.jpg', 'mapbox_added_arrow': False, 'bing_fetched_img': False, 'bing_img': 'bing/155267/133816/18.jpg', 'bing_added_arrow': False}\n"
     ]
    },
    {
     "name": "stderr",
     "output_type": "stream",
     "text": [
      " 58%|██████████████████████▋                | 1161/2000 [52:08<23:17,  1.67s/it]"
     ]
    },
    {
     "name": "stdout",
     "output_type": "stream",
     "text": [
      "{'mapbox_fetched_img': False, 'mapbox_img': 'mapbox/155267/133816/18.jpg', 'mapbox_added_arrow': True, 'bing_fetched_img': False, 'bing_img': 'bing/155267/133816/18.jpg', 'bing_added_arrow': True}\n"
     ]
    },
    {
     "name": "stderr",
     "output_type": "stream",
     "text": [
      " 58%|██████████████████████▋                | 1162/2000 [52:09<23:07,  1.66s/it]"
     ]
    },
    {
     "name": "stdout",
     "output_type": "stream",
     "text": [
      "{'mapbox_fetched_img': False, 'mapbox_img': 'mapbox/155267/133816/18.jpg', 'mapbox_added_arrow': True, 'bing_fetched_img': False, 'bing_img': 'bing/155267/133816/18.jpg', 'bing_added_arrow': True}\n"
     ]
    },
    {
     "name": "stderr",
     "output_type": "stream",
     "text": [
      " 58%|██████████████████████▋                | 1163/2000 [52:11<22:34,  1.62s/it]"
     ]
    },
    {
     "name": "stdout",
     "output_type": "stream",
     "text": [
      "{'mapbox_fetched_img': False, 'mapbox_img': 'mapbox/155267/133816/18.jpg', 'mapbox_added_arrow': True, 'bing_fetched_img': False, 'bing_img': 'bing/155267/133816/18.jpg', 'bing_added_arrow': True}\n"
     ]
    },
    {
     "name": "stderr",
     "output_type": "stream",
     "text": [
      " 58%|██████████████████████▋                | 1164/2000 [52:13<22:34,  1.62s/it]"
     ]
    },
    {
     "name": "stdout",
     "output_type": "stream",
     "text": [
      "{'mapbox_fetched_img': False, 'mapbox_img': 'mapbox/155267/133816/18.jpg', 'mapbox_added_arrow': True, 'bing_fetched_img': False, 'bing_img': 'bing/155267/133816/18.jpg', 'bing_added_arrow': True}\n"
     ]
    },
    {
     "name": "stderr",
     "output_type": "stream",
     "text": [
      " 58%|██████████████████████▋                | 1165/2000 [52:14<23:11,  1.67s/it]"
     ]
    },
    {
     "name": "stdout",
     "output_type": "stream",
     "text": [
      "{'mapbox_fetched_img': False, 'mapbox_img': 'mapbox/155267/133816/18.jpg', 'mapbox_added_arrow': True, 'bing_fetched_img': False, 'bing_img': 'bing/155267/133816/18.jpg', 'bing_added_arrow': True}\n"
     ]
    },
    {
     "name": "stderr",
     "output_type": "stream",
     "text": [
      " 58%|██████████████████████▋                | 1166/2000 [52:18<29:41,  2.14s/it]"
     ]
    },
    {
     "name": "stdout",
     "output_type": "stream",
     "text": [
      "{'mapbox_fetched_img': False, 'mapbox_img': 'mapbox/155267/133816/18.jpg', 'mapbox_added_arrow': True, 'bing_fetched_img': False, 'bing_img': 'bing/155267/133816/18.jpg', 'bing_added_arrow': True}\n"
     ]
    },
    {
     "name": "stderr",
     "output_type": "stream",
     "text": [
      " 58%|██████████████████████▊                | 1167/2000 [52:20<28:55,  2.08s/it]"
     ]
    },
    {
     "name": "stdout",
     "output_type": "stream",
     "text": [
      "{'mapbox_fetched_img': False, 'mapbox_img': 'mapbox/155267/133816/18.jpg', 'mapbox_added_arrow': True, 'bing_fetched_img': False, 'bing_img': 'bing/155267/133816/18.jpg', 'bing_added_arrow': True}\n"
     ]
    },
    {
     "name": "stderr",
     "output_type": "stream",
     "text": [
      " 58%|██████████████████████▊                | 1168/2000 [52:22<28:18,  2.04s/it]"
     ]
    },
    {
     "name": "stdout",
     "output_type": "stream",
     "text": [
      "{'mapbox_fetched_img': False, 'mapbox_img': 'mapbox/155267/133816/18.jpg', 'mapbox_added_arrow': True, 'bing_fetched_img': False, 'bing_img': 'bing/155267/133816/18.jpg', 'bing_added_arrow': True}\n"
     ]
    },
    {
     "name": "stderr",
     "output_type": "stream",
     "text": [
      " 58%|██████████████████████▊                | 1169/2000 [52:23<27:11,  1.96s/it]"
     ]
    },
    {
     "name": "stdout",
     "output_type": "stream",
     "text": [
      "{'mapbox_fetched_img': False, 'mapbox_img': 'mapbox/155267/133816/18.jpg', 'mapbox_added_arrow': True, 'bing_fetched_img': False, 'bing_img': 'bing/155267/133816/18.jpg', 'bing_added_arrow': True}\n"
     ]
    },
    {
     "name": "stderr",
     "output_type": "stream",
     "text": [
      " 58%|██████████████████████▊                | 1170/2000 [52:25<25:45,  1.86s/it]"
     ]
    },
    {
     "name": "stdout",
     "output_type": "stream",
     "text": [
      "{'mapbox_fetched_img': False, 'mapbox_img': 'mapbox/155267/133816/18.jpg', 'mapbox_added_arrow': True, 'bing_fetched_img': False, 'bing_img': 'bing/155267/133816/18.jpg', 'bing_added_arrow': True}\n"
     ]
    },
    {
     "name": "stderr",
     "output_type": "stream",
     "text": [
      " 59%|██████████████████████▊                | 1171/2000 [52:27<24:39,  1.78s/it]"
     ]
    },
    {
     "name": "stdout",
     "output_type": "stream",
     "text": [
      "{'mapbox_fetched_img': False, 'mapbox_img': 'mapbox/155267/133816/18.jpg', 'mapbox_added_arrow': True, 'bing_fetched_img': False, 'bing_img': 'bing/155267/133816/18.jpg', 'bing_added_arrow': True}\n"
     ]
    },
    {
     "name": "stderr",
     "output_type": "stream",
     "text": [
      " 59%|██████████████████████▊                | 1172/2000 [52:28<25:04,  1.82s/it]"
     ]
    },
    {
     "name": "stdout",
     "output_type": "stream",
     "text": [
      "{'mapbox_fetched_img': False, 'mapbox_img': 'mapbox/155267/133816/18.jpg', 'mapbox_added_arrow': True, 'bing_fetched_img': False, 'bing_img': 'bing/155267/133816/18.jpg', 'bing_added_arrow': True}\n"
     ]
    },
    {
     "name": "stderr",
     "output_type": "stream",
     "text": [
      " 59%|██████████████████████▊                | 1173/2000 [52:30<23:57,  1.74s/it]"
     ]
    },
    {
     "name": "stdout",
     "output_type": "stream",
     "text": [
      "{'mapbox_fetched_img': False, 'mapbox_img': 'mapbox/155267/133816/18.jpg', 'mapbox_added_arrow': True, 'bing_fetched_img': False, 'bing_img': 'bing/155267/133816/18.jpg', 'bing_added_arrow': True}\n"
     ]
    },
    {
     "name": "stderr",
     "output_type": "stream",
     "text": [
      " 59%|██████████████████████▉                | 1174/2000 [52:32<23:16,  1.69s/it]"
     ]
    },
    {
     "name": "stdout",
     "output_type": "stream",
     "text": [
      "{'mapbox_fetched_img': False, 'mapbox_img': 'mapbox/155267/133816/18.jpg', 'mapbox_added_arrow': True, 'bing_fetched_img': False, 'bing_img': 'bing/155267/133816/18.jpg', 'bing_added_arrow': True}\n",
      "Fetching from: https://api.mapbox.com/styles/v1/mapbox/satellite-v9/tiles/256/18/155266/133816?access_token=pk.eyJ1IjoiaXp2b25rb3YiLCJhIjoiY2t0YXU3MTE3MDJuNjJ1bW9xYzc3bTlrMCJ9.fiGLAZ29dmYv2sqlxuaB-A\n",
      "100% [............................................................] 9669 / 9669Fetching from: http://ecn.t0.tiles.virtualearth.net/tiles/a300101313030222010.jpeg?g=14009\n",
      "100% [..........................................................] 14466 / 14466"
     ]
    },
    {
     "name": "stderr",
     "output_type": "stream",
     "text": [
      " 59%|██████████████████████▉                | 1175/2000 [52:34<27:54,  2.03s/it]"
     ]
    },
    {
     "name": "stdout",
     "output_type": "stream",
     "text": [
      "{'mapbox_fetched_img': True, 'mapbox_img': 'mapbox/155266/133816/18.jpg', 'mapbox_added_arrow': True, 'bing_fetched_img': True, 'bing_img': 'bing/155266/133816/18.jpg', 'bing_added_arrow': True}\n"
     ]
    },
    {
     "name": "stderr",
     "output_type": "stream",
     "text": [
      " 59%|██████████████████████▉                | 1176/2000 [52:36<26:14,  1.91s/it]"
     ]
    },
    {
     "name": "stdout",
     "output_type": "stream",
     "text": [
      "{'mapbox_fetched_img': False, 'mapbox_img': 'mapbox/155266/133816/18.jpg', 'mapbox_added_arrow': True, 'bing_fetched_img': False, 'bing_img': 'bing/155266/133816/18.jpg', 'bing_added_arrow': True}\n"
     ]
    },
    {
     "name": "stderr",
     "output_type": "stream",
     "text": [
      " 59%|██████████████████████▉                | 1177/2000 [52:38<26:40,  1.94s/it]"
     ]
    },
    {
     "name": "stdout",
     "output_type": "stream",
     "text": [
      "{'mapbox_fetched_img': False, 'mapbox_img': 'mapbox/155266/133816/18.jpg', 'mapbox_added_arrow': True, 'bing_fetched_img': False, 'bing_img': 'bing/155266/133816/18.jpg', 'bing_added_arrow': True}\n"
     ]
    },
    {
     "name": "stderr",
     "output_type": "stream",
     "text": [
      " 59%|██████████████████████▉                | 1178/2000 [52:40<26:57,  1.97s/it]"
     ]
    },
    {
     "name": "stdout",
     "output_type": "stream",
     "text": [
      "{'mapbox_fetched_img': False, 'mapbox_img': 'mapbox/155266/133816/18.jpg', 'mapbox_added_arrow': True, 'bing_fetched_img': False, 'bing_img': 'bing/155266/133816/18.jpg', 'bing_added_arrow': True}\n"
     ]
    },
    {
     "name": "stderr",
     "output_type": "stream",
     "text": [
      " 59%|██████████████████████▉                | 1179/2000 [52:42<26:28,  1.94s/it]"
     ]
    },
    {
     "name": "stdout",
     "output_type": "stream",
     "text": [
      "{'mapbox_fetched_img': False, 'mapbox_img': 'mapbox/155266/133816/18.jpg', 'mapbox_added_arrow': True, 'bing_fetched_img': False, 'bing_img': 'bing/155266/133816/18.jpg', 'bing_added_arrow': True}\n"
     ]
    },
    {
     "name": "stderr",
     "output_type": "stream",
     "text": [
      " 59%|███████████████████████                | 1180/2000 [52:44<25:57,  1.90s/it]"
     ]
    },
    {
     "name": "stdout",
     "output_type": "stream",
     "text": [
      "{'mapbox_fetched_img': False, 'mapbox_img': 'mapbox/155266/133816/18.jpg', 'mapbox_added_arrow': True, 'bing_fetched_img': False, 'bing_img': 'bing/155266/133816/18.jpg', 'bing_added_arrow': True}\n"
     ]
    },
    {
     "name": "stderr",
     "output_type": "stream",
     "text": [
      " 59%|███████████████████████                | 1181/2000 [52:46<25:41,  1.88s/it]"
     ]
    },
    {
     "name": "stdout",
     "output_type": "stream",
     "text": [
      "{'mapbox_fetched_img': False, 'mapbox_img': 'mapbox/155266/133816/18.jpg', 'mapbox_added_arrow': True, 'bing_fetched_img': False, 'bing_img': 'bing/155266/133816/18.jpg', 'bing_added_arrow': True}\n"
     ]
    },
    {
     "name": "stderr",
     "output_type": "stream",
     "text": [
      " 59%|███████████████████████                | 1182/2000 [52:47<24:45,  1.82s/it]"
     ]
    },
    {
     "name": "stdout",
     "output_type": "stream",
     "text": [
      "{'mapbox_fetched_img': False, 'mapbox_img': 'mapbox/155266/133816/18.jpg', 'mapbox_added_arrow': True, 'bing_fetched_img': False, 'bing_img': 'bing/155266/133816/18.jpg', 'bing_added_arrow': True}\n"
     ]
    },
    {
     "name": "stderr",
     "output_type": "stream",
     "text": [
      " 59%|███████████████████████                | 1183/2000 [52:49<23:38,  1.74s/it]"
     ]
    },
    {
     "name": "stdout",
     "output_type": "stream",
     "text": [
      "{'mapbox_fetched_img': False, 'mapbox_img': 'mapbox/155266/133816/18.jpg', 'mapbox_added_arrow': True, 'bing_fetched_img': False, 'bing_img': 'bing/155266/133816/18.jpg', 'bing_added_arrow': True}\n",
      "Fetching from: https://api.mapbox.com/styles/v1/mapbox/satellite-v9/tiles/256/18/155265/133815?access_token=pk.eyJ1IjoiaXp2b25rb3YiLCJhIjoiY2t0YXU3MTE3MDJuNjJ1bW9xYzc3bTlrMCJ9.fiGLAZ29dmYv2sqlxuaB-A\n",
      "100% [..........................................................] 10297 / 10297Fetching from: http://ecn.t0.tiles.virtualearth.net/tiles/a300101313030220223.jpeg?g=14009\n",
      "100% [..........................................................] 14023 / 14023"
     ]
    },
    {
     "name": "stderr",
     "output_type": "stream",
     "text": [
      " 59%|███████████████████████                | 1184/2000 [52:52<28:31,  2.10s/it]"
     ]
    },
    {
     "name": "stdout",
     "output_type": "stream",
     "text": [
      "{'mapbox_fetched_img': True, 'mapbox_img': 'mapbox/155265/133815/18.jpg', 'mapbox_added_arrow': True, 'bing_fetched_img': True, 'bing_img': 'bing/155265/133815/18.jpg', 'bing_added_arrow': True}\n"
     ]
    },
    {
     "name": "stderr",
     "output_type": "stream",
     "text": [
      " 59%|███████████████████████                | 1185/2000 [52:53<26:28,  1.95s/it]"
     ]
    },
    {
     "name": "stdout",
     "output_type": "stream",
     "text": [
      "{'mapbox_fetched_img': False, 'mapbox_img': 'mapbox/155265/133815/18.jpg', 'mapbox_added_arrow': True, 'bing_fetched_img': False, 'bing_img': 'bing/155265/133815/18.jpg', 'bing_added_arrow': True}\n"
     ]
    },
    {
     "name": "stderr",
     "output_type": "stream",
     "text": [
      " 59%|███████████████████████▏               | 1186/2000 [52:56<28:05,  2.07s/it]"
     ]
    },
    {
     "name": "stdout",
     "output_type": "stream",
     "text": [
      "{'mapbox_fetched_img': False, 'mapbox_img': 'mapbox/155265/133815/18.jpg', 'mapbox_added_arrow': True, 'bing_fetched_img': False, 'bing_img': 'bing/155265/133815/18.jpg', 'bing_added_arrow': True}\n"
     ]
    },
    {
     "name": "stderr",
     "output_type": "stream",
     "text": [
      " 59%|███████████████████████▏               | 1187/2000 [52:57<26:04,  1.92s/it]"
     ]
    },
    {
     "name": "stdout",
     "output_type": "stream",
     "text": [
      "{'mapbox_fetched_img': False, 'mapbox_img': 'mapbox/155265/133815/18.jpg', 'mapbox_added_arrow': True, 'bing_fetched_img': False, 'bing_img': 'bing/155265/133815/18.jpg', 'bing_added_arrow': True}\n"
     ]
    },
    {
     "name": "stderr",
     "output_type": "stream",
     "text": [
      " 59%|███████████████████████▏               | 1188/2000 [52:59<24:56,  1.84s/it]"
     ]
    },
    {
     "name": "stdout",
     "output_type": "stream",
     "text": [
      "{'mapbox_fetched_img': False, 'mapbox_img': 'mapbox/155265/133815/18.jpg', 'mapbox_added_arrow': True, 'bing_fetched_img': False, 'bing_img': 'bing/155265/133815/18.jpg', 'bing_added_arrow': True}\n"
     ]
    },
    {
     "name": "stderr",
     "output_type": "stream",
     "text": [
      " 59%|███████████████████████▏               | 1189/2000 [53:01<24:39,  1.82s/it]"
     ]
    },
    {
     "name": "stdout",
     "output_type": "stream",
     "text": [
      "{'mapbox_fetched_img': False, 'mapbox_img': 'mapbox/155265/133815/18.jpg', 'mapbox_added_arrow': True, 'bing_fetched_img': False, 'bing_img': 'bing/155265/133815/18.jpg', 'bing_added_arrow': True}\n"
     ]
    },
    {
     "name": "stderr",
     "output_type": "stream",
     "text": [
      " 60%|███████████████████████▏               | 1190/2000 [53:02<24:07,  1.79s/it]"
     ]
    },
    {
     "name": "stdout",
     "output_type": "stream",
     "text": [
      "{'mapbox_fetched_img': False, 'mapbox_img': 'mapbox/155265/133815/18.jpg', 'mapbox_added_arrow': True, 'bing_fetched_img': False, 'bing_img': 'bing/155265/133815/18.jpg', 'bing_added_arrow': True}\n",
      "Fetching from: https://api.mapbox.com/styles/v1/mapbox/satellite-v9/tiles/256/18/155262/133814?access_token=pk.eyJ1IjoiaXp2b25rb3YiLCJhIjoiY2t0YXU3MTE3MDJuNjJ1bW9xYzc3bTlrMCJ9.fiGLAZ29dmYv2sqlxuaB-A\n",
      "100% [............................................................] 9598 / 9598No photo found before to establish direction for TANZANIA_v2-2022-05-05_103GOPRO-G0503912\n",
      "Fetching from: http://ecn.t0.tiles.virtualearth.net/tiles/a300101313021331330.jpeg?g=14009\n",
      "100% [..........................................................] 14154 / 14154"
     ]
    },
    {
     "name": "stderr",
     "output_type": "stream",
     "text": [
      " 60%|███████████████████████▏               | 1191/2000 [53:04<24:42,  1.83s/it]"
     ]
    },
    {
     "name": "stdout",
     "output_type": "stream",
     "text": [
      "No photo found before to establish direction for TANZANIA_v2-2022-05-05_103GOPRO-G0503912\n",
      "{'mapbox_fetched_img': True, 'mapbox_img': 'mapbox/155262/133814/18.jpg', 'mapbox_added_arrow': False, 'bing_fetched_img': True, 'bing_img': 'bing/155262/133814/18.jpg', 'bing_added_arrow': False}\n"
     ]
    },
    {
     "name": "stderr",
     "output_type": "stream",
     "text": [
      " 60%|███████████████████████▏               | 1192/2000 [53:06<24:02,  1.79s/it]"
     ]
    },
    {
     "name": "stdout",
     "output_type": "stream",
     "text": [
      "{'mapbox_fetched_img': False, 'mapbox_img': 'mapbox/155262/133814/18.jpg', 'mapbox_added_arrow': True, 'bing_fetched_img': False, 'bing_img': 'bing/155262/133814/18.jpg', 'bing_added_arrow': True}\n"
     ]
    },
    {
     "name": "stderr",
     "output_type": "stream",
     "text": [
      " 60%|███████████████████████▎               | 1193/2000 [53:08<23:12,  1.73s/it]"
     ]
    },
    {
     "name": "stdout",
     "output_type": "stream",
     "text": [
      "{'mapbox_fetched_img': False, 'mapbox_img': 'mapbox/155262/133814/18.jpg', 'mapbox_added_arrow': True, 'bing_fetched_img': False, 'bing_img': 'bing/155262/133814/18.jpg', 'bing_added_arrow': True}\n"
     ]
    },
    {
     "name": "stderr",
     "output_type": "stream",
     "text": [
      " 60%|███████████████████████▎               | 1194/2000 [53:09<22:32,  1.68s/it]"
     ]
    },
    {
     "name": "stdout",
     "output_type": "stream",
     "text": [
      "{'mapbox_fetched_img': False, 'mapbox_img': 'mapbox/155262/133814/18.jpg', 'mapbox_added_arrow': True, 'bing_fetched_img': False, 'bing_img': 'bing/155262/133814/18.jpg', 'bing_added_arrow': True}\n"
     ]
    },
    {
     "name": "stderr",
     "output_type": "stream",
     "text": [
      " 60%|███████████████████████▎               | 1195/2000 [53:11<22:07,  1.65s/it]"
     ]
    },
    {
     "name": "stdout",
     "output_type": "stream",
     "text": [
      "{'mapbox_fetched_img': False, 'mapbox_img': 'mapbox/155262/133814/18.jpg', 'mapbox_added_arrow': True, 'bing_fetched_img': False, 'bing_img': 'bing/155262/133814/18.jpg', 'bing_added_arrow': True}\n"
     ]
    },
    {
     "name": "stderr",
     "output_type": "stream",
     "text": [
      " 60%|███████████████████████▎               | 1196/2000 [53:12<22:00,  1.64s/it]"
     ]
    },
    {
     "name": "stdout",
     "output_type": "stream",
     "text": [
      "{'mapbox_fetched_img': False, 'mapbox_img': 'mapbox/155262/133814/18.jpg', 'mapbox_added_arrow': True, 'bing_fetched_img': False, 'bing_img': 'bing/155262/133814/18.jpg', 'bing_added_arrow': True}\n"
     ]
    },
    {
     "name": "stderr",
     "output_type": "stream",
     "text": [
      " 60%|███████████████████████▎               | 1197/2000 [53:14<21:27,  1.60s/it]"
     ]
    },
    {
     "name": "stdout",
     "output_type": "stream",
     "text": [
      "{'mapbox_fetched_img': False, 'mapbox_img': 'mapbox/155262/133814/18.jpg', 'mapbox_added_arrow': True, 'bing_fetched_img': False, 'bing_img': 'bing/155262/133814/18.jpg', 'bing_added_arrow': True}\n"
     ]
    },
    {
     "name": "stderr",
     "output_type": "stream",
     "text": [
      " 60%|███████████████████████▎               | 1198/2000 [53:16<21:34,  1.61s/it]"
     ]
    },
    {
     "name": "stdout",
     "output_type": "stream",
     "text": [
      "{'mapbox_fetched_img': False, 'mapbox_img': 'mapbox/155262/133814/18.jpg', 'mapbox_added_arrow': True, 'bing_fetched_img': False, 'bing_img': 'bing/155262/133814/18.jpg', 'bing_added_arrow': True}\n"
     ]
    },
    {
     "name": "stderr",
     "output_type": "stream",
     "text": [
      " 60%|███████████████████████▍               | 1199/2000 [53:17<21:10,  1.59s/it]"
     ]
    },
    {
     "name": "stdout",
     "output_type": "stream",
     "text": [
      "{'mapbox_fetched_img': False, 'mapbox_img': 'mapbox/155262/133814/18.jpg', 'mapbox_added_arrow': True, 'bing_fetched_img': False, 'bing_img': 'bing/155262/133814/18.jpg', 'bing_added_arrow': True}\n"
     ]
    },
    {
     "name": "stderr",
     "output_type": "stream",
     "text": [
      " 60%|███████████████████████▍               | 1200/2000 [53:19<20:53,  1.57s/it]"
     ]
    },
    {
     "name": "stdout",
     "output_type": "stream",
     "text": [
      "{'mapbox_fetched_img': False, 'mapbox_img': 'mapbox/155262/133814/18.jpg', 'mapbox_added_arrow': True, 'bing_fetched_img': False, 'bing_img': 'bing/155262/133814/18.jpg', 'bing_added_arrow': True}\n"
     ]
    },
    {
     "name": "stderr",
     "output_type": "stream",
     "text": [
      " 60%|███████████████████████▍               | 1201/2000 [53:21<22:14,  1.67s/it]"
     ]
    },
    {
     "name": "stdout",
     "output_type": "stream",
     "text": [
      "{'mapbox_fetched_img': False, 'mapbox_img': 'mapbox/155262/133814/18.jpg', 'mapbox_added_arrow': True, 'bing_fetched_img': False, 'bing_img': 'bing/155262/133814/18.jpg', 'bing_added_arrow': True}\n",
      "Fetching from: https://api.mapbox.com/styles/v1/mapbox/satellite-v9/tiles/256/18/155261/133814?access_token=pk.eyJ1IjoiaXp2b25rb3YiLCJhIjoiY2t0YXU3MTE3MDJuNjJ1bW9xYzc3bTlrMCJ9.fiGLAZ29dmYv2sqlxuaB-A\n",
      "100% [............................................................] 9117 / 9117Fetching from: http://ecn.t0.tiles.virtualearth.net/tiles/a300101313021331321.jpeg?g=14009\n",
      "100% [..........................................................] 13629 / 13629"
     ]
    },
    {
     "name": "stderr",
     "output_type": "stream",
     "text": [
      " 60%|███████████████████████▍               | 1202/2000 [53:23<27:18,  2.05s/it]"
     ]
    },
    {
     "name": "stdout",
     "output_type": "stream",
     "text": [
      "{'mapbox_fetched_img': True, 'mapbox_img': 'mapbox/155261/133814/18.jpg', 'mapbox_added_arrow': True, 'bing_fetched_img': True, 'bing_img': 'bing/155261/133814/18.jpg', 'bing_added_arrow': True}\n"
     ]
    },
    {
     "name": "stderr",
     "output_type": "stream",
     "text": [
      " 60%|███████████████████████▍               | 1203/2000 [53:25<25:32,  1.92s/it]"
     ]
    },
    {
     "name": "stdout",
     "output_type": "stream",
     "text": [
      "{'mapbox_fetched_img': False, 'mapbox_img': 'mapbox/155261/133814/18.jpg', 'mapbox_added_arrow': True, 'bing_fetched_img': False, 'bing_img': 'bing/155261/133814/18.jpg', 'bing_added_arrow': True}\n"
     ]
    },
    {
     "name": "stderr",
     "output_type": "stream",
     "text": [
      " 60%|███████████████████████▍               | 1204/2000 [53:27<24:18,  1.83s/it]"
     ]
    },
    {
     "name": "stdout",
     "output_type": "stream",
     "text": [
      "{'mapbox_fetched_img': False, 'mapbox_img': 'mapbox/155261/133814/18.jpg', 'mapbox_added_arrow': True, 'bing_fetched_img': False, 'bing_img': 'bing/155261/133814/18.jpg', 'bing_added_arrow': True}\n"
     ]
    },
    {
     "name": "stderr",
     "output_type": "stream",
     "text": [
      " 60%|███████████████████████▍               | 1205/2000 [53:28<23:26,  1.77s/it]"
     ]
    },
    {
     "name": "stdout",
     "output_type": "stream",
     "text": [
      "{'mapbox_fetched_img': False, 'mapbox_img': 'mapbox/155261/133814/18.jpg', 'mapbox_added_arrow': True, 'bing_fetched_img': False, 'bing_img': 'bing/155261/133814/18.jpg', 'bing_added_arrow': True}\n"
     ]
    },
    {
     "name": "stderr",
     "output_type": "stream",
     "text": [
      " 60%|███████████████████████▌               | 1206/2000 [53:30<22:39,  1.71s/it]"
     ]
    },
    {
     "name": "stdout",
     "output_type": "stream",
     "text": [
      "{'mapbox_fetched_img': False, 'mapbox_img': 'mapbox/155261/133814/18.jpg', 'mapbox_added_arrow': True, 'bing_fetched_img': False, 'bing_img': 'bing/155261/133814/18.jpg', 'bing_added_arrow': True}\n"
     ]
    },
    {
     "name": "stderr",
     "output_type": "stream",
     "text": [
      " 60%|███████████████████████▌               | 1207/2000 [53:31<22:06,  1.67s/it]"
     ]
    },
    {
     "name": "stdout",
     "output_type": "stream",
     "text": [
      "{'mapbox_fetched_img': False, 'mapbox_img': 'mapbox/155261/133814/18.jpg', 'mapbox_added_arrow': True, 'bing_fetched_img': False, 'bing_img': 'bing/155261/133814/18.jpg', 'bing_added_arrow': True}\n"
     ]
    },
    {
     "name": "stderr",
     "output_type": "stream",
     "text": [
      " 60%|███████████████████████▌               | 1208/2000 [53:33<21:52,  1.66s/it]"
     ]
    },
    {
     "name": "stdout",
     "output_type": "stream",
     "text": [
      "{'mapbox_fetched_img': False, 'mapbox_img': 'mapbox/155261/133814/18.jpg', 'mapbox_added_arrow': True, 'bing_fetched_img': False, 'bing_img': 'bing/155261/133814/18.jpg', 'bing_added_arrow': True}\n"
     ]
    },
    {
     "name": "stderr",
     "output_type": "stream",
     "text": [
      " 60%|███████████████████████▌               | 1209/2000 [53:35<24:07,  1.83s/it]"
     ]
    },
    {
     "name": "stdout",
     "output_type": "stream",
     "text": [
      "{'mapbox_fetched_img': False, 'mapbox_img': 'mapbox/155261/133814/18.jpg', 'mapbox_added_arrow': True, 'bing_fetched_img': False, 'bing_img': 'bing/155261/133814/18.jpg', 'bing_added_arrow': True}\n"
     ]
    },
    {
     "name": "stderr",
     "output_type": "stream",
     "text": [
      " 60%|███████████████████████▌               | 1210/2000 [53:37<23:03,  1.75s/it]"
     ]
    },
    {
     "name": "stdout",
     "output_type": "stream",
     "text": [
      "{'mapbox_fetched_img': False, 'mapbox_img': 'mapbox/155261/133814/18.jpg', 'mapbox_added_arrow': True, 'bing_fetched_img': False, 'bing_img': 'bing/155261/133814/18.jpg', 'bing_added_arrow': True}\n"
     ]
    },
    {
     "name": "stderr",
     "output_type": "stream",
     "text": [
      " 61%|███████████████████████▌               | 1211/2000 [53:39<22:31,  1.71s/it]"
     ]
    },
    {
     "name": "stdout",
     "output_type": "stream",
     "text": [
      "{'mapbox_fetched_img': False, 'mapbox_img': 'mapbox/155261/133814/18.jpg', 'mapbox_added_arrow': True, 'bing_fetched_img': False, 'bing_img': 'bing/155261/133814/18.jpg', 'bing_added_arrow': True}\n"
     ]
    },
    {
     "name": "stderr",
     "output_type": "stream",
     "text": [
      " 61%|███████████████████████▋               | 1212/2000 [53:40<23:00,  1.75s/it]"
     ]
    },
    {
     "name": "stdout",
     "output_type": "stream",
     "text": [
      "{'mapbox_fetched_img': False, 'mapbox_img': 'mapbox/155261/133814/18.jpg', 'mapbox_added_arrow': True, 'bing_fetched_img': False, 'bing_img': 'bing/155261/133814/18.jpg', 'bing_added_arrow': True}\n"
     ]
    },
    {
     "name": "stderr",
     "output_type": "stream",
     "text": [
      " 61%|███████████████████████▋               | 1213/2000 [53:42<22:35,  1.72s/it]"
     ]
    },
    {
     "name": "stdout",
     "output_type": "stream",
     "text": [
      "{'mapbox_fetched_img': False, 'mapbox_img': 'mapbox/155261/133814/18.jpg', 'mapbox_added_arrow': True, 'bing_fetched_img': False, 'bing_img': 'bing/155261/133814/18.jpg', 'bing_added_arrow': True}\n"
     ]
    },
    {
     "name": "stderr",
     "output_type": "stream",
     "text": [
      " 61%|███████████████████████▋               | 1214/2000 [53:43<21:34,  1.65s/it]"
     ]
    },
    {
     "name": "stdout",
     "output_type": "stream",
     "text": [
      "{'mapbox_fetched_img': False, 'mapbox_img': 'mapbox/155261/133814/18.jpg', 'mapbox_added_arrow': True, 'bing_fetched_img': False, 'bing_img': 'bing/155261/133814/18.jpg', 'bing_added_arrow': True}\n"
     ]
    },
    {
     "name": "stderr",
     "output_type": "stream",
     "text": [
      " 61%|███████████████████████▋               | 1215/2000 [53:45<21:15,  1.62s/it]"
     ]
    },
    {
     "name": "stdout",
     "output_type": "stream",
     "text": [
      "{'mapbox_fetched_img': False, 'mapbox_img': 'mapbox/155261/133814/18.jpg', 'mapbox_added_arrow': True, 'bing_fetched_img': False, 'bing_img': 'bing/155261/133814/18.jpg', 'bing_added_arrow': True}\n"
     ]
    },
    {
     "name": "stderr",
     "output_type": "stream",
     "text": [
      " 61%|███████████████████████▋               | 1216/2000 [53:47<23:13,  1.78s/it]"
     ]
    },
    {
     "name": "stdout",
     "output_type": "stream",
     "text": [
      "{'mapbox_fetched_img': False, 'mapbox_img': 'mapbox/155261/133814/18.jpg', 'mapbox_added_arrow': True, 'bing_fetched_img': False, 'bing_img': 'bing/155261/133814/18.jpg', 'bing_added_arrow': True}\n"
     ]
    },
    {
     "name": "stderr",
     "output_type": "stream",
     "text": [
      " 61%|███████████████████████▋               | 1217/2000 [53:49<23:35,  1.81s/it]"
     ]
    },
    {
     "name": "stdout",
     "output_type": "stream",
     "text": [
      "{'mapbox_fetched_img': False, 'mapbox_img': 'mapbox/155261/133814/18.jpg', 'mapbox_added_arrow': True, 'bing_fetched_img': False, 'bing_img': 'bing/155261/133814/18.jpg', 'bing_added_arrow': True}\n"
     ]
    },
    {
     "name": "stderr",
     "output_type": "stream",
     "text": [
      " 61%|███████████████████████▊               | 1218/2000 [53:51<23:09,  1.78s/it]"
     ]
    },
    {
     "name": "stdout",
     "output_type": "stream",
     "text": [
      "{'mapbox_fetched_img': False, 'mapbox_img': 'mapbox/155261/133814/18.jpg', 'mapbox_added_arrow': True, 'bing_fetched_img': False, 'bing_img': 'bing/155261/133814/18.jpg', 'bing_added_arrow': True}\n"
     ]
    },
    {
     "name": "stderr",
     "output_type": "stream",
     "text": [
      " 61%|███████████████████████▊               | 1219/2000 [53:53<22:57,  1.76s/it]"
     ]
    },
    {
     "name": "stdout",
     "output_type": "stream",
     "text": [
      "{'mapbox_fetched_img': False, 'mapbox_img': 'mapbox/155261/133814/18.jpg', 'mapbox_added_arrow': True, 'bing_fetched_img': False, 'bing_img': 'bing/155261/133814/18.jpg', 'bing_added_arrow': True}\n"
     ]
    },
    {
     "name": "stderr",
     "output_type": "stream",
     "text": [
      " 61%|███████████████████████▊               | 1220/2000 [53:54<22:24,  1.72s/it]"
     ]
    },
    {
     "name": "stdout",
     "output_type": "stream",
     "text": [
      "{'mapbox_fetched_img': False, 'mapbox_img': 'mapbox/155261/133814/18.jpg', 'mapbox_added_arrow': True, 'bing_fetched_img': False, 'bing_img': 'bing/155261/133814/18.jpg', 'bing_added_arrow': True}\n"
     ]
    },
    {
     "name": "stderr",
     "output_type": "stream",
     "text": [
      " 61%|███████████████████████▊               | 1221/2000 [53:56<21:43,  1.67s/it]"
     ]
    },
    {
     "name": "stdout",
     "output_type": "stream",
     "text": [
      "{'mapbox_fetched_img': False, 'mapbox_img': 'mapbox/155261/133814/18.jpg', 'mapbox_added_arrow': True, 'bing_fetched_img': False, 'bing_img': 'bing/155261/133814/18.jpg', 'bing_added_arrow': True}\n"
     ]
    },
    {
     "name": "stderr",
     "output_type": "stream",
     "text": [
      " 61%|███████████████████████▊               | 1222/2000 [53:57<21:14,  1.64s/it]"
     ]
    },
    {
     "name": "stdout",
     "output_type": "stream",
     "text": [
      "{'mapbox_fetched_img': False, 'mapbox_img': 'mapbox/155261/133814/18.jpg', 'mapbox_added_arrow': True, 'bing_fetched_img': False, 'bing_img': 'bing/155261/133814/18.jpg', 'bing_added_arrow': True}\n",
      "Fetching from: https://api.mapbox.com/styles/v1/mapbox/satellite-v9/tiles/256/18/155260/133814?access_token=pk.eyJ1IjoiaXp2b25rb3YiLCJhIjoiY2t0YXU3MTE3MDJuNjJ1bW9xYzc3bTlrMCJ9.fiGLAZ29dmYv2sqlxuaB-A\n",
      "100% [..........................................................] 14472 / 14472Fetching from: http://ecn.t0.tiles.virtualearth.net/tiles/a300101313021331320.jpeg?g=14009\n",
      "100% [..........................................................] 15252 / 15252"
     ]
    },
    {
     "name": "stderr",
     "output_type": "stream",
     "text": [
      " 61%|███████████████████████▊               | 1223/2000 [54:00<25:24,  1.96s/it]"
     ]
    },
    {
     "name": "stdout",
     "output_type": "stream",
     "text": [
      "{'mapbox_fetched_img': True, 'mapbox_img': 'mapbox/155260/133814/18.jpg', 'mapbox_added_arrow': True, 'bing_fetched_img': True, 'bing_img': 'bing/155260/133814/18.jpg', 'bing_added_arrow': True}\n"
     ]
    },
    {
     "name": "stderr",
     "output_type": "stream",
     "text": [
      " 61%|███████████████████████▊               | 1224/2000 [54:02<24:06,  1.86s/it]"
     ]
    },
    {
     "name": "stdout",
     "output_type": "stream",
     "text": [
      "{'mapbox_fetched_img': False, 'mapbox_img': 'mapbox/155260/133814/18.jpg', 'mapbox_added_arrow': True, 'bing_fetched_img': False, 'bing_img': 'bing/155260/133814/18.jpg', 'bing_added_arrow': True}\n"
     ]
    },
    {
     "name": "stderr",
     "output_type": "stream",
     "text": [
      " 61%|███████████████████████▉               | 1225/2000 [54:03<23:08,  1.79s/it]"
     ]
    },
    {
     "name": "stdout",
     "output_type": "stream",
     "text": [
      "{'mapbox_fetched_img': False, 'mapbox_img': 'mapbox/155260/133814/18.jpg', 'mapbox_added_arrow': True, 'bing_fetched_img': False, 'bing_img': 'bing/155260/133814/18.jpg', 'bing_added_arrow': True}\n"
     ]
    },
    {
     "name": "stderr",
     "output_type": "stream",
     "text": [
      " 61%|███████████████████████▉               | 1226/2000 [54:05<22:25,  1.74s/it]"
     ]
    },
    {
     "name": "stdout",
     "output_type": "stream",
     "text": [
      "{'mapbox_fetched_img': False, 'mapbox_img': 'mapbox/155260/133814/18.jpg', 'mapbox_added_arrow': True, 'bing_fetched_img': False, 'bing_img': 'bing/155260/133814/18.jpg', 'bing_added_arrow': True}\n",
      "Fetching from: https://api.mapbox.com/styles/v1/mapbox/satellite-v9/tiles/256/18/155263/133809?access_token=pk.eyJ1IjoiaXp2b25rb3YiLCJhIjoiY2t0YXU3MTE3MDJuNjJ1bW9xYzc3bTlrMCJ9.fiGLAZ29dmYv2sqlxuaB-A\n",
      "100% [..........................................................] 10135 / 10135Fetching from: http://ecn.t0.tiles.virtualearth.net/tiles/a300101313021331113.jpeg?g=14009\n",
      "100% [..........................................................] 12364 / 12364"
     ]
    },
    {
     "name": "stderr",
     "output_type": "stream",
     "text": [
      " 61%|███████████████████████▉               | 1227/2000 [54:08<27:02,  2.10s/it]"
     ]
    },
    {
     "name": "stdout",
     "output_type": "stream",
     "text": [
      "{'mapbox_fetched_img': True, 'mapbox_img': 'mapbox/155263/133809/18.jpg', 'mapbox_added_arrow': True, 'bing_fetched_img': True, 'bing_img': 'bing/155263/133809/18.jpg', 'bing_added_arrow': True}\n"
     ]
    },
    {
     "name": "stderr",
     "output_type": "stream",
     "text": [
      " 61%|███████████████████████▉               | 1228/2000 [54:09<25:27,  1.98s/it]"
     ]
    },
    {
     "name": "stdout",
     "output_type": "stream",
     "text": [
      "{'mapbox_fetched_img': False, 'mapbox_img': 'mapbox/155263/133809/18.jpg', 'mapbox_added_arrow': True, 'bing_fetched_img': False, 'bing_img': 'bing/155263/133809/18.jpg', 'bing_added_arrow': True}\n"
     ]
    },
    {
     "name": "stderr",
     "output_type": "stream",
     "text": [
      " 61%|███████████████████████▉               | 1229/2000 [54:11<23:55,  1.86s/it]"
     ]
    },
    {
     "name": "stdout",
     "output_type": "stream",
     "text": [
      "{'mapbox_fetched_img': False, 'mapbox_img': 'mapbox/155263/133809/18.jpg', 'mapbox_added_arrow': True, 'bing_fetched_img': False, 'bing_img': 'bing/155263/133809/18.jpg', 'bing_added_arrow': True}\n",
      "Fetching from: https://api.mapbox.com/styles/v1/mapbox/satellite-v9/tiles/256/18/155263/133808?access_token=pk.eyJ1IjoiaXp2b25rb3YiLCJhIjoiY2t0YXU3MTE3MDJuNjJ1bW9xYzc3bTlrMCJ9.fiGLAZ29dmYv2sqlxuaB-A\n",
      "100% [..........................................................] 10800 / 10800No photo found before to establish direction for TANZANIA_v2-2022-05-05_103GOPRO-G0534008\n",
      "Fetching from: http://ecn.t0.tiles.virtualearth.net/tiles/a300101313021331111.jpeg?g=14009\n",
      "100% [..........................................................] 13421 / 13421"
     ]
    },
    {
     "name": "stderr",
     "output_type": "stream",
     "text": [
      " 62%|███████████████████████▉               | 1230/2000 [54:13<25:01,  1.95s/it]"
     ]
    },
    {
     "name": "stdout",
     "output_type": "stream",
     "text": [
      "No photo found before to establish direction for TANZANIA_v2-2022-05-05_103GOPRO-G0534008\n",
      "{'mapbox_fetched_img': True, 'mapbox_img': 'mapbox/155263/133808/18.jpg', 'mapbox_added_arrow': False, 'bing_fetched_img': True, 'bing_img': 'bing/155263/133808/18.jpg', 'bing_added_arrow': False}\n"
     ]
    },
    {
     "name": "stderr",
     "output_type": "stream",
     "text": [
      " 62%|████████████████████████               | 1231/2000 [54:15<24:16,  1.89s/it]"
     ]
    },
    {
     "name": "stdout",
     "output_type": "stream",
     "text": [
      "{'mapbox_fetched_img': False, 'mapbox_img': 'mapbox/155263/133808/18.jpg', 'mapbox_added_arrow': True, 'bing_fetched_img': False, 'bing_img': 'bing/155263/133808/18.jpg', 'bing_added_arrow': True}\n",
      "Fetching from: https://api.mapbox.com/styles/v1/mapbox/satellite-v9/tiles/256/18/154814/133503?access_token=pk.eyJ1IjoiaXp2b25rb3YiLCJhIjoiY2t0YXU3MTE3MDJuNjJ1bW9xYzc3bTlrMCJ9.fiGLAZ29dmYv2sqlxuaB-A\n",
      "100% [..........................................................] 13534 / 13534No photo found before to establish direction for TANZANIA_v2-2022-05-05_103GOPRO-G0544011\n",
      "Fetching from: http://ecn.t0.tiles.virtualearth.net/tiles/a300101310212333332.jpeg?g=14009\n",
      "100% [..........................................................] 13260 / 13260"
     ]
    },
    {
     "name": "stderr",
     "output_type": "stream",
     "text": [
      " 62%|████████████████████████               | 1232/2000 [54:17<25:22,  1.98s/it]"
     ]
    },
    {
     "name": "stdout",
     "output_type": "stream",
     "text": [
      "No photo found before to establish direction for TANZANIA_v2-2022-05-05_103GOPRO-G0544011\n",
      "{'mapbox_fetched_img': True, 'mapbox_img': 'mapbox/154814/133503/18.jpg', 'mapbox_added_arrow': False, 'bing_fetched_img': True, 'bing_img': 'bing/154814/133503/18.jpg', 'bing_added_arrow': False}\n"
     ]
    },
    {
     "name": "stderr",
     "output_type": "stream",
     "text": [
      " 62%|████████████████████████               | 1233/2000 [54:19<24:18,  1.90s/it]"
     ]
    },
    {
     "name": "stdout",
     "output_type": "stream",
     "text": [
      "{'mapbox_fetched_img': False, 'mapbox_img': 'mapbox/154814/133503/18.jpg', 'mapbox_added_arrow': True, 'bing_fetched_img': False, 'bing_img': 'bing/154814/133503/18.jpg', 'bing_added_arrow': True}\n"
     ]
    },
    {
     "name": "stderr",
     "output_type": "stream",
     "text": [
      " 62%|████████████████████████               | 1234/2000 [54:21<23:17,  1.82s/it]"
     ]
    },
    {
     "name": "stdout",
     "output_type": "stream",
     "text": [
      "{'mapbox_fetched_img': False, 'mapbox_img': 'mapbox/154814/133503/18.jpg', 'mapbox_added_arrow': True, 'bing_fetched_img': False, 'bing_img': 'bing/154814/133503/18.jpg', 'bing_added_arrow': True}\n"
     ]
    },
    {
     "name": "stderr",
     "output_type": "stream",
     "text": [
      " 62%|████████████████████████               | 1235/2000 [54:22<22:07,  1.73s/it]"
     ]
    },
    {
     "name": "stdout",
     "output_type": "stream",
     "text": [
      "{'mapbox_fetched_img': False, 'mapbox_img': 'mapbox/154814/133503/18.jpg', 'mapbox_added_arrow': True, 'bing_fetched_img': False, 'bing_img': 'bing/154814/133503/18.jpg', 'bing_added_arrow': True}\n"
     ]
    },
    {
     "name": "stderr",
     "output_type": "stream",
     "text": [
      " 62%|████████████████████████               | 1236/2000 [54:24<21:33,  1.69s/it]"
     ]
    },
    {
     "name": "stdout",
     "output_type": "stream",
     "text": [
      "{'mapbox_fetched_img': False, 'mapbox_img': 'mapbox/154814/133503/18.jpg', 'mapbox_added_arrow': True, 'bing_fetched_img': False, 'bing_img': 'bing/154814/133503/18.jpg', 'bing_added_arrow': True}\n",
      "Fetching from: https://api.mapbox.com/styles/v1/mapbox/satellite-v9/tiles/256/18/154813/133503?access_token=pk.eyJ1IjoiaXp2b25rb3YiLCJhIjoiY2t0YXU3MTE3MDJuNjJ1bW9xYzc3bTlrMCJ9.fiGLAZ29dmYv2sqlxuaB-A\n",
      "100% [..........................................................] 13127 / 13127Fetching from: http://ecn.t0.tiles.virtualearth.net/tiles/a300101310212333323.jpeg?g=14009\n",
      "100% [..........................................................] 13102 / 13102"
     ]
    },
    {
     "name": "stderr",
     "output_type": "stream",
     "text": [
      " 62%|████████████████████████               | 1237/2000 [54:26<25:44,  2.02s/it]"
     ]
    },
    {
     "name": "stdout",
     "output_type": "stream",
     "text": [
      "{'mapbox_fetched_img': True, 'mapbox_img': 'mapbox/154813/133503/18.jpg', 'mapbox_added_arrow': True, 'bing_fetched_img': True, 'bing_img': 'bing/154813/133503/18.jpg', 'bing_added_arrow': True}\n"
     ]
    },
    {
     "name": "stderr",
     "output_type": "stream",
     "text": [
      " 62%|████████████████████████▏              | 1238/2000 [54:28<24:26,  1.92s/it]"
     ]
    },
    {
     "name": "stdout",
     "output_type": "stream",
     "text": [
      "{'mapbox_fetched_img': False, 'mapbox_img': 'mapbox/154813/133503/18.jpg', 'mapbox_added_arrow': True, 'bing_fetched_img': False, 'bing_img': 'bing/154813/133503/18.jpg', 'bing_added_arrow': True}\n"
     ]
    },
    {
     "name": "stderr",
     "output_type": "stream",
     "text": [
      " 62%|████████████████████████▏              | 1239/2000 [54:30<23:12,  1.83s/it]"
     ]
    },
    {
     "name": "stdout",
     "output_type": "stream",
     "text": [
      "{'mapbox_fetched_img': False, 'mapbox_img': 'mapbox/154813/133503/18.jpg', 'mapbox_added_arrow': True, 'bing_fetched_img': False, 'bing_img': 'bing/154813/133503/18.jpg', 'bing_added_arrow': True}\n",
      "Fetching from: https://api.mapbox.com/styles/v1/mapbox/satellite-v9/tiles/256/18/154714/133913?access_token=pk.eyJ1IjoiaXp2b25rb3YiLCJhIjoiY2t0YXU3MTE3MDJuNjJ1bW9xYzc3bTlrMCJ9.fiGLAZ29dmYv2sqlxuaB-A\n",
      "100% [..........................................................] 12009 / 12009Fetching from: http://ecn.t0.tiles.virtualearth.net/tiles/a300101312201033012.jpeg?g=14009\n",
      "100% [............................................................] 9365 / 9365"
     ]
    },
    {
     "name": "stderr",
     "output_type": "stream",
     "text": [
      " 62%|████████████████████████▏              | 1240/2000 [54:33<27:39,  2.18s/it]"
     ]
    },
    {
     "name": "stdout",
     "output_type": "stream",
     "text": [
      "{'mapbox_fetched_img': True, 'mapbox_img': 'mapbox/154714/133913/18.jpg', 'mapbox_added_arrow': True, 'bing_fetched_img': True, 'bing_img': 'bing/154714/133913/18.jpg', 'bing_added_arrow': True}\n",
      "Fetching from: https://api.mapbox.com/styles/v1/mapbox/satellite-v9/tiles/256/18/154712/133912?access_token=pk.eyJ1IjoiaXp2b25rb3YiLCJhIjoiY2t0YXU3MTE3MDJuNjJ1bW9xYzc3bTlrMCJ9.fiGLAZ29dmYv2sqlxuaB-A\n",
      "100% [..........................................................] 12741 / 12741Fetching from: http://ecn.t0.tiles.virtualearth.net/tiles/a300101312201033000.jpeg?g=14009\n",
      "100% [............................................................] 9733 / 9733"
     ]
    },
    {
     "name": "stderr",
     "output_type": "stream",
     "text": [
      " 62%|████████████████████████▏              | 1241/2000 [54:35<29:13,  2.31s/it]"
     ]
    },
    {
     "name": "stdout",
     "output_type": "stream",
     "text": [
      "{'mapbox_fetched_img': True, 'mapbox_img': 'mapbox/154712/133912/18.jpg', 'mapbox_added_arrow': True, 'bing_fetched_img': True, 'bing_img': 'bing/154712/133912/18.jpg', 'bing_added_arrow': True}\n"
     ]
    },
    {
     "name": "stderr",
     "output_type": "stream",
     "text": [
      " 62%|████████████████████████▏              | 1242/2000 [54:37<26:31,  2.10s/it]"
     ]
    },
    {
     "name": "stdout",
     "output_type": "stream",
     "text": [
      "{'mapbox_fetched_img': False, 'mapbox_img': 'mapbox/154712/133912/18.jpg', 'mapbox_added_arrow': True, 'bing_fetched_img': False, 'bing_img': 'bing/154712/133912/18.jpg', 'bing_added_arrow': True}\n"
     ]
    },
    {
     "name": "stderr",
     "output_type": "stream",
     "text": [
      " 62%|████████████████████████▏              | 1243/2000 [54:39<24:56,  1.98s/it]"
     ]
    },
    {
     "name": "stdout",
     "output_type": "stream",
     "text": [
      "{'mapbox_fetched_img': False, 'mapbox_img': 'mapbox/154712/133912/18.jpg', 'mapbox_added_arrow': True, 'bing_fetched_img': False, 'bing_img': 'bing/154712/133912/18.jpg', 'bing_added_arrow': True}\n"
     ]
    },
    {
     "name": "stderr",
     "output_type": "stream",
     "text": [
      " 62%|████████████████████████▎              | 1244/2000 [54:40<23:46,  1.89s/it]"
     ]
    },
    {
     "name": "stdout",
     "output_type": "stream",
     "text": [
      "{'mapbox_fetched_img': False, 'mapbox_img': 'mapbox/154712/133912/18.jpg', 'mapbox_added_arrow': True, 'bing_fetched_img': False, 'bing_img': 'bing/154712/133912/18.jpg', 'bing_added_arrow': True}\n"
     ]
    },
    {
     "name": "stderr",
     "output_type": "stream",
     "text": [
      " 62%|████████████████████████▎              | 1245/2000 [54:42<23:09,  1.84s/it]"
     ]
    },
    {
     "name": "stdout",
     "output_type": "stream",
     "text": [
      "{'mapbox_fetched_img': False, 'mapbox_img': 'mapbox/154712/133912/18.jpg', 'mapbox_added_arrow': True, 'bing_fetched_img': False, 'bing_img': 'bing/154712/133912/18.jpg', 'bing_added_arrow': True}\n",
      "Fetching from: https://api.mapbox.com/styles/v1/mapbox/satellite-v9/tiles/256/18/154711/133912?access_token=pk.eyJ1IjoiaXp2b25rb3YiLCJhIjoiY2t0YXU3MTE3MDJuNjJ1bW9xYzc3bTlrMCJ9.fiGLAZ29dmYv2sqlxuaB-A\n",
      "100% [..........................................................] 11787 / 11787No photo found before to establish direction for TANZANIA_v2-2022-05-07-134GOPRO1-2022-05-07-134GOPRO1-G0551129\n",
      "Fetching from: http://ecn.t0.tiles.virtualearth.net/tiles/a300101312201032111.jpeg?g=14009\n",
      "100% [............................................................] 9204 / 9204"
     ]
    },
    {
     "name": "stderr",
     "output_type": "stream",
     "text": [
      " 62%|████████████████████████▎              | 1246/2000 [54:44<23:42,  1.89s/it]"
     ]
    },
    {
     "name": "stdout",
     "output_type": "stream",
     "text": [
      "No photo found before to establish direction for TANZANIA_v2-2022-05-07-134GOPRO1-2022-05-07-134GOPRO1-G0551129\n",
      "{'mapbox_fetched_img': True, 'mapbox_img': 'mapbox/154711/133912/18.jpg', 'mapbox_added_arrow': False, 'bing_fetched_img': True, 'bing_img': 'bing/154711/133912/18.jpg', 'bing_added_arrow': False}\n"
     ]
    },
    {
     "name": "stderr",
     "output_type": "stream",
     "text": [
      " 62%|████████████████████████▎              | 1247/2000 [54:46<23:39,  1.89s/it]"
     ]
    },
    {
     "name": "stdout",
     "output_type": "stream",
     "text": [
      "{'mapbox_fetched_img': False, 'mapbox_img': 'mapbox/154711/133912/18.jpg', 'mapbox_added_arrow': True, 'bing_fetched_img': False, 'bing_img': 'bing/154711/133912/18.jpg', 'bing_added_arrow': True}\n"
     ]
    },
    {
     "name": "stderr",
     "output_type": "stream",
     "text": [
      " 62%|████████████████████████▎              | 1248/2000 [54:48<24:02,  1.92s/it]"
     ]
    },
    {
     "name": "stdout",
     "output_type": "stream",
     "text": [
      "{'mapbox_fetched_img': False, 'mapbox_img': 'mapbox/154711/133912/18.jpg', 'mapbox_added_arrow': True, 'bing_fetched_img': False, 'bing_img': 'bing/154711/133912/18.jpg', 'bing_added_arrow': True}\n"
     ]
    },
    {
     "name": "stderr",
     "output_type": "stream",
     "text": [
      " 62%|████████████████████████▎              | 1249/2000 [54:50<23:28,  1.88s/it]"
     ]
    },
    {
     "name": "stdout",
     "output_type": "stream",
     "text": [
      "{'mapbox_fetched_img': False, 'mapbox_img': 'mapbox/154711/133912/18.jpg', 'mapbox_added_arrow': True, 'bing_fetched_img': False, 'bing_img': 'bing/154711/133912/18.jpg', 'bing_added_arrow': True}\n"
     ]
    },
    {
     "name": "stderr",
     "output_type": "stream",
     "text": [
      " 62%|████████████████████████▍              | 1250/2000 [54:51<22:33,  1.80s/it]"
     ]
    },
    {
     "name": "stdout",
     "output_type": "stream",
     "text": [
      "{'mapbox_fetched_img': False, 'mapbox_img': 'mapbox/154711/133912/18.jpg', 'mapbox_added_arrow': True, 'bing_fetched_img': False, 'bing_img': 'bing/154711/133912/18.jpg', 'bing_added_arrow': True}\n"
     ]
    },
    {
     "name": "stderr",
     "output_type": "stream",
     "text": [
      " 63%|████████████████████████▍              | 1251/2000 [54:53<21:42,  1.74s/it]"
     ]
    },
    {
     "name": "stdout",
     "output_type": "stream",
     "text": [
      "{'mapbox_fetched_img': False, 'mapbox_img': 'mapbox/154711/133912/18.jpg', 'mapbox_added_arrow': True, 'bing_fetched_img': False, 'bing_img': 'bing/154711/133912/18.jpg', 'bing_added_arrow': True}\n"
     ]
    },
    {
     "name": "stderr",
     "output_type": "stream",
     "text": [
      " 63%|████████████████████████▍              | 1252/2000 [54:55<21:26,  1.72s/it]"
     ]
    },
    {
     "name": "stdout",
     "output_type": "stream",
     "text": [
      "{'mapbox_fetched_img': False, 'mapbox_img': 'mapbox/154711/133912/18.jpg', 'mapbox_added_arrow': True, 'bing_fetched_img': False, 'bing_img': 'bing/154711/133912/18.jpg', 'bing_added_arrow': True}\n"
     ]
    },
    {
     "name": "stderr",
     "output_type": "stream",
     "text": [
      " 63%|████████████████████████▍              | 1253/2000 [54:56<21:04,  1.69s/it]"
     ]
    },
    {
     "name": "stdout",
     "output_type": "stream",
     "text": [
      "{'mapbox_fetched_img': False, 'mapbox_img': 'mapbox/154711/133912/18.jpg', 'mapbox_added_arrow': True, 'bing_fetched_img': False, 'bing_img': 'bing/154711/133912/18.jpg', 'bing_added_arrow': True}\n"
     ]
    },
    {
     "name": "stderr",
     "output_type": "stream",
     "text": [
      " 63%|████████████████████████▍              | 1254/2000 [54:58<20:39,  1.66s/it]"
     ]
    },
    {
     "name": "stdout",
     "output_type": "stream",
     "text": [
      "{'mapbox_fetched_img': False, 'mapbox_img': 'mapbox/154711/133912/18.jpg', 'mapbox_added_arrow': True, 'bing_fetched_img': False, 'bing_img': 'bing/154711/133912/18.jpg', 'bing_added_arrow': True}\n",
      "Fetching from: https://api.mapbox.com/styles/v1/mapbox/satellite-v9/tiles/256/18/154708/133910?access_token=pk.eyJ1IjoiaXp2b25rb3YiLCJhIjoiY2t0YXU3MTE3MDJuNjJ1bW9xYzc3bTlrMCJ9.fiGLAZ29dmYv2sqlxuaB-A\n",
      "100% [..........................................................] 17203 / 17203Fetching from: http://ecn.t0.tiles.virtualearth.net/tiles/a300101312201030320.jpeg?g=14009\n",
      "100% [..........................................................] 14350 / 14350"
     ]
    },
    {
     "name": "stderr",
     "output_type": "stream",
     "text": [
      " 63%|████████████████████████▍              | 1255/2000 [55:01<26:50,  2.16s/it]"
     ]
    },
    {
     "name": "stdout",
     "output_type": "stream",
     "text": [
      "{'mapbox_fetched_img': True, 'mapbox_img': 'mapbox/154708/133910/18.jpg', 'mapbox_added_arrow': True, 'bing_fetched_img': True, 'bing_img': 'bing/154708/133910/18.jpg', 'bing_added_arrow': True}\n"
     ]
    },
    {
     "name": "stderr",
     "output_type": "stream",
     "text": [
      " 63%|████████████████████████▍              | 1256/2000 [55:04<28:11,  2.27s/it]"
     ]
    },
    {
     "name": "stdout",
     "output_type": "stream",
     "text": [
      "{'mapbox_fetched_img': False, 'mapbox_img': 'mapbox/154708/133910/18.jpg', 'mapbox_added_arrow': True, 'bing_fetched_img': False, 'bing_img': 'bing/154708/133910/18.jpg', 'bing_added_arrow': True}\n",
      "Fetching from: https://api.mapbox.com/styles/v1/mapbox/satellite-v9/tiles/256/18/154707/133910?access_token=pk.eyJ1IjoiaXp2b25rb3YiLCJhIjoiY2t0YXU3MTE3MDJuNjJ1bW9xYzc3bTlrMCJ9.fiGLAZ29dmYv2sqlxuaB-A\n",
      "100% [..........................................................] 14322 / 14322Fetching from: http://ecn.t0.tiles.virtualearth.net/tiles/a300101312201030231.jpeg?g=14009\n",
      "100% [..........................................................] 13964 / 13964"
     ]
    },
    {
     "name": "stderr",
     "output_type": "stream",
     "text": [
      " 63%|████████████████████████▌              | 1257/2000 [55:07<32:09,  2.60s/it]"
     ]
    },
    {
     "name": "stdout",
     "output_type": "stream",
     "text": [
      "{'mapbox_fetched_img': True, 'mapbox_img': 'mapbox/154707/133910/18.jpg', 'mapbox_added_arrow': True, 'bing_fetched_img': True, 'bing_img': 'bing/154707/133910/18.jpg', 'bing_added_arrow': True}\n"
     ]
    },
    {
     "name": "stderr",
     "output_type": "stream",
     "text": [
      " 63%|████████████████████████▌              | 1258/2000 [55:09<31:19,  2.53s/it]"
     ]
    },
    {
     "name": "stdout",
     "output_type": "stream",
     "text": [
      "{'mapbox_fetched_img': False, 'mapbox_img': 'mapbox/154707/133910/18.jpg', 'mapbox_added_arrow': True, 'bing_fetched_img': False, 'bing_img': 'bing/154707/133910/18.jpg', 'bing_added_arrow': True}\n",
      "Fetching from: https://api.mapbox.com/styles/v1/mapbox/satellite-v9/tiles/256/18/154705/133909?access_token=pk.eyJ1IjoiaXp2b25rb3YiLCJhIjoiY2t0YXU3MTE3MDJuNjJ1bW9xYzc3bTlrMCJ9.fiGLAZ29dmYv2sqlxuaB-A\n",
      "100% [..........................................................] 15243 / 15243Fetching from: http://ecn.t0.tiles.virtualearth.net/tiles/a300101312201030203.jpeg?g=14009\n",
      "100% [..........................................................] 13076 / 13076"
     ]
    },
    {
     "name": "stderr",
     "output_type": "stream",
     "text": [
      " 63%|████████████████████████▌              | 1259/2000 [55:13<34:24,  2.79s/it]"
     ]
    },
    {
     "name": "stdout",
     "output_type": "stream",
     "text": [
      "{'mapbox_fetched_img': True, 'mapbox_img': 'mapbox/154705/133909/18.jpg', 'mapbox_added_arrow': True, 'bing_fetched_img': True, 'bing_img': 'bing/154705/133909/18.jpg', 'bing_added_arrow': True}\n",
      "Fetching from: https://api.mapbox.com/styles/v1/mapbox/satellite-v9/tiles/256/18/154704/133909?access_token=pk.eyJ1IjoiaXp2b25rb3YiLCJhIjoiY2t0YXU3MTE3MDJuNjJ1bW9xYzc3bTlrMCJ9.fiGLAZ29dmYv2sqlxuaB-A\n",
      "100% [..........................................................] 14247 / 14247Fetching from: http://ecn.t0.tiles.virtualearth.net/tiles/a300101312201030202.jpeg?g=14009\n",
      "100% [..........................................................] 12054 / 12054"
     ]
    },
    {
     "name": "stderr",
     "output_type": "stream",
     "text": [
      " 63%|████████████████████████▌              | 1260/2000 [55:17<38:07,  3.09s/it]"
     ]
    },
    {
     "name": "stdout",
     "output_type": "stream",
     "text": [
      "{'mapbox_fetched_img': True, 'mapbox_img': 'mapbox/154704/133909/18.jpg', 'mapbox_added_arrow': True, 'bing_fetched_img': True, 'bing_img': 'bing/154704/133909/18.jpg', 'bing_added_arrow': True}\n"
     ]
    },
    {
     "name": "stderr",
     "output_type": "stream",
     "text": [
      " 63%|████████████████████████▌              | 1261/2000 [55:19<34:58,  2.84s/it]"
     ]
    },
    {
     "name": "stdout",
     "output_type": "stream",
     "text": [
      "{'mapbox_fetched_img': False, 'mapbox_img': 'mapbox/154704/133909/18.jpg', 'mapbox_added_arrow': True, 'bing_fetched_img': False, 'bing_img': 'bing/154704/133909/18.jpg', 'bing_added_arrow': True}\n",
      "Fetching from: https://api.mapbox.com/styles/v1/mapbox/satellite-v9/tiles/256/18/154702/133908?access_token=pk.eyJ1IjoiaXp2b25rb3YiLCJhIjoiY2t0YXU3MTE3MDJuNjJ1bW9xYzc3bTlrMCJ9.fiGLAZ29dmYv2sqlxuaB-A\n",
      "100% [..........................................................] 12907 / 12907Fetching from: http://ecn.t0.tiles.virtualearth.net/tiles/a300101312201021310.jpeg?g=14009\n",
      "100% [..........................................................] 10882 / 10882"
     ]
    },
    {
     "name": "stderr",
     "output_type": "stream",
     "text": [
      " 63%|████████████████████████▌              | 1262/2000 [55:22<36:56,  3.00s/it]"
     ]
    },
    {
     "name": "stdout",
     "output_type": "stream",
     "text": [
      "{'mapbox_fetched_img': True, 'mapbox_img': 'mapbox/154702/133908/18.jpg', 'mapbox_added_arrow': True, 'bing_fetched_img': True, 'bing_img': 'bing/154702/133908/18.jpg', 'bing_added_arrow': True}\n",
      "Fetching from: https://api.mapbox.com/styles/v1/mapbox/satellite-v9/tiles/256/18/154695/133909?access_token=pk.eyJ1IjoiaXp2b25rb3YiLCJhIjoiY2t0YXU3MTE3MDJuNjJ1bW9xYzc3bTlrMCJ9.fiGLAZ29dmYv2sqlxuaB-A\n",
      "100% [..........................................................] 13839 / 13839Fetching from: http://ecn.t0.tiles.virtualearth.net/tiles/a300101312201020313.jpeg?g=14009\n",
      "100% [..........................................................] 11752 / 11752"
     ]
    },
    {
     "name": "stderr",
     "output_type": "stream",
     "text": [
      " 63%|████████████████████████▋              | 1263/2000 [55:26<39:03,  3.18s/it]"
     ]
    },
    {
     "name": "stdout",
     "output_type": "stream",
     "text": [
      "{'mapbox_fetched_img': True, 'mapbox_img': 'mapbox/154695/133909/18.jpg', 'mapbox_added_arrow': True, 'bing_fetched_img': True, 'bing_img': 'bing/154695/133909/18.jpg', 'bing_added_arrow': True}\n",
      "Fetching from: https://api.mapbox.com/styles/v1/mapbox/satellite-v9/tiles/256/18/154694/133909?access_token=pk.eyJ1IjoiaXp2b25rb3YiLCJhIjoiY2t0YXU3MTE3MDJuNjJ1bW9xYzc3bTlrMCJ9.fiGLAZ29dmYv2sqlxuaB-A\n",
      "100% [..........................................................] 12448 / 12448Fetching from: http://ecn.t0.tiles.virtualearth.net/tiles/a300101312201020312.jpeg?g=14009\n",
      "100% [..........................................................] 10086 / 10086"
     ]
    },
    {
     "name": "stderr",
     "output_type": "stream",
     "text": [
      " 63%|████████████████████████▋              | 1264/2000 [55:30<43:04,  3.51s/it]"
     ]
    },
    {
     "name": "stdout",
     "output_type": "stream",
     "text": [
      "{'mapbox_fetched_img': True, 'mapbox_img': 'mapbox/154694/133909/18.jpg', 'mapbox_added_arrow': True, 'bing_fetched_img': True, 'bing_img': 'bing/154694/133909/18.jpg', 'bing_added_arrow': True}\n",
      "Fetching from: https://api.mapbox.com/styles/v1/mapbox/satellite-v9/tiles/256/18/154693/133909?access_token=pk.eyJ1IjoiaXp2b25rb3YiLCJhIjoiY2t0YXU3MTE3MDJuNjJ1bW9xYzc3bTlrMCJ9.fiGLAZ29dmYv2sqlxuaB-A\n",
      "100% [..........................................................] 11844 / 11844Fetching from: http://ecn.t0.tiles.virtualearth.net/tiles/a300101312201020303.jpeg?g=14009\n",
      "100% [..........................................................] 10500 / 10500"
     ]
    },
    {
     "name": "stderr",
     "output_type": "stream",
     "text": [
      " 63%|████████████████████████▋              | 1265/2000 [55:35<47:11,  3.85s/it]"
     ]
    },
    {
     "name": "stdout",
     "output_type": "stream",
     "text": [
      "{'mapbox_fetched_img': True, 'mapbox_img': 'mapbox/154693/133909/18.jpg', 'mapbox_added_arrow': True, 'bing_fetched_img': True, 'bing_img': 'bing/154693/133909/18.jpg', 'bing_added_arrow': True}\n"
     ]
    },
    {
     "name": "stderr",
     "output_type": "stream",
     "text": [
      " 63%|████████████████████████▋              | 1266/2000 [55:38<45:19,  3.71s/it]"
     ]
    },
    {
     "name": "stdout",
     "output_type": "stream",
     "text": [
      "{'mapbox_fetched_img': False, 'mapbox_img': 'mapbox/154693/133909/18.jpg', 'mapbox_added_arrow': True, 'bing_fetched_img': False, 'bing_img': 'bing/154693/133909/18.jpg', 'bing_added_arrow': True}\n"
     ]
    },
    {
     "name": "stderr",
     "output_type": "stream",
     "text": [
      " 63%|████████████████████████▋              | 1267/2000 [55:41<40:57,  3.35s/it]"
     ]
    },
    {
     "name": "stdout",
     "output_type": "stream",
     "text": [
      "{'mapbox_fetched_img': False, 'mapbox_img': 'mapbox/154693/133909/18.jpg', 'mapbox_added_arrow': True, 'bing_fetched_img': False, 'bing_img': 'bing/154693/133909/18.jpg', 'bing_added_arrow': True}\n"
     ]
    },
    {
     "name": "stderr",
     "output_type": "stream",
     "text": [
      " 63%|████████████████████████▋              | 1268/2000 [55:43<35:58,  2.95s/it]"
     ]
    },
    {
     "name": "stdout",
     "output_type": "stream",
     "text": [
      "{'mapbox_fetched_img': False, 'mapbox_img': 'mapbox/154693/133909/18.jpg', 'mapbox_added_arrow': True, 'bing_fetched_img': False, 'bing_img': 'bing/154693/133909/18.jpg', 'bing_added_arrow': True}\n"
     ]
    },
    {
     "name": "stderr",
     "output_type": "stream",
     "text": [
      " 63%|████████████████████████▋              | 1269/2000 [55:45<32:18,  2.65s/it]"
     ]
    },
    {
     "name": "stdout",
     "output_type": "stream",
     "text": [
      "{'mapbox_fetched_img': False, 'mapbox_img': 'mapbox/154693/133909/18.jpg', 'mapbox_added_arrow': True, 'bing_fetched_img': False, 'bing_img': 'bing/154693/133909/18.jpg', 'bing_added_arrow': True}\n"
     ]
    },
    {
     "name": "stderr",
     "output_type": "stream",
     "text": [
      " 64%|████████████████████████▊              | 1270/2000 [55:47<31:02,  2.55s/it]"
     ]
    },
    {
     "name": "stdout",
     "output_type": "stream",
     "text": [
      "{'mapbox_fetched_img': False, 'mapbox_img': 'mapbox/154693/133909/18.jpg', 'mapbox_added_arrow': True, 'bing_fetched_img': False, 'bing_img': 'bing/154693/133909/18.jpg', 'bing_added_arrow': True}\n"
     ]
    },
    {
     "name": "stderr",
     "output_type": "stream",
     "text": [
      " 64%|████████████████████████▊              | 1271/2000 [55:51<38:03,  3.13s/it]"
     ]
    },
    {
     "name": "stdout",
     "output_type": "stream",
     "text": [
      "{'mapbox_fetched_img': False, 'mapbox_img': 'mapbox/154693/133909/18.jpg', 'mapbox_added_arrow': True, 'bing_fetched_img': False, 'bing_img': 'bing/154693/133909/18.jpg', 'bing_added_arrow': True}\n"
     ]
    },
    {
     "name": "stderr",
     "output_type": "stream",
     "text": [
      " 64%|████████████████████████▊              | 1272/2000 [55:55<38:28,  3.17s/it]"
     ]
    },
    {
     "name": "stdout",
     "output_type": "stream",
     "text": [
      "{'mapbox_fetched_img': False, 'mapbox_img': 'mapbox/154693/133909/18.jpg', 'mapbox_added_arrow': True, 'bing_fetched_img': False, 'bing_img': 'bing/154693/133909/18.jpg', 'bing_added_arrow': True}\n"
     ]
    },
    {
     "name": "stderr",
     "output_type": "stream",
     "text": [
      " 64%|████████████████████████▊              | 1273/2000 [55:57<35:05,  2.90s/it]"
     ]
    },
    {
     "name": "stdout",
     "output_type": "stream",
     "text": [
      "{'mapbox_fetched_img': False, 'mapbox_img': 'mapbox/154693/133909/18.jpg', 'mapbox_added_arrow': True, 'bing_fetched_img': False, 'bing_img': 'bing/154693/133909/18.jpg', 'bing_added_arrow': True}\n"
     ]
    },
    {
     "name": "stderr",
     "output_type": "stream",
     "text": [
      " 64%|████████████████████████▊              | 1274/2000 [55:59<33:29,  2.77s/it]"
     ]
    },
    {
     "name": "stdout",
     "output_type": "stream",
     "text": [
      "{'mapbox_fetched_img': False, 'mapbox_img': 'mapbox/154693/133909/18.jpg', 'mapbox_added_arrow': True, 'bing_fetched_img': False, 'bing_img': 'bing/154693/133909/18.jpg', 'bing_added_arrow': True}\n"
     ]
    },
    {
     "name": "stderr",
     "output_type": "stream",
     "text": [
      " 64%|████████████████████████▊              | 1275/2000 [56:02<34:03,  2.82s/it]"
     ]
    },
    {
     "name": "stdout",
     "output_type": "stream",
     "text": [
      "{'mapbox_fetched_img': False, 'mapbox_img': 'mapbox/154693/133909/18.jpg', 'mapbox_added_arrow': True, 'bing_fetched_img': False, 'bing_img': 'bing/154693/133909/18.jpg', 'bing_added_arrow': True}\n"
     ]
    },
    {
     "name": "stderr",
     "output_type": "stream",
     "text": [
      " 64%|████████████████████████▉              | 1276/2000 [56:05<34:44,  2.88s/it]"
     ]
    },
    {
     "name": "stdout",
     "output_type": "stream",
     "text": [
      "{'mapbox_fetched_img': False, 'mapbox_img': 'mapbox/154693/133909/18.jpg', 'mapbox_added_arrow': True, 'bing_fetched_img': False, 'bing_img': 'bing/154693/133909/18.jpg', 'bing_added_arrow': True}\n"
     ]
    },
    {
     "name": "stderr",
     "output_type": "stream",
     "text": [
      " 64%|████████████████████████▉              | 1277/2000 [56:09<35:46,  2.97s/it]"
     ]
    },
    {
     "name": "stdout",
     "output_type": "stream",
     "text": [
      "{'mapbox_fetched_img': False, 'mapbox_img': 'mapbox/154693/133909/18.jpg', 'mapbox_added_arrow': True, 'bing_fetched_img': False, 'bing_img': 'bing/154693/133909/18.jpg', 'bing_added_arrow': True}\n"
     ]
    },
    {
     "name": "stderr",
     "output_type": "stream",
     "text": [
      " 64%|████████████████████████▉              | 1278/2000 [56:11<34:33,  2.87s/it]"
     ]
    },
    {
     "name": "stdout",
     "output_type": "stream",
     "text": [
      "{'mapbox_fetched_img': False, 'mapbox_img': 'mapbox/154693/133909/18.jpg', 'mapbox_added_arrow': True, 'bing_fetched_img': False, 'bing_img': 'bing/154693/133909/18.jpg', 'bing_added_arrow': True}\n"
     ]
    },
    {
     "name": "stderr",
     "output_type": "stream",
     "text": [
      " 64%|████████████████████████▉              | 1279/2000 [56:14<33:16,  2.77s/it]"
     ]
    },
    {
     "name": "stdout",
     "output_type": "stream",
     "text": [
      "{'mapbox_fetched_img': False, 'mapbox_img': 'mapbox/154693/133909/18.jpg', 'mapbox_added_arrow': True, 'bing_fetched_img': False, 'bing_img': 'bing/154693/133909/18.jpg', 'bing_added_arrow': True}\n"
     ]
    },
    {
     "name": "stderr",
     "output_type": "stream",
     "text": [
      " 64%|████████████████████████▉              | 1280/2000 [56:16<32:05,  2.67s/it]"
     ]
    },
    {
     "name": "stdout",
     "output_type": "stream",
     "text": [
      "{'mapbox_fetched_img': False, 'mapbox_img': 'mapbox/154693/133909/18.jpg', 'mapbox_added_arrow': True, 'bing_fetched_img': False, 'bing_img': 'bing/154693/133909/18.jpg', 'bing_added_arrow': True}\n"
     ]
    },
    {
     "name": "stderr",
     "output_type": "stream",
     "text": [
      " 64%|████████████████████████▉              | 1281/2000 [56:19<30:46,  2.57s/it]"
     ]
    },
    {
     "name": "stdout",
     "output_type": "stream",
     "text": [
      "{'mapbox_fetched_img': False, 'mapbox_img': 'mapbox/154693/133909/18.jpg', 'mapbox_added_arrow': True, 'bing_fetched_img': False, 'bing_img': 'bing/154693/133909/18.jpg', 'bing_added_arrow': True}\n",
      "Fetching from: https://api.mapbox.com/styles/v1/mapbox/satellite-v9/tiles/256/18/154692/133909?access_token=pk.eyJ1IjoiaXp2b25rb3YiLCJhIjoiY2t0YXU3MTE3MDJuNjJ1bW9xYzc3bTlrMCJ9.fiGLAZ29dmYv2sqlxuaB-A\n",
      "100% [..........................................................] 11226 / 11226Fetching from: http://ecn.t0.tiles.virtualearth.net/tiles/a300101312201020302.jpeg?g=14009\n",
      "100% [............................................................] 8496 / 8496"
     ]
    },
    {
     "name": "stderr",
     "output_type": "stream",
     "text": [
      " 64%|████████████████████████▉              | 1282/2000 [56:22<33:55,  2.83s/it]"
     ]
    },
    {
     "name": "stdout",
     "output_type": "stream",
     "text": [
      "{'mapbox_fetched_img': True, 'mapbox_img': 'mapbox/154692/133909/18.jpg', 'mapbox_added_arrow': True, 'bing_fetched_img': True, 'bing_img': 'bing/154692/133909/18.jpg', 'bing_added_arrow': True}\n"
     ]
    },
    {
     "name": "stderr",
     "output_type": "stream",
     "text": [
      " 64%|█████████████████████████              | 1283/2000 [56:24<31:46,  2.66s/it]"
     ]
    },
    {
     "name": "stdout",
     "output_type": "stream",
     "text": [
      "{'mapbox_fetched_img': False, 'mapbox_img': 'mapbox/154692/133909/18.jpg', 'mapbox_added_arrow': True, 'bing_fetched_img': False, 'bing_img': 'bing/154692/133909/18.jpg', 'bing_added_arrow': True}\n"
     ]
    },
    {
     "name": "stderr",
     "output_type": "stream",
     "text": [
      " 64%|█████████████████████████              | 1284/2000 [56:26<29:42,  2.49s/it]"
     ]
    },
    {
     "name": "stdout",
     "output_type": "stream",
     "text": [
      "{'mapbox_fetched_img': False, 'mapbox_img': 'mapbox/154692/133909/18.jpg', 'mapbox_added_arrow': True, 'bing_fetched_img': False, 'bing_img': 'bing/154692/133909/18.jpg', 'bing_added_arrow': True}\n"
     ]
    },
    {
     "name": "stderr",
     "output_type": "stream",
     "text": [
      " 64%|█████████████████████████              | 1285/2000 [56:28<27:15,  2.29s/it]"
     ]
    },
    {
     "name": "stdout",
     "output_type": "stream",
     "text": [
      "{'mapbox_fetched_img': False, 'mapbox_img': 'mapbox/154692/133909/18.jpg', 'mapbox_added_arrow': True, 'bing_fetched_img': False, 'bing_img': 'bing/154692/133909/18.jpg', 'bing_added_arrow': True}\n"
     ]
    },
    {
     "name": "stderr",
     "output_type": "stream",
     "text": [
      " 64%|█████████████████████████              | 1286/2000 [56:30<25:34,  2.15s/it]"
     ]
    },
    {
     "name": "stdout",
     "output_type": "stream",
     "text": [
      "{'mapbox_fetched_img': False, 'mapbox_img': 'mapbox/154692/133909/18.jpg', 'mapbox_added_arrow': True, 'bing_fetched_img': False, 'bing_img': 'bing/154692/133909/18.jpg', 'bing_added_arrow': True}\n"
     ]
    },
    {
     "name": "stderr",
     "output_type": "stream",
     "text": [
      " 64%|█████████████████████████              | 1286/2000 [56:31<31:22,  2.64s/it]\n"
     ]
    },
    {
     "ename": "KeyboardInterrupt",
     "evalue": "",
     "output_type": "error",
     "traceback": [
      "\u001b[0;31m---------------------------------------------------------------------------\u001b[0m",
      "\u001b[0;31mKeyboardInterrupt\u001b[0m                         Traceback (most recent call last)",
      "Cell \u001b[0;32mIn[175], line 6\u001b[0m\n\u001b[1;32m      4\u001b[0m \u001b[38;5;28;01mif\u001b[39;00m country_df\u001b[38;5;241m.\u001b[39miloc[i][\u001b[38;5;124m\"\u001b[39m\u001b[38;5;124minput_img\u001b[39m\u001b[38;5;124m\"\u001b[39m]\u001b[38;5;241m.\u001b[39mendswith(\u001b[38;5;124m\"\u001b[39m\u001b[38;5;124m.THM\u001b[39m\u001b[38;5;124m\"\u001b[39m):\n\u001b[1;32m      5\u001b[0m     \u001b[38;5;28;01mcontinue\u001b[39;00m\n\u001b[0;32m----> 6\u001b[0m resp \u001b[38;5;241m=\u001b[39m \u001b[43mhello_world\u001b[49m\u001b[43m(\u001b[49m\u001b[43mMockRequest\u001b[49m\u001b[43m(\u001b[49m\u001b[43m{\u001b[49m\u001b[38;5;124;43m\"\u001b[39;49m\u001b[38;5;124;43mname\u001b[39;49m\u001b[38;5;124;43m\"\u001b[39;49m\u001b[43m:\u001b[49m\u001b[43m \u001b[49m\u001b[43mcountry_df\u001b[49m\u001b[38;5;241;43m.\u001b[39;49m\u001b[43miloc\u001b[49m\u001b[43m[\u001b[49m\u001b[43mi\u001b[49m\u001b[43m]\u001b[49m\u001b[43m[\u001b[49m\u001b[38;5;124;43m\"\u001b[39;49m\u001b[38;5;124;43mname\u001b[39;49m\u001b[38;5;124;43m\"\u001b[39;49m\u001b[43m]\u001b[49m\u001b[43m}\u001b[49m\u001b[43m)\u001b[49m\u001b[43m)\u001b[49m\n\u001b[1;32m      7\u001b[0m \u001b[38;5;28mprint\u001b[39m(resp)\n",
      "File \u001b[0;32m~/nasaharvest/street2sat/notebooks/../gcp/get_satellite_img/main.py:187\u001b[0m, in \u001b[0;36mhello_world\u001b[0;34m(request)\u001b[0m\n\u001b[1;32m    185\u001b[0m     blob_w_arrow\u001b[38;5;241m.\u001b[39mupload_from_filename(img_w_arrow_path)\n\u001b[1;32m    186\u001b[0m     blob_w_arrow\u001b[38;5;241m.\u001b[39mmetadata \u001b[38;5;241m=\u001b[39m request_json\n\u001b[0;32m--> 187\u001b[0m     \u001b[43mblob_w_arrow\u001b[49m\u001b[38;5;241;43m.\u001b[39;49m\u001b[43mpatch\u001b[49m\u001b[43m(\u001b[49m\u001b[43m)\u001b[49m\n\u001b[1;32m    188\u001b[0m     response[\u001b[38;5;124mf\u001b[39m\u001b[38;5;124m\"\u001b[39m\u001b[38;5;132;01m{\u001b[39;00mmap_tile_server\u001b[38;5;132;01m}\u001b[39;00m\u001b[38;5;124m_added_arrow\u001b[39m\u001b[38;5;124m\"\u001b[39m] \u001b[38;5;241m=\u001b[39m \u001b[38;5;28;01mTrue\u001b[39;00m\n\u001b[1;32m    190\u001b[0m \u001b[38;5;28;01mexcept\u001b[39;00m \u001b[38;5;167;01mException\u001b[39;00m \u001b[38;5;28;01mas\u001b[39;00m e:\n",
      "File \u001b[0;32m~/nasaharvest/street2sat/venv/lib/python3.9/site-packages/google/cloud/storage/_helpers.py:345\u001b[0m, in \u001b[0;36m_PropertyMixin.patch\u001b[0;34m(self, client, if_generation_match, if_generation_not_match, if_metageneration_match, if_metageneration_not_match, timeout, retry)\u001b[0m\n\u001b[1;32m    342\u001b[0m update_properties \u001b[38;5;241m=\u001b[39m {key: \u001b[38;5;28mself\u001b[39m\u001b[38;5;241m.\u001b[39m_properties[key] \u001b[38;5;28;01mfor\u001b[39;00m key \u001b[38;5;129;01min\u001b[39;00m \u001b[38;5;28mself\u001b[39m\u001b[38;5;241m.\u001b[39m_changes}\n\u001b[1;32m    344\u001b[0m \u001b[38;5;66;03m# Make the API call.\u001b[39;00m\n\u001b[0;32m--> 345\u001b[0m api_response \u001b[38;5;241m=\u001b[39m \u001b[43mclient\u001b[49m\u001b[38;5;241;43m.\u001b[39;49m\u001b[43m_patch_resource\u001b[49m\u001b[43m(\u001b[49m\n\u001b[1;32m    346\u001b[0m \u001b[43m    \u001b[49m\u001b[38;5;28;43mself\u001b[39;49m\u001b[38;5;241;43m.\u001b[39;49m\u001b[43mpath\u001b[49m\u001b[43m,\u001b[49m\n\u001b[1;32m    347\u001b[0m \u001b[43m    \u001b[49m\u001b[43mupdate_properties\u001b[49m\u001b[43m,\u001b[49m\n\u001b[1;32m    348\u001b[0m \u001b[43m    \u001b[49m\u001b[43mquery_params\u001b[49m\u001b[38;5;241;43m=\u001b[39;49m\u001b[43mquery_params\u001b[49m\u001b[43m,\u001b[49m\n\u001b[1;32m    349\u001b[0m \u001b[43m    \u001b[49m\u001b[43m_target_object\u001b[49m\u001b[38;5;241;43m=\u001b[39;49m\u001b[38;5;28;43mself\u001b[39;49m\u001b[43m,\u001b[49m\n\u001b[1;32m    350\u001b[0m \u001b[43m    \u001b[49m\u001b[43mtimeout\u001b[49m\u001b[38;5;241;43m=\u001b[39;49m\u001b[43mtimeout\u001b[49m\u001b[43m,\u001b[49m\n\u001b[1;32m    351\u001b[0m \u001b[43m    \u001b[49m\u001b[43mretry\u001b[49m\u001b[38;5;241;43m=\u001b[39;49m\u001b[43mretry\u001b[49m\u001b[43m,\u001b[49m\n\u001b[1;32m    352\u001b[0m \u001b[43m\u001b[49m\u001b[43m)\u001b[49m\n\u001b[1;32m    353\u001b[0m \u001b[38;5;28mself\u001b[39m\u001b[38;5;241m.\u001b[39m_set_properties(api_response)\n",
      "File \u001b[0;32m~/nasaharvest/street2sat/venv/lib/python3.9/site-packages/google/cloud/storage/client.py:475\u001b[0m, in \u001b[0;36mClient._patch_resource\u001b[0;34m(self, path, data, query_params, headers, timeout, retry, _target_object)\u001b[0m\n\u001b[1;32m    415\u001b[0m \u001b[38;5;28;01mdef\u001b[39;00m \u001b[38;5;21m_patch_resource\u001b[39m(\n\u001b[1;32m    416\u001b[0m     \u001b[38;5;28mself\u001b[39m,\n\u001b[1;32m    417\u001b[0m     path,\n\u001b[0;32m   (...)\u001b[0m\n\u001b[1;32m    423\u001b[0m     _target_object\u001b[38;5;241m=\u001b[39m\u001b[38;5;28;01mNone\u001b[39;00m,\n\u001b[1;32m    424\u001b[0m ):\n\u001b[1;32m    425\u001b[0m \u001b[38;5;250m    \u001b[39m\u001b[38;5;124;03m\"\"\"Helper for bucket / blob methods making API 'PATCH' calls.\u001b[39;00m\n\u001b[1;32m    426\u001b[0m \n\u001b[1;32m    427\u001b[0m \u001b[38;5;124;03m    Args:\u001b[39;00m\n\u001b[0;32m   (...)\u001b[0m\n\u001b[1;32m    473\u001b[0m \u001b[38;5;124;03m            If the bucket is not found.\u001b[39;00m\n\u001b[1;32m    474\u001b[0m \u001b[38;5;124;03m    \"\"\"\u001b[39;00m\n\u001b[0;32m--> 475\u001b[0m     \u001b[38;5;28;01mreturn\u001b[39;00m \u001b[38;5;28;43mself\u001b[39;49m\u001b[38;5;241;43m.\u001b[39;49m\u001b[43m_connection\u001b[49m\u001b[38;5;241;43m.\u001b[39;49m\u001b[43mapi_request\u001b[49m\u001b[43m(\u001b[49m\n\u001b[1;32m    476\u001b[0m \u001b[43m        \u001b[49m\u001b[43mmethod\u001b[49m\u001b[38;5;241;43m=\u001b[39;49m\u001b[38;5;124;43m\"\u001b[39;49m\u001b[38;5;124;43mPATCH\u001b[39;49m\u001b[38;5;124;43m\"\u001b[39;49m\u001b[43m,\u001b[49m\n\u001b[1;32m    477\u001b[0m \u001b[43m        \u001b[49m\u001b[43mpath\u001b[49m\u001b[38;5;241;43m=\u001b[39;49m\u001b[43mpath\u001b[49m\u001b[43m,\u001b[49m\n\u001b[1;32m    478\u001b[0m \u001b[43m        \u001b[49m\u001b[43mdata\u001b[49m\u001b[38;5;241;43m=\u001b[39;49m\u001b[43mdata\u001b[49m\u001b[43m,\u001b[49m\n\u001b[1;32m    479\u001b[0m \u001b[43m        \u001b[49m\u001b[43mquery_params\u001b[49m\u001b[38;5;241;43m=\u001b[39;49m\u001b[43mquery_params\u001b[49m\u001b[43m,\u001b[49m\n\u001b[1;32m    480\u001b[0m \u001b[43m        \u001b[49m\u001b[43mheaders\u001b[49m\u001b[38;5;241;43m=\u001b[39;49m\u001b[43mheaders\u001b[49m\u001b[43m,\u001b[49m\n\u001b[1;32m    481\u001b[0m \u001b[43m        \u001b[49m\u001b[43mtimeout\u001b[49m\u001b[38;5;241;43m=\u001b[39;49m\u001b[43mtimeout\u001b[49m\u001b[43m,\u001b[49m\n\u001b[1;32m    482\u001b[0m \u001b[43m        \u001b[49m\u001b[43mretry\u001b[49m\u001b[38;5;241;43m=\u001b[39;49m\u001b[43mretry\u001b[49m\u001b[43m,\u001b[49m\n\u001b[1;32m    483\u001b[0m \u001b[43m        \u001b[49m\u001b[43m_target_object\u001b[49m\u001b[38;5;241;43m=\u001b[39;49m\u001b[43m_target_object\u001b[49m\u001b[43m,\u001b[49m\n\u001b[1;32m    484\u001b[0m \u001b[43m    \u001b[49m\u001b[43m)\u001b[49m\n",
      "File \u001b[0;32m~/nasaharvest/street2sat/venv/lib/python3.9/site-packages/google/cloud/storage/_http.py:72\u001b[0m, in \u001b[0;36mConnection.api_request\u001b[0;34m(self, *args, **kwargs)\u001b[0m\n\u001b[1;32m     70\u001b[0m     \u001b[38;5;28;01mif\u001b[39;00m retry:\n\u001b[1;32m     71\u001b[0m         call \u001b[38;5;241m=\u001b[39m retry(call)\n\u001b[0;32m---> 72\u001b[0m \u001b[38;5;28;01mreturn\u001b[39;00m \u001b[43mcall\u001b[49m\u001b[43m(\u001b[49m\u001b[43m)\u001b[49m\n",
      "File \u001b[0;32m~/nasaharvest/street2sat/venv/lib/python3.9/site-packages/google/cloud/_http/__init__.py:482\u001b[0m, in \u001b[0;36mJSONConnection.api_request\u001b[0;34m(self, method, path, query_params, data, content_type, headers, api_base_url, api_version, expect_json, _target_object, timeout, extra_api_info)\u001b[0m\n\u001b[1;32m    479\u001b[0m     data \u001b[38;5;241m=\u001b[39m json\u001b[38;5;241m.\u001b[39mdumps(data)\n\u001b[1;32m    480\u001b[0m     content_type \u001b[38;5;241m=\u001b[39m \u001b[38;5;124m\"\u001b[39m\u001b[38;5;124mapplication/json\u001b[39m\u001b[38;5;124m\"\u001b[39m\n\u001b[0;32m--> 482\u001b[0m response \u001b[38;5;241m=\u001b[39m \u001b[38;5;28;43mself\u001b[39;49m\u001b[38;5;241;43m.\u001b[39;49m\u001b[43m_make_request\u001b[49m\u001b[43m(\u001b[49m\n\u001b[1;32m    483\u001b[0m \u001b[43m    \u001b[49m\u001b[43mmethod\u001b[49m\u001b[38;5;241;43m=\u001b[39;49m\u001b[43mmethod\u001b[49m\u001b[43m,\u001b[49m\n\u001b[1;32m    484\u001b[0m \u001b[43m    \u001b[49m\u001b[43murl\u001b[49m\u001b[38;5;241;43m=\u001b[39;49m\u001b[43murl\u001b[49m\u001b[43m,\u001b[49m\n\u001b[1;32m    485\u001b[0m \u001b[43m    \u001b[49m\u001b[43mdata\u001b[49m\u001b[38;5;241;43m=\u001b[39;49m\u001b[43mdata\u001b[49m\u001b[43m,\u001b[49m\n\u001b[1;32m    486\u001b[0m \u001b[43m    \u001b[49m\u001b[43mcontent_type\u001b[49m\u001b[38;5;241;43m=\u001b[39;49m\u001b[43mcontent_type\u001b[49m\u001b[43m,\u001b[49m\n\u001b[1;32m    487\u001b[0m \u001b[43m    \u001b[49m\u001b[43mheaders\u001b[49m\u001b[38;5;241;43m=\u001b[39;49m\u001b[43mheaders\u001b[49m\u001b[43m,\u001b[49m\n\u001b[1;32m    488\u001b[0m \u001b[43m    \u001b[49m\u001b[43mtarget_object\u001b[49m\u001b[38;5;241;43m=\u001b[39;49m\u001b[43m_target_object\u001b[49m\u001b[43m,\u001b[49m\n\u001b[1;32m    489\u001b[0m \u001b[43m    \u001b[49m\u001b[43mtimeout\u001b[49m\u001b[38;5;241;43m=\u001b[39;49m\u001b[43mtimeout\u001b[49m\u001b[43m,\u001b[49m\n\u001b[1;32m    490\u001b[0m \u001b[43m    \u001b[49m\u001b[43mextra_api_info\u001b[49m\u001b[38;5;241;43m=\u001b[39;49m\u001b[43mextra_api_info\u001b[49m\u001b[43m,\u001b[49m\n\u001b[1;32m    491\u001b[0m \u001b[43m\u001b[49m\u001b[43m)\u001b[49m\n\u001b[1;32m    493\u001b[0m \u001b[38;5;28;01mif\u001b[39;00m \u001b[38;5;129;01mnot\u001b[39;00m \u001b[38;5;241m200\u001b[39m \u001b[38;5;241m<\u001b[39m\u001b[38;5;241m=\u001b[39m response\u001b[38;5;241m.\u001b[39mstatus_code \u001b[38;5;241m<\u001b[39m \u001b[38;5;241m300\u001b[39m:\n\u001b[1;32m    494\u001b[0m     \u001b[38;5;28;01mraise\u001b[39;00m exceptions\u001b[38;5;241m.\u001b[39mfrom_http_response(response)\n",
      "File \u001b[0;32m~/nasaharvest/street2sat/venv/lib/python3.9/site-packages/google/cloud/_http/__init__.py:341\u001b[0m, in \u001b[0;36mJSONConnection._make_request\u001b[0;34m(self, method, url, data, content_type, headers, target_object, timeout, extra_api_info)\u001b[0m\n\u001b[1;32m    338\u001b[0m     headers[CLIENT_INFO_HEADER] \u001b[38;5;241m=\u001b[39m \u001b[38;5;28mself\u001b[39m\u001b[38;5;241m.\u001b[39muser_agent\n\u001b[1;32m    339\u001b[0m headers[\u001b[38;5;124m\"\u001b[39m\u001b[38;5;124mUser-Agent\u001b[39m\u001b[38;5;124m\"\u001b[39m] \u001b[38;5;241m=\u001b[39m \u001b[38;5;28mself\u001b[39m\u001b[38;5;241m.\u001b[39muser_agent\n\u001b[0;32m--> 341\u001b[0m \u001b[38;5;28;01mreturn\u001b[39;00m \u001b[38;5;28;43mself\u001b[39;49m\u001b[38;5;241;43m.\u001b[39;49m\u001b[43m_do_request\u001b[49m\u001b[43m(\u001b[49m\n\u001b[1;32m    342\u001b[0m \u001b[43m    \u001b[49m\u001b[43mmethod\u001b[49m\u001b[43m,\u001b[49m\u001b[43m \u001b[49m\u001b[43murl\u001b[49m\u001b[43m,\u001b[49m\u001b[43m \u001b[49m\u001b[43mheaders\u001b[49m\u001b[43m,\u001b[49m\u001b[43m \u001b[49m\u001b[43mdata\u001b[49m\u001b[43m,\u001b[49m\u001b[43m \u001b[49m\u001b[43mtarget_object\u001b[49m\u001b[43m,\u001b[49m\u001b[43m \u001b[49m\u001b[43mtimeout\u001b[49m\u001b[38;5;241;43m=\u001b[39;49m\u001b[43mtimeout\u001b[49m\n\u001b[1;32m    343\u001b[0m \u001b[43m\u001b[49m\u001b[43m)\u001b[49m\n",
      "File \u001b[0;32m~/nasaharvest/street2sat/venv/lib/python3.9/site-packages/google/cloud/_http/__init__.py:379\u001b[0m, in \u001b[0;36mJSONConnection._do_request\u001b[0;34m(self, method, url, headers, data, target_object, timeout)\u001b[0m\n\u001b[1;32m    345\u001b[0m \u001b[38;5;28;01mdef\u001b[39;00m \u001b[38;5;21m_do_request\u001b[39m(\n\u001b[1;32m    346\u001b[0m     \u001b[38;5;28mself\u001b[39m, method, url, headers, data, target_object, timeout\u001b[38;5;241m=\u001b[39m_DEFAULT_TIMEOUT\n\u001b[1;32m    347\u001b[0m ):  \u001b[38;5;66;03m# pylint: disable=unused-argument\u001b[39;00m\n\u001b[1;32m    348\u001b[0m \u001b[38;5;250m    \u001b[39m\u001b[38;5;124;03m\"\"\"Low-level helper:  perform the actual API request over HTTP.\u001b[39;00m\n\u001b[1;32m    349\u001b[0m \n\u001b[1;32m    350\u001b[0m \u001b[38;5;124;03m    Allows batch context managers to override and defer a request.\u001b[39;00m\n\u001b[0;32m   (...)\u001b[0m\n\u001b[1;32m    377\u001b[0m \u001b[38;5;124;03m    :returns: The HTTP response.\u001b[39;00m\n\u001b[1;32m    378\u001b[0m \u001b[38;5;124;03m    \"\"\"\u001b[39;00m\n\u001b[0;32m--> 379\u001b[0m     \u001b[38;5;28;01mreturn\u001b[39;00m \u001b[38;5;28;43mself\u001b[39;49m\u001b[38;5;241;43m.\u001b[39;49m\u001b[43mhttp\u001b[49m\u001b[38;5;241;43m.\u001b[39;49m\u001b[43mrequest\u001b[49m\u001b[43m(\u001b[49m\n\u001b[1;32m    380\u001b[0m \u001b[43m        \u001b[49m\u001b[43murl\u001b[49m\u001b[38;5;241;43m=\u001b[39;49m\u001b[43murl\u001b[49m\u001b[43m,\u001b[49m\u001b[43m \u001b[49m\u001b[43mmethod\u001b[49m\u001b[38;5;241;43m=\u001b[39;49m\u001b[43mmethod\u001b[49m\u001b[43m,\u001b[49m\u001b[43m \u001b[49m\u001b[43mheaders\u001b[49m\u001b[38;5;241;43m=\u001b[39;49m\u001b[43mheaders\u001b[49m\u001b[43m,\u001b[49m\u001b[43m \u001b[49m\u001b[43mdata\u001b[49m\u001b[38;5;241;43m=\u001b[39;49m\u001b[43mdata\u001b[49m\u001b[43m,\u001b[49m\u001b[43m \u001b[49m\u001b[43mtimeout\u001b[49m\u001b[38;5;241;43m=\u001b[39;49m\u001b[43mtimeout\u001b[49m\n\u001b[1;32m    381\u001b[0m \u001b[43m    \u001b[49m\u001b[43m)\u001b[49m\n",
      "File \u001b[0;32m~/nasaharvest/street2sat/venv/lib/python3.9/site-packages/google/auth/transport/requests.py:542\u001b[0m, in \u001b[0;36mAuthorizedSession.request\u001b[0;34m(self, method, url, data, headers, max_allowed_time, timeout, **kwargs)\u001b[0m\n\u001b[1;32m    539\u001b[0m remaining_time \u001b[38;5;241m=\u001b[39m guard\u001b[38;5;241m.\u001b[39mremaining_timeout\n\u001b[1;32m    541\u001b[0m \u001b[38;5;28;01mwith\u001b[39;00m TimeoutGuard(remaining_time) \u001b[38;5;28;01mas\u001b[39;00m guard:\n\u001b[0;32m--> 542\u001b[0m     response \u001b[38;5;241m=\u001b[39m \u001b[38;5;28;43msuper\u001b[39;49m\u001b[43m(\u001b[49m\u001b[43mAuthorizedSession\u001b[49m\u001b[43m,\u001b[49m\u001b[43m \u001b[49m\u001b[38;5;28;43mself\u001b[39;49m\u001b[43m)\u001b[49m\u001b[38;5;241;43m.\u001b[39;49m\u001b[43mrequest\u001b[49m\u001b[43m(\u001b[49m\n\u001b[1;32m    543\u001b[0m \u001b[43m        \u001b[49m\u001b[43mmethod\u001b[49m\u001b[43m,\u001b[49m\n\u001b[1;32m    544\u001b[0m \u001b[43m        \u001b[49m\u001b[43murl\u001b[49m\u001b[43m,\u001b[49m\n\u001b[1;32m    545\u001b[0m \u001b[43m        \u001b[49m\u001b[43mdata\u001b[49m\u001b[38;5;241;43m=\u001b[39;49m\u001b[43mdata\u001b[49m\u001b[43m,\u001b[49m\n\u001b[1;32m    546\u001b[0m \u001b[43m        \u001b[49m\u001b[43mheaders\u001b[49m\u001b[38;5;241;43m=\u001b[39;49m\u001b[43mrequest_headers\u001b[49m\u001b[43m,\u001b[49m\n\u001b[1;32m    547\u001b[0m \u001b[43m        \u001b[49m\u001b[43mtimeout\u001b[49m\u001b[38;5;241;43m=\u001b[39;49m\u001b[43mtimeout\u001b[49m\u001b[43m,\u001b[49m\n\u001b[1;32m    548\u001b[0m \u001b[43m        \u001b[49m\u001b[38;5;241;43m*\u001b[39;49m\u001b[38;5;241;43m*\u001b[39;49m\u001b[43mkwargs\u001b[49m\n\u001b[1;32m    549\u001b[0m \u001b[43m    \u001b[49m\u001b[43m)\u001b[49m\n\u001b[1;32m    550\u001b[0m remaining_time \u001b[38;5;241m=\u001b[39m guard\u001b[38;5;241m.\u001b[39mremaining_timeout\n\u001b[1;32m    552\u001b[0m \u001b[38;5;66;03m# If the response indicated that the credentials needed to be\u001b[39;00m\n\u001b[1;32m    553\u001b[0m \u001b[38;5;66;03m# refreshed, then refresh the credentials and re-attempt the\u001b[39;00m\n\u001b[1;32m    554\u001b[0m \u001b[38;5;66;03m# request.\u001b[39;00m\n\u001b[1;32m    555\u001b[0m \u001b[38;5;66;03m# A stored token may expire between the time it is retrieved and\u001b[39;00m\n\u001b[1;32m    556\u001b[0m \u001b[38;5;66;03m# the time the request is made, so we may need to try twice.\u001b[39;00m\n",
      "File \u001b[0;32m~/nasaharvest/street2sat/venv/lib/python3.9/site-packages/requests/sessions.py:589\u001b[0m, in \u001b[0;36mSession.request\u001b[0;34m(self, method, url, params, data, headers, cookies, files, auth, timeout, allow_redirects, proxies, hooks, stream, verify, cert, json)\u001b[0m\n\u001b[1;32m    584\u001b[0m send_kwargs \u001b[38;5;241m=\u001b[39m {\n\u001b[1;32m    585\u001b[0m     \u001b[38;5;124m\"\u001b[39m\u001b[38;5;124mtimeout\u001b[39m\u001b[38;5;124m\"\u001b[39m: timeout,\n\u001b[1;32m    586\u001b[0m     \u001b[38;5;124m\"\u001b[39m\u001b[38;5;124mallow_redirects\u001b[39m\u001b[38;5;124m\"\u001b[39m: allow_redirects,\n\u001b[1;32m    587\u001b[0m }\n\u001b[1;32m    588\u001b[0m send_kwargs\u001b[38;5;241m.\u001b[39mupdate(settings)\n\u001b[0;32m--> 589\u001b[0m resp \u001b[38;5;241m=\u001b[39m \u001b[38;5;28;43mself\u001b[39;49m\u001b[38;5;241;43m.\u001b[39;49m\u001b[43msend\u001b[49m\u001b[43m(\u001b[49m\u001b[43mprep\u001b[49m\u001b[43m,\u001b[49m\u001b[43m \u001b[49m\u001b[38;5;241;43m*\u001b[39;49m\u001b[38;5;241;43m*\u001b[39;49m\u001b[43msend_kwargs\u001b[49m\u001b[43m)\u001b[49m\n\u001b[1;32m    591\u001b[0m \u001b[38;5;28;01mreturn\u001b[39;00m resp\n",
      "File \u001b[0;32m~/nasaharvest/street2sat/venv/lib/python3.9/site-packages/requests/sessions.py:703\u001b[0m, in \u001b[0;36mSession.send\u001b[0;34m(self, request, **kwargs)\u001b[0m\n\u001b[1;32m    700\u001b[0m start \u001b[38;5;241m=\u001b[39m preferred_clock()\n\u001b[1;32m    702\u001b[0m \u001b[38;5;66;03m# Send the request\u001b[39;00m\n\u001b[0;32m--> 703\u001b[0m r \u001b[38;5;241m=\u001b[39m \u001b[43madapter\u001b[49m\u001b[38;5;241;43m.\u001b[39;49m\u001b[43msend\u001b[49m\u001b[43m(\u001b[49m\u001b[43mrequest\u001b[49m\u001b[43m,\u001b[49m\u001b[43m \u001b[49m\u001b[38;5;241;43m*\u001b[39;49m\u001b[38;5;241;43m*\u001b[39;49m\u001b[43mkwargs\u001b[49m\u001b[43m)\u001b[49m\n\u001b[1;32m    705\u001b[0m \u001b[38;5;66;03m# Total elapsed time of the request (approximately)\u001b[39;00m\n\u001b[1;32m    706\u001b[0m elapsed \u001b[38;5;241m=\u001b[39m preferred_clock() \u001b[38;5;241m-\u001b[39m start\n",
      "File \u001b[0;32m~/nasaharvest/street2sat/venv/lib/python3.9/site-packages/requests/adapters.py:486\u001b[0m, in \u001b[0;36mHTTPAdapter.send\u001b[0;34m(self, request, stream, timeout, verify, cert, proxies)\u001b[0m\n\u001b[1;32m    483\u001b[0m     timeout \u001b[38;5;241m=\u001b[39m TimeoutSauce(connect\u001b[38;5;241m=\u001b[39mtimeout, read\u001b[38;5;241m=\u001b[39mtimeout)\n\u001b[1;32m    485\u001b[0m \u001b[38;5;28;01mtry\u001b[39;00m:\n\u001b[0;32m--> 486\u001b[0m     resp \u001b[38;5;241m=\u001b[39m \u001b[43mconn\u001b[49m\u001b[38;5;241;43m.\u001b[39;49m\u001b[43murlopen\u001b[49m\u001b[43m(\u001b[49m\n\u001b[1;32m    487\u001b[0m \u001b[43m        \u001b[49m\u001b[43mmethod\u001b[49m\u001b[38;5;241;43m=\u001b[39;49m\u001b[43mrequest\u001b[49m\u001b[38;5;241;43m.\u001b[39;49m\u001b[43mmethod\u001b[49m\u001b[43m,\u001b[49m\n\u001b[1;32m    488\u001b[0m \u001b[43m        \u001b[49m\u001b[43murl\u001b[49m\u001b[38;5;241;43m=\u001b[39;49m\u001b[43murl\u001b[49m\u001b[43m,\u001b[49m\n\u001b[1;32m    489\u001b[0m \u001b[43m        \u001b[49m\u001b[43mbody\u001b[49m\u001b[38;5;241;43m=\u001b[39;49m\u001b[43mrequest\u001b[49m\u001b[38;5;241;43m.\u001b[39;49m\u001b[43mbody\u001b[49m\u001b[43m,\u001b[49m\n\u001b[1;32m    490\u001b[0m \u001b[43m        \u001b[49m\u001b[43mheaders\u001b[49m\u001b[38;5;241;43m=\u001b[39;49m\u001b[43mrequest\u001b[49m\u001b[38;5;241;43m.\u001b[39;49m\u001b[43mheaders\u001b[49m\u001b[43m,\u001b[49m\n\u001b[1;32m    491\u001b[0m \u001b[43m        \u001b[49m\u001b[43mredirect\u001b[49m\u001b[38;5;241;43m=\u001b[39;49m\u001b[38;5;28;43;01mFalse\u001b[39;49;00m\u001b[43m,\u001b[49m\n\u001b[1;32m    492\u001b[0m \u001b[43m        \u001b[49m\u001b[43massert_same_host\u001b[49m\u001b[38;5;241;43m=\u001b[39;49m\u001b[38;5;28;43;01mFalse\u001b[39;49;00m\u001b[43m,\u001b[49m\n\u001b[1;32m    493\u001b[0m \u001b[43m        \u001b[49m\u001b[43mpreload_content\u001b[49m\u001b[38;5;241;43m=\u001b[39;49m\u001b[38;5;28;43;01mFalse\u001b[39;49;00m\u001b[43m,\u001b[49m\n\u001b[1;32m    494\u001b[0m \u001b[43m        \u001b[49m\u001b[43mdecode_content\u001b[49m\u001b[38;5;241;43m=\u001b[39;49m\u001b[38;5;28;43;01mFalse\u001b[39;49;00m\u001b[43m,\u001b[49m\n\u001b[1;32m    495\u001b[0m \u001b[43m        \u001b[49m\u001b[43mretries\u001b[49m\u001b[38;5;241;43m=\u001b[39;49m\u001b[38;5;28;43mself\u001b[39;49m\u001b[38;5;241;43m.\u001b[39;49m\u001b[43mmax_retries\u001b[49m\u001b[43m,\u001b[49m\n\u001b[1;32m    496\u001b[0m \u001b[43m        \u001b[49m\u001b[43mtimeout\u001b[49m\u001b[38;5;241;43m=\u001b[39;49m\u001b[43mtimeout\u001b[49m\u001b[43m,\u001b[49m\n\u001b[1;32m    497\u001b[0m \u001b[43m        \u001b[49m\u001b[43mchunked\u001b[49m\u001b[38;5;241;43m=\u001b[39;49m\u001b[43mchunked\u001b[49m\u001b[43m,\u001b[49m\n\u001b[1;32m    498\u001b[0m \u001b[43m    \u001b[49m\u001b[43m)\u001b[49m\n\u001b[1;32m    500\u001b[0m \u001b[38;5;28;01mexcept\u001b[39;00m (ProtocolError, \u001b[38;5;167;01mOSError\u001b[39;00m) \u001b[38;5;28;01mas\u001b[39;00m err:\n\u001b[1;32m    501\u001b[0m     \u001b[38;5;28;01mraise\u001b[39;00m \u001b[38;5;167;01mConnectionError\u001b[39;00m(err, request\u001b[38;5;241m=\u001b[39mrequest)\n",
      "File \u001b[0;32m~/nasaharvest/street2sat/venv/lib/python3.9/site-packages/urllib3/connectionpool.py:790\u001b[0m, in \u001b[0;36mHTTPConnectionPool.urlopen\u001b[0;34m(self, method, url, body, headers, retries, redirect, assert_same_host, timeout, pool_timeout, release_conn, chunked, body_pos, preload_content, decode_content, **response_kw)\u001b[0m\n\u001b[1;32m    787\u001b[0m response_conn \u001b[38;5;241m=\u001b[39m conn \u001b[38;5;28;01mif\u001b[39;00m \u001b[38;5;129;01mnot\u001b[39;00m release_conn \u001b[38;5;28;01melse\u001b[39;00m \u001b[38;5;28;01mNone\u001b[39;00m\n\u001b[1;32m    789\u001b[0m \u001b[38;5;66;03m# Make the request on the HTTPConnection object\u001b[39;00m\n\u001b[0;32m--> 790\u001b[0m response \u001b[38;5;241m=\u001b[39m \u001b[38;5;28;43mself\u001b[39;49m\u001b[38;5;241;43m.\u001b[39;49m\u001b[43m_make_request\u001b[49m\u001b[43m(\u001b[49m\n\u001b[1;32m    791\u001b[0m \u001b[43m    \u001b[49m\u001b[43mconn\u001b[49m\u001b[43m,\u001b[49m\n\u001b[1;32m    792\u001b[0m \u001b[43m    \u001b[49m\u001b[43mmethod\u001b[49m\u001b[43m,\u001b[49m\n\u001b[1;32m    793\u001b[0m \u001b[43m    \u001b[49m\u001b[43murl\u001b[49m\u001b[43m,\u001b[49m\n\u001b[1;32m    794\u001b[0m \u001b[43m    \u001b[49m\u001b[43mtimeout\u001b[49m\u001b[38;5;241;43m=\u001b[39;49m\u001b[43mtimeout_obj\u001b[49m\u001b[43m,\u001b[49m\n\u001b[1;32m    795\u001b[0m \u001b[43m    \u001b[49m\u001b[43mbody\u001b[49m\u001b[38;5;241;43m=\u001b[39;49m\u001b[43mbody\u001b[49m\u001b[43m,\u001b[49m\n\u001b[1;32m    796\u001b[0m \u001b[43m    \u001b[49m\u001b[43mheaders\u001b[49m\u001b[38;5;241;43m=\u001b[39;49m\u001b[43mheaders\u001b[49m\u001b[43m,\u001b[49m\n\u001b[1;32m    797\u001b[0m \u001b[43m    \u001b[49m\u001b[43mchunked\u001b[49m\u001b[38;5;241;43m=\u001b[39;49m\u001b[43mchunked\u001b[49m\u001b[43m,\u001b[49m\n\u001b[1;32m    798\u001b[0m \u001b[43m    \u001b[49m\u001b[43mretries\u001b[49m\u001b[38;5;241;43m=\u001b[39;49m\u001b[43mretries\u001b[49m\u001b[43m,\u001b[49m\n\u001b[1;32m    799\u001b[0m \u001b[43m    \u001b[49m\u001b[43mresponse_conn\u001b[49m\u001b[38;5;241;43m=\u001b[39;49m\u001b[43mresponse_conn\u001b[49m\u001b[43m,\u001b[49m\n\u001b[1;32m    800\u001b[0m \u001b[43m    \u001b[49m\u001b[43mpreload_content\u001b[49m\u001b[38;5;241;43m=\u001b[39;49m\u001b[43mpreload_content\u001b[49m\u001b[43m,\u001b[49m\n\u001b[1;32m    801\u001b[0m \u001b[43m    \u001b[49m\u001b[43mdecode_content\u001b[49m\u001b[38;5;241;43m=\u001b[39;49m\u001b[43mdecode_content\u001b[49m\u001b[43m,\u001b[49m\n\u001b[1;32m    802\u001b[0m \u001b[43m    \u001b[49m\u001b[38;5;241;43m*\u001b[39;49m\u001b[38;5;241;43m*\u001b[39;49m\u001b[43mresponse_kw\u001b[49m\u001b[43m,\u001b[49m\n\u001b[1;32m    803\u001b[0m \u001b[43m\u001b[49m\u001b[43m)\u001b[49m\n\u001b[1;32m    805\u001b[0m \u001b[38;5;66;03m# Everything went great!\u001b[39;00m\n\u001b[1;32m    806\u001b[0m clean_exit \u001b[38;5;241m=\u001b[39m \u001b[38;5;28;01mTrue\u001b[39;00m\n",
      "File \u001b[0;32m~/nasaharvest/street2sat/venv/lib/python3.9/site-packages/urllib3/connectionpool.py:536\u001b[0m, in \u001b[0;36mHTTPConnectionPool._make_request\u001b[0;34m(self, conn, method, url, body, headers, retries, timeout, chunked, response_conn, preload_content, decode_content, enforce_content_length)\u001b[0m\n\u001b[1;32m    534\u001b[0m \u001b[38;5;66;03m# Receive the response from the server\u001b[39;00m\n\u001b[1;32m    535\u001b[0m \u001b[38;5;28;01mtry\u001b[39;00m:\n\u001b[0;32m--> 536\u001b[0m     response \u001b[38;5;241m=\u001b[39m \u001b[43mconn\u001b[49m\u001b[38;5;241;43m.\u001b[39;49m\u001b[43mgetresponse\u001b[49m\u001b[43m(\u001b[49m\u001b[43m)\u001b[49m\n\u001b[1;32m    537\u001b[0m \u001b[38;5;28;01mexcept\u001b[39;00m (BaseSSLError, \u001b[38;5;167;01mOSError\u001b[39;00m) \u001b[38;5;28;01mas\u001b[39;00m e:\n\u001b[1;32m    538\u001b[0m     \u001b[38;5;28mself\u001b[39m\u001b[38;5;241m.\u001b[39m_raise_timeout(err\u001b[38;5;241m=\u001b[39me, url\u001b[38;5;241m=\u001b[39murl, timeout_value\u001b[38;5;241m=\u001b[39mread_timeout)\n",
      "File \u001b[0;32m~/nasaharvest/street2sat/venv/lib/python3.9/site-packages/urllib3/connection.py:461\u001b[0m, in \u001b[0;36mHTTPConnection.getresponse\u001b[0;34m(self)\u001b[0m\n\u001b[1;32m    458\u001b[0m \u001b[38;5;28;01mfrom\u001b[39;00m \u001b[38;5;21;01m.\u001b[39;00m\u001b[38;5;21;01mresponse\u001b[39;00m \u001b[38;5;28;01mimport\u001b[39;00m HTTPResponse\n\u001b[1;32m    460\u001b[0m \u001b[38;5;66;03m# Get the response from http.client.HTTPConnection\u001b[39;00m\n\u001b[0;32m--> 461\u001b[0m httplib_response \u001b[38;5;241m=\u001b[39m \u001b[38;5;28;43msuper\u001b[39;49m\u001b[43m(\u001b[49m\u001b[43m)\u001b[49m\u001b[38;5;241;43m.\u001b[39;49m\u001b[43mgetresponse\u001b[49m\u001b[43m(\u001b[49m\u001b[43m)\u001b[49m\n\u001b[1;32m    463\u001b[0m \u001b[38;5;28;01mtry\u001b[39;00m:\n\u001b[1;32m    464\u001b[0m     assert_header_parsing(httplib_response\u001b[38;5;241m.\u001b[39mmsg)\n",
      "File \u001b[0;32m/usr/local/Caskroom/miniconda/base/lib/python3.9/http/client.py:1377\u001b[0m, in \u001b[0;36mHTTPConnection.getresponse\u001b[0;34m(self)\u001b[0m\n\u001b[1;32m   1375\u001b[0m \u001b[38;5;28;01mtry\u001b[39;00m:\n\u001b[1;32m   1376\u001b[0m     \u001b[38;5;28;01mtry\u001b[39;00m:\n\u001b[0;32m-> 1377\u001b[0m         \u001b[43mresponse\u001b[49m\u001b[38;5;241;43m.\u001b[39;49m\u001b[43mbegin\u001b[49m\u001b[43m(\u001b[49m\u001b[43m)\u001b[49m\n\u001b[1;32m   1378\u001b[0m     \u001b[38;5;28;01mexcept\u001b[39;00m \u001b[38;5;167;01mConnectionError\u001b[39;00m:\n\u001b[1;32m   1379\u001b[0m         \u001b[38;5;28mself\u001b[39m\u001b[38;5;241m.\u001b[39mclose()\n",
      "File \u001b[0;32m/usr/local/Caskroom/miniconda/base/lib/python3.9/http/client.py:320\u001b[0m, in \u001b[0;36mHTTPResponse.begin\u001b[0;34m(self)\u001b[0m\n\u001b[1;32m    318\u001b[0m \u001b[38;5;66;03m# read until we get a non-100 response\u001b[39;00m\n\u001b[1;32m    319\u001b[0m \u001b[38;5;28;01mwhile\u001b[39;00m \u001b[38;5;28;01mTrue\u001b[39;00m:\n\u001b[0;32m--> 320\u001b[0m     version, status, reason \u001b[38;5;241m=\u001b[39m \u001b[38;5;28;43mself\u001b[39;49m\u001b[38;5;241;43m.\u001b[39;49m\u001b[43m_read_status\u001b[49m\u001b[43m(\u001b[49m\u001b[43m)\u001b[49m\n\u001b[1;32m    321\u001b[0m     \u001b[38;5;28;01mif\u001b[39;00m status \u001b[38;5;241m!=\u001b[39m CONTINUE:\n\u001b[1;32m    322\u001b[0m         \u001b[38;5;28;01mbreak\u001b[39;00m\n",
      "File \u001b[0;32m/usr/local/Caskroom/miniconda/base/lib/python3.9/http/client.py:281\u001b[0m, in \u001b[0;36mHTTPResponse._read_status\u001b[0;34m(self)\u001b[0m\n\u001b[1;32m    280\u001b[0m \u001b[38;5;28;01mdef\u001b[39;00m \u001b[38;5;21m_read_status\u001b[39m(\u001b[38;5;28mself\u001b[39m):\n\u001b[0;32m--> 281\u001b[0m     line \u001b[38;5;241m=\u001b[39m \u001b[38;5;28mstr\u001b[39m(\u001b[38;5;28;43mself\u001b[39;49m\u001b[38;5;241;43m.\u001b[39;49m\u001b[43mfp\u001b[49m\u001b[38;5;241;43m.\u001b[39;49m\u001b[43mreadline\u001b[49m\u001b[43m(\u001b[49m\u001b[43m_MAXLINE\u001b[49m\u001b[43m \u001b[49m\u001b[38;5;241;43m+\u001b[39;49m\u001b[43m \u001b[49m\u001b[38;5;241;43m1\u001b[39;49m\u001b[43m)\u001b[49m, \u001b[38;5;124m\"\u001b[39m\u001b[38;5;124miso-8859-1\u001b[39m\u001b[38;5;124m\"\u001b[39m)\n\u001b[1;32m    282\u001b[0m     \u001b[38;5;28;01mif\u001b[39;00m \u001b[38;5;28mlen\u001b[39m(line) \u001b[38;5;241m>\u001b[39m _MAXLINE:\n\u001b[1;32m    283\u001b[0m         \u001b[38;5;28;01mraise\u001b[39;00m LineTooLong(\u001b[38;5;124m\"\u001b[39m\u001b[38;5;124mstatus line\u001b[39m\u001b[38;5;124m\"\u001b[39m)\n",
      "File \u001b[0;32m/usr/local/Caskroom/miniconda/base/lib/python3.9/socket.py:704\u001b[0m, in \u001b[0;36mSocketIO.readinto\u001b[0;34m(self, b)\u001b[0m\n\u001b[1;32m    702\u001b[0m \u001b[38;5;28;01mwhile\u001b[39;00m \u001b[38;5;28;01mTrue\u001b[39;00m:\n\u001b[1;32m    703\u001b[0m     \u001b[38;5;28;01mtry\u001b[39;00m:\n\u001b[0;32m--> 704\u001b[0m         \u001b[38;5;28;01mreturn\u001b[39;00m \u001b[38;5;28;43mself\u001b[39;49m\u001b[38;5;241;43m.\u001b[39;49m\u001b[43m_sock\u001b[49m\u001b[38;5;241;43m.\u001b[39;49m\u001b[43mrecv_into\u001b[49m\u001b[43m(\u001b[49m\u001b[43mb\u001b[49m\u001b[43m)\u001b[49m\n\u001b[1;32m    705\u001b[0m     \u001b[38;5;28;01mexcept\u001b[39;00m timeout:\n\u001b[1;32m    706\u001b[0m         \u001b[38;5;28mself\u001b[39m\u001b[38;5;241m.\u001b[39m_timeout_occurred \u001b[38;5;241m=\u001b[39m \u001b[38;5;28;01mTrue\u001b[39;00m\n",
      "File \u001b[0;32m/usr/local/Caskroom/miniconda/base/lib/python3.9/ssl.py:1241\u001b[0m, in \u001b[0;36mSSLSocket.recv_into\u001b[0;34m(self, buffer, nbytes, flags)\u001b[0m\n\u001b[1;32m   1237\u001b[0m     \u001b[38;5;28;01mif\u001b[39;00m flags \u001b[38;5;241m!=\u001b[39m \u001b[38;5;241m0\u001b[39m:\n\u001b[1;32m   1238\u001b[0m         \u001b[38;5;28;01mraise\u001b[39;00m \u001b[38;5;167;01mValueError\u001b[39;00m(\n\u001b[1;32m   1239\u001b[0m           \u001b[38;5;124m\"\u001b[39m\u001b[38;5;124mnon-zero flags not allowed in calls to recv_into() on \u001b[39m\u001b[38;5;132;01m%s\u001b[39;00m\u001b[38;5;124m\"\u001b[39m \u001b[38;5;241m%\u001b[39m\n\u001b[1;32m   1240\u001b[0m           \u001b[38;5;28mself\u001b[39m\u001b[38;5;241m.\u001b[39m\u001b[38;5;18m__class__\u001b[39m)\n\u001b[0;32m-> 1241\u001b[0m     \u001b[38;5;28;01mreturn\u001b[39;00m \u001b[38;5;28;43mself\u001b[39;49m\u001b[38;5;241;43m.\u001b[39;49m\u001b[43mread\u001b[49m\u001b[43m(\u001b[49m\u001b[43mnbytes\u001b[49m\u001b[43m,\u001b[49m\u001b[43m \u001b[49m\u001b[43mbuffer\u001b[49m\u001b[43m)\u001b[49m\n\u001b[1;32m   1242\u001b[0m \u001b[38;5;28;01melse\u001b[39;00m:\n\u001b[1;32m   1243\u001b[0m     \u001b[38;5;28;01mreturn\u001b[39;00m \u001b[38;5;28msuper\u001b[39m()\u001b[38;5;241m.\u001b[39mrecv_into(buffer, nbytes, flags)\n",
      "File \u001b[0;32m/usr/local/Caskroom/miniconda/base/lib/python3.9/ssl.py:1099\u001b[0m, in \u001b[0;36mSSLSocket.read\u001b[0;34m(self, len, buffer)\u001b[0m\n\u001b[1;32m   1097\u001b[0m \u001b[38;5;28;01mtry\u001b[39;00m:\n\u001b[1;32m   1098\u001b[0m     \u001b[38;5;28;01mif\u001b[39;00m buffer \u001b[38;5;129;01mis\u001b[39;00m \u001b[38;5;129;01mnot\u001b[39;00m \u001b[38;5;28;01mNone\u001b[39;00m:\n\u001b[0;32m-> 1099\u001b[0m         \u001b[38;5;28;01mreturn\u001b[39;00m \u001b[38;5;28;43mself\u001b[39;49m\u001b[38;5;241;43m.\u001b[39;49m\u001b[43m_sslobj\u001b[49m\u001b[38;5;241;43m.\u001b[39;49m\u001b[43mread\u001b[49m\u001b[43m(\u001b[49m\u001b[38;5;28;43mlen\u001b[39;49m\u001b[43m,\u001b[49m\u001b[43m \u001b[49m\u001b[43mbuffer\u001b[49m\u001b[43m)\u001b[49m\n\u001b[1;32m   1100\u001b[0m     \u001b[38;5;28;01melse\u001b[39;00m:\n\u001b[1;32m   1101\u001b[0m         \u001b[38;5;28;01mreturn\u001b[39;00m \u001b[38;5;28mself\u001b[39m\u001b[38;5;241m.\u001b[39m_sslobj\u001b[38;5;241m.\u001b[39mread(\u001b[38;5;28mlen\u001b[39m)\n",
      "\u001b[0;31mKeyboardInterrupt\u001b[0m: "
     ]
    }
   ],
   "source": [
    "# 1282\n",
    "# 1000 takes 30 mins\n",
    "for i in tqdm(range(0, 2000)):\n",
    "    if country_df.iloc[i][\"input_img\"].endswith(\".THM\"):\n",
    "        continue\n",
    "    resp = hello_world(MockRequest({\"name\": country_df.iloc[i][\"name\"]}))\n",
    "    print(resp)"
   ]
  },
  {
   "cell_type": "code",
   "execution_count": 155,
   "id": "7176ca59-a0d8-40eb-82db-df47cd3b10ef",
   "metadata": {},
   "outputs": [
    {
     "name": "stderr",
     "output_type": "stream",
     "text": [
      "/Users/izvonkov/nasaharvest/street2sat/venv/lib/python3.9/site-packages/google/cloud/firestore_v1/base_collection.py:290: UserWarning: Detected filter using positional arguments. Prefer using the 'filter' keyword argument instead.\n",
      "  return query.where(field_path, op_string, value)\n"
     ]
    },
    {
     "name": "stdout",
     "output_type": "stream",
     "text": [
      "As of 2023-11-21 17:21:39.671336+00:00 number of entries: 1221627\n"
     ]
    }
   ],
   "source": [
    "# TODO regenerate data/street2sat-v2.csv\n",
    "db = firestore.Client()\n",
    "coll = db.collection(\"street2sat-v2\").where(\"is_crop\", \"==\", True)\n",
    "\n",
    "result = coll.count().get()\n",
    "entry_count = result[0][0].value\n",
    "print(f\"As of {result[0][0].read_time} number of entries: {entry_count}\")"
   ]
  },
  {
   "cell_type": "code",
   "execution_count": 156,
   "id": "5bb1f691-bc13-476e-b06c-488bfd2d516b",
   "metadata": {},
   "outputs": [
    {
     "name": "stderr",
     "output_type": "stream",
     "text": [
      "Queries: 100%|██████████████████████████████| 1222/1222 [17:38<00:00,  1.15it/s]\n"
     ]
    }
   ],
   "source": [
    "total_runs = (entry_count // 1000) + 1\n",
    "all_docs = []\n",
    "docs = coll.order_by(\"input_img\")\n",
    "for i in tqdm(range(total_runs), desc=\"Queries\"):\n",
    "    for doc in docs.limit(1000).stream():\n",
    "        all_docs.append(doc.to_dict())\n",
    "    last_input_img = all_docs[-1][\"input_img\"]\n",
    "    docs = coll.order_by(\"input_img\").start_after({\"input_img\": last_input_img})"
   ]
  },
  {
   "cell_type": "code",
   "execution_count": 157,
   "id": "98f66774-3736-4c34-bd07-1da058ac0476",
   "metadata": {},
   "outputs": [],
   "source": [
    "df = pd.DataFrame(all_docs)"
   ]
  },
  {
   "cell_type": "code",
   "execution_count": 158,
   "id": "ee8e89fc-9830-4518-bccd-430caa3d0c0a",
   "metadata": {},
   "outputs": [],
   "source": [
    "df = df[~df[\"bing_field_coord\"].isna() | ~df[\"mapbox_field_coord\"].isna()]"
   ]
  },
  {
   "cell_type": "code",
   "execution_count": 159,
   "id": "62022fe4-5568-46b6-b702-fabbd73d2a98",
   "metadata": {},
   "outputs": [],
   "source": [
    "df = df[~df[\"results\"].isna()]\n",
    "df = df[~df[\"coord\"].isna()].copy().reset_index()"
   ]
  },
  {
   "cell_type": "code",
   "execution_count": 160,
   "id": "aa76df24-e81f-4a8b-b136-897ded11bbf2",
   "metadata": {},
   "outputs": [
    {
     "data": {
      "text/plain": [
       "9712"
      ]
     },
     "execution_count": 160,
     "metadata": {},
     "output_type": "execute_result"
    }
   ],
   "source": [
    "len(df)"
   ]
  },
  {
   "cell_type": "code",
   "execution_count": 161,
   "id": "0646826a-85c6-4f5c-bc4a-ce22f2d3e832",
   "metadata": {},
   "outputs": [],
   "source": [
    "predictions = pd.json_normalize(df[\"results\"])\n",
    "crops = list(predictions.columns[1:])\n",
    "df = pd.concat([df, predictions], axis=1)\n",
    "df[\"dominant_crop\"] = df[crops].apply(lambda x: max(dict(x), key=dict(x).get), axis=1)"
   ]
  },
  {
   "cell_type": "code",
   "execution_count": 162,
   "id": "6df8bbd7-9bc8-4685-8df4-e7a20ad5bb76",
   "metadata": {},
   "outputs": [],
   "source": [
    "input_img_str_split = df[\"input_img\"].str.split(\"/\")\n",
    "df[\"country_folder\"] = input_img_str_split.str[3]\n",
    "df[\"country_subfolder\"] = input_img_str_split.str[4]"
   ]
  },
  {
   "cell_type": "code",
   "execution_count": 163,
   "id": "08ecd17b-7f52-48dc-aaae-f74944c3cc6c",
   "metadata": {},
   "outputs": [],
   "source": [
    "df[\"road_lat\"] = df[\"coord\"].map(lambda coord: coord[0])\n",
    "df[\"road_lon\"] = df[\"coord\"].map(lambda coord: coord[1])"
   ]
  },
  {
   "cell_type": "code",
   "execution_count": 164,
   "id": "933a2283-e119-40ad-a992-8b490bb74428",
   "metadata": {},
   "outputs": [
    {
     "data": {
      "text/plain": [
       "country_folder\n",
       "NIGERIA_v2    1983\n",
       "Uganda_v2     1972\n",
       "KENYA_v2      1968\n",
       "USA_v2        1908\n",
       "ZAMBIA_v2     1881\n",
       "Name: count, dtype: int64"
      ]
     },
     "execution_count": 164,
     "metadata": {},
     "output_type": "execute_result"
    }
   ],
   "source": [
    "df[\"country_folder\"].value_counts()"
   ]
  },
  {
   "cell_type": "code",
   "execution_count": 165,
   "id": "2fe706b2-2f5e-4179-b1c7-479c92e134fa",
   "metadata": {},
   "outputs": [],
   "source": [
    "df.to_csv(\"../data/street2sat-v2-points-in-field.csv\", index=False)"
   ]
  },
  {
   "cell_type": "code",
   "execution_count": 169,
   "id": "b5490f1f-86d3-4851-bd41-7b95e9594b9a",
   "metadata": {},
   "outputs": [],
   "source": [
    "df[\"key\"] = df[\"name\"]\n",
    "df[\"name\"] = df[\"dominant_crop\"]"
   ]
  },
  {
   "cell_type": "code",
   "execution_count": 170,
   "id": "8ec53e2a-3cd5-4ba1-8611-ca5921de7a9b",
   "metadata": {},
   "outputs": [],
   "source": [
    "def generate_gdf(cols, lon, lat):\n",
    "    points = gpd.points_from_xy(df[lon], df[lat], crs=\"EPSG:4326\")\n",
    "    gdf = gpd.GeoDataFrame(df[cols], geometry=points)\n",
    "    return gdf\n",
    "\n",
    "road_cols = [\"input_img\", \"name\", \"time\"] + crops\n",
    "bing_cols = [\"input_img\", \"name\", \"time\", \"bing_img_source\", \"bing_img_segmentation\"] + crops\n",
    "mapbox_cols = [\"input_img\", \"name\", \"time\", \"mapbox_img_source\", \"mapbox_img_segmentation\"] + crops\n",
    "\n",
    "gdf_road = generate_gdf(cols=road_cols, lat=\"road_lat\", lon=\"road_lon\")\n",
    "gdf_bing = generate_gdf(cols=bing_cols, lat=\"bing_field_coord_lat\", lon=\"bing_field_coord_lon\")\n",
    "gdf_mapbox = generate_gdf(cols=mapbox_cols, lat=\"mapbox_field_coord_lat\", lon=\"mapbox_field_coord_lon\")"
   ]
  },
  {
   "cell_type": "code",
   "execution_count": 171,
   "id": "7dabd5bf-9f2f-4e58-a0d5-4b8c7056a198",
   "metadata": {},
   "outputs": [],
   "source": [
    "Path(\"../data/points\").mkdir(exist_ok=True)"
   ]
  },
  {
   "cell_type": "code",
   "execution_count": 172,
   "id": "2672ffe8-e485-453a-98cf-67ed75e234fa",
   "metadata": {},
   "outputs": [],
   "source": [
    "gdf_road.to_file(\"../data/points/road.geojson\", driver=\"GeoJSON\")\n",
    "gdf_bing.to_file(\"../data/points/field_bing.geojson\", driver=\"GeoJSON\")\n",
    "gdf_mapbox.to_file(\"../data/points/field_mapbox.geojson\", driver=\"GeoJSON\")"
   ]
  },
  {
   "cell_type": "code",
   "execution_count": null,
   "id": "bc213ff1-a100-40d1-9483-b8240f44c944",
   "metadata": {},
   "outputs": [],
   "source": []
  }
 ],
 "metadata": {
  "kernelspec": {
   "display_name": "Python 3 (ipykernel)",
   "language": "python",
   "name": "python3"
  },
  "language_info": {
   "codemirror_mode": {
    "name": "ipython",
    "version": 3
   },
   "file_extension": ".py",
   "mimetype": "text/x-python",
   "name": "python",
   "nbconvert_exporter": "python",
   "pygments_lexer": "ipython3",
   "version": "3.9.12"
  }
 },
 "nbformat": 4,
 "nbformat_minor": 5
}
