{
 "cells": [
  {
   "cell_type": "markdown",
   "id": "ce5509f2-30f5-479d-8f27-7d25e52801df",
   "metadata": {},
   "source": [
    "# Trigger Satellite Segmentation\n",
    "\n",
    "Description: Triggers satellite segmentation by going through crop db entries, fetching satellite image, adding arrow and triggering satellite segmentation + field point prediction.\n",
    "\n",
    "Author: Ivan Zvonkov\n",
    "\n",
    "Date: Nov 10, 2023\n"
   ]
  },
  {
   "cell_type": "code",
   "execution_count": 1,
   "id": "bedd3ab5-6566-472f-9b03-8a2af5dcb699",
   "metadata": {},
   "outputs": [],
   "source": [
    "import pandas as pd\n",
    "import sys\n",
    "\n",
    "from google.cloud import firestore\n",
    "from tqdm import tqdm\n",
    "\n",
    "sys.path.append(\"..\")\n",
    "\n",
    "from gcp.get_satellite_img.main import hello_world"
   ]
  },
  {
   "cell_type": "code",
   "execution_count": 2,
   "id": "913d9071-e9c4-4a66-8da7-85e5fc48ac7b",
   "metadata": {},
   "outputs": [
    {
     "name": "stderr",
     "output_type": "stream",
     "text": [
      "/var/folders/1v/87y9n_d5143c_6cp072v3b1c0000gn/T/ipykernel_97424/2016021947.py:1: DtypeWarning: Columns (10,13,14,15,17,18) have mixed types. Specify dtype option on import or set low_memory=False.\n",
      "  df_all = pd.read_csv(\"../data/street2sat-v2.csv\")\n"
     ]
    }
   ],
   "source": [
    "df_all = pd.read_csv(\"../data/street2sat-v2.csv\")"
   ]
  },
  {
   "cell_type": "code",
   "execution_count": 3,
   "id": "6c5541c4-9247-411e-8660-6b57c51ed80d",
   "metadata": {},
   "outputs": [],
   "source": [
    "df_crops = df_all[df_all[\"is_crop\"] == True]"
   ]
  },
  {
   "cell_type": "code",
   "execution_count": 4,
   "id": "4b9f9852-80fc-44f4-bd18-802032cc6526",
   "metadata": {},
   "outputs": [
    {
     "data": {
      "text/plain": [
       "1221627"
      ]
     },
     "execution_count": 4,
     "metadata": {},
     "output_type": "execute_result"
    }
   ],
   "source": [
    "len(df_crops)"
   ]
  },
  {
   "cell_type": "code",
   "execution_count": 5,
   "id": "cd1080af-e647-4ba3-88b3-98a94f33707a",
   "metadata": {},
   "outputs": [],
   "source": [
    "class MockRequest:\n",
    "    def __init__(self, request):\n",
    "        self.request_json = request\n",
    "    \n",
    "    def get_json(self, silent):\n",
    "        return self.request_json"
   ]
  },
  {
   "cell_type": "code",
   "execution_count": 14,
   "id": "55efaa4d-329e-4f42-9917-73489c160da5",
   "metadata": {},
   "outputs": [
    {
     "name": "stderr",
     "output_type": "stream",
     "text": [
      "  1%|█▍                                                                                                                                         | 10/1000 [00:21<29:37,  1.80s/it]"
     ]
    },
    {
     "name": "stdout",
     "output_type": "stream",
     "text": [
      "Fetching from: https://api.mapbox.com/styles/v1/mapbox/satellite-v9/tiles/256/18/157361/131177?access_token=pk.eyJ1IjoiaXp2b25rb3YiLCJhIjoiY2t0YXU3MTE3MDJuNjJ1bW9xYzc3bTlrMCJ9.fiGLAZ29dmYv2sqlxuaB-A\n",
      "100% [................................................................................] 7289 / 7289Fetching from: http://ecn.t0.tiles.virtualearth.net/tiles/a300110011012312003.jpeg?g=14009\n",
      "100% [................................................................................] 8783 / 8783"
     ]
    },
    {
     "name": "stderr",
     "output_type": "stream",
     "text": [
      "  1%|█▊                                                                                                                                         | 13/1000 [00:31<40:55,  2.49s/it]"
     ]
    },
    {
     "name": "stdout",
     "output_type": "stream",
     "text": [
      "Fetching from: https://api.mapbox.com/styles/v1/mapbox/satellite-v9/tiles/256/18/157362/131178?access_token=pk.eyJ1IjoiaXp2b25rb3YiLCJhIjoiY2t0YXU3MTE3MDJuNjJ1bW9xYzc3bTlrMCJ9.fiGLAZ29dmYv2sqlxuaB-A\n",
      "100% [..............................................................................] 10020 / 10020Fetching from: http://ecn.t0.tiles.virtualearth.net/tiles/a300110011012312030.jpeg?g=14009\n",
      "100% [................................................................................] 9873 / 9873"
     ]
    },
    {
     "name": "stderr",
     "output_type": "stream",
     "text": [
      "  2%|███                                                                                                                                        | 22/1000 [00:48<28:48,  1.77s/it]"
     ]
    },
    {
     "name": "stdout",
     "output_type": "stream",
     "text": [
      "Fetching from: https://api.mapbox.com/styles/v1/mapbox/satellite-v9/tiles/256/18/157363/131178?access_token=pk.eyJ1IjoiaXp2b25rb3YiLCJhIjoiY2t0YXU3MTE3MDJuNjJ1bW9xYzc3bTlrMCJ9.fiGLAZ29dmYv2sqlxuaB-A\n",
      "100% [..............................................................................] 11639 / 11639Fetching from: http://ecn.t0.tiles.virtualearth.net/tiles/a300110011012312031.jpeg?g=14009\n",
      "100% [..............................................................................] 10155 / 10155"
     ]
    },
    {
     "name": "stderr",
     "output_type": "stream",
     "text": [
      "  4%|██████                                                                                                                                     | 44/1000 [01:27<27:32,  1.73s/it]"
     ]
    },
    {
     "name": "stdout",
     "output_type": "stream",
     "text": [
      "Fetching from: https://api.mapbox.com/styles/v1/mapbox/satellite-v9/tiles/256/18/157364/131178?access_token=pk.eyJ1IjoiaXp2b25rb3YiLCJhIjoiY2t0YXU3MTE3MDJuNjJ1bW9xYzc3bTlrMCJ9.fiGLAZ29dmYv2sqlxuaB-A\n",
      "100% [................................................................................] 8767 / 8767Fetching from: http://ecn.t0.tiles.virtualearth.net/tiles/a300110011012312120.jpeg?g=14009\n",
      "100% [................................................................................] 8461 / 8461"
     ]
    },
    {
     "name": "stderr",
     "output_type": "stream",
     "text": [
      "  8%|██████████▋                                                                                                                                | 77/1000 [02:24<25:33,  1.66s/it]"
     ]
    },
    {
     "name": "stdout",
     "output_type": "stream",
     "text": [
      "Fetching from: https://api.mapbox.com/styles/v1/mapbox/satellite-v9/tiles/256/18/157365/131178?access_token=pk.eyJ1IjoiaXp2b25rb3YiLCJhIjoiY2t0YXU3MTE3MDJuNjJ1bW9xYzc3bTlrMCJ9.fiGLAZ29dmYv2sqlxuaB-A\n",
      "100% [................................................................................] 9856 / 9856Fetching from: http://ecn.t0.tiles.virtualearth.net/tiles/a300110011012312121.jpeg?g=14009\n",
      "100% [................................................................................] 9103 / 9103"
     ]
    },
    {
     "name": "stderr",
     "output_type": "stream",
     "text": [
      " 10%|██████████████▏                                                                                                                           | 103/1000 [03:10<25:11,  1.69s/it]"
     ]
    },
    {
     "name": "stdout",
     "output_type": "stream",
     "text": [
      "Fetching from: https://api.mapbox.com/styles/v1/mapbox/satellite-v9/tiles/256/18/157366/131178?access_token=pk.eyJ1IjoiaXp2b25rb3YiLCJhIjoiY2t0YXU3MTE3MDJuNjJ1bW9xYzc3bTlrMCJ9.fiGLAZ29dmYv2sqlxuaB-A\n",
      "100% [..............................................................................] 11538 / 11538Fetching from: http://ecn.t0.tiles.virtualearth.net/tiles/a300110011012312130.jpeg?g=14009\n",
      "100% [................................................................................] 9250 / 9250"
     ]
    },
    {
     "name": "stderr",
     "output_type": "stream",
     "text": [
      " 13%|██████████████████▎                                                                                                                       | 133/1000 [04:01<23:55,  1.66s/it]"
     ]
    },
    {
     "name": "stdout",
     "output_type": "stream",
     "text": [
      "Fetching from: https://api.mapbox.com/styles/v1/mapbox/satellite-v9/tiles/256/18/157367/131178?access_token=pk.eyJ1IjoiaXp2b25rb3YiLCJhIjoiY2t0YXU3MTE3MDJuNjJ1bW9xYzc3bTlrMCJ9.fiGLAZ29dmYv2sqlxuaB-A\n",
      "100% [..............................................................................] 10136 / 10136Fetching from: http://ecn.t0.tiles.virtualearth.net/tiles/a300110011012312131.jpeg?g=14009\n",
      "100% [..............................................................................] 10291 / 10291"
     ]
    },
    {
     "name": "stderr",
     "output_type": "stream",
     "text": [
      " 13%|██████████████████▍                                                                                                                       | 134/1000 [04:04<28:59,  2.01s/it]"
     ]
    },
    {
     "name": "stdout",
     "output_type": "stream",
     "text": [
      "Fetching from: https://api.mapbox.com/styles/v1/mapbox/satellite-v9/tiles/256/18/157368/131178?access_token=pk.eyJ1IjoiaXp2b25rb3YiLCJhIjoiY2t0YXU3MTE3MDJuNjJ1bW9xYzc3bTlrMCJ9.fiGLAZ29dmYv2sqlxuaB-A\n",
      "100% [................................................................................] 5943 / 5943No photo found before to establish direction for KENYA_v2-2021-07-06-T1-GPBU4767\n",
      "Fetching from: http://ecn.t0.tiles.virtualearth.net/tiles/a300110011012313020.jpeg?g=14009\n",
      "100% [..............................................................................] 10562 / 10562"
     ]
    },
    {
     "name": "stderr",
     "output_type": "stream",
     "text": [
      " 14%|██████████████████▋                                                                                                                       | 135/1000 [04:06<28:52,  2.00s/it]"
     ]
    },
    {
     "name": "stdout",
     "output_type": "stream",
     "text": [
      "No photo found before to establish direction for KENYA_v2-2021-07-06-T1-GPBU4767\n"
     ]
    },
    {
     "name": "stderr",
     "output_type": "stream",
     "text": [
      " 14%|███████████████████▌                                                                                                                      | 142/1000 [04:18<24:01,  1.68s/it]"
     ]
    },
    {
     "name": "stdout",
     "output_type": "stream",
     "text": [
      "Fetching from: https://api.mapbox.com/styles/v1/mapbox/satellite-v9/tiles/256/18/157368/131179?access_token=pk.eyJ1IjoiaXp2b25rb3YiLCJhIjoiY2t0YXU3MTE3MDJuNjJ1bW9xYzc3bTlrMCJ9.fiGLAZ29dmYv2sqlxuaB-A\n",
      "100% [..............................................................................] 12674 / 12674No photo found before to establish direction for KENYA_v2-2021-07-06-T1-GPBU4775\n",
      "Fetching from: http://ecn.t0.tiles.virtualearth.net/tiles/a300110011012313022.jpeg?g=14009\n",
      "100% [..............................................................................] 13578 / 13578"
     ]
    },
    {
     "name": "stderr",
     "output_type": "stream",
     "text": [
      " 14%|███████████████████▋                                                                                                                      | 143/1000 [04:20<25:47,  1.81s/it]"
     ]
    },
    {
     "name": "stdout",
     "output_type": "stream",
     "text": [
      "No photo found before to establish direction for KENYA_v2-2021-07-06-T1-GPBU4775\n"
     ]
    },
    {
     "name": "stderr",
     "output_type": "stream",
     "text": [
      " 17%|███████████████████████▍                                                                                                                  | 170/1000 [05:05<23:14,  1.68s/it]"
     ]
    },
    {
     "name": "stdout",
     "output_type": "stream",
     "text": [
      "Fetching from: https://api.mapbox.com/styles/v1/mapbox/satellite-v9/tiles/256/18/157369/131179?access_token=pk.eyJ1IjoiaXp2b25rb3YiLCJhIjoiY2t0YXU3MTE3MDJuNjJ1bW9xYzc3bTlrMCJ9.fiGLAZ29dmYv2sqlxuaB-A\n",
      "100% [..............................................................................] 10156 / 10156Fetching from: http://ecn.t0.tiles.virtualearth.net/tiles/a300110011012313023.jpeg?g=14009\n",
      "100% [..............................................................................] 11358 / 11358"
     ]
    },
    {
     "name": "stderr",
     "output_type": "stream",
     "text": [
      " 20%|████████████████████████████                                                                                                              | 203/1000 [06:08<22:34,  1.70s/it]"
     ]
    },
    {
     "name": "stdout",
     "output_type": "stream",
     "text": [
      "No photo found before to establish direction for KENYA_v2-2021-07-06-T1-GPBU4849\n"
     ]
    },
    {
     "name": "stderr",
     "output_type": "stream",
     "text": [
      " 20%|████████████████████████████▏                                                                                                             | 204/1000 [06:09<19:23,  1.46s/it]"
     ]
    },
    {
     "name": "stdout",
     "output_type": "stream",
     "text": [
      "No photo found before to establish direction for KENYA_v2-2021-07-06-T1-GPBU4849\n",
      "Fetching from: https://api.mapbox.com/styles/v1/mapbox/satellite-v9/tiles/256/18/157370/131179?access_token=pk.eyJ1IjoiaXp2b25rb3YiLCJhIjoiY2t0YXU3MTE3MDJuNjJ1bW9xYzc3bTlrMCJ9.fiGLAZ29dmYv2sqlxuaB-A\n",
      "100% [................................................................................] 9669 / 9669Fetching from: http://ecn.t0.tiles.virtualearth.net/tiles/a300110011012313032.jpeg?g=14009\n",
      "100% [..............................................................................] 10343 / 10343"
     ]
    },
    {
     "name": "stderr",
     "output_type": "stream",
     "text": [
      " 23%|████████████████████████████████                                                                                                          | 232/1000 [06:58<21:58,  1.72s/it]"
     ]
    },
    {
     "name": "stdout",
     "output_type": "stream",
     "text": [
      "Fetching from: https://api.mapbox.com/styles/v1/mapbox/satellite-v9/tiles/256/18/157376/131202?access_token=pk.eyJ1IjoiaXp2b25rb3YiLCJhIjoiY2t0YXU3MTE3MDJuNjJ1bW9xYzc3bTlrMCJ9.fiGLAZ29dmYv2sqlxuaB-A\n",
      "100% [..............................................................................] 11935 / 11935Fetching from: http://ecn.t0.tiles.virtualearth.net/tiles/a300110011031000020.jpeg?g=14009\n",
      "100% [..............................................................................] 10383 / 10383"
     ]
    },
    {
     "name": "stderr",
     "output_type": "stream",
     "text": [
      " 26%|████████████████████████████████████▎                                                                                                     | 263/1000 [07:51<20:10,  1.64s/it]"
     ]
    },
    {
     "name": "stdout",
     "output_type": "stream",
     "text": [
      "Fetching from: https://api.mapbox.com/styles/v1/mapbox/satellite-v9/tiles/256/18/157382/131195?access_token=pk.eyJ1IjoiaXp2b25rb3YiLCJhIjoiY2t0YXU3MTE3MDJuNjJ1bW9xYzc3bTlrMCJ9.fiGLAZ29dmYv2sqlxuaB-A\n",
      "100% [..............................................................................] 11793 / 11793Fetching from: http://ecn.t0.tiles.virtualearth.net/tiles/a300110011013222132.jpeg?g=14009\n",
      "100% [..............................................................................] 11582 / 11582"
     ]
    },
    {
     "name": "stderr",
     "output_type": "stream",
     "text": [
      " 29%|████████████████████████████████████████▍                                                                                                 | 293/1000 [08:42<19:38,  1.67s/it]"
     ]
    },
    {
     "name": "stdout",
     "output_type": "stream",
     "text": [
      "Fetching from: https://api.mapbox.com/styles/v1/mapbox/satellite-v9/tiles/256/18/157383/131195?access_token=pk.eyJ1IjoiaXp2b25rb3YiLCJhIjoiY2t0YXU3MTE3MDJuNjJ1bW9xYzc3bTlrMCJ9.fiGLAZ29dmYv2sqlxuaB-A\n",
      "100% [..............................................................................] 12699 / 12699Fetching from: http://ecn.t0.tiles.virtualearth.net/tiles/a300110011013222133.jpeg?g=14009\n",
      "100% [..............................................................................] 12467 / 12467"
     ]
    },
    {
     "name": "stderr",
     "output_type": "stream",
     "text": [
      " 30%|████████████████████████████████████████▊                                                                                                 | 296/1000 [08:49<21:23,  1.82s/it]"
     ]
    },
    {
     "name": "stdout",
     "output_type": "stream",
     "text": [
      "Fetching from: https://api.mapbox.com/styles/v1/mapbox/satellite-v9/tiles/256/18/157387/131189?access_token=pk.eyJ1IjoiaXp2b25rb3YiLCJhIjoiY2t0YXU3MTE3MDJuNjJ1bW9xYzc3bTlrMCJ9.fiGLAZ29dmYv2sqlxuaB-A\n",
      "100% [..............................................................................] 13326 / 13326Fetching from: http://ecn.t0.tiles.virtualearth.net/tiles/a300110011013221213.jpeg?g=14009\n",
      "100% [..............................................................................] 13582 / 13582"
     ]
    },
    {
     "name": "stderr",
     "output_type": "stream",
     "text": [
      " 30%|█████████████████████████████████████████▉                                                                                                | 304/1000 [09:03<19:49,  1.71s/it]"
     ]
    },
    {
     "name": "stdout",
     "output_type": "stream",
     "text": [
      "Fetching from: https://api.mapbox.com/styles/v1/mapbox/satellite-v9/tiles/256/18/157387/131188?access_token=pk.eyJ1IjoiaXp2b25rb3YiLCJhIjoiY2t0YXU3MTE3MDJuNjJ1bW9xYzc3bTlrMCJ9.fiGLAZ29dmYv2sqlxuaB-A\n",
      "100% [..............................................................................] 15360 / 15360No photo found before to establish direction for KENYA_v2-2021-07-06-T1-GPCA5049\n",
      "Fetching from: http://ecn.t0.tiles.virtualearth.net/tiles/a300110011013221211.jpeg?g=14009\n",
      "100% [..............................................................................] 15307 / 15307"
     ]
    },
    {
     "name": "stderr",
     "output_type": "stream",
     "text": [
      " 30%|██████████████████████████████████████████                                                                                                | 305/1000 [09:05<20:48,  1.80s/it]"
     ]
    },
    {
     "name": "stdout",
     "output_type": "stream",
     "text": [
      "No photo found before to establish direction for KENYA_v2-2021-07-06-T1-GPCA5049\n"
     ]
    },
    {
     "name": "stderr",
     "output_type": "stream",
     "text": [
      " 31%|██████████████████████████████████████████▏                                                                                               | 306/1000 [09:07<20:27,  1.77s/it]"
     ]
    },
    {
     "name": "stdout",
     "output_type": "stream",
     "text": [
      "Fetching from: https://api.mapbox.com/styles/v1/mapbox/satellite-v9/tiles/256/18/157389/131186?access_token=pk.eyJ1IjoiaXp2b25rb3YiLCJhIjoiY2t0YXU3MTE3MDJuNjJ1bW9xYzc3bTlrMCJ9.fiGLAZ29dmYv2sqlxuaB-A\n",
      "100% [..............................................................................] 13146 / 13146Fetching from: http://ecn.t0.tiles.virtualearth.net/tiles/a300110011013221121.jpeg?g=14009\n",
      "100% [..............................................................................] 13444 / 13444"
     ]
    },
    {
     "name": "stderr",
     "output_type": "stream",
     "text": [
      " 31%|██████████████████████████████████████████▎                                                                                               | 307/1000 [09:10<23:47,  2.06s/it]"
     ]
    },
    {
     "name": "stdout",
     "output_type": "stream",
     "text": [
      "Fetching from: https://api.mapbox.com/styles/v1/mapbox/satellite-v9/tiles/256/18/157389/131185?access_token=pk.eyJ1IjoiaXp2b25rb3YiLCJhIjoiY2t0YXU3MTE3MDJuNjJ1bW9xYzc3bTlrMCJ9.fiGLAZ29dmYv2sqlxuaB-A\n",
      "100% [..............................................................................] 13723 / 13723Fetching from: http://ecn.t0.tiles.virtualearth.net/tiles/a300110011013221103.jpeg?g=14009\n",
      "100% [..............................................................................] 13876 / 13876"
     ]
    },
    {
     "name": "stderr",
     "output_type": "stream",
     "text": [
      " 32%|███████████████████████████████████████████▋                                                                                              | 317/1000 [09:27<19:28,  1.71s/it]"
     ]
    },
    {
     "name": "stdout",
     "output_type": "stream",
     "text": [
      "Fetching from: https://api.mapbox.com/styles/v1/mapbox/satellite-v9/tiles/256/18/157389/131184?access_token=pk.eyJ1IjoiaXp2b25rb3YiLCJhIjoiY2t0YXU3MTE3MDJuNjJ1bW9xYzc3bTlrMCJ9.fiGLAZ29dmYv2sqlxuaB-A\n",
      "100% [..............................................................................] 13483 / 13483No photo found before to establish direction for KENYA_v2-2021-07-06-T1-GPCC5070\n",
      "Fetching from: http://ecn.t0.tiles.virtualearth.net/tiles/a300110011013221101.jpeg?g=14009\n",
      "100% [..............................................................................] 13585 / 13585"
     ]
    },
    {
     "name": "stderr",
     "output_type": "stream",
     "text": [
      " 32%|███████████████████████████████████████████▉                                                                                              | 318/1000 [09:30<20:36,  1.81s/it]"
     ]
    },
    {
     "name": "stdout",
     "output_type": "stream",
     "text": [
      "No photo found before to establish direction for KENYA_v2-2021-07-06-T1-GPCC5070\n"
     ]
    },
    {
     "name": "stderr",
     "output_type": "stream",
     "text": [
      " 38%|████████████████████████████████████████████████████▎                                                                                     | 379/1000 [11:13<17:26,  1.69s/it]"
     ]
    },
    {
     "name": "stdout",
     "output_type": "stream",
     "text": [
      "Fetching from: https://api.mapbox.com/styles/v1/mapbox/satellite-v9/tiles/256/18/157388/131187?access_token=pk.eyJ1IjoiaXp2b25rb3YiLCJhIjoiY2t0YXU3MTE3MDJuNjJ1bW9xYzc3bTlrMCJ9.fiGLAZ29dmYv2sqlxuaB-A\n",
      "100% [..............................................................................] 12378 / 12378Fetching from: http://ecn.t0.tiles.virtualearth.net/tiles/a300110011013221122.jpeg?g=14009\n",
      "100% [..............................................................................] 12666 / 12666"
     ]
    },
    {
     "name": "stderr",
     "output_type": "stream",
     "text": [
      " 41%|████████████████████████████████████████████████████████▌                                                                                 | 410/1000 [12:06<16:17,  1.66s/it]"
     ]
    },
    {
     "name": "stdout",
     "output_type": "stream",
     "text": [
      "Fetching from: https://api.mapbox.com/styles/v1/mapbox/satellite-v9/tiles/256/18/157388/131188?access_token=pk.eyJ1IjoiaXp2b25rb3YiLCJhIjoiY2t0YXU3MTE3MDJuNjJ1bW9xYzc3bTlrMCJ9.fiGLAZ29dmYv2sqlxuaB-A\n",
      "100% [..............................................................................] 11729 / 11729No photo found before to establish direction for KENYA_v2-2021-07-06-T1-GPCE5173\n",
      "Fetching from: http://ecn.t0.tiles.virtualearth.net/tiles/a300110011013221300.jpeg?g=14009\n",
      "100% [..............................................................................] 11087 / 11087"
     ]
    },
    {
     "name": "stderr",
     "output_type": "stream",
     "text": [
      " 41%|████████████████████████████████████████████████████████▋                                                                                 | 411/1000 [12:08<18:09,  1.85s/it]"
     ]
    },
    {
     "name": "stdout",
     "output_type": "stream",
     "text": [
      "No photo found before to establish direction for KENYA_v2-2021-07-06-T1-GPCE5173\n"
     ]
    },
    {
     "name": "stderr",
     "output_type": "stream",
     "text": [
      " 43%|███████████████████████████████████████████████████████████                                                                               | 428/1000 [12:41<19:48,  2.08s/it]"
     ]
    },
    {
     "name": "stdout",
     "output_type": "stream",
     "text": [
      "Fetching from: https://api.mapbox.com/styles/v1/mapbox/satellite-v9/tiles/256/18/157385/131193?access_token=pk.eyJ1IjoiaXp2b25rb3YiLCJhIjoiY2t0YXU3MTE3MDJuNjJ1bW9xYzc3bTlrMCJ9.fiGLAZ29dmYv2sqlxuaB-A\n",
      "100% [..............................................................................] 13028 / 13028Fetching from: http://ecn.t0.tiles.virtualearth.net/tiles/a300110011013223003.jpeg?g=14009\n",
      "100% [..............................................................................] 12654 / 12654"
     ]
    },
    {
     "name": "stderr",
     "output_type": "stream",
     "text": [
      " 44%|█████████████████████████████████████████████████████████████▏                                                                            | 443/1000 [13:11<15:30,  1.67s/it]"
     ]
    },
    {
     "name": "stdout",
     "output_type": "stream",
     "text": [
      "No photo found before to establish direction for KENYA_v2-2021-07-06-T1-GPCG5208\n"
     ]
    },
    {
     "name": "stderr",
     "output_type": "stream",
     "text": [
      " 44%|█████████████████████████████████████████████████████████████▎                                                                            | 444/1000 [13:12<13:32,  1.46s/it]"
     ]
    },
    {
     "name": "stdout",
     "output_type": "stream",
     "text": [
      "No photo found before to establish direction for KENYA_v2-2021-07-06-T1-GPCG5208\n"
     ]
    },
    {
     "name": "stderr",
     "output_type": "stream",
     "text": [
      " 46%|██████████████████████████████████████████████████████████████▊                                                                           | 455/1000 [13:30<15:08,  1.67s/it]"
     ]
    },
    {
     "name": "stdout",
     "output_type": "stream",
     "text": [
      "Fetching from: https://api.mapbox.com/styles/v1/mapbox/satellite-v9/tiles/256/18/157380/131195?access_token=pk.eyJ1IjoiaXp2b25rb3YiLCJhIjoiY2t0YXU3MTE3MDJuNjJ1bW9xYzc3bTlrMCJ9.fiGLAZ29dmYv2sqlxuaB-A\n",
      "100% [..............................................................................] 13855 / 13855Fetching from: http://ecn.t0.tiles.virtualearth.net/tiles/a300110011013222122.jpeg?g=14009\n",
      "100% [..............................................................................] 13062 / 13062"
     ]
    },
    {
     "name": "stderr",
     "output_type": "stream",
     "text": [
      " 48%|██████████████████████████████████████████████████████████████████▊                                                                       | 484/1000 [14:19<14:25,  1.68s/it]"
     ]
    },
    {
     "name": "stdout",
     "output_type": "stream",
     "text": [
      "Fetching from: https://api.mapbox.com/styles/v1/mapbox/satellite-v9/tiles/256/18/157371/131176?access_token=pk.eyJ1IjoiaXp2b25rb3YiLCJhIjoiY2t0YXU3MTE3MDJuNjJ1bW9xYzc3bTlrMCJ9.fiGLAZ29dmYv2sqlxuaB-A\n",
      "100% [................................................................................] 6816 / 6816No photo found before to establish direction for KENYA_v2-2021-07-06-T1-GPCK5280\n",
      "Fetching from: http://ecn.t0.tiles.virtualearth.net/tiles/a300110011012313011.jpeg?g=14009\n",
      "100% [..............................................................................] 10079 / 10079"
     ]
    },
    {
     "name": "stderr",
     "output_type": "stream",
     "text": [
      " 48%|██████████████████████████████████████████████████████████████████▉                                                                       | 485/1000 [14:22<15:19,  1.79s/it]"
     ]
    },
    {
     "name": "stdout",
     "output_type": "stream",
     "text": [
      "No photo found before to establish direction for KENYA_v2-2021-07-06-T1-GPCK5280\n"
     ]
    },
    {
     "name": "stderr",
     "output_type": "stream",
     "text": [
      " 50%|█████████████████████████████████████████████████████████████████████▌                                                                    | 504/1000 [14:52<13:28,  1.63s/it]"
     ]
    },
    {
     "name": "stdout",
     "output_type": "stream",
     "text": [
      "Fetching from: https://api.mapbox.com/styles/v1/mapbox/satellite-v9/tiles/256/18/157371/131175?access_token=pk.eyJ1IjoiaXp2b25rb3YiLCJhIjoiY2t0YXU3MTE3MDJuNjJ1bW9xYzc3bTlrMCJ9.fiGLAZ29dmYv2sqlxuaB-A\n",
      "100% [................................................................................] 9423 / 9423Fetching from: http://ecn.t0.tiles.virtualearth.net/tiles/a300110011012311233.jpeg?g=14009\n",
      "100% [..............................................................................] 10347 / 10347"
     ]
    },
    {
     "name": "stderr",
     "output_type": "stream",
     "text": [
      " 62%|█████████████████████████████████████████████████████████████████████████████████████▉                                                    | 623/1000 [18:08<10:03,  1.60s/it]"
     ]
    },
    {
     "name": "stdout",
     "output_type": "stream",
     "text": [
      "Fetching from: https://api.mapbox.com/styles/v1/mapbox/satellite-v9/tiles/256/18/157371/131173?access_token=pk.eyJ1IjoiaXp2b25rb3YiLCJhIjoiY2t0YXU3MTE3MDJuNjJ1bW9xYzc3bTlrMCJ9.fiGLAZ29dmYv2sqlxuaB-A\n",
      "100% [................................................................................] 9364 / 9364Fetching from: http://ecn.t0.tiles.virtualearth.net/tiles/a300110011012311213.jpeg?g=14009\n",
      "100% [..............................................................................] 10264 / 10264"
     ]
    },
    {
     "name": "stderr",
     "output_type": "stream",
     "text": [
      " 65%|█████████████████████████████████████████████████████████████████████████████████████████▍                                                | 648/1000 [18:50<09:32,  1.63s/it]"
     ]
    },
    {
     "name": "stdout",
     "output_type": "stream",
     "text": [
      "No photo found before to establish direction for KENYA_v2-2021-07-06-T1-GPCL5452\n"
     ]
    },
    {
     "name": "stderr",
     "output_type": "stream",
     "text": [
      " 65%|█████████████████████████████████████████████████████████████████████████████████████████▌                                                | 649/1000 [18:51<08:17,  1.42s/it]"
     ]
    },
    {
     "name": "stdout",
     "output_type": "stream",
     "text": [
      "No photo found before to establish direction for KENYA_v2-2021-07-06-T1-GPCL5452\n",
      "Fetching from: https://api.mapbox.com/styles/v1/mapbox/satellite-v9/tiles/256/18/157371/131172?access_token=pk.eyJ1IjoiaXp2b25rb3YiLCJhIjoiY2t0YXU3MTE3MDJuNjJ1bW9xYzc3bTlrMCJ9.fiGLAZ29dmYv2sqlxuaB-A\n",
      "100% [..............................................................................] 11232 / 11232Fetching from: http://ecn.t0.tiles.virtualearth.net/tiles/a300110011012311211.jpeg?g=14009\n",
      "100% [..............................................................................] 11000 / 11000"
     ]
    },
    {
     "name": "stderr",
     "output_type": "stream",
     "text": [
      " 67%|████████████████████████████████████████████████████████████████████████████████████████████▎                                             | 669/1000 [19:28<09:06,  1.65s/it]"
     ]
    },
    {
     "name": "stdout",
     "output_type": "stream",
     "text": [
      "Fetching from: https://api.mapbox.com/styles/v1/mapbox/satellite-v9/tiles/256/18/157371/131171?access_token=pk.eyJ1IjoiaXp2b25rb3YiLCJhIjoiY2t0YXU3MTE3MDJuNjJ1bW9xYzc3bTlrMCJ9.fiGLAZ29dmYv2sqlxuaB-A\n",
      "100% [..............................................................................] 10179 / 10179Fetching from: http://ecn.t0.tiles.virtualearth.net/tiles/a300110011012311033.jpeg?g=14009\n",
      "100% [..............................................................................] 11085 / 11085"
     ]
    },
    {
     "name": "stderr",
     "output_type": "stream",
     "text": [
      " 68%|██████████████████████████████████████████████████████████████████████████████████████████████▌                                           | 685/1000 [19:55<08:38,  1.65s/it]"
     ]
    },
    {
     "name": "stdout",
     "output_type": "stream",
     "text": [
      "Fetching from: https://api.mapbox.com/styles/v1/mapbox/satellite-v9/tiles/256/18/157371/131170?access_token=pk.eyJ1IjoiaXp2b25rb3YiLCJhIjoiY2t0YXU3MTE3MDJuNjJ1bW9xYzc3bTlrMCJ9.fiGLAZ29dmYv2sqlxuaB-A\n",
      "100% [................................................................................] 8753 / 8753Fetching from: http://ecn.t0.tiles.virtualearth.net/tiles/a300110011012311031.jpeg?g=14009\n",
      "100% [..............................................................................] 11718 / 11718"
     ]
    },
    {
     "name": "stderr",
     "output_type": "stream",
     "text": [
      " 73%|████████████████████████████████████████████████████████████████████████████████████████████████████▌                                     | 729/1000 [21:09<07:27,  1.65s/it]"
     ]
    },
    {
     "name": "stdout",
     "output_type": "stream",
     "text": [
      "No photo found before to establish direction for KENYA_v2-2021-07-06-T1-GPCO5535\n"
     ]
    },
    {
     "name": "stderr",
     "output_type": "stream",
     "text": [
      " 73%|████████████████████████████████████████████████████████████████████████████████████████████████████▋                                     | 730/1000 [21:10<06:25,  1.43s/it]"
     ]
    },
    {
     "name": "stdout",
     "output_type": "stream",
     "text": [
      "No photo found before to establish direction for KENYA_v2-2021-07-06-T1-GPCO5535\n"
     ]
    },
    {
     "name": "stderr",
     "output_type": "stream",
     "text": [
      " 73%|█████████████████████████████████████████████████████████████████████████████████████████████████████▎                                    | 734/1000 [21:17<07:07,  1.61s/it]"
     ]
    },
    {
     "name": "stdout",
     "output_type": "stream",
     "text": [
      "Fetching from: https://api.mapbox.com/styles/v1/mapbox/satellite-v9/tiles/256/18/157371/131169?access_token=pk.eyJ1IjoiaXp2b25rb3YiLCJhIjoiY2t0YXU3MTE3MDJuNjJ1bW9xYzc3bTlrMCJ9.fiGLAZ29dmYv2sqlxuaB-A\n",
      "100% [................................................................................] 8413 / 8413Fetching from: http://ecn.t0.tiles.virtualearth.net/tiles/a300110011012311013.jpeg?g=14009\n",
      "100% [..............................................................................] 11369 / 11369"
     ]
    },
    {
     "name": "stderr",
     "output_type": "stream",
     "text": [
      " 78%|████████████████████████████████████████████████████████████████████████████████████████████████████████████                              | 783/1000 [22:47<06:03,  1.68s/it]"
     ]
    },
    {
     "name": "stdout",
     "output_type": "stream",
     "text": [
      "Fetching from: https://api.mapbox.com/styles/v1/mapbox/satellite-v9/tiles/256/18/157371/131168?access_token=pk.eyJ1IjoiaXp2b25rb3YiLCJhIjoiY2t0YXU3MTE3MDJuNjJ1bW9xYzc3bTlrMCJ9.fiGLAZ29dmYv2sqlxuaB-A\n",
      "100% [................................................................................] 8769 / 8769Fetching from: http://ecn.t0.tiles.virtualearth.net/tiles/a300110011012311011.jpeg?g=14009\n",
      "100% [..............................................................................] 10955 / 10955"
     ]
    },
    {
     "name": "stderr",
     "output_type": "stream",
     "text": [
      " 82%|█████████████████████████████████████████████████████████████████████████████████████████████████████████████████                         | 819/1000 [23:48<04:59,  1.66s/it]"
     ]
    },
    {
     "name": "stdout",
     "output_type": "stream",
     "text": [
      "Fetching from: https://api.mapbox.com/styles/v1/mapbox/satellite-v9/tiles/256/18/157372/131168?access_token=pk.eyJ1IjoiaXp2b25rb3YiLCJhIjoiY2t0YXU3MTE3MDJuNjJ1bW9xYzc3bTlrMCJ9.fiGLAZ29dmYv2sqlxuaB-A\n",
      "100% [................................................................................] 9531 / 9531Fetching from: http://ecn.t0.tiles.virtualearth.net/tiles/a300110011012311100.jpeg?g=14009\n",
      "100% [................................................................................] 9794 / 9794"
     ]
    },
    {
     "name": "stderr",
     "output_type": "stream",
     "text": [
      " 83%|██████████████████████████████████████████████████████████████████████████████████████████████████████████████████▎                       | 828/1000 [24:05<04:51,  1.69s/it]"
     ]
    },
    {
     "name": "stdout",
     "output_type": "stream",
     "text": [
      "Fetching from: https://api.mapbox.com/styles/v1/mapbox/satellite-v9/tiles/256/18/157372/131167?access_token=pk.eyJ1IjoiaXp2b25rb3YiLCJhIjoiY2t0YXU3MTE3MDJuNjJ1bW9xYzc3bTlrMCJ9.fiGLAZ29dmYv2sqlxuaB-A\n",
      "100% [................................................................................] 8043 / 8043No photo found before to establish direction for KENYA_v2-2021-07-06-T1-GPCO5635\n",
      "Fetching from: http://ecn.t0.tiles.virtualearth.net/tiles/a300110011012133322.jpeg?g=14009\n",
      "100% [..............................................................................] 10145 / 10145"
     ]
    },
    {
     "name": "stderr",
     "output_type": "stream",
     "text": [
      " 83%|██████████████████████████████████████████████████████████████████████████████████████████████████████████████████▍                       | 829/1000 [24:07<05:09,  1.81s/it]"
     ]
    },
    {
     "name": "stdout",
     "output_type": "stream",
     "text": [
      "No photo found before to establish direction for KENYA_v2-2021-07-06-T1-GPCO5635\n"
     ]
    },
    {
     "name": "stderr",
     "output_type": "stream",
     "text": [
      " 87%|████████████████████████████████████████████████████████████████████████████████████████████████████████████████████████▎                 | 872/1000 [25:19<03:34,  1.68s/it]"
     ]
    },
    {
     "name": "stdout",
     "output_type": "stream",
     "text": [
      "Fetching from: https://api.mapbox.com/styles/v1/mapbox/satellite-v9/tiles/256/18/157372/131166?access_token=pk.eyJ1IjoiaXp2b25rb3YiLCJhIjoiY2t0YXU3MTE3MDJuNjJ1bW9xYzc3bTlrMCJ9.fiGLAZ29dmYv2sqlxuaB-A\n",
      "100% [................................................................................] 8183 / 8183Fetching from: http://ecn.t0.tiles.virtualearth.net/tiles/a300110011012133320.jpeg?g=14009\n",
      "100% [..............................................................................] 10251 / 10251"
     ]
    },
    {
     "name": "stderr",
     "output_type": "stream",
     "text": [
      " 92%|██████████████████████████████████████████████████████████████████████████████████████████████████████████████████████████████▉           | 920/1000 [26:42<02:12,  1.66s/it]"
     ]
    },
    {
     "name": "stdout",
     "output_type": "stream",
     "text": [
      "Fetching from: https://api.mapbox.com/styles/v1/mapbox/satellite-v9/tiles/256/18/157372/131165?access_token=pk.eyJ1IjoiaXp2b25rb3YiLCJhIjoiY2t0YXU3MTE3MDJuNjJ1bW9xYzc3bTlrMCJ9.fiGLAZ29dmYv2sqlxuaB-A\n",
      "100% [................................................................................] 8506 / 8506No photo found before to establish direction for KENYA_v2-2021-07-06-T1-GPCO5735\n",
      "Fetching from: http://ecn.t0.tiles.virtualearth.net/tiles/a300110011012133302.jpeg?g=14009\n",
      "100% [................................................................................] 9801 / 9801"
     ]
    },
    {
     "name": "stderr",
     "output_type": "stream",
     "text": [
      " 92%|███████████████████████████████████████████████████████████████████████████████████████████████████████████████████████████████           | 921/1000 [26:44<02:25,  1.84s/it]"
     ]
    },
    {
     "name": "stdout",
     "output_type": "stream",
     "text": [
      "No photo found before to establish direction for KENYA_v2-2021-07-06-T1-GPCO5735\n"
     ]
    },
    {
     "name": "stderr",
     "output_type": "stream",
     "text": [
      "100%|█████████████████████████████████████████████████████████████████████████████████████████████████████████████████████████████████████████| 1000/1000 [28:57<00:00,  1.74s/it]\n"
     ]
    }
   ],
   "source": [
    "# First 1000 done, next 1000 in progress\n",
    "# 1000 takes 30 mins\n",
    "for i in tqdm(range(1000, 2000)):\n",
    "    resp = hello_world(MockRequest({\"name\": df_crops.iloc[i][\"name\"]}))"
   ]
  },
  {
   "cell_type": "code",
   "execution_count": 15,
   "id": "7176ca59-a0d8-40eb-82db-df47cd3b10ef",
   "metadata": {},
   "outputs": [
    {
     "name": "stderr",
     "output_type": "stream",
     "text": [
      "/Users/izvonkov/nasaharvest/street2sat/venv/lib/python3.9/site-packages/google/cloud/firestore_v1/base_collection.py:290: UserWarning: Detected filter using positional arguments. Prefer using the 'filter' keyword argument instead.\n",
      "  return query.where(field_path, op_string, value)\n"
     ]
    },
    {
     "name": "stdout",
     "output_type": "stream",
     "text": [
      "As of 2023-11-13 17:46:38.932596+00:00 number of entries: 1221627\n"
     ]
    }
   ],
   "source": [
    "# TODO regenerate data/street2sat-v2.csv\n",
    "db = firestore.Client()\n",
    "coll = db.collection(\"street2sat-v2\").where(\"is_crop\", \"==\", True)\n",
    "\n",
    "result = coll.count().get()\n",
    "entry_count = result[0][0].value\n",
    "print(f\"As of {result[0][0].read_time} number of entries: {entry_count}\")"
   ]
  },
  {
   "cell_type": "code",
   "execution_count": 17,
   "id": "5bb1f691-bc13-476e-b06c-488bfd2d516b",
   "metadata": {},
   "outputs": [
    {
     "name": "stderr",
     "output_type": "stream",
     "text": [
      "Queries: 100%|████████████████████████████████████████████████████████████████████████████████████████████████████████████████████████████████| 1222/1222 [11:07<00:00,  1.83it/s]\n"
     ]
    }
   ],
   "source": [
    "total_runs = (entry_count // 1000) + 1\n",
    "all_docs = []\n",
    "docs = coll.order_by(\"input_img\")\n",
    "for i in tqdm(range(total_runs), desc=\"Queries\"):\n",
    "    for doc in docs.limit(1000).stream():\n",
    "        all_docs.append(doc.to_dict())\n",
    "    last_input_img = all_docs[-1][\"input_img\"]\n",
    "    docs = coll.order_by(\"input_img\").start_after({\"input_img\": last_input_img})"
   ]
  },
  {
   "cell_type": "code",
   "execution_count": 18,
   "id": "98f66774-3736-4c34-bd07-1da058ac0476",
   "metadata": {},
   "outputs": [],
   "source": [
    "df_crops = pd.DataFrame(all_docs)"
   ]
  },
  {
   "cell_type": "code",
   "execution_count": 19,
   "id": "ee8e89fc-9830-4518-bccd-430caa3d0c0a",
   "metadata": {},
   "outputs": [],
   "source": [
    "df_coord_in_field = df_crops[~df_crops[\"bing_field_coord\"].isna() | ~df_crops[\"mapbox_field_coord\"].isna()]"
   ]
  },
  {
   "cell_type": "code",
   "execution_count": 24,
   "id": "62022fe4-5568-46b6-b702-fabbd73d2a98",
   "metadata": {},
   "outputs": [],
   "source": [
    "df_coord_in_field = df_coord_in_field[~df_coord_in_field[\"results\"].isna()]"
   ]
  },
  {
   "cell_type": "code",
   "execution_count": 27,
   "id": "97cd1b36-f5b3-4f0f-8d2f-ea14deedbed0",
   "metadata": {},
   "outputs": [
    {
     "data": {
      "text/plain": [
       "1969"
      ]
     },
     "execution_count": 27,
     "metadata": {},
     "output_type": "execute_result"
    }
   ],
   "source": [
    "len(df_coord_in_field)"
   ]
  },
  {
   "cell_type": "code",
   "execution_count": 28,
   "id": "2fe706b2-2f5e-4179-b1c7-479c92e134fa",
   "metadata": {},
   "outputs": [],
   "source": [
    "df_coord_in_field.to_csv(\"../data/street2sat-v2-points-in-field.csv\")"
   ]
  }
 ],
 "metadata": {
  "kernelspec": {
   "display_name": "Python 3 (ipykernel)",
   "language": "python",
   "name": "python3"
  },
  "language_info": {
   "codemirror_mode": {
    "name": "ipython",
    "version": 3
   },
   "file_extension": ".py",
   "mimetype": "text/x-python",
   "name": "python",
   "nbconvert_exporter": "python",
   "pygments_lexer": "ipython3",
   "version": "3.9.12"
  }
 },
 "nbformat": 4,
 "nbformat_minor": 5
}
