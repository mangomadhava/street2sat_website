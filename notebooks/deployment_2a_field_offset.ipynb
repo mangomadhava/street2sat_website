{
 "cells": [
  {
   "cell_type": "markdown",
   "id": "9728a13e-09ba-4d08-91f5-2b8eab4ae4d6",
   "metadata": {},
   "source": [
    "# Generates field coordinate using offset method\n",
    "\n",
    "**Author**: Ivan Zvonkov\n",
    "\n",
    "**Last modified**: Mar 11, 2024\n",
    "\n",
    "**Description**: Computes field coordinates  by\n",
    "1) Going through crop db entries\n",
    "2) For each crop db entry using method developed in `field_coord_distance_offset.ipynb` to compute\n",
    "    - driving direction,\n",
    "    - passenger direction,\n",
    "    - initial field coordinate,\n",
    "    - road pixel centroid coordinate, and\n",
    "    - field pixel centroid.\n",
    "3) Merging all points representing crop field and take majority vote for crop in field.\n",
    "4) Saving all computed information into an analyzable csv.\n",
    "\n",
    "Later plans:\n",
    "- Saving computed information to the firestore database."
   ]
  },
  {
   "cell_type": "markdown",
   "id": "6cfbc2b2-35f0-45b1-a518-1ee76f4a9f63",
   "metadata": {},
   "source": [
    "## 1. Get crop db entries"
   ]
  },
  {
   "cell_type": "code",
   "execution_count": null,
   "id": "881a5338-cb0e-4f3b-b6e0-f67db4a660e1",
   "metadata": {},
   "outputs": [],
   "source": [
    "!gcloud auth application-default login"
   ]
  },
  {
   "cell_type": "code",
   "execution_count": 12,
   "id": "dcb089b0-8b48-4149-a9d8-565f2477a7f2",
   "metadata": {},
   "outputs": [],
   "source": [
    "import math\n",
    "import numpy as np\n",
    "import pandas as pd\n",
    "import geopandas as gpd\n",
    "import utm\n",
    "\n",
    "from datetime import datetime, timedelta\n",
    "from tqdm import tqdm"
   ]
  },
  {
   "cell_type": "code",
   "execution_count": 13,
   "id": "a015ee42-7722-4a20-b60d-518cf90de31a",
   "metadata": {},
   "outputs": [
    {
     "name": "stderr",
     "output_type": "stream",
     "text": [
      "/var/folders/1v/87y9n_d5143c_6cp072v3b1c0000gn/T/ipykernel_45282/2016021947.py:1: DtypeWarning: Columns (9,12,13,14,16,17) have mixed types. Specify dtype option on import or set low_memory=False.\n",
      "  df_all = pd.read_csv(\"../data/street2sat-v2.csv\")\n"
     ]
    }
   ],
   "source": [
    "df_all = pd.read_csv(\"../data/street2sat-v2.csv\")"
   ]
  },
  {
   "cell_type": "code",
   "execution_count": 14,
   "id": "bd3c982d-862b-49c4-814a-84d045c92f0b",
   "metadata": {},
   "outputs": [],
   "source": [
    "# 5 seconds\n",
    "input_img_str_split = df_all[\"input_img\"].str.split(\"/\")\n",
    "df_all[\"country_folder\"] = input_img_str_split.str[3]\n",
    "df_all[\"country_subfolder\"] = input_img_str_split.str[4]"
   ]
  },
  {
   "cell_type": "code",
   "execution_count": 15,
   "id": "08cee845-5185-4326-aef6-4e4b2b68faf5",
   "metadata": {},
   "outputs": [],
   "source": [
    "df_crops = df_all[df_all[\"is_crop\"] == True].copy()"
   ]
  },
  {
   "cell_type": "code",
   "execution_count": 16,
   "id": "dd8a05cc-a723-4f1e-b77a-b216a9dec41e",
   "metadata": {},
   "outputs": [
    {
     "data": {
      "text/plain": [
       "country_folder\n",
       "NIGERIA_v2             502615\n",
       "ZAMBIA_v2              254999\n",
       "Uganda_v2              252731\n",
       "KENYA_v2               143288\n",
       "USA_v2                  54253\n",
       "TANZANIA_v2             11130\n",
       "MPONGWE_v2               1021\n",
       "test_set                  695\n",
       "test_set_divided_v3       695\n",
       "test_set_divided_v2       200\n",
       "Name: count, dtype: int64"
      ]
     },
     "execution_count": 16,
     "metadata": {},
     "output_type": "execute_result"
    }
   ],
   "source": [
    "df_crops[\"country_folder\"].value_counts()"
   ]
  },
  {
   "cell_type": "code",
   "execution_count": 17,
   "id": "93008790-0fe1-4554-b894-ec6e95e69a56",
   "metadata": {},
   "outputs": [],
   "source": [
    "country_df = df_crops[df_crops[\"country_folder\"] == \"KENYA_v2\"]"
   ]
  },
  {
   "cell_type": "markdown",
   "id": "c80965b4-4573-4780-9156-3ce43f027fbc",
   "metadata": {},
   "source": [
    "### 1.1 Get Admin Zones for each point\n",
    "\n",
    "This will make it possible to do analysis on a per admin zone basis"
   ]
  },
  {
   "cell_type": "code",
   "execution_count": 32,
   "id": "51391595-59e5-48fb-a237-6970acbf7815",
   "metadata": {},
   "outputs": [
    {
     "name": "stdout",
     "output_type": "stream",
     "text": [
      "\u001b[33mWARNING: You are using pip version 22.0.4; however, version 24.0 is available.\n",
      "You should consider upgrading via the '/Users/izvonkov/nasaharvest/street2sat/venv/bin/python -m pip install --upgrade pip' command.\u001b[0m\u001b[33m\n",
      "\u001b[0m"
     ]
    }
   ],
   "source": [
    "!pip install earthengine-api geemap -q"
   ]
  },
  {
   "cell_type": "code",
   "execution_count": 33,
   "id": "c3b02914-c92b-4af7-8e5b-06f085516f0e",
   "metadata": {},
   "outputs": [],
   "source": [
    "import ee\n",
    "import geemap"
   ]
  },
  {
   "cell_type": "code",
   "execution_count": null,
   "id": "f1eb9f1d-8183-4830-a63d-c09626ea97f1",
   "metadata": {},
   "outputs": [],
   "source": [
    "!earthengine authenticate"
   ]
  },
  {
   "cell_type": "code",
   "execution_count": 7,
   "id": "c900e800-1a99-48d4-8940-94a0c3a5568b",
   "metadata": {},
   "outputs": [],
   "source": [
    "ee.Initialize()"
   ]
  },
  {
   "cell_type": "code",
   "execution_count": 9,
   "id": "50459ad8-8d70-461f-af11-37c9da13adf8",
   "metadata": {},
   "outputs": [],
   "source": [
    "ee_country_filter = ee.Filter.eq('ADM0_NAME', \"Kenya\")\n",
    "admin_level2_fc = ee.FeatureCollection(\"FAO/GAUL/2015/level2\").filter(ee_country_filter)"
   ]
  },
  {
   "cell_type": "code",
   "execution_count": 29,
   "id": "797d8005-9dfd-442e-863b-754e189e13c5",
   "metadata": {},
   "outputs": [],
   "source": [
    "country_df = country_df[~country_df[\"results\"].isna()]\n",
    "country_df = country_df[~country_df[\"coord\"].isna()].copy().reset_index()"
   ]
  },
  {
   "cell_type": "code",
   "execution_count": 69,
   "id": "93a49e8b-8f2f-4f30-9b9f-7a6b875fc011",
   "metadata": {},
   "outputs": [
    {
     "data": {
      "text/html": [
       "\n",
       "            <style>\n",
       "                .geemap-dark {\n",
       "                    --jp-widgets-color: white;\n",
       "                    --jp-widgets-label-color: white;\n",
       "                    --jp-ui-font-color1: white;\n",
       "                    --jp-layout-color2: #454545;\n",
       "                    background-color: #383838;\n",
       "                }\n",
       "\n",
       "                .geemap-dark .jupyter-button {\n",
       "                    --jp-layout-color3: #383838;\n",
       "                }\n",
       "\n",
       "                .geemap-colab {\n",
       "                    background-color: var(--colab-primary-surface-color, white);\n",
       "                }\n",
       "\n",
       "                .geemap-colab .jupyter-button {\n",
       "                    --jp-layout-color3: var(--colab-primary-surface-color, white);\n",
       "                }\n",
       "            </style>\n",
       "            "
      ],
      "text/plain": [
       "<IPython.core.display.HTML object>"
      ]
     },
     "metadata": {},
     "output_type": "display_data"
    }
   ],
   "source": [
    "adm1_image = admin_level2_fc.reduceToImage(ee.List([f'ADM1_CODE']), ee.Reducer.mean()).clip(admin_level2_fc.geometry())\n",
    "adm2_image = admin_level2_fc.reduceToImage(ee.List([f'ADM2_CODE']), ee.Reducer.mean()).clip(admin_level2_fc.geometry())"
   ]
  },
  {
   "cell_type": "code",
   "execution_count": 75,
   "id": "d91aa1b6-26db-4d19-ace8-5641775d8947",
   "metadata": {},
   "outputs": [
    {
     "data": {
      "text/html": [
       "\n",
       "            <style>\n",
       "                .geemap-dark {\n",
       "                    --jp-widgets-color: white;\n",
       "                    --jp-widgets-label-color: white;\n",
       "                    --jp-ui-font-color1: white;\n",
       "                    --jp-layout-color2: #454545;\n",
       "                    background-color: #383838;\n",
       "                }\n",
       "\n",
       "                .geemap-dark .jupyter-button {\n",
       "                    --jp-layout-color3: #383838;\n",
       "                }\n",
       "\n",
       "                .geemap-colab {\n",
       "                    background-color: var(--colab-primary-surface-color, white);\n",
       "                }\n",
       "\n",
       "                .geemap-colab .jupyter-button {\n",
       "                    --jp-layout-color3: var(--colab-primary-surface-color, white);\n",
       "                }\n",
       "            </style>\n",
       "            "
      ],
      "text/plain": [
       "<IPython.core.display.HTML object>"
      ]
     },
     "metadata": {},
     "output_type": "display_data"
    },
    {
     "name": "stderr",
     "output_type": "stream",
     "text": [
      "100%|███████████████████████████████████████| 143/143 [1:11:00<00:00, 29.80s/it]\n"
     ]
    }
   ],
   "source": [
    "start = 0\n",
    "adm1_list = []\n",
    "adm2_list = []\n",
    "\n",
    "## TOO long will run tomorrow\n",
    "\n",
    "def ee_feature_from_row(coord_str):\n",
    "    coord = eval(coord_str)\n",
    "    return ee.Feature(ee.Geometry.Point(coord[1], coord[0]), {})\n",
    "\n",
    "# Loop necessary so ee_to_gdf doesn't time out\n",
    "for i in tqdm(range(0, len(country_df), 1000)):\n",
    "    ee_fc = ee.FeatureCollection(country_df.iloc[i:i+1000][\"coord\"].apply(ee_feature_from_row).to_list())\n",
    "    # Using small scale=10 to ensure most points don't fall between boundaries\n",
    "    ee_points_adm1 = adm1_image.sampleRegions(collection=ee_fc, scale=10)  \n",
    "    ee_points_adm2 = adm2_image.sampleRegions(collection=ee_fc, scale=10) \n",
    "    adm1_list += geemap.ee_to_gdf(ee_points_adm1)[\"mean\"].to_list()\n",
    "    adm2_list += geemap.ee_to_gdf(ee_points_adm2)[\"mean\"].to_list()"
   ]
  },
  {
   "cell_type": "code",
   "execution_count": 77,
   "id": "87afc6b9-d483-41f3-a298-57c41c6a38fe",
   "metadata": {},
   "outputs": [
    {
     "data": {
      "text/html": [
       "\n",
       "            <style>\n",
       "                .geemap-dark {\n",
       "                    --jp-widgets-color: white;\n",
       "                    --jp-widgets-label-color: white;\n",
       "                    --jp-ui-font-color1: white;\n",
       "                    --jp-layout-color2: #454545;\n",
       "                    background-color: #383838;\n",
       "                }\n",
       "\n",
       "                .geemap-dark .jupyter-button {\n",
       "                    --jp-layout-color3: #383838;\n",
       "                }\n",
       "\n",
       "                .geemap-colab {\n",
       "                    background-color: var(--colab-primary-surface-color, white);\n",
       "                }\n",
       "\n",
       "                .geemap-colab .jupyter-button {\n",
       "                    --jp-layout-color3: var(--colab-primary-surface-color, white);\n",
       "                }\n",
       "            </style>\n",
       "            "
      ],
      "text/plain": [
       "<IPython.core.display.HTML object>"
      ]
     },
     "metadata": {},
     "output_type": "display_data"
    }
   ],
   "source": [
    "country_df[\"ADM1_CODE\"] = adm1_list\n",
    "country_df[\"ADM2_CODE\"] = adm2_list"
   ]
  },
  {
   "cell_type": "code",
   "execution_count": 84,
   "id": "3c01d33f-e945-470a-af7e-c72a13a6ccd4",
   "metadata": {},
   "outputs": [
    {
     "data": {
      "text/html": [
       "\n",
       "            <style>\n",
       "                .geemap-dark {\n",
       "                    --jp-widgets-color: white;\n",
       "                    --jp-widgets-label-color: white;\n",
       "                    --jp-ui-font-color1: white;\n",
       "                    --jp-layout-color2: #454545;\n",
       "                    background-color: #383838;\n",
       "                }\n",
       "\n",
       "                .geemap-dark .jupyter-button {\n",
       "                    --jp-layout-color3: #383838;\n",
       "                }\n",
       "\n",
       "                .geemap-colab {\n",
       "                    background-color: var(--colab-primary-surface-color, white);\n",
       "                }\n",
       "\n",
       "                .geemap-colab .jupyter-button {\n",
       "                    --jp-layout-color3: var(--colab-primary-surface-color, white);\n",
       "                }\n",
       "            </style>\n",
       "            "
      ],
      "text/plain": [
       "<IPython.core.display.HTML object>"
      ]
     },
     "metadata": {},
     "output_type": "display_data"
    }
   ],
   "source": [
    "adm2_df = pd.read_csv(\"../data/gaul_adm2.csv\")\n",
    "adm1_df = pd.read_csv(\"../data/gaul_adm1.csv\")\n",
    "\n",
    "adm1_code_to_name = pd.Series(adm1_df[\"adm1_name\"].values, index=adm1_df[\"gaul_adm1\"]).to_dict()\n",
    "adm2_code_to_name = pd.Series(adm2_df[\"adm2_name\"].values, index=adm2_df[\"gaul_adm2\"]).to_dict()"
   ]
  },
  {
   "cell_type": "code",
   "execution_count": 120,
   "id": "cc3e5706-9f43-4786-a9f7-9dd173bbd728",
   "metadata": {},
   "outputs": [
    {
     "data": {
      "text/html": [
       "\n",
       "            <style>\n",
       "                .geemap-dark {\n",
       "                    --jp-widgets-color: white;\n",
       "                    --jp-widgets-label-color: white;\n",
       "                    --jp-ui-font-color1: white;\n",
       "                    --jp-layout-color2: #454545;\n",
       "                    background-color: #383838;\n",
       "                }\n",
       "\n",
       "                .geemap-dark .jupyter-button {\n",
       "                    --jp-layout-color3: #383838;\n",
       "                }\n",
       "\n",
       "                .geemap-colab {\n",
       "                    background-color: var(--colab-primary-surface-color, white);\n",
       "                }\n",
       "\n",
       "                .geemap-colab .jupyter-button {\n",
       "                    --jp-layout-color3: var(--colab-primary-surface-color, white);\n",
       "                }\n",
       "            </style>\n",
       "            "
      ],
      "text/plain": [
       "<IPython.core.display.HTML object>"
      ]
     },
     "metadata": {},
     "output_type": "display_data"
    },
    {
     "name": "stderr",
     "output_type": "stream",
     "text": [
      "/var/folders/1v/87y9n_d5143c_6cp072v3b1c0000gn/T/ipykernel_45282/3211753996.py:1: DtypeWarning: Columns (10,13,14,15,17,18) have mixed types. Specify dtype option on import or set low_memory=False.\n",
      "  country_df = pd.read_csv(\"../data/Kenya_crops_w_admin_zones.csv\")\n"
     ]
    }
   ],
   "source": [
    "country_df = pd.read_csv(\"../data/Kenya_crops_w_admin_zones.csv\")"
   ]
  },
  {
   "cell_type": "code",
   "execution_count": 121,
   "id": "b8d8ae7b-e2bc-4085-8b83-aa268635266a",
   "metadata": {},
   "outputs": [
    {
     "data": {
      "text/html": [
       "\n",
       "            <style>\n",
       "                .geemap-dark {\n",
       "                    --jp-widgets-color: white;\n",
       "                    --jp-widgets-label-color: white;\n",
       "                    --jp-ui-font-color1: white;\n",
       "                    --jp-layout-color2: #454545;\n",
       "                    background-color: #383838;\n",
       "                }\n",
       "\n",
       "                .geemap-dark .jupyter-button {\n",
       "                    --jp-layout-color3: #383838;\n",
       "                }\n",
       "\n",
       "                .geemap-colab {\n",
       "                    background-color: var(--colab-primary-surface-color, white);\n",
       "                }\n",
       "\n",
       "                .geemap-colab .jupyter-button {\n",
       "                    --jp-layout-color3: var(--colab-primary-surface-color, white);\n",
       "                }\n",
       "            </style>\n",
       "            "
      ],
      "text/plain": [
       "<IPython.core.display.HTML object>"
      ]
     },
     "metadata": {},
     "output_type": "display_data"
    },
    {
     "data": {
      "text/plain": [
       "54"
      ]
     },
     "execution_count": 121,
     "metadata": {},
     "output_type": "execute_result"
    }
   ],
   "source": [
    "# Points that fell between two admin zones \n",
    "no_matching_adm2 = ~country_df[\"ADM2_CODE\"].isin(adm2_code_to_name.keys())\n",
    "no_matching_adm2.sum()"
   ]
  },
  {
   "cell_type": "code",
   "execution_count": 122,
   "id": "e38d073b-4d2d-4e99-ad05-d314b8b1fbe3",
   "metadata": {},
   "outputs": [
    {
     "data": {
      "text/html": [
       "\n",
       "            <style>\n",
       "                .geemap-dark {\n",
       "                    --jp-widgets-color: white;\n",
       "                    --jp-widgets-label-color: white;\n",
       "                    --jp-ui-font-color1: white;\n",
       "                    --jp-layout-color2: #454545;\n",
       "                    background-color: #383838;\n",
       "                }\n",
       "\n",
       "                .geemap-dark .jupyter-button {\n",
       "                    --jp-layout-color3: #383838;\n",
       "                }\n",
       "\n",
       "                .geemap-colab {\n",
       "                    background-color: var(--colab-primary-surface-color, white);\n",
       "                }\n",
       "\n",
       "                .geemap-colab .jupyter-button {\n",
       "                    --jp-layout-color3: var(--colab-primary-surface-color, white);\n",
       "                }\n",
       "            </style>\n",
       "            "
      ],
      "text/plain": [
       "<IPython.core.display.HTML object>"
      ]
     },
     "metadata": {},
     "output_type": "display_data"
    }
   ],
   "source": [
    "# Points between admin zones removed for simplicity\n",
    "country_df = country_df[country_df[\"ADM2_CODE\"].isin(adm2_code_to_name.keys())].copy().reset_index()"
   ]
  },
  {
   "cell_type": "code",
   "execution_count": 123,
   "id": "22068adc-258f-4e8e-9521-bd84dc4d4fd2",
   "metadata": {},
   "outputs": [
    {
     "data": {
      "text/html": [
       "\n",
       "            <style>\n",
       "                .geemap-dark {\n",
       "                    --jp-widgets-color: white;\n",
       "                    --jp-widgets-label-color: white;\n",
       "                    --jp-ui-font-color1: white;\n",
       "                    --jp-layout-color2: #454545;\n",
       "                    background-color: #383838;\n",
       "                }\n",
       "\n",
       "                .geemap-dark .jupyter-button {\n",
       "                    --jp-layout-color3: #383838;\n",
       "                }\n",
       "\n",
       "                .geemap-colab {\n",
       "                    background-color: var(--colab-primary-surface-color, white);\n",
       "                }\n",
       "\n",
       "                .geemap-colab .jupyter-button {\n",
       "                    --jp-layout-color3: var(--colab-primary-surface-color, white);\n",
       "                }\n",
       "            </style>\n",
       "            "
      ],
      "text/plain": [
       "<IPython.core.display.HTML object>"
      ]
     },
     "metadata": {},
     "output_type": "display_data"
    }
   ],
   "source": [
    "country_df[\"ADM1 Label\"] = country_df[\"ADM1_CODE\"].apply(lambda x: str(int(x)) + \" \" + adm1_code_to_name[int(x)])\n",
    "country_df[\"ADM2 Label\"] = country_df[\"ADM2_CODE\"].apply(lambda x: str(int(x)) + \" \" + adm2_code_to_name[int(x)])"
   ]
  },
  {
   "cell_type": "code",
   "execution_count": 125,
   "id": "64d10bbb-8a56-4f8e-bb92-4d5555a74911",
   "metadata": {},
   "outputs": [
    {
     "data": {
      "text/html": [
       "\n",
       "            <style>\n",
       "                .geemap-dark {\n",
       "                    --jp-widgets-color: white;\n",
       "                    --jp-widgets-label-color: white;\n",
       "                    --jp-ui-font-color1: white;\n",
       "                    --jp-layout-color2: #454545;\n",
       "                    background-color: #383838;\n",
       "                }\n",
       "\n",
       "                .geemap-dark .jupyter-button {\n",
       "                    --jp-layout-color3: #383838;\n",
       "                }\n",
       "\n",
       "                .geemap-colab {\n",
       "                    background-color: var(--colab-primary-surface-color, white);\n",
       "                }\n",
       "\n",
       "                .geemap-colab .jupyter-button {\n",
       "                    --jp-layout-color3: var(--colab-primary-surface-color, white);\n",
       "                }\n",
       "            </style>\n",
       "            "
      ],
      "text/plain": [
       "<IPython.core.display.HTML object>"
      ]
     },
     "metadata": {},
     "output_type": "display_data"
    }
   ],
   "source": [
    "predictions = pd.json_normalize(country_df[\"results\"].apply(eval))\n",
    "crops = list(predictions.columns[1:])\n",
    "if not all([c in country_df.columns for c in crops]):\n",
    "    country_df = pd.concat([country_df, predictions], axis=1)\n",
    "if \"dominant_crop\" not in country_df.columns:\n",
    "    country_df[\"dominant_crop\"] = country_df[crops].apply(lambda x: max(dict(x), key=dict(x).get), axis=1)"
   ]
  },
  {
   "cell_type": "code",
   "execution_count": 126,
   "id": "6d15ef6e-f7e1-4b03-81a7-905580ff77d9",
   "metadata": {},
   "outputs": [
    {
     "data": {
      "text/html": [
       "\n",
       "            <style>\n",
       "                .geemap-dark {\n",
       "                    --jp-widgets-color: white;\n",
       "                    --jp-widgets-label-color: white;\n",
       "                    --jp-ui-font-color1: white;\n",
       "                    --jp-layout-color2: #454545;\n",
       "                    background-color: #383838;\n",
       "                }\n",
       "\n",
       "                .geemap-dark .jupyter-button {\n",
       "                    --jp-layout-color3: #383838;\n",
       "                }\n",
       "\n",
       "                .geemap-colab {\n",
       "                    background-color: var(--colab-primary-surface-color, white);\n",
       "                }\n",
       "\n",
       "                .geemap-colab .jupyter-button {\n",
       "                    --jp-layout-color3: var(--colab-primary-surface-color, white);\n",
       "                }\n",
       "            </style>\n",
       "            "
      ],
      "text/plain": [
       "<IPython.core.display.HTML object>"
      ]
     },
     "metadata": {},
     "output_type": "display_data"
    }
   ],
   "source": [
    "country_df.to_csv(\"../data/Kenya_crops_w_admin_zones.csv\", index=False)"
   ]
  },
  {
   "cell_type": "markdown",
   "id": "72b1ef4d-0742-44a9-a26b-549047356446",
   "metadata": {},
   "source": [
    "## 2. Compute Field Coord"
   ]
  },
  {
   "cell_type": "code",
   "execution_count": 169,
   "id": "62f2660c-2f42-4d44-a552-852c083cea9e",
   "metadata": {},
   "outputs": [],
   "source": [
    "# Copied and pasted from field_coord_distance_offset.ipynb\n",
    "\n",
    "floor10 = lambda x: x//10 * 10\n",
    "to_pixel_centroid = lambda coord: (floor10(coord[0]) + 5, floor10(coord[1]) + 5)\n",
    "\n",
    "def generate_offset_point_wgs84(coord0, coord1, is_right_hand_drive=True, meters=20):\n",
    "    utm_coord0 = utm.from_latlon(coord0[0], coord0[1])\n",
    "    utm_coord1 = utm.from_latlon(coord1[0], coord1[1])\n",
    "\n",
    "    for i, zone_type in [(2, \"number\"), (3, \"letter\")]:\n",
    "        if utm_coord1[i] != utm_coord0[i]:\n",
    "            print(utm_coord0)\n",
    "            print(utm_coord1)\n",
    "            raise ValueError(f\"UTM Zone {zone_type} mismatch: {utm_coord0[i]} and {utm_coord1[i]}\")\n",
    "    \n",
    "    \n",
    "    delta_east = utm_coord1[0] - utm_coord0[0]\n",
    "    delta_north = utm_coord1[1] - utm_coord0[1]\n",
    "\n",
    "    # Offset for meters change in offset point distance \n",
    "    x_offset = np.abs(meters * math.cos(math.atan(delta_east / delta_north)))\n",
    "\n",
    "    # Direction of offset\n",
    "    x_direction = np.sign(delta_north) if is_right_hand_drive else -np.sign(delta_north)\n",
    "    x_offset *= x_direction\n",
    "        \n",
    "    orthogonal_slope = -delta_east / delta_north\n",
    "    orthogonal_b = utm_coord1[1] - (orthogonal_slope * utm_coord1[0])\n",
    "    orthogonal_y = lambda x: orthogonal_slope*x + orthogonal_b\n",
    "\n",
    "    field_point_x = utm_coord1[0] + x_offset\n",
    "    field_point_y = orthogonal_y(field_point_x)\n",
    "\n",
    "    field_latlon = utm.to_latlon(field_point_x, field_point_y, utm_coord1[2], utm_coord1[3])\n",
    "\n",
    "    pixel_centroid_x, pixel_centroid_y  = to_pixel_centroid((field_point_x, field_point_y))\n",
    "    pixel_centroid_field_latlon = utm.to_latlon(pixel_centroid_x, pixel_centroid_y, utm_coord1[2], utm_coord1[3])\n",
    "        \n",
    "    return field_latlon, pixel_centroid_field_latlon, (delta_east, delta_north)\n",
    "\n",
    "def road_pixel_centroid(coord):\n",
    "    utm_coord = utm.from_latlon(coord[0], coord[1])\n",
    "    utm_pixel_centroid = to_pixel_centroid(utm_coord)\n",
    "    return utm.to_latlon(*utm_pixel_centroid, utm_coord[2], utm_coord[3])"
   ]
  },
  {
   "cell_type": "code",
   "execution_count": 170,
   "id": "504c7762-ecd8-4585-8358-17aaba18854d",
   "metadata": {},
   "outputs": [],
   "source": [
    "field_points = []"
   ]
  },
  {
   "cell_type": "code",
   "execution_count": 171,
   "id": "cb383b4c-dc5f-4c09-952b-ab3fede126c7",
   "metadata": {},
   "outputs": [
    {
     "name": "stderr",
     "output_type": "stream",
     "text": [
      "  2%|▋                                        | 17/1000 [00:03<03:33,  4.61it/s]"
     ]
    },
    {
     "name": "stdout",
     "output_type": "stream",
     "text": [
      "No prior records found for 16\n"
     ]
    },
    {
     "name": "stderr",
     "output_type": "stream",
     "text": [
      "  5%|██                                       | 50/1000 [00:10<03:17,  4.81it/s]"
     ]
    },
    {
     "name": "stdout",
     "output_type": "stream",
     "text": [
      "No prior records found for 49\n"
     ]
    },
    {
     "name": "stderr",
     "output_type": "stream",
     "text": [
      "  9%|███▊                                     | 93/1000 [00:19<03:11,  4.74it/s]"
     ]
    },
    {
     "name": "stdout",
     "output_type": "stream",
     "text": [
      "No prior records found for 92\n"
     ]
    },
    {
     "name": "stderr",
     "output_type": "stream",
     "text": [
      " 35%|██████████████                          | 353/1000 [01:13<02:13,  4.85it/s]"
     ]
    },
    {
     "name": "stdout",
     "output_type": "stream",
     "text": [
      "No prior records found for 352\n"
     ]
    },
    {
     "name": "stderr",
     "output_type": "stream",
     "text": [
      " 49%|███████████████████▌                    | 489/1000 [01:42<02:05,  4.09it/s]"
     ]
    },
    {
     "name": "stdout",
     "output_type": "stream",
     "text": [
      "No prior records found for 488\n"
     ]
    },
    {
     "name": "stderr",
     "output_type": "stream",
     "text": [
      " 56%|██████████████████████▍                 | 560/1000 [02:00<01:32,  4.77it/s]"
     ]
    },
    {
     "name": "stdout",
     "output_type": "stream",
     "text": [
      "No prior records found for 559\n"
     ]
    },
    {
     "name": "stderr",
     "output_type": "stream",
     "text": [
      " 56%|██████████████████████▍                 | 561/1000 [02:00<01:31,  4.81it/s]"
     ]
    },
    {
     "name": "stdout",
     "output_type": "stream",
     "text": [
      "No prior records found for 560\n"
     ]
    },
    {
     "name": "stderr",
     "output_type": "stream",
     "text": [
      " 57%|██████████████████████▉                 | 574/1000 [02:03<01:30,  4.68it/s]"
     ]
    },
    {
     "name": "stdout",
     "output_type": "stream",
     "text": [
      "No prior records found for 573\n"
     ]
    },
    {
     "name": "stderr",
     "output_type": "stream",
     "text": [
      " 57%|███████████████████████                 | 575/1000 [02:03<01:29,  4.74it/s]"
     ]
    },
    {
     "name": "stdout",
     "output_type": "stream",
     "text": [
      "No prior records found for 574\n"
     ]
    },
    {
     "name": "stderr",
     "output_type": "stream",
     "text": [
      " 84%|█████████████████████████████████▊      | 844/1000 [03:00<00:32,  4.79it/s]"
     ]
    },
    {
     "name": "stdout",
     "output_type": "stream",
     "text": [
      "No prior records found for 843\n"
     ]
    },
    {
     "name": "stderr",
     "output_type": "stream",
     "text": [
      "100%|███████████████████████████████████████| 1000/1000 [03:34<00:00,  4.67it/s]\n"
     ]
    }
   ],
   "source": [
    "is_right_hand_drive = False\n",
    "country_filter = df_all[\"country_folder\"] == \"KENYA_v2\"\n",
    "\n",
    "for i in tqdm(range(0, 1000)):\n",
    "    if country_df.iloc[i][\"input_img\"].endswith(\".THM\"):\n",
    "        continue\n",
    "\n",
    "    # Get road coordinate\n",
    "    current_record = country_df.iloc[i]\n",
    "    road_coord = eval(current_record[\"coord\"])\n",
    "    road_10m_centroid = road_pixel_centroid(road_coord)\n",
    "\n",
    "    # Get prior coordinate\n",
    "    time1 = datetime.fromisoformat(current_record[\"time\"])\n",
    "    before_time_interval = time1 - timedelta(seconds=10)\n",
    "    time_filter = (df_all[\"time\"] < str(time1)) & (df_all[\"time\"] > str(before_time_interval))\n",
    "    prior_records = df_all[time_filter & country_filter].sort_values(by=['time'])\n",
    "    if len(prior_records) == 0:\n",
    "        print(f\"No prior records found for {i}\")\n",
    "        continue\n",
    "    \n",
    "    prior_record = prior_records.iloc[-1]\n",
    "    prior_coord = eval(prior_record[\"coord\"])\n",
    "\n",
    "    # Get direction and field offset\n",
    "    output = generate_offset_point_wgs84(prior_coord, road_coord, is_right_hand_drive) \n",
    "    offset_field_coord, offset_field_pixel_centroid, driving_direction = output \n",
    "\n",
    "    field_points.append({\n",
    "        \"road_pixel_centroid\": road_10m_centroid,\n",
    "        \"is_right_hand_drive\": is_right_hand_drive,\n",
    "        \"driving_easting\": driving_direction[0],\n",
    "        \"driving_northing\": driving_direction[1],\n",
    "        \"offset_field_coord\": offset_field_coord,\n",
    "        \"offset_field_pixel_centroid\": offset_field_pixel_centroid,\n",
    "        \"time_computed\": datetime.now(),\n",
    "        **country_df.iloc[i],   \n",
    "    })\n",
    "    "
   ]
  },
  {
   "cell_type": "code",
   "execution_count": 172,
   "id": "fec00377-6ce2-4d1d-a745-5b9129d69396",
   "metadata": {},
   "outputs": [],
   "source": [
    "df = pd.DataFrame(field_points)\n",
    "df"
   ]
  },
  {
   "cell_type": "markdown",
   "id": "10680928-6e0b-4357-b74d-f852d14f25d9",
   "metadata": {},
   "source": [
    "## 3. Save points to files"
   ]
  },
  {
   "cell_type": "code",
   "execution_count": 175,
   "id": "d207829a-4cb4-4196-9760-6e6f7d03d277",
   "metadata": {},
   "outputs": [],
   "source": [
    "prefix = \"Kenya1000\""
   ]
  },
  {
   "cell_type": "code",
   "execution_count": 176,
   "id": "fc22ad29-bed7-4d6b-8db0-dbc7b863dbac",
   "metadata": {},
   "outputs": [],
   "source": [
    "df.to_csv(f\"../data/{prefix}_street2sat_v3_points_in_field.csv\", index=False)"
   ]
  },
  {
   "cell_type": "code",
   "execution_count": 177,
   "id": "e83ae17a-fdde-4f5f-b9a1-4d38184928f2",
   "metadata": {},
   "outputs": [],
   "source": [
    "df[\"key\"] = df[\"name\"]\n",
    "df[\"name\"] = df[\"dominant_crop\"]"
   ]
  },
  {
   "cell_type": "code",
   "execution_count": 178,
   "id": "c5e9fd41-52b3-4abc-a306-56bc4b01e8be",
   "metadata": {},
   "outputs": [],
   "source": [
    "def generate_gdf(cols, coords_col):\n",
    "    coords = df[coords_col]\n",
    "    if type(coords.iloc[0]) == str:\n",
    "        coords = coords.apply(eval)\n",
    "          \n",
    "    latlons = pd.DataFrame(coords.tolist(), columns=[\"lat\", \"lon\"])\n",
    "    points = gpd.points_from_xy(latlons[\"lon\"], latlons[\"lat\"], crs=\"EPSG:4326\")\n",
    "    gdf = gpd.GeoDataFrame(df[cols], geometry=points)\n",
    "    return gdf\n",
    "\n",
    "road_coord_cols = [\"input_img\", \"name\", \"time\", \"driving_easting\", \"driving_northing\", \"is_right_hand_drive\"] \n",
    "road_pixel_cols = [\"input_img\", \"name\", \"time\"] \n",
    "field_coord_cols = [\"input_img\", \"name\", \"time\", \"driving_easting\", \"driving_northing\", \"is_right_hand_drive\"] + crops\n",
    "field_pixel_cols = [\"input_img\", \"name\", \"time\"]\n",
    "\n",
    "gdf_road_coord = generate_gdf(cols=road_coord_cols, coords_col=\"coord\")\n",
    "gdf_road_pixel = generate_gdf(cols=road_pixel_cols, coords_col=\"road_pixel_centroid\")\n",
    "gdf_field_coord = generate_gdf(cols=field_coord_cols, coords_col=\"offset_field_coord\")\n",
    "gdf_field_pixel = generate_gdf(cols=field_pixel_cols, coords_col=\"offset_field_pixel_centroid\")"
   ]
  },
  {
   "cell_type": "code",
   "execution_count": 179,
   "id": "3deb7941-83ff-4d65-9a08-74481ca6a7cd",
   "metadata": {},
   "outputs": [],
   "source": [
    "gdf_road_coord.to_file(f\"../data/points/{prefix}_road_coord.geojson\", driver=\"GeoJSON\")\n",
    "gdf_road_pixel.to_file(f\"../data/points/{prefix}_road_pixel.geojson\", driver=\"GeoJSON\")\n",
    "gdf_field_coord.to_file(f\"../data/points/{prefix}_field_coord.geojson\", driver=\"GeoJSON\")\n",
    "gdf_field_pixel.to_file(f\"../data/points/{prefix}_field_pixel.geojson\", driver=\"GeoJSON\")"
   ]
  },
  {
   "cell_type": "code",
   "execution_count": null,
   "id": "f53b1f93-4b91-4cb0-93d0-fe772718e5f9",
   "metadata": {},
   "outputs": [],
   "source": []
  }
 ],
 "metadata": {
  "kernelspec": {
   "display_name": "Python 3 (ipykernel)",
   "language": "python",
   "name": "python3"
  },
  "language_info": {
   "codemirror_mode": {
    "name": "ipython",
    "version": 3
   },
   "file_extension": ".py",
   "mimetype": "text/x-python",
   "name": "python",
   "nbconvert_exporter": "python",
   "pygments_lexer": "ipython3",
   "version": "3.9.12"
  }
 },
 "nbformat": 4,
 "nbformat_minor": 5
}
