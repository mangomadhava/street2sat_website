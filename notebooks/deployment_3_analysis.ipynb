{
  "cells": [
    {
      "cell_type": "markdown",
      "metadata": {
        "id": "365M2vpPLmCP"
      },
      "source": [
        "# Street2Sat Point Analysis\n",
        "\n",
        "<a target=\"_blank\" href=\"https://colab.research.google.com/github/nasaharvest/street2sat/blob/scaling-distance-estimation/notebooks/deployment_3_analysis.ipynb\">\n",
        "  <img src=\"https://colab.research.google.com/assets/colab-badge.svg\" alt=\"Open In Colab\"/>\n",
        "</a>\n",
        "\n",
        "**Author:** Ivan Zvonkov\n",
        "\n",
        "**Last Edited:** November 20, 2023\n",
        "\n",
        "**Description:** Notebook for analyzing field points generated using street2sat pipeline. Associated Google Sheet: https://docs.google.com/spreadsheets/d/1SErjKizF6fM_48p8onQwJXWFr07rbqL2ToKh87TvDe8/edit?usp=sharing\n",
        "\n",
        "**Requirement**: street2sat-v2-points-in-field.csv uploaded into `/content`"
      ]
    },
    {
      "cell_type": "code",
      "execution_count": null,
      "metadata": {
        "id": "Kdjw4kz3zdmb"
      },
      "outputs": [],
      "source": [
        "# Set MAPBOX token, for visualizing points on map\n",
        "MAPBOX_TOKEN = \"\"\n",
        "assert MAPBOX_TOKEN != \"\", \"Set MAPBOX_TOKEN above\""
      ]
    },
    {
      "cell_type": "code",
      "execution_count": null,
      "metadata": {
        "id": "YoeS_3mZpBX6"
      },
      "outputs": [],
      "source": [
        "# Login to Google Cloud, for downloading images and predictions\n",
        "!gcloud auth login\n",
        "!gcloud config set project \"bsos-geog-harvest1\""
      ]
    },
    {
      "cell_type": "code",
      "execution_count": null,
      "metadata": {
        "id": "gCHLof-ukZch"
      },
      "outputs": [],
      "source": [
        "# Setup\n",
        "import folium\n",
        "import matplotlib.pyplot as plt\n",
        "import pandas as pd\n",
        "from pathlib import Path"
      ]
    },
    {
      "cell_type": "code",
      "execution_count": null,
      "metadata": {
        "id": "LjJdqEIak_z0"
      },
      "outputs": [],
      "source": [
        "df_path = Path(\"/content/street2sat-v2-points-in-field.csv\")\n",
        "assert df_path.exists(), f\"Upload file {df_path.name} to Google Colab to proceed.\"\n",
        "df = pd.read_csv(df_path)"
      ]
    },
    {
      "cell_type": "code",
      "execution_count": null,
      "metadata": {
        "id": "9uXuwbb-oFc8"
      },
      "outputs": [],
      "source": [
        "keys = [\n",
        "    \"input_img\",\n",
        "    \"mapbox_img_source\",\n",
        "    \"bing_img_source\",\n",
        "    \"mapbox_img_segmentation\",\n",
        "    \"bing_img_segmentation\"\n",
        "]\n",
        "\n",
        "def download_images(row: dict):\n",
        "    img_root = Path(f\"/content/{row['name']}\")\n",
        "    img_root.mkdir(exist_ok=True)\n",
        "    for k in keys:\n",
        "        path = img_root / f\"{k}.jpg\"\n",
        "        if not path.exists():\n",
        "            img_src = row[k]\n",
        "            !gcloud storage cp {img_src} {path}\n",
        "    return img_root\n",
        "\n",
        "def plot_images(img_root: Path):\n",
        "    plt.imshow(plt.imread(img_root / (keys[0] + \".jpg\")))\n",
        "    plt.yticks([])\n",
        "    plt.xticks([])\n",
        "\n",
        "    fig, ax = plt.subplots(2,2, figsize=(6,6))\n",
        "\n",
        "    ax[0, 0].imshow(plt.imread(img_root / (keys[1] + \".jpg\")))\n",
        "    ax[1, 0].imshow(plt.imread(img_root / (keys[2] + \".jpg\")))\n",
        "    ax[0, 1].imshow(plt.imread(img_root / (keys[3] + \".jpg\")))\n",
        "    ax[1, 1].imshow(plt.imread(img_root / (keys[4] + \".jpg\")))\n",
        "\n",
        "    for i, row_title in enumerate([\"Mapbox\", \"Bing\"]):\n",
        "        ax[i, 0].set_ylabel(row_title, fontsize=12)\n",
        "\n",
        "    for j, col_title in enumerate([\"Satellite Image\", \"Segmentation\"]):\n",
        "        ax[1, j].set_xlabel(col_title, fontsize=12)\n",
        "\n",
        "    for row in ax:\n",
        "        for col in row:\n",
        "            col.set_yticks([])\n",
        "            col.set_yticklabels([])\n",
        "            col.set_xticks([])\n",
        "            col.set_xticklabels([])\n",
        "\n",
        "    plt.tight_layout()\n",
        "\n",
        "\n",
        "def generate_map(row):\n",
        "    m = folium.Map(\n",
        "        location=eval(row[\"coord\"]),\n",
        "        zoom_start=18,\n",
        "        tiles='https://api.tiles.mapbox.com/v4/mapbox.satellite/{z}/{x}/{y}.png?access_token=' + MAPBOX_TOKEN,\n",
        "        attr='mapbox.com'\n",
        "    )\n",
        "\n",
        "    folium.Marker(eval(row[\"coord\"]), popup='GoPro', icon=folium.Icon(color=\"lightgray\")).add_to(m)\n",
        "    folium.Marker(eval(row[\"mapbox_field_coord\"]), popup='Mapbox', icon=folium.Icon(color=\"blue\")).add_to(m)\n",
        "    folium.Marker(eval(row[\"bing_field_coord\"]), popup='Bing', icon=folium.Icon(color=\"orange\")).add_to(m)\n",
        "    return m\n",
        "\n",
        "def download_and_plot(row):\n",
        "    img_root = download_images(row)\n",
        "    print(f\"Name: {row['name']}\")\n",
        "    print(f\"Prediction: {row['dominant_crop']}\")\n",
        "    plot_images(img_root)\n"
      ]
    },
    {
      "cell_type": "code",
      "execution_count": null,
      "metadata": {
        "id": "vHwY2XmW2-45"
      },
      "outputs": [],
      "source": [
        "# Select field points in dataframe to visualize\n",
        "row = df.iloc[-10]"
      ]
    },
    {
      "cell_type": "code",
      "execution_count": null,
      "metadata": {
        "id": "uksNd2p-1Y3f"
      },
      "outputs": [],
      "source": [
        "download_and_plot(row)"
      ]
    },
    {
      "cell_type": "code",
      "execution_count": null,
      "metadata": {
        "id": "FRtU7KYbB7Bt"
      },
      "outputs": [],
      "source": [
        "generate_map(row)"
      ]
    },
    {
      "cell_type": "code",
      "execution_count": null,
      "metadata": {
        "id": "GBg8zux1JFTx"
      },
      "outputs": [],
      "source": []
    }
  ],
  "metadata": {
    "colab": {
      "provenance": []
    },
    "kernelspec": {
      "display_name": "Python 3",
      "name": "python3"
    },
    "language_info": {
      "name": "python"
    }
  },
  "nbformat": 4,
  "nbformat_minor": 0
}
