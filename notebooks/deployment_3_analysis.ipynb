{
  "nbformat": 4,
  "nbformat_minor": 0,
  "metadata": {
    "colab": {
      "provenance": []
    },
    "kernelspec": {
      "name": "python3",
      "display_name": "Python 3"
    },
    "language_info": {
      "name": "python"
    }
  },
  "cells": [
    {
      "cell_type": "markdown",
      "source": [
        "# Street2Sat Point Analysis\n",
        "\n",
        "<a target=\"_blank\" href=\"https://colab.research.google.com/github/nasaharvest/street2sat/blob/main/notebooks/deployment_3_analysis.ipynb\">\n",
        "  <img src=\"https://colab.research.google.com/assets/colab-badge.svg\" alt=\"Open In Colab\"/>\n",
        "</a>\n",
        "\n",
        "**Author:** Ivan Zvonkov\n",
        "\n",
        "**Last Edited:** December 1, 2023\n",
        "\n",
        "**Description:**\n",
        "The street2sat pipeline involves transforming GoPro photos of crops into crop type field coordinates. This is done by:\n",
        "1. **Predicting the crops** visible in the GoPro photo\n",
        "2. **Road point extraction** Extracting the GPS coordinate of the GoPro photo (will be located on a road)\n",
        "3. **Obtaining high res imagery** for the GPS coordinate from Mapbox and Bing.\n",
        "4.  **Drawing an arrow** on the high res satellite imagery from the road point in the direction where the GoPro is pointed.\n",
        "5. **Field prediction**: Using the high res satellite image with an arrow to predict a mask for the location of the field.\n",
        "6. **Field point prediction**: Taking the centroid of the predicted field to create a crop type field coordinate.\n",
        "\n",
        "All of these steps are prone to different failure modes during the development of this pipeline.\n",
        "\n",
        "The purpose of this notebook is to explore and document these failure modes by analyzing several general points."
      ],
      "metadata": {
        "id": "365M2vpPLmCP"
      }
    },
    {
      "cell_type": "markdown",
      "source": [
        "## 1. Setup for visualizing all points in Google Earth"
      ],
      "metadata": {
        "id": "ReyEUVkdmRSe"
      }
    },
    {
      "cell_type": "code",
      "source": [
        "# Download GEOJSONs for road and field predictions\n",
        "URL = \"https://github.com/nasaharvest/street2sat/blob/main/data/points\"\n",
        "!wget {URL}/field_bing.geojson\n",
        "!wget {URL}/field_mapbox.geojson\n",
        "!wget {URL}/road.geojson"
      ],
      "metadata": {
        "id": "QLQBM-E-drlP"
      },
      "execution_count": null,
      "outputs": []
    },
    {
      "cell_type": "markdown",
      "source": [
        "1. After running the above cell, open the file menu on the left hand side to see the files:\n",
        "\n",
        "    a. road.geojson\n",
        "\n",
        "    b. field_bing.geojson,\n",
        "\n",
        "    c. field_mapbox.geojson\n",
        "\n",
        "2. Download the files by clicking them.\n",
        "3. Drag them into Google Earth to visualize.\n",
        "4. Adjust the colors for easier distinction.\n",
        "\n",
        "<img src=\"https://storage.googleapis.com/harvest-public-assets/street2sat/GoogleEarth-updating-colors.png\" />\n"
      ],
      "metadata": {
        "id": "H_p6EQf1dtvz"
      }
    },
    {
      "cell_type": "markdown",
      "source": [
        "## 2. Setup for individual point analysis\n",
        "\n",
        "Modify the first cell below to add your own MAPBOX_TOKEN, run the next cells without modification."
      ],
      "metadata": {
        "id": "1_SZg71_mZT3"
      }
    },
    {
      "cell_type": "code",
      "source": [
        "# Set MAPBOX token, for visualizing points on map\n",
        "MAPBOX_TOKEN = \"\"\n",
        "assert MAPBOX_TOKEN != \"\", \"Set MAPBOX_TOKEN above\""
      ],
      "metadata": {
        "id": "Kdjw4kz3zdmb"
      },
      "execution_count": null,
      "outputs": []
    },
    {
      "cell_type": "code",
      "source": [
        "# Setup\n",
        "import folium\n",
        "import matplotlib.pyplot as plt\n",
        "import pandas as pd\n",
        "from pathlib import Path"
      ],
      "metadata": {
        "id": "ZFKBUhDOdnnm"
      },
      "execution_count": null,
      "outputs": []
    },
    {
      "cell_type": "code",
      "source": [
        "# Login to Google Cloud, for downloading images and predictions\n",
        "!gcloud auth login\n",
        "!gcloud config set project \"bsos-geog-harvest1\""
      ],
      "metadata": {
        "id": "YoeS_3mZpBX6"
      },
      "execution_count": null,
      "outputs": []
    },
    {
      "cell_type": "code",
      "source": [
        "# Downlaod file from Google Cloud Storage\n",
        "!gcloud storage cp gs://street2sat-database-csv/street2sat-v2-points-in-field.csv /content/"
      ],
      "metadata": {
        "id": "8bY-pBZrR4KY"
      },
      "execution_count": null,
      "outputs": []
    },
    {
      "cell_type": "code",
      "source": [
        "df_path = Path(\"/content/street2sat-v2-points-in-field.csv\")\n",
        "assert df_path.exists(), f\"File not found: {df_path.name}, rerun above cell.\"\n",
        "df = pd.read_csv(df_path)"
      ],
      "metadata": {
        "id": "LjJdqEIak_z0"
      },
      "execution_count": null,
      "outputs": []
    },
    {
      "cell_type": "code",
      "source": [
        "keys = [\"input_img\", \"mapbox_img_source\", \"bing_img_source\", \"mapbox_img_segmentation\", \"bing_img_segmentation\"]\n",
        "\n",
        "def download_images(row: dict):\n",
        "    img_root = Path(f\"/content/{row['name']}\")\n",
        "    img_root.mkdir(exist_ok=True)\n",
        "    for k in keys:\n",
        "        path = img_root / f\"{k}.jpg\"\n",
        "        if not path.exists():\n",
        "            img_src = row[k]\n",
        "            !gcloud storage cp {img_src} {path}\n",
        "    return img_root\n",
        "\n",
        "def plot_images(img_root: Path):\n",
        "    plt.imshow(plt.imread(img_root / (keys[0] + \".jpg\")))\n",
        "    plt.yticks([])\n",
        "    plt.xticks([])\n",
        "\n",
        "    fig, ax = plt.subplots(2,2, figsize=(6,6))\n",
        "\n",
        "    ax[0, 0].imshow(plt.imread(img_root / (keys[1] + \".jpg\")))\n",
        "    ax[1, 0].imshow(plt.imread(img_root / (keys[2] + \".jpg\")))\n",
        "    ax[0, 1].imshow(plt.imread(img_root / (keys[3] + \".jpg\")))\n",
        "    ax[1, 1].imshow(plt.imread(img_root / (keys[4] + \".jpg\")))\n",
        "\n",
        "    for i, row_title in enumerate([\"Mapbox\", \"Bing\"]):\n",
        "        ax[i, 0].set_ylabel(row_title, fontsize=12)\n",
        "\n",
        "    for j, col_title in enumerate([\"Satellite Image\", \"Segmentation\"]):\n",
        "        ax[1, j].set_xlabel(col_title, fontsize=12)\n",
        "\n",
        "    for row in ax:\n",
        "        for col in row:\n",
        "            col.set_yticks([])\n",
        "            col.set_yticklabels([])\n",
        "            col.set_xticks([])\n",
        "            col.set_xticklabels([])\n",
        "\n",
        "    plt.tight_layout()\n",
        "\n",
        "\n",
        "def generate_map(row):\n",
        "    m = folium.Map(\n",
        "        location=eval(row[\"coord\"]),\n",
        "        zoom_start=18,\n",
        "        tiles='https://api.tiles.mapbox.com/v4/mapbox.satellite/{z}/{x}/{y}.png?access_token=' + MAPBOX_TOKEN,\n",
        "        attr='mapbox.com'\n",
        "    )\n",
        "\n",
        "    folium.Marker(eval(row[\"coord\"]), popup='GoPro', icon=folium.Icon(color=\"lightgray\")).add_to(m)\n",
        "    folium.Marker(eval(row[\"mapbox_field_coord\"]), popup='Mapbox', icon=folium.Icon(color=\"blue\")).add_to(m)\n",
        "    folium.Marker(eval(row[\"bing_field_coord\"]), popup='Bing', icon=folium.Icon(color=\"orange\")).add_to(m)\n",
        "    return m\n",
        "\n",
        "def download_and_plot(row):\n",
        "    img_root = download_images(row)\n",
        "    print(f\"\\nName: {row['name']}\")\n",
        "    print(f\"Prediction: {row['dominant_crop']}\")\n",
        "    print(f\"Road lat lon: {row['coord']}\")\n",
        "    print(f\"Time: {row['time']}\")\n",
        "    plot_images(img_root)\n"
      ],
      "metadata": {
        "id": "9uXuwbb-oFc8"
      },
      "execution_count": null,
      "outputs": []
    },
    {
      "cell_type": "code",
      "source": [
        "# Amount of current predictions per country\n",
        "df[\"country_folder\"].value_counts()"
      ],
      "metadata": {
        "id": "Gaiq4fNa3-fq"
      },
      "execution_count": null,
      "outputs": []
    },
    {
      "cell_type": "markdown",
      "source": [
        "## 3. Individual Point Analysis\n",
        "\n",
        "1.  Open associated Google Sheet: https://docs.google.com/spreadsheets/d/1SErjKizF6fM_48p8onQwJXWFr07rbqL2ToKh87TvDe8/edit?usp=sharing\n",
        "\n",
        "2. Run the below cell specifying the desired country folder and index.\n",
        "\n",
        "3. Run the `Visualize Imagery` cell to see the:\n",
        "\n",
        " a. GoPro imagery\n",
        "\n",
        " b. High res satellite imagery from bing and mapbox\n",
        "\n",
        " c. Field segmentation predictions for satellite imagery (with red centroid point)\n",
        "\n",
        "4. Paste the printed `Road lat lon` into Google Earth to visualize all nearby points.\n",
        "\n",
        "5. Run the `Generate Map` cell to see the coordinates of the original image coordinate from road, and predicted field coordinates from bing and mapbox."
      ],
      "metadata": {
        "id": "oIdFgNcdTMKl"
      }
    },
    {
      "cell_type": "code",
      "source": [
        "# Update the below values to analyze a specific point\n",
        "country_folder = \"NIGERIA_v2\"\n",
        "index = 101\n",
        "\n",
        "row = df[df[\"country_folder\"] == country_folder].iloc[index]"
      ],
      "metadata": {
        "id": "-dejdwF99uCv"
      },
      "execution_count": null,
      "outputs": []
    },
    {
      "cell_type": "code",
      "source": [
        "# Visualize imagery\n",
        "download_and_plot(row)"
      ],
      "metadata": {
        "id": "uksNd2p-1Y3f"
      },
      "execution_count": null,
      "outputs": []
    },
    {
      "cell_type": "code",
      "source": [
        "# Generate map\n",
        "generate_map(row)"
      ],
      "metadata": {
        "id": "FRtU7KYbB7Bt"
      },
      "execution_count": null,
      "outputs": []
    },
    {
      "cell_type": "code",
      "source": [],
      "metadata": {
        "id": "GBg8zux1JFTx"
      },
      "execution_count": null,
      "outputs": []
    }
  ]
}
