{
  "cells": [
    {
      "cell_type": "markdown",
      "metadata": {
        "id": "365M2vpPLmCP"
      },
      "source": [
        "# Street2Sat Point Analysis\n",
        "\n",
        "<a target=\"_blank\" href=\"https://colab.research.google.com/github/nasaharvest/street2sat/blob/main/notebooks/deployment_3_analysis.ipynb\">\n",
        "  <img src=\"https://colab.research.google.com/assets/colab-badge.svg\" alt=\"Open In Colab\"/>\n",
        "</a>\n",
        "\n",
        "**Author:** Ivan Zvonkov\n",
        "\n",
        "**Last Edited:** Feb 22, 2024\n",
        "\n",
        "**Description:**\n",
        "The street2sat pipeline involves transforming GoPro photos of crops into crop type field coordinates. This is done by:\n",
        "1. **Predicting the crops** visible in the GoPro photo\n",
        "2. **Road point extraction** Extracting the GPS coordinate of the GoPro photo (will be located on a road)\n",
        "3. **Obtaining high res imagery** for the GPS coordinate from Mapbox and Bing.\n",
        "4.  **Drawing an arrow** on the high res satellite imagery from the road point in the direction where the GoPro is pointed.\n",
        "5. **Field prediction**: Using the high res satellite image with an arrow to predict a mask for the location of the field.\n",
        "6. **Field point prediction**: Taking the centroid of the predicted field to create a crop type field coordinate.\n",
        "\n",
        "All of these steps are prone to different failure modes during the development of this pipeline.\n",
        "\n",
        "The purpose of this notebook is to explore and document these failure modes by analyzing several general points."
      ]
    },
    {
      "cell_type": "markdown",
      "metadata": {
        "id": "ReyEUVkdmRSe"
      },
      "source": [
        "## 1. Setup for visualizing all points in Google Earth"
      ]
    },
    {
      "cell_type": "markdown",
      "metadata": {
        "id": "H_p6EQf1dtvz"
      },
      "source": [
        "1. Download the following files from Github:\n",
        "- https://github.com/nasaharvest/street2sat/blob/main/data/points/field_bing.geojson\n",
        "- https://github.com/nasaharvest/street2sat/blob/main/data/points/field_mapbox.geojson\n",
        "- https://github.com/nasaharvest/street2sat/blob/main/data/points/road.geojson\n",
        "\n",
        "2. Drag them into Google Earth to visualize.\n",
        "3. Adjust the colors for easier distinction.\n",
        "\n",
        "<img src=\"https://storage.googleapis.com/harvest-public-assets/street2sat/GoogleEarth-updating-colors.png\" />\n"
      ]
    },
    {
      "cell_type": "markdown",
      "metadata": {
        "id": "1_SZg71_mZT3"
      },
      "source": [
        "## 2. Setup for individual point analysis\n",
        "\n",
        "Modify the first cell below to add your own MAPBOX_TOKEN, run the next cells without modification."
      ]
    },
    {
      "cell_type": "code",
      "execution_count": null,
      "metadata": {
        "id": "Kdjw4kz3zdmb"
      },
      "outputs": [],
      "source": [
        "# Set MAPBOX token, for visualizing points on map\n",
        "MAPBOX_TOKEN = \"\"\n",
        "assert MAPBOX_TOKEN != \"\", \"Set MAPBOX_TOKEN above\""
      ]
    },
    {
      "cell_type": "code",
      "execution_count": null,
      "metadata": {
        "id": "ZFKBUhDOdnnm"
      },
      "outputs": [],
      "source": [
        "# Setup\n",
        "import folium\n",
        "import matplotlib.pyplot as plt\n",
        "import pandas as pd\n",
        "from pathlib import Path"
      ]
    },
    {
      "cell_type": "code",
      "execution_count": null,
      "metadata": {
        "id": "YoeS_3mZpBX6"
      },
      "outputs": [],
      "source": [
        "# Login to Google Cloud, for downloading images and predictions\n",
        "!gcloud auth login\n",
        "!gcloud config set project \"bsos-geog-harvest1\""
      ]
    },
    {
      "cell_type": "code",
      "execution_count": null,
      "metadata": {
        "id": "8bY-pBZrR4KY"
      },
      "outputs": [],
      "source": [
        "# Downlaod file from Google Cloud Storage\n",
        "!gcloud storage cp gs://street2sat-database-csv/street2sat-v2-points-in-field.csv /content/"
      ]
    },
    {
      "cell_type": "code",
      "execution_count": null,
      "metadata": {
        "id": "LjJdqEIak_z0"
      },
      "outputs": [],
      "source": [
        "df_path = Path(\"/content/street2sat-v2-points-in-field.csv\")\n",
        "assert df_path.exists(), f\"File not found: {df_path.name}, rerun above cell.\"\n",
        "df = pd.read_csv(df_path)"
      ]
    },
    {
      "cell_type": "code",
      "execution_count": null,
      "metadata": {
        "id": "9uXuwbb-oFc8"
      },
      "outputs": [],
      "source": [
        "keys = [\"input_img\", \"mapbox_img_source\", \"bing_img_source\", \"mapbox_img_segmentation\", \"bing_img_segmentation\"]\n",
        "\n",
        "def download_images(row: dict):\n",
        "    img_root = Path(f\"/content/{row['name']}\")\n",
        "    img_root.mkdir(exist_ok=True)\n",
        "    for k in keys:\n",
        "        path = img_root / f\"{k}.jpg\"\n",
        "        if not path.exists():\n",
        "            img_src = row[k]\n",
        "            !gcloud storage cp {img_src} {path}\n",
        "    return img_root\n",
        "\n",
        "def plot_images(img_root: Path):\n",
        "    plt.imshow(plt.imread(img_root / (keys[0] + \".jpg\")))\n",
        "    plt.yticks([])\n",
        "    plt.xticks([])\n",
        "\n",
        "    fig, ax = plt.subplots(2,2, figsize=(6,6))\n",
        "\n",
        "    ax[0, 0].imshow(plt.imread(img_root / (keys[1] + \".jpg\")))\n",
        "    ax[1, 0].imshow(plt.imread(img_root / (keys[2] + \".jpg\")))\n",
        "    ax[0, 1].imshow(plt.imread(img_root / (keys[3] + \".jpg\")))\n",
        "    ax[1, 1].imshow(plt.imread(img_root / (keys[4] + \".jpg\")))\n",
        "\n",
        "    for i, row_title in enumerate([\"Mapbox\", \"Bing\"]):\n",
        "        ax[i, 0].set_ylabel(row_title, fontsize=12)\n",
        "\n",
        "    for j, col_title in enumerate([\"Satellite Image\", \"Segmentation\"]):\n",
        "        ax[1, j].set_xlabel(col_title, fontsize=12)\n",
        "\n",
        "    for row in ax:\n",
        "        for col in row:\n",
        "            col.set_yticks([])\n",
        "            col.set_yticklabels([])\n",
        "            col.set_xticks([])\n",
        "            col.set_xticklabels([])\n",
        "\n",
        "    plt.tight_layout()\n",
        "\n",
        "\n",
        "def generate_map(row):\n",
        "    m = folium.Map(\n",
        "        location=eval(row[\"coord\"]),\n",
        "        zoom_start=18,\n",
        "        tiles='https://api.tiles.mapbox.com/v4/mapbox.satellite/{z}/{x}/{y}.png?access_token=' + MAPBOX_TOKEN,\n",
        "        attr='mapbox.com'\n",
        "    )\n",
        "\n",
        "    folium.Marker(eval(row[\"coord\"]), popup='GoPro', icon=folium.Icon(color=\"lightgray\")).add_to(m)\n",
        "    folium.Marker(eval(row[\"mapbox_field_coord\"]), popup='Mapbox', icon=folium.Icon(color=\"blue\")).add_to(m)\n",
        "    folium.Marker(eval(row[\"bing_field_coord\"]), popup='Bing', icon=folium.Icon(color=\"orange\")).add_to(m)\n",
        "    return m\n",
        "\n",
        "def download_and_plot(country_folder, index):\n",
        "    row = df[df[\"country_folder\"] == country_folder].iloc[index]\n",
        "    img_root = download_images(row)\n",
        "    print(\"Copy the following line into Google sheets\")\n",
        "    line_part1 = f\"{country_folder}\\t{index}\\t{row['name']}\\t{row['time']}\\t\"\n",
        "    line_part2 = f\"{row['coord'][1:-1]}\\t{row['dominant_crop']}\"\n",
        "    print(line_part1 + line_part2)\n",
        "    print(\"\")\n",
        "\n",
        "    plot_images(img_root)\n"
      ]
    },
    {
      "cell_type": "code",
      "execution_count": null,
      "metadata": {
        "id": "Gaiq4fNa3-fq"
      },
      "outputs": [],
      "source": [
        "# Amount of current predictions per country\n",
        "df[\"country_folder\"].value_counts()"
      ]
    },
    {
      "cell_type": "markdown",
      "metadata": {
        "id": "oIdFgNcdTMKl"
      },
      "source": [
        "## 3. Individual Point Analysis\n",
        "\n",
        "1. Run the below cell specifying the desired country folder and index.\n",
        "\n",
        "2. Run the `Visualize Imagery` cell to see the:\n",
        "\n",
        " a. GoPro imagery\n",
        "\n",
        " b. High res satellite imagery from bing and mapbox\n",
        "\n",
        " c. Field segmentation predictions for satellite imagery (with red centroid point)\n",
        "\n",
        "3. Paste the printed `Road lat lon` into Google Earth to visualize all nearby points.\n",
        "\n",
        "4. Run the `Generate Map` cell to see the coordinates of the original image coordinate from road, and predicted field coordinates from bing and mapbox.\n",
        "\n",
        "5. Note your observations about the point in the associated Google Sheet: https://docs.google.com/spreadsheets/d/1SErjKizF6fM_48p8onQwJXWFr07rbqL2ToKh87TvDe8/edit?usp=sharing\n",
        "\n",
        "6. Update the index in the below cell and rerun to analyze the next point."
      ]
    },
    {
      "cell_type": "code",
      "execution_count": null,
      "metadata": {
        "id": "uksNd2p-1Y3f"
      },
      "outputs": [],
      "source": [
        "# Update the below values to analyze a specific point\n",
        "country_folder = \"KENYA_v2\"\n",
        "index = 114\n",
        "\n",
        "# Visualize imagery\n",
        "row = download_and_plot(country_folder, index)"
      ]
    },
    {
      "cell_type": "code",
      "execution_count": null,
      "metadata": {
        "id": "GBg8zux1JFTx"
      },
      "outputs": [],
      "source": [
        "# Visualize imagery\n",
        "row = download_and_plot(country_folder, index + 1)"
      ]
    },
    {
      "cell_type": "code",
      "execution_count": null,
      "metadata": {
        "id": "guQ69JghzUuO"
      },
      "outputs": [],
      "source": []
    }
  ],
  "metadata": {
    "colab": {
      "provenance": []
    },
    "kernelspec": {
      "display_name": "Python 3",
      "name": "python3"
    },
    "language_info": {
      "name": "python"
    }
  },
  "nbformat": 4,
  "nbformat_minor": 0
}
