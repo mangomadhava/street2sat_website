{
 "cells": [
  {
   "cell_type": "markdown",
   "id": "b0356345-1644-4d81-b683-bd22700e59a8",
   "metadata": {},
   "source": [
    "# Create field point files\n",
    "\n",
    "Description: Creates geojson files for field points.\n",
    "\n",
    "Author: Ivan Zvonkov\n",
    "\n",
    "Date: Nov 13, 2023\n"
   ]
  },
  {
   "cell_type": "code",
   "execution_count": 4,
   "id": "4951f0fc-0acd-41f4-9c78-e3352db03dde",
   "metadata": {},
   "outputs": [
    {
     "name": "stdout",
     "output_type": "stream",
     "text": [
      "\u001b[33mWARNING: You are using pip version 22.0.4; however, version 23.3.1 is available.\n",
      "You should consider upgrading via the '/Users/izvonkov/nasaharvest/street2sat/venv/bin/python -m pip install --upgrade pip' command.\u001b[0m\u001b[33m\n",
      "\u001b[0m"
     ]
    }
   ],
   "source": [
    "!pip install geopandas -q"
   ]
  },
  {
   "cell_type": "code",
   "execution_count": 76,
   "id": "6fa58dd2-008f-4748-ae81-35c0c117f711",
   "metadata": {},
   "outputs": [],
   "source": [
    "import pandas as pd\n",
    "import geopandas as gpd\n",
    "\n",
    "from pathlib import Path"
   ]
  },
  {
   "cell_type": "code",
   "execution_count": 54,
   "id": "3af6dbd4-e528-4ae2-8206-05bfc7b203ef",
   "metadata": {},
   "outputs": [],
   "source": [
    "df = pd.read_csv(\"../data/street2sat-v2-points-in-field.csv\")"
   ]
  },
  {
   "cell_type": "code",
   "execution_count": 55,
   "id": "8e0cee10-2e35-4c10-91ac-0a95dcfb9c1c",
   "metadata": {},
   "outputs": [],
   "source": [
    "predictions = pd.json_normalize(df[\"results\"].apply(eval))"
   ]
  },
  {
   "cell_type": "code",
   "execution_count": 56,
   "id": "bde2851a-2e35-4b4b-b81f-6f44e7a8086a",
   "metadata": {},
   "outputs": [],
   "source": [
    "crops = list(predictions.columns[1:])"
   ]
  },
  {
   "cell_type": "code",
   "execution_count": 57,
   "id": "70d814c0-272a-4a75-904f-0be29395c790",
   "metadata": {},
   "outputs": [],
   "source": [
    "df = pd.concat([df, predictions], axis=1)"
   ]
  },
  {
   "cell_type": "code",
   "execution_count": 58,
   "id": "2c4b975a-569f-4cd8-acd4-59783beae70a",
   "metadata": {},
   "outputs": [],
   "source": [
    "df[\"dominant_crop\"] = df[crops].apply(lambda x: max(dict(x), key=dict(x).get), axis=1)"
   ]
  },
  {
   "cell_type": "code",
   "execution_count": 72,
   "id": "f7690476-f159-4dee-ae53-bdc2317f0303",
   "metadata": {},
   "outputs": [],
   "source": [
    "# Rename some columns\n",
    "df[\"key\"] = df[\"name\"]\n",
    "df[\"name\"] = df[\"dominant_crop\"]\n"
   ]
  },
  {
   "cell_type": "code",
   "execution_count": 68,
   "id": "f7fa3581-a1f2-4527-b0bc-ad131ff0b63b",
   "metadata": {},
   "outputs": [],
   "source": [
    "df[\"road_lat\"] = df[\"coord\"].map(lambda coord: eval(coord)[0])\n",
    "df[\"road_lon\"] = df[\"coord\"].map(lambda coord: eval(coord)[1])"
   ]
  },
  {
   "cell_type": "code",
   "execution_count": 73,
   "id": "c83e21e8-66c2-4d14-8209-16e626338944",
   "metadata": {},
   "outputs": [],
   "source": [
    "def generate_gdf(cols, lon, lat):\n",
    "    points = gpd.points_from_xy(df[lon], df[lat], crs=\"EPSG:4326\")\n",
    "    gdf = gpd.GeoDataFrame(df[cols], geometry=points)\n",
    "    return gdf\n",
    "\n",
    "road_cols = [\"input_img\", \"name\", \"dominant_crop\", \"segmentation_images\"] + crops\n",
    "bing_cols = [\"input_img\", \"name\", \"dominant_crop\", \"bing_img_source\", \"bing_img_segmentation\"] + crops\n",
    "mapbox_cols = [\"input_img\", \"name\", \"dominant_crop\", \"mapbox_img_source\", \"mapbox_img_segmentation\"] + crops\n",
    "\n",
    "gdf_road = generate_gdf(cols=road_cols, lat=\"road_lat\", lon=\"road_lon\")\n",
    "gdf_bing = generate_gdf(cols=bing_cols, lat=\"bing_field_coord_lat\", lon=\"bing_field_coord_lon\")\n",
    "gdf_mapbox = generate_gdf(cols=mapbox_cols, lat=\"mapbox_field_coord_lat\", lon=\"mapbox_field_coord_lon\")"
   ]
  },
  {
   "cell_type": "code",
   "execution_count": 77,
   "id": "28935835-0418-4522-9cd4-33cfb032949d",
   "metadata": {},
   "outputs": [],
   "source": [
    "Path(\"../data/points\").mkdir(exist_ok=True)"
   ]
  },
  {
   "cell_type": "code",
   "execution_count": 78,
   "id": "eebbe34e-370e-49e8-b6f8-354f68d0976c",
   "metadata": {},
   "outputs": [],
   "source": [
    "gdf_road.to_file(\"../data/points/road.geojson\", driver=\"GeoJSON\")\n",
    "gdf_bing.to_file(\"../data/points/field_bing.geojson\", driver=\"GeoJSON\")\n",
    "gdf_mapbox.to_file(\"../data/points/field_mapbox.geojson\", driver=\"GeoJSON\")"
   ]
  },
  {
   "cell_type": "code",
   "execution_count": null,
   "id": "2e7f7442-e290-45e0-884f-e7dc4e8e3a3b",
   "metadata": {},
   "outputs": [],
   "source": []
  }
 ],
 "metadata": {
  "kernelspec": {
   "display_name": "Python 3 (ipykernel)",
   "language": "python",
   "name": "python3"
  },
  "language_info": {
   "codemirror_mode": {
    "name": "ipython",
    "version": 3
   },
   "file_extension": ".py",
   "mimetype": "text/x-python",
   "name": "python",
   "nbconvert_exporter": "python",
   "pygments_lexer": "ipython3",
   "version": "3.9.12"
  }
 },
 "nbformat": 4,
 "nbformat_minor": 5
}
