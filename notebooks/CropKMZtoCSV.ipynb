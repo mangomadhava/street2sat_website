{
  "cells": [
    {
      "cell_type": "markdown",
      "metadata": {
        "id": "9i5fMaQkbg6y"
      },
      "source": [
        "# Approved Crop KMZ to CSV\n",
        "\n",
        "<a target=\"_blank\" href=\"https://colab.research.google.com/github/nasaharvest/street2sat/blob/main/notebooks/CropKMZtoCSV.ipynb\">\n",
        "  <img src=\"https://colab.research.google.com/assets/colab-badge.svg\" alt=\"Open In Colab\"/>\n",
        "</a>\n",
        "\n",
        "**Author**: Ivan Zvonkov\n",
        "\n",
        "**Last Modified**: July 7, 2024\n",
        "\n",
        "**Description**: Converts approved KMZ to csv (for upload to Google Earth Engine)\n"
      ]
    },
    {
      "cell_type": "code",
      "execution_count": null,
      "metadata": {
        "id": "lAf1nC3Ub-bV"
      },
      "outputs": [],
      "source": [
        "!pip install simplekml -q"
      ]
    },
    {
      "cell_type": "code",
      "execution_count": null,
      "metadata": {
        "id": "MPYfNELocD6U"
      },
      "outputs": [],
      "source": [
        "from bs4 import BeautifulSoup\n",
        "from google.colab import drive\n",
        "from pathlib import Path\n",
        "\n",
        "import json\n",
        "import pandas as pd\n",
        "import simplekml\n",
        "import xml.etree.ElementTree as ET\n",
        "import zipfile\n",
        "\n",
        "\n",
        "drive.mount('/content/drive')"
      ]
    },
    {
      "cell_type": "markdown",
      "metadata": {
        "id": "tkr5nA9aqmTu"
      },
      "source": [
        "## 1. Convert each KMZ into a CSV file"
      ]
    },
    {
      "cell_type": "code",
      "execution_count": null,
      "metadata": {
        "id": "ozKxISN3g5Ti"
      },
      "outputs": [],
      "source": [
        "!ls \"/content/drive/MyDrive/SatLabel Squad/Diana Reviewed Points\""
      ]
    },
    {
      "cell_type": "code",
      "execution_count": null,
      "metadata": {
        "id": "yvxIKXu1QijG"
      },
      "outputs": [],
      "source": [
        "# Specify file\n",
        "src_folder = \"/content/drive/MyDrive/SatLabel Squad/Diana Reviewed Points\"\n",
        "src_file = \"Kenya_ADM1_51331_Rift_Valley_ADM2_68770_Nandi_South_batch2_95_background_300_400.kmz\"\n",
        "\n",
        "dest_folder = \"/content/drive/MyDrive/SatLabel Squad/Helmets Approved Points (CSV)\"\n",
        "dest_file = src_file.replace(\".kmz\", \".csv\")\n",
        "\n",
        "kmz_file_path = f\"{src_folder}/{src_file}\"\n",
        "\n",
        "# Unzip KMZ file\n",
        "with zipfile.ZipFile(kmz_file_path, 'r') as kmz:\n",
        "    kml_filename = [name for name in kmz.namelist() if name.endswith('.kml')][0]\n",
        "    kml_data = kmz.read(kml_filename)\n",
        "\n",
        "# Convert KMZ file to KMZ points list\n",
        "namespace = {'kml': 'http://www.opengis.net/kml/2.2'}\n",
        "kmz_points = []\n",
        "\n",
        "root = ET.fromstring(kml_data)\n",
        "for placemark in root.findall('.//kml:Placemark', namespace):\n",
        "    kmz_element = {}\n",
        "    for child in placemark.iter():\n",
        "        key = child.tag.replace('{http://www.opengis.net/kml/2.2}', '')\n",
        "        kmz_element[key] = child.text\n",
        "\n",
        "    kmz_points.append(kmz_element)"
      ]
    },
    {
      "cell_type": "code",
      "execution_count": null,
      "metadata": {
        "id": "mr35e9tJgq1B"
      },
      "outputs": [],
      "source": [
        "# Convert KMZ points list to crop/non-crop point list\n",
        "\n",
        "points = []\n",
        "\n",
        "for kmz_point in kmz_points:\n",
        "\n",
        "    row = {}\n",
        "\n",
        "    soup = BeautifulSoup(kmz_point[\"description\"], 'html.parser')\n",
        "    row[\"capture_info\"] = soup.find_all('h2')[0].text\n",
        "    row[\"capture_time\"] = soup.find_all('p')[0].text.split(\": \")[1]\n",
        "    row[\"image_url\"] = soup.find('a')['href']\n",
        "\n",
        "    # Driving direction details\n",
        "    direction_data = soup.find_all('h2')[2].next_siblings\n",
        "    direction_data = [item for item in direction_data if item.name == 'p']\n",
        "\n",
        "    row[\"driving_northing\"] = float(direction_data[0].text.split(\": \")[1])\n",
        "    row[\"driving_easting\"] = float(direction_data[1].text.split(\": \")[1])\n",
        "    row[\"is_right_hand_drive\"] = direction_data[2].text.split(\": \")[1] == 'True'\n",
        "\n",
        "    # Location details\n",
        "    location_data = soup.find_all('h2')[1].next_siblings\n",
        "    location_data = [item for item in location_data if item.name == 'p']\n",
        "    row[\"adm1\"] = location_data[0].text.split(\": \")[1]\n",
        "    row[\"adm2\"] = location_data[1].text.split(\": \")[1]\n",
        "\n",
        "    road_lat_lon = json.loads(location_data[2].text.split(\": \")[1].replace('(', '[').replace(')', ']'))\n",
        "    field_lat_lon = json.loads(location_data[3].text.split(\": \")[1].replace('(', '[').replace(')', ']'))\n",
        "\n",
        "    crop_point = {\n",
        "        \"latitude\": field_lat_lon[0],\n",
        "        \"longitude\": field_lat_lon[1],\n",
        "        \"is_crop\": 1,\n",
        "        \"crop_type\": kmz_point[\"name\"],\n",
        "        **row,\n",
        "    }\n",
        "\n",
        "    non_crop_point = {\n",
        "        \"latitude\": road_lat_lon[0],\n",
        "        \"longitude\": road_lat_lon[1],\n",
        "        \"is_crop\": 0,\n",
        "        \"crop_type\": \"\",\n",
        "        **row,\n",
        "    }\n",
        "\n",
        "    points.append(crop_point)\n",
        "    points.append(non_crop_point)\n",
        "\n",
        "df = pd.DataFrame(points)\n",
        "df[\"gcloud_folder\"] = df[\"image_url\"].str.extract(r'street2sat-uploaded/([^/]+/[^/]+/[^/]+)')\n",
        "#df[\"gcloud_folder\"] = df[\"image_url\"].str.extract(r'street2sat-uploaded/([^/]+/[^/]+)')\n",
        "df[\"gcloud_folder\"].value_counts()"
      ]
    },
    {
      "cell_type": "code",
      "execution_count": null,
      "metadata": {
        "id": "q3Iz3PCOcsgt"
      },
      "outputs": [],
      "source": [
        "df.to_csv(f\"{dest_folder}/{dest_file}\", index=False)\n",
        "dest_file"
      ]
    },
    {
      "cell_type": "markdown",
      "metadata": {
        "id": "7gC_QHgCqr-1"
      },
      "source": [
        "## 2. Merge CSV files into single file"
      ]
    },
    {
      "cell_type": "code",
      "execution_count": null,
      "metadata": {
        "id": "ZJpFACJfqyD4"
      },
      "outputs": [],
      "source": [
        "csvs = list(Path(dest_folder).glob(\"*.csv\"))\n",
        "len(csvs)"
      ]
    },
    {
      "cell_type": "code",
      "execution_count": null,
      "metadata": {
        "id": "EqiQoPGmrBqD"
      },
      "outputs": [],
      "source": [
        "df = pd.concat([pd.read_csv(csv) for csv in csvs], ignore_index=True)"
      ]
    },
    {
      "cell_type": "code",
      "execution_count": null,
      "metadata": {
        "id": "X6M-l4uprs4a"
      },
      "outputs": [],
      "source": [
        "df[\"gcloud_folder\"].value_counts()"
      ]
    },
    {
      "cell_type": "code",
      "execution_count": null,
      "metadata": {
        "id": "95N_v3z8rNW2"
      },
      "outputs": [],
      "source": [
        "df.to_csv(f\"/content/drive/MyDrive/SatLabel Squad/Kenya_2021_batch202404.csv\", index=False)"
      ]
    },
    {
      "cell_type": "code",
      "execution_count": null,
      "metadata": {
        "id": "N3Xrfw03rOIp"
      },
      "outputs": [],
      "source": []
    }
  ],
  "metadata": {
    "colab": {
      "provenance": []
    },
    "kernelspec": {
      "display_name": "Python 3",
      "name": "python3"
    },
    "language_info": {
      "name": "python"
    }
  },
  "nbformat": 4,
  "nbformat_minor": 0
}
