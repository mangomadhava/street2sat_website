{
 "cells": [
  {
   "cell_type": "markdown",
   "id": "cdbd0b98-4c93-45df-a84e-616326b83308",
   "metadata": {},
   "source": [
    "# Kenya, Rift Valley, Uasin Gishu Field Point Preparation\n",
    "\n",
    "**Analyzer:** Ivan Zvonkov\n",
    "\n",
    "**Last modified:** May 13, 2024\n",
    "\n",
    "**Description**: Generate field offset points for region and creates geojsons for analysis."
   ]
  },
  {
   "cell_type": "markdown",
   "id": "4531909c-62f2-4528-a0fc-f77a98a0cfff",
   "metadata": {},
   "source": [
    "## 1. Load data for region"
   ]
  },
  {
   "cell_type": "code",
   "execution_count": 1,
   "id": "10542506-c225-43fc-9e15-d95a52a9ca75",
   "metadata": {},
   "outputs": [],
   "source": [
    "import numpy as np\n",
    "import geopandas as gpd\n",
    "import math\n",
    "import pandas as pd\n",
    "import simplekml\n",
    "import utm\n",
    "\n",
    "from pathlib import Path\n",
    "from tqdm import tqdm\n",
    "from datetime import datetime, timedelta\n"
   ]
  },
  {
   "cell_type": "code",
   "execution_count": 2,
   "id": "8de48b83-2950-48f9-bf05-18a0fe22e27d",
   "metadata": {},
   "outputs": [
    {
     "name": "stderr",
     "output_type": "stream",
     "text": [
      "/var/folders/1v/87y9n_d5143c_6cp072v3b1c0000gn/T/ipykernel_12190/1181535718.py:1: DtypeWarning: Columns (9,12,13,14,16,17) have mixed types. Specify dtype option on import or set low_memory=False.\n",
      "  df_all = pd.read_csv(\"../../data/street2sat-v2.csv\")\n"
     ]
    }
   ],
   "source": [
    "df_all = pd.read_csv(\"../../data/street2sat-v2.csv\")\n",
    "# 5 seconds\n",
    "input_img_str_split = df_all[\"input_img\"].str.split(\"/\")\n",
    "df_all[\"country_folder\"] = input_img_str_split.str[3]\n",
    "df_all[\"country_subfolder\"] = input_img_str_split.str[4]"
   ]
  },
  {
   "cell_type": "code",
   "execution_count": 3,
   "id": "ad1b310c-d474-4f4d-abbf-9e3025c652f7",
   "metadata": {},
   "outputs": [],
   "source": [
    "df_country = df_all[df_all[\"country_folder\"] == \"KENYA_v2\"]"
   ]
  },
  {
   "cell_type": "code",
   "execution_count": 15,
   "id": "b0f3342b-1241-43a9-87b9-ec100f682074",
   "metadata": {},
   "outputs": [
    {
     "name": "stderr",
     "output_type": "stream",
     "text": [
      "/var/folders/1v/87y9n_d5143c_6cp072v3b1c0000gn/T/ipykernel_12190/2201906365.py:1: DtypeWarning: Columns (11,14,15,16,18,19) have mixed types. Specify dtype option on import or set low_memory=False.\n",
      "  df = pd.read_csv(\"../../data/Kenya_crops_w_admin_zones_CLEAN.csv\")\n"
     ]
    }
   ],
   "source": [
    "df = pd.read_csv(\"../../data/Kenya_crops_w_admin_zones_CLEAN.csv\")"
   ]
  },
  {
   "cell_type": "code",
   "execution_count": 16,
   "id": "ea957e2f-b4ee-486c-b9e6-1bd61cd9c8ad",
   "metadata": {},
   "outputs": [
    {
     "data": {
      "text/plain": [
       "ADM2_CODE  ADM2 Label       \n",
       "51386.0    51386 Nakuru         30600\n",
       "51388.0    51388 Narok          10468\n",
       "51391.0    51391 Trans Nzoia     9547\n",
       "51382.0    51382 Kericho         2844\n",
       "68770.0    68770 Nandi South     1801\n",
       "68769.0    68769 Nandi North     1175\n",
       "51393.0    51393 Uasin Gishu      818\n",
       "51378.0    51378 Bomet            339\n",
       "51379.0    51379 Buret             96\n",
       "51392.0    51392 Turkana           14\n",
       "Name: count, dtype: int64"
      ]
     },
     "execution_count": 16,
     "metadata": {},
     "output_type": "execute_result"
    }
   ],
   "source": [
    "df[(df[\"ADM1_CODE\"] == 51331)][[\"ADM2_CODE\", \"ADM2 Label\"]].value_counts()"
   ]
  },
  {
   "cell_type": "markdown",
   "id": "b517d693-d33d-4a7a-aa19-005e6632ff96",
   "metadata": {},
   "source": [
    "\n",
    "## Admin Zone selection \n",
    "\n",
    "Nandi South, Nandi North complete,\n",
    "\n",
    "Skipping Kericho because it is along UTM bound, resolve issue first \n",
    "\n",
    "Uasin Gishu"
   ]
  },
  {
   "cell_type": "code",
   "execution_count": 17,
   "id": "58478712-2dec-4056-94ae-7f0a83a80cf7",
   "metadata": {},
   "outputs": [],
   "source": [
    "df = df[(df[\"ADM1_CODE\"] == 51331) & (df[\"ADM2_CODE\"] == 51393)]"
   ]
  },
  {
   "cell_type": "code",
   "execution_count": 18,
   "id": "19c7ffd5-3437-4108-9686-550bab067903",
   "metadata": {},
   "outputs": [
    {
     "name": "stdout",
     "output_type": "stream",
     "text": [
      "Total points: 818\n"
     ]
    }
   ],
   "source": [
    "print(f\"Total points: {len(df)}\")"
   ]
  },
  {
   "cell_type": "code",
   "execution_count": 20,
   "id": "16d67836-d779-4cfe-a7d5-7f74a3746b7e",
   "metadata": {},
   "outputs": [],
   "source": [
    "PREFIX = \"../Kenya_ADM1_51331_Rift_Valley_ADM2_51393_Uasin_Gishu\""
   ]
  },
  {
   "cell_type": "markdown",
   "id": "9e8e92fd-8cc8-46fd-8f55-27923e210da3",
   "metadata": {},
   "source": [
    "## 2. Compute Field Points using Offset Method"
   ]
  },
  {
   "cell_type": "code",
   "execution_count": 21,
   "id": "bb4ef821-7d4d-438d-9c9d-e576ea63dead",
   "metadata": {},
   "outputs": [],
   "source": [
    "is_right_hand_drive = False"
   ]
  },
  {
   "cell_type": "code",
   "execution_count": 22,
   "id": "31e8292d-a33e-4767-9a57-7c7344a10ea9",
   "metadata": {},
   "outputs": [],
   "source": [
    "# Copied and pasted from field_coord_distance_offset.ipynb\n",
    "\n",
    "floor10 = lambda x: x//10 * 10\n",
    "to_pixel_centroid = lambda coord: (floor10(coord[0]) + 5, floor10(coord[1]) + 5)\n",
    "\n",
    "def generate_offset_point_wgs84(coord0, coord1, is_right_hand_drive=True, meters=20):\n",
    "    utm_coord0 = utm.from_latlon(coord0[0], coord0[1])\n",
    "    utm_coord1 = utm.from_latlon(coord1[0], coord1[1])\n",
    "\n",
    "    for i, zone_type in [(2, \"number\"), (3, \"letter\")]:\n",
    "        if utm_coord1[i] != utm_coord0[i]:\n",
    "            print(utm_coord0)\n",
    "            print(utm_coord1)\n",
    "            raise ValueError(f\"UTM Zone {zone_type} mismatch: {utm_coord0[i]} and {utm_coord1[i]}\")\n",
    "    \n",
    "    \n",
    "    delta_east = utm_coord1[0] - utm_coord0[0]\n",
    "    delta_north = utm_coord1[1] - utm_coord0[1]\n",
    "\n",
    "    # Offset for meters change in offset point distance \n",
    "    x_offset = np.abs(meters * math.cos(math.atan(delta_east / delta_north)))\n",
    "\n",
    "    # Direction of offset\n",
    "    x_direction = np.sign(delta_north) if is_right_hand_drive else -np.sign(delta_north)\n",
    "    x_offset *= x_direction\n",
    "        \n",
    "    orthogonal_slope = -delta_east / delta_north\n",
    "    orthogonal_b = utm_coord1[1] - (orthogonal_slope * utm_coord1[0])\n",
    "    orthogonal_y = lambda x: orthogonal_slope*x + orthogonal_b\n",
    "\n",
    "    field_point_x = utm_coord1[0] + x_offset\n",
    "    field_point_y = orthogonal_y(field_point_x)\n",
    "\n",
    "    field_latlon = utm.to_latlon(field_point_x, field_point_y, utm_coord1[2], utm_coord1[3])\n",
    "\n",
    "    pixel_centroid_x, pixel_centroid_y  = to_pixel_centroid((field_point_x, field_point_y))\n",
    "    pixel_centroid_field_latlon = utm.to_latlon(pixel_centroid_x, pixel_centroid_y, utm_coord1[2], utm_coord1[3])\n",
    "        \n",
    "    return field_latlon, pixel_centroid_field_latlon, (delta_east, delta_north)\n",
    "\n",
    "def road_pixel_centroid(coord):\n",
    "    utm_coord = utm.from_latlon(coord[0], coord[1])\n",
    "    utm_pixel_centroid = to_pixel_centroid(utm_coord)\n",
    "    return utm.to_latlon(*utm_pixel_centroid, utm_coord[2], utm_coord[3])"
   ]
  },
  {
   "cell_type": "code",
   "execution_count": 23,
   "id": "0d2025e6-083e-4d77-8c67-e6b42010a3c1",
   "metadata": {},
   "outputs": [
    {
     "name": "stderr",
     "output_type": "stream",
     "text": [
      "  1%|▎                                          | 5/818 [00:00<00:34, 23.89it/s]"
     ]
    },
    {
     "name": "stdout",
     "output_type": "stream",
     "text": [
      "No prior records found for 0\n",
      "No prior records found for 1\n"
     ]
    },
    {
     "name": "stderr",
     "output_type": "stream",
     "text": [
      "  4%|█▋                                        | 32/818 [00:01<00:29, 26.34it/s]"
     ]
    },
    {
     "name": "stdout",
     "output_type": "stream",
     "text": [
      "No prior records found for 26\n"
     ]
    },
    {
     "name": "stderr",
     "output_type": "stream",
     "text": [
      " 10%|████▎                                     | 83/818 [00:03<00:31, 23.07it/s]"
     ]
    },
    {
     "name": "stdout",
     "output_type": "stream",
     "text": [
      "No prior records found for 78\n"
     ]
    },
    {
     "name": "stderr",
     "output_type": "stream",
     "text": [
      " 15%|█████▉                                   | 119/818 [00:04<00:26, 26.76it/s]"
     ]
    },
    {
     "name": "stdout",
     "output_type": "stream",
     "text": [
      "No prior records found for 114\n"
     ]
    },
    {
     "name": "stderr",
     "output_type": "stream",
     "text": [
      " 17%|███████                                  | 140/818 [00:05<00:25, 26.77it/s]"
     ]
    },
    {
     "name": "stdout",
     "output_type": "stream",
     "text": [
      "No prior records found for 135\n",
      "No prior records found for 136\n"
     ]
    },
    {
     "name": "stderr",
     "output_type": "stream",
     "text": [
      " 18%|███████▎                                 | 146/818 [00:05<00:27, 24.39it/s]"
     ]
    },
    {
     "name": "stdout",
     "output_type": "stream",
     "text": [
      "No prior records found for 142\n"
     ]
    },
    {
     "name": "stderr",
     "output_type": "stream",
     "text": [
      " 21%|████████▌                                | 170/818 [00:06<00:24, 26.69it/s]"
     ]
    },
    {
     "name": "stdout",
     "output_type": "stream",
     "text": [
      "No prior records found for 165\n",
      "No prior records found for 166\n"
     ]
    },
    {
     "name": "stderr",
     "output_type": "stream",
     "text": [
      " 28%|███████████▋                             | 233/818 [00:08<00:21, 27.06it/s]"
     ]
    },
    {
     "name": "stdout",
     "output_type": "stream",
     "text": [
      "No prior records found for 229\n",
      "No prior records found for 230\n",
      "No prior records found for 233\n"
     ]
    },
    {
     "name": "stderr",
     "output_type": "stream",
     "text": [
      " 32%|█████████████▏                           | 263/818 [00:09<00:20, 27.27it/s]"
     ]
    },
    {
     "name": "stdout",
     "output_type": "stream",
     "text": [
      "No prior records found for 258\n",
      "No prior records found for 259\n"
     ]
    },
    {
     "name": "stderr",
     "output_type": "stream",
     "text": [
      " 39%|███████████████▉                         | 317/818 [00:11<00:18, 26.83it/s]"
     ]
    },
    {
     "name": "stdout",
     "output_type": "stream",
     "text": [
      "No prior records found for 312\n",
      "No prior records found for 317\n"
     ]
    },
    {
     "name": "stderr",
     "output_type": "stream",
     "text": [
      " 41%|████████████████▉                        | 338/818 [00:12<00:17, 26.92it/s]"
     ]
    },
    {
     "name": "stdout",
     "output_type": "stream",
     "text": [
      "No prior records found for 333\n",
      "No prior records found for 334\n"
     ]
    },
    {
     "name": "stderr",
     "output_type": "stream",
     "text": [
      " 46%|███████████████████                      | 380/818 [00:14<00:16, 26.93it/s]"
     ]
    },
    {
     "name": "stdout",
     "output_type": "stream",
     "text": [
      "No prior records found for 374\n"
     ]
    },
    {
     "name": "stderr",
     "output_type": "stream",
     "text": [
      " 55%|██████████████████████▌                  | 449/818 [00:16<00:13, 27.07it/s]"
     ]
    },
    {
     "name": "stdout",
     "output_type": "stream",
     "text": [
      "No prior records found for 444\n",
      "No prior records found for 445\n"
     ]
    },
    {
     "name": "stderr",
     "output_type": "stream",
     "text": [
      " 61%|█████████████████████████                | 500/818 [00:18<00:11, 27.21it/s]"
     ]
    },
    {
     "name": "stdout",
     "output_type": "stream",
     "text": [
      "No prior records found for 495\n"
     ]
    },
    {
     "name": "stderr",
     "output_type": "stream",
     "text": [
      " 79%|████████████████████████████████▌        | 650/818 [00:24<00:06, 27.17it/s]"
     ]
    },
    {
     "name": "stdout",
     "output_type": "stream",
     "text": [
      "No prior records found for 644\n",
      "No prior records found for 645\n"
     ]
    },
    {
     "name": "stderr",
     "output_type": "stream",
     "text": [
      " 83%|█████████████████████████████████▉       | 677/818 [00:25<00:05, 27.17it/s]"
     ]
    },
    {
     "name": "stdout",
     "output_type": "stream",
     "text": [
      "No prior records found for 673\n"
     ]
    },
    {
     "name": "stderr",
     "output_type": "stream",
     "text": [
      " 87%|███████████████████████████████████▋     | 713/818 [00:26<00:03, 26.66it/s]"
     ]
    },
    {
     "name": "stdout",
     "output_type": "stream",
     "text": [
      "No prior records found for 707\n"
     ]
    },
    {
     "name": "stderr",
     "output_type": "stream",
     "text": [
      " 91%|█████████████████████████████████████▏   | 743/818 [00:27<00:02, 27.19it/s]"
     ]
    },
    {
     "name": "stdout",
     "output_type": "stream",
     "text": [
      "No prior records found for 737\n"
     ]
    },
    {
     "name": "stderr",
     "output_type": "stream",
     "text": [
      " 95%|██████████████████████████████████████▉  | 776/818 [00:29<00:01, 27.25it/s]"
     ]
    },
    {
     "name": "stdout",
     "output_type": "stream",
     "text": [
      "No prior records found for 770\n",
      "No prior records found for 771\n"
     ]
    },
    {
     "name": "stderr",
     "output_type": "stream",
     "text": [
      "100%|█████████████████████████████████████████| 818/818 [00:30<00:00, 26.77it/s]\n"
     ]
    }
   ],
   "source": [
    "field_points = []\n",
    "\n",
    "for i in tqdm(range(0, len(df))):\n",
    "    if df.iloc[i][\"input_img\"].endswith(\".THM\"):\n",
    "        continue\n",
    "\n",
    "    # Get road coordinate\n",
    "    current_record = df.iloc[i]\n",
    "    road_coord = eval(current_record[\"coord\"])\n",
    "    road_10m_centroid = road_pixel_centroid(road_coord)\n",
    "\n",
    "    # Get prior coordinate\n",
    "    time1 = datetime.fromisoformat(current_record[\"time\"])\n",
    "    before_time_interval = time1 - timedelta(seconds=10)\n",
    "    time_filter = (df_country[\"time\"] < str(time1)) & (df_country[\"time\"] > str(before_time_interval))\n",
    "    prior_records = df_country[time_filter].sort_values(by=['time'])\n",
    "    if len(prior_records) == 0:\n",
    "        print(f\"No prior records found for {i}\")\n",
    "        continue\n",
    "    \n",
    "    prior_record = prior_records.iloc[-1]\n",
    "    prior_coord = eval(prior_record[\"coord\"])\n",
    "\n",
    "    # Get direction and field offset\n",
    "    try:\n",
    "        output = generate_offset_point_wgs84(prior_coord, road_coord, is_right_hand_drive) \n",
    "        offset_field_coord, offset_field_pixel_centroid, driving_direction = output \n",
    "\n",
    "        field_points.append({\n",
    "            \"road_pixel_centroid\": road_10m_centroid,\n",
    "            \"is_right_hand_drive\": is_right_hand_drive,\n",
    "            \"driving_easting\": driving_direction[0],\n",
    "            \"driving_northing\": driving_direction[1],\n",
    "            \"offset_field_coord\": offset_field_coord,\n",
    "            \"offset_field_pixel_centroid\": offset_field_pixel_centroid,\n",
    "            \"time_computed\": datetime.now(),\n",
    "            **df.iloc[i],   \n",
    "        })\n",
    "    except Exception as e:\n",
    "        print(e)\n",
    "    "
   ]
  },
  {
   "cell_type": "markdown",
   "id": "c6ec56c2-7576-4b2d-95a7-7ab61d172289",
   "metadata": {},
   "source": [
    "## Filter Background"
   ]
  },
  {
   "cell_type": "code",
   "execution_count": 24,
   "id": "9f4bbc39-84c9-4a3a-84f6-583b08dce965",
   "metadata": {},
   "outputs": [
    {
     "name": "stdout",
     "output_type": "stream",
     "text": [
      "Before background filter: 788\n",
      "After background filter: 286\n"
     ]
    }
   ],
   "source": [
    "field_df = pd.DataFrame(field_points)\n",
    "print(f\"Before background filter: {len(field_df)}\")\n",
    "\n",
    "# Only points with less than 95% background kept\n",
    "field_df = field_df[field_df[\"background\"] < 0.95 ].copy()\n",
    "print(f\"After background filter: {len(field_df)}\")"
   ]
  },
  {
   "cell_type": "markdown",
   "id": "3e016c49-723e-4611-a33c-5949f289543d",
   "metadata": {},
   "source": [
    "## Download images from Google Cloud\n",
    "\n",
    "**Assumption**: Unique file names."
   ]
  },
  {
   "cell_type": "code",
   "execution_count": 25,
   "id": "4a2b5a65-44b4-4d32-ae84-193751cea166",
   "metadata": {},
   "outputs": [],
   "source": [
    "Path(PREFIX).mkdir(exist_ok=True)"
   ]
  },
  {
   "cell_type": "code",
   "execution_count": 26,
   "id": "1b741305-e5b5-4c72-b4e3-f2883133e119",
   "metadata": {},
   "outputs": [],
   "source": [
    "file_list_str = \"\\n\".join(field_df[\"input_img\"].tolist())"
   ]
  },
  {
   "cell_type": "code",
   "execution_count": 27,
   "id": "cd6d8935-6ddf-4092-b955-336392479a4f",
   "metadata": {},
   "outputs": [],
   "source": [
    "Path(f\"{PREFIX}/images\").mkdir(exist_ok=True)"
   ]
  },
  {
   "cell_type": "code",
   "execution_count": 28,
   "id": "dc3a18ee-a365-40f5-bbf5-35de955c14be",
   "metadata": {},
   "outputs": [
    {
     "name": "stdout",
     "output_type": "stream",
     "text": [
      "\n",
      "\n",
      "Updates are available for some Google Cloud CLI components.  To install them,\n",
      "please run:\n",
      "  $ gcloud components update\n",
      "\n",
      "If you experience problems with multiprocessing on MacOS, they might be related to https://bugs.python.org/issue33725. You can disable multiprocessing by editing your .boto config or by adding the following flag to your command: `-o \"GSUtil:parallel_process_count=1\"`. Note that multithreading is still available even if you disable multiprocessing.\n",
      "\n",
      "Copying gs://street2sat-uploaded/KENYA_v2/2021_07_06_T2/GPAN9031.JPG...\n",
      "Copying gs://street2sat-uploaded/KENYA_v2/2021_07_06_T2/GPAN9033.JPG...         \n",
      "Copying gs://street2sat-uploaded/KENYA_v2/2021_07_06_T2/GPAN9035.JPG...         \n",
      "Copying gs://street2sat-uploaded/KENYA_v2/2021_07_06_T2/GPAO9245.JPG...         \n",
      "Copying gs://street2sat-uploaded/KENYA_v2/2021_07_06_T2/GPAO9246.JPG...         \n",
      "Copying gs://street2sat-uploaded/KENYA_v2/2021_07_06_T2/GPAO9248.JPG...         \n",
      "Copying gs://street2sat-uploaded/KENYA_v2/2021_07_06_T2/GPAO9249.JPG...         \n",
      "Copying gs://street2sat-uploaded/KENYA_v2/2021_07_06_T2/GPAO9250.JPG...         \n",
      "Copying gs://street2sat-uploaded/KENYA_v2/2021_07_06_T2/GPAO9251.JPG...         \n",
      "Copying gs://street2sat-uploaded/KENYA_v2/2021_07_06_T2/GPAO9252.JPG...         \n",
      "Copying gs://street2sat-uploaded/KENYA_v2/2021_07_06_T2/GPAO9253.JPG...         \n",
      "Copying gs://street2sat-uploaded/KENYA_v2/2021_07_06_T2/GPAO9254.JPG...         \n",
      "Copying gs://street2sat-uploaded/KENYA_v2/2021_07_06_T2/GPAO9274.JPG...         \n",
      "Copying gs://street2sat-uploaded/KENYA_v2/2021_07_06_T2/GPAO9285.JPG...         \n",
      "Copying gs://street2sat-uploaded/KENYA_v2/2021_07_06_T2/GPAO9286.JPG...         \n",
      "Copying gs://street2sat-uploaded/KENYA_v2/2021_07_06_T2/GPAO9296.JPG...         \n",
      "Copying gs://street2sat-uploaded/KENYA_v2/2021_07_06_T2/GPAO9301.JPG...         \n",
      "Copying gs://street2sat-uploaded/KENYA_v2/2021_07_06_T2/GPAP9319.JPG...         \n",
      "Copying gs://street2sat-uploaded/KENYA_v2/2021_07_06_T2/GPAP9320.JPG...         \n",
      "Copying gs://street2sat-uploaded/KENYA_v2/2021_07_06_T2/GPAP9321.JPG...         \n",
      "Copying gs://street2sat-uploaded/KENYA_v2/2021_07_06_T2/GPAP9322.JPG...         \n",
      "Copying gs://street2sat-uploaded/KENYA_v2/2021_07_06_T2/GPAP9323.JPG...         \n",
      "Copying gs://street2sat-uploaded/KENYA_v2/2021_07_06_T2/GPAP9324.JPG...         \n",
      "Copying gs://street2sat-uploaded/KENYA_v2/2021_07_06_T2/GPAP9325.JPG...         \n",
      "Copying gs://street2sat-uploaded/KENYA_v2/2021_07_06_T2/GPAP9327.JPG...         \n",
      "Copying gs://street2sat-uploaded/KENYA_v2/2021_07_06_T2/GPAP9328.JPG...         \n",
      "Copying gs://street2sat-uploaded/KENYA_v2/2021_07_06_T2/GPAP9335.JPG...         \n",
      "Copying gs://street2sat-uploaded/KENYA_v2/2021_07_06_T2/GPAP9336.JPG...         \n",
      "Copying gs://street2sat-uploaded/KENYA_v2/2021_07_06_T2/GPAP9339.JPG...         \n",
      "Copying gs://street2sat-uploaded/KENYA_v2/2021_07_07_T2/GPAB8590.JPG...         \n",
      "Copying gs://street2sat-uploaded/KENYA_v2/2021_07_07_T2/GPAB8591.JPG...         \n",
      "Copying gs://street2sat-uploaded/KENYA_v2/2021_07_07_T2/GPAB8592.JPG...         \n",
      "Copying gs://street2sat-uploaded/KENYA_v2/2021_07_07_T2/GPAB8593.JPG...         \n",
      "Copying gs://street2sat-uploaded/KENYA_v2/2021_07_07_T2/GPAB8594.JPG...         \n",
      "Copying gs://street2sat-uploaded/KENYA_v2/2021_07_08_T2/GPFX1219.JPG...         \n",
      "Copying gs://street2sat-uploaded/KENYA_v2/2021_07_08_T2/GPFX1221.JPG...         \n",
      "Copying gs://street2sat-uploaded/KENYA_v2/2021_07_08_T2/GPFX1222.JPG...         \n",
      "Copying gs://street2sat-uploaded/KENYA_v2/2021_07_08_T2/GPFX1223.JPG...         \n",
      "Copying gs://street2sat-uploaded/KENYA_v2/2021_07_08_T2/GPFX1225.JPG...         \n",
      "Copying gs://street2sat-uploaded/KENYA_v2/2021_07_08_T2/GPFX1226.JPG...         \n",
      "Copying gs://street2sat-uploaded/KENYA_v2/2021_07_08_T2/GPFX1227.JPG...         \n",
      "Copying gs://street2sat-uploaded/KENYA_v2/2021_07_08_T2/GPFX1228.JPG...         \n",
      "Copying gs://street2sat-uploaded/KENYA_v2/2021_07_08_T2/GPFX1229.JPG...         \n",
      "Copying gs://street2sat-uploaded/KENYA_v2/2021_07_08_T2/GPFX1230.JPG...         \n",
      "Copying gs://street2sat-uploaded/KENYA_v2/2021_07_08_T2/GPFX1231.JPG...         \n",
      "Copying gs://street2sat-uploaded/KENYA_v2/2021_07_08_T2/GPIW6184.JPG...         \n",
      "Copying gs://street2sat-uploaded/KENYA_v2/2021_07_08_T2/GPIX6196.JPG...         \n",
      "Copying gs://street2sat-uploaded/KENYA_v2/2021_07_08_T2/GPIX6197.JPG...         \n",
      "Copying gs://street2sat-uploaded/KENYA_v2/2021_07_08_T2/GPIX6198.JPG...         \n",
      "Copying gs://street2sat-uploaded/KENYA_v2/2021_07_08_T2/GPIX6199.JPG...         \n",
      "Copying gs://street2sat-uploaded/KENYA_v2/2021_07_08_T2/GPIX6200.JPG...         \n",
      "Copying gs://street2sat-uploaded/KENYA_v2/2021_07_08_T2/GPIX6201.JPG...         \n",
      "Copying gs://street2sat-uploaded/KENYA_v2/2021_07_08_T2/GPIX6202.JPG...         \n",
      "Copying gs://street2sat-uploaded/KENYA_v2/2021_07_08_T2/GPIX6203.JPG...         \n",
      "Copying gs://street2sat-uploaded/KENYA_v2/2021_07_08_T2/GPIX6209.JPG...         \n",
      "Copying gs://street2sat-uploaded/KENYA_v2/2021_07_08_T2/GPIZ6253.JPG...         \n",
      "Copying gs://street2sat-uploaded/KENYA_v2/2021_07_08_T2/GPJA6270.JPG...         \n",
      "Copying gs://street2sat-uploaded/KENYA_v2/2021_07_08_T2/GPJA6271.JPG...         \n",
      "Copying gs://street2sat-uploaded/KENYA_v2/2021_07_08_T2/GPJA6273.JPG...         \n",
      "Copying gs://street2sat-uploaded/KENYA_v2/2021_07_08_T2/GPJA6275.JPG...         \n",
      "Copying gs://street2sat-uploaded/KENYA_v2/2021_07_08_T2/GPJA6276.JPG...         \n",
      "Copying gs://street2sat-uploaded/KENYA_v2/2021_07_08_T2/GPJA6277.JPG...         \n",
      "Copying gs://street2sat-uploaded/KENYA_v2/2021_07_08_T2/GPJC6329.JPG...         \n",
      "Copying gs://street2sat-uploaded/KENYA_v2/2021_07_08_T2/GPJC6335.JPG...         \n",
      "Copying gs://street2sat-uploaded/KENYA_v2/2021_07_08_T2/GPJC6336.JPG...         \n",
      "Copying gs://street2sat-uploaded/KENYA_v2/2021_07_08_T2/GPJC6337.JPG...         \n",
      "Copying gs://street2sat-uploaded/KENYA_v2/2021_07_08_T2/GPJC6338.JPG...         \n",
      "Copying gs://street2sat-uploaded/KENYA_v2/2021_07_08_T2/GPJC6350.JPG...         \n",
      "Copying gs://street2sat-uploaded/KENYA_v2/2021_07_08_T2/GPJC6351.JPG...         \n",
      "Copying gs://street2sat-uploaded/KENYA_v2/2021_07_08_T2/GPJC6352.JPG...         \n",
      "Copying gs://street2sat-uploaded/KENYA_v2/2021_07_08_T2/GPJC6353.JPG...         \n",
      "Copying gs://street2sat-uploaded/KENYA_v2/2021_07_08_T2/GPJC6354.JPG...         \n",
      "Copying gs://street2sat-uploaded/KENYA_v2/2021_07_08_T2/GPJC6356.JPG...         \n",
      "Copying gs://street2sat-uploaded/KENYA_v2/2021_07_08_T2/GPJC6357.JPG...         \n",
      "Copying gs://street2sat-uploaded/KENYA_v2/2021_07_08_T2/GPJC6358.JPG...         \n",
      "Copying gs://street2sat-uploaded/KENYA_v2/2021_07_08_T2/GPJC6359.JPG...         \n",
      "Copying gs://street2sat-uploaded/KENYA_v2/2021_07_08_T2/GPJC6360.JPG...         \n",
      "Copying gs://street2sat-uploaded/KENYA_v2/2021_07_08_T2/GPJC6361.JPG...         \n",
      "Copying gs://street2sat-uploaded/KENYA_v2/2021_07_08_T2/GPJC6362.JPG...         \n",
      "Copying gs://street2sat-uploaded/KENYA_v2/2021_07_08_T2/GPJI6576.JPG...         \n",
      "Copying gs://street2sat-uploaded/KENYA_v2/2021_07_08_T2/GPJI6577.JPG...         \n",
      "Copying gs://street2sat-uploaded/KENYA_v2/2021_07_08_T2/GPJI6578.JPG...         \n",
      "Copying gs://street2sat-uploaded/KENYA_v2/2021_07_08_T2/GPJI6579.JPG...         \n",
      "Copying gs://street2sat-uploaded/KENYA_v2/2021_07_08_T2/GPJI6580.JPG...         \n",
      "Copying gs://street2sat-uploaded/KENYA_v2/2021_07_08_T2/GPJI6581.JPG...         \n",
      "Copying gs://street2sat-uploaded/KENYA_v2/2021_07_08_T2/GPJI6582.JPG...         \n",
      "Copying gs://street2sat-uploaded/KENYA_v2/2021_07_08_T2/GPJI6583.JPG...         \n",
      "Copying gs://street2sat-uploaded/KENYA_v2/2021_07_08_T2/GPJI6584.JPG...         \n",
      "Copying gs://street2sat-uploaded/KENYA_v2/2021_07_08_T2/GPJI6585.JPG...         \n",
      "Copying gs://street2sat-uploaded/KENYA_v2/2021_07_08_T2/GPJI6586.JPG...         \n",
      "Copying gs://street2sat-uploaded/KENYA_v2/2021_07_08_T2/GPJI6588.JPG...         \n",
      "Copying gs://street2sat-uploaded/KENYA_v2/2021_07_08_T2/GPJI6589.JPG...         \n",
      "Copying gs://street2sat-uploaded/KENYA_v2/2021_07_08_T2/GPJI6590.JPG...         \n",
      "Copying gs://street2sat-uploaded/KENYA_v2/2021_07_08_T2/GPJI6591.JPG...         \n",
      "Copying gs://street2sat-uploaded/KENYA_v2/2021_07_08_T2/GPJI6593.JPG...         \n",
      "Copying gs://street2sat-uploaded/KENYA_v2/2021_07_08_T2/GPJI6594.JPG...         \n",
      "Copying gs://street2sat-uploaded/KENYA_v2/2021_07_08_T2/GPJI6595.JPG...         \n",
      "Copying gs://street2sat-uploaded/KENYA_v2/2021_07_08_T2/GPJI6598.JPG...         \n",
      "Copying gs://street2sat-uploaded/KENYA_v2/2021_07_08_T2/GPJI6599.JPG...         \n",
      "Copying gs://street2sat-uploaded/KENYA_v2/2021_07_08_T2/GPJI6601.JPG...         \n",
      "Copying gs://street2sat-uploaded/KENYA_v2/2021_07_08_T2/GPJI6604.JPG...         \n",
      "Copying gs://street2sat-uploaded/KENYA_v2/2021_07_08_T2/GPJI6605.JPG...         \n",
      "Copying gs://street2sat-uploaded/KENYA_v2/2021_07_08_T2/GPJI6610.JPG...         \n",
      "Copying gs://street2sat-uploaded/KENYA_v2/2021_07_08_T2/GPJK6651.JPG...         \n",
      "Copying gs://street2sat-uploaded/KENYA_v2/2021_07_08_T2/GPJK6652.JPG...         \n",
      "Copying gs://street2sat-uploaded/KENYA_v2/2021_07_08_T2/GPJK6653.JPG...         \n",
      "Copying gs://street2sat-uploaded/KENYA_v2/2021_07_08_T2/GPJK6654.JPG...         \n",
      "Copying gs://street2sat-uploaded/KENYA_v2/2021_07_08_T2/GPJK6655.JPG...         \n",
      "Copying gs://street2sat-uploaded/KENYA_v2/2021_07_08_T2/GPJK6656.JPG...         \n",
      "Copying gs://street2sat-uploaded/KENYA_v2/2021_07_08_T2/GPJK6675.JPG...         \n",
      "Copying gs://street2sat-uploaded/KENYA_v2/2021_07_08_T2/GPJK6676.JPG...         \n",
      "Copying gs://street2sat-uploaded/KENYA_v2/2021_07_08_T2/GPJK6677.JPG...         \n",
      "Copying gs://street2sat-uploaded/KENYA_v2/2021_07_08_T2/GPJK6678.JPG...         \n",
      "Copying gs://street2sat-uploaded/KENYA_v2/2021_07_08_T2/GPJK6679.JPG...         \n",
      "Copying gs://street2sat-uploaded/KENYA_v2/2021_07_08_T2/GPJK6680.JPG...         \n",
      "Copying gs://street2sat-uploaded/KENYA_v2/2021_07_08_T2/GPJK6681.JPG...         \n",
      "Copying gs://street2sat-uploaded/KENYA_v2/2021_07_08_T2/GPJK6682.JPG...         \n",
      "Copying gs://street2sat-uploaded/KENYA_v2/2021_07_08_T2/GPJK6687.JPG...         \n",
      "Copying gs://street2sat-uploaded/KENYA_v2/2021_07_08_T2/GPJK6688.JPG...         \n",
      "Copying gs://street2sat-uploaded/KENYA_v2/2021_07_08_T2/GPJK6689.JPG...         \n",
      "Copying gs://street2sat-uploaded/KENYA_v2/2021_07_08_T2/GPJK6690.JPG...         \n",
      "Copying gs://street2sat-uploaded/KENYA_v2/2021_07_08_T2/GPJK6691.JPG...         \n",
      "Copying gs://street2sat-uploaded/KENYA_v2/2021_07_08_T2/GPJK6692.JPG...         \n",
      "Copying gs://street2sat-uploaded/KENYA_v2/2021_07_08_T2/GPJK6693.JPG...         \n",
      "Copying gs://street2sat-uploaded/KENYA_v2/2021_07_08_T2/GPJK6694.JPG...         \n",
      "Copying gs://street2sat-uploaded/KENYA_v2/2021_07_08_T2/GPJK6695.JPG...         \n",
      "Copying gs://street2sat-uploaded/KENYA_v2/2021_07_08_T2/GPJK6696.JPG...         \n",
      "Copying gs://street2sat-uploaded/KENYA_v2/2021_07_08_T2/GPJK6697.JPG...         \n",
      "Copying gs://street2sat-uploaded/KENYA_v2/2021_07_08_T2/GPJL6743.JPG...         \n",
      "Copying gs://street2sat-uploaded/KENYA_v2/2021_07_08_T2/GPJL6755.JPG...         \n",
      "Copying gs://street2sat-uploaded/KENYA_v2/2021_07_08_T2/GPJL6758.JPG...         \n",
      "Copying gs://street2sat-uploaded/KENYA_v2/2021_07_08_T2/GPJL6759.JPG...         \n",
      "Copying gs://street2sat-uploaded/KENYA_v2/2021_07_08_T2/GPJN6999.JPG...         \n",
      "Copying gs://street2sat-uploaded/KENYA_v2/2021_07_08_T2/GPJO7035.JPG...         \n",
      "Copying gs://street2sat-uploaded/KENYA_v2/2021_07_08_T2/GPJO7036.JPG...         \n",
      "Copying gs://street2sat-uploaded/KENYA_v2/2021_07_08_T2/GPJO7043.JPG...         \n",
      "Copying gs://street2sat-uploaded/KENYA_v2/2021_07_08_T2/GPJO7044.JPG...         \n",
      "Copying gs://street2sat-uploaded/KENYA_v2/2021_07_08_T2/GPJO7049.JPG...         \n",
      "Copying gs://street2sat-uploaded/KENYA_v2/2021_07_08_T2/GPJO7053.JPG...         \n",
      "Copying gs://street2sat-uploaded/KENYA_v2/2021_07_08_T2/GPJO7055.JPG...         \n",
      "Copying gs://street2sat-uploaded/KENYA_v2/2021_07_08_T2/GPJO7061.JPG...         \n",
      "Copying gs://street2sat-uploaded/KENYA_v2/2021_07_08_T2/GPJO7064.JPG...         \n",
      "Copying gs://street2sat-uploaded/KENYA_v2/2021_07_08_T2/GPJO7065.JPG...         \n",
      "Copying gs://street2sat-uploaded/KENYA_v2/2021_07_08_T2/GPJO7066.JPG...         \n",
      "Copying gs://street2sat-uploaded/KENYA_v2/2021_07_08_T2/GPJO7067.JPG...         \n",
      "Copying gs://street2sat-uploaded/KENYA_v2/2021_07_08_T2/GPJO7069.JPG...         \n",
      "Copying gs://street2sat-uploaded/KENYA_v2/2021_07_08_T2/GPJO7071.JPG...         \n",
      "Copying gs://street2sat-uploaded/KENYA_v2/2021_07_08_T2/GPJO7072.JPG...         \n",
      "Copying gs://street2sat-uploaded/KENYA_v2/2021_07_08_T2/GPJO7073.JPG...         \n",
      "Copying gs://street2sat-uploaded/KENYA_v2/2021_07_08_T2/GPJO7074.JPG...         \n",
      "Copying gs://street2sat-uploaded/KENYA_v2/2021_07_08_T2/GPJO7075.JPG...         \n",
      "Copying gs://street2sat-uploaded/KENYA_v2/2021_07_08_T2/GPJO7076.JPG...         \n",
      "Copying gs://street2sat-uploaded/KENYA_v2/2021_07_08_T2/GPJO7077.JPG...         \n",
      "Copying gs://street2sat-uploaded/KENYA_v2/2021_07_08_T2/GPJO7079.JPG...         \n",
      "Copying gs://street2sat-uploaded/KENYA_v2/2021_07_08_T2/GPJO7083.JPG...         \n",
      "Copying gs://street2sat-uploaded/KENYA_v2/2021_07_08_T2/GPJO7091.JPG...         \n",
      "Copying gs://street2sat-uploaded/KENYA_v2/2021_07_08_T2/GPJO7093.JPG...         \n",
      "Copying gs://street2sat-uploaded/KENYA_v2/2021_07_08_T2/GPJO7094.JPG...         \n",
      "Copying gs://street2sat-uploaded/KENYA_v2/2021_07_08_T2/GPJO7095.JPG...         \n",
      "Copying gs://street2sat-uploaded/KENYA_v2/2021_07_08_T2/GPJO7096.JPG...         \n",
      "Copying gs://street2sat-uploaded/KENYA_v2/2021_07_08_T2/GPJO7150.JPG...         \n",
      "Copying gs://street2sat-uploaded/KENYA_v2/2021_07_08_T2/GPJO7151.JPG...         \n",
      "Copying gs://street2sat-uploaded/KENYA_v2/2021_07_08_T2/GPJO7159.JPG...         \n",
      "Copying gs://street2sat-uploaded/KENYA_v2/2021_07_08_T2/GPJO7161.JPG...         \n",
      "Copying gs://street2sat-uploaded/KENYA_v2/2021_07_08_T2/GPJO7166.JPG...         \n",
      "Copying gs://street2sat-uploaded/KENYA_v2/2021_07_08_T2/GPJO7171.JPG...         \n",
      "Copying gs://street2sat-uploaded/KENYA_v2/2021_07_08_T2/GPJO7172.JPG...         \n",
      "Copying gs://street2sat-uploaded/KENYA_v2/2021_07_08_T2/GPJV7775.JPG...         \n",
      "Copying gs://street2sat-uploaded/KENYA_v2/2021_07_08_T2/GPJV7793.JPG...         \n",
      "Copying gs://street2sat-uploaded/KENYA_v2/2021_07_08_T2/GPJV7796.JPG...         \n",
      "Copying gs://street2sat-uploaded/KENYA_v2/2021_07_08_T2/GPJV7797.JPG...         \n",
      "Copying gs://street2sat-uploaded/KENYA_v2/2021_07_08_T2/GPJV7798.JPG...         \n",
      "Copying gs://street2sat-uploaded/KENYA_v2/2021_07_08_T2/GPJV7802.JPG...         \n",
      "Copying gs://street2sat-uploaded/KENYA_v2/2021_07_08_T2/GPJV7803.JPG...         \n",
      "Copying gs://street2sat-uploaded/KENYA_v2/2021_07_08_T2/GPJV7804.JPG...         \n",
      "Copying gs://street2sat-uploaded/KENYA_v2/2021_07_08_T2/GPJV7805.JPG...         \n",
      "Copying gs://street2sat-uploaded/KENYA_v2/2021_07_08_T2/GPJV7806.JPG...         \n",
      "Copying gs://street2sat-uploaded/KENYA_v2/2021_07_08_T2/GPJV7811.JPG...         \n",
      "Copying gs://street2sat-uploaded/KENYA_v2/2021_07_08_T2/GPJV7813.JPG...         \n",
      "Copying gs://street2sat-uploaded/KENYA_v2/2021_07_08_T2/GPJV7814.JPG...         \n",
      "Copying gs://street2sat-uploaded/KENYA_v2/2021_07_08_T2/GPJV7821.JPG...         \n",
      "Copying gs://street2sat-uploaded/KENYA_v2/2021_07_08_T2/GPJV7837.JPG...         \n",
      "Copying gs://street2sat-uploaded/KENYA_v2/2021_07_08_T2/GPJV7848.JPG...         \n",
      "Copying gs://street2sat-uploaded/KENYA_v2/2021_07_08_T2/GPJV7866.JPG...         \n",
      "Copying gs://street2sat-uploaded/KENYA_v2/2021_07_08_T2/GPJV7867.JPG...         \n",
      "Copying gs://street2sat-uploaded/KENYA_v2/2021_07_08_T2/GPJV7868.JPG...         \n",
      "Copying gs://street2sat-uploaded/KENYA_v2/2021_07_08_T2/GPJV7869.JPG...         \n",
      "Copying gs://street2sat-uploaded/KENYA_v2/2021_07_08_T2/GPJV7870.JPG...         \n",
      "Copying gs://street2sat-uploaded/KENYA_v2/2021_07_08_T2/GPJV7871.JPG...         \n",
      "Copying gs://street2sat-uploaded/KENYA_v2/2021_07_08_T2/GPJV7872.JPG...         \n",
      "Copying gs://street2sat-uploaded/KENYA_v2/2021_07_08_T2/GPJV7873.JPG...         \n",
      "Copying gs://street2sat-uploaded/KENYA_v2/2021_07_08_T2/GPJV7874.JPG...         \n",
      "Copying gs://street2sat-uploaded/KENYA_v2/2021_07_08_T2/GPJV7875.JPG...         \n",
      "Copying gs://street2sat-uploaded/KENYA_v2/2021_07_08_T2/GPJV7876.JPG...         \n",
      "Copying gs://street2sat-uploaded/KENYA_v2/2021_07_08_T2/GPJV7877.JPG...         \n",
      "Copying gs://street2sat-uploaded/KENYA_v2/2021_07_08_T2/GPJV7878.JPG...         \n",
      "Copying gs://street2sat-uploaded/KENYA_v2/2021_07_08_T2/GPJV7879.JPG...         \n",
      "Copying gs://street2sat-uploaded/KENYA_v2/2021_07_08_T2/GPJV7880.JPG...         \n",
      "Copying gs://street2sat-uploaded/KENYA_v2/2021_07_08_T2/GPJV7881.JPG...         \n",
      "Copying gs://street2sat-uploaded/KENYA_v2/2021_07_08_T2/GPJV7882.JPG...         \n",
      "Copying gs://street2sat-uploaded/KENYA_v2/2021_07_08_T2/GPJV7883.JPG...         \n",
      "Copying gs://street2sat-uploaded/KENYA_v2/2021_07_08_T2/GPJV7884.JPG...         \n",
      "Copying gs://street2sat-uploaded/KENYA_v2/2021_07_08_T2/GPJV7888.JPG...         \n",
      "Copying gs://street2sat-uploaded/KENYA_v2/2021_07_08_T2/GPJV7889.JPG...         \n",
      "Copying gs://street2sat-uploaded/KENYA_v2/2021_07_08_T2/GPJV7890.JPG...         \n",
      "Copying gs://street2sat-uploaded/KENYA_v2/2021_07_08_T2/GPJV7891.JPG...         \n",
      "Copying gs://street2sat-uploaded/KENYA_v2/2021_07_08_T2/GPJV7892.JPG...         \n",
      "Copying gs://street2sat-uploaded/KENYA_v2/2021_07_08_T2/GPJV7893.JPG...         \n",
      "Copying gs://street2sat-uploaded/KENYA_v2/2021_07_08_T2/GPJV7894.JPG...         \n",
      "Copying gs://street2sat-uploaded/KENYA_v2/2021_07_08_T2/GPJV7896.JPG...21       \n",
      "Copying gs://street2sat-uploaded/KENYA_v2/2021_07_08_T2/GPJV7897.JPG...15       \n",
      "Copying gs://street2sat-uploaded/KENYA_v2/2021_07_08_T2/GPJV7898.JPG...15       \n",
      "Copying gs://street2sat-uploaded/KENYA_v2/2021_07_08_T2/GPJV7899.JPG...17       \n",
      "Copying gs://street2sat-uploaded/KENYA_v2/2021_07_08_T2/GPJV7905.JPG...21       \n",
      "Copying gs://street2sat-uploaded/KENYA_v2/2021_07_08_T2/GPJV7906.JPG...19       \n",
      "Copying gs://street2sat-uploaded/KENYA_v2/2021_07_08_T2/GPJV7907.JPG...20       \n",
      "Copying gs://street2sat-uploaded/KENYA_v2/2021_07_08_T2/GPJV7908.JPG...14       \n",
      "Copying gs://street2sat-uploaded/KENYA_v2/2021_07_08_T2/GPJV7909.JPG...13       \n",
      "Copying gs://street2sat-uploaded/KENYA_v2/2021_07_08_T2/GPJV7910.JPG...11       \n",
      "Copying gs://street2sat-uploaded/KENYA_v2/2021_07_08_T2/GPJV7911.JPG...16       \n",
      "Copying gs://street2sat-uploaded/KENYA_v2/2021_07_08_T2/GPJV7912.JPG...10       \n",
      "Copying gs://street2sat-uploaded/KENYA_v2/2021_07_08_T2/GPJV7913.JPG...01       \n",
      "Copying gs://street2sat-uploaded/KENYA_v2/2021_07_08_T2/GPJV7914.JPG...54       \n",
      "Copying gs://street2sat-uploaded/KENYA_v2/2021_07_08_T2/GPJV7915.JPG...56       \n",
      "Copying gs://street2sat-uploaded/KENYA_v2/2021_07_08_T2/GPJV7916.JPG...53       \n",
      "Copying gs://street2sat-uploaded/KENYA_v2/2021_07_08_T2/GPJV7917.JPG...52       \n",
      "Copying gs://street2sat-uploaded/KENYA_v2/2021_07_08_T2/GPJV7918.JPG...49       \n",
      "Copying gs://street2sat-uploaded/KENYA_v2/2021_07_08_T2/GPJV7919.JPG...47       \n",
      "Copying gs://street2sat-uploaded/KENYA_v2/2021_07_08_T2/GPJV7920.JPG...47       \n",
      "Copying gs://street2sat-uploaded/KENYA_v2/2021_07_08_T2/GPJV7921.JPG...49       \n",
      "Copying gs://street2sat-uploaded/KENYA_v2/2021_07_08_T2/GPJV7922.JPG...48       \n",
      "Copying gs://street2sat-uploaded/KENYA_v2/2021_07_08_T2/GPJV7923.JPG...50       \n",
      "Copying gs://street2sat-uploaded/KENYA_v2/2021_07_08_T2/GPJV7924.JPG...47       \n",
      "Copying gs://street2sat-uploaded/KENYA_v2/2021_07_08_T2/GPJV7949.JPG...46       \n",
      "Copying gs://street2sat-uploaded/KENYA_v2/2021_07_08_T2/GPJV7962.JPG...45       \n",
      "Copying gs://street2sat-uploaded/KENYA_v2/2021_07_08_T2/GPJV7963.JPG...48       \n",
      "Copying gs://street2sat-uploaded/KENYA_v2/2021_07_08_T2/GPJV7964.JPG...44       \n",
      "Copying gs://street2sat-uploaded/KENYA_v2/2021_07_08_T2/GPJV7965.JPG...44       \n",
      "Copying gs://street2sat-uploaded/KENYA_v2/2021_07_08_T2/GPJV7966.JPG...45       \n",
      "Copying gs://street2sat-uploaded/KENYA_v2/2021_07_08_T2/GPJV7967.JPG...44       \n",
      "Copying gs://street2sat-uploaded/KENYA_v2/2021_07_08_T2/GPJV7968.JPG...44       \n",
      "Copying gs://street2sat-uploaded/KENYA_v2/2021_07_08_T2/GPJV7969.JPG...41       \n",
      "Copying gs://street2sat-uploaded/KENYA_v2/2021_07_08_T2/GPJV7970.JPG...43       \n",
      "Copying gs://street2sat-uploaded/KENYA_v2/2021_07_08_T2/GPJV7971.JPG...38       \n",
      "Copying gs://street2sat-uploaded/KENYA_v2/2021_07_08_T2/GPJV7972.JPG...34       \n",
      "Copying gs://street2sat-uploaded/KENYA_v2/2021_08_03_T2/103GOPRO/GPEM0716.JPG...\n",
      "Copying gs://street2sat-uploaded/KENYA_v2/2021_08_03_T2/103GOPRO/GPEM0717.JPG...\n",
      "Copying gs://street2sat-uploaded/KENYA_v2/2021_08_03_T2/103GOPRO/GPEM0718.JPG...\n",
      "Copying gs://street2sat-uploaded/KENYA_v2/2021_08_03_T2/103GOPRO/GPEM0719.JPG...\n",
      "Copying gs://street2sat-uploaded/KENYA_v2/2021_08_03_T2/103GOPRO/GPEM0720.JPG...\n",
      "Copying gs://street2sat-uploaded/KENYA_v2/2021_08_03_T2/103GOPRO/GPEM0721.JPG...\n",
      "Copying gs://street2sat-uploaded/KENYA_v2/2021_08_04_T2/103GOPRO/GPCX7251.JPG...\n",
      "Copying gs://street2sat-uploaded/KENYA_v2/2021_08_04_T2/103GOPRO/GPCX7254.JPG...\n",
      "Copying gs://street2sat-uploaded/KENYA_v2/2021_08_04_T2/103GOPRO/GPCX7255.JPG...\n",
      "Copying gs://street2sat-uploaded/KENYA_v2/2021_08_04_T2/103GOPRO/GPCX7256.JPG...\n",
      "Copying gs://street2sat-uploaded/KENYA_v2/2021_08_04_T2/103GOPRO/GPCX7257.JPG...\n",
      "Copying gs://street2sat-uploaded/KENYA_v2/2021_08_04_T2/103GOPRO/GPCX7258.JPG...\n",
      "Copying gs://street2sat-uploaded/KENYA_v2/2021_08_04_T2/103GOPRO/GPCX7259.JPG...\n",
      "Copying gs://street2sat-uploaded/KENYA_v2/2021_08_04_T2/103GOPRO/GPCX7260.JPG...\n",
      "Copying gs://street2sat-uploaded/KENYA_v2/2021_08_04_T2/103GOPRO/GPCX7261.JPG...\n",
      "Copying gs://street2sat-uploaded/KENYA_v2/2021_08_04_T2/103GOPRO/GPCX7262.JPG...\n",
      "Copying gs://street2sat-uploaded/KENYA_v2/2021_08_04_T2/103GOPRO/GPCX7263.JPG...\n",
      "Copying gs://street2sat-uploaded/KENYA_v2/2021_08_04_T2/103GOPRO/GPCX7264.JPG...\n",
      "Copying gs://street2sat-uploaded/KENYA_v2/2021_08_04_T2/103GOPRO/GPCY7270.JPG...\n",
      "Copying gs://street2sat-uploaded/KENYA_v2/2021_08_04_T2/103GOPRO/GPCY7283.JPG...\n",
      "Copying gs://street2sat-uploaded/KENYA_v2/2021_08_04_T2/103GOPRO/GPCY7284.JPG...\n",
      "Copying gs://street2sat-uploaded/KENYA_v2/2021_08_04_T2/103GOPRO/GPCY7285.JPG...\n",
      "Copying gs://street2sat-uploaded/KENYA_v2/2021_08_04_T2/103GOPRO/GPCY7286.JPG...\n",
      "Copying gs://street2sat-uploaded/KENYA_v2/2021_08_04_T2/103GOPRO/GPCY7287.JPG...\n",
      "Copying gs://street2sat-uploaded/KENYA_v2/2021_08_04_T2/103GOPRO/GPCY7288.JPG...\n",
      "Copying gs://street2sat-uploaded/KENYA_v2/2021_08_04_T2/103GOPRO/GPCY7289.JPG...\n",
      "Copying gs://street2sat-uploaded/KENYA_v2/2021_08_04_T2/103GOPRO/GPCY7290.JPG...\n",
      "Copying gs://street2sat-uploaded/KENYA_v2/2021_08_04_T2/103GOPRO/GPCY7291.JPG...\n",
      "Copying gs://street2sat-uploaded/KENYA_v2/2021_08_04_T2/103GOPRO/GPCY7292.JPG...\n",
      "Copying gs://street2sat-uploaded/KENYA_v2/2021_08_04_T2/103GOPRO/GPCY7293.JPG...\n",
      "Copying gs://street2sat-uploaded/KENYA_v2/2021_08_04_T2/103GOPRO/GPCY7294.JPG...\n",
      "Copying gs://street2sat-uploaded/KENYA_v2/2021_08_04_T2/103GOPRO/GPCY7295.JPG...\n",
      "Copying gs://street2sat-uploaded/KENYA_v2/2021_08_04_T2/103GOPRO/GPCY7296.JPG...\n",
      "Copying gs://street2sat-uploaded/KENYA_v2/2021_08_04_T2/103GOPRO/GPCY7297.JPG...\n",
      "Copying gs://street2sat-uploaded/KENYA_v2/2021_08_04_T2/103GOPRO/GPCY7298.JPG...\n",
      "Copying gs://street2sat-uploaded/KENYA_v2/2021_08_04_T2/103GOPRO/GPCY7299.JPG...\n",
      "Copying gs://street2sat-uploaded/KENYA_v2/2021_08_04_T2/103GOPRO/GPCY7300.JPG...\n",
      "Copying gs://street2sat-uploaded/KENYA_v2/2021_08_04_T2/103GOPRO/GPDA7430.JPG...\n",
      "Copying gs://street2sat-uploaded/KENYA_v2/2021_08_04_T2/103GOPRO/GPDA7435.JPG...\n",
      "Copying gs://street2sat-uploaded/KENYA_v2/2021_08_04_T2/104GOPRO/GPDC7478.JPG...\n",
      "Copying gs://street2sat-uploaded/KENYA_v2/2021_08_04_T2/104GOPRO/GPDC7479.JPG...\n",
      "- [286/286 files][658.4 MiB/658.4 MiB] 100% Done   3.2 MiB/s ETA 00:00:00       \n",
      "Operation completed over 286 objects/658.4 MiB.                                  \n"
     ]
    }
   ],
   "source": [
    "!echo \"$file_list_str\" | gsutil -m cp -n -I $PREFIX/images"
   ]
  },
  {
   "cell_type": "markdown",
   "id": "1b755f6b-b89c-4b35-abbb-4aae1b86cce9",
   "metadata": {},
   "source": [
    "## Create KML"
   ]
  },
  {
   "cell_type": "code",
   "execution_count": 29,
   "id": "31fe64b9-fdfa-4027-ac30-8d92c4335e50",
   "metadata": {},
   "outputs": [
    {
     "data": {
      "text/plain": [
       "'../Kenya_ADM1_51331_Rift_Valley_ADM2_51393_Uasin_Gishu'"
      ]
     },
     "execution_count": 29,
     "metadata": {},
     "output_type": "execute_result"
    }
   ],
   "source": [
    "PREFIX"
   ]
  },
  {
   "cell_type": "code",
   "execution_count": 30,
   "id": "c6fc19b7-5e25-42d8-9704-98c794067310",
   "metadata": {},
   "outputs": [],
   "source": [
    "field_df.to_csv(PREFIX + \".csv\", index=False)"
   ]
  },
  {
   "cell_type": "code",
   "execution_count": 33,
   "id": "a0aa66b7-0852-4932-b626-a772a4813956",
   "metadata": {},
   "outputs": [
    {
     "name": "stderr",
     "output_type": "stream",
     "text": [
      "86it [00:00, 1922.81it/s]\n"
     ]
    }
   ],
   "source": [
    "range_start = 200\n",
    "range_end = 286\n",
    "kml_document_name = PREFIX + f\"_95_background_{range_start}_{range_end}\"\n",
    "\n",
    "def create_description(record, image_path):\n",
    "    # Example input_img: gs://street2sat-uploaded/KENYA_v2/2021_07_16_T2/100GOPRO/GPAJ9576.JPG\n",
    "    endpoint = record[\"input_img\"].replace(\"gs://\", \"\")\n",
    "    \n",
    "    return f\"\"\"\n",
    "<img src='files/{Path(image_path).name}' width='900px'/>\n",
    "<br/>\n",
    "<h2>{record['name']}</h2>\n",
    "<p>Capture Time: {record['time']}</p>\n",
    "<a href='https://storage.cloud.google.com/{endpoint}'> \n",
    "    https://storage.cloud.google.com/{endpoint}\n",
    "</a>\n",
    "\n",
    "<h2>Location</h2>\n",
    "<p>ADM1: {record['ADM1 Label']}</p>\n",
    "<p>ADM2: {record['ADM2 Label']}</p>\n",
    "<p>Road Lat Lon: {record['coord']}</p>\n",
    "<p>Field Lat Lon:  {record[\"offset_field_pixel_centroid\"]}</p>\n",
    "\n",
    "\n",
    "<h2>Driving Direction</h2>\n",
    "<p>Northing: {record['driving_northing']}</p>\n",
    "<p>Easting: {record['driving_easting']}</p>\n",
    "<p>Is Right Hand Drive: {record['is_right_hand_drive']}</p>\n",
    "\n",
    "<h2>Crop Model Prediction</h2>\n",
    "<p>{record['results']}</p>\n",
    "\n",
    "\"\"\"\n",
    "\n",
    "kml = simplekml.Kml()\n",
    "kml.document.name = kml_document_name\n",
    "\n",
    "for _, record in tqdm(field_df[range_start:range_end].iterrows()):\n",
    "    latlon = record[\"offset_field_pixel_centroid\"]\n",
    "    image_path = f\"{PREFIX}/images/{Path(record['input_img']).name}\"\n",
    "    kml.newpoint(\n",
    "        coords=[(latlon[1], latlon[0])],  # lon, lat optional height\n",
    "        description=create_description(record, image_path),     \n",
    "        name=record[\"dominant_crop\"], \n",
    "        timestamp=record[\"time\"]\n",
    "    )  \n",
    "    kml.addfile(image_path)\n",
    "\n",
    "kml.savekmz(f\"{kml_document_name}.kmz\", format=False) "
   ]
  },
  {
   "cell_type": "code",
   "execution_count": 34,
   "id": "57180df3-ad72-45d1-9e23-b600e569ec11",
   "metadata": {},
   "outputs": [],
   "source": [
    "!open ."
   ]
  },
  {
   "cell_type": "markdown",
   "id": "437f1977-e59c-447a-8134-3c756580066c",
   "metadata": {},
   "source": [
    "## [Optional] Create Geodataframes for Debugging "
   ]
  },
  {
   "cell_type": "code",
   "execution_count": 13,
   "id": "eb451d30-8a66-4aa1-9d44-6df547bc61c8",
   "metadata": {},
   "outputs": [],
   "source": [
    "field_df[\"key\"] = field_df[\"name\"]\n",
    "field_df[\"name\"] = field_df[\"dominant_crop\"]"
   ]
  },
  {
   "cell_type": "code",
   "execution_count": 14,
   "id": "aef873ac-aaa7-401e-9f55-422aead9c702",
   "metadata": {},
   "outputs": [],
   "source": [
    "def generate_gdf(cols, coords_col):\n",
    "    coords = field_df[coords_col]\n",
    "    if type(coords.iloc[0]) == str:\n",
    "        coords = coords.apply(eval)\n",
    "          \n",
    "    latlons = pd.DataFrame(coords.tolist(), columns=[\"lat\", \"lon\"])\n",
    "    points = gpd.points_from_xy(latlons[\"lon\"], latlons[\"lat\"], crs=\"EPSG:4326\")\n",
    "    gdf = gpd.GeoDataFrame(field_df[cols], geometry=points)\n",
    "    return gdf\n",
    "\n",
    "road_coord_cols = [\"input_img\", \"name\", \"time\", \"driving_easting\", \"driving_northing\", \"is_right_hand_drive\"] \n",
    "road_pixel_cols = [\"input_img\", \"name\", \"time\"] \n",
    "field_coord_cols = [\"input_img\", \"name\", \"time\", \"driving_easting\", \"driving_northing\", \"is_right_hand_drive\"] \n",
    "field_pixel_cols = [\"input_img\", \"name\", \"time\"]\n",
    "\n",
    "gdf_road_coord = generate_gdf(cols=road_coord_cols, coords_col=\"coord\")\n",
    "gdf_road_pixel = generate_gdf(cols=road_pixel_cols, coords_col=\"road_pixel_centroid\")\n",
    "gdf_field_coord = generate_gdf(cols=field_coord_cols, coords_col=\"offset_field_coord\")\n",
    "gdf_field_pixel = generate_gdf(cols=field_pixel_cols, coords_col=\"offset_field_pixel_centroid\")"
   ]
  },
  {
   "cell_type": "code",
   "execution_count": 15,
   "id": "cee94176-ca17-4068-985d-2d4b32c4209e",
   "metadata": {},
   "outputs": [],
   "source": [
    "gdf_road_coord.to_file(f\"{PREFIX}/{PREFIX}_road_coord.geojson\", driver=\"GeoJSON\")\n",
    "gdf_road_pixel.to_file(f\"{PREFIX}/{PREFIX}_road_pixel.geojson\", driver=\"GeoJSON\")\n",
    "gdf_field_coord.to_file(f\"{PREFIX}/{PREFIX}_field_coord.geojson\", driver=\"GeoJSON\")\n",
    "gdf_field_pixel.to_file(f\"{PREFIX}/{PREFIX}_field_pixel.geojson\", driver=\"GeoJSON\")"
   ]
  },
  {
   "cell_type": "code",
   "execution_count": null,
   "id": "fe63a7cf-4b14-461d-b8a5-4ace01205966",
   "metadata": {},
   "outputs": [],
   "source": []
  },
  {
   "cell_type": "code",
   "execution_count": null,
   "id": "4a1ef8cf-5242-47a9-b54d-61c248a551fe",
   "metadata": {},
   "outputs": [],
   "source": []
  }
 ],
 "metadata": {
  "kernelspec": {
   "display_name": "Python 3 (ipykernel)",
   "language": "python",
   "name": "python3"
  },
  "language_info": {
   "codemirror_mode": {
    "name": "ipython",
    "version": 3
   },
   "file_extension": ".py",
   "mimetype": "text/x-python",
   "name": "python",
   "nbconvert_exporter": "python",
   "pygments_lexer": "ipython3",
   "version": "3.9.12"
  }
 },
 "nbformat": 4,
 "nbformat_minor": 5
}
