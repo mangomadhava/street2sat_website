{
 "cells": [
  {
   "cell_type": "markdown",
   "id": "cdbd0b98-4c93-45df-a84e-616326b83308",
   "metadata": {},
   "source": [
    "# Kenya, Rift Valley, Nandi South Field Point Preparation\n",
    "\n",
    "**Analyzer:** Ivan Zvonkov\n",
    "\n",
    "**Last modified:** Mar 16, 2024\n",
    "\n",
    "**Description**: Generate field offset points for region and creates geojsons for analysis."
   ]
  },
  {
   "cell_type": "markdown",
   "id": "4531909c-62f2-4528-a0fc-f77a98a0cfff",
   "metadata": {},
   "source": [
    "## 1. Load data for region"
   ]
  },
  {
   "cell_type": "code",
   "execution_count": 20,
   "id": "7fa6a07e-5cbf-4a59-bfea-d4bbd4af6a39",
   "metadata": {},
   "outputs": [
    {
     "name": "stdout",
     "output_type": "stream",
     "text": [
      "\u001b[33mWARNING: You are using pip version 22.0.4; however, version 24.0 is available.\n",
      "You should consider upgrading via the '/Users/izvonkov/nasaharvest/street2sat/venv/bin/python -m pip install --upgrade pip' command.\u001b[0m\u001b[33m\n",
      "\u001b[0m"
     ]
    }
   ],
   "source": [
    "!pip install simplekml -q"
   ]
  },
  {
   "cell_type": "code",
   "execution_count": 1,
   "id": "20ed0e54-a1d2-4b9f-92e9-2d0c78caf99d",
   "metadata": {},
   "outputs": [],
   "source": [
    "PREFIX = \"../Kenya_ADM1_51331_Rift_Valley_ADM2_68770_Nandi_South\""
   ]
  },
  {
   "cell_type": "code",
   "execution_count": 2,
   "id": "10542506-c225-43fc-9e15-d95a52a9ca75",
   "metadata": {},
   "outputs": [],
   "source": [
    "import numpy as np\n",
    "import geopandas as gpd\n",
    "import math\n",
    "import pandas as pd\n",
    "import simplekml\n",
    "import utm\n",
    "\n",
    "from pathlib import Path\n",
    "from tqdm import tqdm\n",
    "from datetime import datetime, timedelta\n"
   ]
  },
  {
   "cell_type": "code",
   "execution_count": 3,
   "id": "8de48b83-2950-48f9-bf05-18a0fe22e27d",
   "metadata": {},
   "outputs": [
    {
     "name": "stderr",
     "output_type": "stream",
     "text": [
      "/var/folders/1v/87y9n_d5143c_6cp072v3b1c0000gn/T/ipykernel_69210/1181535718.py:1: DtypeWarning: Columns (9,12,13,14,16,17) have mixed types. Specify dtype option on import or set low_memory=False.\n",
      "  df_all = pd.read_csv(\"../../data/street2sat-v2.csv\")\n"
     ]
    }
   ],
   "source": [
    "df_all = pd.read_csv(\"../../data/street2sat-v2.csv\")\n",
    "# 5 seconds\n",
    "input_img_str_split = df_all[\"input_img\"].str.split(\"/\")\n",
    "df_all[\"country_folder\"] = input_img_str_split.str[3]\n",
    "df_all[\"country_subfolder\"] = input_img_str_split.str[4]"
   ]
  },
  {
   "cell_type": "code",
   "execution_count": 4,
   "id": "ad1b310c-d474-4f4d-abbf-9e3025c652f7",
   "metadata": {},
   "outputs": [],
   "source": [
    "df_country = df_all[df_all[\"country_folder\"] == \"KENYA_v2\"]"
   ]
  },
  {
   "cell_type": "code",
   "execution_count": 5,
   "id": "b0f3342b-1241-43a9-87b9-ec100f682074",
   "metadata": {},
   "outputs": [
    {
     "name": "stderr",
     "output_type": "stream",
     "text": [
      "/var/folders/1v/87y9n_d5143c_6cp072v3b1c0000gn/T/ipykernel_69210/2201906365.py:1: DtypeWarning: Columns (11,14,15,16,18,19) have mixed types. Specify dtype option on import or set low_memory=False.\n",
      "  df = pd.read_csv(\"../../data/Kenya_crops_w_admin_zones_CLEAN.csv\")\n"
     ]
    }
   ],
   "source": [
    "df = pd.read_csv(\"../../data/Kenya_crops_w_admin_zones_CLEAN.csv\")"
   ]
  },
  {
   "cell_type": "code",
   "execution_count": 6,
   "id": "58478712-2dec-4056-94ae-7f0a83a80cf7",
   "metadata": {},
   "outputs": [],
   "source": [
    "df = df[(df[\"ADM1_CODE\"] == 51331) & (df[\"ADM2_CODE\"] == 68770)]"
   ]
  },
  {
   "cell_type": "code",
   "execution_count": 7,
   "id": "19c7ffd5-3437-4108-9686-550bab067903",
   "metadata": {},
   "outputs": [
    {
     "name": "stdout",
     "output_type": "stream",
     "text": [
      "Total points: 1801\n"
     ]
    }
   ],
   "source": [
    "print(f\"Total points: {len(df)}\")"
   ]
  },
  {
   "cell_type": "markdown",
   "id": "9e8e92fd-8cc8-46fd-8f55-27923e210da3",
   "metadata": {},
   "source": [
    "## 2. Compute Field Points using Offset Method"
   ]
  },
  {
   "cell_type": "code",
   "execution_count": 8,
   "id": "bb4ef821-7d4d-438d-9c9d-e576ea63dead",
   "metadata": {},
   "outputs": [],
   "source": [
    "is_right_hand_drive = False"
   ]
  },
  {
   "cell_type": "code",
   "execution_count": 9,
   "id": "31e8292d-a33e-4767-9a57-7c7344a10ea9",
   "metadata": {},
   "outputs": [],
   "source": [
    "# Copied and pasted from field_coord_distance_offset.ipynb\n",
    "\n",
    "floor10 = lambda x: x//10 * 10\n",
    "to_pixel_centroid = lambda coord: (floor10(coord[0]) + 5, floor10(coord[1]) + 5)\n",
    "\n",
    "def generate_offset_point_wgs84(coord0, coord1, is_right_hand_drive=True, meters=20):\n",
    "    utm_coord0 = utm.from_latlon(coord0[0], coord0[1])\n",
    "    utm_coord1 = utm.from_latlon(coord1[0], coord1[1])\n",
    "\n",
    "    for i, zone_type in [(2, \"number\"), (3, \"letter\")]:\n",
    "        if utm_coord1[i] != utm_coord0[i]:\n",
    "            print(utm_coord0)\n",
    "            print(utm_coord1)\n",
    "            raise ValueError(f\"UTM Zone {zone_type} mismatch: {utm_coord0[i]} and {utm_coord1[i]}\")\n",
    "    \n",
    "    \n",
    "    delta_east = utm_coord1[0] - utm_coord0[0]\n",
    "    delta_north = utm_coord1[1] - utm_coord0[1]\n",
    "\n",
    "    # Offset for meters change in offset point distance \n",
    "    x_offset = np.abs(meters * math.cos(math.atan(delta_east / delta_north)))\n",
    "\n",
    "    # Direction of offset\n",
    "    x_direction = np.sign(delta_north) if is_right_hand_drive else -np.sign(delta_north)\n",
    "    x_offset *= x_direction\n",
    "        \n",
    "    orthogonal_slope = -delta_east / delta_north\n",
    "    orthogonal_b = utm_coord1[1] - (orthogonal_slope * utm_coord1[0])\n",
    "    orthogonal_y = lambda x: orthogonal_slope*x + orthogonal_b\n",
    "\n",
    "    field_point_x = utm_coord1[0] + x_offset\n",
    "    field_point_y = orthogonal_y(field_point_x)\n",
    "\n",
    "    field_latlon = utm.to_latlon(field_point_x, field_point_y, utm_coord1[2], utm_coord1[3])\n",
    "\n",
    "    pixel_centroid_x, pixel_centroid_y  = to_pixel_centroid((field_point_x, field_point_y))\n",
    "    pixel_centroid_field_latlon = utm.to_latlon(pixel_centroid_x, pixel_centroid_y, utm_coord1[2], utm_coord1[3])\n",
    "        \n",
    "    return field_latlon, pixel_centroid_field_latlon, (delta_east, delta_north)\n",
    "\n",
    "def road_pixel_centroid(coord):\n",
    "    utm_coord = utm.from_latlon(coord[0], coord[1])\n",
    "    utm_pixel_centroid = to_pixel_centroid(utm_coord)\n",
    "    return utm.to_latlon(*utm_pixel_centroid, utm_coord[2], utm_coord[3])"
   ]
  },
  {
   "cell_type": "code",
   "execution_count": 10,
   "id": "0d2025e6-083e-4d77-8c67-e6b42010a3c1",
   "metadata": {},
   "outputs": [
    {
     "name": "stderr",
     "output_type": "stream",
     "text": [
      "  2%|▊                                        | 33/1801 [00:01<01:04, 27.42it/s]"
     ]
    },
    {
     "name": "stdout",
     "output_type": "stream",
     "text": [
      "No prior records found for 28\n",
      "No prior records found for 29\n"
     ]
    },
    {
     "name": "stderr",
     "output_type": "stream",
     "text": [
      "  3%|█▏                                       | 51/1801 [00:01<01:05, 26.69it/s]"
     ]
    },
    {
     "name": "stdout",
     "output_type": "stream",
     "text": [
      "No prior records found for 47\n",
      "No prior records found for 48\n"
     ]
    },
    {
     "name": "stderr",
     "output_type": "stream",
     "text": [
      "  7%|██▋                                     | 123/1801 [00:05<01:01, 27.34it/s]"
     ]
    },
    {
     "name": "stdout",
     "output_type": "stream",
     "text": [
      "No prior records found for 119\n"
     ]
    },
    {
     "name": "stderr",
     "output_type": "stream",
     "text": [
      "  7%|██▉                                     | 135/1801 [00:06<01:02, 26.61it/s]"
     ]
    },
    {
     "name": "stdout",
     "output_type": "stream",
     "text": [
      "No prior records found for 131\n",
      "No prior records found for 132\n"
     ]
    },
    {
     "name": "stderr",
     "output_type": "stream",
     "text": [
      "  8%|███▎                                    | 147/1801 [00:06<01:01, 26.72it/s]"
     ]
    },
    {
     "name": "stdout",
     "output_type": "stream",
     "text": [
      "No prior records found for 141\n"
     ]
    },
    {
     "name": "stderr",
     "output_type": "stream",
     "text": [
      " 18%|███████▏                                | 324/1801 [00:12<00:53, 27.49it/s]"
     ]
    },
    {
     "name": "stdout",
     "output_type": "stream",
     "text": [
      "No prior records found for 320\n",
      "No prior records found for 321\n"
     ]
    },
    {
     "name": "stderr",
     "output_type": "stream",
     "text": [
      " 24%|█████████▋                              | 438/1801 [00:17<00:50, 27.21it/s]"
     ]
    },
    {
     "name": "stdout",
     "output_type": "stream",
     "text": [
      "No prior records found for 434\n",
      "No prior records found for 435\n"
     ]
    },
    {
     "name": "stderr",
     "output_type": "stream",
     "text": [
      " 27%|██████████▋                             | 480/1801 [00:18<00:48, 27.00it/s]"
     ]
    },
    {
     "name": "stdout",
     "output_type": "stream",
     "text": [
      "No prior records found for 477\n"
     ]
    },
    {
     "name": "stderr",
     "output_type": "stream",
     "text": [
      " 31%|████████████▎                           | 552/1801 [00:21<00:46, 26.75it/s]"
     ]
    },
    {
     "name": "stdout",
     "output_type": "stream",
     "text": [
      "No prior records found for 547\n",
      "No prior records found for 548\n"
     ]
    },
    {
     "name": "stderr",
     "output_type": "stream",
     "text": [
      " 34%|█████████████▌                          | 612/1801 [00:23<00:43, 27.40it/s]"
     ]
    },
    {
     "name": "stdout",
     "output_type": "stream",
     "text": [
      "No prior records found for 607\n"
     ]
    },
    {
     "name": "stderr",
     "output_type": "stream",
     "text": [
      " 40%|███████████████▉                        | 720/1801 [00:27<00:39, 27.57it/s]"
     ]
    },
    {
     "name": "stdout",
     "output_type": "stream",
     "text": [
      "No prior records found for 716\n"
     ]
    },
    {
     "name": "stderr",
     "output_type": "stream",
     "text": [
      " 47%|██████████████████▊                     | 846/1801 [00:32<00:35, 27.26it/s]"
     ]
    },
    {
     "name": "stdout",
     "output_type": "stream",
     "text": [
      "No prior records found for 842\n"
     ]
    },
    {
     "name": "stderr",
     "output_type": "stream",
     "text": [
      " 54%|█████████████████████▍                  | 966/1801 [00:36<00:32, 25.84it/s]"
     ]
    },
    {
     "name": "stdout",
     "output_type": "stream",
     "text": [
      "No prior records found for 961\n"
     ]
    },
    {
     "name": "stderr",
     "output_type": "stream",
     "text": [
      " 55%|█████████████████████▊                  | 984/1801 [00:37<00:31, 26.27it/s]"
     ]
    },
    {
     "name": "stdout",
     "output_type": "stream",
     "text": [
      "No prior records found for 978\n"
     ]
    },
    {
     "name": "stderr",
     "output_type": "stream",
     "text": [
      " 60%|███████████████████████▌               | 1089/1801 [00:41<00:26, 27.13it/s]"
     ]
    },
    {
     "name": "stdout",
     "output_type": "stream",
     "text": [
      "No prior records found for 1084\n"
     ]
    },
    {
     "name": "stderr",
     "output_type": "stream",
     "text": [
      " 64%|█████████████████████████▏             | 1161/1801 [00:44<00:23, 27.50it/s]"
     ]
    },
    {
     "name": "stdout",
     "output_type": "stream",
     "text": [
      "No prior records found for 1155\n"
     ]
    },
    {
     "name": "stderr",
     "output_type": "stream",
     "text": [
      " 66%|█████████████████████████▌             | 1182/1801 [00:44<00:22, 27.13it/s]"
     ]
    },
    {
     "name": "stdout",
     "output_type": "stream",
     "text": [
      "No prior records found for 1178\n"
     ]
    },
    {
     "name": "stderr",
     "output_type": "stream",
     "text": [
      " 68%|██████████████████████████▌            | 1224/1801 [00:46<00:21, 27.23it/s]"
     ]
    },
    {
     "name": "stdout",
     "output_type": "stream",
     "text": [
      "No prior records found for 1219\n",
      "No prior records found for 1222\n"
     ]
    },
    {
     "name": "stderr",
     "output_type": "stream",
     "text": [
      " 71%|███████████████████████████▌           | 1275/1801 [00:48<00:19, 27.48it/s]"
     ]
    },
    {
     "name": "stdout",
     "output_type": "stream",
     "text": [
      "No prior records found for 1270\n",
      "No prior records found for 1271\n"
     ]
    },
    {
     "name": "stderr",
     "output_type": "stream",
     "text": [
      " 71%|███████████████████████████▊           | 1287/1801 [00:48<00:18, 27.51it/s]"
     ]
    },
    {
     "name": "stdout",
     "output_type": "stream",
     "text": [
      "No prior records found for 1281\n"
     ]
    },
    {
     "name": "stderr",
     "output_type": "stream",
     "text": [
      " 73%|████████████████████████████▍          | 1311/1801 [00:49<00:17, 27.60it/s]"
     ]
    },
    {
     "name": "stdout",
     "output_type": "stream",
     "text": [
      "No prior records found for 1305\n"
     ]
    },
    {
     "name": "stderr",
     "output_type": "stream",
     "text": [
      " 74%|████████████████████████████▋          | 1326/1801 [00:50<00:17, 27.57it/s]"
     ]
    },
    {
     "name": "stdout",
     "output_type": "stream",
     "text": [
      "No prior records found for 1321\n"
     ]
    },
    {
     "name": "stderr",
     "output_type": "stream",
     "text": [
      " 78%|██████████████████████████████▌        | 1410/1801 [00:53<00:14, 27.25it/s]"
     ]
    },
    {
     "name": "stdout",
     "output_type": "stream",
     "text": [
      "No prior records found for 1407\n"
     ]
    },
    {
     "name": "stderr",
     "output_type": "stream",
     "text": [
      " 79%|██████████████████████████████▊        | 1422/1801 [00:53<00:14, 25.81it/s]"
     ]
    },
    {
     "name": "stdout",
     "output_type": "stream",
     "text": [
      "No prior records found for 1416\n"
     ]
    },
    {
     "name": "stderr",
     "output_type": "stream",
     "text": [
      " 82%|████████████████████████████████       | 1482/1801 [00:55<00:11, 27.09it/s]"
     ]
    },
    {
     "name": "stdout",
     "output_type": "stream",
     "text": [
      "No prior records found for 1478\n"
     ]
    },
    {
     "name": "stderr",
     "output_type": "stream",
     "text": [
      " 83%|████████████████████████████████▍      | 1500/1801 [00:56<00:11, 27.26it/s]"
     ]
    },
    {
     "name": "stdout",
     "output_type": "stream",
     "text": [
      "No prior records found for 1495\n"
     ]
    },
    {
     "name": "stderr",
     "output_type": "stream",
     "text": [
      " 84%|████████████████████████████████▉      | 1521/1801 [00:57<00:10, 27.57it/s]"
     ]
    },
    {
     "name": "stdout",
     "output_type": "stream",
     "text": [
      "No prior records found for 1517\n"
     ]
    },
    {
     "name": "stderr",
     "output_type": "stream",
     "text": [
      " 85%|█████████████████████████████████▏     | 1530/1801 [00:57<00:10, 26.85it/s]"
     ]
    },
    {
     "name": "stdout",
     "output_type": "stream",
     "text": [
      "No prior records found for 1524\n"
     ]
    },
    {
     "name": "stderr",
     "output_type": "stream",
     "text": [
      " 88%|██████████████████████████████████▍    | 1590/1801 [01:00<00:11, 18.97it/s]"
     ]
    },
    {
     "name": "stdout",
     "output_type": "stream",
     "text": [
      "No prior records found for 1586\n",
      "No prior records found for 1587\n"
     ]
    },
    {
     "name": "stderr",
     "output_type": "stream",
     "text": [
      " 95%|████████████████████████████████████▉  | 1707/1801 [01:04<00:03, 26.81it/s]"
     ]
    },
    {
     "name": "stdout",
     "output_type": "stream",
     "text": [
      "No prior records found for 1703\n",
      "No prior records found for 1704\n"
     ]
    },
    {
     "name": "stderr",
     "output_type": "stream",
     "text": [
      " 95%|█████████████████████████████████████▏ | 1716/1801 [01:04<00:03, 27.31it/s]"
     ]
    },
    {
     "name": "stdout",
     "output_type": "stream",
     "text": [
      "No prior records found for 1710\n"
     ]
    },
    {
     "name": "stderr",
     "output_type": "stream",
     "text": [
      " 98%|██████████████████████████████████████▏| 1764/1801 [01:06<00:01, 26.69it/s]"
     ]
    },
    {
     "name": "stdout",
     "output_type": "stream",
     "text": [
      "No prior records found for 1759\n",
      "No prior records found for 1760\n"
     ]
    },
    {
     "name": "stderr",
     "output_type": "stream",
     "text": [
      " 99%|██████████████████████████████████████▊| 1791/1801 [01:07<00:00, 26.95it/s]"
     ]
    },
    {
     "name": "stdout",
     "output_type": "stream",
     "text": [
      "No prior records found for 1787\n"
     ]
    },
    {
     "name": "stderr",
     "output_type": "stream",
     "text": [
      "100%|███████████████████████████████████████| 1801/1801 [01:08<00:00, 26.41it/s]"
     ]
    },
    {
     "name": "stdout",
     "output_type": "stream",
     "text": [
      "No prior records found for 1795\n"
     ]
    },
    {
     "name": "stderr",
     "output_type": "stream",
     "text": [
      "\n"
     ]
    }
   ],
   "source": [
    "field_points = []\n",
    "\n",
    "for i in tqdm(range(0, len(df))):\n",
    "    if df.iloc[i][\"input_img\"].endswith(\".THM\"):\n",
    "        continue\n",
    "\n",
    "    # Get road coordinate\n",
    "    current_record = df.iloc[i]\n",
    "    road_coord = eval(current_record[\"coord\"])\n",
    "    road_10m_centroid = road_pixel_centroid(road_coord)\n",
    "\n",
    "    # Get prior coordinate\n",
    "    time1 = datetime.fromisoformat(current_record[\"time\"])\n",
    "    before_time_interval = time1 - timedelta(seconds=10)\n",
    "    time_filter = (df_country[\"time\"] < str(time1)) & (df_country[\"time\"] > str(before_time_interval))\n",
    "    prior_records = df_country[time_filter].sort_values(by=['time'])\n",
    "    if len(prior_records) == 0:\n",
    "        print(f\"No prior records found for {i}\")\n",
    "        continue\n",
    "    \n",
    "    prior_record = prior_records.iloc[-1]\n",
    "    prior_coord = eval(prior_record[\"coord\"])\n",
    "\n",
    "    # Get direction and field offset\n",
    "    output = generate_offset_point_wgs84(prior_coord, road_coord, is_right_hand_drive) \n",
    "    offset_field_coord, offset_field_pixel_centroid, driving_direction = output \n",
    "\n",
    "    field_points.append({\n",
    "        \"road_pixel_centroid\": road_10m_centroid,\n",
    "        \"is_right_hand_drive\": is_right_hand_drive,\n",
    "        \"driving_easting\": driving_direction[0],\n",
    "        \"driving_northing\": driving_direction[1],\n",
    "        \"offset_field_coord\": offset_field_coord,\n",
    "        \"offset_field_pixel_centroid\": offset_field_pixel_centroid,\n",
    "        \"time_computed\": datetime.now(),\n",
    "        **df.iloc[i],   \n",
    "    })\n",
    "    "
   ]
  },
  {
   "cell_type": "code",
   "execution_count": 11,
   "id": "07dfa4ec-75c8-4ff7-84d9-72028127aee8",
   "metadata": {},
   "outputs": [],
   "source": [
    "field_df = pd.DataFrame(field_points)"
   ]
  },
  {
   "cell_type": "markdown",
   "id": "ae891ee3-55f4-46fa-8699-97eb9db5bb4f",
   "metadata": {},
   "source": [
    "## Clean already processed points"
   ]
  },
  {
   "cell_type": "code",
   "execution_count": 12,
   "id": "d7473693-ba4b-483e-9a80-a3272aad5331",
   "metadata": {},
   "outputs": [],
   "source": [
    "field_df = field_df[100:].copy()"
   ]
  },
  {
   "cell_type": "markdown",
   "id": "c6ec56c2-7576-4b2d-95a7-7ab61d172289",
   "metadata": {},
   "source": [
    "## Filter Background"
   ]
  },
  {
   "cell_type": "code",
   "execution_count": 13,
   "id": "9f4bbc39-84c9-4a3a-84f6-583b08dce965",
   "metadata": {},
   "outputs": [],
   "source": [
    "field_df = field_df[field_df[\"background\"] < 0.95].copy()\n",
    "\n",
    "# 95% eliminates 600 points"
   ]
  },
  {
   "cell_type": "markdown",
   "id": "3e016c49-723e-4611-a33c-5949f289543d",
   "metadata": {},
   "source": [
    "## Download images from Google Cloud\n",
    "\n",
    "**Assumption**: Unique file names."
   ]
  },
  {
   "cell_type": "code",
   "execution_count": 14,
   "id": "4a2b5a65-44b4-4d32-ae84-193751cea166",
   "metadata": {},
   "outputs": [],
   "source": [
    "Path(PREFIX).mkdir(exist_ok=True)"
   ]
  },
  {
   "cell_type": "code",
   "execution_count": 15,
   "id": "1b741305-e5b5-4c72-b4e3-f2883133e119",
   "metadata": {},
   "outputs": [],
   "source": [
    "file_list_str = \"\\n\".join(field_df[\"input_img\"].tolist())"
   ]
  },
  {
   "cell_type": "code",
   "execution_count": 16,
   "id": "cd6d8935-6ddf-4092-b955-336392479a4f",
   "metadata": {},
   "outputs": [],
   "source": [
    "Path(f\"{PREFIX}/images\").mkdir(exist_ok=True)"
   ]
  },
  {
   "cell_type": "code",
   "execution_count": null,
   "id": "dc3a18ee-a365-40f5-bbf5-35de955c14be",
   "metadata": {},
   "outputs": [],
   "source": [
    "!echo \"$file_list_str\" | gsutil -m cp -n -I $PREFIX/images"
   ]
  },
  {
   "cell_type": "markdown",
   "id": "1b755f6b-b89c-4b35-abbb-4aae1b86cce9",
   "metadata": {},
   "source": [
    "## Create KML"
   ]
  },
  {
   "cell_type": "code",
   "execution_count": 18,
   "id": "31fe64b9-fdfa-4027-ac30-8d92c4335e50",
   "metadata": {},
   "outputs": [
    {
     "data": {
      "text/plain": [
       "'../Kenya_ADM1_51331_Rift_Valley_ADM2_68770_Nandi_South'"
      ]
     },
     "execution_count": 18,
     "metadata": {},
     "output_type": "execute_result"
    }
   ],
   "source": [
    "PREFIX"
   ]
  },
  {
   "cell_type": "code",
   "execution_count": 19,
   "id": "c6fc19b7-5e25-42d8-9704-98c794067310",
   "metadata": {},
   "outputs": [],
   "source": [
    "field_df.to_csv(PREFIX + \".csv\", index=False)"
   ]
  },
  {
   "cell_type": "code",
   "execution_count": 17,
   "id": "2d4c2f58-708d-406b-b020-4c336f9f7573",
   "metadata": {},
   "outputs": [
    {
     "data": {
      "text/plain": [
       "933"
      ]
     },
     "execution_count": 17,
     "metadata": {},
     "output_type": "execute_result"
    }
   ],
   "source": [
    "len(field_df)"
   ]
  },
  {
   "cell_type": "code",
   "execution_count": 24,
   "id": "a0aa66b7-0852-4932-b626-a772a4813956",
   "metadata": {},
   "outputs": [
    {
     "name": "stderr",
     "output_type": "stream",
     "text": [
      "33it [00:00, 2308.37it/s]\n"
     ]
    }
   ],
   "source": [
    "def create_description(record, image_path):\n",
    "    # Example input_img: gs://street2sat-uploaded/KENYA_v2/2021_07_16_T2/100GOPRO/GPAJ9576.JPG\n",
    "    endpoint = record[\"input_img\"].replace(\"gs://\", \"\")\n",
    "    \n",
    "    return f\"\"\"\n",
    "<img src='files/{Path(image_path).name}' width='900px'/>\n",
    "<br/>\n",
    "<h2>{record['name']}</h2>\n",
    "<p>Capture Time: {record['time']}</p>\n",
    "<a href='https://storage.cloud.google.com/{endpoint}'> \n",
    "    https://storage.cloud.google.com/{endpoint}\n",
    "</a>\n",
    "\n",
    "<h2>Location</h2>\n",
    "<p>ADM1: {record['ADM1 Label']}</p>\n",
    "<p>ADM2: {record['ADM2 Label']}</p>\n",
    "<p>Road Lat Lon: {record['coord']}</p>\n",
    "<p>Field Lat Lon:  {record[\"offset_field_pixel_centroid\"]}</p>\n",
    "\n",
    "\n",
    "<h2>Driving Direction</h2>\n",
    "<p>Northing: {record['driving_northing']}</p>\n",
    "<p>Easting: {record['driving_easting']}</p>\n",
    "<p>Is Right Hand Drive: {record['is_right_hand_drive']}</p>\n",
    "\n",
    "<h2>Crop Model Prediction</h2>\n",
    "<p>{record['results']}</p>\n",
    "\n",
    "\"\"\"\n",
    "\n",
    "kml = simplekml.Kml()\n",
    "range_start = 900\n",
    "range_end = 1000\n",
    "kml_document_name = PREFIX + f\"_batch2_95_background_{range_start}_{range_end}\"\n",
    "kml.document.name = kml_document_name\n",
    "\n",
    "for _, record in tqdm(field_df[range_start:range_end].iterrows()):\n",
    "    latlon = record[\"offset_field_pixel_centroid\"]\n",
    "    image_path = f\"{PREFIX}/images/{Path(record['input_img']).name}\"\n",
    "    kml.newpoint(\n",
    "        coords=[(latlon[1], latlon[0])],  # lon, lat optional height\n",
    "        description=create_description(record, image_path),     \n",
    "        name=record[\"dominant_crop\"], \n",
    "        timestamp=record[\"time\"]\n",
    "    )  \n",
    "    kml.addfile(image_path)\n",
    "    "
   ]
  },
  {
   "cell_type": "code",
   "execution_count": 25,
   "id": "48b08c70-d8e0-43cb-970d-d67481da4a14",
   "metadata": {},
   "outputs": [],
   "source": [
    "# Will take time if many images\n",
    "# Does not work with all images 1800\n",
    "kml.savekmz(f\"{kml_document_name}.kmz\", format=False) "
   ]
  },
  {
   "cell_type": "code",
   "execution_count": 26,
   "id": "57180df3-ad72-45d1-9e23-b600e569ec11",
   "metadata": {},
   "outputs": [],
   "source": [
    "!open ."
   ]
  },
  {
   "cell_type": "markdown",
   "id": "437f1977-e59c-447a-8134-3c756580066c",
   "metadata": {},
   "source": [
    "## [Optional] Create Geodataframes for Debugging "
   ]
  },
  {
   "cell_type": "code",
   "execution_count": 13,
   "id": "eb451d30-8a66-4aa1-9d44-6df547bc61c8",
   "metadata": {},
   "outputs": [],
   "source": [
    "field_df[\"key\"] = field_df[\"name\"]\n",
    "field_df[\"name\"] = field_df[\"dominant_crop\"]"
   ]
  },
  {
   "cell_type": "code",
   "execution_count": 14,
   "id": "aef873ac-aaa7-401e-9f55-422aead9c702",
   "metadata": {},
   "outputs": [],
   "source": [
    "def generate_gdf(cols, coords_col):\n",
    "    coords = field_df[coords_col]\n",
    "    if type(coords.iloc[0]) == str:\n",
    "        coords = coords.apply(eval)\n",
    "          \n",
    "    latlons = pd.DataFrame(coords.tolist(), columns=[\"lat\", \"lon\"])\n",
    "    points = gpd.points_from_xy(latlons[\"lon\"], latlons[\"lat\"], crs=\"EPSG:4326\")\n",
    "    gdf = gpd.GeoDataFrame(field_df[cols], geometry=points)\n",
    "    return gdf\n",
    "\n",
    "road_coord_cols = [\"input_img\", \"name\", \"time\", \"driving_easting\", \"driving_northing\", \"is_right_hand_drive\"] \n",
    "road_pixel_cols = [\"input_img\", \"name\", \"time\"] \n",
    "field_coord_cols = [\"input_img\", \"name\", \"time\", \"driving_easting\", \"driving_northing\", \"is_right_hand_drive\"] \n",
    "field_pixel_cols = [\"input_img\", \"name\", \"time\"]\n",
    "\n",
    "gdf_road_coord = generate_gdf(cols=road_coord_cols, coords_col=\"coord\")\n",
    "gdf_road_pixel = generate_gdf(cols=road_pixel_cols, coords_col=\"road_pixel_centroid\")\n",
    "gdf_field_coord = generate_gdf(cols=field_coord_cols, coords_col=\"offset_field_coord\")\n",
    "gdf_field_pixel = generate_gdf(cols=field_pixel_cols, coords_col=\"offset_field_pixel_centroid\")"
   ]
  },
  {
   "cell_type": "code",
   "execution_count": 15,
   "id": "cee94176-ca17-4068-985d-2d4b32c4209e",
   "metadata": {},
   "outputs": [],
   "source": [
    "gdf_road_coord.to_file(f\"{PREFIX}/{PREFIX}_road_coord.geojson\", driver=\"GeoJSON\")\n",
    "gdf_road_pixel.to_file(f\"{PREFIX}/{PREFIX}_road_pixel.geojson\", driver=\"GeoJSON\")\n",
    "gdf_field_coord.to_file(f\"{PREFIX}/{PREFIX}_field_coord.geojson\", driver=\"GeoJSON\")\n",
    "gdf_field_pixel.to_file(f\"{PREFIX}/{PREFIX}_field_pixel.geojson\", driver=\"GeoJSON\")"
   ]
  },
  {
   "cell_type": "code",
   "execution_count": null,
   "id": "fe63a7cf-4b14-461d-b8a5-4ace01205966",
   "metadata": {},
   "outputs": [],
   "source": []
  },
  {
   "cell_type": "code",
   "execution_count": null,
   "id": "4a1ef8cf-5242-47a9-b54d-61c248a551fe",
   "metadata": {},
   "outputs": [],
   "source": []
  }
 ],
 "metadata": {
  "kernelspec": {
   "display_name": "Python 3 (ipykernel)",
   "language": "python",
   "name": "python3"
  },
  "language_info": {
   "codemirror_mode": {
    "name": "ipython",
    "version": 3
   },
   "file_extension": ".py",
   "mimetype": "text/x-python",
   "name": "python",
   "nbconvert_exporter": "python",
   "pygments_lexer": "ipython3",
   "version": "3.9.12"
  }
 },
 "nbformat": 4,
 "nbformat_minor": 5
}
