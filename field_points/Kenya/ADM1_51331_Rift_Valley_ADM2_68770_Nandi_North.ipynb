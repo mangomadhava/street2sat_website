{
 "cells": [
  {
   "cell_type": "markdown",
   "id": "cdbd0b98-4c93-45df-a84e-616326b83308",
   "metadata": {},
   "source": [
    "# Kenya, Rift Valley, Nandi North Field Point Preparation\n",
    "\n",
    "**Analyzer:** Ivan Zvonkov\n",
    "\n",
    "**Last modified:** May 6, 2024\n",
    "\n",
    "**Description**: Generate field offset points for region and creates geojsons for analysis."
   ]
  },
  {
   "cell_type": "markdown",
   "id": "4531909c-62f2-4528-a0fc-f77a98a0cfff",
   "metadata": {},
   "source": [
    "## 1. Load data for region"
   ]
  },
  {
   "cell_type": "code",
   "execution_count": 1,
   "id": "10542506-c225-43fc-9e15-d95a52a9ca75",
   "metadata": {},
   "outputs": [],
   "source": [
    "import numpy as np\n",
    "import geopandas as gpd\n",
    "import math\n",
    "import pandas as pd\n",
    "import simplekml\n",
    "import utm\n",
    "\n",
    "from pathlib import Path\n",
    "from tqdm import tqdm\n",
    "from datetime import datetime, timedelta\n"
   ]
  },
  {
   "cell_type": "code",
   "execution_count": 2,
   "id": "8de48b83-2950-48f9-bf05-18a0fe22e27d",
   "metadata": {},
   "outputs": [
    {
     "name": "stderr",
     "output_type": "stream",
     "text": [
      "/var/folders/1v/87y9n_d5143c_6cp072v3b1c0000gn/T/ipykernel_53029/1181535718.py:1: DtypeWarning: Columns (9,12,13,14,16,17) have mixed types. Specify dtype option on import or set low_memory=False.\n",
      "  df_all = pd.read_csv(\"../../data/street2sat-v2.csv\")\n"
     ]
    }
   ],
   "source": [
    "df_all = pd.read_csv(\"../../data/street2sat-v2.csv\")\n",
    "# 5 seconds\n",
    "input_img_str_split = df_all[\"input_img\"].str.split(\"/\")\n",
    "df_all[\"country_folder\"] = input_img_str_split.str[3]\n",
    "df_all[\"country_subfolder\"] = input_img_str_split.str[4]"
   ]
  },
  {
   "cell_type": "code",
   "execution_count": 3,
   "id": "ad1b310c-d474-4f4d-abbf-9e3025c652f7",
   "metadata": {},
   "outputs": [],
   "source": [
    "df_country = df_all[df_all[\"country_folder\"] == \"KENYA_v2\"]"
   ]
  },
  {
   "cell_type": "code",
   "execution_count": 4,
   "id": "b0f3342b-1241-43a9-87b9-ec100f682074",
   "metadata": {},
   "outputs": [
    {
     "name": "stderr",
     "output_type": "stream",
     "text": [
      "/var/folders/1v/87y9n_d5143c_6cp072v3b1c0000gn/T/ipykernel_53029/2201906365.py:1: DtypeWarning: Columns (11,14,15,16,18,19) have mixed types. Specify dtype option on import or set low_memory=False.\n",
      "  df = pd.read_csv(\"../../data/Kenya_crops_w_admin_zones_CLEAN.csv\")\n"
     ]
    }
   ],
   "source": [
    "df = pd.read_csv(\"../../data/Kenya_crops_w_admin_zones_CLEAN.csv\")"
   ]
  },
  {
   "cell_type": "code",
   "execution_count": 7,
   "id": "ea957e2f-b4ee-486c-b9e6-1bd61cd9c8ad",
   "metadata": {},
   "outputs": [
    {
     "data": {
      "text/plain": [
       "ADM2_CODE  ADM2 Label       \n",
       "51386.0    51386 Nakuru         30600\n",
       "51388.0    51388 Narok          10468\n",
       "51391.0    51391 Trans Nzoia     9547\n",
       "51382.0    51382 Kericho         2844\n",
       "68770.0    68770 Nandi South     1801\n",
       "68769.0    68769 Nandi North     1175\n",
       "51393.0    51393 Uasin Gishu      818\n",
       "51378.0    51378 Bomet            339\n",
       "51379.0    51379 Buret             96\n",
       "51392.0    51392 Turkana           14\n",
       "Name: count, dtype: int64"
      ]
     },
     "execution_count": 7,
     "metadata": {},
     "output_type": "execute_result"
    }
   ],
   "source": [
    "df[(df[\"ADM1_CODE\"] == 51331)][[\"ADM2_CODE\", \"ADM2 Label\"]].value_counts()"
   ]
  },
  {
   "cell_type": "markdown",
   "id": "b517d693-d33d-4a7a-aa19-005e6632ff96",
   "metadata": {},
   "source": [
    "\n",
    "## Admin Zone selection \n",
    "\n",
    "Nandi South complete,\n",
    "\n",
    "Moving on to Nandi North"
   ]
  },
  {
   "cell_type": "code",
   "execution_count": 8,
   "id": "58478712-2dec-4056-94ae-7f0a83a80cf7",
   "metadata": {},
   "outputs": [],
   "source": [
    "df = df[(df[\"ADM1_CODE\"] == 51331) & (df[\"ADM2_CODE\"] == 68769)]"
   ]
  },
  {
   "cell_type": "code",
   "execution_count": 9,
   "id": "19c7ffd5-3437-4108-9686-550bab067903",
   "metadata": {},
   "outputs": [
    {
     "name": "stdout",
     "output_type": "stream",
     "text": [
      "Total points: 1175\n"
     ]
    }
   ],
   "source": [
    "print(f\"Total points: {len(df)}\")"
   ]
  },
  {
   "cell_type": "code",
   "execution_count": 10,
   "id": "16d67836-d779-4cfe-a7d5-7f74a3746b7e",
   "metadata": {},
   "outputs": [],
   "source": [
    "PREFIX = \"../Kenya_ADM1_51331_Rift_Valley_ADM2_68769_Nandi_North\""
   ]
  },
  {
   "cell_type": "markdown",
   "id": "9e8e92fd-8cc8-46fd-8f55-27923e210da3",
   "metadata": {},
   "source": [
    "## 2. Compute Field Points using Offset Method"
   ]
  },
  {
   "cell_type": "code",
   "execution_count": 11,
   "id": "bb4ef821-7d4d-438d-9c9d-e576ea63dead",
   "metadata": {},
   "outputs": [],
   "source": [
    "is_right_hand_drive = False"
   ]
  },
  {
   "cell_type": "code",
   "execution_count": 12,
   "id": "31e8292d-a33e-4767-9a57-7c7344a10ea9",
   "metadata": {},
   "outputs": [],
   "source": [
    "# Copied and pasted from field_coord_distance_offset.ipynb\n",
    "\n",
    "floor10 = lambda x: x//10 * 10\n",
    "to_pixel_centroid = lambda coord: (floor10(coord[0]) + 5, floor10(coord[1]) + 5)\n",
    "\n",
    "def generate_offset_point_wgs84(coord0, coord1, is_right_hand_drive=True, meters=20):\n",
    "    utm_coord0 = utm.from_latlon(coord0[0], coord0[1])\n",
    "    utm_coord1 = utm.from_latlon(coord1[0], coord1[1])\n",
    "\n",
    "    for i, zone_type in [(2, \"number\"), (3, \"letter\")]:\n",
    "        if utm_coord1[i] != utm_coord0[i]:\n",
    "            print(utm_coord0)\n",
    "            print(utm_coord1)\n",
    "            raise ValueError(f\"UTM Zone {zone_type} mismatch: {utm_coord0[i]} and {utm_coord1[i]}\")\n",
    "    \n",
    "    \n",
    "    delta_east = utm_coord1[0] - utm_coord0[0]\n",
    "    delta_north = utm_coord1[1] - utm_coord0[1]\n",
    "\n",
    "    # Offset for meters change in offset point distance \n",
    "    x_offset = np.abs(meters * math.cos(math.atan(delta_east / delta_north)))\n",
    "\n",
    "    # Direction of offset\n",
    "    x_direction = np.sign(delta_north) if is_right_hand_drive else -np.sign(delta_north)\n",
    "    x_offset *= x_direction\n",
    "        \n",
    "    orthogonal_slope = -delta_east / delta_north\n",
    "    orthogonal_b = utm_coord1[1] - (orthogonal_slope * utm_coord1[0])\n",
    "    orthogonal_y = lambda x: orthogonal_slope*x + orthogonal_b\n",
    "\n",
    "    field_point_x = utm_coord1[0] + x_offset\n",
    "    field_point_y = orthogonal_y(field_point_x)\n",
    "\n",
    "    field_latlon = utm.to_latlon(field_point_x, field_point_y, utm_coord1[2], utm_coord1[3])\n",
    "\n",
    "    pixel_centroid_x, pixel_centroid_y  = to_pixel_centroid((field_point_x, field_point_y))\n",
    "    pixel_centroid_field_latlon = utm.to_latlon(pixel_centroid_x, pixel_centroid_y, utm_coord1[2], utm_coord1[3])\n",
    "        \n",
    "    return field_latlon, pixel_centroid_field_latlon, (delta_east, delta_north)\n",
    "\n",
    "def road_pixel_centroid(coord):\n",
    "    utm_coord = utm.from_latlon(coord[0], coord[1])\n",
    "    utm_pixel_centroid = to_pixel_centroid(utm_coord)\n",
    "    return utm.to_latlon(*utm_pixel_centroid, utm_coord[2], utm_coord[3])"
   ]
  },
  {
   "cell_type": "code",
   "execution_count": 13,
   "id": "0d2025e6-083e-4d77-8c67-e6b42010a3c1",
   "metadata": {},
   "outputs": [
    {
     "name": "stderr",
     "output_type": "stream",
     "text": [
      "  6%|██▎                                      | 66/1175 [00:02<00:40, 27.31it/s]"
     ]
    },
    {
     "name": "stdout",
     "output_type": "stream",
     "text": [
      "No prior records found for 60\n",
      "No prior records found for 61\n"
     ]
    },
    {
     "name": "stderr",
     "output_type": "stream",
     "text": [
      " 16%|██████▏                                 | 183/1175 [00:06<00:37, 26.57it/s]"
     ]
    },
    {
     "name": "stdout",
     "output_type": "stream",
     "text": [
      "No prior records found for 179\n"
     ]
    },
    {
     "name": "stderr",
     "output_type": "stream",
     "text": [
      " 18%|███████▎                                | 213/1175 [00:08<00:39, 24.47it/s]"
     ]
    },
    {
     "name": "stdout",
     "output_type": "stream",
     "text": [
      "No prior records found for 208\n"
     ]
    },
    {
     "name": "stderr",
     "output_type": "stream",
     "text": [
      " 22%|████████▋                               | 255/1175 [00:09<00:35, 26.23it/s]"
     ]
    },
    {
     "name": "stdout",
     "output_type": "stream",
     "text": [
      "No prior records found for 250\n"
     ]
    },
    {
     "name": "stderr",
     "output_type": "stream",
     "text": [
      " 23%|█████████                               | 267/1175 [00:10<00:33, 27.14it/s]"
     ]
    },
    {
     "name": "stdout",
     "output_type": "stream",
     "text": [
      "No prior records found for 261\n"
     ]
    },
    {
     "name": "stderr",
     "output_type": "stream",
     "text": [
      " 26%|██████████▌                             | 309/1175 [00:11<00:31, 27.42it/s]"
     ]
    },
    {
     "name": "stdout",
     "output_type": "stream",
     "text": [
      "No prior records found for 304\n"
     ]
    },
    {
     "name": "stderr",
     "output_type": "stream",
     "text": [
      " 30%|███████████▊                            | 348/1175 [00:13<00:30, 27.24it/s]"
     ]
    },
    {
     "name": "stdout",
     "output_type": "stream",
     "text": [
      "No prior records found for 342\n"
     ]
    },
    {
     "name": "stderr",
     "output_type": "stream",
     "text": [
      " 32%|████████████▊                           | 375/1175 [00:14<00:29, 27.00it/s]"
     ]
    },
    {
     "name": "stdout",
     "output_type": "stream",
     "text": [
      "No prior records found for 370\n"
     ]
    },
    {
     "name": "stderr",
     "output_type": "stream",
     "text": [
      " 41%|████████████████▎                       | 480/1175 [00:17<00:25, 26.88it/s]"
     ]
    },
    {
     "name": "stdout",
     "output_type": "stream",
     "text": [
      "No prior records found for 476\n",
      "No prior records found for 477\n"
     ]
    },
    {
     "name": "stderr",
     "output_type": "stream",
     "text": [
      " 42%|████████████████▊                       | 495/1175 [00:18<00:24, 27.21it/s]"
     ]
    },
    {
     "name": "stdout",
     "output_type": "stream",
     "text": [
      "No prior records found for 491\n"
     ]
    },
    {
     "name": "stderr",
     "output_type": "stream",
     "text": [
      " 43%|█████████████████▎                      | 507/1175 [00:18<00:24, 27.03it/s]"
     ]
    },
    {
     "name": "stdout",
     "output_type": "stream",
     "text": [
      "No prior records found for 503\n",
      "No prior records found for 504\n"
     ]
    },
    {
     "name": "stderr",
     "output_type": "stream",
     "text": [
      " 45%|██████████████████▏                     | 534/1175 [00:19<00:23, 27.08it/s]"
     ]
    },
    {
     "name": "stdout",
     "output_type": "stream",
     "text": [
      "No prior records found for 532\n",
      "No prior records found for 533\n"
     ]
    },
    {
     "name": "stderr",
     "output_type": "stream",
     "text": [
      " 47%|██████████████████▉                     | 558/1175 [00:20<00:23, 26.68it/s]"
     ]
    },
    {
     "name": "stdout",
     "output_type": "stream",
     "text": [
      "No prior records found for 554\n"
     ]
    },
    {
     "name": "stderr",
     "output_type": "stream",
     "text": [
      " 50%|███████████████████▊                    | 582/1175 [00:21<00:21, 27.21it/s]"
     ]
    },
    {
     "name": "stdout",
     "output_type": "stream",
     "text": [
      "No prior records found for 576\n",
      "No prior records found for 581\n"
     ]
    },
    {
     "name": "stderr",
     "output_type": "stream",
     "text": [
      " 52%|████████████████████▋                   | 606/1175 [00:22<00:21, 26.89it/s]"
     ]
    },
    {
     "name": "stdout",
     "output_type": "stream",
     "text": [
      "No prior records found for 601\n"
     ]
    },
    {
     "name": "stderr",
     "output_type": "stream",
     "text": [
      " 56%|██████████████████████▌                 | 663/1175 [00:24<00:19, 26.60it/s]"
     ]
    },
    {
     "name": "stdout",
     "output_type": "stream",
     "text": [
      "No prior records found for 658\n"
     ]
    },
    {
     "name": "stderr",
     "output_type": "stream",
     "text": [
      " 61%|████████████████████████▌               | 720/1175 [00:27<00:16, 27.45it/s]"
     ]
    },
    {
     "name": "stdout",
     "output_type": "stream",
     "text": [
      "No prior records found for 716\n"
     ]
    },
    {
     "name": "stderr",
     "output_type": "stream",
     "text": [
      " 64%|█████████████████████████▋              | 753/1175 [00:28<00:15, 27.16it/s]"
     ]
    },
    {
     "name": "stdout",
     "output_type": "stream",
     "text": [
      "No prior records found for 748\n"
     ]
    },
    {
     "name": "stderr",
     "output_type": "stream",
     "text": [
      " 65%|██████████████████████████▏             | 768/1175 [00:28<00:14, 27.40it/s]"
     ]
    },
    {
     "name": "stdout",
     "output_type": "stream",
     "text": [
      "No prior records found for 764\n",
      "No prior records found for 765\n"
     ]
    },
    {
     "name": "stderr",
     "output_type": "stream",
     "text": [
      " 67%|██████████████████████████▊             | 789/1175 [00:29<00:14, 27.32it/s]"
     ]
    },
    {
     "name": "stdout",
     "output_type": "stream",
     "text": [
      "No prior records found for 783\n"
     ]
    },
    {
     "name": "stderr",
     "output_type": "stream",
     "text": [
      " 74%|█████████████████████████████▋          | 873/1175 [00:32<00:10, 27.62it/s]"
     ]
    },
    {
     "name": "stdout",
     "output_type": "stream",
     "text": [
      "No prior records found for 868\n",
      "No prior records found for 869\n"
     ]
    },
    {
     "name": "stderr",
     "output_type": "stream",
     "text": [
      " 75%|██████████████████████████████          | 882/1175 [00:33<00:10, 27.54it/s]"
     ]
    },
    {
     "name": "stdout",
     "output_type": "stream",
     "text": [
      "No prior records found for 877\n"
     ]
    },
    {
     "name": "stderr",
     "output_type": "stream",
     "text": [
      " 83%|█████████████████████████████████       | 972/1175 [00:36<00:07, 27.55it/s]"
     ]
    },
    {
     "name": "stdout",
     "output_type": "stream",
     "text": [
      "No prior records found for 966\n"
     ]
    },
    {
     "name": "stderr",
     "output_type": "stream",
     "text": [
      " 85%|█████████████████████████████████▊      | 993/1175 [00:37<00:06, 27.37it/s]"
     ]
    },
    {
     "name": "stdout",
     "output_type": "stream",
     "text": [
      "No prior records found for 989\n"
     ]
    },
    {
     "name": "stderr",
     "output_type": "stream",
     "text": [
      " 90%|███████████████████████████████████    | 1056/1175 [00:39<00:04, 27.57it/s]"
     ]
    },
    {
     "name": "stdout",
     "output_type": "stream",
     "text": [
      "No prior records found for 1052\n",
      "No prior records found for 1053\n"
     ]
    },
    {
     "name": "stderr",
     "output_type": "stream",
     "text": [
      "100%|██████████████████████████████████████▉| 1173/1175 [00:43<00:00, 27.36it/s]"
     ]
    },
    {
     "name": "stdout",
     "output_type": "stream",
     "text": [
      "No prior records found for 1167\n",
      "No prior records found for 1171\n",
      "No prior records found for 1172\n"
     ]
    },
    {
     "name": "stderr",
     "output_type": "stream",
     "text": [
      "100%|███████████████████████████████████████| 1175/1175 [00:43<00:00, 26.81it/s]\n"
     ]
    }
   ],
   "source": [
    "field_points = []\n",
    "\n",
    "for i in tqdm(range(0, len(df))):\n",
    "    if df.iloc[i][\"input_img\"].endswith(\".THM\"):\n",
    "        continue\n",
    "\n",
    "    # Get road coordinate\n",
    "    current_record = df.iloc[i]\n",
    "    road_coord = eval(current_record[\"coord\"])\n",
    "    road_10m_centroid = road_pixel_centroid(road_coord)\n",
    "\n",
    "    # Get prior coordinate\n",
    "    time1 = datetime.fromisoformat(current_record[\"time\"])\n",
    "    before_time_interval = time1 - timedelta(seconds=10)\n",
    "    time_filter = (df_country[\"time\"] < str(time1)) & (df_country[\"time\"] > str(before_time_interval))\n",
    "    prior_records = df_country[time_filter].sort_values(by=['time'])\n",
    "    if len(prior_records) == 0:\n",
    "        print(f\"No prior records found for {i}\")\n",
    "        continue\n",
    "    \n",
    "    prior_record = prior_records.iloc[-1]\n",
    "    prior_coord = eval(prior_record[\"coord\"])\n",
    "\n",
    "    # Get direction and field offset\n",
    "    output = generate_offset_point_wgs84(prior_coord, road_coord, is_right_hand_drive) \n",
    "    offset_field_coord, offset_field_pixel_centroid, driving_direction = output \n",
    "\n",
    "    field_points.append({\n",
    "        \"road_pixel_centroid\": road_10m_centroid,\n",
    "        \"is_right_hand_drive\": is_right_hand_drive,\n",
    "        \"driving_easting\": driving_direction[0],\n",
    "        \"driving_northing\": driving_direction[1],\n",
    "        \"offset_field_coord\": offset_field_coord,\n",
    "        \"offset_field_pixel_centroid\": offset_field_pixel_centroid,\n",
    "        \"time_computed\": datetime.now(),\n",
    "        **df.iloc[i],   \n",
    "    })\n",
    "    "
   ]
  },
  {
   "cell_type": "code",
   "execution_count": 15,
   "id": "07dfa4ec-75c8-4ff7-84d9-72028127aee8",
   "metadata": {},
   "outputs": [
    {
     "data": {
      "text/plain": [
       "1139"
      ]
     },
     "execution_count": 15,
     "metadata": {},
     "output_type": "execute_result"
    }
   ],
   "source": [
    "field_df = pd.DataFrame(field_points)\n",
    "len(field_df)"
   ]
  },
  {
   "cell_type": "markdown",
   "id": "c6ec56c2-7576-4b2d-95a7-7ab61d172289",
   "metadata": {},
   "source": [
    "## Filter Background"
   ]
  },
  {
   "cell_type": "code",
   "execution_count": 22,
   "id": "9f4bbc39-84c9-4a3a-84f6-583b08dce965",
   "metadata": {},
   "outputs": [
    {
     "name": "stdout",
     "output_type": "stream",
     "text": [
      "Before background filter: 1139\n",
      "After background filter: 326\n"
     ]
    }
   ],
   "source": [
    "field_df = pd.DataFrame(field_points)\n",
    "print(f\"Before background filter: {len(field_df)}\")\n",
    "\n",
    "# Only points with less than 95% background kept, upped to 97\n",
    "field_df = field_df[field_df[\"background\"] < 0.97 ].copy()\n",
    "print(f\"After background filter: {len(field_df)}\")"
   ]
  },
  {
   "cell_type": "markdown",
   "id": "3e016c49-723e-4611-a33c-5949f289543d",
   "metadata": {},
   "source": [
    "## Download images from Google Cloud\n",
    "\n",
    "**Assumption**: Unique file names."
   ]
  },
  {
   "cell_type": "code",
   "execution_count": 23,
   "id": "4a2b5a65-44b4-4d32-ae84-193751cea166",
   "metadata": {},
   "outputs": [],
   "source": [
    "Path(PREFIX).mkdir(exist_ok=True)"
   ]
  },
  {
   "cell_type": "code",
   "execution_count": 24,
   "id": "1b741305-e5b5-4c72-b4e3-f2883133e119",
   "metadata": {},
   "outputs": [],
   "source": [
    "file_list_str = \"\\n\".join(field_df[\"input_img\"].tolist())"
   ]
  },
  {
   "cell_type": "code",
   "execution_count": 25,
   "id": "cd6d8935-6ddf-4092-b955-336392479a4f",
   "metadata": {},
   "outputs": [],
   "source": [
    "Path(f\"{PREFIX}/images\").mkdir(exist_ok=True)"
   ]
  },
  {
   "cell_type": "code",
   "execution_count": 28,
   "id": "dc3a18ee-a365-40f5-bbf5-35de955c14be",
   "metadata": {},
   "outputs": [
    {
     "name": "stdout",
     "output_type": "stream",
     "text": [
      "\n",
      "\n",
      "Updates are available for some Google Cloud CLI components.  To install them,\n",
      "please run:\n",
      "  $ gcloud components update\n",
      "\n",
      "If you experience problems with multiprocessing on MacOS, they might be related to https://bugs.python.org/issue33725. You can disable multiprocessing by editing your .boto config or by adding the following flag to your command: `-o \"GSUtil:parallel_process_count=1\"`. Note that multithreading is still available even if you disable multiprocessing.\n",
      "\n",
      "Copying gs://street2sat-uploaded/KENYA_v2/2021_07_05_T2/GPAL4200.JPG...\n",
      "Copying gs://street2sat-uploaded/KENYA_v2/2021_07_05_T2/GPAL4201.JPG...         \n",
      "Copying gs://street2sat-uploaded/KENYA_v2/2021_07_05_T2/GPAL4202.JPG...         \n",
      "Copying gs://street2sat-uploaded/KENYA_v2/2021_07_05_T2/GPAL4203.JPG...         \n",
      "Copying gs://street2sat-uploaded/KENYA_v2/2021_07_05_T2/GPAL4204.JPG...         \n",
      "Copying gs://street2sat-uploaded/KENYA_v2/2021_07_05_T2/GPAL4205.JPG...         \n",
      "Copying gs://street2sat-uploaded/KENYA_v2/2021_07_05_T2/GPAL4206.JPG...         \n",
      "Copying gs://street2sat-uploaded/KENYA_v2/2021_07_05_T2/GPAL4207.JPG...         \n",
      "Copying gs://street2sat-uploaded/KENYA_v2/2021_07_05_T2/GPAL4279.JPG...         \n",
      "Copying gs://street2sat-uploaded/KENYA_v2/2021_07_05_T2/GPAL4280.JPG...         \n",
      "Copying gs://street2sat-uploaded/KENYA_v2/2021_07_05_T2/GPAL4281.JPG...         \n",
      "Copying gs://street2sat-uploaded/KENYA_v2/2021_07_05_T2/GPAL4325.JPG...         \n",
      "Copying gs://street2sat-uploaded/KENYA_v2/2021_07_05_T2/GPAQ6263.JPG...         \n",
      "Copying gs://street2sat-uploaded/KENYA_v2/2021_07_05_T2/GPAQ6392.JPG...         \n",
      "Copying gs://street2sat-uploaded/KENYA_v2/2021_07_05_T2/GPAQ6403.JPG...         \n",
      "Copying gs://street2sat-uploaded/KENYA_v2/2021_07_05_T2/GPAQ6404.JPG...         \n",
      "Copying gs://street2sat-uploaded/KENYA_v2/2021_07_05_T2/GPAQ6405.JPG...         \n",
      "Copying gs://street2sat-uploaded/KENYA_v2/2021_07_05_T2/GPAQ6418.JPG...         \n",
      "Copying gs://street2sat-uploaded/KENYA_v2/2021_07_05_T2/GPAQ6458.JPG...         \n",
      "Copying gs://street2sat-uploaded/KENYA_v2/2021_07_05_T2/GPAQ6459.JPG...         \n",
      "Copying gs://street2sat-uploaded/KENYA_v2/2021_07_05_T2/GPAQ6460.JPG...         \n",
      "Copying gs://street2sat-uploaded/KENYA_v2/2021_07_08_T2/GPGM2089.JPG...         \n",
      "Copying gs://street2sat-uploaded/KENYA_v2/2021_07_08_T2/GPGN2139.JPG...         \n",
      "Copying gs://street2sat-uploaded/KENYA_v2/2021_07_08_T2/GPGN2148.JPG...         \n",
      "Copying gs://street2sat-uploaded/KENYA_v2/2021_07_08_T2/GPGU2390.JPG...         \n",
      "Copying gs://street2sat-uploaded/KENYA_v2/2021_07_08_T2/GPGU2391.JPG...         \n",
      "Copying gs://street2sat-uploaded/KENYA_v2/2021_07_08_T2/GPGU2393.JPG...         \n",
      "Copying gs://street2sat-uploaded/KENYA_v2/2021_07_08_T2/GPGU2394.JPG...         \n",
      "Copying gs://street2sat-uploaded/KENYA_v2/2021_07_08_T2/GPGU2395.JPG...         \n",
      "Copying gs://street2sat-uploaded/KENYA_v2/2021_07_08_T2/GPGU2403.JPG...         \n",
      "Copying gs://street2sat-uploaded/KENYA_v2/2021_07_08_T2/GPGU2408.JPG...         \n",
      "Copying gs://street2sat-uploaded/KENYA_v2/2021_07_08_T2/GPGU2409.JPG...         \n",
      "Copying gs://street2sat-uploaded/KENYA_v2/2021_07_08_T2/GPGU2410.JPG...         \n",
      "Copying gs://street2sat-uploaded/KENYA_v2/2021_07_08_T2/GPGU2413.JPG...         \n",
      "Copying gs://street2sat-uploaded/KENYA_v2/2021_07_08_T2/GPGU2414.JPG...         \n",
      "Copying gs://street2sat-uploaded/KENYA_v2/2021_07_08_T2/GPGV2424.JPG...         \n",
      "Copying gs://street2sat-uploaded/KENYA_v2/2021_07_08_T2/GPGV2426.JPG...         \n",
      "Copying gs://street2sat-uploaded/KENYA_v2/2021_07_08_T2/GPGV2427.JPG...         \n",
      "Copying gs://street2sat-uploaded/KENYA_v2/2021_07_08_T2/GPGV2428.JPG...         \n",
      "Copying gs://street2sat-uploaded/KENYA_v2/2021_07_08_T2/GPGV2429.JPG...         \n",
      "Copying gs://street2sat-uploaded/KENYA_v2/2021_07_08_T2/GPGV2430.JPG...         \n",
      "Copying gs://street2sat-uploaded/KENYA_v2/2021_07_08_T2/GPGV2431.JPG...         \n",
      "Copying gs://street2sat-uploaded/KENYA_v2/2021_07_08_T2/GPGV2436.JPG...         \n",
      "Copying gs://street2sat-uploaded/KENYA_v2/2021_07_08_T2/GPGX2475.JPG...         \n",
      "Copying gs://street2sat-uploaded/KENYA_v2/2021_07_08_T2/GPGX2477.JPG...         \n",
      "Copying gs://street2sat-uploaded/KENYA_v2/2021_07_08_T2/GPHA2532.JPG...         \n",
      "Copying gs://street2sat-uploaded/KENYA_v2/2021_07_08_T2/GPHA2535.JPG...         \n",
      "Copying gs://street2sat-uploaded/KENYA_v2/2021_07_08_T2/GPHA2540.JPG...         \n",
      "Copying gs://street2sat-uploaded/KENYA_v2/2021_07_08_T2/GPHA2541.JPG...         \n",
      "Copying gs://street2sat-uploaded/KENYA_v2/2021_07_08_T2/GPHB2578.JPG...         \n",
      "Copying gs://street2sat-uploaded/KENYA_v2/2021_07_08_T2/GPHB2579.JPG...         \n",
      "Copying gs://street2sat-uploaded/KENYA_v2/2021_07_08_T2/GPHB2583.JPG...         \n",
      "Copying gs://street2sat-uploaded/KENYA_v2/2021_07_08_T2/GPHB2591.JPG...         \n",
      "Copying gs://street2sat-uploaded/KENYA_v2/2021_07_08_T2/GPHB2592.JPG...         \n",
      "Copying gs://street2sat-uploaded/KENYA_v2/2021_07_08_T2/GPHB2593.JPG...         \n",
      "Copying gs://street2sat-uploaded/KENYA_v2/2021_07_08_T2/GPHB2595.JPG...         \n",
      "Copying gs://street2sat-uploaded/KENYA_v2/2021_07_08_T2/GPHB2596.JPG...         \n",
      "Copying gs://street2sat-uploaded/KENYA_v2/2021_07_08_T2/GPHB2597.JPG...         \n",
      "Copying gs://street2sat-uploaded/KENYA_v2/2021_07_08_T2/GPHB2598.JPG...         \n",
      "Copying gs://street2sat-uploaded/KENYA_v2/2021_07_08_T2/GPHF2761.JPG...         \n",
      "Copying gs://street2sat-uploaded/KENYA_v2/2021_07_15_T2/103GOPRO/GPCT5940.JPG...\n",
      "Copying gs://street2sat-uploaded/KENYA_v2/2021_07_15_T2/103GOPRO/GPCT5942.JPG...\n",
      "Copying gs://street2sat-uploaded/KENYA_v2/2021_07_15_T2/103GOPRO/GPCT5943.JPG...\n",
      "Copying gs://street2sat-uploaded/KENYA_v2/2021_07_15_T2/103GOPRO/GPCT5944.JPG...\n",
      "Copying gs://street2sat-uploaded/KENYA_v2/2021_07_15_T2/103GOPRO/GPCT5945.JPG...\n",
      "Copying gs://street2sat-uploaded/KENYA_v2/2021_07_15_T2/103GOPRO/GPCT5947.JPG...\n",
      "Copying gs://street2sat-uploaded/KENYA_v2/2021_07_15_T2/103GOPRO/GPCV6070.JPG...\n",
      "Copying gs://street2sat-uploaded/KENYA_v2/2021_07_15_T2/103GOPRO/GPCV6072.JPG...\n",
      "Copying gs://street2sat-uploaded/KENYA_v2/2021_07_15_T2/103GOPRO/GPCV6075.JPG...\n",
      "Copying gs://street2sat-uploaded/KENYA_v2/2021_07_15_T2/104GOPRO/GPDI6898.JPG...\n",
      "Copying gs://street2sat-uploaded/KENYA_v2/2021_07_15_T2/104GOPRO/GPDI6917.JPG...\n",
      "Copying gs://street2sat-uploaded/KENYA_v2/2021_07_15_T2/104GOPRO/GPDJ6938.JPG...\n",
      "Copying gs://street2sat-uploaded/KENYA_v2/2021_07_15_T2/104GOPRO/GPDJ6939.JPG...\n",
      "Copying gs://street2sat-uploaded/KENYA_v2/2021_07_15_T2/104GOPRO/GPDJ6940.JPG...\n",
      "Copying gs://street2sat-uploaded/KENYA_v2/2021_07_15_T2/104GOPRO/GPDJ6941.JPG...\n",
      "Copying gs://street2sat-uploaded/KENYA_v2/2021_07_15_T2/104GOPRO/GPDM7016.JPG...\n",
      "Copying gs://street2sat-uploaded/KENYA_v2/2021_07_15_T2/104GOPRO/GPDN7026.JPG...\n",
      "Copying gs://street2sat-uploaded/KENYA_v2/2021_07_15_T2/104GOPRO/GPDN7031.JPG...\n",
      "Copying gs://street2sat-uploaded/KENYA_v2/2021_07_15_T2/104GOPRO/GPDN7036.JPG...\n",
      "Copying gs://street2sat-uploaded/KENYA_v2/2021_07_15_T2/104GOPRO/GPDN7063.JPG...\n",
      "Copying gs://street2sat-uploaded/KENYA_v2/2021_07_15_T2/104GOPRO/GPDN7065.JPG...\n",
      "Copying gs://street2sat-uploaded/KENYA_v2/2021_07_15_T2/104GOPRO/GPDN7067.JPG...\n",
      "Copying gs://street2sat-uploaded/KENYA_v2/2021_07_15_T2/104GOPRO/GPDN7069.JPG...\n",
      "Copying gs://street2sat-uploaded/KENYA_v2/2021_07_15_T2/104GOPRO/GPDR7155.JPG...\n",
      "Copying gs://street2sat-uploaded/KENYA_v2/2021_07_15_T2/104GOPRO/GPDR7156.JPG...\n",
      "Copying gs://street2sat-uploaded/KENYA_v2/2021_07_15_T2/104GOPRO/GPDT7223.JPG...\n",
      "Copying gs://street2sat-uploaded/KENYA_v2/2021_07_15_T2/104GOPRO/GPDT7224.JPG...\n",
      "Copying gs://street2sat-uploaded/KENYA_v2/2021_07_15_T2/104GOPRO/GPDT7225.JPG...\n",
      "Copying gs://street2sat-uploaded/KENYA_v2/2021_07_15_T2/104GOPRO/GPDT7226.JPG...\n",
      "Copying gs://street2sat-uploaded/KENYA_v2/2021_07_15_T2/104GOPRO/GPDT7227.JPG...\n",
      "Copying gs://street2sat-uploaded/KENYA_v2/2021_07_15_T2/104GOPRO/GPDT7228.JPG...\n",
      "Copying gs://street2sat-uploaded/KENYA_v2/2021_07_15_T2/104GOPRO/GPDT7229.JPG...\n",
      "Copying gs://street2sat-uploaded/KENYA_v2/2021_07_15_T2/104GOPRO/GPDT7230.JPG...\n",
      "Copying gs://street2sat-uploaded/KENYA_v2/2021_07_15_T2/104GOPRO/GPDT7231.JPG...\n",
      "Copying gs://street2sat-uploaded/KENYA_v2/2021_07_15_T2/104GOPRO/GPDT7232.JPG...\n",
      "Copying gs://street2sat-uploaded/KENYA_v2/2021_07_15_T2/104GOPRO/GPDU7273.JPG...\n",
      "Copying gs://street2sat-uploaded/KENYA_v2/2021_07_15_T2/104GOPRO/GPDU7274.JPG...\n",
      "Copying gs://street2sat-uploaded/KENYA_v2/2021_07_15_T2/104GOPRO/GPDU7275.JPG...\n",
      "Copying gs://street2sat-uploaded/KENYA_v2/2021_07_15_T2/104GOPRO/GPDU7290.JPG...\n",
      "Copying gs://street2sat-uploaded/KENYA_v2/2021_07_15_T2/104GOPRO/GPDV7298.JPG...\n",
      "Copying gs://street2sat-uploaded/KENYA_v2/2021_07_15_T2/104GOPRO/GPEA7526.JPG...\n",
      "Copying gs://street2sat-uploaded/KENYA_v2/2021_07_15_T2/104GOPRO/GPEB7532.JPG...\n",
      "Copying gs://street2sat-uploaded/KENYA_v2/2021_07_15_T2/104GOPRO/GPEB7533.JPG...\n",
      "Copying gs://street2sat-uploaded/KENYA_v2/2021_07_15_T2/104GOPRO/GPEB7534.JPG...\n",
      "Copying gs://street2sat-uploaded/KENYA_v2/2021_07_15_T2/104GOPRO/GPEB7535.JPG...\n",
      "Copying gs://street2sat-uploaded/KENYA_v2/2021_07_15_T2/104GOPRO/GPEB7536.JPG...\n",
      "Copying gs://street2sat-uploaded/KENYA_v2/2021_07_15_T2/104GOPRO/GPEB7537.JPG...\n",
      "Copying gs://street2sat-uploaded/KENYA_v2/2021_07_15_T2/104GOPRO/GPEB7538.JPG...\n",
      "Copying gs://street2sat-uploaded/KENYA_v2/2021_07_15_T2/104GOPRO/GPEB7539.JPG...\n",
      "Copying gs://street2sat-uploaded/KENYA_v2/2021_07_15_T2/104GOPRO/GPEB7540.JPG...\n",
      "Copying gs://street2sat-uploaded/KENYA_v2/2021_07_15_T2/104GOPRO/GPEB7541.JPG...\n",
      "Copying gs://street2sat-uploaded/KENYA_v2/2021_07_15_T2/104GOPRO/GPEB7542.JPG...\n",
      "Copying gs://street2sat-uploaded/KENYA_v2/2021_07_15_T2/104GOPRO/GPEB7543.JPG...\n",
      "Copying gs://street2sat-uploaded/KENYA_v2/2021_07_15_T2/104GOPRO/GPEB7544.JPG...\n",
      "Copying gs://street2sat-uploaded/KENYA_v2/2021_07_15_T2/104GOPRO/GPEB7545.JPG...\n",
      "Copying gs://street2sat-uploaded/KENYA_v2/2021_07_15_T2/104GOPRO/GPEB7546.JPG...\n",
      "Copying gs://street2sat-uploaded/KENYA_v2/2021_07_15_T2/104GOPRO/GPEB7547.JPG...\n",
      "Copying gs://street2sat-uploaded/KENYA_v2/2021_07_15_T2/104GOPRO/GPEB7550.JPG...\n",
      "Copying gs://street2sat-uploaded/KENYA_v2/2021_07_15_T2/104GOPRO/GPEB7551.JPG...\n",
      "Copying gs://street2sat-uploaded/KENYA_v2/2021_07_15_T2/104GOPRO/GPEB7552.JPG...\n",
      "Copying gs://street2sat-uploaded/KENYA_v2/2021_07_15_T2/104GOPRO/GPEB7553.JPG...\n",
      "Copying gs://street2sat-uploaded/KENYA_v2/2021_07_15_T2/104GOPRO/GPEB7554.JPG...\n",
      "Copying gs://street2sat-uploaded/KENYA_v2/2021_07_15_T2/104GOPRO/GPEB7555.JPG...\n",
      "Copying gs://street2sat-uploaded/KENYA_v2/2021_07_15_T2/104GOPRO/GPEB7556.JPG...\n",
      "Copying gs://street2sat-uploaded/KENYA_v2/2021_07_15_T2/104GOPRO/GPEB7557.JPG...\n",
      "Copying gs://street2sat-uploaded/KENYA_v2/2021_07_15_T2/104GOPRO/GPEB7558.JPG...\n",
      "Copying gs://street2sat-uploaded/KENYA_v2/2021_07_15_T2/104GOPRO/GPEB7559.JPG...\n",
      "Copying gs://street2sat-uploaded/KENYA_v2/2021_07_15_T2/104GOPRO/GPEB7560.JPG...\n",
      "Copying gs://street2sat-uploaded/KENYA_v2/2021_07_15_T2/104GOPRO/GPEB7561.JPG...\n",
      "Copying gs://street2sat-uploaded/KENYA_v2/2021_07_15_T2/104GOPRO/GPEB7562.JPG...\n",
      "Copying gs://street2sat-uploaded/KENYA_v2/2021_07_15_T2/104GOPRO/GPEB7563.JPG...\n",
      "Copying gs://street2sat-uploaded/KENYA_v2/2021_07_15_T2/104GOPRO/GPEB7564.JPG...\n",
      "Copying gs://street2sat-uploaded/KENYA_v2/2021_07_15_T2/104GOPRO/GPEB7565.JPG...\n",
      "Copying gs://street2sat-uploaded/KENYA_v2/2021_07_15_T2/104GOPRO/GPEB7566.JPG...\n",
      "Copying gs://street2sat-uploaded/KENYA_v2/2021_07_15_T2/104GOPRO/GPEB7567.JPG...\n",
      "Copying gs://street2sat-uploaded/KENYA_v2/2021_07_15_T2/104GOPRO/GPEB7568.JPG...\n",
      "Copying gs://street2sat-uploaded/KENYA_v2/2021_07_15_T2/104GOPRO/GPEB7569.JPG...\n",
      "Copying gs://street2sat-uploaded/KENYA_v2/2021_07_15_T2/104GOPRO/GPEB7570.JPG...\n",
      "Copying gs://street2sat-uploaded/KENYA_v2/2021_07_15_T2/104GOPRO/GPEB7571.JPG...\n",
      "Copying gs://street2sat-uploaded/KENYA_v2/2021_07_15_T2/104GOPRO/GPEB7572.JPG...\n",
      "Copying gs://street2sat-uploaded/KENYA_v2/2021_07_15_T2/104GOPRO/GPEB7573.JPG...\n",
      "Copying gs://street2sat-uploaded/KENYA_v2/2021_07_15_T2/104GOPRO/GPEB7574.JPG...\n",
      "Copying gs://street2sat-uploaded/KENYA_v2/2021_07_15_T2/104GOPRO/GPEB7575.JPG...\n",
      "Copying gs://street2sat-uploaded/KENYA_v2/2021_07_15_T2/104GOPRO/GPEB7576.JPG...\n",
      "Copying gs://street2sat-uploaded/KENYA_v2/2021_07_15_T2/104GOPRO/GPEB7577.JPG...\n",
      "Copying gs://street2sat-uploaded/KENYA_v2/2021_07_15_T2/104GOPRO/GPEB7578.JPG...\n",
      "Copying gs://street2sat-uploaded/KENYA_v2/2021_07_15_T2/104GOPRO/GPEB7579.JPG...\n",
      "Copying gs://street2sat-uploaded/KENYA_v2/2021_07_15_T2/104GOPRO/GPEB7580.JPG...\n",
      "Copying gs://street2sat-uploaded/KENYA_v2/2021_07_15_T2/104GOPRO/GPEB7581.JPG...\n",
      "Copying gs://street2sat-uploaded/KENYA_v2/2021_07_15_T2/104GOPRO/GPEB7582.JPG...\n",
      "Copying gs://street2sat-uploaded/KENYA_v2/2021_07_15_T2/104GOPRO/GPEB7583.JPG...\n",
      "Copying gs://street2sat-uploaded/KENYA_v2/2021_07_15_T2/104GOPRO/GPEB7584.JPG...\n",
      "Copying gs://street2sat-uploaded/KENYA_v2/2021_07_15_T2/104GOPRO/GPEB7585.JPG...\n",
      "Copying gs://street2sat-uploaded/KENYA_v2/2021_07_15_T2/104GOPRO/GPEB7586.JPG...\n",
      "Copying gs://street2sat-uploaded/KENYA_v2/2021_07_15_T2/104GOPRO/GPEB7588.JPG...\n",
      "Copying gs://street2sat-uploaded/KENYA_v2/2021_07_15_T2/104GOPRO/GPEB7589.JPG...\n",
      "Copying gs://street2sat-uploaded/KENYA_v2/2021_07_15_T2/104GOPRO/GPEB7590.JPG...\n",
      "Copying gs://street2sat-uploaded/KENYA_v2/2021_07_15_T2/104GOPRO/GPEB7592.JPG...\n",
      "Copying gs://street2sat-uploaded/KENYA_v2/2021_07_15_T2/104GOPRO/GPEB7597.JPG...\n",
      "Copying gs://street2sat-uploaded/KENYA_v2/2021_07_15_T2/104GOPRO/GPEC7652.JPG...\n",
      "Copying gs://street2sat-uploaded/KENYA_v2/2021_07_15_T2/105GOPRO/GPEK7906.JPG...\n",
      "Copying gs://street2sat-uploaded/KENYA_v2/2021_07_15_T2/105GOPRO/GPEK7914.JPG...\n",
      "Copying gs://street2sat-uploaded/KENYA_v2/2021_07_15_T2/105GOPRO/GPEL7943.JPG...\n",
      "Copying gs://street2sat-uploaded/KENYA_v2/2021_07_15_T2/105GOPRO/GPEL7944.JPG...\n",
      "Copying gs://street2sat-uploaded/KENYA_v2/2021_07_15_T2/105GOPRO/GPEM7953.JPG...\n",
      "Copying gs://street2sat-uploaded/KENYA_v2/2021_07_15_T2/105GOPRO/GPEM7954.JPG...\n",
      "Copying gs://street2sat-uploaded/KENYA_v2/2021_07_15_T2/105GOPRO/GPEM7955.JPG...\n",
      "Copying gs://street2sat-uploaded/KENYA_v2/2021_07_15_T2/105GOPRO/GPEM7956.JPG...\n",
      "Copying gs://street2sat-uploaded/KENYA_v2/2021_07_15_T2/105GOPRO/GPEM7957.JPG...\n",
      "Copying gs://street2sat-uploaded/KENYA_v2/2021_07_15_T2/105GOPRO/GPEM7958.JPG...\n",
      "Copying gs://street2sat-uploaded/KENYA_v2/2021_07_15_T2/105GOPRO/GPEM7959.JPG...\n",
      "Copying gs://street2sat-uploaded/KENYA_v2/2021_07_15_T2/105GOPRO/GPEN7965.JPG...\n",
      "Copying gs://street2sat-uploaded/KENYA_v2/2021_07_15_T2/105GOPRO/GPEP8024.JPG...\n",
      "Copying gs://street2sat-uploaded/KENYA_v2/2021_07_15_T2/105GOPRO/GPEP8054.JPG...\n",
      "Copying gs://street2sat-uploaded/KENYA_v2/2021_07_15_T2/105GOPRO/GPEP8055.JPG...\n",
      "Copying gs://street2sat-uploaded/KENYA_v2/2021_07_15_T2/105GOPRO/GPEP8056.JPG...\n",
      "Copying gs://street2sat-uploaded/KENYA_v2/2021_07_15_T2/105GOPRO/GPEP8057.JPG...\n",
      "Copying gs://street2sat-uploaded/KENYA_v2/2021_07_15_T2/105GOPRO/GPEP8060.JPG...\n",
      "Copying gs://street2sat-uploaded/KENYA_v2/2021_07_15_T2/105GOPRO/GPEP8061.JPG...\n",
      "Copying gs://street2sat-uploaded/KENYA_v2/2021_07_15_T2/105GOPRO/GPEP8062.JPG...\n",
      "Copying gs://street2sat-uploaded/KENYA_v2/2021_07_15_T2/105GOPRO/GPEP8063.JPG...\n",
      "Copying gs://street2sat-uploaded/KENYA_v2/2021_07_15_T2/105GOPRO/GPEP8064.JPG...\n",
      "Copying gs://street2sat-uploaded/KENYA_v2/2021_07_15_T2/105GOPRO/GPEP8065.JPG...\n",
      "Copying gs://street2sat-uploaded/KENYA_v2/2021_07_15_T2/105GOPRO/GPEP8066.JPG...\n",
      "Copying gs://street2sat-uploaded/KENYA_v2/2021_07_15_T2/105GOPRO/GPEP8067.JPG...\n",
      "Copying gs://street2sat-uploaded/KENYA_v2/2021_07_15_T2/105GOPRO/GPEP8068.JPG...\n",
      "Copying gs://street2sat-uploaded/KENYA_v2/2021_07_15_T2/105GOPRO/GPEQ8071.JPG...\n",
      "Copying gs://street2sat-uploaded/KENYA_v2/2021_07_15_T2/105GOPRO/GPEQ8072.JPG...\n",
      "Copying gs://street2sat-uploaded/KENYA_v2/2021_07_15_T2/105GOPRO/GPEQ8073.JPG...\n",
      "Copying gs://street2sat-uploaded/KENYA_v2/2021_07_15_T2/105GOPRO/GPEQ8074.JPG...\n",
      "Copying gs://street2sat-uploaded/KENYA_v2/2021_07_15_T2/105GOPRO/GPEQ8075.JPG...\n",
      "Copying gs://street2sat-uploaded/KENYA_v2/2021_07_15_T2/105GOPRO/GPEQ8076.JPG...\n",
      "Copying gs://street2sat-uploaded/KENYA_v2/2021_07_15_T2/105GOPRO/GPEQ8077.JPG...\n",
      "Copying gs://street2sat-uploaded/KENYA_v2/2021_07_15_T2/105GOPRO/GPEQ8078.JPG...\n",
      "Copying gs://street2sat-uploaded/KENYA_v2/2021_07_15_T2/105GOPRO/GPEQ8079.JPG...\n",
      "Copying gs://street2sat-uploaded/KENYA_v2/2021_07_15_T2/105GOPRO/GPEQ8080.JPG...\n",
      "Copying gs://street2sat-uploaded/KENYA_v2/2021_07_15_T2/105GOPRO/GPEQ8081.JPG...\n",
      "Copying gs://street2sat-uploaded/KENYA_v2/2021_07_15_T2/105GOPRO/GPEQ8082.JPG...\n",
      "Copying gs://street2sat-uploaded/KENYA_v2/2021_07_15_T2/105GOPRO/GPEQ8083.JPG...\n",
      "Copying gs://street2sat-uploaded/KENYA_v2/2021_07_15_T2/105GOPRO/GPEQ8084.JPG...\n",
      "Copying gs://street2sat-uploaded/KENYA_v2/2021_07_15_T2/105GOPRO/GPER8096.JPG...\n",
      "Copying gs://street2sat-uploaded/KENYA_v2/2021_07_15_T2/105GOPRO/GPER8097.JPG...\n",
      "Copying gs://street2sat-uploaded/KENYA_v2/2021_07_15_T2/105GOPRO/GPER8098.JPG...\n",
      "Copying gs://street2sat-uploaded/KENYA_v2/2021_07_15_T2/105GOPRO/GPEV8212.JPG...\n",
      "Copying gs://street2sat-uploaded/KENYA_v2/2021_07_15_T2/105GOPRO/GPEV8214.JPG...\n",
      "Copying gs://street2sat-uploaded/KENYA_v2/2021_07_15_T2/105GOPRO/GPEV8215.JPG...\n",
      "Copying gs://street2sat-uploaded/KENYA_v2/2021_07_15_T2/105GOPRO/GPEV8224.JPG...\n",
      "Copying gs://street2sat-uploaded/KENYA_v2/2021_07_15_T2/105GOPRO/GPEV8232.JPG...\n",
      "Copying gs://street2sat-uploaded/KENYA_v2/2021_07_15_T2/105GOPRO/GPEV8233.JPG...\n",
      "Copying gs://street2sat-uploaded/KENYA_v2/2021_07_15_T2/105GOPRO/GPEV8234.JPG...\n",
      "Copying gs://street2sat-uploaded/KENYA_v2/2021_07_15_T2/105GOPRO/GPEV8235.JPG...\n",
      "Copying gs://street2sat-uploaded/KENYA_v2/2021_07_15_T2/105GOPRO/GPEV8236.JPG...\n",
      "Copying gs://street2sat-uploaded/KENYA_v2/2021_07_15_T2/105GOPRO/GPEV8237.JPG...\n",
      "Copying gs://street2sat-uploaded/KENYA_v2/2021_07_15_T2/105GOPRO/GPEV8238.JPG...\n",
      "Copying gs://street2sat-uploaded/KENYA_v2/2021_07_15_T2/105GOPRO/GPEV8239.JPG...\n",
      "Copying gs://street2sat-uploaded/KENYA_v2/2021_07_15_T2/105GOPRO/GPEV8240.JPG...\n",
      "Copying gs://street2sat-uploaded/KENYA_v2/2021_07_15_T2/105GOPRO/GPEV8248.JPG...\n",
      "Copying gs://street2sat-uploaded/KENYA_v2/2021_07_15_T2/105GOPRO/GPEV8249.JPG...\n",
      "Copying gs://street2sat-uploaded/KENYA_v2/2021_07_15_T2/105GOPRO/GPEV8250.JPG...\n",
      "Copying gs://street2sat-uploaded/KENYA_v2/2021_07_15_T2/105GOPRO/GPEX8275.JPG...\n",
      "Copying gs://street2sat-uploaded/KENYA_v2/2021_07_15_T2/105GOPRO/GPEY8302.JPG...\n",
      "Copying gs://street2sat-uploaded/KENYA_v2/2021_07_15_T2/105GOPRO/GPFA8325.JPG...\n",
      "Copying gs://street2sat-uploaded/KENYA_v2/2021_07_15_T2/105GOPRO/GPFA8326.JPG...\n",
      "Copying gs://street2sat-uploaded/KENYA_v2/2021_07_15_T2/105GOPRO/GPFA8327.JPG...\n",
      "Copying gs://street2sat-uploaded/KENYA_v2/2021_07_15_T2/105GOPRO/GPFA8328.JPG...\n",
      "Copying gs://street2sat-uploaded/KENYA_v2/2021_07_15_T2/105GOPRO/GPFA8329.JPG...\n",
      "Copying gs://street2sat-uploaded/KENYA_v2/2021_07_15_T2/105GOPRO/GPFA8330.JPG...\n",
      "Copying gs://street2sat-uploaded/KENYA_v2/2021_07_15_T2/105GOPRO/GPFA8331.JPG...\n",
      "Copying gs://street2sat-uploaded/KENYA_v2/2021_07_15_T2/105GOPRO/GPFA8332.JPG...\n",
      "Copying gs://street2sat-uploaded/KENYA_v2/2021_07_15_T2/105GOPRO/GPFA8333.JPG...\n",
      "Copying gs://street2sat-uploaded/KENYA_v2/2021_07_15_T2/105GOPRO/GPFA8334.JPG...\n",
      "Copying gs://street2sat-uploaded/KENYA_v2/2021_07_15_T2/105GOPRO/GPFA8335.JPG...\n",
      "Copying gs://street2sat-uploaded/KENYA_v2/2021_07_15_T2/105GOPRO/GPFC8359.JPG...\n",
      "Copying gs://street2sat-uploaded/KENYA_v2/2021_07_15_T2/105GOPRO/GPFC8360.JPG...\n",
      "Copying gs://street2sat-uploaded/KENYA_v2/2021_07_15_T2/105GOPRO/GPFC8361.JPG...\n",
      "Copying gs://street2sat-uploaded/KENYA_v2/2021_07_15_T2/105GOPRO/GPFG8462.JPG...\n",
      "Copying gs://street2sat-uploaded/KENYA_v2/2021_07_15_T2/105GOPRO/GPFH8504.JPG...\n",
      "Copying gs://street2sat-uploaded/KENYA_v2/2021_07_15_T2/105GOPRO/GPFH8505.JPG...\n",
      "Copying gs://street2sat-uploaded/KENYA_v2/2021_07_15_T2/105GOPRO/GPFI8518.JPG...\n",
      "Copying gs://street2sat-uploaded/KENYA_v2/2021_07_15_T2/105GOPRO/GPFN8734.JPG...\n",
      "Copying gs://street2sat-uploaded/KENYA_v2/2021_07_15_T2/105GOPRO/GPFN8750.JPG...\n",
      "Copying gs://street2sat-uploaded/KENYA_v2/2021_07_15_T2/105GOPRO/GPFQ8851.JPG...\n",
      "Copying gs://street2sat-uploaded/KENYA_v2/2021_07_15_T2/105GOPRO/GPFQ8852.JPG...\n",
      "Copying gs://street2sat-uploaded/KENYA_v2/2021_07_15_T2/105GOPRO/GPFQ8854.JPG...\n",
      "Copying gs://street2sat-uploaded/KENYA_v2/2021_07_15_T2/105GOPRO/GPFQ8860.JPG...\n",
      "Copying gs://street2sat-uploaded/KENYA_v2/2021_07_15_T2/105GOPRO/GPFQ8861.JPG...\n",
      "Copying gs://street2sat-uploaded/KENYA_v2/2021_07_15_T2/105GOPRO/GPFQ8862.JPG...\n",
      "Copying gs://street2sat-uploaded/KENYA_v2/2021_07_15_T2/105GOPRO/GPFQ8863.JPG...\n",
      "Copying gs://street2sat-uploaded/KENYA_v2/2021_07_15_T2/105GOPRO/GPFQ8864.JPG...\n",
      "Copying gs://street2sat-uploaded/KENYA_v2/2021_07_15_T2/105GOPRO/GPFQ8865.JPG...\n",
      "Copying gs://street2sat-uploaded/KENYA_v2/2021_07_15_T2/105GOPRO/GPFQ8866.JPG...\n",
      "Copying gs://street2sat-uploaded/KENYA_v2/2021_07_15_T2/105GOPRO/GPFQ8867.JPG...\n",
      "Copying gs://street2sat-uploaded/KENYA_v2/2021_07_15_T2/105GOPRO/GPFQ8868.JPG...\n",
      "Copying gs://street2sat-uploaded/KENYA_v2/2021_07_15_T2/105GOPRO/GPFQ8869.JPG...\n",
      "Copying gs://street2sat-uploaded/KENYA_v2/2021_07_15_T2/105GOPRO/GPFQ8871.JPG...\n",
      "Copying gs://street2sat-uploaded/KENYA_v2/2021_07_15_T2/105GOPRO/GPFQ8872.JPG...\n",
      "Copying gs://street2sat-uploaded/KENYA_v2/2021_07_15_T2/105GOPRO/GPFQ8873.JPG...\n",
      "Copying gs://street2sat-uploaded/KENYA_v2/2021_07_15_T2/105GOPRO/GPFQ8874.JPG...\n",
      "Copying gs://street2sat-uploaded/KENYA_v2/2021_07_15_T2/105GOPRO/GPFQ8875.JPG...\n",
      "Copying gs://street2sat-uploaded/KENYA_v2/2021_07_15_T2/105GOPRO/GPFQ8876.JPG...\n",
      "Copying gs://street2sat-uploaded/KENYA_v2/2021_07_15_T2/105GOPRO/GPFQ8878.JPG...\n",
      "Copying gs://street2sat-uploaded/KENYA_v2/2021_07_15_T2/105GOPRO/GPFQ8879.JPG...\n",
      "Copying gs://street2sat-uploaded/KENYA_v2/2021_07_15_T2/105GOPRO/GPFQ8880.JPG...\n",
      "Copying gs://street2sat-uploaded/KENYA_v2/2021_07_15_T2/105GOPRO/GPFQ8881.JPG...\n",
      "Copying gs://street2sat-uploaded/KENYA_v2/2021_07_15_T2/105GOPRO/GPFQ8882.JPG...\n",
      "Copying gs://street2sat-uploaded/KENYA_v2/2021_07_15_T2/105GOPRO/GPFQ8887.JPG...\n",
      "Copying gs://street2sat-uploaded/KENYA_v2/2021_07_15_T2/105GOPRO/GPFQ8890.JPG...\n",
      "Copying gs://street2sat-uploaded/KENYA_v2/2021_07_15_T2/106GOPRO/GPFQ8911.JPG...\n",
      "Copying gs://street2sat-uploaded/KENYA_v2/2021_07_15_T2/106GOPRO/GPFQ8912.JPG...\n",
      "Copying gs://street2sat-uploaded/KENYA_v2/2021_07_15_T2/106GOPRO/GPFS8944.JPG...\n",
      "Copying gs://street2sat-uploaded/KENYA_v2/2021_07_15_T2/106GOPRO/GPFS8945.JPG...\n",
      "Copying gs://street2sat-uploaded/KENYA_v2/2021_07_15_T2/106GOPRO/GPFS8965.JPG...\n",
      "Copying gs://street2sat-uploaded/KENYA_v2/2021_07_15_T2/106GOPRO/GPFS8966.JPG...\n",
      "Copying gs://street2sat-uploaded/KENYA_v2/2021_07_15_T2/106GOPRO/GPFS8967.JPG...\n",
      "Copying gs://street2sat-uploaded/KENYA_v2/2021_07_15_T2/106GOPRO/GPFS8968.JPG...\n",
      "Copying gs://street2sat-uploaded/KENYA_v2/2021_07_15_T2/106GOPRO/GPFS8970.JPG...\n",
      "Copying gs://street2sat-uploaded/KENYA_v2/2021_07_15_T2/106GOPRO/GPFS8971.JPG...\n",
      "Copying gs://street2sat-uploaded/KENYA_v2/2021_07_15_T2/106GOPRO/GPFW9052.JPG...\n",
      "Copying gs://street2sat-uploaded/KENYA_v2/2021_07_16_T2/100GOPRO/GPAB9171.JPG...\n",
      "Copying gs://street2sat-uploaded/KENYA_v2/2021_07_16_T2/100GOPRO/GPAB9172.JPG...\n",
      "Copying gs://street2sat-uploaded/KENYA_v2/2021_07_16_T2/100GOPRO/GPAB9173.JPG...\n",
      "Copying gs://street2sat-uploaded/KENYA_v2/2021_07_16_T2/100GOPRO/GPAB9174.JPG...\n",
      "Copying gs://street2sat-uploaded/KENYA_v2/2021_07_16_T2/100GOPRO/GPAB9180.JPG...\n",
      "Copying gs://street2sat-uploaded/KENYA_v2/2021_07_16_T2/100GOPRO/GPAB9182.JPG...\n",
      "Copying gs://street2sat-uploaded/KENYA_v2/2021_07_16_T2/100GOPRO/GPAB9184.JPG...\n",
      "Copying gs://street2sat-uploaded/KENYA_v2/2021_07_16_T2/100GOPRO/GPAD9239.JPG...\n",
      "Copying gs://street2sat-uploaded/KENYA_v2/2021_07_16_T2/100GOPRO/GPAD9240.JPG...\n",
      "Copying gs://street2sat-uploaded/KENYA_v2/2021_07_16_T2/100GOPRO/GPAD9241.JPG...\n",
      "Copying gs://street2sat-uploaded/KENYA_v2/2021_07_16_T2/100GOPRO/GPAD9242.JPG...\n",
      "Copying gs://street2sat-uploaded/KENYA_v2/2021_07_16_T2/100GOPRO/GPAD9243.JPG...\n",
      "Copying gs://street2sat-uploaded/KENYA_v2/2021_07_16_T2/100GOPRO/GPAD9244.JPG...\n",
      "Copying gs://street2sat-uploaded/KENYA_v2/2021_07_16_T2/100GOPRO/GPAD9245.JPG...\n",
      "Copying gs://street2sat-uploaded/KENYA_v2/2021_07_16_T2/100GOPRO/GPAD9246.JPG...\n",
      "Copying gs://street2sat-uploaded/KENYA_v2/2021_07_16_T2/100GOPRO/GPAD9248.JPG...\n",
      "Copying gs://street2sat-uploaded/KENYA_v2/2021_07_16_T2/100GOPRO/GPAD9247.JPG...\n",
      "Copying gs://street2sat-uploaded/KENYA_v2/2021_07_16_T2/100GOPRO/GPAD9249.JPG...\n",
      "Copying gs://street2sat-uploaded/KENYA_v2/2021_07_16_T2/100GOPRO/GPAD9250.JPG...\n",
      "Copying gs://street2sat-uploaded/KENYA_v2/2021_07_16_T2/100GOPRO/GPAD9251.JPG...\n",
      "Copying gs://street2sat-uploaded/KENYA_v2/2021_07_16_T2/100GOPRO/GPAF9297.JPG...\n",
      "Copying gs://street2sat-uploaded/KENYA_v2/2021_07_16_T2/100GOPRO/GPAF9294.JPG...\n",
      "Copying gs://street2sat-uploaded/KENYA_v2/2021_07_16_T2/100GOPRO/GPAF9301.JPG...\n",
      "Copying gs://street2sat-uploaded/KENYA_v2/2021_07_16_T2/100GOPRO/GPAF9302.JPG...\n",
      "Copying gs://street2sat-uploaded/KENYA_v2/2021_07_16_T2/100GOPRO/GPAF9303.JPG...\n",
      "Copying gs://street2sat-uploaded/KENYA_v2/2021_07_16_T2/100GOPRO/GPAF9304.JPG...\n",
      "Copying gs://street2sat-uploaded/KENYA_v2/2021_07_16_T2/100GOPRO/GPAF9305.JPG...\n",
      "Copying gs://street2sat-uploaded/KENYA_v2/2021_07_16_T2/100GOPRO/GPAF9306.JPG...\n",
      "Copying gs://street2sat-uploaded/KENYA_v2/2021_07_16_T2/100GOPRO/GPAF9359.JPG...\n",
      "Copying gs://street2sat-uploaded/KENYA_v2/2021_07_16_T2/100GOPRO/GPAF9360.JPG...\n",
      "Copying gs://street2sat-uploaded/KENYA_v2/2021_07_16_T2/100GOPRO/GPAF9361.JPG...\n",
      "Copying gs://street2sat-uploaded/KENYA_v2/2021_07_16_T2/100GOPRO/GPAF9362.JPG...\n",
      "Copying gs://street2sat-uploaded/KENYA_v2/2021_07_16_T2/100GOPRO/GPAF9363.JPG...\n",
      "Copying gs://street2sat-uploaded/KENYA_v2/2021_07_16_T2/100GOPRO/GPAF9364.JPG...\n",
      "Copying gs://street2sat-uploaded/KENYA_v2/2021_07_16_T2/100GOPRO/GPAF9365.JPG...\n",
      "Copying gs://street2sat-uploaded/KENYA_v2/2021_07_16_T2/100GOPRO/GPAF9366.JPG...\n",
      "Copying gs://street2sat-uploaded/KENYA_v2/2021_07_16_T2/100GOPRO/GPAF9367.JPG...\n",
      "Copying gs://street2sat-uploaded/KENYA_v2/2021_07_16_T2/100GOPRO/GPAF9368.JPG...\n",
      "Copying gs://street2sat-uploaded/KENYA_v2/2021_07_16_T2/100GOPRO/GPAF9369.JPG...\n",
      "Copying gs://street2sat-uploaded/KENYA_v2/2021_07_16_T2/100GOPRO/GPAF9370.JPG...\n",
      "Copying gs://street2sat-uploaded/KENYA_v2/2021_07_16_T2/100GOPRO/GPAF9371.JPG...\n",
      "Copying gs://street2sat-uploaded/KENYA_v2/2021_07_16_T2/100GOPRO/GPAF9372.JPG...\n",
      "Copying gs://street2sat-uploaded/KENYA_v2/2021_07_16_T2/100GOPRO/GPAF9382.JPG...\n",
      "Copying gs://street2sat-uploaded/KENYA_v2/2021_07_16_T2/100GOPRO/GPAH9422.JPG...\n",
      "Copying gs://street2sat-uploaded/KENYA_v2/2021_07_16_T2/100GOPRO/GPAH9424.JPG...\n",
      "Copying gs://street2sat-uploaded/KENYA_v2/2021_07_16_T2/100GOPRO/GPAH9425.JPG...\n",
      "Copying gs://street2sat-uploaded/KENYA_v2/2021_07_16_T2/100GOPRO/GPAH9475.JPG...\n",
      "Copying gs://street2sat-uploaded/KENYA_v2/2021_07_16_T2/100GOPRO/GPAI9529.JPG...\n",
      "- [326/326 files][751.1 MiB/751.1 MiB] 100% Done 623.3 KiB/s ETA 00:00:00       \n",
      "Operation completed over 326 objects/751.1 MiB.                                  \n"
     ]
    }
   ],
   "source": [
    "!echo \"$file_list_str\" | gsutil -m cp -n -I $PREFIX/images"
   ]
  },
  {
   "cell_type": "markdown",
   "id": "1b755f6b-b89c-4b35-abbb-4aae1b86cce9",
   "metadata": {},
   "source": [
    "## Create KML"
   ]
  },
  {
   "cell_type": "code",
   "execution_count": 29,
   "id": "31fe64b9-fdfa-4027-ac30-8d92c4335e50",
   "metadata": {},
   "outputs": [
    {
     "data": {
      "text/plain": [
       "'../Kenya_ADM1_51331_Rift_Valley_ADM2_68769_Nandi_North'"
      ]
     },
     "execution_count": 29,
     "metadata": {},
     "output_type": "execute_result"
    }
   ],
   "source": [
    "PREFIX"
   ]
  },
  {
   "cell_type": "code",
   "execution_count": 30,
   "id": "c6fc19b7-5e25-42d8-9704-98c794067310",
   "metadata": {},
   "outputs": [],
   "source": [
    "field_df.to_csv(PREFIX + \".csv\", index=False)"
   ]
  },
  {
   "cell_type": "code",
   "execution_count": 35,
   "id": "a0aa66b7-0852-4932-b626-a772a4813956",
   "metadata": {},
   "outputs": [
    {
     "name": "stderr",
     "output_type": "stream",
     "text": [
      "126it [00:00, 1298.84it/s]\n"
     ]
    }
   ],
   "source": [
    "range_start = 200\n",
    "range_end = 327\n",
    "kml_document_name = PREFIX + f\"_97_background_{range_start}_{range_end}\"\n",
    "\n",
    "def create_description(record, image_path):\n",
    "    # Example input_img: gs://street2sat-uploaded/KENYA_v2/2021_07_16_T2/100GOPRO/GPAJ9576.JPG\n",
    "    endpoint = record[\"input_img\"].replace(\"gs://\", \"\")\n",
    "    \n",
    "    return f\"\"\"\n",
    "<img src='files/{Path(image_path).name}' width='900px'/>\n",
    "<br/>\n",
    "<h2>{record['name']}</h2>\n",
    "<p>Capture Time: {record['time']}</p>\n",
    "<a href='https://storage.cloud.google.com/{endpoint}'> \n",
    "    https://storage.cloud.google.com/{endpoint}\n",
    "</a>\n",
    "\n",
    "<h2>Location</h2>\n",
    "<p>ADM1: {record['ADM1 Label']}</p>\n",
    "<p>ADM2: {record['ADM2 Label']}</p>\n",
    "<p>Road Lat Lon: {record['coord']}</p>\n",
    "<p>Field Lat Lon:  {record[\"offset_field_pixel_centroid\"]}</p>\n",
    "\n",
    "\n",
    "<h2>Driving Direction</h2>\n",
    "<p>Northing: {record['driving_northing']}</p>\n",
    "<p>Easting: {record['driving_easting']}</p>\n",
    "<p>Is Right Hand Drive: {record['is_right_hand_drive']}</p>\n",
    "\n",
    "<h2>Crop Model Prediction</h2>\n",
    "<p>{record['results']}</p>\n",
    "\n",
    "\"\"\"\n",
    "\n",
    "kml = simplekml.Kml()\n",
    "kml.document.name = kml_document_name\n",
    "\n",
    "for _, record in tqdm(field_df[range_start:range_end].iterrows()):\n",
    "    latlon = record[\"offset_field_pixel_centroid\"]\n",
    "    image_path = f\"{PREFIX}/images/{Path(record['input_img']).name}\"\n",
    "    kml.newpoint(\n",
    "        coords=[(latlon[1], latlon[0])],  # lon, lat optional height\n",
    "        description=create_description(record, image_path),     \n",
    "        name=record[\"dominant_crop\"], \n",
    "        timestamp=record[\"time\"]\n",
    "    )  \n",
    "    kml.addfile(image_path)\n",
    "\n",
    "# Will take time if many images\n",
    "# Does not work with all images 1800\n",
    "kml.savekmz(f\"{kml_document_name}.kmz\", format=False) "
   ]
  },
  {
   "cell_type": "code",
   "execution_count": 26,
   "id": "57180df3-ad72-45d1-9e23-b600e569ec11",
   "metadata": {},
   "outputs": [],
   "source": [
    "!open ."
   ]
  },
  {
   "cell_type": "markdown",
   "id": "437f1977-e59c-447a-8134-3c756580066c",
   "metadata": {},
   "source": [
    "## [Optional] Create Geodataframes for Debugging "
   ]
  },
  {
   "cell_type": "code",
   "execution_count": 13,
   "id": "eb451d30-8a66-4aa1-9d44-6df547bc61c8",
   "metadata": {},
   "outputs": [],
   "source": [
    "field_df[\"key\"] = field_df[\"name\"]\n",
    "field_df[\"name\"] = field_df[\"dominant_crop\"]"
   ]
  },
  {
   "cell_type": "code",
   "execution_count": 14,
   "id": "aef873ac-aaa7-401e-9f55-422aead9c702",
   "metadata": {},
   "outputs": [],
   "source": [
    "def generate_gdf(cols, coords_col):\n",
    "    coords = field_df[coords_col]\n",
    "    if type(coords.iloc[0]) == str:\n",
    "        coords = coords.apply(eval)\n",
    "          \n",
    "    latlons = pd.DataFrame(coords.tolist(), columns=[\"lat\", \"lon\"])\n",
    "    points = gpd.points_from_xy(latlons[\"lon\"], latlons[\"lat\"], crs=\"EPSG:4326\")\n",
    "    gdf = gpd.GeoDataFrame(field_df[cols], geometry=points)\n",
    "    return gdf\n",
    "\n",
    "road_coord_cols = [\"input_img\", \"name\", \"time\", \"driving_easting\", \"driving_northing\", \"is_right_hand_drive\"] \n",
    "road_pixel_cols = [\"input_img\", \"name\", \"time\"] \n",
    "field_coord_cols = [\"input_img\", \"name\", \"time\", \"driving_easting\", \"driving_northing\", \"is_right_hand_drive\"] \n",
    "field_pixel_cols = [\"input_img\", \"name\", \"time\"]\n",
    "\n",
    "gdf_road_coord = generate_gdf(cols=road_coord_cols, coords_col=\"coord\")\n",
    "gdf_road_pixel = generate_gdf(cols=road_pixel_cols, coords_col=\"road_pixel_centroid\")\n",
    "gdf_field_coord = generate_gdf(cols=field_coord_cols, coords_col=\"offset_field_coord\")\n",
    "gdf_field_pixel = generate_gdf(cols=field_pixel_cols, coords_col=\"offset_field_pixel_centroid\")"
   ]
  },
  {
   "cell_type": "code",
   "execution_count": 15,
   "id": "cee94176-ca17-4068-985d-2d4b32c4209e",
   "metadata": {},
   "outputs": [],
   "source": [
    "gdf_road_coord.to_file(f\"{PREFIX}/{PREFIX}_road_coord.geojson\", driver=\"GeoJSON\")\n",
    "gdf_road_pixel.to_file(f\"{PREFIX}/{PREFIX}_road_pixel.geojson\", driver=\"GeoJSON\")\n",
    "gdf_field_coord.to_file(f\"{PREFIX}/{PREFIX}_field_coord.geojson\", driver=\"GeoJSON\")\n",
    "gdf_field_pixel.to_file(f\"{PREFIX}/{PREFIX}_field_pixel.geojson\", driver=\"GeoJSON\")"
   ]
  },
  {
   "cell_type": "code",
   "execution_count": null,
   "id": "fe63a7cf-4b14-461d-b8a5-4ace01205966",
   "metadata": {},
   "outputs": [],
   "source": []
  },
  {
   "cell_type": "code",
   "execution_count": null,
   "id": "4a1ef8cf-5242-47a9-b54d-61c248a551fe",
   "metadata": {},
   "outputs": [],
   "source": []
  }
 ],
 "metadata": {
  "kernelspec": {
   "display_name": "Python 3 (ipykernel)",
   "language": "python",
   "name": "python3"
  },
  "language_info": {
   "codemirror_mode": {
    "name": "ipython",
    "version": 3
   },
   "file_extension": ".py",
   "mimetype": "text/x-python",
   "name": "python",
   "nbconvert_exporter": "python",
   "pygments_lexer": "ipython3",
   "version": "3.9.12"
  }
 },
 "nbformat": 4,
 "nbformat_minor": 5
}
